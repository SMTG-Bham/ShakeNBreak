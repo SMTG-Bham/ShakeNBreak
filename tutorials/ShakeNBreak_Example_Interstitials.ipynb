{
 "cells": [
  {
   "cell_type": "markdown",
   "id": "1f4d70e2-5b1a-4e30-a449-7c89f25c14e1",
   "metadata": {},
   "source": [
    "# `SnB` Python API"
   ]
  },
  {
   "attachments": {},
   "cell_type": "markdown",
   "id": "84d142e3-a338-47c3-a41c-c540ddc607c9",
   "metadata": {},
   "source": [
    "## `ShakeNBreak` applied to Te interstitials in CdTe ($Te_{i}$)"
   ]
  },
  {
   "attachments": {},
   "cell_type": "markdown",
   "id": "a36f2ef1-07b3-42ac-8659-91968084360f",
   "metadata": {},
   "source": [
    "In this notebook we show how to generate interstitial defects using `doped`, and apply `ShakeNBreak` (`SnB`) to them. To see the full `ShakeNBreak` workflow, have a look at the notebook `ShakeNBreak_Example_Workflow.ipynb` (recommended to view it in the [SnB Python API tutorial](https://shakenbreak.readthedocs.io/en/latest/ShakeNBreak_Example_Workflow.html) docs page)."
   ]
  },
  {
   "attachments": {},
   "cell_type": "markdown",
   "id": "8619918b-226d-4e8c-aeb2-64cb89431bfb",
   "metadata": {
    "tags": []
   },
   "source": [
    "## Table of contents\n",
    "* [Generate defects with doped/pymatgen](#generate)\n",
    "* [Apply SnB to defects](#SnB)\n",
    "* [Send to HPCs and run calculations](#HPCs)"
   ]
  },
  {
   "cell_type": "code",
   "execution_count": 1,
   "id": "bc1b27ca-405b-4ecd-8bb7-00fc8703aeb0",
   "metadata": {
    "ExecuteTime": {
     "start_time": "2023-04-03T14:32:22.496337Z",
     "end_time": "2023-04-03T14:32:22.855641Z"
    }
   },
   "outputs": [
    {
     "name": "stdout",
     "output_type": "stream",
     "text": [
      "Pymatgen version: 2023.2.22\n",
      "Pymatgen-analysis-defects version: 2023.3.25\n",
      "Ase version: 3.22.1\n",
      "ShakeNBreak version: 23.2.8\n"
     ]
    }
   ],
   "source": [
    "import os\n",
    "import sys\n",
    "\n",
    "import ase\n",
    "import numpy as np\n",
    "import pymatgen\n",
    "from importlib_metadata import version\n",
    "\n",
    "import shakenbreak\n",
    "\n",
    "# Check versions\n",
    "print(\"Pymatgen version:\", version('pymatgen') )\n",
    "print(\"Pymatgen-analysis-defects version:\", version('pymatgen-analysis-defects') )\n",
    "print(\"Ase version:\", version('ase') )\n",
    "print(\"ShakeNBreak version:\", version('shakenbreak') )"
   ]
  },
  {
   "cell_type": "markdown",
   "id": "fe5e4891-fc66-44be-a65d-714664f0e8b2",
   "metadata": {
    "tags": []
   },
   "source": [
    "#### Rationale for `SnB`   "
   ]
  },
  {
   "cell_type": "markdown",
   "id": "59eab8c0-9b3f-4b99-8874-5c602c0b7038",
   "metadata": {
    "tags": []
   },
   "source": [
    "Defect distortions often follow the change in electron count when introducing that defect to the system. For the neutral Cd vacancy ($V_{Cd}^0$) for example, the removal of Cd and its two valence electrons means that local distortions are likely to involve two neighbouring Te atoms moving closer/further apart to accommodate the broken bonds. For the singly-charged vacancy, we are likely to have just one neighbouring Te moving, etc. This isn't always the case, but typically points us in the right direction to search the PES, and has been confirmed to yield the best performance (see SI of [_Identifying the ground state structures of point defects in solids_](https://www.nature.com/articles/s41524-023-00973-1) Mosquera-Lois, Kavanagh, Walsh and Scanlon 2022).\n",
    "\n",
    "So, the `SnB` method involves distorting the initial bond lengths around the defect for a mesh of trial distortions, with the number of neighbours to distort dictated by the change in valence electron count, performing coarse $\\Gamma$-only (`vasp_gam`) relaxations and then comparing the final energies, to see if we identify any lower energy defect structures."
   ]
  },
  {
   "cell_type": "markdown",
   "id": "91b3b187-39d4-41b6-b0e9-d5cd5dcafa22",
   "metadata": {},
   "source": [
    "<a id='generate'></a>"
   ]
  },
  {
   "attachments": {},
   "cell_type": "markdown",
   "id": "9a98b5d2-c17f-4d00-8a0f-b5dfe8997420",
   "metadata": {},
   "source": [
    "## 1. Generate defects with `doped`"
   ]
  },
  {
   "cell_type": "markdown",
   "source": [
    "When using `doped` to generate your defects, this should be done in a different `python` virtual environment to the one with `ShakeNBreak`, as they currently require different `pymatgen` versions due to major changes in the defects code. The recommended installation of `doped` in a virtual environment is described on the [`doped README`](https://github.com/SMTG-UCL/doped/).\n",
    "\n",
    "The easiest way to do this is to generate the defects in your `doped` environment (either in a separate notebook, or by restarting the `jupyter` server for the same notebook but in the `doped` environment), and then save these to a `json` file as shown below. Then, you can switch back to your `base`/`ShakeNBreak` environment and reload them to use with `ShakeNBreak` (shown later on below)."
   ],
   "metadata": {
    "collapsed": false
   }
  },
  {
   "cell_type": "code",
   "execution_count": 1,
   "outputs": [
    {
     "name": "stdout",
     "output_type": "stream",
     "text": [
      "Setting up vacancies\n",
      "Searching for Voronoi interstitial sites (this can take a little while)\n",
      "Found the interstital sites, setting up interstitials\n",
      "Defects generated:\n",
      "Vacancies    Potential Charge States    Supercell Site Multiplicity\n",
      "-----------  -------------------------  -----------------------------\n",
      "vac_1_Cd     [-2, -1, 0, 1, 2]          32\n",
      "vac_2_Te     [-2, -1, 0, 1, 2]          32 \n",
      "\n",
      "Interstitials    Potential Charge States        Supercell Site Multiplicity\n",
      "---------------  -----------------------------  -----------------------------\n",
      "inter_1_Cd       [0, 1, 2]                      1\n",
      "inter_2_Cd       [0, 1, 2]                      128\n",
      "inter_3_Cd       [0, 1, 2]                      32\n",
      "inter_4_Te       [-2, -1, 0, 1, 2, 3, 4, 5, 6]  32\n",
      "inter_5_Te       [-2, -1, 0, 1, 2, 3, 4, 5, 6]  128\n",
      "inter_6_Te       [-2, -1, 0, 1, 2, 3, 4, 5, 6]  1 \n",
      "\n"
     ]
    }
   ],
   "source": [
    "# To generate the Te interstitials with doped, we can use the code below.\n",
    "# Described in more detail on the doped example: https://github.com/SMTG-UCL/doped/blob/master/examples/dope_workflow_example.ipynb\n",
    "# As this requires pymatgen < 2022.8.23, we need to do it in a different `python` environment.\n",
    "\n",
    "from doped.pycdt.core.defectsmaker import ChargedDefectsStructures\n",
    "from pymatgen.core.structure import Structure\n",
    "\n",
    "# Specify perfect (bulk) supercell structure\n",
    "bulk_supercell = Structure.from_file(\"../tests/data/vasp/CdTe/CdTe_Bulk_Supercell_POSCAR\")\n",
    "\n",
    "# Let's generate the vacancies\n",
    "cds = ChargedDefectsStructures(\n",
    "    bulk_supercell,\n",
    "    cellmax=bulk_supercell.num_sites,\n",
    "    antisites_flag=False,  # Don't include antisites, as we only want to extract the Te interstitials here\n",
    ")\n",
    "doped_defect_dict = cds.defects"
   ],
   "metadata": {
    "collapsed": false,
    "ExecuteTime": {
     "start_time": "2023-04-03T14:25:33.681900Z",
     "end_time": "2023-04-03T14:27:16.368824Z"
    }
   }
  },
  {
   "cell_type": "code",
   "execution_count": 2,
   "outputs": [
    {
     "name": "stdout",
     "output_type": "stream",
     "text": [
      "Interstitials generated: ['inter_1_Cd', 'inter_2_Cd', 'inter_3_Cd', 'inter_4_Te', 'inter_5_Te', 'inter_6_Te']\n"
     ]
    }
   ],
   "source": [
    "print(\"Interstitials generated:\", [entry[\"name\"] for entry in doped_defect_dict[\"interstitials\"]])"
   ],
   "metadata": {
    "collapsed": false,
    "ExecuteTime": {
     "start_time": "2023-04-03T14:21:55.430066Z",
     "end_time": "2023-04-03T14:21:55.432058Z"
    }
   }
  },
  {
   "cell_type": "markdown",
   "source": [
    "We typically recommend to do Gamma-point relaxations for the neutral state of each generated interstitial candidate, and remove any that are high in energy (>1 eV above the lowest energy site) or that end up relaxing to the same final structure/energy as other interstitial sites.\n",
    "\n",
    "For demonstration purposes, here we'll focus on `inter_6_Te`, which has been found to be the lowest energy Te interstitial."
   ],
   "metadata": {
    "collapsed": false
   }
  },
  {
   "cell_type": "code",
   "execution_count": 3,
   "outputs": [],
   "source": [
    "# only using these species for example purpose:\n",
    "Te_i_dict = {\"interstitials\": [inter for inter in doped_defect_dict[\"interstitials\"] if inter[\"name\"] == \"inter_6_Te\"],\n",
    "             \"bulk\": doped_defect_dict[\"bulk\"]} # We need the bulk entry for later\n",
    "Te_i_dict[\"interstitials\"][0][\"charges\"] = [0,-1,-2]  # include only the 0, -1 and -2 charge states"
   ],
   "metadata": {
    "collapsed": false,
    "ExecuteTime": {
     "start_time": "2023-04-03T14:29:40.742386Z",
     "end_time": "2023-04-03T14:29:40.744664Z"
    }
   }
  },
  {
   "cell_type": "code",
   "execution_count": 4,
   "outputs": [],
   "source": [
    "# save our Te_i dict to file, so we can reload and use with ShakeNBreak:\n",
    "from monty.serialization import dumpfn\n",
    "dumpfn(Te_i_dict, \"../tests/data/vasp/CdTe/doped_Te_i_dict.json\")"
   ],
   "metadata": {
    "collapsed": false,
    "ExecuteTime": {
     "start_time": "2023-04-03T14:29:43.620446Z",
     "end_time": "2023-04-03T14:29:43.631061Z"
    }
   }
  },
  {
   "cell_type": "markdown",
   "source": [
    "We now switch back to our `base`/`ShakeNBreak` environment and reload these generated defects from the `json` file, to use with `ShakeNBreak`:"
   ],
   "metadata": {
    "collapsed": false
   }
  },
  {
   "cell_type": "code",
   "execution_count": 2,
   "outputs": [],
   "source": [
    "# After generating the doped defects dict in a different environment and saving it to json,\n",
    "# we load it in the ShakeNBreak environment:\n",
    "from monty.serialization import loadfn\n",
    "\n",
    "Te_i_dict = loadfn(\"../tests/data/vasp/CdTe/doped_Te_i_dict.json\")  # path to saved defects json file"
   ],
   "metadata": {
    "collapsed": false,
    "ExecuteTime": {
     "start_time": "2023-04-03T14:32:30.825787Z",
     "end_time": "2023-04-03T14:32:32.238874Z"
    }
   }
  },
  {
   "cell_type": "markdown",
   "source": [
    "<a id='SnB'></a>"
   ],
   "metadata": {
    "collapsed": false
   }
  },
  {
   "cell_type": "markdown",
   "id": "8c639b14-b7d4-415b-8c55-9e2a1a188923",
   "metadata": {
    "tags": []
   },
   "source": [
    "## 2. Apply the `SnB` method to your defects"
   ]
  },
  {
   "cell_type": "markdown",
   "id": "e3bc1607-5b55-4cc2-8167-0541e36d3e2e",
   "metadata": {},
   "source": [
    "The default settings and parameter choices in this package have been tested and have performed best thus far (i.e. wider distortion ranges leading to the ground-state structure with lowest computational cost) – see SI of [_Identifying the ground state structures of point defects in solids_](https://www.nature.com/articles/s41524-023-00973-1) Mosquera-Lois, Kavanagh, Walsh and Scanlon 2022.\n",
    "\n",
    "If you encounter improved performance with non-default parameter choices, we'd love to know! Please get in touch via GitHub or by email: sean.kavanagh.19@ucl.ac.uk & i.mosquera-lois22@imperial.ac.uk"
   ]
  },
  {
   "cell_type": "markdown",
   "id": "fd7ff166-b017-4228-b7a7-1cf3a23504a6",
   "metadata": {
    "tags": []
   },
   "source": [
    "If you are investigating defects in hard/ionic/magnetic/correlated materials, or systems involving spectator ions (like A in ABX$_3$), there are some extra considerations for boosting the performance & efficiency of `SnB` listed on the [Miscellaneous Tips & Tricks](https://shakenbreak.readthedocs.io/en/latest/Tips.html) docs page."
   ]
  },
  {
   "cell_type": "markdown",
   "id": "34c17b85-d067-4662-9bf3-7ef9f82fa330",
   "metadata": {
    "tags": []
   },
   "source": [
    "### 2.1 Generating distorted structures"
   ]
  },
  {
   "cell_type": "code",
   "execution_count": 3,
   "id": "3ff9be61-6cf8-48c0-bd35-6e8775b70158",
   "metadata": {
    "ExecuteTime": {
     "start_time": "2023-04-03T14:32:34.558816Z",
     "end_time": "2023-04-03T14:32:39.787700Z"
    }
   },
   "outputs": [],
   "source": [
    "from shakenbreak import energy_lowering_distortions, input\n",
    "from shakenbreak.input import Distortions"
   ]
  },
  {
   "cell_type": "code",
   "execution_count": 4,
   "id": "40013965-8d9f-4617-bc76-3ad8cd409e00",
   "metadata": {
    "tags": [],
    "ExecuteTime": {
     "start_time": "2023-04-03T14:32:39.789164Z",
     "end_time": "2023-04-03T14:32:39.962025Z"
    }
   },
   "outputs": [
    {
     "name": "stdout",
     "output_type": "stream",
     "text": [
      "Oxidation states were not explicitly set, thus have been guessed as {'Cd': 2.0, 'Te': -2.0}. If this is unreasonable you should manually set oxidation_states\n"
     ]
    }
   ],
   "source": [
    "# In order to determine the number of the defect nearest neighbours to distort (based on the change \n",
    "# in valence electrons mentioned above), SnB uses the oxidation states of atoms in our material:\n",
    "# If not specified, the code will guess these, otherwise you can specify as such:\n",
    "# oxidation_states = {\"Cd\": +2, \"Te\": -2}  # specify atom oxidation states\n",
    "\n",
    "# Create an instance of Distortion class with the defects and distortion parameters\n",
    "# If distortion parameters are not specified, the default values are used\n",
    "Dist = Distortions(defects=Te_i_dict)"
   ]
  },
  {
   "attachments": {},
   "cell_type": "markdown",
   "id": "792afcb1-9324-4de2-a2f4-0d2c060ecaa3",
   "metadata": {},
   "source": [
    "The `Distortions()` class is flexible to the user input, so can take single `pymatgen` `Defect` objects, a list of `Defect`s, or a dictionary of `Defect`s (in which case the dictionary keys are used as the defect names) as inputs.\n",
    "\n",
    "The defect dictionary output by `ChargedDefectStructures` in `doped` can also be used to initialise `Distortions`, as done in the previous cell above for Te interstitials.\n",
    "\n",
    "These possibilities as well as the optional distortion parameters are detailed in the `Distortions` class docstring:"
   ]
  },
  {
   "cell_type": "code",
   "execution_count": 7,
   "id": "84ec2e9a-4d89-4977-aab4-a9f7c28ad3ca",
   "metadata": {},
   "outputs": [
    {
     "data": {
      "text/plain": [
       "\u001B[0;31mInit signature:\u001B[0m\n",
       "\u001B[0mDistortions\u001B[0m\u001B[0;34m(\u001B[0m\u001B[0;34m\u001B[0m\n",
       "\u001B[0;34m\u001B[0m    \u001B[0mdefects\u001B[0m\u001B[0;34m:\u001B[0m \u001B[0mUnion\u001B[0m\u001B[0;34m[\u001B[0m\u001B[0mlist\u001B[0m\u001B[0;34m,\u001B[0m \u001B[0mdict\u001B[0m\u001B[0;34m]\u001B[0m\u001B[0;34m,\u001B[0m\u001B[0;34m\u001B[0m\n",
       "\u001B[0;34m\u001B[0m    \u001B[0moxidation_states\u001B[0m\u001B[0;34m:\u001B[0m \u001B[0mUnion\u001B[0m\u001B[0;34m[\u001B[0m\u001B[0mdict\u001B[0m\u001B[0;34m,\u001B[0m \u001B[0mNoneType\u001B[0m\u001B[0;34m]\u001B[0m \u001B[0;34m=\u001B[0m \u001B[0;32mNone\u001B[0m\u001B[0;34m,\u001B[0m\u001B[0;34m\u001B[0m\n",
       "\u001B[0;34m\u001B[0m    \u001B[0mpadding\u001B[0m\u001B[0;34m:\u001B[0m \u001B[0mint\u001B[0m \u001B[0;34m=\u001B[0m \u001B[0;36m1\u001B[0m\u001B[0;34m,\u001B[0m\u001B[0;34m\u001B[0m\n",
       "\u001B[0;34m\u001B[0m    \u001B[0mdict_number_electrons_user\u001B[0m\u001B[0;34m:\u001B[0m \u001B[0mUnion\u001B[0m\u001B[0;34m[\u001B[0m\u001B[0mdict\u001B[0m\u001B[0;34m,\u001B[0m \u001B[0mNoneType\u001B[0m\u001B[0;34m]\u001B[0m \u001B[0;34m=\u001B[0m \u001B[0;32mNone\u001B[0m\u001B[0;34m,\u001B[0m\u001B[0;34m\u001B[0m\n",
       "\u001B[0;34m\u001B[0m    \u001B[0mdistortion_increment\u001B[0m\u001B[0;34m:\u001B[0m \u001B[0mfloat\u001B[0m \u001B[0;34m=\u001B[0m \u001B[0;36m0.1\u001B[0m\u001B[0;34m,\u001B[0m\u001B[0;34m\u001B[0m\n",
       "\u001B[0;34m\u001B[0m    \u001B[0mbond_distortions\u001B[0m\u001B[0;34m:\u001B[0m \u001B[0mUnion\u001B[0m\u001B[0;34m[\u001B[0m\u001B[0mlist\u001B[0m\u001B[0;34m,\u001B[0m \u001B[0mNoneType\u001B[0m\u001B[0;34m]\u001B[0m \u001B[0;34m=\u001B[0m \u001B[0;32mNone\u001B[0m\u001B[0;34m,\u001B[0m\u001B[0;34m\u001B[0m\n",
       "\u001B[0;34m\u001B[0m    \u001B[0mlocal_rattle\u001B[0m\u001B[0;34m:\u001B[0m \u001B[0mbool\u001B[0m \u001B[0;34m=\u001B[0m \u001B[0;32mFalse\u001B[0m\u001B[0;34m,\u001B[0m\u001B[0;34m\u001B[0m\n",
       "\u001B[0;34m\u001B[0m    \u001B[0mdistorted_elements\u001B[0m\u001B[0;34m:\u001B[0m \u001B[0mUnion\u001B[0m\u001B[0;34m[\u001B[0m\u001B[0mdict\u001B[0m\u001B[0;34m,\u001B[0m \u001B[0mNoneType\u001B[0m\u001B[0;34m]\u001B[0m \u001B[0;34m=\u001B[0m \u001B[0;32mNone\u001B[0m\u001B[0;34m,\u001B[0m\u001B[0;34m\u001B[0m\n",
       "\u001B[0;34m\u001B[0m    \u001B[0;34m**\u001B[0m\u001B[0mmc_rattle_kwargs\u001B[0m\u001B[0;34m,\u001B[0m\u001B[0;34m\u001B[0m\n",
       "\u001B[0;34m\u001B[0m\u001B[0;34m)\u001B[0m\u001B[0;34m\u001B[0m\u001B[0;34m\u001B[0m\u001B[0m\n",
       "\u001B[0;31mDocstring:\u001B[0m     \n",
       "Class to apply rattle and bond distortion to all defects in `defects`\n",
       "(each defect as a pymatgen.analysis.defects.core.Defect() object).\n",
       "\u001B[0;31mInit docstring:\u001B[0m\n",
       "Args:\n",
       "    defects (:obj:`dict_or_list_or_Defect`):\n",
       "        List or dictionary of pymatgen.analysis.defects.core.Defect() objects.\n",
       "        E.g.: [Vacancy(), Interstitial(), Substitution(), ...], or single Defect().\n",
       "        In this case, generated defect folders will be named in the format:\n",
       "        \"{Defect.name}_m{Defect.multiplicity}\" for interstitials and\n",
       "        \"{Defect.name}_s{Defect.defect_site_index}\" for vacancies and substitutions.\n",
       "        The labels \"a\", \"b\", \"c\"... will be appended for defects with multiple\n",
       "        inequivalent sites.\n",
       "\n",
       "        Alternatively, if specific defect folder names are desired, `defects` can\n",
       "        be input as a dictionary in the format {\"defect name\": Defect()}.\n",
       "        E.g.: {\"vac_name\": Vacancy(), \"vac_2_name\": Vacancy(), ...,\n",
       "        \"int_name\": Interstitial(), \"sub_name\": Substitution(), ...}.\n",
       "\n",
       "        Defect charge states (from which bond distortions are determined) are\n",
       "        taken from the `Defect.user_charges` property. If this is not set,\n",
       "        charge states are set to the range: 0 – {Defect oxidation state}\n",
       "        with a `padding` (default = 1) on either side of this range.\n",
       "\n",
       "        Alternatively, a defects dict generated by `ChargedDefectStructures`\n",
       "        from `doped`/`PyCDT` can also be used as input, and the defect names\n",
       "        and charge states generated by these codes will be used\n",
       "        E.g.: {\"bulk\": {..}, \"vacancies\": [{...}, {...},], ...}\n",
       "    oxidation_states (:obj:`dict`):\n",
       "        Dictionary of oxidation states for species in your material,\n",
       "        used to determine the number of defect neighbours to distort\n",
       "        (e.g {\"Cd\": +2, \"Te\": -2}). If none is provided, the oxidation\n",
       "        states will be guessed based on the bulk composition and most\n",
       "        common oxidation states of any extrinsic species.\n",
       "    padding (:obj:`int`):\n",
       "        If `Defect.user_charges` is not set, charge states are set to\n",
       "        the range: 0 – {Defect oxidation state}, with a `padding`\n",
       "        (default = 1) on either side of this range.\n",
       "    dict_number_electrons_user (:obj:`dict`):\n",
       "        Optional argument to set the number of extra/missing charge\n",
       "        (negative of electron count change) for the input defects\n",
       "        in their neutral state, as a dictionary with format\n",
       "        {'defect_name': charge_change} where charge_change is the\n",
       "        negative of the number of extra/missing electrons.\n",
       "        (Default: None)\n",
       "    distortion_increment (:obj:`float`):\n",
       "        Bond distortion increment. Distortion factors will range from\n",
       "        0 to +/-0.6, in increments of `distortion_increment`.\n",
       "        Recommended values: 0.1-0.3\n",
       "        (Default: 0.1)\n",
       "    bond_distortions (:obj:`list`):\n",
       "        List of bond distortions to apply to nearest neighbours,\n",
       "        instead of the default set (e.g. [-0.5, 0.5]).\n",
       "        (Default: None)\n",
       "    local_rattle (:obj:`bool`):\n",
       "        Whether to apply random displacements that tail off as we move\n",
       "        away from the defect site. Not recommended as typically worsens\n",
       "        performance. If False (default), all supercell sites are rattled\n",
       "        with the same amplitude (full rattle).\n",
       "        (Default: False)\n",
       "    distorted_elements (:obj:`dict`):\n",
       "        Optional argument to specify the neighbouring elements to\n",
       "        distort for each defect, in the form of a dictionary with\n",
       "        format {'defect_name': ['element1', 'element2', ...]}\n",
       "        (e.g {'vac_1_Cd': ['Te']}). If None, the closest neighbours to\n",
       "        the defect are chosen.\n",
       "        (Default: None)\n",
       "    **mc_rattle_kwargs:\n",
       "        Additional keyword arguments to pass to `hiphive`'s\n",
       "        `mc_rattle` function. These include:\n",
       "        - stdev (:obj:`float`):\n",
       "            Standard deviation (in Angstroms) of the Gaussian distribution\n",
       "            from which random atomic displacement distances are drawn during\n",
       "            rattling. Default is set to 10% of the nearest neighbour distance\n",
       "            in the bulk supercell.\n",
       "        - d_min (:obj:`float`):\n",
       "            Minimum interatomic distance (in Angstroms) in the rattled\n",
       "            structure. Monte Carlo rattle moves that put atoms at distances\n",
       "            less than this will be heavily penalised. Default is to set this\n",
       "            to 80% of the nearest neighbour distance in the bulk supercell.\n",
       "        - max_disp (:obj:`float`):\n",
       "            Maximum atomic displacement (in Angstroms) during Monte Carlo\n",
       "            rattling. Rarely occurs and is used primarily as a safety net.\n",
       "            (Default: 2.0)\n",
       "        - max_attempts (:obj:`int`):\n",
       "            Limit for how many attempted rattle moves are allowed a single atom.\n",
       "        - active_atoms (:obj:`list`):\n",
       "            List of the atomic indices which should undergo Monte\n",
       "            Carlo rattling. By default, all atoms are rattled.\n",
       "            (Default: None)\n",
       "        - seed (:obj:`int`):\n",
       "            Seed from which rattle random displacements are generated. Default\n",
       "            is to set seed = int(distortion_factor*100) (i.e. +40% distortion ->\n",
       "            distortion_factor = 1.4 -> seed = 140, Rattled ->\n",
       "            distortion_factor = 1 (no bond distortion) -> seed = 100)\n",
       "\u001B[0;31mFile:\u001B[0m           ~/Library/CloudStorage/OneDrive-ImperialCollegeLondon/Bread/Projects/Packages/ShakeNBreak/shakenbreak/input.py\n",
       "\u001B[0;31mType:\u001B[0m           type\n",
       "\u001B[0;31mSubclasses:\u001B[0m     \n"
      ]
     },
     "metadata": {},
     "output_type": "display_data"
    }
   ],
   "source": [
    "Distortions?"
   ]
  },
  {
   "cell_type": "code",
   "execution_count": 5,
   "outputs": [
    {
     "name": "stdout",
     "output_type": "stream",
     "text": [
      "Bond distortions: [-0.6, -0.5, -0.4, -0.3, -0.2, -0.1, 0.0, 0.1, 0.2, 0.3, 0.4, 0.5, 0.6]\n",
      "Rattle standard deviation: 0.28 Å\n"
     ]
    }
   ],
   "source": [
    "# We can check the distortion parameters using some of the class properties\n",
    "print(f\"Bond distortions: {Dist.bond_distortions}\")\n",
    "print(f\"Rattle standard deviation: {Dist.stdev:.2f} Å\")  # set to 10% of the bulk bond length by default, typically a reasonable value"
   ],
   "metadata": {
    "collapsed": false,
    "ExecuteTime": {
     "start_time": "2023-04-03T14:33:13.439825Z",
     "end_time": "2023-04-03T14:33:13.441694Z"
    }
   }
  },
  {
   "cell_type": "code",
   "execution_count": 6,
   "id": "52f9e11b",
   "metadata": {
    "ExecuteTime": {
     "start_time": "2023-04-03T14:33:16.902709Z",
     "end_time": "2023-04-03T14:33:16.909203Z"
    }
   },
   "outputs": [
    {
     "name": "stdout",
     "output_type": "stream",
     "text": [
      "User defined elements to distort: None\n"
     ]
    }
   ],
   "source": [
    "# You can restrict the ions that are distorted to a certain element using the keyword distorted_elements\n",
    "# We can check it using the class attribute\n",
    "print(\"User defined elements to distort:\", Dist.distorted_elements)\n",
    "# If None, it means no restrictions so nearest neighbours are distorted (recommended default, \n",
    "# unless you have reason to suspect otherwise; see shakenbreak.readthedocs.io/en/latest/Tips.html)"
   ]
  },
  {
   "cell_type": "markdown",
   "id": "05933591",
   "metadata": {},
   "source": [
    "If we're only interested in generating distorted structures, but not in writing `VASP`/other codes input files, we can use the class method `Distortions.apply_distortions()` to do this."
   ]
  },
  {
   "cell_type": "code",
   "execution_count": 7,
   "id": "87a095a8",
   "metadata": {
    "ExecuteTime": {
     "start_time": "2023-04-03T14:33:22.805614Z",
     "end_time": "2023-04-03T14:33:24.364965Z"
    }
   },
   "outputs": [
    {
     "name": "stdout",
     "output_type": "stream",
     "text": [
      "Applying ShakeNBreak... Will apply the following bond distortions: ['-0.6', '-0.5', '-0.4', '-0.3', '-0.2', '-0.1', '0.0', '0.1', '0.2', '0.3', '0.4', '0.5', '0.6']. Then, will rattle with a std dev of 0.28 Å \n",
      "\n",
      "\u001B[1m\n",
      "Defect: inter_6_Te\u001B[0m\n",
      "\u001B[1mNumber of missing electrons in neutral state: 2\u001B[0m\n",
      "\n",
      "Defect inter_6_Te in charge state: 0. Number of distorted neighbours: 2\n",
      "\n",
      "Defect inter_6_Te in charge state: -1. Number of distorted neighbours: 1\n",
      "\n",
      "Defect inter_6_Te in charge state: -2. Number of distorted neighbours: 0\n"
     ]
    }
   ],
   "source": [
    "defects_dict, distortion_metadata = Dist.apply_distortions()"
   ]
  },
  {
   "cell_type": "code",
   "execution_count": 8,
   "id": "f07375f6",
   "metadata": {
    "ExecuteTime": {
     "start_time": "2023-04-03T14:33:36.370757Z",
     "end_time": "2023-04-03T14:33:36.388050Z"
    }
   },
   "outputs": [
    {
     "data": {
      "text/plain": "dict_keys(['defect_type', 'defect_site', 'defect_supercell_site', 'defect_multiplicity', 'charges'])"
     },
     "execution_count": 8,
     "metadata": {},
     "output_type": "execute_result"
    }
   ],
   "source": [
    "defects_dict[\"inter_6_Te\"].keys()"
   ]
  },
  {
   "cell_type": "code",
   "execution_count": 10,
   "id": "e1903b20",
   "metadata": {
    "tags": [
     "output_scroll"
    ],
    "ExecuteTime": {
     "start_time": "2023-04-03T14:33:45.489538Z",
     "end_time": "2023-04-03T14:33:45.507706Z"
    }
   },
   "outputs": [
    {
     "name": "stdout",
     "output_type": "stream",
     "text": [
      "Keys for each defect entry: dict_keys(['defect_type', 'defect_site', 'defect_supercell_site', 'defect_multiplicity', 'charges'])\n",
      "\n",
      "Undistorted and distorted structures:\n"
     ]
    },
    {
     "data": {
      "text/plain": "{'Unperturbed': Structure Summary\n Lattice\n     abc : 13.086768 13.086768 13.086768\n  angles : 90.0 90.0 90.0\n  volume : 2241.2856479961474\n       A : 13.086768 0.0 0.0\n       B : 0.0 13.086768 0.0\n       C : 0.0 0.0 13.086768\n     pbc : True True True\n PeriodicSite: Te4+ (11.4509, 1.6358, 11.4509) [0.8750, 0.1250, 0.8750]\n PeriodicSite: Cd2+ (0.0000, 0.0000, 0.0000) [0.0000, 0.0000, 0.0000]\n PeriodicSite: Cd2+ (0.0000, 0.0000, 6.5434) [0.0000, 0.0000, 0.5000]\n PeriodicSite: Cd2+ (0.0000, 6.5434, 0.0000) [0.0000, 0.5000, 0.0000]\n PeriodicSite: Cd2+ (0.0000, 6.5434, 6.5434) [0.0000, 0.5000, 0.5000]\n PeriodicSite: Cd2+ (6.5434, 0.0000, 0.0000) [0.5000, 0.0000, 0.0000]\n PeriodicSite: Cd2+ (6.5434, 0.0000, 6.5434) [0.5000, 0.0000, 0.5000]\n PeriodicSite: Cd2+ (6.5434, 6.5434, 0.0000) [0.5000, 0.5000, 0.0000]\n PeriodicSite: Cd2+ (6.5434, 6.5434, 6.5434) [0.5000, 0.5000, 0.5000]\n PeriodicSite: Cd2+ (0.0000, 3.2717, 3.2717) [0.0000, 0.2500, 0.2500]\n PeriodicSite: Cd2+ (0.0000, 3.2717, 9.8151) [0.0000, 0.2500, 0.7500]\n PeriodicSite: Cd2+ (0.0000, 9.8151, 3.2717) [0.0000, 0.7500, 0.2500]\n PeriodicSite: Cd2+ (0.0000, 9.8151, 9.8151) [0.0000, 0.7500, 0.7500]\n PeriodicSite: Cd2+ (6.5434, 3.2717, 3.2717) [0.5000, 0.2500, 0.2500]\n PeriodicSite: Cd2+ (6.5434, 3.2717, 9.8151) [0.5000, 0.2500, 0.7500]\n PeriodicSite: Cd2+ (6.5434, 9.8151, 3.2717) [0.5000, 0.7500, 0.2500]\n PeriodicSite: Cd2+ (6.5434, 9.8151, 9.8151) [0.5000, 0.7500, 0.7500]\n PeriodicSite: Cd2+ (3.2717, 0.0000, 3.2717) [0.2500, 0.0000, 0.2500]\n PeriodicSite: Cd2+ (3.2717, 0.0000, 9.8151) [0.2500, 0.0000, 0.7500]\n PeriodicSite: Cd2+ (3.2717, 6.5434, 3.2717) [0.2500, 0.5000, 0.2500]\n PeriodicSite: Cd2+ (3.2717, 6.5434, 9.8151) [0.2500, 0.5000, 0.7500]\n PeriodicSite: Cd2+ (9.8151, 0.0000, 3.2717) [0.7500, 0.0000, 0.2500]\n PeriodicSite: Cd2+ (9.8151, 0.0000, 9.8151) [0.7500, 0.0000, 0.7500]\n PeriodicSite: Cd2+ (9.8151, 6.5434, 3.2717) [0.7500, 0.5000, 0.2500]\n PeriodicSite: Cd2+ (9.8151, 6.5434, 9.8151) [0.7500, 0.5000, 0.7500]\n PeriodicSite: Cd2+ (3.2717, 3.2717, 0.0000) [0.2500, 0.2500, 0.0000]\n PeriodicSite: Cd2+ (3.2717, 3.2717, 6.5434) [0.2500, 0.2500, 0.5000]\n PeriodicSite: Cd2+ (3.2717, 9.8151, 0.0000) [0.2500, 0.7500, 0.0000]\n PeriodicSite: Cd2+ (3.2717, 9.8151, 6.5434) [0.2500, 0.7500, 0.5000]\n PeriodicSite: Cd2+ (9.8151, 3.2717, 0.0000) [0.7500, 0.2500, 0.0000]\n PeriodicSite: Cd2+ (9.8151, 3.2717, 6.5434) [0.7500, 0.2500, 0.5000]\n PeriodicSite: Cd2+ (9.8151, 9.8151, 0.0000) [0.7500, 0.7500, 0.0000]\n PeriodicSite: Cd2+ (9.8151, 9.8151, 6.5434) [0.7500, 0.7500, 0.5000]\n PeriodicSite: Te2- (1.6358, 1.6358, 4.9075) [0.1250, 0.1250, 0.3750]\n PeriodicSite: Te2- (1.6358, 1.6358, 11.4509) [0.1250, 0.1250, 0.8750]\n PeriodicSite: Te2- (1.6358, 8.1792, 4.9075) [0.1250, 0.6250, 0.3750]\n PeriodicSite: Te2- (1.6358, 8.1792, 11.4509) [0.1250, 0.6250, 0.8750]\n PeriodicSite: Te2- (8.1792, 1.6358, 4.9075) [0.6250, 0.1250, 0.3750]\n PeriodicSite: Te2- (8.1792, 1.6358, 11.4509) [0.6250, 0.1250, 0.8750]\n PeriodicSite: Te2- (8.1792, 8.1792, 4.9075) [0.6250, 0.6250, 0.3750]\n PeriodicSite: Te2- (8.1792, 8.1792, 11.4509) [0.6250, 0.6250, 0.8750]\n PeriodicSite: Te2- (1.6358, 4.9075, 1.6358) [0.1250, 0.3750, 0.1250]\n PeriodicSite: Te2- (1.6358, 4.9075, 8.1792) [0.1250, 0.3750, 0.6250]\n PeriodicSite: Te2- (1.6358, 11.4509, 1.6358) [0.1250, 0.8750, 0.1250]\n PeriodicSite: Te2- (1.6358, 11.4509, 8.1792) [0.1250, 0.8750, 0.6250]\n PeriodicSite: Te2- (8.1792, 4.9075, 1.6358) [0.6250, 0.3750, 0.1250]\n PeriodicSite: Te2- (8.1792, 4.9075, 8.1792) [0.6250, 0.3750, 0.6250]\n PeriodicSite: Te2- (8.1792, 11.4509, 1.6358) [0.6250, 0.8750, 0.1250]\n PeriodicSite: Te2- (8.1792, 11.4509, 8.1792) [0.6250, 0.8750, 0.6250]\n PeriodicSite: Te2- (4.9075, 1.6358, 1.6358) [0.3750, 0.1250, 0.1250]\n PeriodicSite: Te2- (4.9075, 1.6358, 8.1792) [0.3750, 0.1250, 0.6250]\n PeriodicSite: Te2- (4.9075, 8.1792, 1.6358) [0.3750, 0.6250, 0.1250]\n PeriodicSite: Te2- (4.9075, 8.1792, 8.1792) [0.3750, 0.6250, 0.6250]\n PeriodicSite: Te2- (11.4509, 1.6358, 1.6358) [0.8750, 0.1250, 0.1250]\n PeriodicSite: Te2- (11.4509, 1.6358, 8.1792) [0.8750, 0.1250, 0.6250]\n PeriodicSite: Te2- (11.4509, 8.1792, 1.6358) [0.8750, 0.6250, 0.1250]\n PeriodicSite: Te2- (11.4509, 8.1792, 8.1792) [0.8750, 0.6250, 0.6250]\n PeriodicSite: Te2- (4.9075, 4.9075, 4.9075) [0.3750, 0.3750, 0.3750]\n PeriodicSite: Te2- (4.9075, 4.9075, 11.4509) [0.3750, 0.3750, 0.8750]\n PeriodicSite: Te2- (4.9075, 11.4509, 4.9075) [0.3750, 0.8750, 0.3750]\n PeriodicSite: Te2- (4.9075, 11.4509, 11.4509) [0.3750, 0.8750, 0.8750]\n PeriodicSite: Te2- (11.4509, 4.9075, 4.9075) [0.8750, 0.3750, 0.3750]\n PeriodicSite: Te2- (11.4509, 4.9075, 11.4509) [0.8750, 0.3750, 0.8750]\n PeriodicSite: Te2- (11.4509, 11.4509, 4.9075) [0.8750, 0.8750, 0.3750]\n PeriodicSite: Te2- (11.4509, 11.4509, 11.4509) [0.8750, 0.8750, 0.8750],\n 'distortions': {'Bond_Distortion_-60.0%': Structure Summary\n  Lattice\n      abc : 13.086768 13.086768 13.086768\n   angles : 90.0 90.0 90.0\n   volume : 2241.2856479961474\n        A : 13.086768 0.0 0.0\n        B : 0.0 13.086768 0.0\n        C : 0.0 0.0 13.086768\n      pbc : True True True\n  PeriodicSite: Te4+ (11.4509, 1.6358, 11.4509) [0.8750, 0.1250, 0.8750]\n  PeriodicSite: Cd2+ (-0.9815, 0.9815, -0.9815) [-0.0750, 0.0750, -0.0750]\n  PeriodicSite: Cd2+ (0.0896, 0.2795, 6.4999) [0.0068, 0.0214, 0.4967]\n  PeriodicSite: Cd2+ (0.0402, 6.9234, -0.0431) [0.0031, 0.5290, -0.0033]\n  PeriodicSite: Cd2+ (-0.1846, 6.6192, 6.3321) [-0.0141, 0.5058, 0.4839]\n  PeriodicSite: Cd2+ (6.6254, 0.2106, -0.3562) [0.5063, 0.0161, -0.0272]\n  PeriodicSite: Cd2+ (6.4710, 0.2184, 6.1241) [0.4945, 0.0167, 0.4680]\n  PeriodicSite: Cd2+ (7.0550, 6.7073, -0.1046) [0.5391, 0.5125, -0.0080]\n  PeriodicSite: Cd2+ (6.4008, 6.2229, 6.4269) [0.4891, 0.4755, 0.4911]\n  PeriodicSite: Cd2+ (0.0200, 3.1757, 3.1086) [0.0015, 0.2427, 0.2375]\n  PeriodicSite: Cd2+ (-0.9815, 2.2902, 10.7966) [-0.0750, 0.1750, 0.8250]\n  PeriodicSite: Cd2+ (0.0873, 9.8431, 2.7443) [0.0067, 0.7521, 0.2097]\n  PeriodicSite: Cd2+ (0.1104, 9.4848, 9.6328) [0.0084, 0.7248, 0.7361]\n  PeriodicSite: Cd2+ (6.3109, 2.9174, 3.4099) [0.4822, 0.2229, 0.2606]\n  PeriodicSite: Cd2+ (6.4794, 3.3194, 9.6321) [0.4951, 0.2536, 0.7360]\n  PeriodicSite: Cd2+ (6.7217, 9.8999, 3.2614) [0.5136, 0.7565, 0.2492]\n  PeriodicSite: Cd2+ (6.4407, 9.7422, 9.9442) [0.4922, 0.7444, 0.7599]\n  PeriodicSite: Cd2+ (3.6345, -0.1775, 3.0003) [0.2777, -0.0136, 0.2293]\n  PeriodicSite: Cd2+ (3.3935, -0.1058, 10.1934) [0.2593, -0.0081, 0.7789]\n  PeriodicSite: Cd2+ (3.4617, 6.6544, 3.2407) [0.2645, 0.5085, 0.2476]\n  PeriodicSite: Cd2+ (3.5704, 6.2570, 9.7268) [0.2728, 0.4781, 0.7433]\n  PeriodicSite: Cd2+ (9.5624, 0.1034, 3.6577) [0.7307, 0.0079, 0.2795]\n  PeriodicSite: Cd2+ (9.3425, 0.0365, 9.4155) [0.7139, 0.0028, 0.7195]\n  PeriodicSite: Cd2+ (10.0866, 6.6639, 3.5372) [0.7707, 0.5092, 0.2703]\n  PeriodicSite: Cd2+ (9.6178, 6.6634, 9.9668) [0.7349, 0.5092, 0.7616]\n  PeriodicSite: Cd2+ (3.0944, 3.1629, -0.3348) [0.2365, 0.2417, -0.0256]\n  PeriodicSite: Cd2+ (3.6548, 3.1972, 6.1638) [0.2793, 0.2443, 0.4710]\n  PeriodicSite: Cd2+ (3.7174, 10.1050, -0.2387) [0.2841, 0.7722, -0.0182]\n  PeriodicSite: Cd2+ (3.2182, 10.2993, 6.7096) [0.2459, 0.7870, 0.5127]\n  PeriodicSite: Cd2+ (9.8685, 3.4300, -0.0656) [0.7541, 0.2621, -0.0050]\n  PeriodicSite: Cd2+ (9.7856, 3.4538, 6.8890) [0.7477, 0.2639, 0.5264]\n  PeriodicSite: Cd2+ (10.4978, 10.0715, 0.4778) [0.8022, 0.7696, 0.0365]\n  PeriodicSite: Cd2+ (9.7876, 9.7389, 6.5882) [0.7479, 0.7442, 0.5034]\n  PeriodicSite: Te2- (1.7553, 1.5854, 5.1683) [0.1341, 0.1211, 0.3949]\n  PeriodicSite: Te2- (1.0984, 2.1098, 10.9321) [0.0839, 0.1612, 0.8354]\n  PeriodicSite: Te2- (1.6933, 7.5982, 4.6149) [0.1294, 0.5806, 0.3526]\n  PeriodicSite: Te2- (1.1356, 8.3084, 11.5531) [0.0868, 0.6349, 0.8828]\n  PeriodicSite: Te2- (7.8890, 2.1691, 4.8407) [0.6028, 0.1657, 0.3699]\n  PeriodicSite: Te2- (8.2757, 2.2192, 11.2885) [0.6324, 0.1696, 0.8626]\n  PeriodicSite: Te2- (8.2035, 8.1637, 4.9887) [0.6269, 0.6238, 0.3812]\n  PeriodicSite: Te2- (8.3141, 8.1945, 11.4733) [0.6353, 0.6262, 0.8767]\n  PeriodicSite: Te2- (2.0153, 4.6415, 2.0961) [0.1540, 0.3547, 0.1602]\n  PeriodicSite: Te2- (1.6867, 4.9934, 8.3357) [0.1289, 0.3816, 0.6370]\n  PeriodicSite: Te2- (1.4065, 11.7689, 1.6593) [0.1075, 0.8993, 0.1268]\n  PeriodicSite: Te2- (1.5870, 11.4921, 8.0778) [0.1213, 0.8781, 0.6172]\n  PeriodicSite: Te2- (8.1496, 5.4245, 1.7095) [0.6227, 0.4145, 0.1306]\n  PeriodicSite: Te2- (7.8168, 5.0698, 8.1925) [0.5973, 0.3874, 0.6260]\n  PeriodicSite: Te2- (8.2167, 11.6827, 1.9007) [0.6279, 0.8927, 0.1452]\n  PeriodicSite: Te2- (8.3235, 11.2264, 8.4148) [0.6360, 0.8578, 0.6430]\n  PeriodicSite: Te2- (4.1490, 1.7993, 1.2533) [0.3170, 0.1375, 0.0958]\n  PeriodicSite: Te2- (4.5296, 1.5049, 8.0219) [0.3461, 0.1150, 0.6130]\n  PeriodicSite: Te2- (4.6569, 7.9389, 1.1224) [0.3559, 0.6066, 0.0858]\n  PeriodicSite: Te2- (4.7222, 8.6205, 8.4831) [0.3608, 0.6587, 0.6482]\n  PeriodicSite: Te2- (11.3931, 1.8111, 1.9417) [0.8706, 0.1384, 0.1484]\n  PeriodicSite: Te2- (11.5762, 1.8890, 7.6594) [0.8846, 0.1443, 0.5853]\n  PeriodicSite: Te2- (11.4065, 7.9827, 1.7988) [0.8716, 0.6100, 0.1375]\n  PeriodicSite: Te2- (11.3521, 7.8114, 7.8032) [0.8674, 0.5969, 0.5963]\n  PeriodicSite: Te2- (5.2584, 4.5541, 5.1436) [0.4018, 0.3480, 0.3930]\n  PeriodicSite: Te2- (4.6601, 4.9251, 11.6306) [0.3561, 0.3763, 0.8887]\n  PeriodicSite: Te2- (4.7645, 11.6046, 5.1312) [0.3641, 0.8867, 0.3921]\n  PeriodicSite: Te2- (5.1427, 11.3003, 11.4350) [0.3930, 0.8635, 0.8738]\n  PeriodicSite: Te2- (11.8344, 4.7879, 4.8996) [0.9043, 0.3659, 0.3744]\n  PeriodicSite: Te2- (12.2190, 5.1747, 11.8364) [0.9337, 0.3954, 0.9045]\n  PeriodicSite: Te2- (11.8111, 11.6230, 4.9117) [0.9025, 0.8882, 0.3753]\n  PeriodicSite: Te2- (11.5905, 11.3219, 11.7986) [0.8857, 0.8651, 0.9016],\n  'Bond_Distortion_-50.0%': Structure Summary\n  Lattice\n      abc : 13.086768 13.086768 13.086768\n   angles : 90.0 90.0 90.0\n   volume : 2241.2856479961474\n        A : 13.086768 0.0 0.0\n        B : 0.0 13.086768 0.0\n        C : 0.0 0.0 13.086768\n      pbc : True True True\n  PeriodicSite: Te4+ (11.4509, 1.6358, 11.4509) [0.8750, 0.1250, 0.8750]\n  PeriodicSite: Cd2+ (-0.8179, 0.8179, -0.8179) [-0.0625, 0.0625, -0.0625]\n  PeriodicSite: Cd2+ (0.0896, 0.2795, 6.4999) [0.0068, 0.0214, 0.4967]\n  PeriodicSite: Cd2+ (0.0402, 6.9234, -0.0431) [0.0031, 0.5290, -0.0033]\n  PeriodicSite: Cd2+ (-0.1846, 6.6192, 6.3321) [-0.0141, 0.5058, 0.4839]\n  PeriodicSite: Cd2+ (6.6254, 0.2106, -0.3562) [0.5063, 0.0161, -0.0272]\n  PeriodicSite: Cd2+ (6.4710, 0.2184, 6.1241) [0.4945, 0.0167, 0.4680]\n  PeriodicSite: Cd2+ (7.0550, 6.7073, -0.1046) [0.5391, 0.5125, -0.0080]\n  PeriodicSite: Cd2+ (6.4008, 6.2229, 6.4269) [0.4891, 0.4755, 0.4911]\n  PeriodicSite: Cd2+ (0.0200, 3.1757, 3.1086) [0.0015, 0.2427, 0.2375]\n  PeriodicSite: Cd2+ (-0.8179, 2.4538, 10.6330) [-0.0625, 0.1875, 0.8125]\n  PeriodicSite: Cd2+ (0.0873, 9.8431, 2.7443) [0.0067, 0.7521, 0.2097]\n  PeriodicSite: Cd2+ (0.1104, 9.4848, 9.6328) [0.0084, 0.7248, 0.7361]\n  PeriodicSite: Cd2+ (6.3109, 2.9174, 3.4099) [0.4822, 0.2229, 0.2606]\n  PeriodicSite: Cd2+ (6.4794, 3.3194, 9.6321) [0.4951, 0.2536, 0.7360]\n  PeriodicSite: Cd2+ (6.7217, 9.8999, 3.2614) [0.5136, 0.7565, 0.2492]\n  PeriodicSite: Cd2+ (6.4407, 9.7422, 9.9442) [0.4922, 0.7444, 0.7599]\n  PeriodicSite: Cd2+ (3.6345, -0.1775, 3.0003) [0.2777, -0.0136, 0.2293]\n  PeriodicSite: Cd2+ (3.3935, -0.1058, 10.1934) [0.2593, -0.0081, 0.7789]\n  PeriodicSite: Cd2+ (3.4617, 6.6544, 3.2407) [0.2645, 0.5085, 0.2476]\n  PeriodicSite: Cd2+ (3.5704, 6.2570, 9.7268) [0.2728, 0.4781, 0.7433]\n  PeriodicSite: Cd2+ (9.5624, 0.1034, 3.6577) [0.7307, 0.0079, 0.2795]\n  PeriodicSite: Cd2+ (9.3425, 0.0365, 9.4155) [0.7139, 0.0028, 0.7195]\n  PeriodicSite: Cd2+ (10.0866, 6.6639, 3.5372) [0.7707, 0.5092, 0.2703]\n  PeriodicSite: Cd2+ (9.6178, 6.6634, 9.9668) [0.7349, 0.5092, 0.7616]\n  PeriodicSite: Cd2+ (3.0944, 3.1629, -0.3348) [0.2365, 0.2417, -0.0256]\n  PeriodicSite: Cd2+ (3.6548, 3.1972, 6.1638) [0.2793, 0.2443, 0.4710]\n  PeriodicSite: Cd2+ (3.7174, 10.1050, -0.2387) [0.2841, 0.7722, -0.0182]\n  PeriodicSite: Cd2+ (3.2182, 10.2993, 6.7096) [0.2459, 0.7870, 0.5127]\n  PeriodicSite: Cd2+ (9.8685, 3.4300, -0.0656) [0.7541, 0.2621, -0.0050]\n  PeriodicSite: Cd2+ (9.7856, 3.4538, 6.8890) [0.7477, 0.2639, 0.5264]\n  PeriodicSite: Cd2+ (10.4978, 10.0715, 0.4778) [0.8022, 0.7696, 0.0365]\n  PeriodicSite: Cd2+ (9.7876, 9.7389, 6.5882) [0.7479, 0.7442, 0.5034]\n  PeriodicSite: Te2- (1.7553, 1.5854, 5.1683) [0.1341, 0.1211, 0.3949]\n  PeriodicSite: Te2- (1.1356, 1.7650, 11.5531) [0.0868, 0.1349, 0.8828]\n  PeriodicSite: Te2- (1.3456, 8.7125, 4.8407) [0.1028, 0.6657, 0.3699]\n  PeriodicSite: Te2- (1.7323, 8.7625, 11.2885) [0.1324, 0.6696, 0.8626]\n  PeriodicSite: Te2- (8.2035, 1.6203, 4.9887) [0.6269, 0.1238, 0.3812]\n  PeriodicSite: Te2- (8.3487, 1.4178, 11.6062) [0.6380, 0.1083, 0.8869]\n  PeriodicSite: Te2- (8.3141, 8.1945, 4.9299) [0.6353, 0.6262, 0.3767]\n  PeriodicSite: Te2- (8.2301, 8.2651, 11.6074) [0.6289, 0.6316, 0.8870]\n  PeriodicSite: Te2- (1.4065, 5.2255, 1.6593) [0.1075, 0.3993, 0.1268]\n  PeriodicSite: Te2- (1.5870, 4.9487, 8.0778) [0.1213, 0.3781, 0.6172]\n  PeriodicSite: Te2- (1.6062, 11.9679, 1.7095) [0.1227, 0.9145, 0.1306]\n  PeriodicSite: Te2- (1.2734, 11.6132, 8.1925) [0.0973, 0.8874, 0.6260]\n  PeriodicSite: Te2- (8.2167, 5.1394, 1.9007) [0.6279, 0.3927, 0.1452]\n  PeriodicSite: Te2- (8.3235, 4.6830, 8.4148) [0.6360, 0.3578, 0.6430]\n  PeriodicSite: Te2- (7.4207, 11.6144, 1.2533) [0.5670, 0.8875, 0.0958]\n  PeriodicSite: Te2- (7.8013, 11.3200, 8.0219) [0.5961, 0.8650, 0.6130]\n  PeriodicSite: Te2- (4.6569, 1.3955, 1.1224) [0.3559, 0.1066, 0.0858]\n  PeriodicSite: Te2- (4.7222, 2.0771, 8.4831) [0.3608, 0.1587, 0.6482]\n  PeriodicSite: Te2- (4.8497, 8.3545, 1.9417) [0.3706, 0.6384, 0.1484]\n  PeriodicSite: Te2- (5.0328, 8.4324, 7.6594) [0.3846, 0.6443, 0.5853]\n  PeriodicSite: Te2- (11.4065, 1.4393, 1.7988) [0.8716, 0.1100, 0.1375]\n  PeriodicSite: Te2- (11.3521, 1.2681, 7.8032) [0.8674, 0.0969, 0.5963]\n  PeriodicSite: Te2- (11.8018, 7.8258, 1.8719) [0.9018, 0.5980, 0.1430]\n  PeriodicSite: Te2- (11.4149, 8.4446, 7.4716) [0.8722, 0.6453, 0.5709]\n  PeriodicSite: Te2- (4.6601, 4.9251, 5.0872) [0.3561, 0.3763, 0.3887]\n  PeriodicSite: Te2- (4.7645, 5.0612, 11.6746) [0.3641, 0.3867, 0.8921]\n  PeriodicSite: Te2- (5.1427, 11.3003, 4.8917) [0.3930, 0.8635, 0.3738]\n  PeriodicSite: Te2- (5.1772, 11.6429, 11.6945) [0.3956, 0.8897, 0.8936]\n  PeriodicSite: Te2- (11.8344, 4.7879, 4.8996) [0.9043, 0.3659, 0.3744]\n  PeriodicSite: Te2- (12.2190, 5.1747, 11.8364) [0.9337, 0.3954, 0.9045]\n  PeriodicSite: Te2- (11.8111, 11.6230, 4.9117) [0.9025, 0.8882, 0.3753]\n  PeriodicSite: Te2- (11.5905, 11.3219, 11.7986) [0.8857, 0.8651, 0.9016],\n  'Bond_Distortion_-40.0%': Structure Summary\n  Lattice\n      abc : 13.086768 13.086768 13.086768\n   angles : 90.0 90.0 90.0\n   volume : 2241.2856479961474\n        A : 13.086768 0.0 0.0\n        B : 0.0 13.086768 0.0\n        C : 0.0 0.0 13.086768\n      pbc : True True True\n  PeriodicSite: Te4+ (11.4509, 1.6358, 11.4509) [0.8750, 0.1250, 0.8750]\n  PeriodicSite: Cd2+ (-0.6543, 0.6543, -0.6543) [-0.0500, 0.0500, -0.0500]\n  PeriodicSite: Cd2+ (0.0896, 0.2795, 6.4999) [0.0068, 0.0214, 0.4967]\n  PeriodicSite: Cd2+ (0.0402, 6.9234, -0.0431) [0.0031, 0.5290, -0.0033]\n  PeriodicSite: Cd2+ (-0.1846, 6.6192, 6.3321) [-0.0141, 0.5058, 0.4839]\n  PeriodicSite: Cd2+ (6.6254, 0.2106, -0.3562) [0.5063, 0.0161, -0.0272]\n  PeriodicSite: Cd2+ (6.4710, 0.2184, 6.1241) [0.4945, 0.0167, 0.4680]\n  PeriodicSite: Cd2+ (7.0550, 6.7073, -0.1046) [0.5391, 0.5125, -0.0080]\n  PeriodicSite: Cd2+ (6.4008, 6.2229, 6.4269) [0.4891, 0.4755, 0.4911]\n  PeriodicSite: Cd2+ (0.0200, 3.1757, 3.1086) [0.0015, 0.2427, 0.2375]\n  PeriodicSite: Cd2+ (-0.6543, 2.6174, 10.4694) [-0.0500, 0.2000, 0.8000]\n  PeriodicSite: Cd2+ (0.0873, 9.8431, 2.7443) [0.0067, 0.7521, 0.2097]\n  PeriodicSite: Cd2+ (0.1104, 9.4848, 9.6328) [0.0084, 0.7248, 0.7361]\n  PeriodicSite: Cd2+ (6.3109, 2.9174, 3.4099) [0.4822, 0.2229, 0.2606]\n  PeriodicSite: Cd2+ (6.4794, 3.3194, 9.6321) [0.4951, 0.2536, 0.7360]\n  PeriodicSite: Cd2+ (6.7217, 9.8999, 3.2614) [0.5136, 0.7565, 0.2492]\n  PeriodicSite: Cd2+ (6.4407, 9.7422, 9.9442) [0.4922, 0.7444, 0.7599]\n  PeriodicSite: Cd2+ (3.6345, -0.1775, 3.0003) [0.2777, -0.0136, 0.2293]\n  PeriodicSite: Cd2+ (3.3935, -0.1058, 10.1934) [0.2593, -0.0081, 0.7789]\n  PeriodicSite: Cd2+ (3.4617, 6.6544, 3.2407) [0.2645, 0.5085, 0.2476]\n  PeriodicSite: Cd2+ (3.5704, 6.2570, 9.7268) [0.2728, 0.4781, 0.7433]\n  PeriodicSite: Cd2+ (9.5624, 0.1034, 3.6577) [0.7307, 0.0079, 0.2795]\n  PeriodicSite: Cd2+ (9.3425, 0.0365, 9.4155) [0.7139, 0.0028, 0.7195]\n  PeriodicSite: Cd2+ (10.0866, 6.6639, 3.5372) [0.7707, 0.5092, 0.2703]\n  PeriodicSite: Cd2+ (9.6178, 6.6634, 9.9668) [0.7349, 0.5092, 0.7616]\n  PeriodicSite: Cd2+ (3.0944, 3.1629, -0.3348) [0.2365, 0.2417, -0.0256]\n  PeriodicSite: Cd2+ (3.6548, 3.1972, 6.1638) [0.2793, 0.2443, 0.4710]\n  PeriodicSite: Cd2+ (3.7174, 10.1050, -0.2387) [0.2841, 0.7722, -0.0182]\n  PeriodicSite: Cd2+ (3.2182, 10.2993, 6.7096) [0.2459, 0.7870, 0.5127]\n  PeriodicSite: Cd2+ (9.8685, 3.4300, -0.0656) [0.7541, 0.2621, -0.0050]\n  PeriodicSite: Cd2+ (9.7856, 3.4538, 6.8890) [0.7477, 0.2639, 0.5264]\n  PeriodicSite: Cd2+ (10.4978, 10.0715, 0.4778) [0.8022, 0.7696, 0.0365]\n  PeriodicSite: Cd2+ (9.7876, 9.7389, 6.5882) [0.7479, 0.7442, 0.5034]\n  PeriodicSite: Te2- (1.7553, 1.5854, 5.1683) [0.1341, 0.1211, 0.3949]\n  PeriodicSite: Te2- (1.1356, 1.7650, 11.5531) [0.0868, 0.1349, 0.8828]\n  PeriodicSite: Te2- (1.3456, 8.7125, 4.8407) [0.1028, 0.6657, 0.3699]\n  PeriodicSite: Te2- (1.7323, 8.7625, 11.2885) [0.1324, 0.6696, 0.8626]\n  PeriodicSite: Te2- (8.2035, 1.6203, 4.9887) [0.6269, 0.1238, 0.3812]\n  PeriodicSite: Te2- (8.3487, 1.4178, 11.6062) [0.6380, 0.1083, 0.8869]\n  PeriodicSite: Te2- (8.3141, 8.1945, 4.9299) [0.6353, 0.6262, 0.3767]\n  PeriodicSite: Te2- (8.2301, 8.2651, 11.6074) [0.6289, 0.6316, 0.8870]\n  PeriodicSite: Te2- (1.4065, 5.2255, 1.6593) [0.1075, 0.3993, 0.1268]\n  PeriodicSite: Te2- (1.5870, 4.9487, 8.0778) [0.1213, 0.3781, 0.6172]\n  PeriodicSite: Te2- (1.6062, 11.9679, 1.7095) [0.1227, 0.9145, 0.1306]\n  PeriodicSite: Te2- (1.2734, 11.6132, 8.1925) [0.0973, 0.8874, 0.6260]\n  PeriodicSite: Te2- (8.2167, 5.1394, 1.9007) [0.6279, 0.3927, 0.1452]\n  PeriodicSite: Te2- (8.3235, 4.6830, 8.4148) [0.6360, 0.3578, 0.6430]\n  PeriodicSite: Te2- (7.4207, 11.6144, 1.2533) [0.5670, 0.8875, 0.0958]\n  PeriodicSite: Te2- (7.8013, 11.3200, 8.0219) [0.5961, 0.8650, 0.6130]\n  PeriodicSite: Te2- (4.6569, 1.3955, 1.1224) [0.3559, 0.1066, 0.0858]\n  PeriodicSite: Te2- (4.7222, 2.0771, 8.4831) [0.3608, 0.1587, 0.6482]\n  PeriodicSite: Te2- (4.8497, 8.3545, 1.9417) [0.3706, 0.6384, 0.1484]\n  PeriodicSite: Te2- (5.0328, 8.4324, 7.6594) [0.3846, 0.6443, 0.5853]\n  PeriodicSite: Te2- (11.4065, 1.4393, 1.7988) [0.8716, 0.1100, 0.1375]\n  PeriodicSite: Te2- (11.3521, 1.2681, 7.8032) [0.8674, 0.0969, 0.5963]\n  PeriodicSite: Te2- (11.8018, 7.8258, 1.8719) [0.9018, 0.5980, 0.1430]\n  PeriodicSite: Te2- (11.4149, 8.4446, 7.4716) [0.8722, 0.6453, 0.5709]\n  PeriodicSite: Te2- (4.6601, 4.9251, 5.0872) [0.3561, 0.3763, 0.3887]\n  PeriodicSite: Te2- (4.7645, 5.0612, 11.6746) [0.3641, 0.3867, 0.8921]\n  PeriodicSite: Te2- (5.1427, 11.3003, 4.8917) [0.3930, 0.8635, 0.3738]\n  PeriodicSite: Te2- (5.1772, 11.6429, 11.6945) [0.3956, 0.8897, 0.8936]\n  PeriodicSite: Te2- (11.8344, 4.7879, 4.8996) [0.9043, 0.3659, 0.3744]\n  PeriodicSite: Te2- (12.2190, 5.1747, 11.8364) [0.9337, 0.3954, 0.9045]\n  PeriodicSite: Te2- (11.8111, 11.6230, 4.9117) [0.9025, 0.8882, 0.3753]\n  PeriodicSite: Te2- (11.5905, 11.3219, 11.7986) [0.8857, 0.8651, 0.9016],\n  'Bond_Distortion_-30.0%': Structure Summary\n  Lattice\n      abc : 13.086768 13.086768 13.086768\n   angles : 90.0 90.0 90.0\n   volume : 2241.2856479961474\n        A : 13.086768 0.0 0.0\n        B : 0.0 13.086768 0.0\n        C : 0.0 0.0 13.086768\n      pbc : True True True\n  PeriodicSite: Te4+ (11.4509, 1.6358, 11.4509) [0.8750, 0.1250, 0.8750]\n  PeriodicSite: Cd2+ (-0.4907, 0.4907, -0.4907) [-0.0375, 0.0375, -0.0375]\n  PeriodicSite: Cd2+ (0.0896, 0.2795, 6.4999) [0.0068, 0.0214, 0.4967]\n  PeriodicSite: Cd2+ (0.0402, 6.9234, -0.0431) [0.0031, 0.5290, -0.0033]\n  PeriodicSite: Cd2+ (-0.1846, 6.6192, 6.3321) [-0.0141, 0.5058, 0.4839]\n  PeriodicSite: Cd2+ (6.6254, 0.2106, -0.3562) [0.5063, 0.0161, -0.0272]\n  PeriodicSite: Cd2+ (6.4710, 0.2184, 6.1241) [0.4945, 0.0167, 0.4680]\n  PeriodicSite: Cd2+ (7.0550, 6.7073, -0.1046) [0.5391, 0.5125, -0.0080]\n  PeriodicSite: Cd2+ (6.4008, 6.2229, 6.4269) [0.4891, 0.4755, 0.4911]\n  PeriodicSite: Cd2+ (0.0200, 3.1757, 3.1086) [0.0015, 0.2427, 0.2375]\n  PeriodicSite: Cd2+ (-0.4907, 2.7810, 10.3058) [-0.0375, 0.2125, 0.7875]\n  PeriodicSite: Cd2+ (0.0873, 9.8431, 2.7443) [0.0067, 0.7521, 0.2097]\n  PeriodicSite: Cd2+ (0.1104, 9.4848, 9.6328) [0.0084, 0.7248, 0.7361]\n  PeriodicSite: Cd2+ (6.3109, 2.9174, 3.4099) [0.4822, 0.2229, 0.2606]\n  PeriodicSite: Cd2+ (6.4794, 3.3194, 9.6321) [0.4951, 0.2536, 0.7360]\n  PeriodicSite: Cd2+ (6.7217, 9.8999, 3.2614) [0.5136, 0.7565, 0.2492]\n  PeriodicSite: Cd2+ (6.4407, 9.7422, 9.9442) [0.4922, 0.7444, 0.7599]\n  PeriodicSite: Cd2+ (3.6345, -0.1775, 3.0003) [0.2777, -0.0136, 0.2293]\n  PeriodicSite: Cd2+ (3.3935, -0.1058, 10.1934) [0.2593, -0.0081, 0.7789]\n  PeriodicSite: Cd2+ (3.4617, 6.6544, 3.2407) [0.2645, 0.5085, 0.2476]\n  PeriodicSite: Cd2+ (3.5704, 6.2570, 9.7268) [0.2728, 0.4781, 0.7433]\n  PeriodicSite: Cd2+ (9.5624, 0.1034, 3.6577) [0.7307, 0.0079, 0.2795]\n  PeriodicSite: Cd2+ (9.3425, 0.0365, 9.4155) [0.7139, 0.0028, 0.7195]\n  PeriodicSite: Cd2+ (10.0866, 6.6639, 3.5372) [0.7707, 0.5092, 0.2703]\n  PeriodicSite: Cd2+ (9.6178, 6.6634, 9.9668) [0.7349, 0.5092, 0.7616]\n  PeriodicSite: Cd2+ (3.0944, 3.1629, -0.3348) [0.2365, 0.2417, -0.0256]\n  PeriodicSite: Cd2+ (3.6548, 3.1972, 6.1638) [0.2793, 0.2443, 0.4710]\n  PeriodicSite: Cd2+ (3.7174, 10.1050, -0.2387) [0.2841, 0.7722, -0.0182]\n  PeriodicSite: Cd2+ (3.2182, 10.2993, 6.7096) [0.2459, 0.7870, 0.5127]\n  PeriodicSite: Cd2+ (9.8685, 3.4300, -0.0656) [0.7541, 0.2621, -0.0050]\n  PeriodicSite: Cd2+ (9.7856, 3.4538, 6.8890) [0.7477, 0.2639, 0.5264]\n  PeriodicSite: Cd2+ (10.4978, 10.0715, 0.4778) [0.8022, 0.7696, 0.0365]\n  PeriodicSite: Cd2+ (9.7876, 9.7389, 6.5882) [0.7479, 0.7442, 0.5034]\n  PeriodicSite: Te2- (1.7553, 1.5854, 5.1683) [0.1341, 0.1211, 0.3949]\n  PeriodicSite: Te2- (1.1356, 1.7650, 11.5531) [0.0868, 0.1349, 0.8828]\n  PeriodicSite: Te2- (1.3456, 8.7125, 4.8407) [0.1028, 0.6657, 0.3699]\n  PeriodicSite: Te2- (1.7323, 8.7625, 11.2885) [0.1324, 0.6696, 0.8626]\n  PeriodicSite: Te2- (8.2035, 1.6203, 4.9887) [0.6269, 0.1238, 0.3812]\n  PeriodicSite: Te2- (8.3487, 1.4178, 11.6062) [0.6380, 0.1083, 0.8869]\n  PeriodicSite: Te2- (8.3141, 8.1945, 4.9299) [0.6353, 0.6262, 0.3767]\n  PeriodicSite: Te2- (8.2301, 8.2651, 11.6074) [0.6289, 0.6316, 0.8870]\n  PeriodicSite: Te2- (1.4065, 5.2255, 1.6593) [0.1075, 0.3993, 0.1268]\n  PeriodicSite: Te2- (1.5870, 4.9487, 8.0778) [0.1213, 0.3781, 0.6172]\n  PeriodicSite: Te2- (1.6062, 11.9679, 1.7095) [0.1227, 0.9145, 0.1306]\n  PeriodicSite: Te2- (1.2734, 11.6132, 8.1925) [0.0973, 0.8874, 0.6260]\n  PeriodicSite: Te2- (8.2167, 5.1394, 1.9007) [0.6279, 0.3927, 0.1452]\n  PeriodicSite: Te2- (8.3235, 4.6830, 8.4148) [0.6360, 0.3578, 0.6430]\n  PeriodicSite: Te2- (7.4207, 11.6144, 1.2533) [0.5670, 0.8875, 0.0958]\n  PeriodicSite: Te2- (7.8013, 11.3200, 8.0219) [0.5961, 0.8650, 0.6130]\n  PeriodicSite: Te2- (4.6569, 1.3955, 1.1224) [0.3559, 0.1066, 0.0858]\n  PeriodicSite: Te2- (4.7222, 2.0771, 8.4831) [0.3608, 0.1587, 0.6482]\n  PeriodicSite: Te2- (4.8497, 8.3545, 1.9417) [0.3706, 0.6384, 0.1484]\n  PeriodicSite: Te2- (5.0328, 8.4324, 7.6594) [0.3846, 0.6443, 0.5853]\n  PeriodicSite: Te2- (11.4065, 1.4393, 1.7988) [0.8716, 0.1100, 0.1375]\n  PeriodicSite: Te2- (11.3521, 1.2681, 7.8032) [0.8674, 0.0969, 0.5963]\n  PeriodicSite: Te2- (11.8018, 7.8258, 1.8719) [0.9018, 0.5980, 0.1430]\n  PeriodicSite: Te2- (11.4149, 8.4446, 7.4716) [0.8722, 0.6453, 0.5709]\n  PeriodicSite: Te2- (4.6601, 4.9251, 5.0872) [0.3561, 0.3763, 0.3887]\n  PeriodicSite: Te2- (4.7645, 5.0612, 11.6746) [0.3641, 0.3867, 0.8921]\n  PeriodicSite: Te2- (5.1427, 11.3003, 4.8917) [0.3930, 0.8635, 0.3738]\n  PeriodicSite: Te2- (5.1772, 11.6429, 11.6945) [0.3956, 0.8897, 0.8936]\n  PeriodicSite: Te2- (11.8344, 4.7879, 4.8996) [0.9043, 0.3659, 0.3744]\n  PeriodicSite: Te2- (12.2190, 5.1747, 11.8364) [0.9337, 0.3954, 0.9045]\n  PeriodicSite: Te2- (11.8111, 11.6230, 4.9117) [0.9025, 0.8882, 0.3753]\n  PeriodicSite: Te2- (11.5905, 11.3219, 11.7986) [0.8857, 0.8651, 0.9016],\n  'Bond_Distortion_-20.0%': Structure Summary\n  Lattice\n      abc : 13.086768 13.086768 13.086768\n   angles : 90.0 90.0 90.0\n   volume : 2241.2856479961474\n        A : 13.086768 0.0 0.0\n        B : 0.0 13.086768 0.0\n        C : 0.0 0.0 13.086768\n      pbc : True True True\n  PeriodicSite: Te4+ (11.4509, 1.6358, 11.4509) [0.8750, 0.1250, 0.8750]\n  PeriodicSite: Cd2+ (-0.3272, 0.3272, -0.3272) [-0.0250, 0.0250, -0.0250]\n  PeriodicSite: Cd2+ (0.0896, 0.2795, 6.4999) [0.0068, 0.0214, 0.4967]\n  PeriodicSite: Cd2+ (0.0402, 6.9234, -0.0431) [0.0031, 0.5290, -0.0033]\n  PeriodicSite: Cd2+ (-0.1846, 6.6192, 6.3321) [-0.0141, 0.5058, 0.4839]\n  PeriodicSite: Cd2+ (6.6254, 0.2106, -0.3562) [0.5063, 0.0161, -0.0272]\n  PeriodicSite: Cd2+ (6.4710, 0.2184, 6.1241) [0.4945, 0.0167, 0.4680]\n  PeriodicSite: Cd2+ (7.0550, 6.7073, -0.1046) [0.5391, 0.5125, -0.0080]\n  PeriodicSite: Cd2+ (6.4008, 6.2229, 6.4269) [0.4891, 0.4755, 0.4911]\n  PeriodicSite: Cd2+ (0.0200, 3.1757, 3.1086) [0.0015, 0.2427, 0.2375]\n  PeriodicSite: Cd2+ (-0.3272, 2.9445, 10.1422) [-0.0250, 0.2250, 0.7750]\n  PeriodicSite: Cd2+ (0.0873, 9.8431, 2.7443) [0.0067, 0.7521, 0.2097]\n  PeriodicSite: Cd2+ (0.1104, 9.4848, 9.6328) [0.0084, 0.7248, 0.7361]\n  PeriodicSite: Cd2+ (6.3109, 2.9174, 3.4099) [0.4822, 0.2229, 0.2606]\n  PeriodicSite: Cd2+ (6.4794, 3.3194, 9.6321) [0.4951, 0.2536, 0.7360]\n  PeriodicSite: Cd2+ (6.7217, 9.8999, 3.2614) [0.5136, 0.7565, 0.2492]\n  PeriodicSite: Cd2+ (6.4407, 9.7422, 9.9442) [0.4922, 0.7444, 0.7599]\n  PeriodicSite: Cd2+ (3.6345, -0.1775, 3.0003) [0.2777, -0.0136, 0.2293]\n  PeriodicSite: Cd2+ (3.3935, -0.1058, 10.1934) [0.2593, -0.0081, 0.7789]\n  PeriodicSite: Cd2+ (3.4617, 6.6544, 3.2407) [0.2645, 0.5085, 0.2476]\n  PeriodicSite: Cd2+ (3.5704, 6.2570, 9.7268) [0.2728, 0.4781, 0.7433]\n  PeriodicSite: Cd2+ (9.5624, 0.1034, 3.6577) [0.7307, 0.0079, 0.2795]\n  PeriodicSite: Cd2+ (9.3425, 0.0365, 9.4155) [0.7139, 0.0028, 0.7195]\n  PeriodicSite: Cd2+ (10.0866, 6.6639, 3.5372) [0.7707, 0.5092, 0.2703]\n  PeriodicSite: Cd2+ (9.6178, 6.6634, 9.9668) [0.7349, 0.5092, 0.7616]\n  PeriodicSite: Cd2+ (3.0944, 3.1629, -0.3348) [0.2365, 0.2417, -0.0256]\n  PeriodicSite: Cd2+ (3.6548, 3.1972, 6.1638) [0.2793, 0.2443, 0.4710]\n  PeriodicSite: Cd2+ (3.7174, 10.1050, -0.2387) [0.2841, 0.7722, -0.0182]\n  PeriodicSite: Cd2+ (3.2182, 10.2993, 6.7096) [0.2459, 0.7870, 0.5127]\n  PeriodicSite: Cd2+ (9.8685, 3.4300, -0.0656) [0.7541, 0.2621, -0.0050]\n  PeriodicSite: Cd2+ (9.7856, 3.4538, 6.8890) [0.7477, 0.2639, 0.5264]\n  PeriodicSite: Cd2+ (10.4978, 10.0715, 0.4778) [0.8022, 0.7696, 0.0365]\n  PeriodicSite: Cd2+ (9.7876, 9.7389, 6.5882) [0.7479, 0.7442, 0.5034]\n  PeriodicSite: Te2- (1.7553, 1.5854, 5.1683) [0.1341, 0.1211, 0.3949]\n  PeriodicSite: Te2- (1.1356, 1.7650, 11.5531) [0.0868, 0.1349, 0.8828]\n  PeriodicSite: Te2- (1.3456, 8.7125, 4.8407) [0.1028, 0.6657, 0.3699]\n  PeriodicSite: Te2- (1.7323, 8.7625, 11.2885) [0.1324, 0.6696, 0.8626]\n  PeriodicSite: Te2- (8.2035, 1.6203, 4.9887) [0.6269, 0.1238, 0.3812]\n  PeriodicSite: Te2- (8.3487, 1.4178, 11.6062) [0.6380, 0.1083, 0.8869]\n  PeriodicSite: Te2- (8.3141, 8.1945, 4.9299) [0.6353, 0.6262, 0.3767]\n  PeriodicSite: Te2- (8.2301, 8.2651, 11.6074) [0.6289, 0.6316, 0.8870]\n  PeriodicSite: Te2- (1.4065, 5.2255, 1.6593) [0.1075, 0.3993, 0.1268]\n  PeriodicSite: Te2- (1.5870, 4.9487, 8.0778) [0.1213, 0.3781, 0.6172]\n  PeriodicSite: Te2- (1.6062, 11.9679, 1.7095) [0.1227, 0.9145, 0.1306]\n  PeriodicSite: Te2- (1.2734, 11.6132, 8.1925) [0.0973, 0.8874, 0.6260]\n  PeriodicSite: Te2- (8.2167, 5.1394, 1.9007) [0.6279, 0.3927, 0.1452]\n  PeriodicSite: Te2- (8.3235, 4.6830, 8.4148) [0.6360, 0.3578, 0.6430]\n  PeriodicSite: Te2- (7.4207, 11.6144, 1.2533) [0.5670, 0.8875, 0.0958]\n  PeriodicSite: Te2- (7.8013, 11.3200, 8.0219) [0.5961, 0.8650, 0.6130]\n  PeriodicSite: Te2- (4.6569, 1.3955, 1.1224) [0.3559, 0.1066, 0.0858]\n  PeriodicSite: Te2- (4.7222, 2.0771, 8.4831) [0.3608, 0.1587, 0.6482]\n  PeriodicSite: Te2- (4.8497, 8.3545, 1.9417) [0.3706, 0.6384, 0.1484]\n  PeriodicSite: Te2- (5.0328, 8.4324, 7.6594) [0.3846, 0.6443, 0.5853]\n  PeriodicSite: Te2- (11.4065, 1.4393, 1.7988) [0.8716, 0.1100, 0.1375]\n  PeriodicSite: Te2- (11.3521, 1.2681, 7.8032) [0.8674, 0.0969, 0.5963]\n  PeriodicSite: Te2- (11.8018, 7.8258, 1.8719) [0.9018, 0.5980, 0.1430]\n  PeriodicSite: Te2- (11.4149, 8.4446, 7.4716) [0.8722, 0.6453, 0.5709]\n  PeriodicSite: Te2- (4.6601, 4.9251, 5.0872) [0.3561, 0.3763, 0.3887]\n  PeriodicSite: Te2- (4.7645, 5.0612, 11.6746) [0.3641, 0.3867, 0.8921]\n  PeriodicSite: Te2- (5.1427, 11.3003, 4.8917) [0.3930, 0.8635, 0.3738]\n  PeriodicSite: Te2- (5.1772, 11.6429, 11.6945) [0.3956, 0.8897, 0.8936]\n  PeriodicSite: Te2- (11.8344, 4.7879, 4.8996) [0.9043, 0.3659, 0.3744]\n  PeriodicSite: Te2- (12.2190, 5.1747, 11.8364) [0.9337, 0.3954, 0.9045]\n  PeriodicSite: Te2- (11.8111, 11.6230, 4.9117) [0.9025, 0.8882, 0.3753]\n  PeriodicSite: Te2- (11.5905, 11.3219, 11.7986) [0.8857, 0.8651, 0.9016],\n  'Bond_Distortion_-10.0%': Structure Summary\n  Lattice\n      abc : 13.086768 13.086768 13.086768\n   angles : 90.0 90.0 90.0\n   volume : 2241.2856479961474\n        A : 13.086768 0.0 0.0\n        B : 0.0 13.086768 0.0\n        C : 0.0 0.0 13.086768\n      pbc : True True True\n  PeriodicSite: Te4+ (11.4509, 1.6358, 11.4509) [0.8750, 0.1250, 0.8750]\n  PeriodicSite: Cd2+ (-0.1636, 0.1636, -0.1636) [-0.0125, 0.0125, -0.0125]\n  PeriodicSite: Cd2+ (0.0896, 0.2795, 6.4999) [0.0068, 0.0214, 0.4967]\n  PeriodicSite: Cd2+ (0.0402, 6.9234, -0.0431) [0.0031, 0.5290, -0.0033]\n  PeriodicSite: Cd2+ (-0.1846, 6.6192, 6.3321) [-0.0141, 0.5058, 0.4839]\n  PeriodicSite: Cd2+ (6.6254, 0.2106, -0.3562) [0.5063, 0.0161, -0.0272]\n  PeriodicSite: Cd2+ (6.4710, 0.2184, 6.1241) [0.4945, 0.0167, 0.4680]\n  PeriodicSite: Cd2+ (7.0550, 6.7073, -0.1046) [0.5391, 0.5125, -0.0080]\n  PeriodicSite: Cd2+ (6.4008, 6.2229, 6.4269) [0.4891, 0.4755, 0.4911]\n  PeriodicSite: Cd2+ (0.0200, 3.1757, 3.1086) [0.0015, 0.2427, 0.2375]\n  PeriodicSite: Cd2+ (-0.1636, 3.1081, 9.9786) [-0.0125, 0.2375, 0.7625]\n  PeriodicSite: Cd2+ (0.0873, 9.8431, 2.7443) [0.0067, 0.7521, 0.2097]\n  PeriodicSite: Cd2+ (0.1104, 9.4848, 9.6328) [0.0084, 0.7248, 0.7361]\n  PeriodicSite: Cd2+ (6.3109, 2.9174, 3.4099) [0.4822, 0.2229, 0.2606]\n  PeriodicSite: Cd2+ (6.4794, 3.3194, 9.6321) [0.4951, 0.2536, 0.7360]\n  PeriodicSite: Cd2+ (6.7217, 9.8999, 3.2614) [0.5136, 0.7565, 0.2492]\n  PeriodicSite: Cd2+ (6.4407, 9.7422, 9.9442) [0.4922, 0.7444, 0.7599]\n  PeriodicSite: Cd2+ (3.6345, -0.1775, 3.0003) [0.2777, -0.0136, 0.2293]\n  PeriodicSite: Cd2+ (3.3935, -0.1058, 10.1934) [0.2593, -0.0081, 0.7789]\n  PeriodicSite: Cd2+ (3.4617, 6.6544, 3.2407) [0.2645, 0.5085, 0.2476]\n  PeriodicSite: Cd2+ (3.5704, 6.2570, 9.7268) [0.2728, 0.4781, 0.7433]\n  PeriodicSite: Cd2+ (9.5624, 0.1034, 3.6577) [0.7307, 0.0079, 0.2795]\n  PeriodicSite: Cd2+ (9.3425, 0.0365, 9.4155) [0.7139, 0.0028, 0.7195]\n  PeriodicSite: Cd2+ (10.0866, 6.6639, 3.5372) [0.7707, 0.5092, 0.2703]\n  PeriodicSite: Cd2+ (9.6178, 6.6634, 9.9668) [0.7349, 0.5092, 0.7616]\n  PeriodicSite: Cd2+ (3.0944, 3.1629, -0.3348) [0.2365, 0.2417, -0.0256]\n  PeriodicSite: Cd2+ (3.6548, 3.1972, 6.1638) [0.2793, 0.2443, 0.4710]\n  PeriodicSite: Cd2+ (3.7174, 10.1050, -0.2387) [0.2841, 0.7722, -0.0182]\n  PeriodicSite: Cd2+ (3.2182, 10.2993, 6.7096) [0.2459, 0.7870, 0.5127]\n  PeriodicSite: Cd2+ (9.8685, 3.4300, -0.0656) [0.7541, 0.2621, -0.0050]\n  PeriodicSite: Cd2+ (9.7856, 3.4538, 6.8890) [0.7477, 0.2639, 0.5264]\n  PeriodicSite: Cd2+ (10.4978, 10.0715, 0.4778) [0.8022, 0.7696, 0.0365]\n  PeriodicSite: Cd2+ (9.7876, 9.7389, 6.5882) [0.7479, 0.7442, 0.5034]\n  PeriodicSite: Te2- (1.7553, 1.5854, 5.1683) [0.1341, 0.1211, 0.3949]\n  PeriodicSite: Te2- (1.1356, 1.7650, 11.5531) [0.0868, 0.1349, 0.8828]\n  PeriodicSite: Te2- (1.3456, 8.7125, 4.8407) [0.1028, 0.6657, 0.3699]\n  PeriodicSite: Te2- (1.7323, 8.7625, 11.2885) [0.1324, 0.6696, 0.8626]\n  PeriodicSite: Te2- (8.2035, 1.6203, 4.9887) [0.6269, 0.1238, 0.3812]\n  PeriodicSite: Te2- (8.3487, 1.4178, 11.6062) [0.6380, 0.1083, 0.8869]\n  PeriodicSite: Te2- (8.3141, 8.1945, 4.9299) [0.6353, 0.6262, 0.3767]\n  PeriodicSite: Te2- (8.2301, 8.2651, 11.6074) [0.6289, 0.6316, 0.8870]\n  PeriodicSite: Te2- (1.4065, 5.2255, 1.6593) [0.1075, 0.3993, 0.1268]\n  PeriodicSite: Te2- (1.5870, 4.9487, 8.0778) [0.1213, 0.3781, 0.6172]\n  PeriodicSite: Te2- (1.6062, 11.9679, 1.7095) [0.1227, 0.9145, 0.1306]\n  PeriodicSite: Te2- (1.2734, 11.6132, 8.1925) [0.0973, 0.8874, 0.6260]\n  PeriodicSite: Te2- (8.2167, 5.1394, 1.9007) [0.6279, 0.3927, 0.1452]\n  PeriodicSite: Te2- (8.3235, 4.6830, 8.4148) [0.6360, 0.3578, 0.6430]\n  PeriodicSite: Te2- (7.4207, 11.6144, 1.2533) [0.5670, 0.8875, 0.0958]\n  PeriodicSite: Te2- (7.8013, 11.3200, 8.0219) [0.5961, 0.8650, 0.6130]\n  PeriodicSite: Te2- (4.6569, 1.3955, 1.1224) [0.3559, 0.1066, 0.0858]\n  PeriodicSite: Te2- (4.7222, 2.0771, 8.4831) [0.3608, 0.1587, 0.6482]\n  PeriodicSite: Te2- (4.8497, 8.3545, 1.9417) [0.3706, 0.6384, 0.1484]\n  PeriodicSite: Te2- (5.0328, 8.4324, 7.6594) [0.3846, 0.6443, 0.5853]\n  PeriodicSite: Te2- (11.4065, 1.4393, 1.7988) [0.8716, 0.1100, 0.1375]\n  PeriodicSite: Te2- (11.3521, 1.2681, 7.8032) [0.8674, 0.0969, 0.5963]\n  PeriodicSite: Te2- (11.8018, 7.8258, 1.8719) [0.9018, 0.5980, 0.1430]\n  PeriodicSite: Te2- (11.4149, 8.4446, 7.4716) [0.8722, 0.6453, 0.5709]\n  PeriodicSite: Te2- (4.6601, 4.9251, 5.0872) [0.3561, 0.3763, 0.3887]\n  PeriodicSite: Te2- (4.7645, 5.0612, 11.6746) [0.3641, 0.3867, 0.8921]\n  PeriodicSite: Te2- (5.1427, 11.3003, 4.8917) [0.3930, 0.8635, 0.3738]\n  PeriodicSite: Te2- (5.1772, 11.6429, 11.6945) [0.3956, 0.8897, 0.8936]\n  PeriodicSite: Te2- (11.8344, 4.7879, 4.8996) [0.9043, 0.3659, 0.3744]\n  PeriodicSite: Te2- (12.2190, 5.1747, 11.8364) [0.9337, 0.3954, 0.9045]\n  PeriodicSite: Te2- (11.8111, 11.6230, 4.9117) [0.9025, 0.8882, 0.3753]\n  PeriodicSite: Te2- (11.5905, 11.3219, 11.7986) [0.8857, 0.8651, 0.9016],\n  'Bond_Distortion_0.0%': Structure Summary\n  Lattice\n      abc : 13.086768 13.086768 13.086768\n   angles : 90.0 90.0 90.0\n   volume : 2241.2856479961474\n        A : 13.086768 0.0 0.0\n        B : 0.0 13.086768 0.0\n        C : 0.0 0.0 13.086768\n      pbc : True True True\n  PeriodicSite: Te4+ (11.4509, 1.6358, 11.4509) [0.8750, 0.1250, 0.8750]\n  PeriodicSite: Cd2+ (0.0000, -0.0000, 0.0000) [0.0000, -0.0000, 0.0000]\n  PeriodicSite: Cd2+ (0.0896, 0.2795, 6.4999) [0.0068, 0.0214, 0.4967]\n  PeriodicSite: Cd2+ (0.0402, 6.9234, -0.0431) [0.0031, 0.5290, -0.0033]\n  PeriodicSite: Cd2+ (-0.1846, 6.6192, 6.3321) [-0.0141, 0.5058, 0.4839]\n  PeriodicSite: Cd2+ (6.6254, 0.2106, -0.3562) [0.5063, 0.0161, -0.0272]\n  PeriodicSite: Cd2+ (6.4710, 0.2184, 6.1241) [0.4945, 0.0167, 0.4680]\n  PeriodicSite: Cd2+ (7.0550, 6.7073, -0.1046) [0.5391, 0.5125, -0.0080]\n  PeriodicSite: Cd2+ (6.4008, 6.2229, 6.4269) [0.4891, 0.4755, 0.4911]\n  PeriodicSite: Cd2+ (0.0200, 3.1757, 3.1086) [0.0015, 0.2427, 0.2375]\n  PeriodicSite: Cd2+ (0.0000, 3.2717, 9.8151) [0.0000, 0.2500, 0.7500]\n  PeriodicSite: Cd2+ (0.0873, 9.8431, 2.7443) [0.0067, 0.7521, 0.2097]\n  PeriodicSite: Cd2+ (0.1104, 9.4848, 9.6328) [0.0084, 0.7248, 0.7361]\n  PeriodicSite: Cd2+ (6.3109, 2.9174, 3.4099) [0.4822, 0.2229, 0.2606]\n  PeriodicSite: Cd2+ (6.4794, 3.3194, 9.6321) [0.4951, 0.2536, 0.7360]\n  PeriodicSite: Cd2+ (6.7217, 9.8999, 3.2614) [0.5136, 0.7565, 0.2492]\n  PeriodicSite: Cd2+ (6.4407, 9.7422, 9.9442) [0.4922, 0.7444, 0.7599]\n  PeriodicSite: Cd2+ (3.6345, -0.1775, 3.0003) [0.2777, -0.0136, 0.2293]\n  PeriodicSite: Cd2+ (3.3935, -0.1058, 10.1934) [0.2593, -0.0081, 0.7789]\n  PeriodicSite: Cd2+ (3.4617, 6.6544, 3.2407) [0.2645, 0.5085, 0.2476]\n  PeriodicSite: Cd2+ (3.5704, 6.2570, 9.7268) [0.2728, 0.4781, 0.7433]\n  PeriodicSite: Cd2+ (9.5624, 0.1034, 3.6577) [0.7307, 0.0079, 0.2795]\n  PeriodicSite: Cd2+ (9.3425, 0.0365, 9.4155) [0.7139, 0.0028, 0.7195]\n  PeriodicSite: Cd2+ (10.0866, 6.6639, 3.5372) [0.7707, 0.5092, 0.2703]\n  PeriodicSite: Cd2+ (9.6178, 6.6634, 9.9668) [0.7349, 0.5092, 0.7616]\n  PeriodicSite: Cd2+ (3.0944, 3.1629, -0.3348) [0.2365, 0.2417, -0.0256]\n  PeriodicSite: Cd2+ (3.6548, 3.1972, 6.1638) [0.2793, 0.2443, 0.4710]\n  PeriodicSite: Cd2+ (3.7174, 10.1050, -0.2387) [0.2841, 0.7722, -0.0182]\n  PeriodicSite: Cd2+ (3.2182, 10.2993, 6.7096) [0.2459, 0.7870, 0.5127]\n  PeriodicSite: Cd2+ (9.8685, 3.4300, -0.0656) [0.7541, 0.2621, -0.0050]\n  PeriodicSite: Cd2+ (9.7856, 3.4538, 6.8890) [0.7477, 0.2639, 0.5264]\n  PeriodicSite: Cd2+ (10.4978, 10.0715, 0.4778) [0.8022, 0.7696, 0.0365]\n  PeriodicSite: Cd2+ (9.7876, 9.7389, 6.5882) [0.7479, 0.7442, 0.5034]\n  PeriodicSite: Te2- (1.7553, 1.5854, 5.1683) [0.1341, 0.1211, 0.3949]\n  PeriodicSite: Te2- (1.1356, 1.7650, 11.5531) [0.0868, 0.1349, 0.8828]\n  PeriodicSite: Te2- (1.3456, 8.7125, 4.8407) [0.1028, 0.6657, 0.3699]\n  PeriodicSite: Te2- (1.7323, 8.7625, 11.2885) [0.1324, 0.6696, 0.8626]\n  PeriodicSite: Te2- (8.2035, 1.6203, 4.9887) [0.6269, 0.1238, 0.3812]\n  PeriodicSite: Te2- (8.3487, 1.4178, 11.6062) [0.6380, 0.1083, 0.8869]\n  PeriodicSite: Te2- (8.3141, 8.1945, 4.9299) [0.6353, 0.6262, 0.3767]\n  PeriodicSite: Te2- (8.2301, 8.2651, 11.6074) [0.6289, 0.6316, 0.8870]\n  PeriodicSite: Te2- (1.4065, 5.2255, 1.6593) [0.1075, 0.3993, 0.1268]\n  PeriodicSite: Te2- (1.5870, 4.9487, 8.0778) [0.1213, 0.3781, 0.6172]\n  PeriodicSite: Te2- (1.6062, 11.9679, 1.7095) [0.1227, 0.9145, 0.1306]\n  PeriodicSite: Te2- (1.2734, 11.6132, 8.1925) [0.0973, 0.8874, 0.6260]\n  PeriodicSite: Te2- (8.2167, 5.1394, 1.9007) [0.6279, 0.3927, 0.1452]\n  PeriodicSite: Te2- (8.3235, 4.6830, 8.4148) [0.6360, 0.3578, 0.6430]\n  PeriodicSite: Te2- (7.4207, 11.6144, 1.2533) [0.5670, 0.8875, 0.0958]\n  PeriodicSite: Te2- (7.8013, 11.3200, 8.0219) [0.5961, 0.8650, 0.6130]\n  PeriodicSite: Te2- (4.6569, 1.3955, 1.1224) [0.3559, 0.1066, 0.0858]\n  PeriodicSite: Te2- (4.7222, 2.0771, 8.4831) [0.3608, 0.1587, 0.6482]\n  PeriodicSite: Te2- (4.8497, 8.3545, 1.9417) [0.3706, 0.6384, 0.1484]\n  PeriodicSite: Te2- (5.0328, 8.4324, 7.6594) [0.3846, 0.6443, 0.5853]\n  PeriodicSite: Te2- (11.4065, 1.4393, 1.7988) [0.8716, 0.1100, 0.1375]\n  PeriodicSite: Te2- (11.3521, 1.2681, 7.8032) [0.8674, 0.0969, 0.5963]\n  PeriodicSite: Te2- (11.8018, 7.8258, 1.8719) [0.9018, 0.5980, 0.1430]\n  PeriodicSite: Te2- (11.4149, 8.4446, 7.4716) [0.8722, 0.6453, 0.5709]\n  PeriodicSite: Te2- (4.6601, 4.9251, 5.0872) [0.3561, 0.3763, 0.3887]\n  PeriodicSite: Te2- (4.7645, 5.0612, 11.6746) [0.3641, 0.3867, 0.8921]\n  PeriodicSite: Te2- (5.1427, 11.3003, 4.8917) [0.3930, 0.8635, 0.3738]\n  PeriodicSite: Te2- (5.1772, 11.6429, 11.6945) [0.3956, 0.8897, 0.8936]\n  PeriodicSite: Te2- (11.8344, 4.7879, 4.8996) [0.9043, 0.3659, 0.3744]\n  PeriodicSite: Te2- (12.2190, 5.1747, 11.8364) [0.9337, 0.3954, 0.9045]\n  PeriodicSite: Te2- (11.8111, 11.6230, 4.9117) [0.9025, 0.8882, 0.3753]\n  PeriodicSite: Te2- (11.5905, 11.3219, 11.7986) [0.8857, 0.8651, 0.9016],\n  'Bond_Distortion_10.0%': Structure Summary\n  Lattice\n      abc : 13.086768 13.086768 13.086768\n   angles : 90.0 90.0 90.0\n   volume : 2241.2856479961474\n        A : 13.086768 0.0 0.0\n        B : 0.0 13.086768 0.0\n        C : 0.0 0.0 13.086768\n      pbc : True True True\n  PeriodicSite: Te4+ (11.4509, 1.6358, 11.4509) [0.8750, 0.1250, 0.8750]\n  PeriodicSite: Cd2+ (0.1636, -0.1636, 0.1636) [0.0125, -0.0125, 0.0125]\n  PeriodicSite: Cd2+ (0.0896, 0.2795, 6.4999) [0.0068, 0.0214, 0.4967]\n  PeriodicSite: Cd2+ (0.0402, 6.9234, -0.0431) [0.0031, 0.5290, -0.0033]\n  PeriodicSite: Cd2+ (-0.1846, 6.6192, 6.3321) [-0.0141, 0.5058, 0.4839]\n  PeriodicSite: Cd2+ (6.6254, 0.2106, -0.3562) [0.5063, 0.0161, -0.0272]\n  PeriodicSite: Cd2+ (6.4710, 0.2184, 6.1241) [0.4945, 0.0167, 0.4680]\n  PeriodicSite: Cd2+ (7.0550, 6.7073, -0.1046) [0.5391, 0.5125, -0.0080]\n  PeriodicSite: Cd2+ (6.4008, 6.2229, 6.4269) [0.4891, 0.4755, 0.4911]\n  PeriodicSite: Cd2+ (0.0200, 3.1757, 3.1086) [0.0015, 0.2427, 0.2375]\n  PeriodicSite: Cd2+ (0.1636, 3.4353, 9.6515) [0.0125, 0.2625, 0.7375]\n  PeriodicSite: Cd2+ (0.0873, 9.8431, 2.7443) [0.0067, 0.7521, 0.2097]\n  PeriodicSite: Cd2+ (0.1104, 9.4848, 9.6328) [0.0084, 0.7248, 0.7361]\n  PeriodicSite: Cd2+ (6.3109, 2.9174, 3.4099) [0.4822, 0.2229, 0.2606]\n  PeriodicSite: Cd2+ (6.4794, 3.3194, 9.6321) [0.4951, 0.2536, 0.7360]\n  PeriodicSite: Cd2+ (6.7217, 9.8999, 3.2614) [0.5136, 0.7565, 0.2492]\n  PeriodicSite: Cd2+ (6.4407, 9.7422, 9.9442) [0.4922, 0.7444, 0.7599]\n  PeriodicSite: Cd2+ (3.6345, -0.1775, 3.0003) [0.2777, -0.0136, 0.2293]\n  PeriodicSite: Cd2+ (3.3935, -0.1058, 10.1934) [0.2593, -0.0081, 0.7789]\n  PeriodicSite: Cd2+ (3.4617, 6.6544, 3.2407) [0.2645, 0.5085, 0.2476]\n  PeriodicSite: Cd2+ (3.5704, 6.2570, 9.7268) [0.2728, 0.4781, 0.7433]\n  PeriodicSite: Cd2+ (9.5624, 0.1034, 3.6577) [0.7307, 0.0079, 0.2795]\n  PeriodicSite: Cd2+ (9.3425, 0.0365, 9.4155) [0.7139, 0.0028, 0.7195]\n  PeriodicSite: Cd2+ (10.0866, 6.6639, 3.5372) [0.7707, 0.5092, 0.2703]\n  PeriodicSite: Cd2+ (9.6178, 6.6634, 9.9668) [0.7349, 0.5092, 0.7616]\n  PeriodicSite: Cd2+ (3.0944, 3.1629, -0.3348) [0.2365, 0.2417, -0.0256]\n  PeriodicSite: Cd2+ (3.6548, 3.1972, 6.1638) [0.2793, 0.2443, 0.4710]\n  PeriodicSite: Cd2+ (3.7174, 10.1050, -0.2387) [0.2841, 0.7722, -0.0182]\n  PeriodicSite: Cd2+ (3.2182, 10.2993, 6.7096) [0.2459, 0.7870, 0.5127]\n  PeriodicSite: Cd2+ (9.8685, 3.4300, -0.0656) [0.7541, 0.2621, -0.0050]\n  PeriodicSite: Cd2+ (9.7856, 3.4538, 6.8890) [0.7477, 0.2639, 0.5264]\n  PeriodicSite: Cd2+ (10.4978, 10.0715, 0.4778) [0.8022, 0.7696, 0.0365]\n  PeriodicSite: Cd2+ (9.7876, 9.7389, 6.5882) [0.7479, 0.7442, 0.5034]\n  PeriodicSite: Te2- (1.7553, 1.5854, 5.1683) [0.1341, 0.1211, 0.3949]\n  PeriodicSite: Te2- (1.1356, 1.7650, 11.5531) [0.0868, 0.1349, 0.8828]\n  PeriodicSite: Te2- (1.3456, 8.7125, 4.8407) [0.1028, 0.6657, 0.3699]\n  PeriodicSite: Te2- (1.7323, 8.7625, 11.2885) [0.1324, 0.6696, 0.8626]\n  PeriodicSite: Te2- (8.2035, 1.6203, 4.9887) [0.6269, 0.1238, 0.3812]\n  PeriodicSite: Te2- (8.3487, 1.4178, 11.6062) [0.6380, 0.1083, 0.8869]\n  PeriodicSite: Te2- (8.3141, 8.1945, 4.9299) [0.6353, 0.6262, 0.3767]\n  PeriodicSite: Te2- (8.2301, 8.2651, 11.6074) [0.6289, 0.6316, 0.8870]\n  PeriodicSite: Te2- (1.4065, 5.2255, 1.6593) [0.1075, 0.3993, 0.1268]\n  PeriodicSite: Te2- (1.5870, 4.9487, 8.0778) [0.1213, 0.3781, 0.6172]\n  PeriodicSite: Te2- (1.6062, 11.9679, 1.7095) [0.1227, 0.9145, 0.1306]\n  PeriodicSite: Te2- (1.2734, 11.6132, 8.1925) [0.0973, 0.8874, 0.6260]\n  PeriodicSite: Te2- (8.2167, 5.1394, 1.9007) [0.6279, 0.3927, 0.1452]\n  PeriodicSite: Te2- (8.3235, 4.6830, 8.4148) [0.6360, 0.3578, 0.6430]\n  PeriodicSite: Te2- (7.4207, 11.6144, 1.2533) [0.5670, 0.8875, 0.0958]\n  PeriodicSite: Te2- (7.8013, 11.3200, 8.0219) [0.5961, 0.8650, 0.6130]\n  PeriodicSite: Te2- (4.6569, 1.3955, 1.1224) [0.3559, 0.1066, 0.0858]\n  PeriodicSite: Te2- (4.7222, 2.0771, 8.4831) [0.3608, 0.1587, 0.6482]\n  PeriodicSite: Te2- (4.8497, 8.3545, 1.9417) [0.3706, 0.6384, 0.1484]\n  PeriodicSite: Te2- (5.0328, 8.4324, 7.6594) [0.3846, 0.6443, 0.5853]\n  PeriodicSite: Te2- (11.4065, 1.4393, 1.7988) [0.8716, 0.1100, 0.1375]\n  PeriodicSite: Te2- (11.3521, 1.2681, 7.8032) [0.8674, 0.0969, 0.5963]\n  PeriodicSite: Te2- (11.8018, 7.8258, 1.8719) [0.9018, 0.5980, 0.1430]\n  PeriodicSite: Te2- (11.4149, 8.4446, 7.4716) [0.8722, 0.6453, 0.5709]\n  PeriodicSite: Te2- (4.6601, 4.9251, 5.0872) [0.3561, 0.3763, 0.3887]\n  PeriodicSite: Te2- (4.7645, 5.0612, 11.6746) [0.3641, 0.3867, 0.8921]\n  PeriodicSite: Te2- (5.1427, 11.3003, 4.8917) [0.3930, 0.8635, 0.3738]\n  PeriodicSite: Te2- (5.1772, 11.6429, 11.6945) [0.3956, 0.8897, 0.8936]\n  PeriodicSite: Te2- (11.8344, 4.7879, 4.8996) [0.9043, 0.3659, 0.3744]\n  PeriodicSite: Te2- (12.2190, 5.1747, 11.8364) [0.9337, 0.3954, 0.9045]\n  PeriodicSite: Te2- (11.8111, 11.6230, 4.9117) [0.9025, 0.8882, 0.3753]\n  PeriodicSite: Te2- (11.5905, 11.3219, 11.7986) [0.8857, 0.8651, 0.9016],\n  'Bond_Distortion_20.0%': Structure Summary\n  Lattice\n      abc : 13.086768 13.086768 13.086768\n   angles : 90.0 90.0 90.0\n   volume : 2241.2856479961474\n        A : 13.086768 0.0 0.0\n        B : 0.0 13.086768 0.0\n        C : 0.0 0.0 13.086768\n      pbc : True True True\n  PeriodicSite: Te4+ (11.4509, 1.6358, 11.4509) [0.8750, 0.1250, 0.8750]\n  PeriodicSite: Cd2+ (0.3272, -0.3272, 0.3272) [0.0250, -0.0250, 0.0250]\n  PeriodicSite: Cd2+ (0.0896, 0.2795, 6.4999) [0.0068, 0.0214, 0.4967]\n  PeriodicSite: Cd2+ (0.0402, 6.9234, -0.0431) [0.0031, 0.5290, -0.0033]\n  PeriodicSite: Cd2+ (-0.1846, 6.6192, 6.3321) [-0.0141, 0.5058, 0.4839]\n  PeriodicSite: Cd2+ (6.6254, 0.2106, -0.3562) [0.5063, 0.0161, -0.0272]\n  PeriodicSite: Cd2+ (6.4710, 0.2184, 6.1241) [0.4945, 0.0167, 0.4680]\n  PeriodicSite: Cd2+ (7.0550, 6.7073, -0.1046) [0.5391, 0.5125, -0.0080]\n  PeriodicSite: Cd2+ (6.4008, 6.2229, 6.4269) [0.4891, 0.4755, 0.4911]\n  PeriodicSite: Cd2+ (0.0200, 3.1757, 3.1086) [0.0015, 0.2427, 0.2375]\n  PeriodicSite: Cd2+ (0.3272, 3.5989, 9.4879) [0.0250, 0.2750, 0.7250]\n  PeriodicSite: Cd2+ (0.0873, 9.8431, 2.7443) [0.0067, 0.7521, 0.2097]\n  PeriodicSite: Cd2+ (0.1104, 9.4848, 9.6328) [0.0084, 0.7248, 0.7361]\n  PeriodicSite: Cd2+ (6.3109, 2.9174, 3.4099) [0.4822, 0.2229, 0.2606]\n  PeriodicSite: Cd2+ (6.4794, 3.3194, 9.6321) [0.4951, 0.2536, 0.7360]\n  PeriodicSite: Cd2+ (6.7217, 9.8999, 3.2614) [0.5136, 0.7565, 0.2492]\n  PeriodicSite: Cd2+ (6.4407, 9.7422, 9.9442) [0.4922, 0.7444, 0.7599]\n  PeriodicSite: Cd2+ (3.6345, -0.1775, 3.0003) [0.2777, -0.0136, 0.2293]\n  PeriodicSite: Cd2+ (3.3935, -0.1058, 10.1934) [0.2593, -0.0081, 0.7789]\n  PeriodicSite: Cd2+ (3.4617, 6.6544, 3.2407) [0.2645, 0.5085, 0.2476]\n  PeriodicSite: Cd2+ (3.5704, 6.2570, 9.7268) [0.2728, 0.4781, 0.7433]\n  PeriodicSite: Cd2+ (9.5624, 0.1034, 3.6577) [0.7307, 0.0079, 0.2795]\n  PeriodicSite: Cd2+ (9.3425, 0.0365, 9.4155) [0.7139, 0.0028, 0.7195]\n  PeriodicSite: Cd2+ (10.0866, 6.6639, 3.5372) [0.7707, 0.5092, 0.2703]\n  PeriodicSite: Cd2+ (9.6178, 6.6634, 9.9668) [0.7349, 0.5092, 0.7616]\n  PeriodicSite: Cd2+ (3.0944, 3.1629, -0.3348) [0.2365, 0.2417, -0.0256]\n  PeriodicSite: Cd2+ (3.6548, 3.1972, 6.1638) [0.2793, 0.2443, 0.4710]\n  PeriodicSite: Cd2+ (3.7174, 10.1050, -0.2387) [0.2841, 0.7722, -0.0182]\n  PeriodicSite: Cd2+ (3.2182, 10.2993, 6.7096) [0.2459, 0.7870, 0.5127]\n  PeriodicSite: Cd2+ (9.8685, 3.4300, -0.0656) [0.7541, 0.2621, -0.0050]\n  PeriodicSite: Cd2+ (9.7856, 3.4538, 6.8890) [0.7477, 0.2639, 0.5264]\n  PeriodicSite: Cd2+ (10.4978, 10.0715, 0.4778) [0.8022, 0.7696, 0.0365]\n  PeriodicSite: Cd2+ (9.7876, 9.7389, 6.5882) [0.7479, 0.7442, 0.5034]\n  PeriodicSite: Te2- (1.7553, 1.5854, 5.1683) [0.1341, 0.1211, 0.3949]\n  PeriodicSite: Te2- (1.0984, 2.1098, 10.9321) [0.0839, 0.1612, 0.8354]\n  PeriodicSite: Te2- (1.6933, 7.5982, 4.6149) [0.1294, 0.5806, 0.3526]\n  PeriodicSite: Te2- (1.1356, 8.3084, 11.5531) [0.0868, 0.6349, 0.8828]\n  PeriodicSite: Te2- (7.8890, 2.1691, 4.8407) [0.6028, 0.1657, 0.3699]\n  PeriodicSite: Te2- (8.2757, 2.2192, 11.2885) [0.6324, 0.1696, 0.8626]\n  PeriodicSite: Te2- (8.2035, 8.1637, 4.9887) [0.6269, 0.6238, 0.3812]\n  PeriodicSite: Te2- (8.3141, 8.1945, 11.4733) [0.6353, 0.6262, 0.8767]\n  PeriodicSite: Te2- (2.0153, 4.6415, 2.0961) [0.1540, 0.3547, 0.1602]\n  PeriodicSite: Te2- (1.6867, 4.9934, 8.3357) [0.1289, 0.3816, 0.6370]\n  PeriodicSite: Te2- (1.8441, 11.1331, 1.3223) [0.1409, 0.8507, 0.1010]\n  PeriodicSite: Te2- (1.2734, 11.6132, 8.1925) [0.0973, 0.8874, 0.6260]\n  PeriodicSite: Te2- (8.2167, 5.1394, 1.9007) [0.6279, 0.3927, 0.1452]\n  PeriodicSite: Te2- (8.3235, 4.6830, 8.4148) [0.6360, 0.3578, 0.6430]\n  PeriodicSite: Te2- (7.4207, 11.6144, 1.2533) [0.5670, 0.8875, 0.0958]\n  PeriodicSite: Te2- (7.8013, 11.3200, 8.0219) [0.5961, 0.8650, 0.6130]\n  PeriodicSite: Te2- (4.6569, 1.3955, 1.1224) [0.3559, 0.1066, 0.0858]\n  PeriodicSite: Te2- (4.7222, 2.0771, 8.4831) [0.3608, 0.1587, 0.6482]\n  PeriodicSite: Te2- (4.8497, 8.3545, 1.9417) [0.3706, 0.6384, 0.1484]\n  PeriodicSite: Te2- (5.0328, 8.4324, 7.6594) [0.3846, 0.6443, 0.5853]\n  PeriodicSite: Te2- (11.4065, 1.4393, 1.7988) [0.8716, 0.1100, 0.1375]\n  PeriodicSite: Te2- (11.3521, 1.2681, 7.8032) [0.8674, 0.0969, 0.5963]\n  PeriodicSite: Te2- (11.8018, 7.8258, 1.8719) [0.9018, 0.5980, 0.1430]\n  PeriodicSite: Te2- (11.4149, 8.4446, 7.4716) [0.8722, 0.6453, 0.5709]\n  PeriodicSite: Te2- (4.6601, 4.9251, 5.0872) [0.3561, 0.3763, 0.3887]\n  PeriodicSite: Te2- (4.7645, 5.0612, 11.6746) [0.3641, 0.3867, 0.8921]\n  PeriodicSite: Te2- (5.1427, 11.3003, 4.8917) [0.3930, 0.8635, 0.3738]\n  PeriodicSite: Te2- (5.1772, 11.6429, 11.6945) [0.3956, 0.8897, 0.8936]\n  PeriodicSite: Te2- (11.8344, 4.7879, 4.8996) [0.9043, 0.3659, 0.3744]\n  PeriodicSite: Te2- (12.2190, 5.1747, 11.8364) [0.9337, 0.3954, 0.9045]\n  PeriodicSite: Te2- (11.8111, 11.6230, 4.9117) [0.9025, 0.8882, 0.3753]\n  PeriodicSite: Te2- (11.5905, 11.3219, 11.7986) [0.8857, 0.8651, 0.9016],\n  'Bond_Distortion_30.0%': Structure Summary\n  Lattice\n      abc : 13.086768 13.086768 13.086768\n   angles : 90.0 90.0 90.0\n   volume : 2241.2856479961474\n        A : 13.086768 0.0 0.0\n        B : 0.0 13.086768 0.0\n        C : 0.0 0.0 13.086768\n      pbc : True True True\n  PeriodicSite: Te4+ (11.4509, 1.6358, 11.4509) [0.8750, 0.1250, 0.8750]\n  PeriodicSite: Cd2+ (0.4908, -0.4908, 0.4908) [0.0375, -0.0375, 0.0375]\n  PeriodicSite: Cd2+ (0.0896, 0.2795, 6.4999) [0.0068, 0.0214, 0.4967]\n  PeriodicSite: Cd2+ (0.0402, 6.9234, -0.0431) [0.0031, 0.5290, -0.0033]\n  PeriodicSite: Cd2+ (-0.1846, 6.6192, 6.3321) [-0.0141, 0.5058, 0.4839]\n  PeriodicSite: Cd2+ (6.6254, 0.2106, -0.3562) [0.5063, 0.0161, -0.0272]\n  PeriodicSite: Cd2+ (6.4710, 0.2184, 6.1241) [0.4945, 0.0167, 0.4680]\n  PeriodicSite: Cd2+ (7.0550, 6.7073, -0.1046) [0.5391, 0.5125, -0.0080]\n  PeriodicSite: Cd2+ (6.4008, 6.2229, 6.4269) [0.4891, 0.4755, 0.4911]\n  PeriodicSite: Cd2+ (0.0200, 3.1757, 3.1086) [0.0015, 0.2427, 0.2375]\n  PeriodicSite: Cd2+ (0.4908, 3.7625, 9.3243) [0.0375, 0.2875, 0.7125]\n  PeriodicSite: Cd2+ (0.0873, 9.8431, 2.7443) [0.0067, 0.7521, 0.2097]\n  PeriodicSite: Cd2+ (0.1104, 9.4848, 9.6328) [0.0084, 0.7248, 0.7361]\n  PeriodicSite: Cd2+ (6.3109, 2.9174, 3.4099) [0.4822, 0.2229, 0.2606]\n  PeriodicSite: Cd2+ (6.4794, 3.3194, 9.6321) [0.4951, 0.2536, 0.7360]\n  PeriodicSite: Cd2+ (6.7217, 9.8999, 3.2614) [0.5136, 0.7565, 0.2492]\n  PeriodicSite: Cd2+ (6.4407, 9.7422, 9.9442) [0.4922, 0.7444, 0.7599]\n  PeriodicSite: Cd2+ (3.6345, -0.1775, 3.0003) [0.2777, -0.0136, 0.2293]\n  PeriodicSite: Cd2+ (3.3935, -0.1058, 10.1934) [0.2593, -0.0081, 0.7789]\n  PeriodicSite: Cd2+ (3.4617, 6.6544, 3.2407) [0.2645, 0.5085, 0.2476]\n  PeriodicSite: Cd2+ (3.5704, 6.2570, 9.7268) [0.2728, 0.4781, 0.7433]\n  PeriodicSite: Cd2+ (9.5624, 0.1034, 3.6577) [0.7307, 0.0079, 0.2795]\n  PeriodicSite: Cd2+ (9.3425, 0.0365, 9.4155) [0.7139, 0.0028, 0.7195]\n  PeriodicSite: Cd2+ (10.0866, 6.6639, 3.5372) [0.7707, 0.5092, 0.2703]\n  PeriodicSite: Cd2+ (9.6178, 6.6634, 9.9668) [0.7349, 0.5092, 0.7616]\n  PeriodicSite: Cd2+ (3.0944, 3.1629, -0.3348) [0.2365, 0.2417, -0.0256]\n  PeriodicSite: Cd2+ (3.6548, 3.1972, 6.1638) [0.2793, 0.2443, 0.4710]\n  PeriodicSite: Cd2+ (3.7174, 10.1050, -0.2387) [0.2841, 0.7722, -0.0182]\n  PeriodicSite: Cd2+ (3.2182, 10.2993, 6.7096) [0.2459, 0.7870, 0.5127]\n  PeriodicSite: Cd2+ (9.8685, 3.4300, -0.0656) [0.7541, 0.2621, -0.0050]\n  PeriodicSite: Cd2+ (9.7856, 3.4538, 6.8890) [0.7477, 0.2639, 0.5264]\n  PeriodicSite: Cd2+ (10.4978, 10.0715, 0.4778) [0.8022, 0.7696, 0.0365]\n  PeriodicSite: Cd2+ (9.7876, 9.7389, 6.5882) [0.7479, 0.7442, 0.5034]\n  PeriodicSite: Te2- (1.7553, 1.5854, 5.1683) [0.1341, 0.1211, 0.3949]\n  PeriodicSite: Te2- (1.0984, 2.1098, 10.9321) [0.0839, 0.1612, 0.8354]\n  PeriodicSite: Te2- (1.6933, 7.5982, 4.6149) [0.1294, 0.5806, 0.3526]\n  PeriodicSite: Te2- (1.1356, 8.3084, 11.5531) [0.0868, 0.6349, 0.8828]\n  PeriodicSite: Te2- (7.8890, 2.1691, 4.8407) [0.6028, 0.1657, 0.3699]\n  PeriodicSite: Te2- (8.2757, 2.2192, 11.2885) [0.6324, 0.1696, 0.8626]\n  PeriodicSite: Te2- (8.2035, 8.1637, 4.9887) [0.6269, 0.6238, 0.3812]\n  PeriodicSite: Te2- (8.3141, 8.1945, 11.4733) [0.6353, 0.6262, 0.8767]\n  PeriodicSite: Te2- (2.0153, 4.6415, 2.0961) [0.1540, 0.3547, 0.1602]\n  PeriodicSite: Te2- (1.6062, 5.4245, 8.2528) [0.1227, 0.4145, 0.6306]\n  PeriodicSite: Te2- (1.7801, 11.2264, 1.8714) [0.1360, 0.8578, 0.1430]\n  PeriodicSite: Te2- (0.8773, 11.6144, 7.7967) [0.0670, 0.8875, 0.5958]\n  PeriodicSite: Te2- (7.8013, 4.7766, 1.4785) [0.5961, 0.3650, 0.1130]\n  PeriodicSite: Te2- (7.9286, 4.6672, 7.6658) [0.6059, 0.3566, 0.5858]\n  PeriodicSite: Te2- (7.9939, 11.8922, 1.9398) [0.6108, 0.9087, 0.1482]\n  PeriodicSite: Te2- (8.3045, 11.7040, 7.6594) [0.6346, 0.8943, 0.5853]\n  PeriodicSite: Te2- (4.8631, 1.4393, 1.7988) [0.3716, 0.1100, 0.1375]\n  PeriodicSite: Te2- (4.8087, 1.2681, 7.8032) [0.3674, 0.0969, 0.5963]\n  PeriodicSite: Te2- (5.2584, 7.8258, 1.8719) [0.4018, 0.5980, 0.1430]\n  PeriodicSite: Te2- (4.8715, 8.4446, 7.4716) [0.3722, 0.6453, 0.5709]\n  PeriodicSite: Te2- (11.2035, 1.6534, 1.8155) [0.8561, 0.1263, 0.1387]\n  PeriodicSite: Te2- (11.3079, 1.7895, 8.4029) [0.8641, 0.1367, 0.6421]\n  PeriodicSite: Te2- (11.6860, 8.0286, 1.6200) [0.8930, 0.6135, 0.1238]\n  PeriodicSite: Te2- (11.8344, 8.0596, 8.1713) [0.9043, 0.6159, 0.6244]\n  PeriodicSite: Te2- (5.2677, 5.0796, 4.9117) [0.4025, 0.3882, 0.3753]\n  PeriodicSite: Te2- (5.0472, 4.7785, 11.7986) [0.3857, 0.3651, 0.9016]\n  PeriodicSite: Te2- (5.1505, 11.5775, 4.7128) [0.3936, 0.8847, 0.3601]\n  PeriodicSite: Te2- (5.1950, 11.6124, 11.4356) [0.3970, 0.8873, 0.8738]\n  PeriodicSite: Te2- (11.2433, 4.8414, 4.8689) [0.8591, 0.3699, 0.3720]\n  PeriodicSite: Te2- (11.1264, 4.9424, 11.3944) [0.8502, 0.3777, 0.8707]\n  PeriodicSite: Te2- (11.8122, 11.4322, 5.2130) [0.9026, 0.8736, 0.3983]\n  PeriodicSite: Te2- (11.5143, 11.6693, 11.2270) [0.8798, 0.8917, 0.8579],\n  'Bond_Distortion_40.0%': Structure Summary\n  Lattice\n      abc : 13.086768 13.086768 13.086768\n   angles : 90.0 90.0 90.0\n   volume : 2241.2856479961474\n        A : 13.086768 0.0 0.0\n        B : 0.0 13.086768 0.0\n        C : 0.0 0.0 13.086768\n      pbc : True True True\n  PeriodicSite: Te4+ (11.4509, 1.6358, 11.4509) [0.8750, 0.1250, 0.8750]\n  PeriodicSite: Cd2+ (0.6544, -0.6544, 0.6544) [0.0500, -0.0500, 0.0500]\n  PeriodicSite: Cd2+ (0.0896, 0.2795, 6.4999) [0.0068, 0.0214, 0.4967]\n  PeriodicSite: Cd2+ (0.0402, 6.9234, -0.0431) [0.0031, 0.5290, -0.0033]\n  PeriodicSite: Cd2+ (-0.1846, 6.6192, 6.3321) [-0.0141, 0.5058, 0.4839]\n  PeriodicSite: Cd2+ (6.6254, 0.2106, -0.3562) [0.5063, 0.0161, -0.0272]\n  PeriodicSite: Cd2+ (6.4710, 0.2184, 6.1241) [0.4945, 0.0167, 0.4680]\n  PeriodicSite: Cd2+ (7.0550, 6.7073, -0.1046) [0.5391, 0.5125, -0.0080]\n  PeriodicSite: Cd2+ (6.4008, 6.2229, 6.4269) [0.4891, 0.4755, 0.4911]\n  PeriodicSite: Cd2+ (0.0200, 3.1757, 3.1086) [0.0015, 0.2427, 0.2375]\n  PeriodicSite: Cd2+ (0.6544, 3.9261, 9.1607) [0.0500, 0.3000, 0.7000]\n  PeriodicSite: Cd2+ (0.0873, 9.8431, 2.7443) [0.0067, 0.7521, 0.2097]\n  PeriodicSite: Cd2+ (0.1104, 9.4848, 9.6328) [0.0084, 0.7248, 0.7361]\n  PeriodicSite: Cd2+ (6.3109, 2.9174, 3.4099) [0.4822, 0.2229, 0.2606]\n  PeriodicSite: Cd2+ (6.4794, 3.3194, 9.6321) [0.4951, 0.2536, 0.7360]\n  PeriodicSite: Cd2+ (6.7217, 9.8999, 3.2614) [0.5136, 0.7565, 0.2492]\n  PeriodicSite: Cd2+ (6.4407, 9.7422, 9.9442) [0.4922, 0.7444, 0.7599]\n  PeriodicSite: Cd2+ (3.6345, -0.1775, 3.0003) [0.2777, -0.0136, 0.2293]\n  PeriodicSite: Cd2+ (3.3935, -0.1058, 10.1934) [0.2593, -0.0081, 0.7789]\n  PeriodicSite: Cd2+ (3.4617, 6.6544, 3.2407) [0.2645, 0.5085, 0.2476]\n  PeriodicSite: Cd2+ (3.5704, 6.2570, 9.7268) [0.2728, 0.4781, 0.7433]\n  PeriodicSite: Cd2+ (9.5624, 0.1034, 3.6577) [0.7307, 0.0079, 0.2795]\n  PeriodicSite: Cd2+ (9.3425, 0.0365, 9.4155) [0.7139, 0.0028, 0.7195]\n  PeriodicSite: Cd2+ (10.0866, 6.6639, 3.5372) [0.7707, 0.5092, 0.2703]\n  PeriodicSite: Cd2+ (9.6178, 6.6634, 9.9668) [0.7349, 0.5092, 0.7616]\n  PeriodicSite: Cd2+ (3.0944, 3.1629, -0.3348) [0.2365, 0.2417, -0.0256]\n  PeriodicSite: Cd2+ (3.6548, 3.1972, 6.1638) [0.2793, 0.2443, 0.4710]\n  PeriodicSite: Cd2+ (3.7174, 10.1050, -0.2387) [0.2841, 0.7722, -0.0182]\n  PeriodicSite: Cd2+ (3.2182, 10.2993, 6.7096) [0.2459, 0.7870, 0.5127]\n  PeriodicSite: Cd2+ (9.8685, 3.4300, -0.0656) [0.7541, 0.2621, -0.0050]\n  PeriodicSite: Cd2+ (9.7856, 3.4538, 6.8890) [0.7477, 0.2639, 0.5264]\n  PeriodicSite: Cd2+ (10.4978, 10.0715, 0.4778) [0.8022, 0.7696, 0.0365]\n  PeriodicSite: Cd2+ (9.7876, 9.7389, 6.5882) [0.7479, 0.7442, 0.5034]\n  PeriodicSite: Te2- (1.7553, 1.5854, 5.1683) [0.1341, 0.1211, 0.3949]\n  PeriodicSite: Te2- (1.0984, 2.1098, 10.9321) [0.0839, 0.1612, 0.8354]\n  PeriodicSite: Te2- (1.6933, 7.5982, 4.6149) [0.1294, 0.5806, 0.3526]\n  PeriodicSite: Te2- (1.1356, 8.3084, 11.5531) [0.0868, 0.6349, 0.8828]\n  PeriodicSite: Te2- (7.8890, 2.1691, 4.8407) [0.6028, 0.1657, 0.3699]\n  PeriodicSite: Te2- (8.2757, 2.2192, 11.2885) [0.6324, 0.1696, 0.8626]\n  PeriodicSite: Te2- (8.2035, 8.1637, 4.9887) [0.6269, 0.6238, 0.3812]\n  PeriodicSite: Te2- (8.3141, 8.1945, 11.4733) [0.6353, 0.6262, 0.8767]\n  PeriodicSite: Te2- (2.0153, 4.6415, 2.0961) [0.1540, 0.3547, 0.1602]\n  PeriodicSite: Te2- (1.5998, 5.1729, 7.4716) [0.1222, 0.3953, 0.5709]\n  PeriodicSite: Te2- (2.2383, 11.1368, 1.8932) [0.1710, 0.8510, 0.1447]\n  PeriodicSite: Te2- (1.5102, 11.2799, 8.1658) [0.1154, 0.8619, 0.6240]\n  PeriodicSite: Te2- (8.2166, 4.5295, 1.9803) [0.6279, 0.3461, 0.1513]\n  PeriodicSite: Te2- (7.8650, 4.4987, 8.0211) [0.6010, 0.3438, 0.6129]\n  PeriodicSite: Te2- (8.3094, 11.5412, 1.8369) [0.6349, 0.8819, 0.1404]\n  PeriodicSite: Te2- (8.4306, 11.2639, 8.4650) [0.6442, 0.8607, 0.6468]\n  PeriodicSite: Te2- (4.7037, 1.8992, 1.9428) [0.3594, 0.1451, 0.1485]\n  PeriodicSite: Te2- (4.7215, 1.2382, 8.2142) [0.3608, 0.0946, 0.6277]\n  PeriodicSite: Te2- (4.9547, 8.5058, 1.5223) [0.3786, 0.6500, 0.1163]\n  PeriodicSite: Te2- (4.7964, 7.8642, 8.1176) [0.3665, 0.6009, 0.6203]\n  PeriodicSite: Te2- (11.3022, 1.8035, 1.7448) [0.8636, 0.1378, 0.1333]\n  PeriodicSite: Te2- (11.6175, 1.5022, 8.0493) [0.8877, 0.1148, 0.6151]\n  PeriodicSite: Te2- (11.1269, 8.0395, 1.5702) [0.8502, 0.6143, 0.1200]\n  PeriodicSite: Te2- (11.4569, 8.3191, 8.3173) [0.8755, 0.6357, 0.6356]\n  PeriodicSite: Te2- (4.6892, 5.1144, 4.9994) [0.3583, 0.3908, 0.3820]\n  PeriodicSite: Te2- (4.6652, 4.8665, 11.5866) [0.3565, 0.3719, 0.8854]\n  PeriodicSite: Te2- (4.5712, 11.5203, 4.7565) [0.3493, 0.8803, 0.3635]\n  PeriodicSite: Te2- (5.3647, 11.3150, 11.5180) [0.4099, 0.8646, 0.8801]\n  PeriodicSite: Te2- (11.7621, 5.0298, 4.6690) [0.8988, 0.3843, 0.3568]\n  PeriodicSite: Te2- (11.9347, 4.7362, 11.7044) [0.9120, 0.3619, 0.8944]\n  PeriodicSite: Te2- (11.6553, 11.5546, 4.6727) [0.8906, 0.8829, 0.3571]\n  PeriodicSite: Te2- (11.7516, 11.2962, 11.8928) [0.8980, 0.8632, 0.9088],\n  'Bond_Distortion_50.0%': Structure Summary\n  Lattice\n      abc : 13.086768 13.086768 13.086768\n   angles : 90.0 90.0 90.0\n   volume : 2241.2856479961474\n        A : 13.086768 0.0 0.0\n        B : 0.0 13.086768 0.0\n        C : 0.0 0.0 13.086768\n      pbc : True True True\n  PeriodicSite: Te4+ (11.4509, 1.6358, 11.4509) [0.8750, 0.1250, 0.8750]\n  PeriodicSite: Cd2+ (0.8180, -0.8180, 0.8180) [0.0625, -0.0625, 0.0625]\n  PeriodicSite: Cd2+ (0.0896, 0.2795, 6.4999) [0.0068, 0.0214, 0.4967]\n  PeriodicSite: Cd2+ (0.0402, 6.9234, -0.0431) [0.0031, 0.5290, -0.0033]\n  PeriodicSite: Cd2+ (-0.1846, 6.6192, 6.3321) [-0.0141, 0.5058, 0.4839]\n  PeriodicSite: Cd2+ (6.6254, 0.2106, -0.3562) [0.5063, 0.0161, -0.0272]\n  PeriodicSite: Cd2+ (6.4710, 0.2184, 6.1241) [0.4945, 0.0167, 0.4680]\n  PeriodicSite: Cd2+ (7.0550, 6.7073, -0.1046) [0.5391, 0.5125, -0.0080]\n  PeriodicSite: Cd2+ (6.4008, 6.2229, 6.4269) [0.4891, 0.4755, 0.4911]\n  PeriodicSite: Cd2+ (0.0200, 3.1757, 3.1086) [0.0015, 0.2427, 0.2375]\n  PeriodicSite: Cd2+ (0.8180, 4.0896, 8.9971) [0.0625, 0.3125, 0.6875]\n  PeriodicSite: Cd2+ (0.0873, 9.8431, 2.7443) [0.0067, 0.7521, 0.2097]\n  PeriodicSite: Cd2+ (0.1104, 9.4848, 9.6328) [0.0084, 0.7248, 0.7361]\n  PeriodicSite: Cd2+ (6.3109, 2.9174, 3.4099) [0.4822, 0.2229, 0.2606]\n  PeriodicSite: Cd2+ (6.4794, 3.3194, 9.6321) [0.4951, 0.2536, 0.7360]\n  PeriodicSite: Cd2+ (6.7217, 9.8999, 3.2614) [0.5136, 0.7565, 0.2492]\n  PeriodicSite: Cd2+ (6.4407, 9.7422, 9.9442) [0.4922, 0.7444, 0.7599]\n  PeriodicSite: Cd2+ (3.6345, -0.1775, 3.0003) [0.2777, -0.0136, 0.2293]\n  PeriodicSite: Cd2+ (3.3935, -0.1058, 10.1934) [0.2593, -0.0081, 0.7789]\n  PeriodicSite: Cd2+ (3.4617, 6.6544, 3.2407) [0.2645, 0.5085, 0.2476]\n  PeriodicSite: Cd2+ (3.5704, 6.2570, 9.7268) [0.2728, 0.4781, 0.7433]\n  PeriodicSite: Cd2+ (9.5624, 0.1034, 3.6577) [0.7307, 0.0079, 0.2795]\n  PeriodicSite: Cd2+ (9.3425, 0.0365, 9.4155) [0.7139, 0.0028, 0.7195]\n  PeriodicSite: Cd2+ (10.0866, 6.6639, 3.5372) [0.7707, 0.5092, 0.2703]\n  PeriodicSite: Cd2+ (9.6178, 6.6634, 9.9668) [0.7349, 0.5092, 0.7616]\n  PeriodicSite: Cd2+ (3.0944, 3.1629, -0.3348) [0.2365, 0.2417, -0.0256]\n  PeriodicSite: Cd2+ (3.6548, 3.1972, 6.1638) [0.2793, 0.2443, 0.4710]\n  PeriodicSite: Cd2+ (3.7174, 10.1050, -0.2387) [0.2841, 0.7722, -0.0182]\n  PeriodicSite: Cd2+ (3.2182, 10.2993, 6.7096) [0.2459, 0.7870, 0.5127]\n  PeriodicSite: Cd2+ (9.8685, 3.4300, -0.0656) [0.7541, 0.2621, -0.0050]\n  PeriodicSite: Cd2+ (9.7856, 3.4538, 6.8890) [0.7477, 0.2639, 0.5264]\n  PeriodicSite: Cd2+ (10.4978, 10.0715, 0.4778) [0.8022, 0.7696, 0.0365]\n  PeriodicSite: Cd2+ (9.7876, 9.7389, 6.5882) [0.7479, 0.7442, 0.5034]\n  PeriodicSite: Te2- (1.7553, 1.5854, 5.1683) [0.1341, 0.1211, 0.3949]\n  PeriodicSite: Te2- (1.0984, 2.1098, 10.9321) [0.0839, 0.1612, 0.8354]\n  PeriodicSite: Te2- (1.6933, 7.5982, 4.6149) [0.1294, 0.5806, 0.3526]\n  PeriodicSite: Te2- (1.1356, 8.3084, 11.5531) [0.0868, 0.6349, 0.8828]\n  PeriodicSite: Te2- (7.8890, 2.1691, 4.8407) [0.6028, 0.1657, 0.3699]\n  PeriodicSite: Te2- (8.2757, 2.2192, 11.2885) [0.6324, 0.1696, 0.8626]\n  PeriodicSite: Te2- (8.2035, 8.1637, 4.9887) [0.6269, 0.6238, 0.3812]\n  PeriodicSite: Te2- (8.3141, 8.1945, 11.4733) [0.6353, 0.6262, 0.8767]\n  PeriodicSite: Te2- (2.0153, 4.6415, 2.0961) [0.1540, 0.3547, 0.1602]\n  PeriodicSite: Te2- (1.5678, 5.9071, 7.8126) [0.1198, 0.4514, 0.5970]\n  PeriodicSite: Te2- (2.4307, 11.0191, 2.1072) [0.1857, 0.8420, 0.1610]\n  PeriodicSite: Te2- (1.5567, 11.2472, 7.9884) [0.1190, 0.8594, 0.6104]\n  PeriodicSite: Te2- (8.3611, 4.6398, 1.5953) [0.6389, 0.3545, 0.1219]\n  PeriodicSite: Te2- (8.2248, 4.9083, 8.1052) [0.6285, 0.3751, 0.6193]\n  PeriodicSite: Te2- (8.0227, 11.7028, 1.2726) [0.6130, 0.8942, 0.0972]\n  PeriodicSite: Te2- (7.9770, 11.2745, 8.5766) [0.6095, 0.8615, 0.6554]\n  PeriodicSite: Te2- (5.3952, 1.6505, 1.4610) [0.4123, 0.1261, 0.1116]\n  PeriodicSite: Te2- (5.1832, 1.3413, 7.8749) [0.3961, 0.1025, 0.6017]\n  PeriodicSite: Te2- (5.3373, 7.8518, 1.1053) [0.4078, 0.6000, 0.0845]\n  PeriodicSite: Te2- (4.5719, 8.3219, 8.0248) [0.3494, 0.6359, 0.6132]\n  PeriodicSite: Te2- (11.2486, 1.5448, 1.2572) [0.8595, 0.1180, 0.0961]\n  PeriodicSite: Te2- (10.9303, 1.9211, 8.6343) [0.8352, 0.1468, 0.6598]\n  PeriodicSite: Te2- (11.3511, 7.9858, 1.7178) [0.8674, 0.6102, 0.1313]\n  PeriodicSite: Te2- (11.8083, 8.0903, 7.6308) [0.9023, 0.6182, 0.5831]\n  PeriodicSite: Te2- (4.9791, 5.4892, 4.8588) [0.3805, 0.4194, 0.3713]\n  PeriodicSite: Te2- (5.2054, 5.2376, 11.7586) [0.3978, 0.4002, 0.8985]\n  PeriodicSite: Te2- (5.3349, 11.5844, 4.6768) [0.4077, 0.8852, 0.3574]\n  PeriodicSite: Te2- (4.9339, 11.4170, 11.0525) [0.3770, 0.8724, 0.8446]\n  PeriodicSite: Te2- (11.3800, 5.1535, 5.0106) [0.8696, 0.3938, 0.3829]\n  PeriodicSite: Te2- (11.1261, 5.2493, 11.4824) [0.8502, 0.4011, 0.8774]\n  PeriodicSite: Te2- (11.3607, 11.7237, 4.9796) [0.8681, 0.8958, 0.3805]\n  PeriodicSite: Te2- (11.8575, 11.2889, 11.1901) [0.9061, 0.8626, 0.8551],\n  'Bond_Distortion_60.0%': Structure Summary\n  Lattice\n      abc : 13.086768 13.086768 13.086768\n   angles : 90.0 90.0 90.0\n   volume : 2241.2856479961474\n        A : 13.086768 0.0 0.0\n        B : 0.0 13.086768 0.0\n        C : 0.0 0.0 13.086768\n      pbc : True True True\n  PeriodicSite: Te4+ (11.4509, 1.6358, 11.4509) [0.8750, 0.1250, 0.8750]\n  PeriodicSite: Cd2+ (0.9815, -0.9815, 0.9815) [0.0750, -0.0750, 0.0750]\n  PeriodicSite: Cd2+ (0.0896, 0.2795, 6.4999) [0.0068, 0.0214, 0.4967]\n  PeriodicSite: Cd2+ (0.0402, 6.9234, -0.0431) [0.0031, 0.5290, -0.0033]\n  PeriodicSite: Cd2+ (-0.1846, 6.6192, 6.3321) [-0.0141, 0.5058, 0.4839]\n  PeriodicSite: Cd2+ (6.9657, -0.5551, 0.3550) [0.5323, -0.0424, 0.0271]\n  PeriodicSite: Cd2+ (6.6254, 0.2106, 6.1872) [0.5063, 0.0161, 0.4728]\n  PeriodicSite: Cd2+ (6.4710, 6.7618, -0.4193) [0.4945, 0.5167, -0.0320]\n  PeriodicSite: Cd2+ (7.0666, 6.7007, 6.3122) [0.5400, 0.5120, 0.4823]\n  PeriodicSite: Cd2+ (0.5116, 3.4356, 3.1671) [0.0391, 0.2625, 0.2420]\n  PeriodicSite: Cd2+ (0.9815, 4.2532, 8.8335) [0.0750, 0.3250, 0.6750]\n  PeriodicSite: Cd2+ (-0.1426, 9.4946, 3.1552) [-0.0109, 0.7255, 0.2411]\n  PeriodicSite: Cd2+ (0.0200, 9.7191, 9.6520) [0.0015, 0.7427, 0.7375]\n  PeriodicSite: Cd2+ (6.6307, 3.2997, 2.7443) [0.5067, 0.2521, 0.2097]\n  PeriodicSite: Cd2+ (6.6538, 2.9414, 9.6328) [0.5084, 0.2248, 0.7361]\n  PeriodicSite: Cd2+ (6.3109, 9.4608, 3.4099) [0.4822, 0.7229, 0.2606]\n  PeriodicSite: Cd2+ (6.4794, 9.8628, 9.6321) [0.4951, 0.7536, 0.7360]\n  PeriodicSite: Cd2+ (3.4500, 0.0848, 3.2614) [0.2636, 0.0065, 0.2492]\n  PeriodicSite: Cd2+ (3.1690, -0.0729, 9.9442) [0.2422, -0.0056, 0.7599]\n  PeriodicSite: Cd2+ (3.6345, 6.3659, 3.0003) [0.2777, 0.4864, 0.2293]\n  PeriodicSite: Cd2+ (3.3935, 6.4376, 10.1934) [0.2593, 0.4919, 0.7789]\n  PeriodicSite: Cd2+ (10.0051, 0.1110, 3.2407) [0.7645, 0.0085, 0.2476]\n  PeriodicSite: Cd2+ (10.1137, -0.2864, 9.7268) [0.7728, -0.0219, 0.7433]\n  PeriodicSite: Cd2+ (9.5624, 6.6468, 3.6577) [0.7307, 0.5079, 0.2795]\n  PeriodicSite: Cd2+ (9.3425, 6.5799, 9.4155) [0.7139, 0.5028, 0.7195]\n  PeriodicSite: Cd2+ (3.5432, 3.3922, 0.2655) [0.2707, 0.2592, 0.0203]\n  PeriodicSite: Cd2+ (3.0744, 3.3918, 6.6951) [0.2349, 0.2592, 0.5116]\n  PeriodicSite: Cd2+ (3.0944, 9.7063, -0.3348) [0.2365, 0.7417, -0.0256]\n  PeriodicSite: Cd2+ (3.6548, 9.7405, 6.1638) [0.2793, 0.7443, 0.4710]\n  PeriodicSite: Cd2+ (10.2608, 3.5616, -0.2387) [0.7841, 0.2722, -0.0182]\n  PeriodicSite: Cd2+ (9.7616, 3.7559, 6.7096) [0.7459, 0.2870, 0.5127]\n  PeriodicSite: Cd2+ (9.8685, 9.9734, -0.0656) [0.7541, 0.7621, -0.0050]\n  PeriodicSite: Cd2+ (9.7856, 9.9972, 6.8890) [0.7477, 0.7639, 0.5264]\n  PeriodicSite: Te2- (2.3186, 1.8923, 5.3853) [0.1772, 0.1446, 0.4115]\n  PeriodicSite: Te2- (1.6084, 1.5597, 11.4957) [0.1229, 0.1192, 0.8784]\n  PeriodicSite: Te2- (1.7553, 8.1288, 5.1683) [0.1341, 0.6211, 0.3949]\n  PeriodicSite: Te2- (1.5473, 8.5235, 11.9382) [0.1182, 0.6513, 0.9122]\n  PeriodicSite: Te2- (7.6418, 2.1098, 4.3888) [0.5839, 0.1612, 0.3354]\n  PeriodicSite: Te2- (8.2367, 1.0548, 11.1583) [0.6294, 0.0806, 0.8526]\n  PeriodicSite: Te2- (7.6789, 8.3084, 5.0097) [0.5868, 0.6349, 0.3828]\n  PeriodicSite: Te2- (7.8890, 8.7125, 11.3841) [0.6028, 0.6657, 0.8699]\n  PeriodicSite: Te2- (1.7323, 5.4909, 1.4734) [0.1324, 0.4196, 0.1126]\n  PeriodicSite: Te2- (1.6062, 5.4245, 8.2528) [0.1227, 0.4145, 0.6306]\n  PeriodicSite: Te2- (1.7801, 11.2264, 1.8714) [0.1360, 0.8578, 0.1430]\n  PeriodicSite: Te2- (0.8773, 11.6144, 7.7967) [0.0670, 0.8875, 0.5958]\n  PeriodicSite: Te2- (7.8013, 4.7766, 1.4785) [0.5961, 0.3650, 0.1130]\n  PeriodicSite: Te2- (7.9286, 4.6672, 7.6658) [0.6059, 0.3566, 0.5858]\n  PeriodicSite: Te2- (7.9939, 11.8922, 1.9398) [0.6108, 0.9087, 0.1482]\n  PeriodicSite: Te2- (8.1214, 11.6261, 8.4850) [0.6206, 0.8884, 0.6484]\n  PeriodicSite: Te2- (5.0328, 1.8890, 1.1160) [0.3846, 0.1443, 0.0853]\n  PeriodicSite: Te2- (4.8631, 1.4393, 8.3422) [0.3716, 0.1100, 0.6375]\n  PeriodicSite: Te2- (4.8087, 7.8114, 1.2598) [0.3674, 0.5969, 0.0963]\n  PeriodicSite: Te2- (5.2584, 7.8258, 8.4153) [0.4018, 0.5980, 0.6430]\n  PeriodicSite: Te2- (11.4149, 1.9012, 0.9282) [0.8722, 0.1453, 0.0709]\n  PeriodicSite: Te2- (11.2035, 1.6534, 8.3589) [0.8561, 0.1263, 0.6387]\n  PeriodicSite: Te2- (11.3079, 8.3329, 1.8595) [0.8641, 0.6367, 0.1421]\n  PeriodicSite: Te2- (11.6860, 8.0286, 8.1633) [0.8930, 0.6135, 0.6238]\n  PeriodicSite: Te2- (5.1772, 5.0995, 5.1511) [0.3956, 0.3897, 0.3936]\n  PeriodicSite: Te2- (5.2910, 4.7879, 11.4430) [0.4043, 0.3659, 0.8744]\n  PeriodicSite: Te2- (4.8120, 10.9915, 5.3228) [0.3677, 0.8399, 0.4067]\n  PeriodicSite: Te2- (5.6756, 11.7181, 11.8364) [0.4337, 0.8954, 0.9045]\n  PeriodicSite: Te2- (11.8111, 5.0796, 4.9117) [0.9025, 0.3882, 0.3753]\n  PeriodicSite: Te2- (11.5905, 4.7785, 11.7986) [0.8857, 0.3651, 0.9016]\n  PeriodicSite: Te2- (11.6939, 11.5775, 4.7128) [0.8936, 0.8847, 0.3601]\n  PeriodicSite: Te2- (11.7383, 11.6124, 11.4356) [0.8970, 0.8873, 0.8738]}}"
     },
     "execution_count": 10,
     "metadata": {},
     "output_type": "execute_result"
    }
   ],
   "source": [
    "# The output dictionary contains information about each defect:\n",
    "print(\"Keys for each defect entry:\", defects_dict[\"inter_6_Te\"].keys())\n",
    "\n",
    "# As well as the distorted structures for each charge state of all defects\n",
    "# We can access the distorted structures of v_Cd_0 like this:\n",
    "print(\"\\nUndistorted and distorted structures:\")\n",
    "defects_dict[\"inter_6_Te\"][\"charges\"][0][\"structures\"]"
   ]
  },
  {
   "cell_type": "markdown",
   "id": "2d9cdfb5-2176-415c-8118-0a9737e1c012",
   "metadata": {},
   "source": [
    "_(If you are viewing this on the [SnB Python API tutorial](https://shakenbreak.readthedocs.io/en/latest/ShakeNBreak_Example_Workflow.html) docs page, long output cells like this and printed dictionaries/structures below are scrollable!)_"
   ]
  },
  {
   "cell_type": "markdown",
   "id": "080db851",
   "metadata": {},
   "source": [
    "### 2.2 Generating `VASP` input files for the distorted structures"
   ]
  },
  {
   "cell_type": "markdown",
   "id": "b04e3361",
   "metadata": {},
   "source": [
    "If we want to generate `VASP` input files, we can use the class method `Distortions.write_vasp_files()` (instead of `Distortions.apply_distortions()`)"
   ]
  },
  {
   "cell_type": "code",
   "execution_count": 11,
   "id": "972dac91",
   "metadata": {
    "tags": [
     "output_scroll"
    ],
    "ExecuteTime": {
     "start_time": "2023-04-03T14:33:56.965137Z",
     "end_time": "2023-04-03T14:34:01.628718Z"
    }
   },
   "outputs": [
    {
     "name": "stdout",
     "output_type": "stream",
     "text": [
      "Applying ShakeNBreak... Will apply the following bond distortions: ['-0.6', '-0.5', '-0.4', '-0.3', '-0.2', '-0.1', '0.0', '0.1', '0.2', '0.3', '0.4', '0.5', '0.6']. Then, will rattle with a std dev of 0.28 Å \n",
      "\n",
      "\u001B[1m\n",
      "Defect: inter_6_Te\u001B[0m\n",
      "\u001B[1mNumber of missing electrons in neutral state: 2\u001B[0m\n",
      "\n",
      "Defect inter_6_Te in charge state: 0. Number of distorted neighbours: 2\n",
      "\n",
      "Defect inter_6_Te in charge state: -1. Number of distorted neighbours: 1\n",
      "\n",
      "Defect inter_6_Te in charge state: -2. Number of distorted neighbours: 0\n"
     ]
    }
   ],
   "source": [
    "defects_dict, distortion_metadata = Dist.write_vasp_files()"
   ]
  },
  {
   "cell_type": "markdown",
   "id": "771afcb5-1fcd-4a77-99ea-63899513992d",
   "metadata": {},
   "source": [
    "Using the `incar_settings` optional argument for `Distortions.write_vasp_files()` above, we can also specify some custom `INCAR` tags to match our converged `ENCUT` for this system and optimal `NCORE` for the HPC we will run the calculations on. More information on the distortions generated can be obtained by setting `verbose = True`. Note that any `INCAR` flags that aren't numbers (e.g. `{\"IBRION\": 1}`) or True/False (e.g. `{\"LREAL\": False}`) need to be input as strings with quotation marks (e.g. `{\"ALGO\": \"All\"}`)."
   ]
  },
  {
   "attachments": {},
   "cell_type": "markdown",
   "id": "1b7d3191-7565-4581-a092-a7494f46fe1e",
   "metadata": {},
   "source": [
    "Our distorted structures and VASP input files have now been generated in the `Int_Te_3_X` folders."
   ]
  },
  {
   "cell_type": "markdown",
   "id": "8be9feac-2966-4ea3-bfe9-b2750e2bbc5c",
   "metadata": {},
   "source": [
    "For the recommended default coarse structure-searching `INCAR` settings, either have a look at the `incar.yaml` file in the `SnB_input_files` folder or at the generated files:"
   ]
  },
  {
   "cell_type": "code",
   "execution_count": 12,
   "id": "50d39076-a262-4eac-84df-27ef74def826",
   "metadata": {
    "ExecuteTime": {
     "start_time": "2023-04-03T14:34:12.005630Z",
     "end_time": "2023-04-03T14:34:12.145520Z"
    }
   },
   "outputs": [
    {
     "name": "stdout",
     "output_type": "stream",
     "text": [
      "# May want to change NCORE, KPAR, AEXX, ENCUT, NUPDOWN, ISPIN, POTIM = \r\n",
      "# ShakeNBreak INCAR with coarse settings to maximise speed with sufficient accuracy for qualitative structure searching = \r\n",
      "# KPAR = # No KPAR, only one kpoint\r\n",
      "ALGO = Normal\r\n",
      "EDIFFG = -0.01\r\n",
      "ENCUT = 300\r\n",
      "HFSCREEN = 0.2\r\n",
      "IBRION = 2 # While often slower than '1' (RMM-DIIS), this is more stable and reliable, and vasp_gam relaxations are typically cheap enough to justify it\r\n",
      "ISIF = 2\r\n",
      "ISMEAR = 0\r\n",
      "ISPIN = 2 # Spin polarisation likely for defects\r\n",
      "ISYM = 0 # Symmetry breaking extremely likely for defects\r\n",
      "LASPH = True\r\n",
      "LCHARG = False\r\n",
      "LHFCALC = True\r\n",
      "LORBIT = 14\r\n",
      "LREAL = Auto\r\n",
      "LWAVE = False\r\n",
      "NCORE = 12\r\n",
      "NEDOS = 2000\r\n",
      "NELM = 40\r\n",
      "NSW = 300\r\n",
      "PREC = Accurate\r\n",
      "PRECFOCK = Fast\r\n",
      "SIGMA = 0.05\r\n",
      "NELECT = 582.0\r\n",
      "NUPDOWN = 0 # But could be 2 if strong spin polarisation or magnetic behaviour present\r\n",
      "EDIFF = 1e-05 # May need to reduce for tricky relaxations\r\n",
      "ROPT = 1e-3 1e-3 1e-3\r\n"
     ]
    }
   ],
   "source": [
    "!cat ./inter_6_Te_0/Bond_Distortion_-10.0%/INCAR"
   ]
  },
  {
   "cell_type": "markdown",
   "id": "089f73f1-4d3a-40da-8f99-9ab8346bbe80",
   "metadata": {},
   "source": [
    "Note that the `NELECT` `INCAR` tag (number of electrons) is automatically determined based on the choice of `POTCAR`s. The default in `ShakeNBreak` is to use the [`MPRelaxSet` `POTCAR` choices](https://github.com/materialsproject/pymatgen/blob/master/pymatgen/io/vasp/MPRelaxSet.yaml), but if you're using different ones, make sure to set `potcar_settings` in `apply_shakenbreak()`, so that NELECT is then set accordingly. This requires the `pymatgen` config file `$HOME/.pmgrc.yaml` to be properly set up as detailed on the [GitHub `README`](https://github.com/SMTG-UCL/ShakeNBreak) and [Installation](https://shakenbreak.readthedocs.io/en/latest/Installation.html) docs page."
   ]
  },
  {
   "cell_type": "markdown",
   "id": "e0a515f3-f307-455c-a14c-05768d56c4f7",
   "metadata": {},
   "source": [
    "For generating the input files for other electronic structure codes (`Quantum Espresso`, `FHI-aims`, `CP2K`, `CASTEP`), see the [(Optional) Generate input files for other codes](#other) section at the end of this notebook."
   ]
  },
  {
   "cell_type": "markdown",
   "id": "cbc5f6a1-10f4-43cd-85e2-04624db698f7",
   "metadata": {},
   "source": [
    "<a id='HPCs'></a>"
   ]
  },
  {
   "cell_type": "markdown",
   "id": "00c23d7a-66d6-4c57-a611-37745dcb2c24",
   "metadata": {},
   "source": [
    "## 3. Send to HPCs and run relaxations"
   ]
  },
  {
   "cell_type": "markdown",
   "id": "1a8d2e2f-10e5-4efd-941c-77401b2654d7",
   "metadata": {
    "tags": []
   },
   "source": [
    "Can use the `snb-run` CLI function to quickly run calculations; see the [Submitting the geometry optimisations](https://shakenbreak.readthedocs.io/en/latest/Generation.html#submitting-the-geometry-optimisations) section of the CLI tutorial for this."
   ]
  },
  {
   "attachments": {},
   "cell_type": "markdown",
   "id": "9512e11c",
   "metadata": {},
   "source": [
    "#### a) For `VASP` users:\n",
    "\n",
    "Then parse the energies obtained by running the `snb-parse` command from the top-level folder containing your defect folders (e.g. `inter_6_Te_0` etc. (with subfolders: `inter_6_Te_0/Bond_Distortion_10.0%` etc.)). This will parse the energies and store them in a `inter_6_Te_0.yaml` etc file in the defect folders, to allow easy plotting and analysis.\n",
    "\n",
    "It is also recommended to parse the final structures (`CONTCAR`s files if using `VASP`) obtained with each distortion relaxation for further structural analysis, which is done automatically when downloaded to your local folders as below. \n",
    "\n",
    "Copying these data to your local PC can be done quickly from your local folder top-level folder (containing `inter_6_Te_0` etc) with the following code:\n",
    "\n",
    "```bash\n",
    "for defect in ./*{_,_-}[0-9]/; do cd $defect; scp {remote_machine}:{path to ShakeNBreak folders}/${defect}${defect%?}.yaml .; for distortion in (Bond_Distortion|Unperturbed|Rattled)*/; do scp {remote_machine}:{path to ShakeNBreak folders}/${defect}${distortion}CONTCAR ${distortion}; done; cd ..; done\n",
    "```\n",
    "making sure to change `{remote_machine}` and `{path to ShakeNBreak folders}` to the correct values in your case."
   ]
  },
  {
   "cell_type": "markdown",
   "id": "68ddb005",
   "metadata": {},
   "source": [
    "#### b) If using `CP2K`, `Quantum Espresso`, `CASTEP` or `FHI-aims`:\n",
    "Then parse the energies obtained by running the `snb-parse` command from the top-level folder containing your defect folders (e.g. `v_Cd_0` etc. (with subfolders: `v_Cd_0/Bond_Distortion_10.0%` etc.)) and setting the `--code` option (e.g. `snb-parse --code cp2k`). This will parse the energies and store them in a `v_Cd_0.yaml` etc file in the defect folders, to allow easy plotting and analysis. \n",
    "\n",
    "It is also recommended to parse the final structures obtained with each relaxation for further structural analysis. Depending on the code, the structure information is read from:\n",
    "* `CP2K`: restart file\n",
    "* `Quantum Espresso`: output file\n",
    "* `CASTEP`: output file (i.e. `.castep`)\n",
    "* `FHI-aims`: output file"
   ]
  }
 ],
 "metadata": {
  "kernelspec": {
   "display_name": "shakenbreak",
   "language": "python",
   "name": "python3"
  },
  "language_info": {
   "codemirror_mode": {
    "name": "ipython",
    "version": 3
   },
   "file_extension": ".py",
   "mimetype": "text/x-python",
   "name": "python",
   "nbconvert_exporter": "python",
   "pygments_lexer": "ipython3",
   "version": "3.10.8"
  },
  "vscode": {
   "interpreter": {
    "hash": "eb09ea8167a25a954f651c8cddd084c6c0b1690fe553c570278626117471862f"
   }
  }
 },
 "nbformat": 4,
 "nbformat_minor": 5
}
