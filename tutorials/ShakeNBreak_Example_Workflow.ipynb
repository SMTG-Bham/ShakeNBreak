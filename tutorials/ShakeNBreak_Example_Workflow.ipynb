{
 "cells": [
  {
   "cell_type": "markdown",
   "source": [
    "Recommended to view this example notebook on [`nbviewer` here](https://nbviewer.org/github/SMTG-UCL/ShakeNBreak/blob/main/tutorials/ShakeNBreak_Example_Workflow.ipynb) for cleaner (scrollable) outputs"
   ],
   "metadata": {
    "collapsed": false,
    "pycharm": {
     "name": "#%% md\n"
    }
   }
  },
  {
   "cell_type": "markdown",
   "source": [
    "# `ShakeNBreak` applied to Cd vacancies in CdTe ($V_{Cd}$)"
   ],
   "metadata": {
    "collapsed": false,
    "pycharm": {
     "name": "#%% md\n"
    }
   }
  },
  {
   "cell_type": "markdown",
   "source": [
    "In this notebook we follow the full `ShakeNBreak` (`SnB`) workflow, where we:\n",
    "- Apply the defect distortions\n",
    "- Parse the geometry relaxation results\n",
    "- Re-generate any energy-lowering distortions found for _some_ (but not all) charge states for a given defect\n",
    "- Plot the final energies to demonstrate what energy-lowering defect distortions have been identified\n",
    "- Then continue our defect calculations, confident we have obtained the ground-state structures. "
   ],
   "metadata": {
    "collapsed": false,
    "pycharm": {
     "name": "#%% md\n"
    }
   }
  },
  {
   "cell_type": "markdown",
   "source": [
    "## Table of contents\n",
    "* [Generate defects with doped/pymatgen](#generate)\n",
    "* [Apply SnB to defects](#SnB)\n",
    "* [Send to HPCs and run calculations](#HPCs)\n",
    "* [Plot energies of final structures](#plot)\n",
    "* [(Optional) Analyse defect distortions](#analyse)\n",
    "* [(Optional) Generate input files for other codes](#other)"
   ],
   "metadata": {
    "collapsed": false,
    "pycharm": {
     "name": "#%% md\n"
    }
   }
  },
  {
   "cell_type": "code",
   "execution_count": null,
   "outputs": [],
   "source": [
    "import sys\n",
    "import os\n",
    "import doped\n",
    "import pymatgen\n",
    "import ase\n",
    "import shakenbreak\n",
    "import numpy as np\n",
    "from importlib.metadata import version\n",
    "\n",
    "# check versions\n",
    "print(\"Doped version:\" , version('doped') )\n",
    "print(\"Pymatgen version:\" , version('pymatgen') )\n",
    "print(\"Ase version:\" , version('ase') )\n",
    "print(\"ShakeNBreak version:\" , version('shakenbreak') )"
   ],
   "metadata": {
    "collapsed": false,
    "pycharm": {
     "name": "#%%\n"
    }
   }
  },
  {
   "cell_type": "markdown",
   "source": [
    "<a id='generate'></a>"
   ],
   "metadata": {
    "collapsed": false,
    "pycharm": {
     "name": "#%% md\n"
    }
   }
  },
  {
   "cell_type": "markdown",
   "source": [
    "## 1. Generate defects with `doped`/`pymatgen`"
   ],
   "metadata": {
    "collapsed": false,
    "pycharm": {
     "name": "#%% md\n"
    }
   }
  },
  {
   "cell_type": "code",
   "execution_count": null,
   "outputs": [],
   "source": [
    "from doped.pycdt.core.defectsmaker import ChargedDefectsStructures\n",
    "from pymatgen.core.structure import Structure\n",
    "\n",
    "# Specify perfect (bulk) supercell structure\n",
    "bulk_supercell = Structure.from_file(\"../tests/data/vasp/CdTe/CdTe_Bulk_Supercell_POSCAR\")  \n",
    "\n",
    "# Let's generate the vacancies\n",
    "def_structs = ChargedDefectsStructures(\n",
    "    bulk_supercell,\n",
    "    cellmax=bulk_supercell.num_sites,\n",
    "    antisites_flag=False,\n",
    "    include_interstitials=False,\n",
    ")"
   ],
   "metadata": {
    "collapsed": false,
    "pycharm": {
     "name": "#%%\n"
    }
   }
  },
  {
   "cell_type": "code",
   "execution_count": null,
   "outputs": [],
   "source": [
    "defect_dict = def_structs.defects\n",
    "# only using these species for example purpose:\n",
    "V_Cd_dict = {\"vacancies\": [defect_dict[\"vacancies\"][0]]}\n",
    "V_Cd_dict[\"vacancies\"][0][\"charges\"] = [0,]"
   ],
   "metadata": {
    "collapsed": false,
    "pycharm": {
     "name": "#%%\n"
    }
   }
  },
  {
   "cell_type": "markdown",
   "source": [
    "#### Rationale for `SnB`   "
   ],
   "metadata": {
    "collapsed": false,
    "pycharm": {
     "name": "#%% md\n"
    }
   }
  },
  {
   "cell_type": "markdown",
   "source": [
    "Defect distortions often follow the change in electron count when introducing that defect to the system. For the neutral Cd vacancy ($V_{Cd}^0$) for example, the removal of Cd and its two valence electrons means that local distortions are likely to involve two neighbouring Te atoms moving closer/further apart to accommodate the broken bonds. For the singly-charged vacancy, we are likely to have just one neighbouring Te moving, etc. This isn't always the case, but typically points us in the right direction to search the PES, and has been confirmed to yield the best performance (see SI of _Identifying the ground state structures of point defects in solids_ Mosquera-Lois, Kavanagh, Walsh and Scanlon 2022).\n",
    "\n",
    "So, the `SnB` method involves distorting the initial bond lengths around the defect for a mesh of trial distortions, with the number of neighbours to distort dictated by the change in valence electron count, performing coarse $\\Gamma$-only (`vasp_gam`) relaxations and then comparing the final energies, to see if we identify any lower energy defect structures."
   ],
   "metadata": {
    "collapsed": false,
    "pycharm": {
     "name": "#%% md\n"
    }
   }
  },
  {
   "cell_type": "markdown",
   "source": [
    "<a id='SnB'></a>"
   ],
   "metadata": {
    "collapsed": false,
    "pycharm": {
     "name": "#%% md\n"
    }
   }
  },
  {
   "cell_type": "markdown",
   "source": [
    "## 2. Apply the `SnB` method to your defects"
   ],
   "metadata": {
    "collapsed": false,
    "pycharm": {
     "name": "#%% md\n"
    }
   }
  },
  {
   "cell_type": "markdown",
   "source": [
    "The default settings and parameter choices in this package have been tested and have performed best thus far (i.e. wider distortion ranges leading to the ground-state structure with lowest computational cost) – see SI of _Identifying the ground state structures of point defects in solids_ Mosquera-Lois, Kavanagh, Walsh and Scanlon 2022.\n",
    "\n",
    "If you encounter improved performance with non-default parameter choices, we'd love to know! Please get in touch via GitHub or by email: sean.kavanagh.19@ucl.ac.uk & i.mosquera-lois22@imperial.ac.uk"
   ],
   "metadata": {
    "collapsed": false,
    "pycharm": {
     "name": "#%% md\n"
    }
   }
  },
  {
   "cell_type": "markdown",
   "source": [
    "If you are investigating defects in hard/ionic/close-packed materials, or systems involving spectator ions (like A in ABX$_3$), there are some extra considerations for boosting the performance & efficiency of `SnB` listed on the [Miscellaneous Tips & Tricks](https://shakenbreak.readthedocs.io/en/latest/Tips.html) docs page."
   ],
   "metadata": {
    "collapsed": false,
    "pycharm": {
     "name": "#%% md\n"
    }
   }
  },
  {
   "cell_type": "markdown",
   "source": [
    "### 2.1 Generating distorted structures"
   ],
   "metadata": {
    "collapsed": false,
    "pycharm": {
     "name": "#%% md\n"
    }
   }
  },
  {
   "cell_type": "code",
   "execution_count": null,
   "outputs": [],
   "source": [
    "from shakenbreak import input, energy_lowering_distortions\n",
    "from shakenbreak.input import Distortions"
   ],
   "metadata": {
    "collapsed": false,
    "pycharm": {
     "name": "#%%\n"
    }
   }
  },
  {
   "cell_type": "code",
   "execution_count": null,
   "outputs": [],
   "source": [
    "# In order to determine the number of the defect nearest neighbours to distort (based on the change \n",
    "# in valence electrons mentioned above), SnB uses the oxidation states of atoms in our material:\n",
    "# If not specified, the code will guess these, otherwise you can specify as such:\n",
    "# oxidation_states = {\"Cd\": +2, \"Te\": -2}  # specify atom oxidation states\n",
    "\n",
    "# Create an instance of Distortion class with the defect dictionary and the distortion parameters\n",
    "# If distortion parameters are not specified, the default values are used\n",
    "Dist = Distortions(\n",
    "    defects_dict=dict(V_Cd_dict),\n",
    "    #oxidation_states=oxidation_states,  # explicitly specify oxidation states\n",
    ")"
   ],
   "metadata": {
    "collapsed": false,
    "pycharm": {
     "name": "#%%\n"
    }
   }
  },
  {
   "cell_type": "code",
   "execution_count": null,
   "outputs": [],
   "source": [
    "# We can check the distortion parameters using some of the class properties\n",
    "print(\"Bond distortions:\", Dist.bond_distortions)\n",
    "print(\"Rattle standard deviation:\", Dist.stdev, \"A\")"
   ],
   "metadata": {
    "collapsed": false,
    "pycharm": {
     "name": "#%%\n"
    }
   }
  },
  {
   "cell_type": "code",
   "execution_count": null,
   "outputs": [],
   "source": [
    "# You can restrict the ions that are distorted to a certain element using the keyword distorted_elements\n",
    "# We can check it using the class attribute\n",
    "print(\"User defined elements to distort:\", Dist.distorted_elements)\n",
    "# If None, it means no restrictions so nearest neighbours are distorted (recommended default, \n",
    "# unless you have reason to suspect otherwise; see shakenbreak.readthedocs.io/en/latest/Tips.html)"
   ],
   "metadata": {
    "collapsed": false,
    "pycharm": {
     "name": "#%%\n"
    }
   }
  },
  {
   "cell_type": "markdown",
   "source": [
    "To see the optional parameters that can be tuned in the distortion functions, look at the docstrings:  \n",
    "_(If you are viewing this in `nbviewer`, long output cells like this and printed dictionaries/structures below are scrollable!)_"
   ],
   "metadata": {
    "collapsed": false,
    "pycharm": {
     "name": "#%% md\n"
    }
   }
  },
  {
   "cell_type": "code",
   "execution_count": null,
   "outputs": [],
   "source": [
    "input.Distortions?"
   ],
   "metadata": {
    "collapsed": false,
    "pycharm": {
     "name": "#%%\n"
    }
   }
  },
  {
   "cell_type": "markdown",
   "source": [
    "If we're only interested in generating distorted structures, but not in writting `VASP`/other codes input files, we can use the class method `Distortions.apply_distortions()` to do this."
   ],
   "metadata": {
    "collapsed": false,
    "pycharm": {
     "name": "#%% md\n"
    }
   }
  },
  {
   "cell_type": "code",
   "execution_count": null,
   "outputs": [],
   "source": [
    "defects_dict, distortion_metadata = Dist.apply_distortions()"
   ],
   "metadata": {
    "collapsed": false,
    "pycharm": {
     "name": "#%%\n"
    }
   }
  },
  {
   "cell_type": "code",
   "execution_count": null,
   "outputs": [],
   "source": [
    "defects_dict[\"vac_1_Cd\"].keys()"
   ],
   "metadata": {
    "collapsed": false,
    "pycharm": {
     "name": "#%%\n"
    }
   }
  },
  {
   "cell_type": "code",
   "execution_count": null,
   "outputs": [],
   "source": [
    "# The output dictionary contains information about each defect:\n",
    "print(\"Keys for each defect entry:\", defects_dict[\"vac_1_Cd\"].keys())\n",
    "\n",
    "# As well as the distorted structures for each charge state of all defects\n",
    "# We can access the distorted structures of vac_1_Cd_0 like this:\n",
    "print(\"\\nUndistorted and distorted structures:\")\n",
    "defects_dict[\"vac_1_Cd\"][\"charges\"][0][\"structures\"]"
   ],
   "metadata": {
    "collapsed": false,
    "pycharm": {
     "name": "#%%\n"
    }
   }
  },
  {
   "cell_type": "markdown",
   "source": [
    "### 2.2 Generating `VASP` input files for the distorted structures"
   ],
   "metadata": {
    "collapsed": false,
    "pycharm": {
     "name": "#%% md\n"
    }
   }
  },
  {
   "cell_type": "markdown",
   "source": [
    "If we want to generate `VASP` input files, we can use the class method `Distortions.write_vasp_files()` (instead of `Distortions.apply_distortions()`)"
   ],
   "metadata": {
    "collapsed": false,
    "pycharm": {
     "name": "#%% md\n"
    }
   }
  },
  {
   "cell_type": "code",
   "execution_count": null,
   "outputs": [],
   "source": [
    "Dist.write_vasp_files()"
   ],
   "metadata": {
    "collapsed": false,
    "pycharm": {
     "name": "#%%\n"
    }
   }
  },
  {
   "cell_type": "markdown",
   "source": [
    "Using the `incar_settings` optional argument for `Distortions.write_vasp_files()` above, we can also specify some custom `INCAR` tags to match our converged `ENCUT` for this system and optimal `NCORE` for the HPC we will run the calculations on. More information on the distortions generated can be obtained by setting `verbose = True`."
   ],
   "metadata": {
    "collapsed": false,
    "pycharm": {
     "name": "#%% md\n"
    }
   }
  },
  {
   "cell_type": "markdown",
   "source": [
    "Our distorted structures and VASP input files have now been generated in the `vac_1_Cd_X` folders."
   ],
   "metadata": {
    "collapsed": false,
    "pycharm": {
     "name": "#%% md\n"
    }
   }
  },
  {
   "cell_type": "markdown",
   "source": [
    "For the recommended default coarse structure-searching `INCAR` settings, either have a look at the `incar.yaml` file in the `input_files` folder or at the generated files:"
   ],
   "metadata": {
    "collapsed": false,
    "pycharm": {
     "name": "#%% md\n"
    }
   }
  },
  {
   "cell_type": "code",
   "execution_count": null,
   "outputs": [],
   "source": [
    "!cat ./vac_1_Cd_0/Bond_Distortion_-10.0%/INCAR"
   ],
   "metadata": {
    "collapsed": false,
    "pycharm": {
     "name": "#%%\n"
    }
   }
  },
  {
   "cell_type": "markdown",
   "source": [
    "Note that the `NELECT` `INCAR` tag (number of electrons) is automatically determined based on the choice of `POTCAR`s. The default in `ShakeNBreak` is to use the [`MPRelaxSet` `POTCAR` choices](https://github.com/materialsproject/pymatgen/blob/master/pymatgen/io/vasp/MPRelaxSet.yaml), but if you're using different ones, make sure to set `potcar_settings` in `apply_shakenbreak()`, so that NELECT is then set accordingly. This requires the `pymatgen` config file `$HOME/.pmgrc.yaml` to be properly set up as detailed on the [GitHub `README`](https://github.com/SMTG-UCL/ShakeNBreak) and [Installation](https://shakenbreak.readthedocs.io/en/latest/Installation.html) docs page."
   ],
   "metadata": {
    "collapsed": false,
    "pycharm": {
     "name": "#%% md\n"
    }
   }
  },
  {
   "cell_type": "markdown",
   "source": [
    "For generating the input files for other electronic structure codes (`Quantum Espresso`, `FHI-aims`, `CP2K`, `CASTEP`), see the [(Optional) Generate input files for other codes](#other) section at the end of this notebook."
   ],
   "metadata": {
    "collapsed": false,
    "pycharm": {
     "name": "#%% md\n"
    }
   }
  },
  {
   "cell_type": "markdown",
   "source": [
    "<a id='HPCs'></a>"
   ],
   "metadata": {
    "collapsed": false,
    "pycharm": {
     "name": "#%% md\n"
    }
   }
  },
  {
   "cell_type": "markdown",
   "source": [
    "## 3. Send to HPCs and run relaxations"
   ],
   "metadata": {
    "collapsed": false,
    "pycharm": {
     "name": "#%% md\n"
    }
   }
  },
  {
   "cell_type": "markdown",
   "source": [
    "#### a) For `VASP` users:\n",
    "\n",
    "Then parse the energies obtained by running the `snb-parse` command from the top-level folder containing your defect folders (e.g. `vac_1_Cd_0` etc. (with subfolders: `vac_1_Cd_0/Bond_Distortion_10.0%` etc.)). This will parse the energies and store them in a `vac_1_Cd_0.yaml` etc file in the defect folders, to allow easy plotting and analysis.\n",
    "\n",
    "It is also recommended to parse the final structures (`CONTCAR`s files if using `VASP`) obtained with each distortion relaxation for further structural analysis, which is done automatically when downloaded to your local folders as below. \n",
    "\n",
    "Copying these data to your local PC can be done quickly from your local folder top-level folder (containing `vac_1_Cd_0` etc) with the following code:\n",
    "\n",
    "```bash\n",
    "for defect in ./*{_,_-}[0-9]/; do cd $defect; scp {remote_machine}:{path to ShakeNBreak folders}/${defect}${defect%?}.yaml .; for distortion in (Bond_Distortion|Unperturbed|Rattled)*/; do scp {remote_machine}:{path to ShakeNBreak folders}/${defect}${distortion}CONTCAR ${distortion}; done; cd ..; done\n",
    "```\n",
    "making sure to change `{remote_machine}` and `{path to ShakeNBreak folders}` to the correct values in your case."
   ],
   "metadata": {
    "collapsed": false,
    "pycharm": {
     "name": "#%% md\n"
    }
   }
  },
  {
   "cell_type": "markdown",
   "source": [
    "#### b) If using `CP2K`, `Quantum Espresso`, `CASTEP` or `FHI-aims`:\n",
    "Then parse the energies obtained by running the `snb-parse` command from the top-level folder containing your defect folders (e.g. `vac_1_Cd_0` etc. (with subfolders: `vac_1_Cd_0/Bond_Distortion_10.0%` etc.)) and setting the `--code` option (e.g. `snb-parse --code cp2k`). This will parse the energies and store them in a `vac_1_Cd_0.yaml` etc file in the defect folders, to allow easy plotting and analysis. \n",
    "\n",
    "It is also recommended to parse the final structures obtained with each relaxation for further structural analysis. Depending on the code the structure information is read from:\n",
    "* `CP2K`: restart file\n",
    "* `Quantum Espresso`: output file\n",
    "* `CASTEP`: output file (i.e. `.castep`)\n",
    "* `FHI-aims`: output file"
   ],
   "metadata": {
    "collapsed": false,
    "pycharm": {
     "name": "#%% md\n"
    }
   }
  },
  {
   "cell_type": "markdown",
   "source": [
    "**_For demonstration purposes_** in this example notebook, we'll use some (fake) example data:  \n",
    "(Don't do this if you're actually running the calculations and have downloaded the data as instructed above)"
   ],
   "metadata": {
    "collapsed": false,
    "pycharm": {
     "name": "#%% md\n"
    }
   }
  },
  {
   "cell_type": "code",
   "execution_count": null,
   "outputs": [],
   "source": [
    "!cp -r ../tests/data/example_results/vac_1_Cd* .\n",
    "!cp ../tests/data/vasp/CdTe/distortion_metadata.json .\n",
    "# may need to change path if you've moved the example notebook elsewhere"
   ],
   "metadata": {
    "collapsed": false,
    "pycharm": {
     "name": "#%%\n"
    }
   }
  },
  {
   "cell_type": "markdown",
   "source": [
    "<a id='plot'></a>"
   ],
   "metadata": {
    "collapsed": false,
    "pycharm": {
     "name": "#%% md\n"
    }
   }
  },
  {
   "cell_type": "markdown",
   "source": [
    "## 4. Plot energies vs distortion\n",
    "To see if `SnB` found any energy-lowering distortions, we can plot the results using the functions in `shakenbreak.plotting`."
   ],
   "metadata": {
    "collapsed": false,
    "pycharm": {
     "name": "#%% md\n"
    }
   }
  },
  {
   "cell_type": "code",
   "execution_count": null,
   "outputs": [],
   "source": [
    "from shakenbreak import energy_lowering_distortions, plotting"
   ],
   "metadata": {
    "collapsed": false,
    "pycharm": {
     "name": "#%%\n"
    }
   }
  },
  {
   "cell_type": "code",
   "execution_count": null,
   "outputs": [],
   "source": [
    "defect_charges_dict = energy_lowering_distortions.read_defects_directories()\n",
    "low_energy_defects = energy_lowering_distortions.get_energy_lowering_distortions(defect_charges_dict)"
   ],
   "metadata": {
    "collapsed": false,
    "pycharm": {
     "name": "#%%\n"
    }
   }
  },
  {
   "cell_type": "markdown",
   "source": [
    "These functions give us some info about whether any energy-lowering defect distortions were identified, and we can see the results clearer by plotting:"
   ],
   "metadata": {
    "collapsed": false,
    "pycharm": {
     "name": "#%% md\n"
    }
   }
  },
  {
   "cell_type": "code",
   "execution_count": null,
   "outputs": [],
   "source": [
    "figs = plotting.plot_all_defects(defect_charges_dict)"
   ],
   "metadata": {
    "collapsed": false,
    "pycharm": {
     "name": "#%%\n"
    }
   }
  },
  {
   "cell_type": "markdown",
   "source": [
    "This prints the distortion plots for all defects where a significant energy lowering distortion, relative to the standard unperturbed relaxation, was identified. The threshold energy difference to consider as 'significant' is controlled by the `min_e_diff` optional parameter (default = 0.05 eV)."
   ],
   "metadata": {
    "collapsed": false,
    "pycharm": {
     "name": "#%% md\n"
    }
   }
  },
  {
   "cell_type": "markdown",
   "source": [
    "### Can also add a colorbar \n",
    "These plots can be made more informative by adding a colorbar showing the structural similarity between the relaxed structures.   \n",
    "For this you need the `CONTCAR`'s obtained with each distortion (as mentioned above).\n",
    "\n",
    "For the colorbar structure comparison metric, you can either use:\n",
    "* summed root mean squared displacement (`metric` = `disp`)\n",
    "* maximum distance between matching sites (`metric` = `max_dist`, default).   "
   ],
   "metadata": {
    "collapsed": false,
    "pycharm": {
     "name": "#%% md\n"
    }
   }
  },
  {
   "cell_type": "code",
   "execution_count": null,
   "outputs": [],
   "source": [
    "figs = plotting.plot_all_defects(\n",
    "    defect_charges_dict,\n",
    "    add_colorbar=True\n",
    ")"
   ],
   "metadata": {
    "collapsed": false,
    "pycharm": {
     "name": "#%%\n"
    }
   }
  },
  {
   "cell_type": "code",
   "execution_count": null,
   "outputs": [],
   "source": [
    "figs = plotting.plot_all_defects(\n",
    "    defect_charges_dict,\n",
    "    add_colorbar=True,\n",
    "    metric=\"disp\"\n",
    ")"
   ],
   "metadata": {
    "collapsed": false,
    "pycharm": {
     "name": "#%%\n"
    }
   }
  },
  {
   "cell_type": "markdown",
   "source": [
    "So for these example results, we find energy lowering distortions for $V_{Cd}^0$ (at -0.3, -0.4 and -0.6 bond distortion factors) and $V_{Cd}^{-1}$ (from 0.2 to 0.6 bond distortion factors). We should re-test these distorted structures for the $V_{Cd}$ charge states where these distortions were not found, in case they also give lower energies. \n",
    "\n",
    "Of course, this is not necessary if these structures were already found in the distortion tests for the other charge states, and so the `get_energy_lowering_distortions()` function automatically performs structure comparisons to determine which distortions should be tested in other charge states of the same defect, and which have already been found (see docstring for more details). "
   ],
   "metadata": {
    "collapsed": false,
    "pycharm": {
     "name": "#%% md\n"
    }
   }
  },
  {
   "cell_type": "markdown",
   "source": [
    "In the output of `get_energy_lowering_distortions()` (which we saved to `low_energy_defects` in the earlier cell), we get a dictionary of defects for which bond distortion found an energy-lowering distortion (which is missed with normal unperturbed relaxation), of the form {defect: [list of distortion dictionaries (with corresponding charge states, energy lowering, distortion factors, structures and charge states for which these structures weren't found)]}."
   ],
   "metadata": {
    "collapsed": false,
    "pycharm": {
     "name": "#%% md\n"
    }
   }
  },
  {
   "cell_type": "markdown",
   "source": [
    "For example, our results with $V_{Cd}$ show that we found an energy-lowering distortion for the neutral case (`subdict[\"charges\"]`) which wasn't found with the -2 or -1 charge states (`subdict[\"excluded_charges\"]`) – and so we'll test this distorted structures with those charge states – and also an energy-lowering distortion for -1 which wasn't found with 0 or -2 charge states."
   ],
   "metadata": {
    "collapsed": false,
    "pycharm": {
     "name": "#%% md\n"
    }
   }
  },
  {
   "cell_type": "code",
   "execution_count": null,
   "outputs": [],
   "source": [
    "for index, subdict in enumerate(low_energy_defects[\"vac_1_Cd\"]):\n",
    "    print(f\"Energy lowering distortion number {index}\")\n",
    "    print(\"Found for charge states:\", subdict[\"charges\"])  # Charge state for which the energy lowering was found\n",
    "    print(f\"Not found in:\", subdict[\"excluded_charges\"], \"\\n\")"
   ],
   "metadata": {
    "collapsed": false,
    "pycharm": {
     "name": "#%%\n"
    }
   }
  },
  {
   "cell_type": "markdown",
   "source": [
    "This generates the new distorted structures and VASP inputs, to do our quick second round of structure testing (energy-lowering distortions found for at least one, but not all charge states for a given defect):"
   ],
   "metadata": {
    "collapsed": false,
    "pycharm": {
     "name": "#%% md\n"
    }
   }
  },
  {
   "cell_type": "code",
   "execution_count": null,
   "outputs": [],
   "source": [
    "energy_lowering_distortions.write_distorted_inputs(low_energy_defects)"
   ],
   "metadata": {
    "collapsed": false,
    "pycharm": {
     "name": "#%%\n"
    }
   }
  },
  {
   "cell_type": "markdown",
   "source": [
    "Note here the nomenclature we use for the distorted structures we've imported from other charge states (i.e. `Bond_Distortion_-60.0%_from_0` refers to the structure obtained from relaxing the -60% distortion of the neutral (q = 0) charge state)."
   ],
   "metadata": {
    "collapsed": false,
    "pycharm": {
     "name": "#%% md\n"
    }
   }
  },
  {
   "cell_type": "markdown",
   "source": [
    "Again we run the calculations on the HPCs, then parse and download the data to our local folders (but again in this example notebook we'll use our fake example data **_for demonstration purposes_** as in the next cell, but don't do this if you're actually running the calculations!)"
   ],
   "metadata": {
    "collapsed": false,
    "pycharm": {
     "name": "#%% md\n"
    }
   }
  },
  {
   "cell_type": "code",
   "execution_count": null,
   "outputs": [],
   "source": [
    "!cp ./vac_1_Cd_0/vac_1_Cd_0_additional_distortions.yaml ./vac_1_Cd_0/vac_1_Cd_0.yaml\n",
    "!cp ./vac_1_Cd_-1/vac_1_Cd_-1_additional_distortions.yaml ./vac_1_Cd_-1/vac_1_Cd_-1.yaml\n",
    "!cp ./vac_1_Cd_-2/vac_1_Cd_-2_additional_distortions.yaml ./vac_1_Cd_-2/vac_1_Cd_-2.yaml\n",
    "!cp ./vac_1_Cd_0/Bond_Distortion_-60.0%/CONTCAR ./vac_1_Cd_-1/Bond_Distortion_-60.0%_from_0/\n",
    "!cp ./vac_1_Cd_0/Bond_Distortion_-60.0%/CONTCAR ./vac_1_Cd_-2/Bond_Distortion_-60.0%_from_0/\n",
    "!cp ./vac_1_Cd_-1/Unperturbed/CONTCAR ./vac_1_Cd_-2/Bond_Distortion_20.0%_from_-1/\n",
    "!cp ./vac_1_Cd_-1/Unperturbed/CONTCAR ./vac_1_Cd_0/Bond_Distortion_20.0%_from_-1/"
   ],
   "metadata": {
    "collapsed": false,
    "pycharm": {
     "name": "#%%\n"
    }
   }
  },
  {
   "cell_type": "markdown",
   "source": [
    "Then re-parse with the same `get_energy_lowering_distortions()` function from before:"
   ],
   "metadata": {
    "collapsed": false,
    "pycharm": {
     "name": "#%% md\n"
    }
   }
  },
  {
   "cell_type": "code",
   "execution_count": null,
   "outputs": [],
   "source": [
    "low_energy_defects = energy_lowering_distortions.get_energy_lowering_distortions(defect_charges_dict)"
   ],
   "metadata": {
    "collapsed": false,
    "pycharm": {
     "name": "#%%\n"
    }
   }
  },
  {
   "cell_type": "markdown",
   "source": [
    "Finally we can replot the results from all our distortion tests:"
   ],
   "metadata": {
    "collapsed": false,
    "pycharm": {
     "name": "#%% md\n"
    }
   }
  },
  {
   "cell_type": "code",
   "execution_count": null,
   "outputs": [],
   "source": [
    "figs = plotting.plot_all_defects(defect_charges_dict)"
   ],
   "metadata": {
    "collapsed": false,
    "pycharm": {
     "name": "#%%\n"
    }
   }
  },
  {
   "cell_type": "markdown",
   "source": [
    "In this example case, for $V_{Cd}^{0}$ the distorted structure originally found for the -1 charge state comes out lower energy than the $V_{Cd}^{0}$ unperturbed relaxation, but still higher energy than the previously identified ground-state at -0.3, -0.4 and -0.6 distortion factors. \n",
    "\n",
    "For $V_{Cd}^{-1}$, the distorted structure originally found for the neutral (0) charge state comes out lower energy than the previously identified ground-state at distortion factors >0.2.\n",
    "\n",
    "We now continue our defect calculations using the ground-state `CONTCAR`s we've obtained for each defect, with our fully-converged `INCAR` and `KPOINTS` settings, to get our final defect formation energies (confident that we've identified the ground-state defect structure!). The `energy_lowering_distortions.write_groundstate_structure()` function automatically writes these lowest-energy structures to our defect folders:"
   ],
   "metadata": {
    "collapsed": false,
    "pycharm": {
     "name": "#%% md\n"
    }
   }
  },
  {
   "cell_type": "code",
   "execution_count": null,
   "outputs": [],
   "source": [
    "energy_lowering_distortions.write_groundstate_structure()"
   ],
   "metadata": {
    "collapsed": false,
    "pycharm": {
     "name": "#%%\n"
    }
   }
  },
  {
   "cell_type": "code",
   "execution_count": null,
   "outputs": [],
   "source": [
    "!head vac_1_Cd_0/groundstate_POSCAR  # groundstate structure from -60% distortion relaxation"
   ],
   "metadata": {
    "collapsed": false,
    "pycharm": {
     "name": "#%%\n"
    }
   }
  },
  {
   "cell_type": "code",
   "execution_count": null,
   "outputs": [],
   "source": [
    "!diff vac_1_Cd_0/groundstate_POSCAR vac_1_Cd_0/Bond_Distortion_-60.0%/CONTCAR  # groundstate structure from -60% distortion relaxation"
   ],
   "metadata": {
    "collapsed": false,
    "pycharm": {
     "name": "#%%\n"
    }
   }
  },
  {
   "cell_type": "markdown",
   "source": [
    "<a id='analyse'></a>"
   ],
   "metadata": {
    "collapsed": false,
    "pycharm": {
     "name": "#%% md\n"
    }
   }
  },
  {
   "cell_type": "markdown",
   "source": [
    "## 5. *Optional*: Analyse the defect distortions found with `SnB`"
   ],
   "metadata": {
    "collapsed": false,
    "pycharm": {
     "name": "#%% md\n"
    }
   }
  },
  {
   "cell_type": "markdown",
   "source": [
    "If we want to analyse in more detail the defect distortions identified with our structure searching, we can use some of the functions from `shakenbreak.analysis`:"
   ],
   "metadata": {
    "collapsed": false,
    "pycharm": {
     "name": "#%% md\n"
    }
   }
  },
  {
   "cell_type": "code",
   "execution_count": null,
   "outputs": [],
   "source": [
    "from shakenbreak import analysis\n",
    "\n",
    "# Parse all structures obtained with distortions and unperturbed relaxation.   \n",
    "# This gives a dictionary matching initial distortion to final structure\n",
    "vac_1_Cd_0 = analysis.get_structures(\"vac_1_Cd_0\")"
   ],
   "metadata": {
    "collapsed": false,
    "pycharm": {
     "name": "#%%\n"
    }
   }
  },
  {
   "cell_type": "code",
   "execution_count": null,
   "outputs": [],
   "source": [
    "# Can then analyse a chosen final structure with:\n",
    "df = analysis.analyse_structure(\"vac_1_Cd_0\", vac_1_Cd_0[\"Unperturbed\"])\n",
    "df = analysis.analyse_structure(\"vac_1_Cd_0\", vac_1_Cd_0[-0.4])"
   ],
   "metadata": {
    "collapsed": false,
    "pycharm": {
     "name": "#%%\n"
    }
   }
  },
  {
   "cell_type": "markdown",
   "source": [
    "We can also compare the structural similarity between all structures with `compare_structures()`. It prints the summed root mean squared displacement,\n",
    "maximum distance between paired sites, and energy (relative to unperturbed structure) of all final structures:"
   ],
   "metadata": {
    "collapsed": false,
    "pycharm": {
     "name": "#%% md\n"
    }
   }
  },
  {
   "cell_type": "code",
   "execution_count": null,
   "outputs": [],
   "source": [
    "defect_energies = analysis.get_energies(\"vac_1_Cd_0\")\n",
    "structure_comparison = analysis.compare_structures(\n",
    "    vac_1_Cd_0,\n",
    "    defect_energies\n",
    ")"
   ],
   "metadata": {
    "collapsed": false,
    "pycharm": {
     "name": "#%%\n"
    }
   }
  },
  {
   "cell_type": "markdown",
   "source": [
    "Highly favourable distortions are often driven by some kind of rebonding. For most vacancies and interstitials, this entails formation of new homoionic bonds between the defect neighbours.\n",
    "We can quickly check for these reconstructions using `analysis.get_homoionic_bonds()`"
   ],
   "metadata": {
    "collapsed": false,
    "pycharm": {
     "name": "#%% md\n"
    }
   }
  },
  {
   "cell_type": "code",
   "execution_count": null,
   "outputs": [],
   "source": [
    "bonds = analysis.get_homoionic_bonds(\n",
    "    structure=vac_1_Cd_0[-0.4], # Structure to analyse\n",
    "    element=\"Te\", # we're looking for Te-Te bonds\n",
    "    radius=2.8, # maximum bond distance between 2 Te\n",
    "    verbose=False, # don't print bond distances\n",
    ")\n",
    "print(bonds)\n",
    "print(\"So two of the vacancy neighbours formed a Te-Te bond to compensate for the charge deficiency\")"
   ],
   "metadata": {
    "collapsed": false,
    "pycharm": {
     "name": "#%%\n"
    }
   }
  },
  {
   "cell_type": "markdown",
   "source": [
    "For defects that can result in polarons, we can check the sites with significant magnetization using `analysis.get_site_magnetizations()`"
   ],
   "metadata": {
    "collapsed": false,
    "pycharm": {
     "name": "#%% md\n"
    }
   }
  },
  {
   "cell_type": "code",
   "execution_count": null,
   "outputs": [],
   "source": [
    "df = analysis.get_site_magnetizations(\n",
    "    defect_species=\"vac_1_Ti_0\", # neutral Ti vacancy in anatase TiO2\n",
    "    distortions=[\"Unperturbed\", -0.4],\n",
    "    defect_site=[0.0, 0.16666666666666669, 0.25],\n",
    "    threshold=0.3, # to filter sites with significant magnetization\n",
    "    orbital_projections=False, # don't show orbital projections\n",
    ")\n",
    "\n",
    "display(df[\"Unperturbed\"]) # 4 holes localised on 4 of the vacancy neighbours\n",
    "print(\"So we have 4 holes localised on 4 of the oxygen ions neighbouring the vacancy\")"
   ],
   "metadata": {
    "collapsed": false,
    "pycharm": {
     "name": "#%%\n"
    }
   }
  },
  {
   "cell_type": "code",
   "execution_count": null,
   "outputs": [],
   "source": [
    "!cp -r ../tests/data/vasp/vac_1_Ti_0 ."
   ],
   "metadata": {
    "collapsed": false,
    "pycharm": {
     "name": "#%%\n"
    }
   }
  },
  {
   "cell_type": "code",
   "execution_count": null,
   "outputs": [],
   "source": [
    "df = analysis.get_site_magnetizations(\n",
    "    defect_species=\"vac_1_Ti_0\", # neutral Ti vacancy in anatase TiO2\n",
    "    distortions=[\"Unperturbed\", -0.4],\n",
    "    defect_site=[0.0, 0.16666666666666669, 0.25],\n",
    "    threshold=0.3, # to filter sites with significant magnetization\n",
    "    orbital_projections=False, # don't show orbital projections\n",
    ")\n",
    "\n",
    "display(df[\"Unperturbed\"]) # 4 holes localised on 4 of the vacancy neighbours\n",
    "print(\"So we have 4 holes localised on 4 of the oxygen ions neighbouring the vacancy\")"
   ],
   "metadata": {
    "collapsed": false,
    "pycharm": {
     "name": "#%%\n"
    }
   }
  },
  {
   "cell_type": "markdown",
   "source": [
    "As printed below, no significant magnetization is found for -40.0% distortion. This configuration was found to be significantly more stable than the polaronic solution, so we can quickly use `analysis.get_homoionic_bonds` to see why:"
   ],
   "metadata": {
    "collapsed": false,
    "pycharm": {
     "name": "#%% md\n"
    }
   }
  },
  {
   "cell_type": "code",
   "execution_count": null,
   "outputs": [],
   "source": [
    "bonds = analysis.get_homoionic_bonds(\n",
    "    structure = Structure.from_file(\"./vac_1_Ti_0/Bond_Distortion_-40.0%/CONTCAR\"),\n",
    "    element=\"O\",\n",
    "    radius=2.0,\n",
    "    verbose=False,\n",
    ")\n",
    "print(bonds)\n",
    "print(\"So the formation of an O-O bond drived this distortion\")"
   ],
   "metadata": {
    "collapsed": false,
    "pycharm": {
     "name": "#%%\n"
    }
   }
  },
  {
   "cell_type": "code",
   "execution_count": null,
   "outputs": [],
   "source": [
    "bonds = analysis.get_homoionic_bonds(\n",
    "    structure = Structure.from_file(\"./vac_1_Ti_0/Bond_Distortion_-40.0%/CONTCAR\"),\n",
    "    element=\"O\",\n",
    "    radius=2.0,\n",
    "    verbose=False,\n",
    ")\n",
    "print(bonds)\n",
    "print(\"So the formation of an O-O bond drived this distortion\")"
   ],
   "metadata": {
    "collapsed": false,
    "pycharm": {
     "name": "#%%\n"
    }
   }
  },
  {
   "cell_type": "markdown",
   "source": [
    "See the [documentation](https://shakenbreak.readthedocs.io/en/latest/) for more info and optional parameter choices etc"
   ],
   "metadata": {
    "collapsed": false,
    "pycharm": {
     "name": "#%% md\n"
    }
   }
  },
  {
   "cell_type": "markdown",
   "source": [
    "<a id='other'></a>"
   ],
   "metadata": {
    "collapsed": false,
    "pycharm": {
     "name": "#%% md\n"
    }
   }
  },
  {
   "cell_type": "markdown",
   "source": [
    "## 6. *Optional*: Input File Generation for Other Codes"
   ],
   "metadata": {
    "collapsed": false,
    "pycharm": {
     "name": "#%% md\n"
    }
   }
  },
  {
   "cell_type": "markdown",
   "source": [
    "#### a) `Quantum Espresso`"
   ],
   "metadata": {
    "collapsed": false,
    "pycharm": {
     "name": "#%% md\n"
    }
   }
  },
  {
   "cell_type": "code",
   "execution_count": null,
   "outputs": [],
   "source": [
    "# check the arguments of the `write_espresso_files` method\n",
    "Dist.write_espresso_files?"
   ],
   "metadata": {
    "collapsed": false,
    "pycharm": {
     "name": "#%%\n"
    }
   }
  },
  {
   "cell_type": "code",
   "execution_count": null,
   "outputs": [],
   "source": [
    "# oxidation_states = {\"Cd\": +2, \"Te\": -2}  # explicitly specify atom oxidation states\n",
    "\n",
    "# Create an instance of Distortion class with the defect dictionary and the distortion parameters\n",
    "# If distortion parameters are not specified, the default values are used\n",
    "Dist = Distortions(\n",
    "    defects_dict=dict(V_Cd_dict),\n",
    "    #oxidation_states=oxidation_states, # explicitly specify atom oxidation states\n",
    "    bond_distortions=[-0.3, 0.3] # For demonstration purposes, just doing 2 distortions\n",
    ")\n",
    "\n",
    "pseudopotentials = { # Your chosen pseudopotentials\n",
    "    'Cd': 'Cd_pbe_v1.uspp.F.UPF',\n",
    "    'Te': 'Te.pbe-n-rrkjus_psl.1.0.0.UPF'}\n",
    "\n",
    "defects_dict, distortion_metadata = Dist.write_espresso_files(\n",
    "    pseudopotentials=pseudopotentials,\n",
    ")"
   ],
   "metadata": {
    "collapsed": false,
    "pycharm": {
     "name": "#%%\n"
    }
   }
  },
  {
   "cell_type": "markdown",
   "source": [
    "And for the default coarse structure-searching input settings, either have a look at the `qe_input.yaml` file in the `input_files` folder or at the generated files:"
   ],
   "metadata": {
    "collapsed": false,
    "pycharm": {
     "name": "#%% md\n"
    }
   }
  },
  {
   "cell_type": "code",
   "execution_count": null,
   "outputs": [],
   "source": [
    "!cat ./vac_1_Cd_0/Bond_Distortion_30.0%/espresso.pwi"
   ],
   "metadata": {
    "collapsed": false,
    "pycharm": {
     "name": "#%%\n"
    }
   }
  },
  {
   "cell_type": "markdown",
   "source": [
    "#### b) `CP2K`"
   ],
   "metadata": {
    "collapsed": false,
    "pycharm": {
     "name": "#%% md\n"
    }
   }
  },
  {
   "cell_type": "code",
   "execution_count": null,
   "outputs": [],
   "source": [
    "Dist.write_cp2k_files?"
   ],
   "metadata": {
    "collapsed": false,
    "pycharm": {
     "name": "#%%\n"
    }
   }
  },
  {
   "cell_type": "code",
   "execution_count": null,
   "outputs": [],
   "source": [
    "oxidation_states = {\"Cd\": +2, \"Te\": -2}  # explicitly specify atom oxidation states\n",
    "\n",
    "# Create an instance of Distortion class with the defect dictionary and the distortion parameters\n",
    "# If distortion parameters are not specified, the default values are used\n",
    "Dist = Distortions( \n",
    "            defects_dict=dict(V_Cd_dict), \n",
    "            oxidation_states=oxidation_states, # explicitly specify atom oxidation states\n",
    "            bond_distortions=[-0.3, 0.3] # For demonstration purposes, just doing 2 distortions\n",
    "            )\n",
    "\n",
    "defects_dict, distortion_metadata = Dist.write_cp2k_files()"
   ],
   "metadata": {
    "collapsed": false,
    "pycharm": {
     "name": "#%%\n"
    }
   }
  },
  {
   "cell_type": "markdown",
   "source": [
    "And for the default coarse structure-searching input settings, either have a look at the `cp2k_input.yaml` file in the `input_files` folder or at the generated files:"
   ],
   "metadata": {
    "collapsed": false,
    "pycharm": {
     "name": "#%% md\n"
    }
   }
  },
  {
   "cell_type": "code",
   "execution_count": null,
   "outputs": [],
   "source": [
    "!cat ./vac_1_Cd_0/Bond_Distortion_30.0%/cp2k_input.inp"
   ],
   "metadata": {
    "collapsed": false,
    "pycharm": {
     "name": "#%%\n"
    }
   }
  },
  {
   "cell_type": "markdown",
   "source": [
    "#### c) `CASTEP`"
   ],
   "metadata": {
    "collapsed": false,
    "pycharm": {
     "name": "#%% md\n"
    }
   }
  },
  {
   "cell_type": "code",
   "execution_count": null,
   "outputs": [],
   "source": [
    "Dist.write_castep_files?"
   ],
   "metadata": {
    "collapsed": false,
    "pycharm": {
     "name": "#%%\n"
    }
   }
  },
  {
   "cell_type": "code",
   "execution_count": null,
   "outputs": [],
   "source": [
    "oxidation_states = {\"Cd\": +2, \"Te\": -2}  # explicitly specify atom oxidation states\n",
    "\n",
    "# Create an instance of Distortion class with the defect dictionary and the distortion parameters\n",
    "# If distortion parameters are not specified, the default values are used\n",
    "Dist = Distortions(\n",
    "    defects_dict=dict(V_Cd_dict),\n",
    "    oxidation_states=oxidation_states,  # explicitly specify atom oxidation states\n",
    "    bond_distortions=[0.3] # For demonstration purposes, just doing 2 distortions\n",
    ")\n",
    "# If we don't specify the input_file, only the structure files (in .cell format) are written\n",
    "defects_dict, distortion_metadata = Dist.write_castep_files()"
   ],
   "metadata": {
    "collapsed": false,
    "pycharm": {
     "name": "#%%\n"
    }
   }
  },
  {
   "cell_type": "markdown",
   "source": [
    "And for the default coarse structure-searching input settings, either have a look at the `castep.param` file in the `input_files` folder or at the generated files:"
   ],
   "metadata": {
    "collapsed": false,
    "pycharm": {
     "name": "#%% md\n"
    }
   }
  },
  {
   "cell_type": "code",
   "execution_count": null,
   "outputs": [],
   "source": [
    "!cat ./vac_1_Cd_0/Bond_Distortion_30.0%/castep.param"
   ],
   "metadata": {
    "collapsed": false,
    "pycharm": {
     "name": "#%%\n"
    }
   }
  },
  {
   "cell_type": "markdown",
   "source": [
    "#### d) `FHI-aims`"
   ],
   "metadata": {
    "collapsed": false,
    "pycharm": {
     "name": "#%% md\n"
    }
   }
  },
  {
   "cell_type": "code",
   "execution_count": null,
   "outputs": [],
   "source": [
    "Dist.write_fhi_aims_files?"
   ],
   "metadata": {
    "collapsed": false,
    "pycharm": {
     "name": "#%%\n"
    }
   }
  },
  {
   "cell_type": "code",
   "execution_count": null,
   "outputs": [],
   "source": [
    "oxidation_states = {\"Cd\": +2, \"Te\": -2}  # specify atom oxidation states\n",
    "\n",
    "# Create an instance of Distortion class with the defect dictionary and the distortion parameters\n",
    "# If distortion parameters are not specified, the default values are used\n",
    "Dist = Distortions( \n",
    "    defects_dict=dict(V_Cd_dict), \n",
    "    oxidation_states=oxidation_states,\n",
    "    bond_distortions=[0.3] # For demonstration purposes, just doing 2 distortions\n",
    ")\n",
    "# If we don't specify the input_file, only the structure files (in .cell format) are written\n",
    "defects_dict, distortion_metadata = Dist.write_fhi_aims_files()"
   ],
   "metadata": {
    "collapsed": false,
    "pycharm": {
     "name": "#%%\n"
    }
   }
  },
  {
   "cell_type": "markdown",
   "source": [
    "And for the default coarse structure-searching input settings have a look at the generated files:"
   ],
   "metadata": {
    "collapsed": false,
    "pycharm": {
     "name": "#%% md\n"
    }
   }
  },
  {
   "cell_type": "code",
   "execution_count": null,
   "outputs": [],
   "source": [
    "!cat ./vac_1_Cd_0/Bond_Distortion_30.0%/control.in"
   ],
   "metadata": {
    "collapsed": false,
    "pycharm": {
     "name": "#%%\n"
    }
   }
  },
  {
   "cell_type": "markdown",
   "source": [
    "These can be modified with the `ase_calculator` option of the `Distortion.write_fhi_aims_files()` method"
   ],
   "metadata": {
    "collapsed": false,
    "pycharm": {
     "name": "#%% md\n"
    }
   }
  },
  {
   "cell_type": "code",
   "execution_count": null,
   "outputs": [],
   "source": [],
   "metadata": {
    "collapsed": false,
    "pycharm": {
     "name": "#%%\n"
    }
   }
  },
  {
   "cell_type": "code",
   "execution_count": null,
   "outputs": [],
   "source": [],
   "metadata": {
    "collapsed": false,
    "pycharm": {
     "name": "#%%\n"
    }
   }
  },
  {
   "cell_type": "markdown",
   "source": [
    "### (Developer) `nbviewer` Settings:"
   ],
   "metadata": {
    "collapsed": false,
    "pycharm": {
     "name": "#%% md\n"
    }
   }
  },
  {
   "cell_type": "code",
   "execution_count": null,
   "outputs": [],
   "source": [
    "%%html\n",
    "<style>\n",
    ".nbviewer div.output_area {\n",
    "  max-height: 1000px; /* or value of your choosing; https://github.com/jupyter/nbviewer/issues/750 */\n",
    "}\n",
    "</style>"
   ],
   "metadata": {
    "collapsed": false,
    "pycharm": {
     "name": "#%%\n"
    }
   }
  },
  {
   "cell_type": "code",
   "execution_count": null,
   "id": "310e07c0-9a8b-442a-8aa9-f4b4b8a70680",
   "metadata": {},
   "outputs": [],
   "source": []
  },
  {
   "cell_type": "markdown",
   "id": "abffe2df-a40f-4dce-8c9b-9d1f0c3c1f93",
   "metadata": {},
   "source": [
    "### (Developer) `nbviewer` Settings:"
   ]
  },
  {
   "cell_type": "code",
   "execution_count": 9,
   "id": "24608c04",
   "metadata": {
    "pycharm": {
     "name": "#%%\n"
    },
    "tags": []
   },
   "outputs": [
    {
     "data": {
      "text/html": [
       "<style>\n",
       ".nbviewer div.output_area {\n",
       "  overflow-y: auto;\n",
       "  max-height: 1000px; /* or value of your choosing; https://github.com/jupyter/nbviewer/issues/750 */\n",
       "}\n",
       "</style>\n"
      ],
      "text/plain": [
       "<IPython.core.display.HTML object>"
      ]
     },
     "metadata": {},
     "output_type": "display_data"
    }
   ],
   "source": [
    "%%html\n",
    "<style>\n",
    ".nbviewer div.output_area {\n",
    "  max-height: 1000px; /* or value of your choosing; https://github.com/jupyter/nbviewer/issues/750 */\n",
    "}\n",
    "</style>"
   ]
  },
  {
   "cell_type": "code",
   "execution_count": null,
   "id": "0af4977a-fd29-447b-9df4-18444cd2b49b",
   "metadata": {},
   "outputs": [],
   "source": []
  }
 ],
 "metadata": {
  "kernelspec": {
   "display_name": "Python 3 (ipykernel)",
   "language": "python",
   "name": "python3"
  },
  "language_info": {
   "codemirror_mode": {
    "name": "ipython",
    "version": 3
   },
   "file_extension": ".py",
   "mimetype": "text/x-python",
   "name": "python",
   "nbconvert_exporter": "python",
   "pygments_lexer": "ipython3",
   "version": "3.8.11"
  },
  "vscode": {
   "interpreter": {
    "hash": "38abaef7bee152f95a9b9338cf2c0cff952fa9324a7a72e7406dff176779b44c"
   }
  }
 },
 "nbformat": 4,
 "nbformat_minor": 5
}