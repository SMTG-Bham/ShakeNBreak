{
 "cells": [
  {
   "cell_type": "markdown",
   "id": "1f4d70e2-5b1a-4e30-a449-7c89f25c14e1",
   "metadata": {},
   "source": [
    "# `SnB` Python API"
   ]
  },
  {
   "cell_type": "markdown",
   "id": "2c62a19c-f343-40d4-ba22-3a2bb81b13d5",
   "metadata": {},
   "source": [
    "Recommended to view this on the [SnB Python API tutorial](https://shakenbreak.readthedocs.io/en/latest/ShakeNBreak_Example_Workflow.html) docs page, unless directly using as a code template."
   ]
  },
  {
   "cell_type": "markdown",
   "id": "84d142e3-a338-47c3-a41c-c540ddc607c9",
   "metadata": {
    "pycharm": {
     "name": "#%% md\n"
    }
   },
   "source": [
    "## `ShakeNBreak` applied to Cd vacancies in CdTe ($V_{Cd}$)"
   ]
  },
  {
   "cell_type": "markdown",
   "id": "a36f2ef1-07b3-42ac-8659-91968084360f",
   "metadata": {
    "pycharm": {
     "name": "#%% md\n"
    }
   },
   "source": [
    "In this notebook we follow the full `ShakeNBreak` (`SnB`) workflow, where we:\n",
    "- Apply the defect distortions\n",
    "- Parse the geometry relaxation results\n",
    "- Re-generate any energy-lowering distortions found for _some_ (but not all) charge states for a given defect\n",
    "- Plot the final energies to demonstrate what energy-lowering defect distortions have been identified\n",
    "- Then continue our defect calculations, confident we have obtained the ground-state structures. "
   ]
  },
  {
   "cell_type": "markdown",
   "id": "8619918b-226d-4e8c-aeb2-64cb89431bfb",
   "metadata": {
    "pycharm": {
     "name": "#%% md\n"
    },
    "tags": []
   },
   "source": [
    "## Table of contents\n",
    "* [Generate defects with doped/pymatgen](#generate)\n",
    "* [Apply SnB to defects](#SnB)\n",
    "* [Send to HPCs and run calculations](#HPCs)\n",
    "* [Plot energies of final structures](#plot)\n",
    "* [(Optional) Analyse defect distortions](#analyse)\n",
    "* [(Optional) Generate input files for other codes](#other)"
   ]
  },
  {
   "cell_type": "code",
   "execution_count": 12,
   "id": "bc1b27ca-405b-4ecd-8bb7-00fc8703aeb0",
   "metadata": {
    "pycharm": {
     "name": "#%%\n"
    }
   },
   "outputs": [
    {
     "name": "stdout",
     "output_type": "stream",
     "text": [
      "Pymatgen version: 2022.9.21\n",
      "Pymatgen-analysis-defects version: 2022.9.14\n",
      "Ase version: 3.22.1\n",
      "ShakeNBreak version: 22.10.14\n"
     ]
    }
   ],
   "source": [
    "import os\n",
    "import sys\n",
    "\n",
    "import ase\n",
    "import numpy as np\n",
    "import pymatgen\n",
    "from importlib_metadata import version\n",
    "\n",
    "import shakenbreak\n",
    "\n",
    "# Check versions\n",
    "print(\"Pymatgen version:\", version('pymatgen') )\n",
    "print(\"Pymatgen-analysis-defects version:\", version('pymatgen-analysis-defects') )\n",
    "print(\"Ase version:\", version('ase') )\n",
    "print(\"ShakeNBreak version:\", version('shakenbreak') )"
   ]
  },
  {
   "cell_type": "markdown",
   "id": "fe5e4891-fc66-44be-a65d-714664f0e8b2",
   "metadata": {
    "pycharm": {
     "name": "#%% md\n"
    },
    "tags": []
   },
   "source": [
    "#### Rationale for `SnB`   "
   ]
  },
  {
   "cell_type": "markdown",
   "id": "59eab8c0-9b3f-4b99-8874-5c602c0b7038",
   "metadata": {
    "pycharm": {
     "name": "#%% md\n"
    },
    "tags": []
   },
   "source": [
    "Defect distortions often follow the change in electron count when introducing that defect to the system. For the neutral Cd vacancy ($V_{Cd}^0$) for example, the removal of Cd and its two valence electrons means that local distortions are likely to involve two neighbouring Te atoms moving closer/further apart to accommodate the broken bonds. For the singly-charged vacancy, we are likely to have just one neighbouring Te moving, etc. This isn't always the case, but typically points us in the right direction to search the PES, and has been confirmed to yield the best performance (see SI of _Identifying the ground state structures of point defects in solids_ Mosquera-Lois, Kavanagh, Walsh and Scanlon 2022).\n",
    "\n",
    "So, the `SnB` method involves distorting the initial bond lengths around the defect for a mesh of trial distortions, with the number of neighbours to distort dictated by the change in valence electron count, performing coarse $\\Gamma$-only (`vasp_gam`) relaxations and then comparing the final energies, to see if we identify any lower energy defect structures."
   ]
  },
  {
   "cell_type": "markdown",
   "id": "91b3b187-39d4-41b6-b0e9-d5cd5dcafa22",
   "metadata": {
    "pycharm": {
     "name": "#%% md\n"
    }
   },
   "source": [
    "<a id='generate'></a>"
   ]
  },
  {
   "cell_type": "markdown",
   "id": "9a98b5d2-c17f-4d00-8a0f-b5dfe8997420",
   "metadata": {
    "pycharm": {
     "name": "#%% md\n"
    }
   },
   "source": [
    "## 1. Generate defects with `pymatgen.analysis.defects`"
   ]
  },
  {
   "cell_type": "code",
   "execution_count": 37,
   "id": "9e943689-3bad-41d6-b52b-f4b26453715e",
   "metadata": {
    "pycharm": {
     "name": "#%%\n"
    }
   },
   "outputs": [],
   "source": [
    "from pymatgen.analysis.defects.core import Defect, Vacancy\n",
    "from pymatgen.core.structure import Structure\n",
    "\n",
    "bulk_supercell = Structure.from_file(\"../tests/data/vasp/CdTe/CdTe_Bulk_Supercell_POSCAR\")\n",
    "\n",
    "# Generate Cd vacancy\n",
    "v_Cd = Vacancy(\n",
    "    structure=bulk_supercell,\n",
    "    site=bulk_supercell[0],  # First Cd site\n",
    "    user_charges=[-2, -1, 0],  # Defect charge states\n",
    ")\n",
    "\n",
    "# Store defects in a dictionary\n",
    "V_Cd_dict = {\n",
    "    \"vacancies\": [v_Cd,]\n",
    "}"
   ]
  },
  {
   "cell_type": "code",
   "execution_count": 39,
   "id": "dcf155cb",
   "metadata": {},
   "outputs": [
    {
     "data": {
      "text/plain": [
       "[-2, -1, 0]"
      ]
     },
     "execution_count": 39,
     "metadata": {},
     "output_type": "execute_result"
    }
   ],
   "source": [
    "# We can access defect charge states like this:\n",
    "v_Cd.get_charge_states()"
   ]
  },
  {
   "cell_type": "code",
   "execution_count": 41,
   "id": "2867d06a",
   "metadata": {},
   "outputs": [
    {
     "name": "stdout",
     "output_type": "stream",
     "text": [
      "Defect v_Cd with defect index 0 and site [0. 0. 0.]\n"
     ]
    }
   ],
   "source": [
    "# Chech defect fractional coordinates\n",
    "for defect in [v_Cd,]:\n",
    "    print(f\"Defect {defect.name} with defect index {defect.defect_site_index} and site {defect.site.frac_coords}\")"
   ]
  },
  {
   "cell_type": "code",
   "execution_count": 42,
   "id": "4e21b8c3",
   "metadata": {},
   "outputs": [
    {
     "name": "stdout",
     "output_type": "stream",
     "text": [
      "['as_dict', 'defect_site', 'defect_site_index', 'defect_structure', 'defect_type', 'element_changes', 'from_dict', 'get_charge_states', 'get_multiplicity', 'get_supercell_structure', 'name', 'symmetrized_structure', 'to_json', 'unsafe_hash', 'validate_monty']\n"
     ]
    }
   ],
   "source": [
    "# We can check the methods/properties of the Vacancy class using\n",
    "method_list = [func for func in dir(Vacancy) if not func.startswith(\"__\") and not func.startswith(\"_\") and func != \"REDIRECT\"]  # if callable(getattr(Vacancy, func)) and\n",
    "print(method_list)"
   ]
  },
  {
   "cell_type": "markdown",
   "id": "c035d70a",
   "metadata": {},
   "source": [
    "### *Optional*: Generate defects with `doped`/`PyCDT` (instead of `Pymatgen`)"
   ]
  },
  {
   "cell_type": "markdown",
   "id": "653906e1",
   "metadata": {},
   "source": [
    "If you prefer to use `Doped`/`PyCDT` to generate defects, you should do it in a different `Python` environment to the `ShakeNBreak` one, as currently (18/10/22) they require different `pymatgen` versions. \n",
    "\n",
    "The easiest way is to generate the defects in a different notebook (using your `doped/PyCDT` environment). \n",
    "To do this, you can copy the cell below to another notebook."
   ]
  },
  {
   "cell_type": "raw",
   "id": "c5190f31",
   "metadata": {},
   "source": [
    "# To generate the CdTe vacancies with doped, we can use the lines below.\n",
    "# As this requires pymatgen < 2022.8.23, we need to do it in a different `Python` environment.\n",
    "\n",
    "from doped.pycdt.core.defectsmaker import ChargedDefectsStructures\n",
    "from pymatgen.core.structure import Structure\n",
    "import pickle\n",
    "\n",
    "# Specify perfect (bulk) supercell structure\n",
    "bulk_supercell = Structure.from_file(\"../tests/data/vasp/CdTe/CdTe_Bulk_Supercell_POSCAR\")  \n",
    "\n",
    "# Let's generate the vacancies\n",
    "def_structs = ChargedDefectsStructures(\n",
    "    bulk_supercell,\n",
    "    cellmax=bulk_supercell.num_sites,\n",
    "    antisites_flag=False,\n",
    "    include_interstitials=False,\n",
    ")\n",
    "defect_dict = def_structs.defects\n",
    "# only using these species for example purpose:\n",
    "V_Cd_dict = {\"vacancies\": [defect_dict[\"vacancies\"][0]], \"bulk\": defect_dict[\"bulk\"]} # We need the bulk entry for later\n",
    "V_Cd_dict[\"vacancies\"][0][\"charges\"] = [0,]\n",
    "\n",
    "# Save the defects dictionary to pickle\n",
    "file = \"../tests/data/vasp/CdTe/doped_V_Cd_dict.pickle\"\n",
    "with open(file, \"wb\") as f:\n",
    "    pickle.dump(V_Cd_dict, f)\n",
    "print(f\"Saved doped defects dict to {file}\")"
   ]
  },
  {
   "cell_type": "code",
   "execution_count": 21,
   "id": "729796ff",
   "metadata": {},
   "outputs": [],
   "source": [
    "# After generating the Doped defects dict using a different environment and saving it to pickle,\n",
    "# we load it in the ShakeNBreak environment\n",
    "import pickle\n",
    "\n",
    "file = \"../tests/data/vasp/CdTe/doped_V_Cd_dict.pickle\"  # Path of the pickle file where we saved the Doped dictionary\n",
    "with open(file, \"rb\") as f:\n",
    "    doped_V_Cd_dict = pickle.load(f)"
   ]
  },
  {
   "cell_type": "code",
   "execution_count": 22,
   "id": "89272bdf",
   "metadata": {},
   "outputs": [
    {
     "name": "stdout",
     "output_type": "stream",
     "text": [
      "vac_1_Cd\n",
      "Keys of bulk entry: dict_keys(['name', 'supercell'])\n"
     ]
    }
   ],
   "source": [
    "# Check Doped defects dict was loaded ok\n",
    "for single_defect_dict in doped_V_Cd_dict[\"vacancies\"]:\n",
    "    print(single_defect_dict[\"name\"])\n",
    "\n",
    "# Check bulk entry is present\n",
    "print(\"Keys of bulk entry:\", doped_V_Cd_dict[\"bulk\"].keys())"
   ]
  },
  {
   "cell_type": "markdown",
   "id": "0012adc0-06cf-4359-9ccf-35152299ca9d",
   "metadata": {
    "pycharm": {
     "name": "#%% md\n"
    }
   },
   "source": [
    "<a id='SnB'></a>"
   ]
  },
  {
   "cell_type": "markdown",
   "id": "8c639b14-b7d4-415b-8c55-9e2a1a188923",
   "metadata": {
    "pycharm": {
     "name": "#%% md\n"
    },
    "tags": []
   },
   "source": [
    "## 2. Apply the `SnB` method to your defects"
   ]
  },
  {
   "cell_type": "markdown",
   "id": "e3bc1607-5b55-4cc2-8167-0541e36d3e2e",
   "metadata": {
    "pycharm": {
     "name": "#%% md\n"
    }
   },
   "source": [
    "The default settings and parameter choices in this package have been tested and have performed best thus far (i.e. wider distortion ranges leading to the ground-state structure with lowest computational cost) – see SI of _Identifying the ground state structures of point defects in solids_ Mosquera-Lois, Kavanagh, Walsh and Scanlon 2022.\n",
    "\n",
    "If you encounter improved performance with non-default parameter choices, we'd love to know! Please get in touch via GitHub or by email: sean.kavanagh.19@ucl.ac.uk & i.mosquera-lois22@imperial.ac.uk"
   ]
  },
  {
   "cell_type": "markdown",
   "id": "fd7ff166-b017-4228-b7a7-1cf3a23504a6",
   "metadata": {
    "pycharm": {
     "name": "#%% md\n"
    },
    "tags": []
   },
   "source": [
    "If you are investigating defects in hard/ionic/close-packed materials, or systems involving spectator ions (like A in ABX$_3$), there are some extra considerations for boosting the performance & efficiency of `SnB` listed on the [Miscellaneous Tips & Tricks](https://shakenbreak.readthedocs.io/en/latest/Tips.html) docs page."
   ]
  },
  {
   "cell_type": "markdown",
   "id": "34c17b85-d067-4662-9bf3-7ef9f82fa330",
   "metadata": {
    "pycharm": {
     "name": "#%% md\n"
    },
    "tags": []
   },
   "source": [
    "### 2.1 Generating distorted structures"
   ]
  },
  {
   "cell_type": "code",
   "execution_count": 43,
   "id": "3ff9be61-6cf8-48c0-bd35-6e8775b70158",
   "metadata": {
    "pycharm": {
     "name": "#%%\n"
    }
   },
   "outputs": [],
   "source": [
    "from shakenbreak import energy_lowering_distortions, input\n",
    "from shakenbreak.input import Distortions"
   ]
  },
  {
   "cell_type": "code",
   "execution_count": 111,
   "id": "40013965-8d9f-4617-bc76-3ad8cd409e00",
   "metadata": {
    "pycharm": {
     "name": "#%%\n"
    },
    "tags": []
   },
   "outputs": [
    {
     "name": "stdout",
     "output_type": "stream",
     "text": [
      "Oxidation states were not explicitly set, thus have been guessed as {'Cd': 2.0, 'Te': -2.0}. If this is unreasonable you should manually set oxidation_states\n"
     ]
    }
   ],
   "source": [
    "# In order to determine the number of the defect nearest neighbours to distort (based on the change \n",
    "# in valence electrons mentioned above), SnB uses the oxidation states of atoms in our material:\n",
    "# If not specified, the code will guess these, otherwise you can specify as such:\n",
    "# oxidation_states = {\"Cd\": +2, \"Te\": -2}  # specify atom oxidation states\n",
    "\n",
    "# Create an instance of Distortion class with the defect dictionary and the distortion parameters\n",
    "# If distortion parameters are not specified, the default values are used\n",
    "Dist = Distortions(\n",
    "    defects_dict=dict(V_Cd_dict),\n",
    "    #oxidation_states=oxidation_states,  # explicitly specify oxidation states\n",
    ")\n",
    "\n",
    "# Alternatively, if want specific names for our defects/defect directories, we can feed into Distortions\n",
    "# a dictionary of dictionaries like this:\n",
    "# V_Cd_dict_with_custom_names = {\"vacancies\": {\"vac_1_Cd\": V_Cd_dict[\"vacancies\"][0],}}\n",
    "# Dist = Distortions(\n",
    "#     defects_dict=V_Cd_dict_with_custom_names,\n",
    "# )"
   ]
  },
  {
   "cell_type": "code",
   "execution_count": 110,
   "id": "3be9bc57",
   "metadata": {},
   "outputs": [
    {
     "name": "stdout",
     "output_type": "stream",
     "text": [
      "Oxidation states were not explicitly set, thus have been guessed as {'Cd': 2.0, 'Te': -2.0}. If this is unreasonable you should manually set oxidation_states\n"
     ]
    }
   ],
   "source": [
    "# Alternatively, if you used Doped/PyCDT for defect generation, you can use the `from_dict` method:\n",
    "\n",
    "Dist = Distortions.from_dict(\n",
    "    doped_defects_dict=doped_V_Cd_dict,\n",
    ")"
   ]
  },
  {
   "cell_type": "code",
   "execution_count": 112,
   "id": "78543a71",
   "metadata": {
    "pycharm": {
     "name": "#%%\n"
    }
   },
   "outputs": [
    {
     "name": "stdout",
     "output_type": "stream",
     "text": [
      "Bond distortions: [-0.6, -0.5, -0.4, -0.3, -0.2, -0.1, 0.0, 0.1, 0.2, 0.3, 0.4, 0.5, 0.6]\n",
      "Rattle standard deviation: 0.25 A\n"
     ]
    }
   ],
   "source": [
    "# We can check the distortion parameters using some of the class properties\n",
    "print(\"Bond distortions:\", Dist.bond_distortions)\n",
    "print(\"Rattle standard deviation:\", Dist.stdev, \"A\")"
   ]
  },
  {
   "cell_type": "code",
   "execution_count": 113,
   "id": "52f9e11b",
   "metadata": {
    "pycharm": {
     "name": "#%%\n"
    }
   },
   "outputs": [
    {
     "name": "stdout",
     "output_type": "stream",
     "text": [
      "User defined elements to distort: None\n"
     ]
    }
   ],
   "source": [
    "# You can restrict the ions that are distorted to a certain element using the keyword distorted_elements\n",
    "# We can check it using the class attribute\n",
    "print(\"User defined elements to distort:\", Dist.distorted_elements)\n",
    "# If None, it means no restrictions so nearest neighbours are distorted (recommended default, \n",
    "# unless you have reason to suspect otherwise; see shakenbreak.readthedocs.io/en/latest/Tips.html)"
   ]
  },
  {
   "cell_type": "markdown",
   "id": "2da28e9e-6116-4e0c-9aea-f11ab6e20d01",
   "metadata": {
    "pycharm": {
     "name": "#%% md\n"
    }
   },
   "source": [
    "To see the optional parameters that can be tuned in the distortion functions, look at the docstrings:  "
   ]
  },
  {
   "cell_type": "code",
   "execution_count": 114,
   "id": "7da2f948-a4a7-4003-8c1b-5a31e190dd8a",
   "metadata": {
    "pycharm": {
     "name": "#%%\n"
    },
    "tags": []
   },
   "outputs": [
    {
     "name": "stdout",
     "output_type": "stream",
     "text": [
      "\u001b[0;31mInit signature:\u001b[0m\n",
      "\u001b[0minput\u001b[0m\u001b[0;34m.\u001b[0m\u001b[0mDistortions\u001b[0m\u001b[0;34m(\u001b[0m\u001b[0;34m\u001b[0m\n",
      "\u001b[0;34m\u001b[0m    \u001b[0mdefects_dict\u001b[0m\u001b[0;34m:\u001b[0m \u001b[0mdict\u001b[0m\u001b[0;34m,\u001b[0m\u001b[0;34m\u001b[0m\n",
      "\u001b[0;34m\u001b[0m    \u001b[0moxidation_states\u001b[0m\u001b[0;34m:\u001b[0m \u001b[0mUnion\u001b[0m\u001b[0;34m[\u001b[0m\u001b[0mdict\u001b[0m\u001b[0;34m,\u001b[0m \u001b[0mNoneType\u001b[0m\u001b[0;34m]\u001b[0m \u001b[0;34m=\u001b[0m \u001b[0;32mNone\u001b[0m\u001b[0;34m,\u001b[0m\u001b[0;34m\u001b[0m\n",
      "\u001b[0;34m\u001b[0m    \u001b[0mdict_number_electrons_user\u001b[0m\u001b[0;34m:\u001b[0m \u001b[0mUnion\u001b[0m\u001b[0;34m[\u001b[0m\u001b[0mdict\u001b[0m\u001b[0;34m,\u001b[0m \u001b[0mNoneType\u001b[0m\u001b[0;34m]\u001b[0m \u001b[0;34m=\u001b[0m \u001b[0;32mNone\u001b[0m\u001b[0;34m,\u001b[0m\u001b[0;34m\u001b[0m\n",
      "\u001b[0;34m\u001b[0m    \u001b[0mdistortion_increment\u001b[0m\u001b[0;34m:\u001b[0m \u001b[0mfloat\u001b[0m \u001b[0;34m=\u001b[0m \u001b[0;36m0.1\u001b[0m\u001b[0;34m,\u001b[0m\u001b[0;34m\u001b[0m\n",
      "\u001b[0;34m\u001b[0m    \u001b[0mbond_distortions\u001b[0m\u001b[0;34m:\u001b[0m \u001b[0mUnion\u001b[0m\u001b[0;34m[\u001b[0m\u001b[0mlist\u001b[0m\u001b[0;34m,\u001b[0m \u001b[0mNoneType\u001b[0m\u001b[0;34m]\u001b[0m \u001b[0;34m=\u001b[0m \u001b[0;32mNone\u001b[0m\u001b[0;34m,\u001b[0m\u001b[0;34m\u001b[0m\n",
      "\u001b[0;34m\u001b[0m    \u001b[0mlocal_rattle\u001b[0m\u001b[0;34m:\u001b[0m \u001b[0mbool\u001b[0m \u001b[0;34m=\u001b[0m \u001b[0;32mFalse\u001b[0m\u001b[0;34m,\u001b[0m\u001b[0;34m\u001b[0m\n",
      "\u001b[0;34m\u001b[0m    \u001b[0mstdev\u001b[0m\u001b[0;34m:\u001b[0m \u001b[0mfloat\u001b[0m \u001b[0;34m=\u001b[0m \u001b[0;36m0.25\u001b[0m\u001b[0;34m,\u001b[0m\u001b[0;34m\u001b[0m\n",
      "\u001b[0;34m\u001b[0m    \u001b[0mdistorted_elements\u001b[0m\u001b[0;34m:\u001b[0m \u001b[0mUnion\u001b[0m\u001b[0;34m[\u001b[0m\u001b[0mdict\u001b[0m\u001b[0;34m,\u001b[0m \u001b[0mNoneType\u001b[0m\u001b[0;34m]\u001b[0m \u001b[0;34m=\u001b[0m \u001b[0;32mNone\u001b[0m\u001b[0;34m,\u001b[0m\u001b[0;34m\u001b[0m\n",
      "\u001b[0;34m\u001b[0m    \u001b[0;34m**\u001b[0m\u001b[0mkwargs\u001b[0m\u001b[0;34m,\u001b[0m\u001b[0;34m\u001b[0m\n",
      "\u001b[0;34m\u001b[0m\u001b[0;34m)\u001b[0m\u001b[0;34m\u001b[0m\u001b[0;34m\u001b[0m\u001b[0m\n",
      "\u001b[0;31mDocstring:\u001b[0m     \n",
      "Class to apply rattle and bond distortion to all defects in `defects_dict`\n",
      "(each defect as a pymatgen.analysis.defects.core.Defect() object).\n",
      "\u001b[0;31mInit docstring:\u001b[0m\n",
      "Args:\n",
      "    defects_dict (:obj:`dict`):\n",
      "        Dictionary of pymatgen.analysis.defects.core.Defect() objects.\n",
      "        E.g.: {\n",
      "            \"vacancies\": [Vacancy(), ...],\n",
      "            \"interstitials\": [Interstitial(), ...],\n",
      "            \"substitutions\": [Substitution(), ...],\n",
      "        }\n",
      "        In this case, folders will be name with the Defect.name() property.\n",
      "        Alternatively, if specific defect/folder names are desired, these can be\n",
      "        given as keys:\n",
      "        {\n",
      "            \"vacancies\": {\"vac_name\": Vacancy(), \"vac_2_name\": Vacancy()},\n",
      "            \"interstitials\": {\"int_name\": Interstitial(), ...},\n",
      "            \"substitutions\": {\"sub_name\": Substitution(), ...},\n",
      "        }\n",
      "    oxidation_states (:obj:`dict`):\n",
      "        Dictionary of oxidation states for species in your material,\n",
      "        used to determine the number of defect neighbours to distort\n",
      "        (e.g {\"Cd\": +2, \"Te\": -2}). If none is provided, the oxidation\n",
      "        states will be guessed based on the bulk composition and most\n",
      "        common oxidation states of any extrinsic species.\n",
      "    dict_number_electrons_user (:obj:`dict`):\n",
      "        Optional argument to set the number of extra/missing charge\n",
      "        (negative of electron count change) for the input defects\n",
      "        in their neutral state, as a dictionary with format\n",
      "        {'defect_name': charge_change} where charge_change is the\n",
      "        negative of the number of extra/missing electrons.\n",
      "        (Default: None)\n",
      "    distortion_increment (:obj:`float`):\n",
      "        Bond distortion increment. Distortion factors will range from\n",
      "        0 to +/-0.6, in increments of `distortion_increment`.\n",
      "        Recommended values: 0.1-0.3\n",
      "        (Default: 0.1)\n",
      "    bond_distortions (:obj:`list`):\n",
      "        List of bond distortions to apply to nearest neighbours,\n",
      "        instead of the default set (e.g. [-0.5, 0.5]).\n",
      "        (Default: None)\n",
      "    local_rattle (:obj:`bool`):\n",
      "        Whether to apply random displacements that tail off as we move\n",
      "        away from the defect site. Not recommended as typically worsens\n",
      "        performance. If False (default), all supercell sites are rattled\n",
      "        with the same amplitude (full rattle).\n",
      "        (Default: False)\n",
      "    stdev (:obj:`float`):\n",
      "        Standard deviation (in Angstroms) of the Gaussian distribution\n",
      "        from which random atomic displacement distances are drawn during\n",
      "        rattling. Recommended values: 0.25, or 0.15 for strongly-bound\n",
      "        /ionic materials.\n",
      "        (Default: 0.25)\n",
      "    distorted_elements (:obj:`dict`):\n",
      "        Optional argument to specify the neighbouring elements to\n",
      "        distort for each defect, in the form of a dictionary with\n",
      "        format {'defect_name': ['element1', 'element2', ...]}\n",
      "        (e.g {'vac_1_Cd': ['Te']}). If None, the closest neighbours to\n",
      "        the defect are chosen.\n",
      "        (Default: None)\n",
      "    **kwargs:\n",
      "        Additional keyword arguments to pass to `hiphive`'s\n",
      "        `mc_rattle` function. These include:\n",
      "        - d_min (:obj:`float`):\n",
      "            Minimum interatomic distance (in Angstroms). Monte Carlo rattle\n",
      "            moves that put atoms at distances less than this will be heavily\n",
      "            penalised.\n",
      "            (Default: 2.25)\n",
      "        - max_disp (:obj:`float`):\n",
      "            Maximum atomic displacement (in Angstroms) during Monte Carlo\n",
      "            rattling. Rarely occurs and is used primarily as a safety net.\n",
      "            (Default: 2.0)\n",
      "        - max_attempts (:obj:`int`):\n",
      "            Limit for how many attempted rattle moves are allowed a single atom.\n",
      "        - active_atoms (:obj:`list`):\n",
      "            List of the atomic indices which should undergo Monte\n",
      "            Carlo rattling. By default, all atoms are rattled.\n",
      "            (Default: None)\n",
      "        - seed (:obj:`int`):\n",
      "            Seed for setting up NumPy random state from which random\n",
      "            numbers are generated.\n",
      "\u001b[0;31mFile:\u001b[0m           ~/Python_Modules/shakenbreak/shakenbreak/input.py\n",
      "\u001b[0;31mType:\u001b[0m           type\n",
      "\u001b[0;31mSubclasses:\u001b[0m     \n"
     ]
    }
   ],
   "source": [
    "input.Distortions?"
   ]
  },
  {
   "cell_type": "markdown",
   "id": "05933591",
   "metadata": {
    "pycharm": {
     "name": "#%% md\n"
    }
   },
   "source": [
    "If we're only interested in generating distorted structures, but not in writting `VASP`/other codes input files, we can use the class method `Distortions.apply_distortions()` to do this."
   ]
  },
  {
   "cell_type": "code",
   "execution_count": 50,
   "id": "87a095a8",
   "metadata": {
    "pycharm": {
     "name": "#%%\n"
    }
   },
   "outputs": [
    {
     "name": "stdout",
     "output_type": "stream",
     "text": [
      "Applying ShakeNBreak... Will apply the following bond distortions: ['-0.6', '-0.5', '-0.4', '-0.3', '-0.2', '-0.1', '0.0', '0.1', '0.2', '0.3', '0.4', '0.5', '0.6']. Then, will rattle with a std dev of 0.25 Å \n",
      "\n",
      "\u001b[1m\n",
      "Defect: v_Cd\u001b[0m\n",
      "\u001b[1mNumber of missing electrons in neutral state: 2\u001b[0m\n",
      "\n",
      "Defect v_Cd in charge state: -2. Number of distorted neighbours: 0\n",
      "\n",
      "Defect v_Cd in charge state: -1. Number of distorted neighbours: 1\n",
      "\n",
      "Defect v_Cd in charge state: 0. Number of distorted neighbours: 2\n"
     ]
    }
   ],
   "source": [
    "defects_dict, distortion_metadata = Dist.apply_distortions()"
   ]
  },
  {
   "cell_type": "code",
   "execution_count": 51,
   "id": "f07375f6",
   "metadata": {
    "pycharm": {
     "name": "#%%\n"
    }
   },
   "outputs": [
    {
     "data": {
      "text/plain": [
       "dict_keys(['defect_type', 'defect_site', 'defect_supercell_site', 'defect_multiplicity', 'charges'])"
      ]
     },
     "execution_count": 51,
     "metadata": {},
     "output_type": "execute_result"
    }
   ],
   "source": [
    "defects_dict[\"v_Cd\"].keys()"
   ]
  },
  {
   "cell_type": "code",
   "execution_count": 52,
   "id": "e1903b20",
   "metadata": {
    "collapsed": true,
    "jupyter": {
     "outputs_hidden": true
    },
    "pycharm": {
     "name": "#%%\n"
    },
    "tags": [
     "output_scroll"
    ]
   },
   "outputs": [
    {
     "name": "stdout",
     "output_type": "stream",
     "text": [
      "Keys for each defect entry: dict_keys(['defect_type', 'defect_site', 'defect_supercell_site', 'defect_multiplicity', 'charges'])\n",
      "\n",
      "Undistorted and distorted structures:\n"
     ]
    },
    {
     "data": {
      "text/plain": [
       "{'Unperturbed': Structure Summary\n",
       " Lattice\n",
       "     abc : 13.086768 13.086768 13.086768\n",
       "  angles : 90.0 90.0 90.0\n",
       "  volume : 2241.2856479961474\n",
       "       A : 13.086768 0.0 0.0\n",
       "       B : 0.0 13.086768 0.0\n",
       "       C : 0.0 0.0 13.086768\n",
       "     pbc : True True True\n",
       " PeriodicSite: Cd2+ (0.0000, 0.0000, 6.5434) [0.0000, 0.0000, 0.5000]\n",
       " PeriodicSite: Cd2+ (0.0000, 6.5434, 0.0000) [0.0000, 0.5000, 0.0000]\n",
       " PeriodicSite: Cd2+ (0.0000, 6.5434, 6.5434) [0.0000, 0.5000, 0.5000]\n",
       " PeriodicSite: Cd2+ (6.5434, 0.0000, 0.0000) [0.5000, 0.0000, 0.0000]\n",
       " PeriodicSite: Cd2+ (6.5434, 0.0000, 6.5434) [0.5000, 0.0000, 0.5000]\n",
       " PeriodicSite: Cd2+ (6.5434, 6.5434, 0.0000) [0.5000, 0.5000, 0.0000]\n",
       " PeriodicSite: Cd2+ (6.5434, 6.5434, 6.5434) [0.5000, 0.5000, 0.5000]\n",
       " PeriodicSite: Cd2+ (0.0000, 3.2717, 3.2717) [0.0000, 0.2500, 0.2500]\n",
       " PeriodicSite: Cd2+ (0.0000, 3.2717, 9.8151) [0.0000, 0.2500, 0.7500]\n",
       " PeriodicSite: Cd2+ (0.0000, 9.8151, 3.2717) [0.0000, 0.7500, 0.2500]\n",
       " PeriodicSite: Cd2+ (0.0000, 9.8151, 9.8151) [0.0000, 0.7500, 0.7500]\n",
       " PeriodicSite: Cd2+ (6.5434, 3.2717, 3.2717) [0.5000, 0.2500, 0.2500]\n",
       " PeriodicSite: Cd2+ (6.5434, 3.2717, 9.8151) [0.5000, 0.2500, 0.7500]\n",
       " PeriodicSite: Cd2+ (6.5434, 9.8151, 3.2717) [0.5000, 0.7500, 0.2500]\n",
       " PeriodicSite: Cd2+ (6.5434, 9.8151, 9.8151) [0.5000, 0.7500, 0.7500]\n",
       " PeriodicSite: Cd2+ (3.2717, 0.0000, 3.2717) [0.2500, 0.0000, 0.2500]\n",
       " PeriodicSite: Cd2+ (3.2717, 0.0000, 9.8151) [0.2500, 0.0000, 0.7500]\n",
       " PeriodicSite: Cd2+ (3.2717, 6.5434, 3.2717) [0.2500, 0.5000, 0.2500]\n",
       " PeriodicSite: Cd2+ (3.2717, 6.5434, 9.8151) [0.2500, 0.5000, 0.7500]\n",
       " PeriodicSite: Cd2+ (9.8151, 0.0000, 3.2717) [0.7500, 0.0000, 0.2500]\n",
       " PeriodicSite: Cd2+ (9.8151, 0.0000, 9.8151) [0.7500, 0.0000, 0.7500]\n",
       " PeriodicSite: Cd2+ (9.8151, 6.5434, 3.2717) [0.7500, 0.5000, 0.2500]\n",
       " PeriodicSite: Cd2+ (9.8151, 6.5434, 9.8151) [0.7500, 0.5000, 0.7500]\n",
       " PeriodicSite: Cd2+ (3.2717, 3.2717, 0.0000) [0.2500, 0.2500, 0.0000]\n",
       " PeriodicSite: Cd2+ (3.2717, 3.2717, 6.5434) [0.2500, 0.2500, 0.5000]\n",
       " PeriodicSite: Cd2+ (3.2717, 9.8151, 0.0000) [0.2500, 0.7500, 0.0000]\n",
       " PeriodicSite: Cd2+ (3.2717, 9.8151, 6.5434) [0.2500, 0.7500, 0.5000]\n",
       " PeriodicSite: Cd2+ (9.8151, 3.2717, 0.0000) [0.7500, 0.2500, 0.0000]\n",
       " PeriodicSite: Cd2+ (9.8151, 3.2717, 6.5434) [0.7500, 0.2500, 0.5000]\n",
       " PeriodicSite: Cd2+ (9.8151, 9.8151, 0.0000) [0.7500, 0.7500, 0.0000]\n",
       " PeriodicSite: Cd2+ (9.8151, 9.8151, 6.5434) [0.7500, 0.7500, 0.5000]\n",
       " PeriodicSite: Te2- (1.6358, 1.6358, 4.9075) [0.1250, 0.1250, 0.3750]\n",
       " PeriodicSite: Te2- (1.6358, 1.6358, 11.4509) [0.1250, 0.1250, 0.8750]\n",
       " PeriodicSite: Te2- (1.6358, 8.1792, 4.9075) [0.1250, 0.6250, 0.3750]\n",
       " PeriodicSite: Te2- (1.6358, 8.1792, 11.4509) [0.1250, 0.6250, 0.8750]\n",
       " PeriodicSite: Te2- (8.1792, 1.6358, 4.9075) [0.6250, 0.1250, 0.3750]\n",
       " PeriodicSite: Te2- (8.1792, 1.6358, 11.4509) [0.6250, 0.1250, 0.8750]\n",
       " PeriodicSite: Te2- (8.1792, 8.1792, 4.9075) [0.6250, 0.6250, 0.3750]\n",
       " PeriodicSite: Te2- (8.1792, 8.1792, 11.4509) [0.6250, 0.6250, 0.8750]\n",
       " PeriodicSite: Te2- (1.6358, 4.9075, 1.6358) [0.1250, 0.3750, 0.1250]\n",
       " PeriodicSite: Te2- (1.6358, 4.9075, 8.1792) [0.1250, 0.3750, 0.6250]\n",
       " PeriodicSite: Te2- (1.6358, 11.4509, 1.6358) [0.1250, 0.8750, 0.1250]\n",
       " PeriodicSite: Te2- (1.6358, 11.4509, 8.1792) [0.1250, 0.8750, 0.6250]\n",
       " PeriodicSite: Te2- (8.1792, 4.9075, 1.6358) [0.6250, 0.3750, 0.1250]\n",
       " PeriodicSite: Te2- (8.1792, 4.9075, 8.1792) [0.6250, 0.3750, 0.6250]\n",
       " PeriodicSite: Te2- (8.1792, 11.4509, 1.6358) [0.6250, 0.8750, 0.1250]\n",
       " PeriodicSite: Te2- (8.1792, 11.4509, 8.1792) [0.6250, 0.8750, 0.6250]\n",
       " PeriodicSite: Te2- (4.9075, 1.6358, 1.6358) [0.3750, 0.1250, 0.1250]\n",
       " PeriodicSite: Te2- (4.9075, 1.6358, 8.1792) [0.3750, 0.1250, 0.6250]\n",
       " PeriodicSite: Te2- (4.9075, 8.1792, 1.6358) [0.3750, 0.6250, 0.1250]\n",
       " PeriodicSite: Te2- (4.9075, 8.1792, 8.1792) [0.3750, 0.6250, 0.6250]\n",
       " PeriodicSite: Te2- (11.4509, 1.6358, 1.6358) [0.8750, 0.1250, 0.1250]\n",
       " PeriodicSite: Te2- (11.4509, 1.6358, 8.1792) [0.8750, 0.1250, 0.6250]\n",
       " PeriodicSite: Te2- (11.4509, 8.1792, 1.6358) [0.8750, 0.6250, 0.1250]\n",
       " PeriodicSite: Te2- (11.4509, 8.1792, 8.1792) [0.8750, 0.6250, 0.6250]\n",
       " PeriodicSite: Te2- (4.9075, 4.9075, 4.9075) [0.3750, 0.3750, 0.3750]\n",
       " PeriodicSite: Te2- (4.9075, 4.9075, 11.4509) [0.3750, 0.3750, 0.8750]\n",
       " PeriodicSite: Te2- (4.9075, 11.4509, 4.9075) [0.3750, 0.8750, 0.3750]\n",
       " PeriodicSite: Te2- (4.9075, 11.4509, 11.4509) [0.3750, 0.8750, 0.8750]\n",
       " PeriodicSite: Te2- (11.4509, 4.9075, 4.9075) [0.8750, 0.3750, 0.3750]\n",
       " PeriodicSite: Te2- (11.4509, 4.9075, 11.4509) [0.8750, 0.3750, 0.8750]\n",
       " PeriodicSite: Te2- (11.4509, 11.4509, 4.9075) [0.8750, 0.8750, 0.3750]\n",
       " PeriodicSite: Te2- (11.4509, 11.4509, 11.4509) [0.8750, 0.8750, 0.8750],\n",
       " 'distortions': {'Bond_Distortion_-60.0%': Structure Summary\n",
       "  Lattice\n",
       "      abc : 13.086768 13.086768 13.086768\n",
       "   angles : 90.0 90.0 90.0\n",
       "   volume : 2241.2856479961474\n",
       "        A : 13.086768 0.0 0.0\n",
       "        B : 0.0 13.086768 0.0\n",
       "        C : 0.0 0.0 13.086768\n",
       "      pbc : True True True\n",
       "  PeriodicSite: Cd2+ (0.2053, 0.2205, 6.5613) [0.0157, 0.0168, 0.5014]\n",
       "  PeriodicSite: Cd2+ (0.3553, 6.4875, 0.1312) [0.0272, 0.4957, 0.0100]\n",
       "  PeriodicSite: Cd2+ (-0.0190, 6.5182, 6.2570) [-0.0014, 0.4981, 0.4781]\n",
       "  PeriodicSite: Cd2+ (6.1797, 0.2624, -0.2391) [0.4722, 0.0201, -0.0183]\n",
       "  PeriodicSite: Cd2+ (6.3937, -0.0705, 6.3048) [0.4886, -0.0054, 0.4818]\n",
       "  PeriodicSite: Cd2+ (6.6170, 6.7872, -0.3530) [0.5056, 0.5186, -0.0270]\n",
       "  PeriodicSite: Cd2+ (6.2839, 6.8800, 6.8680) [0.4802, 0.5257, 0.5248]\n",
       "  PeriodicSite: Cd2+ (-0.4558, 3.5713, 3.1244) [-0.0348, 0.2729, 0.2387]\n",
       "  PeriodicSite: Cd2+ (-0.1384, 3.4883, 9.4875) [-0.0106, 0.2666, 0.7250]\n",
       "  PeriodicSite: Cd2+ (-0.0991, 9.2566, 3.3244) [-0.0076, 0.7073, 0.2540]\n",
       "  PeriodicSite: Cd2+ (-0.0666, 9.6259, 10.0500) [-0.0051, 0.7355, 0.7680]\n",
       "  PeriodicSite: Cd2+ (6.5510, 3.6912, 3.0563) [0.5006, 0.2821, 0.2335]\n",
       "  PeriodicSite: Cd2+ (6.7587, 3.3272, 9.5832) [0.5165, 0.2542, 0.7323]\n",
       "  PeriodicSite: Cd2+ (6.6361, 9.8497, 3.7883) [0.5071, 0.7526, 0.2895]\n",
       "  PeriodicSite: Cd2+ (6.6083, 10.0528, 9.9354) [0.5050, 0.7682, 0.7592]\n",
       "  PeriodicSite: Cd2+ (3.0289, -0.1828, 3.5477) [0.2314, -0.0140, 0.2711]\n",
       "  PeriodicSite: Cd2+ (3.1099, 0.0703, 9.6602) [0.2376, 0.0054, 0.7382]\n",
       "  PeriodicSite: Cd2+ (3.5575, 6.4425, 3.2086) [0.2718, 0.4923, 0.2452]\n",
       "  PeriodicSite: Cd2+ (3.4326, 6.7705, 9.5013) [0.2623, 0.5174, 0.7260]\n",
       "  PeriodicSite: Cd2+ (9.7117, -0.4834, 3.4040) [0.7421, -0.0369, 0.2601]\n",
       "  PeriodicSite: Cd2+ (10.0022, 0.1080, 9.6517) [0.7643, 0.0083, 0.7375]\n",
       "  PeriodicSite: Cd2+ (10.1714, 6.6242, 3.1655) [0.7772, 0.5062, 0.2419]\n",
       "  PeriodicSite: Cd2+ (9.3085, 6.4018, 9.7534) [0.7113, 0.4892, 0.7453]\n",
       "  PeriodicSite: Cd2+ (3.3995, 3.4742, -0.1808) [0.2598, 0.2655, -0.0138]\n",
       "  PeriodicSite: Cd2+ (3.7388, 3.4910, 6.3136) [0.2857, 0.2668, 0.4824]\n",
       "  PeriodicSite: Cd2+ (3.3415, 9.5849, -0.3544) [0.2553, 0.7324, -0.0271]\n",
       "  PeriodicSite: Cd2+ (3.7662, 9.4368, 6.4918) [0.2878, 0.7211, 0.4961]\n",
       "  PeriodicSite: Cd2+ (10.1502, 3.5292, -0.1238) [0.7756, 0.2697, -0.0095]\n",
       "  PeriodicSite: Cd2+ (10.0436, 3.1852, 6.9917) [0.7675, 0.2434, 0.5343]\n",
       "  PeriodicSite: Cd2+ (10.0242, 9.9364, 0.1105) [0.7660, 0.7593, 0.0084]\n",
       "  PeriodicSite: Cd2+ (9.7511, 9.8455, 6.4614) [0.7451, 0.7523, 0.4937]\n",
       "  PeriodicSite: Te2- (1.5541, 1.9734, 4.9234) [0.1188, 0.1508, 0.3762]\n",
       "  PeriodicSite: Te2- (0.6543, 0.6543, 12.4324) [0.0500, 0.0500, 0.9500]\n",
       "  PeriodicSite: Te2- (1.7175, 8.2820, 5.4998) [0.1312, 0.6329, 0.4203]\n",
       "  PeriodicSite: Te2- (1.4773, 8.0915, 11.0885) [0.1129, 0.6183, 0.8473]\n",
       "  PeriodicSite: Te2- (8.2653, 1.6044, 4.8425) [0.6316, 0.1226, 0.3700]\n",
       "  PeriodicSite: Te2- (8.2235, 1.4452, 11.0741) [0.6284, 0.1104, 0.8462]\n",
       "  PeriodicSite: Te2- (8.1547, 8.4171, 4.9777) [0.6231, 0.6432, 0.3804]\n",
       "  PeriodicSite: Te2- (8.0257, 8.4326, 11.6793) [0.6133, 0.6444, 0.8925]\n",
       "  PeriodicSite: Te2- (1.4910, 4.8183, 1.9866) [0.1139, 0.3682, 0.1518]\n",
       "  PeriodicSite: Te2- (1.6639, 4.7990, 7.8885) [0.1271, 0.3667, 0.6028]\n",
       "  PeriodicSite: Te2- (0.6543, 12.4324, 0.6543) [0.0500, 0.9500, 0.0500]\n",
       "  PeriodicSite: Te2- (1.6669, 11.6722, 8.4278) [0.1274, 0.8919, 0.6440]\n",
       "  PeriodicSite: Te2- (8.0377, 4.8619, 1.4752) [0.6142, 0.3715, 0.1127]\n",
       "  PeriodicSite: Te2- (8.0790, 5.0655, 7.4358) [0.6173, 0.3871, 0.5682]\n",
       "  PeriodicSite: Te2- (7.9597, 11.5680, 1.4783) [0.6082, 0.8839, 0.1130]\n",
       "  PeriodicSite: Te2- (8.8232, 11.9197, 7.9344) [0.6742, 0.9108, 0.6063]\n",
       "  PeriodicSite: Te2- (4.7196, 1.6713, 2.1132) [0.3606, 0.1277, 0.1615]\n",
       "  PeriodicSite: Te2- (4.9108, 1.4912, 7.7656) [0.3753, 0.1139, 0.5934]\n",
       "  PeriodicSite: Te2- (5.3145, 7.9556, 1.4580) [0.4061, 0.6079, 0.1114]\n",
       "  PeriodicSite: Te2- (4.9771, 8.4099, 8.3701) [0.3803, 0.6426, 0.6396]\n",
       "  PeriodicSite: Te2- (11.7093, 1.8306, 1.2709) [0.8947, 0.1399, 0.0971]\n",
       "  PeriodicSite: Te2- (11.8438, 1.6705, 7.7841) [0.9050, 0.1276, 0.5948]\n",
       "  PeriodicSite: Te2- (11.7240, 8.1713, 1.3777) [0.8959, 0.6244, 0.1053]\n",
       "  PeriodicSite: Te2- (11.7746, 8.1927, 8.2275) [0.8997, 0.6260, 0.6287]\n",
       "  PeriodicSite: Te2- (5.1086, 4.9076, 4.8338) [0.3904, 0.3750, 0.3694]\n",
       "  PeriodicSite: Te2- (5.0266, 4.9282, 11.3881) [0.3841, 0.3766, 0.8702]\n",
       "  PeriodicSite: Te2- (4.9662, 11.5871, 4.8092) [0.3795, 0.8854, 0.3675]\n",
       "  PeriodicSite: Te2- (5.1264, 11.1806, 11.4959) [0.3917, 0.8543, 0.8784]\n",
       "  PeriodicSite: Te2- (11.5396, 4.9907, 5.2762) [0.8818, 0.3814, 0.4032]\n",
       "  PeriodicSite: Te2- (11.5086, 5.1651, 11.4601) [0.8794, 0.3947, 0.8757]\n",
       "  PeriodicSite: Te2- (11.5595, 11.8954, 4.7469) [0.8833, 0.9090, 0.3627]\n",
       "  PeriodicSite: Te2- (11.0723, 11.6486, 11.3780) [0.8461, 0.8901, 0.8694],\n",
       "  'Bond_Distortion_-50.0%': Structure Summary\n",
       "  Lattice\n",
       "      abc : 13.086768 13.086768 13.086768\n",
       "   angles : 90.0 90.0 90.0\n",
       "   volume : 2241.2856479961474\n",
       "        A : 13.086768 0.0 0.0\n",
       "        B : 0.0 13.086768 0.0\n",
       "        C : 0.0 0.0 13.086768\n",
       "      pbc : True True True\n",
       "  PeriodicSite: Cd2+ (0.2053, 0.2205, 6.5613) [0.0157, 0.0168, 0.5014]\n",
       "  PeriodicSite: Cd2+ (0.3553, 6.4875, 0.1312) [0.0272, 0.4957, 0.0100]\n",
       "  PeriodicSite: Cd2+ (-0.0190, 6.5182, 6.2570) [-0.0014, 0.4981, 0.4781]\n",
       "  PeriodicSite: Cd2+ (6.1797, 0.2624, -0.2391) [0.4722, 0.0201, -0.0183]\n",
       "  PeriodicSite: Cd2+ (6.3937, -0.0705, 6.3048) [0.4886, -0.0054, 0.4818]\n",
       "  PeriodicSite: Cd2+ (6.6170, 6.7872, -0.3530) [0.5056, 0.5186, -0.0270]\n",
       "  PeriodicSite: Cd2+ (6.2839, 6.8800, 6.8680) [0.4802, 0.5257, 0.5248]\n",
       "  PeriodicSite: Cd2+ (-0.4558, 3.5713, 3.1244) [-0.0348, 0.2729, 0.2387]\n",
       "  PeriodicSite: Cd2+ (-0.1384, 3.4883, 9.4875) [-0.0106, 0.2666, 0.7250]\n",
       "  PeriodicSite: Cd2+ (-0.0991, 9.2566, 3.3244) [-0.0076, 0.7073, 0.2540]\n",
       "  PeriodicSite: Cd2+ (-0.0666, 9.6259, 10.0500) [-0.0051, 0.7355, 0.7680]\n",
       "  PeriodicSite: Cd2+ (6.5510, 3.6912, 3.0563) [0.5006, 0.2821, 0.2335]\n",
       "  PeriodicSite: Cd2+ (6.7587, 3.3272, 9.5832) [0.5165, 0.2542, 0.7323]\n",
       "  PeriodicSite: Cd2+ (6.6361, 9.8497, 3.7883) [0.5071, 0.7526, 0.2895]\n",
       "  PeriodicSite: Cd2+ (6.6083, 10.0528, 9.9354) [0.5050, 0.7682, 0.7592]\n",
       "  PeriodicSite: Cd2+ (3.0289, -0.1828, 3.5477) [0.2314, -0.0140, 0.2711]\n",
       "  PeriodicSite: Cd2+ (3.1099, 0.0703, 9.6602) [0.2376, 0.0054, 0.7382]\n",
       "  PeriodicSite: Cd2+ (3.5575, 6.4425, 3.2086) [0.2718, 0.4923, 0.2452]\n",
       "  PeriodicSite: Cd2+ (3.4326, 6.7705, 9.5013) [0.2623, 0.5174, 0.7260]\n",
       "  PeriodicSite: Cd2+ (9.7117, -0.4834, 3.4040) [0.7421, -0.0369, 0.2601]\n",
       "  PeriodicSite: Cd2+ (10.0022, 0.1080, 9.6517) [0.7643, 0.0083, 0.7375]\n",
       "  PeriodicSite: Cd2+ (10.1714, 6.6242, 3.1655) [0.7772, 0.5062, 0.2419]\n",
       "  PeriodicSite: Cd2+ (9.3085, 6.4018, 9.7534) [0.7113, 0.4892, 0.7453]\n",
       "  PeriodicSite: Cd2+ (3.3995, 3.4742, -0.1808) [0.2598, 0.2655, -0.0138]\n",
       "  PeriodicSite: Cd2+ (3.7388, 3.4910, 6.3136) [0.2857, 0.2668, 0.4824]\n",
       "  PeriodicSite: Cd2+ (3.3415, 9.5849, -0.3544) [0.2553, 0.7324, -0.0271]\n",
       "  PeriodicSite: Cd2+ (3.7662, 9.4368, 6.4918) [0.2878, 0.7211, 0.4961]\n",
       "  PeriodicSite: Cd2+ (10.1502, 3.5292, -0.1238) [0.7756, 0.2697, -0.0095]\n",
       "  PeriodicSite: Cd2+ (10.0436, 3.1852, 6.9917) [0.7675, 0.2434, 0.5343]\n",
       "  PeriodicSite: Cd2+ (10.0242, 9.9364, 0.1105) [0.7660, 0.7593, 0.0084]\n",
       "  PeriodicSite: Cd2+ (9.7511, 9.8455, 6.4614) [0.7451, 0.7523, 0.4937]\n",
       "  PeriodicSite: Te2- (1.5541, 1.9734, 4.9234) [0.1188, 0.1508, 0.3762]\n",
       "  PeriodicSite: Te2- (0.8179, 0.8179, 12.2688) [0.0625, 0.0625, 0.9375]\n",
       "  PeriodicSite: Te2- (1.7175, 8.2820, 5.4998) [0.1312, 0.6329, 0.4203]\n",
       "  PeriodicSite: Te2- (1.4773, 8.0915, 11.0885) [0.1129, 0.6183, 0.8473]\n",
       "  PeriodicSite: Te2- (8.2653, 1.6044, 4.8425) [0.6316, 0.1226, 0.3700]\n",
       "  PeriodicSite: Te2- (8.2235, 1.4452, 11.0741) [0.6284, 0.1104, 0.8462]\n",
       "  PeriodicSite: Te2- (8.1547, 8.4171, 4.9777) [0.6231, 0.6432, 0.3804]\n",
       "  PeriodicSite: Te2- (8.0257, 8.4326, 11.6793) [0.6133, 0.6444, 0.8925]\n",
       "  PeriodicSite: Te2- (1.4910, 4.8183, 1.9866) [0.1139, 0.3682, 0.1518]\n",
       "  PeriodicSite: Te2- (1.6639, 4.7990, 7.8885) [0.1271, 0.3667, 0.6028]\n",
       "  PeriodicSite: Te2- (0.8179, 12.2688, 0.8179) [0.0625, 0.9375, 0.0625]\n",
       "  PeriodicSite: Te2- (1.6669, 11.6722, 8.4278) [0.1274, 0.8919, 0.6440]\n",
       "  PeriodicSite: Te2- (8.0377, 4.8619, 1.4752) [0.6142, 0.3715, 0.1127]\n",
       "  PeriodicSite: Te2- (8.0790, 5.0655, 7.4358) [0.6173, 0.3871, 0.5682]\n",
       "  PeriodicSite: Te2- (7.9597, 11.5680, 1.4783) [0.6082, 0.8839, 0.1130]\n",
       "  PeriodicSite: Te2- (8.8232, 11.9197, 7.9344) [0.6742, 0.9108, 0.6063]\n",
       "  PeriodicSite: Te2- (4.7196, 1.6713, 2.1132) [0.3606, 0.1277, 0.1615]\n",
       "  PeriodicSite: Te2- (4.9108, 1.4912, 7.7656) [0.3753, 0.1139, 0.5934]\n",
       "  PeriodicSite: Te2- (5.3145, 7.9556, 1.4580) [0.4061, 0.6079, 0.1114]\n",
       "  PeriodicSite: Te2- (4.9771, 8.4099, 8.3701) [0.3803, 0.6426, 0.6396]\n",
       "  PeriodicSite: Te2- (11.7093, 1.8306, 1.2709) [0.8947, 0.1399, 0.0971]\n",
       "  PeriodicSite: Te2- (11.8438, 1.6705, 7.7841) [0.9050, 0.1276, 0.5948]\n",
       "  PeriodicSite: Te2- (11.7240, 8.1713, 1.3777) [0.8959, 0.6244, 0.1053]\n",
       "  PeriodicSite: Te2- (11.7746, 8.1927, 8.2275) [0.8997, 0.6260, 0.6287]\n",
       "  PeriodicSite: Te2- (5.1086, 4.9076, 4.8338) [0.3904, 0.3750, 0.3694]\n",
       "  PeriodicSite: Te2- (5.0266, 4.9282, 11.3881) [0.3841, 0.3766, 0.8702]\n",
       "  PeriodicSite: Te2- (4.9662, 11.5871, 4.8092) [0.3795, 0.8854, 0.3675]\n",
       "  PeriodicSite: Te2- (5.1264, 11.1806, 11.4959) [0.3917, 0.8543, 0.8784]\n",
       "  PeriodicSite: Te2- (11.5396, 4.9907, 5.2762) [0.8818, 0.3814, 0.4032]\n",
       "  PeriodicSite: Te2- (11.5086, 5.1651, 11.4601) [0.8794, 0.3947, 0.8757]\n",
       "  PeriodicSite: Te2- (11.5595, 11.8954, 4.7469) [0.8833, 0.9090, 0.3627]\n",
       "  PeriodicSite: Te2- (11.0723, 11.6486, 11.3780) [0.8461, 0.8901, 0.8694],\n",
       "  'Bond_Distortion_-40.0%': Structure Summary\n",
       "  Lattice\n",
       "      abc : 13.086768 13.086768 13.086768\n",
       "   angles : 90.0 90.0 90.0\n",
       "   volume : 2241.2856479961474\n",
       "        A : 13.086768 0.0 0.0\n",
       "        B : 0.0 13.086768 0.0\n",
       "        C : 0.0 0.0 13.086768\n",
       "      pbc : True True True\n",
       "  PeriodicSite: Cd2+ (0.2053, 0.2205, 6.5613) [0.0157, 0.0168, 0.5014]\n",
       "  PeriodicSite: Cd2+ (0.3553, 6.4875, 0.1312) [0.0272, 0.4957, 0.0100]\n",
       "  PeriodicSite: Cd2+ (-0.0190, 6.5182, 6.2570) [-0.0014, 0.4981, 0.4781]\n",
       "  PeriodicSite: Cd2+ (6.1797, 0.2624, -0.2391) [0.4722, 0.0201, -0.0183]\n",
       "  PeriodicSite: Cd2+ (6.3937, -0.0705, 6.3048) [0.4886, -0.0054, 0.4818]\n",
       "  PeriodicSite: Cd2+ (6.6170, 6.7872, -0.3530) [0.5056, 0.5186, -0.0270]\n",
       "  PeriodicSite: Cd2+ (6.2839, 6.8800, 6.8680) [0.4802, 0.5257, 0.5248]\n",
       "  PeriodicSite: Cd2+ (-0.4558, 3.5713, 3.1244) [-0.0348, 0.2729, 0.2387]\n",
       "  PeriodicSite: Cd2+ (-0.1384, 3.4883, 9.4875) [-0.0106, 0.2666, 0.7250]\n",
       "  PeriodicSite: Cd2+ (-0.0991, 9.2566, 3.3244) [-0.0076, 0.7073, 0.2540]\n",
       "  PeriodicSite: Cd2+ (-0.0666, 9.6259, 10.0500) [-0.0051, 0.7355, 0.7680]\n",
       "  PeriodicSite: Cd2+ (6.5510, 3.6912, 3.0563) [0.5006, 0.2821, 0.2335]\n",
       "  PeriodicSite: Cd2+ (6.7587, 3.3272, 9.5832) [0.5165, 0.2542, 0.7323]\n",
       "  PeriodicSite: Cd2+ (6.6361, 9.8497, 3.7883) [0.5071, 0.7526, 0.2895]\n",
       "  PeriodicSite: Cd2+ (6.6083, 10.0528, 9.9354) [0.5050, 0.7682, 0.7592]\n",
       "  PeriodicSite: Cd2+ (3.0289, -0.1828, 3.5477) [0.2314, -0.0140, 0.2711]\n",
       "  PeriodicSite: Cd2+ (3.1099, 0.0703, 9.6602) [0.2376, 0.0054, 0.7382]\n",
       "  PeriodicSite: Cd2+ (3.5575, 6.4425, 3.2086) [0.2718, 0.4923, 0.2452]\n",
       "  PeriodicSite: Cd2+ (3.4326, 6.7705, 9.5013) [0.2623, 0.5174, 0.7260]\n",
       "  PeriodicSite: Cd2+ (9.7117, -0.4834, 3.4040) [0.7421, -0.0369, 0.2601]\n",
       "  PeriodicSite: Cd2+ (10.0022, 0.1080, 9.6517) [0.7643, 0.0083, 0.7375]\n",
       "  PeriodicSite: Cd2+ (10.1714, 6.6242, 3.1655) [0.7772, 0.5062, 0.2419]\n",
       "  PeriodicSite: Cd2+ (9.3085, 6.4018, 9.7534) [0.7113, 0.4892, 0.7453]\n",
       "  PeriodicSite: Cd2+ (3.3995, 3.4742, -0.1808) [0.2598, 0.2655, -0.0138]\n",
       "  PeriodicSite: Cd2+ (3.7388, 3.4910, 6.3136) [0.2857, 0.2668, 0.4824]\n",
       "  PeriodicSite: Cd2+ (3.3415, 9.5849, -0.3544) [0.2553, 0.7324, -0.0271]\n",
       "  PeriodicSite: Cd2+ (3.7662, 9.4368, 6.4918) [0.2878, 0.7211, 0.4961]\n",
       "  PeriodicSite: Cd2+ (10.1502, 3.5292, -0.1238) [0.7756, 0.2697, -0.0095]\n",
       "  PeriodicSite: Cd2+ (10.0436, 3.1852, 6.9917) [0.7675, 0.2434, 0.5343]\n",
       "  PeriodicSite: Cd2+ (10.0242, 9.9364, 0.1105) [0.7660, 0.7593, 0.0084]\n",
       "  PeriodicSite: Cd2+ (9.7511, 9.8455, 6.4614) [0.7451, 0.7523, 0.4937]\n",
       "  PeriodicSite: Te2- (1.5541, 1.9734, 4.9234) [0.1188, 0.1508, 0.3762]\n",
       "  PeriodicSite: Te2- (0.9815, 0.9815, 12.1052) [0.0750, 0.0750, 0.9250]\n",
       "  PeriodicSite: Te2- (1.7175, 8.2820, 5.4998) [0.1312, 0.6329, 0.4203]\n",
       "  PeriodicSite: Te2- (1.4773, 8.0915, 11.0885) [0.1129, 0.6183, 0.8473]\n",
       "  PeriodicSite: Te2- (8.2653, 1.6044, 4.8425) [0.6316, 0.1226, 0.3700]\n",
       "  PeriodicSite: Te2- (8.2235, 1.4452, 11.0741) [0.6284, 0.1104, 0.8462]\n",
       "  PeriodicSite: Te2- (8.1547, 8.4171, 4.9777) [0.6231, 0.6432, 0.3804]\n",
       "  PeriodicSite: Te2- (8.0257, 8.4326, 11.6793) [0.6133, 0.6444, 0.8925]\n",
       "  PeriodicSite: Te2- (1.4910, 4.8183, 1.9866) [0.1139, 0.3682, 0.1518]\n",
       "  PeriodicSite: Te2- (1.6639, 4.7990, 7.8885) [0.1271, 0.3667, 0.6028]\n",
       "  PeriodicSite: Te2- (0.9815, 12.1052, 0.9815) [0.0750, 0.9250, 0.0750]\n",
       "  PeriodicSite: Te2- (1.6669, 11.6722, 8.4278) [0.1274, 0.8919, 0.6440]\n",
       "  PeriodicSite: Te2- (8.0377, 4.8619, 1.4752) [0.6142, 0.3715, 0.1127]\n",
       "  PeriodicSite: Te2- (8.0790, 5.0655, 7.4358) [0.6173, 0.3871, 0.5682]\n",
       "  PeriodicSite: Te2- (7.9597, 11.5680, 1.4783) [0.6082, 0.8839, 0.1130]\n",
       "  PeriodicSite: Te2- (8.8232, 11.9197, 7.9344) [0.6742, 0.9108, 0.6063]\n",
       "  PeriodicSite: Te2- (4.7196, 1.6713, 2.1132) [0.3606, 0.1277, 0.1615]\n",
       "  PeriodicSite: Te2- (4.9108, 1.4912, 7.7656) [0.3753, 0.1139, 0.5934]\n",
       "  PeriodicSite: Te2- (5.3145, 7.9556, 1.4580) [0.4061, 0.6079, 0.1114]\n",
       "  PeriodicSite: Te2- (4.9771, 8.4099, 8.3701) [0.3803, 0.6426, 0.6396]\n",
       "  PeriodicSite: Te2- (11.7093, 1.8306, 1.2709) [0.8947, 0.1399, 0.0971]\n",
       "  PeriodicSite: Te2- (11.8438, 1.6705, 7.7841) [0.9050, 0.1276, 0.5948]\n",
       "  PeriodicSite: Te2- (11.7240, 8.1713, 1.3777) [0.8959, 0.6244, 0.1053]\n",
       "  PeriodicSite: Te2- (11.7746, 8.1927, 8.2275) [0.8997, 0.6260, 0.6287]\n",
       "  PeriodicSite: Te2- (5.1086, 4.9076, 4.8338) [0.3904, 0.3750, 0.3694]\n",
       "  PeriodicSite: Te2- (5.0266, 4.9282, 11.3881) [0.3841, 0.3766, 0.8702]\n",
       "  PeriodicSite: Te2- (4.9662, 11.5871, 4.8092) [0.3795, 0.8854, 0.3675]\n",
       "  PeriodicSite: Te2- (5.1264, 11.1806, 11.4959) [0.3917, 0.8543, 0.8784]\n",
       "  PeriodicSite: Te2- (11.5396, 4.9907, 5.2762) [0.8818, 0.3814, 0.4032]\n",
       "  PeriodicSite: Te2- (11.5086, 5.1651, 11.4601) [0.8794, 0.3947, 0.8757]\n",
       "  PeriodicSite: Te2- (11.5595, 11.8954, 4.7469) [0.8833, 0.9090, 0.3627]\n",
       "  PeriodicSite: Te2- (11.0723, 11.6486, 11.3780) [0.8461, 0.8901, 0.8694],\n",
       "  'Bond_Distortion_-30.0%': Structure Summary\n",
       "  Lattice\n",
       "      abc : 13.086768 13.086768 13.086768\n",
       "   angles : 90.0 90.0 90.0\n",
       "   volume : 2241.2856479961474\n",
       "        A : 13.086768 0.0 0.0\n",
       "        B : 0.0 13.086768 0.0\n",
       "        C : 0.0 0.0 13.086768\n",
       "      pbc : True True True\n",
       "  PeriodicSite: Cd2+ (0.2053, 0.2205, 6.5613) [0.0157, 0.0168, 0.5014]\n",
       "  PeriodicSite: Cd2+ (0.3553, 6.4875, 0.1312) [0.0272, 0.4957, 0.0100]\n",
       "  PeriodicSite: Cd2+ (-0.0190, 6.5182, 6.2570) [-0.0014, 0.4981, 0.4781]\n",
       "  PeriodicSite: Cd2+ (6.1797, 0.2624, -0.2391) [0.4722, 0.0201, -0.0183]\n",
       "  PeriodicSite: Cd2+ (6.3937, -0.0705, 6.3048) [0.4886, -0.0054, 0.4818]\n",
       "  PeriodicSite: Cd2+ (6.6170, 6.7872, -0.3530) [0.5056, 0.5186, -0.0270]\n",
       "  PeriodicSite: Cd2+ (6.2839, 6.8800, 6.8680) [0.4802, 0.5257, 0.5248]\n",
       "  PeriodicSite: Cd2+ (-0.4558, 3.5713, 3.1244) [-0.0348, 0.2729, 0.2387]\n",
       "  PeriodicSite: Cd2+ (-0.1384, 3.4883, 9.4875) [-0.0106, 0.2666, 0.7250]\n",
       "  PeriodicSite: Cd2+ (-0.0991, 9.2566, 3.3244) [-0.0076, 0.7073, 0.2540]\n",
       "  PeriodicSite: Cd2+ (-0.0666, 9.6259, 10.0500) [-0.0051, 0.7355, 0.7680]\n",
       "  PeriodicSite: Cd2+ (6.5510, 3.6912, 3.0563) [0.5006, 0.2821, 0.2335]\n",
       "  PeriodicSite: Cd2+ (6.7587, 3.3272, 9.5832) [0.5165, 0.2542, 0.7323]\n",
       "  PeriodicSite: Cd2+ (6.6361, 9.8497, 3.7883) [0.5071, 0.7526, 0.2895]\n",
       "  PeriodicSite: Cd2+ (6.6083, 10.0528, 9.9354) [0.5050, 0.7682, 0.7592]\n",
       "  PeriodicSite: Cd2+ (3.0289, -0.1828, 3.5477) [0.2314, -0.0140, 0.2711]\n",
       "  PeriodicSite: Cd2+ (3.1099, 0.0703, 9.6602) [0.2376, 0.0054, 0.7382]\n",
       "  PeriodicSite: Cd2+ (3.5575, 6.4425, 3.2086) [0.2718, 0.4923, 0.2452]\n",
       "  PeriodicSite: Cd2+ (3.4326, 6.7705, 9.5013) [0.2623, 0.5174, 0.7260]\n",
       "  PeriodicSite: Cd2+ (9.7117, -0.4834, 3.4040) [0.7421, -0.0369, 0.2601]\n",
       "  PeriodicSite: Cd2+ (10.0022, 0.1080, 9.6517) [0.7643, 0.0083, 0.7375]\n",
       "  PeriodicSite: Cd2+ (10.1714, 6.6242, 3.1655) [0.7772, 0.5062, 0.2419]\n",
       "  PeriodicSite: Cd2+ (9.3085, 6.4018, 9.7534) [0.7113, 0.4892, 0.7453]\n",
       "  PeriodicSite: Cd2+ (3.3995, 3.4742, -0.1808) [0.2598, 0.2655, -0.0138]\n",
       "  PeriodicSite: Cd2+ (3.7388, 3.4910, 6.3136) [0.2857, 0.2668, 0.4824]\n",
       "  PeriodicSite: Cd2+ (3.3415, 9.5849, -0.3544) [0.2553, 0.7324, -0.0271]\n",
       "  PeriodicSite: Cd2+ (3.7662, 9.4368, 6.4918) [0.2878, 0.7211, 0.4961]\n",
       "  PeriodicSite: Cd2+ (10.1502, 3.5292, -0.1238) [0.7756, 0.2697, -0.0095]\n",
       "  PeriodicSite: Cd2+ (10.0436, 3.1852, 6.9917) [0.7675, 0.2434, 0.5343]\n",
       "  PeriodicSite: Cd2+ (10.0242, 9.9364, 0.1105) [0.7660, 0.7593, 0.0084]\n",
       "  PeriodicSite: Cd2+ (9.7511, 9.8455, 6.4614) [0.7451, 0.7523, 0.4937]\n",
       "  PeriodicSite: Te2- (1.5541, 1.9734, 4.9234) [0.1188, 0.1508, 0.3762]\n",
       "  PeriodicSite: Te2- (1.1451, 1.1451, 11.9417) [0.0875, 0.0875, 0.9125]\n",
       "  PeriodicSite: Te2- (1.7175, 8.2820, 5.4998) [0.1312, 0.6329, 0.4203]\n",
       "  PeriodicSite: Te2- (1.4773, 8.0915, 11.0885) [0.1129, 0.6183, 0.8473]\n",
       "  PeriodicSite: Te2- (8.2653, 1.6044, 4.8425) [0.6316, 0.1226, 0.3700]\n",
       "  PeriodicSite: Te2- (8.2235, 1.4452, 11.0741) [0.6284, 0.1104, 0.8462]\n",
       "  PeriodicSite: Te2- (8.1547, 8.4171, 4.9777) [0.6231, 0.6432, 0.3804]\n",
       "  PeriodicSite: Te2- (8.0257, 8.4326, 11.6793) [0.6133, 0.6444, 0.8925]\n",
       "  PeriodicSite: Te2- (1.4910, 4.8183, 1.9866) [0.1139, 0.3682, 0.1518]\n",
       "  PeriodicSite: Te2- (1.6639, 4.7990, 7.8885) [0.1271, 0.3667, 0.6028]\n",
       "  PeriodicSite: Te2- (1.1451, 11.9417, 1.1451) [0.0875, 0.9125, 0.0875]\n",
       "  PeriodicSite: Te2- (1.6669, 11.6722, 8.4278) [0.1274, 0.8919, 0.6440]\n",
       "  PeriodicSite: Te2- (8.0377, 4.8619, 1.4752) [0.6142, 0.3715, 0.1127]\n",
       "  PeriodicSite: Te2- (8.0790, 5.0655, 7.4358) [0.6173, 0.3871, 0.5682]\n",
       "  PeriodicSite: Te2- (7.9597, 11.5680, 1.4783) [0.6082, 0.8839, 0.1130]\n",
       "  PeriodicSite: Te2- (8.8232, 11.9197, 7.9344) [0.6742, 0.9108, 0.6063]\n",
       "  PeriodicSite: Te2- (4.7196, 1.6713, 2.1132) [0.3606, 0.1277, 0.1615]\n",
       "  PeriodicSite: Te2- (4.9108, 1.4912, 7.7656) [0.3753, 0.1139, 0.5934]\n",
       "  PeriodicSite: Te2- (5.3145, 7.9556, 1.4580) [0.4061, 0.6079, 0.1114]\n",
       "  PeriodicSite: Te2- (4.9771, 8.4099, 8.3701) [0.3803, 0.6426, 0.6396]\n",
       "  PeriodicSite: Te2- (11.7093, 1.8306, 1.2709) [0.8947, 0.1399, 0.0971]\n",
       "  PeriodicSite: Te2- (11.8438, 1.6705, 7.7841) [0.9050, 0.1276, 0.5948]\n",
       "  PeriodicSite: Te2- (11.7240, 8.1713, 1.3777) [0.8959, 0.6244, 0.1053]\n",
       "  PeriodicSite: Te2- (11.7746, 8.1927, 8.2275) [0.8997, 0.6260, 0.6287]\n",
       "  PeriodicSite: Te2- (5.1086, 4.9076, 4.8338) [0.3904, 0.3750, 0.3694]\n",
       "  PeriodicSite: Te2- (5.0266, 4.9282, 11.3881) [0.3841, 0.3766, 0.8702]\n",
       "  PeriodicSite: Te2- (4.9662, 11.5871, 4.8092) [0.3795, 0.8854, 0.3675]\n",
       "  PeriodicSite: Te2- (5.1264, 11.1806, 11.4959) [0.3917, 0.8543, 0.8784]\n",
       "  PeriodicSite: Te2- (11.5396, 4.9907, 5.2762) [0.8818, 0.3814, 0.4032]\n",
       "  PeriodicSite: Te2- (11.5086, 5.1651, 11.4601) [0.8794, 0.3947, 0.8757]\n",
       "  PeriodicSite: Te2- (11.5595, 11.8954, 4.7469) [0.8833, 0.9090, 0.3627]\n",
       "  PeriodicSite: Te2- (11.0723, 11.6486, 11.3780) [0.8461, 0.8901, 0.8694],\n",
       "  'Bond_Distortion_-20.0%': Structure Summary\n",
       "  Lattice\n",
       "      abc : 13.086768 13.086768 13.086768\n",
       "   angles : 90.0 90.0 90.0\n",
       "   volume : 2241.2856479961474\n",
       "        A : 13.086768 0.0 0.0\n",
       "        B : 0.0 13.086768 0.0\n",
       "        C : 0.0 0.0 13.086768\n",
       "      pbc : True True True\n",
       "  PeriodicSite: Cd2+ (0.2053, 0.2205, 6.5613) [0.0157, 0.0168, 0.5014]\n",
       "  PeriodicSite: Cd2+ (0.3553, 6.4875, 0.1312) [0.0272, 0.4957, 0.0100]\n",
       "  PeriodicSite: Cd2+ (-0.0190, 6.5182, 6.2570) [-0.0014, 0.4981, 0.4781]\n",
       "  PeriodicSite: Cd2+ (6.1797, 0.2624, -0.2391) [0.4722, 0.0201, -0.0183]\n",
       "  PeriodicSite: Cd2+ (6.3937, -0.0705, 6.3048) [0.4886, -0.0054, 0.4818]\n",
       "  PeriodicSite: Cd2+ (6.6170, 6.7872, -0.3530) [0.5056, 0.5186, -0.0270]\n",
       "  PeriodicSite: Cd2+ (6.2839, 6.8800, 6.8680) [0.4802, 0.5257, 0.5248]\n",
       "  PeriodicSite: Cd2+ (-0.4558, 3.5713, 3.1244) [-0.0348, 0.2729, 0.2387]\n",
       "  PeriodicSite: Cd2+ (-0.1384, 3.4883, 9.4875) [-0.0106, 0.2666, 0.7250]\n",
       "  PeriodicSite: Cd2+ (-0.0991, 9.2566, 3.3244) [-0.0076, 0.7073, 0.2540]\n",
       "  PeriodicSite: Cd2+ (-0.0666, 9.6259, 10.0500) [-0.0051, 0.7355, 0.7680]\n",
       "  PeriodicSite: Cd2+ (6.5510, 3.6912, 3.0563) [0.5006, 0.2821, 0.2335]\n",
       "  PeriodicSite: Cd2+ (6.7587, 3.3272, 9.5832) [0.5165, 0.2542, 0.7323]\n",
       "  PeriodicSite: Cd2+ (6.6361, 9.8497, 3.7883) [0.5071, 0.7526, 0.2895]\n",
       "  PeriodicSite: Cd2+ (6.6083, 10.0528, 9.9354) [0.5050, 0.7682, 0.7592]\n",
       "  PeriodicSite: Cd2+ (3.0289, -0.1828, 3.5477) [0.2314, -0.0140, 0.2711]\n",
       "  PeriodicSite: Cd2+ (3.1099, 0.0703, 9.6602) [0.2376, 0.0054, 0.7382]\n",
       "  PeriodicSite: Cd2+ (3.5575, 6.4425, 3.2086) [0.2718, 0.4923, 0.2452]\n",
       "  PeriodicSite: Cd2+ (3.4326, 6.7705, 9.5013) [0.2623, 0.5174, 0.7260]\n",
       "  PeriodicSite: Cd2+ (9.7117, -0.4834, 3.4040) [0.7421, -0.0369, 0.2601]\n",
       "  PeriodicSite: Cd2+ (10.0022, 0.1080, 9.6517) [0.7643, 0.0083, 0.7375]\n",
       "  PeriodicSite: Cd2+ (10.1714, 6.6242, 3.1655) [0.7772, 0.5062, 0.2419]\n",
       "  PeriodicSite: Cd2+ (9.3085, 6.4018, 9.7534) [0.7113, 0.4892, 0.7453]\n",
       "  PeriodicSite: Cd2+ (3.3995, 3.4742, -0.1808) [0.2598, 0.2655, -0.0138]\n",
       "  PeriodicSite: Cd2+ (3.7388, 3.4910, 6.3136) [0.2857, 0.2668, 0.4824]\n",
       "  PeriodicSite: Cd2+ (3.3415, 9.5849, -0.3544) [0.2553, 0.7324, -0.0271]\n",
       "  PeriodicSite: Cd2+ (3.7662, 9.4368, 6.4918) [0.2878, 0.7211, 0.4961]\n",
       "  PeriodicSite: Cd2+ (10.1502, 3.5292, -0.1238) [0.7756, 0.2697, -0.0095]\n",
       "  PeriodicSite: Cd2+ (10.0436, 3.1852, 6.9917) [0.7675, 0.2434, 0.5343]\n",
       "  PeriodicSite: Cd2+ (10.0242, 9.9364, 0.1105) [0.7660, 0.7593, 0.0084]\n",
       "  PeriodicSite: Cd2+ (9.7511, 9.8455, 6.4614) [0.7451, 0.7523, 0.4937]\n",
       "  PeriodicSite: Te2- (1.5541, 1.9734, 4.9234) [0.1188, 0.1508, 0.3762]\n",
       "  PeriodicSite: Te2- (1.3087, 1.3087, 11.7781) [0.1000, 0.1000, 0.9000]\n",
       "  PeriodicSite: Te2- (1.7175, 8.2820, 5.4998) [0.1312, 0.6329, 0.4203]\n",
       "  PeriodicSite: Te2- (1.4773, 8.0915, 11.0885) [0.1129, 0.6183, 0.8473]\n",
       "  PeriodicSite: Te2- (8.2653, 1.6044, 4.8425) [0.6316, 0.1226, 0.3700]\n",
       "  PeriodicSite: Te2- (8.2235, 1.4452, 11.0741) [0.6284, 0.1104, 0.8462]\n",
       "  PeriodicSite: Te2- (8.1547, 8.4171, 4.9777) [0.6231, 0.6432, 0.3804]\n",
       "  PeriodicSite: Te2- (8.0257, 8.4326, 11.6793) [0.6133, 0.6444, 0.8925]\n",
       "  PeriodicSite: Te2- (1.4910, 4.8183, 1.9866) [0.1139, 0.3682, 0.1518]\n",
       "  PeriodicSite: Te2- (1.6639, 4.7990, 7.8885) [0.1271, 0.3667, 0.6028]\n",
       "  PeriodicSite: Te2- (1.3087, 11.7781, 1.3087) [0.1000, 0.9000, 0.1000]\n",
       "  PeriodicSite: Te2- (1.6669, 11.6722, 8.4278) [0.1274, 0.8919, 0.6440]\n",
       "  PeriodicSite: Te2- (8.0377, 4.8619, 1.4752) [0.6142, 0.3715, 0.1127]\n",
       "  PeriodicSite: Te2- (8.0790, 5.0655, 7.4358) [0.6173, 0.3871, 0.5682]\n",
       "  PeriodicSite: Te2- (7.9597, 11.5680, 1.4783) [0.6082, 0.8839, 0.1130]\n",
       "  PeriodicSite: Te2- (8.8232, 11.9197, 7.9344) [0.6742, 0.9108, 0.6063]\n",
       "  PeriodicSite: Te2- (4.7196, 1.6713, 2.1132) [0.3606, 0.1277, 0.1615]\n",
       "  PeriodicSite: Te2- (4.9108, 1.4912, 7.7656) [0.3753, 0.1139, 0.5934]\n",
       "  PeriodicSite: Te2- (5.3145, 7.9556, 1.4580) [0.4061, 0.6079, 0.1114]\n",
       "  PeriodicSite: Te2- (4.9771, 8.4099, 8.3701) [0.3803, 0.6426, 0.6396]\n",
       "  PeriodicSite: Te2- (11.7093, 1.8306, 1.2709) [0.8947, 0.1399, 0.0971]\n",
       "  PeriodicSite: Te2- (11.8438, 1.6705, 7.7841) [0.9050, 0.1276, 0.5948]\n",
       "  PeriodicSite: Te2- (11.7240, 8.1713, 1.3777) [0.8959, 0.6244, 0.1053]\n",
       "  PeriodicSite: Te2- (11.7746, 8.1927, 8.2275) [0.8997, 0.6260, 0.6287]\n",
       "  PeriodicSite: Te2- (5.1086, 4.9076, 4.8338) [0.3904, 0.3750, 0.3694]\n",
       "  PeriodicSite: Te2- (5.0266, 4.9282, 11.3881) [0.3841, 0.3766, 0.8702]\n",
       "  PeriodicSite: Te2- (4.9662, 11.5871, 4.8092) [0.3795, 0.8854, 0.3675]\n",
       "  PeriodicSite: Te2- (5.1264, 11.1806, 11.4959) [0.3917, 0.8543, 0.8784]\n",
       "  PeriodicSite: Te2- (11.5396, 4.9907, 5.2762) [0.8818, 0.3814, 0.4032]\n",
       "  PeriodicSite: Te2- (11.5086, 5.1651, 11.4601) [0.8794, 0.3947, 0.8757]\n",
       "  PeriodicSite: Te2- (11.5595, 11.8954, 4.7469) [0.8833, 0.9090, 0.3627]\n",
       "  PeriodicSite: Te2- (11.0723, 11.6486, 11.3780) [0.8461, 0.8901, 0.8694],\n",
       "  'Bond_Distortion_-10.0%': Structure Summary\n",
       "  Lattice\n",
       "      abc : 13.086768 13.086768 13.086768\n",
       "   angles : 90.0 90.0 90.0\n",
       "   volume : 2241.2856479961474\n",
       "        A : 13.086768 0.0 0.0\n",
       "        B : 0.0 13.086768 0.0\n",
       "        C : 0.0 0.0 13.086768\n",
       "      pbc : True True True\n",
       "  PeriodicSite: Cd2+ (0.2053, 0.2205, 6.5613) [0.0157, 0.0168, 0.5014]\n",
       "  PeriodicSite: Cd2+ (0.3553, 6.4875, 0.1312) [0.0272, 0.4957, 0.0100]\n",
       "  PeriodicSite: Cd2+ (-0.0190, 6.5182, 6.2570) [-0.0014, 0.4981, 0.4781]\n",
       "  PeriodicSite: Cd2+ (6.1797, 0.2624, -0.2391) [0.4722, 0.0201, -0.0183]\n",
       "  PeriodicSite: Cd2+ (6.3937, -0.0705, 6.3048) [0.4886, -0.0054, 0.4818]\n",
       "  PeriodicSite: Cd2+ (6.6170, 6.7872, -0.3530) [0.5056, 0.5186, -0.0270]\n",
       "  PeriodicSite: Cd2+ (6.2839, 6.8800, 6.8680) [0.4802, 0.5257, 0.5248]\n",
       "  PeriodicSite: Cd2+ (-0.4558, 3.5713, 3.1244) [-0.0348, 0.2729, 0.2387]\n",
       "  PeriodicSite: Cd2+ (-0.1384, 3.4883, 9.4875) [-0.0106, 0.2666, 0.7250]\n",
       "  PeriodicSite: Cd2+ (-0.0991, 9.2566, 3.3244) [-0.0076, 0.7073, 0.2540]\n",
       "  PeriodicSite: Cd2+ (-0.0666, 9.6259, 10.0500) [-0.0051, 0.7355, 0.7680]\n",
       "  PeriodicSite: Cd2+ (6.5510, 3.6912, 3.0563) [0.5006, 0.2821, 0.2335]\n",
       "  PeriodicSite: Cd2+ (6.7587, 3.3272, 9.5832) [0.5165, 0.2542, 0.7323]\n",
       "  PeriodicSite: Cd2+ (6.6361, 9.8497, 3.7883) [0.5071, 0.7526, 0.2895]\n",
       "  PeriodicSite: Cd2+ (6.6083, 10.0528, 9.9354) [0.5050, 0.7682, 0.7592]\n",
       "  PeriodicSite: Cd2+ (3.0289, -0.1828, 3.5477) [0.2314, -0.0140, 0.2711]\n",
       "  PeriodicSite: Cd2+ (3.1099, 0.0703, 9.6602) [0.2376, 0.0054, 0.7382]\n",
       "  PeriodicSite: Cd2+ (3.5575, 6.4425, 3.2086) [0.2718, 0.4923, 0.2452]\n",
       "  PeriodicSite: Cd2+ (3.4326, 6.7705, 9.5013) [0.2623, 0.5174, 0.7260]\n",
       "  PeriodicSite: Cd2+ (9.7117, -0.4834, 3.4040) [0.7421, -0.0369, 0.2601]\n",
       "  PeriodicSite: Cd2+ (10.0022, 0.1080, 9.6517) [0.7643, 0.0083, 0.7375]\n",
       "  PeriodicSite: Cd2+ (10.1714, 6.6242, 3.1655) [0.7772, 0.5062, 0.2419]\n",
       "  PeriodicSite: Cd2+ (9.3085, 6.4018, 9.7534) [0.7113, 0.4892, 0.7453]\n",
       "  PeriodicSite: Cd2+ (3.3995, 3.4742, -0.1808) [0.2598, 0.2655, -0.0138]\n",
       "  PeriodicSite: Cd2+ (3.7388, 3.4910, 6.3136) [0.2857, 0.2668, 0.4824]\n",
       "  PeriodicSite: Cd2+ (3.3415, 9.5849, -0.3544) [0.2553, 0.7324, -0.0271]\n",
       "  PeriodicSite: Cd2+ (3.7662, 9.4368, 6.4918) [0.2878, 0.7211, 0.4961]\n",
       "  PeriodicSite: Cd2+ (10.1502, 3.5292, -0.1238) [0.7756, 0.2697, -0.0095]\n",
       "  PeriodicSite: Cd2+ (10.0436, 3.1852, 6.9917) [0.7675, 0.2434, 0.5343]\n",
       "  PeriodicSite: Cd2+ (10.0242, 9.9364, 0.1105) [0.7660, 0.7593, 0.0084]\n",
       "  PeriodicSite: Cd2+ (9.7511, 9.8455, 6.4614) [0.7451, 0.7523, 0.4937]\n",
       "  PeriodicSite: Te2- (1.5541, 1.9734, 4.9234) [0.1188, 0.1508, 0.3762]\n",
       "  PeriodicSite: Te2- (1.4723, 1.4723, 11.6145) [0.1125, 0.1125, 0.8875]\n",
       "  PeriodicSite: Te2- (1.7175, 8.2820, 5.4998) [0.1312, 0.6329, 0.4203]\n",
       "  PeriodicSite: Te2- (1.4773, 8.0915, 11.0885) [0.1129, 0.6183, 0.8473]\n",
       "  PeriodicSite: Te2- (8.2653, 1.6044, 4.8425) [0.6316, 0.1226, 0.3700]\n",
       "  PeriodicSite: Te2- (8.2235, 1.4452, 11.0741) [0.6284, 0.1104, 0.8462]\n",
       "  PeriodicSite: Te2- (8.1547, 8.4171, 4.9777) [0.6231, 0.6432, 0.3804]\n",
       "  PeriodicSite: Te2- (8.0257, 8.4326, 11.6793) [0.6133, 0.6444, 0.8925]\n",
       "  PeriodicSite: Te2- (1.4910, 4.8183, 1.9866) [0.1139, 0.3682, 0.1518]\n",
       "  PeriodicSite: Te2- (1.6639, 4.7990, 7.8885) [0.1271, 0.3667, 0.6028]\n",
       "  PeriodicSite: Te2- (1.4723, 11.6145, 1.4723) [0.1125, 0.8875, 0.1125]\n",
       "  PeriodicSite: Te2- (1.6669, 11.6722, 8.4278) [0.1274, 0.8919, 0.6440]\n",
       "  PeriodicSite: Te2- (8.0377, 4.8619, 1.4752) [0.6142, 0.3715, 0.1127]\n",
       "  PeriodicSite: Te2- (8.0790, 5.0655, 7.4358) [0.6173, 0.3871, 0.5682]\n",
       "  PeriodicSite: Te2- (7.9597, 11.5680, 1.4783) [0.6082, 0.8839, 0.1130]\n",
       "  PeriodicSite: Te2- (8.8232, 11.9197, 7.9344) [0.6742, 0.9108, 0.6063]\n",
       "  PeriodicSite: Te2- (4.7196, 1.6713, 2.1132) [0.3606, 0.1277, 0.1615]\n",
       "  PeriodicSite: Te2- (4.9108, 1.4912, 7.7656) [0.3753, 0.1139, 0.5934]\n",
       "  PeriodicSite: Te2- (5.3145, 7.9556, 1.4580) [0.4061, 0.6079, 0.1114]\n",
       "  PeriodicSite: Te2- (4.9771, 8.4099, 8.3701) [0.3803, 0.6426, 0.6396]\n",
       "  PeriodicSite: Te2- (11.7093, 1.8306, 1.2709) [0.8947, 0.1399, 0.0971]\n",
       "  PeriodicSite: Te2- (11.8438, 1.6705, 7.7841) [0.9050, 0.1276, 0.5948]\n",
       "  PeriodicSite: Te2- (11.7240, 8.1713, 1.3777) [0.8959, 0.6244, 0.1053]\n",
       "  PeriodicSite: Te2- (11.7746, 8.1927, 8.2275) [0.8997, 0.6260, 0.6287]\n",
       "  PeriodicSite: Te2- (5.1086, 4.9076, 4.8338) [0.3904, 0.3750, 0.3694]\n",
       "  PeriodicSite: Te2- (5.0266, 4.9282, 11.3881) [0.3841, 0.3766, 0.8702]\n",
       "  PeriodicSite: Te2- (4.9662, 11.5871, 4.8092) [0.3795, 0.8854, 0.3675]\n",
       "  PeriodicSite: Te2- (5.1264, 11.1806, 11.4959) [0.3917, 0.8543, 0.8784]\n",
       "  PeriodicSite: Te2- (11.5396, 4.9907, 5.2762) [0.8818, 0.3814, 0.4032]\n",
       "  PeriodicSite: Te2- (11.5086, 5.1651, 11.4601) [0.8794, 0.3947, 0.8757]\n",
       "  PeriodicSite: Te2- (11.5595, 11.8954, 4.7469) [0.8833, 0.9090, 0.3627]\n",
       "  PeriodicSite: Te2- (11.0723, 11.6486, 11.3780) [0.8461, 0.8901, 0.8694],\n",
       "  'Bond_Distortion_0.0%': Structure Summary\n",
       "  Lattice\n",
       "      abc : 13.086768 13.086768 13.086768\n",
       "   angles : 90.0 90.0 90.0\n",
       "   volume : 2241.2856479961474\n",
       "        A : 13.086768 0.0 0.0\n",
       "        B : 0.0 13.086768 0.0\n",
       "        C : 0.0 0.0 13.086768\n",
       "      pbc : True True True\n",
       "  PeriodicSite: Cd2+ (0.2053, 0.2205, 6.5613) [0.0157, 0.0168, 0.5014]\n",
       "  PeriodicSite: Cd2+ (0.3553, 6.4875, 0.1312) [0.0272, 0.4957, 0.0100]\n",
       "  PeriodicSite: Cd2+ (-0.0190, 6.5182, 6.2570) [-0.0014, 0.4981, 0.4781]\n",
       "  PeriodicSite: Cd2+ (6.1797, 0.2624, -0.2391) [0.4722, 0.0201, -0.0183]\n",
       "  PeriodicSite: Cd2+ (6.3937, -0.0705, 6.3048) [0.4886, -0.0054, 0.4818]\n",
       "  PeriodicSite: Cd2+ (6.6170, 6.7872, -0.3530) [0.5056, 0.5186, -0.0270]\n",
       "  PeriodicSite: Cd2+ (6.2839, 6.8800, 6.8680) [0.4802, 0.5257, 0.5248]\n",
       "  PeriodicSite: Cd2+ (-0.4558, 3.5713, 3.1244) [-0.0348, 0.2729, 0.2387]\n",
       "  PeriodicSite: Cd2+ (-0.1384, 3.4883, 9.4875) [-0.0106, 0.2666, 0.7250]\n",
       "  PeriodicSite: Cd2+ (-0.0991, 9.2566, 3.3244) [-0.0076, 0.7073, 0.2540]\n",
       "  PeriodicSite: Cd2+ (-0.0666, 9.6259, 10.0500) [-0.0051, 0.7355, 0.7680]\n",
       "  PeriodicSite: Cd2+ (6.5510, 3.6912, 3.0563) [0.5006, 0.2821, 0.2335]\n",
       "  PeriodicSite: Cd2+ (6.7587, 3.3272, 9.5832) [0.5165, 0.2542, 0.7323]\n",
       "  PeriodicSite: Cd2+ (6.6361, 9.8497, 3.7883) [0.5071, 0.7526, 0.2895]\n",
       "  PeriodicSite: Cd2+ (6.6083, 10.0528, 9.9354) [0.5050, 0.7682, 0.7592]\n",
       "  PeriodicSite: Cd2+ (3.0289, -0.1828, 3.5477) [0.2314, -0.0140, 0.2711]\n",
       "  PeriodicSite: Cd2+ (3.1099, 0.0703, 9.6602) [0.2376, 0.0054, 0.7382]\n",
       "  PeriodicSite: Cd2+ (3.5575, 6.4425, 3.2086) [0.2718, 0.4923, 0.2452]\n",
       "  PeriodicSite: Cd2+ (3.4326, 6.7705, 9.5013) [0.2623, 0.5174, 0.7260]\n",
       "  PeriodicSite: Cd2+ (9.7117, -0.4834, 3.4040) [0.7421, -0.0369, 0.2601]\n",
       "  PeriodicSite: Cd2+ (10.0022, 0.1080, 9.6517) [0.7643, 0.0083, 0.7375]\n",
       "  PeriodicSite: Cd2+ (10.1714, 6.6242, 3.1655) [0.7772, 0.5062, 0.2419]\n",
       "  PeriodicSite: Cd2+ (9.3085, 6.4018, 9.7534) [0.7113, 0.4892, 0.7453]\n",
       "  PeriodicSite: Cd2+ (3.3995, 3.4742, -0.1808) [0.2598, 0.2655, -0.0138]\n",
       "  PeriodicSite: Cd2+ (3.7388, 3.4910, 6.3136) [0.2857, 0.2668, 0.4824]\n",
       "  PeriodicSite: Cd2+ (3.3415, 9.5849, -0.3544) [0.2553, 0.7324, -0.0271]\n",
       "  PeriodicSite: Cd2+ (3.7662, 9.4368, 6.4918) [0.2878, 0.7211, 0.4961]\n",
       "  PeriodicSite: Cd2+ (10.1502, 3.5292, -0.1238) [0.7756, 0.2697, -0.0095]\n",
       "  PeriodicSite: Cd2+ (10.0436, 3.1852, 6.9917) [0.7675, 0.2434, 0.5343]\n",
       "  PeriodicSite: Cd2+ (10.0242, 9.9364, 0.1105) [0.7660, 0.7593, 0.0084]\n",
       "  PeriodicSite: Cd2+ (9.7511, 9.8455, 6.4614) [0.7451, 0.7523, 0.4937]\n",
       "  PeriodicSite: Te2- (1.5541, 1.9734, 4.9234) [0.1188, 0.1508, 0.3762]\n",
       "  PeriodicSite: Te2- (1.6359, 1.6359, 11.4509) [0.1250, 0.1250, 0.8750]\n",
       "  PeriodicSite: Te2- (1.7175, 8.2820, 5.4998) [0.1312, 0.6329, 0.4203]\n",
       "  PeriodicSite: Te2- (1.4773, 8.0915, 11.0885) [0.1129, 0.6183, 0.8473]\n",
       "  PeriodicSite: Te2- (8.2653, 1.6044, 4.8425) [0.6316, 0.1226, 0.3700]\n",
       "  PeriodicSite: Te2- (8.2235, 1.4452, 11.0741) [0.6284, 0.1104, 0.8462]\n",
       "  PeriodicSite: Te2- (8.1547, 8.4171, 4.9777) [0.6231, 0.6432, 0.3804]\n",
       "  PeriodicSite: Te2- (8.0257, 8.4326, 11.6793) [0.6133, 0.6444, 0.8925]\n",
       "  PeriodicSite: Te2- (1.4910, 4.8183, 1.9866) [0.1139, 0.3682, 0.1518]\n",
       "  PeriodicSite: Te2- (1.6639, 4.7990, 7.8885) [0.1271, 0.3667, 0.6028]\n",
       "  PeriodicSite: Te2- (1.6359, 11.4509, 1.6359) [0.1250, 0.8750, 0.1250]\n",
       "  PeriodicSite: Te2- (1.6669, 11.6722, 8.4278) [0.1274, 0.8919, 0.6440]\n",
       "  PeriodicSite: Te2- (8.0377, 4.8619, 1.4752) [0.6142, 0.3715, 0.1127]\n",
       "  PeriodicSite: Te2- (8.0790, 5.0655, 7.4358) [0.6173, 0.3871, 0.5682]\n",
       "  PeriodicSite: Te2- (7.9597, 11.5680, 1.4783) [0.6082, 0.8839, 0.1130]\n",
       "  PeriodicSite: Te2- (8.8232, 11.9197, 7.9344) [0.6742, 0.9108, 0.6063]\n",
       "  PeriodicSite: Te2- (4.7196, 1.6713, 2.1132) [0.3606, 0.1277, 0.1615]\n",
       "  PeriodicSite: Te2- (4.9108, 1.4912, 7.7656) [0.3753, 0.1139, 0.5934]\n",
       "  PeriodicSite: Te2- (5.3145, 7.9556, 1.4580) [0.4061, 0.6079, 0.1114]\n",
       "  PeriodicSite: Te2- (4.9771, 8.4099, 8.3701) [0.3803, 0.6426, 0.6396]\n",
       "  PeriodicSite: Te2- (11.7093, 1.8306, 1.2709) [0.8947, 0.1399, 0.0971]\n",
       "  PeriodicSite: Te2- (11.8438, 1.6705, 7.7841) [0.9050, 0.1276, 0.5948]\n",
       "  PeriodicSite: Te2- (11.7240, 8.1713, 1.3777) [0.8959, 0.6244, 0.1053]\n",
       "  PeriodicSite: Te2- (11.7746, 8.1927, 8.2275) [0.8997, 0.6260, 0.6287]\n",
       "  PeriodicSite: Te2- (5.1086, 4.9076, 4.8338) [0.3904, 0.3750, 0.3694]\n",
       "  PeriodicSite: Te2- (5.0266, 4.9282, 11.3881) [0.3841, 0.3766, 0.8702]\n",
       "  PeriodicSite: Te2- (4.9662, 11.5871, 4.8092) [0.3795, 0.8854, 0.3675]\n",
       "  PeriodicSite: Te2- (5.1264, 11.1806, 11.4959) [0.3917, 0.8543, 0.8784]\n",
       "  PeriodicSite: Te2- (11.5396, 4.9907, 5.2762) [0.8818, 0.3814, 0.4032]\n",
       "  PeriodicSite: Te2- (11.5086, 5.1651, 11.4601) [0.8794, 0.3947, 0.8757]\n",
       "  PeriodicSite: Te2- (11.5595, 11.8954, 4.7469) [0.8833, 0.9090, 0.3627]\n",
       "  PeriodicSite: Te2- (11.0723, 11.6486, 11.3780) [0.8461, 0.8901, 0.8694],\n",
       "  'Bond_Distortion_10.0%': Structure Summary\n",
       "  Lattice\n",
       "      abc : 13.086768 13.086768 13.086768\n",
       "   angles : 90.0 90.0 90.0\n",
       "   volume : 2241.2856479961474\n",
       "        A : 13.086768 0.0 0.0\n",
       "        B : 0.0 13.086768 0.0\n",
       "        C : 0.0 0.0 13.086768\n",
       "      pbc : True True True\n",
       "  PeriodicSite: Cd2+ (0.2053, 0.2205, 6.5613) [0.0157, 0.0168, 0.5014]\n",
       "  PeriodicSite: Cd2+ (0.3553, 6.4875, 0.1312) [0.0272, 0.4957, 0.0100]\n",
       "  PeriodicSite: Cd2+ (-0.0190, 6.5182, 6.2570) [-0.0014, 0.4981, 0.4781]\n",
       "  PeriodicSite: Cd2+ (6.1797, 0.2624, -0.2391) [0.4722, 0.0201, -0.0183]\n",
       "  PeriodicSite: Cd2+ (6.3937, -0.0705, 6.3048) [0.4886, -0.0054, 0.4818]\n",
       "  PeriodicSite: Cd2+ (6.6170, 6.7872, -0.3530) [0.5056, 0.5186, -0.0270]\n",
       "  PeriodicSite: Cd2+ (6.2839, 6.8800, 6.8680) [0.4802, 0.5257, 0.5248]\n",
       "  PeriodicSite: Cd2+ (-0.4558, 3.5713, 3.1244) [-0.0348, 0.2729, 0.2387]\n",
       "  PeriodicSite: Cd2+ (-0.1384, 3.4883, 9.4875) [-0.0106, 0.2666, 0.7250]\n",
       "  PeriodicSite: Cd2+ (-0.0991, 9.2566, 3.3244) [-0.0076, 0.7073, 0.2540]\n",
       "  PeriodicSite: Cd2+ (-0.0666, 9.6259, 10.0500) [-0.0051, 0.7355, 0.7680]\n",
       "  PeriodicSite: Cd2+ (6.5510, 3.6912, 3.0563) [0.5006, 0.2821, 0.2335]\n",
       "  PeriodicSite: Cd2+ (6.7587, 3.3272, 9.5832) [0.5165, 0.2542, 0.7323]\n",
       "  PeriodicSite: Cd2+ (6.6361, 9.8497, 3.7883) [0.5071, 0.7526, 0.2895]\n",
       "  PeriodicSite: Cd2+ (6.6083, 10.0528, 9.9354) [0.5050, 0.7682, 0.7592]\n",
       "  PeriodicSite: Cd2+ (3.0289, -0.1828, 3.5477) [0.2314, -0.0140, 0.2711]\n",
       "  PeriodicSite: Cd2+ (3.1099, 0.0703, 9.6602) [0.2376, 0.0054, 0.7382]\n",
       "  PeriodicSite: Cd2+ (3.5575, 6.4425, 3.2086) [0.2718, 0.4923, 0.2452]\n",
       "  PeriodicSite: Cd2+ (3.4326, 6.7705, 9.5013) [0.2623, 0.5174, 0.7260]\n",
       "  PeriodicSite: Cd2+ (9.7117, -0.4834, 3.4040) [0.7421, -0.0369, 0.2601]\n",
       "  PeriodicSite: Cd2+ (10.0022, 0.1080, 9.6517) [0.7643, 0.0083, 0.7375]\n",
       "  PeriodicSite: Cd2+ (10.1714, 6.6242, 3.1655) [0.7772, 0.5062, 0.2419]\n",
       "  PeriodicSite: Cd2+ (9.3085, 6.4018, 9.7534) [0.7113, 0.4892, 0.7453]\n",
       "  PeriodicSite: Cd2+ (3.3995, 3.4742, -0.1808) [0.2598, 0.2655, -0.0138]\n",
       "  PeriodicSite: Cd2+ (3.7388, 3.4910, 6.3136) [0.2857, 0.2668, 0.4824]\n",
       "  PeriodicSite: Cd2+ (3.3415, 9.5849, -0.3544) [0.2553, 0.7324, -0.0271]\n",
       "  PeriodicSite: Cd2+ (3.7662, 9.4368, 6.4918) [0.2878, 0.7211, 0.4961]\n",
       "  PeriodicSite: Cd2+ (10.1502, 3.5292, -0.1238) [0.7756, 0.2697, -0.0095]\n",
       "  PeriodicSite: Cd2+ (10.0436, 3.1852, 6.9917) [0.7675, 0.2434, 0.5343]\n",
       "  PeriodicSite: Cd2+ (10.0242, 9.9364, 0.1105) [0.7660, 0.7593, 0.0084]\n",
       "  PeriodicSite: Cd2+ (9.7511, 9.8455, 6.4614) [0.7451, 0.7523, 0.4937]\n",
       "  PeriodicSite: Te2- (1.5541, 1.9734, 4.9234) [0.1188, 0.1508, 0.3762]\n",
       "  PeriodicSite: Te2- (1.7995, 1.7995, 11.2873) [0.1375, 0.1375, 0.8625]\n",
       "  PeriodicSite: Te2- (1.7175, 8.2820, 5.4998) [0.1312, 0.6329, 0.4203]\n",
       "  PeriodicSite: Te2- (1.4773, 8.0915, 11.0885) [0.1129, 0.6183, 0.8473]\n",
       "  PeriodicSite: Te2- (8.2653, 1.6044, 4.8425) [0.6316, 0.1226, 0.3700]\n",
       "  PeriodicSite: Te2- (8.2235, 1.4452, 11.0741) [0.6284, 0.1104, 0.8462]\n",
       "  PeriodicSite: Te2- (8.1547, 8.4171, 4.9777) [0.6231, 0.6432, 0.3804]\n",
       "  PeriodicSite: Te2- (8.0257, 8.4326, 11.6793) [0.6133, 0.6444, 0.8925]\n",
       "  PeriodicSite: Te2- (1.4910, 4.8183, 1.9866) [0.1139, 0.3682, 0.1518]\n",
       "  PeriodicSite: Te2- (1.6639, 4.7990, 7.8885) [0.1271, 0.3667, 0.6028]\n",
       "  PeriodicSite: Te2- (1.7995, 11.2873, 1.7995) [0.1375, 0.8625, 0.1375]\n",
       "  PeriodicSite: Te2- (1.6669, 11.6722, 8.4278) [0.1274, 0.8919, 0.6440]\n",
       "  PeriodicSite: Te2- (8.0377, 4.8619, 1.4752) [0.6142, 0.3715, 0.1127]\n",
       "  PeriodicSite: Te2- (8.0790, 5.0655, 7.4358) [0.6173, 0.3871, 0.5682]\n",
       "  PeriodicSite: Te2- (7.9597, 11.5680, 1.4783) [0.6082, 0.8839, 0.1130]\n",
       "  PeriodicSite: Te2- (8.8232, 11.9197, 7.9344) [0.6742, 0.9108, 0.6063]\n",
       "  PeriodicSite: Te2- (4.7196, 1.6713, 2.1132) [0.3606, 0.1277, 0.1615]\n",
       "  PeriodicSite: Te2- (4.9108, 1.4912, 7.7656) [0.3753, 0.1139, 0.5934]\n",
       "  PeriodicSite: Te2- (5.3145, 7.9556, 1.4580) [0.4061, 0.6079, 0.1114]\n",
       "  PeriodicSite: Te2- (4.9771, 8.4099, 8.3701) [0.3803, 0.6426, 0.6396]\n",
       "  PeriodicSite: Te2- (11.7093, 1.8306, 1.2709) [0.8947, 0.1399, 0.0971]\n",
       "  PeriodicSite: Te2- (11.8438, 1.6705, 7.7841) [0.9050, 0.1276, 0.5948]\n",
       "  PeriodicSite: Te2- (11.7240, 8.1713, 1.3777) [0.8959, 0.6244, 0.1053]\n",
       "  PeriodicSite: Te2- (11.7746, 8.1927, 8.2275) [0.8997, 0.6260, 0.6287]\n",
       "  PeriodicSite: Te2- (5.1086, 4.9076, 4.8338) [0.3904, 0.3750, 0.3694]\n",
       "  PeriodicSite: Te2- (5.0266, 4.9282, 11.3881) [0.3841, 0.3766, 0.8702]\n",
       "  PeriodicSite: Te2- (4.9662, 11.5871, 4.8092) [0.3795, 0.8854, 0.3675]\n",
       "  PeriodicSite: Te2- (5.1264, 11.1806, 11.4959) [0.3917, 0.8543, 0.8784]\n",
       "  PeriodicSite: Te2- (11.5396, 4.9907, 5.2762) [0.8818, 0.3814, 0.4032]\n",
       "  PeriodicSite: Te2- (11.5086, 5.1651, 11.4601) [0.8794, 0.3947, 0.8757]\n",
       "  PeriodicSite: Te2- (11.5595, 11.8954, 4.7469) [0.8833, 0.9090, 0.3627]\n",
       "  PeriodicSite: Te2- (11.0723, 11.6486, 11.3780) [0.8461, 0.8901, 0.8694],\n",
       "  'Bond_Distortion_20.0%': Structure Summary\n",
       "  Lattice\n",
       "      abc : 13.086768 13.086768 13.086768\n",
       "   angles : 90.0 90.0 90.0\n",
       "   volume : 2241.2856479961474\n",
       "        A : 13.086768 0.0 0.0\n",
       "        B : 0.0 13.086768 0.0\n",
       "        C : 0.0 0.0 13.086768\n",
       "      pbc : True True True\n",
       "  PeriodicSite: Cd2+ (0.2053, 0.2205, 6.5613) [0.0157, 0.0168, 0.5014]\n",
       "  PeriodicSite: Cd2+ (0.3553, 6.4875, 0.1312) [0.0272, 0.4957, 0.0100]\n",
       "  PeriodicSite: Cd2+ (-0.0190, 6.5182, 6.2570) [-0.0014, 0.4981, 0.4781]\n",
       "  PeriodicSite: Cd2+ (6.1797, 0.2624, -0.2391) [0.4722, 0.0201, -0.0183]\n",
       "  PeriodicSite: Cd2+ (6.3937, -0.0705, 6.3048) [0.4886, -0.0054, 0.4818]\n",
       "  PeriodicSite: Cd2+ (6.6170, 6.7872, -0.3530) [0.5056, 0.5186, -0.0270]\n",
       "  PeriodicSite: Cd2+ (6.2839, 6.8800, 6.8680) [0.4802, 0.5257, 0.5248]\n",
       "  PeriodicSite: Cd2+ (-0.4558, 3.5713, 3.1244) [-0.0348, 0.2729, 0.2387]\n",
       "  PeriodicSite: Cd2+ (-0.1384, 3.4883, 9.4875) [-0.0106, 0.2666, 0.7250]\n",
       "  PeriodicSite: Cd2+ (-0.0991, 9.2566, 3.3244) [-0.0076, 0.7073, 0.2540]\n",
       "  PeriodicSite: Cd2+ (-0.0666, 9.6259, 10.0500) [-0.0051, 0.7355, 0.7680]\n",
       "  PeriodicSite: Cd2+ (6.5510, 3.6912, 3.0563) [0.5006, 0.2821, 0.2335]\n",
       "  PeriodicSite: Cd2+ (6.7587, 3.3272, 9.5832) [0.5165, 0.2542, 0.7323]\n",
       "  PeriodicSite: Cd2+ (6.6361, 9.8497, 3.7883) [0.5071, 0.7526, 0.2895]\n",
       "  PeriodicSite: Cd2+ (6.6083, 10.0528, 9.9354) [0.5050, 0.7682, 0.7592]\n",
       "  PeriodicSite: Cd2+ (3.0289, -0.1828, 3.5477) [0.2314, -0.0140, 0.2711]\n",
       "  PeriodicSite: Cd2+ (3.1099, 0.0703, 9.6602) [0.2376, 0.0054, 0.7382]\n",
       "  PeriodicSite: Cd2+ (3.5575, 6.4425, 3.2086) [0.2718, 0.4923, 0.2452]\n",
       "  PeriodicSite: Cd2+ (3.4326, 6.7705, 9.5013) [0.2623, 0.5174, 0.7260]\n",
       "  PeriodicSite: Cd2+ (9.7117, -0.4834, 3.4040) [0.7421, -0.0369, 0.2601]\n",
       "  PeriodicSite: Cd2+ (10.0022, 0.1080, 9.6517) [0.7643, 0.0083, 0.7375]\n",
       "  PeriodicSite: Cd2+ (10.1714, 6.6242, 3.1655) [0.7772, 0.5062, 0.2419]\n",
       "  PeriodicSite: Cd2+ (9.3085, 6.4018, 9.7534) [0.7113, 0.4892, 0.7453]\n",
       "  PeriodicSite: Cd2+ (3.3995, 3.4742, -0.1808) [0.2598, 0.2655, -0.0138]\n",
       "  PeriodicSite: Cd2+ (3.7388, 3.4910, 6.3136) [0.2857, 0.2668, 0.4824]\n",
       "  PeriodicSite: Cd2+ (3.3415, 9.5849, -0.3544) [0.2553, 0.7324, -0.0271]\n",
       "  PeriodicSite: Cd2+ (3.7662, 9.4368, 6.4918) [0.2878, 0.7211, 0.4961]\n",
       "  PeriodicSite: Cd2+ (10.1502, 3.5292, -0.1238) [0.7756, 0.2697, -0.0095]\n",
       "  PeriodicSite: Cd2+ (10.0436, 3.1852, 6.9917) [0.7675, 0.2434, 0.5343]\n",
       "  PeriodicSite: Cd2+ (10.0242, 9.9364, 0.1105) [0.7660, 0.7593, 0.0084]\n",
       "  PeriodicSite: Cd2+ (9.7511, 9.8455, 6.4614) [0.7451, 0.7523, 0.4937]\n",
       "  PeriodicSite: Te2- (1.5541, 1.9734, 4.9234) [0.1188, 0.1508, 0.3762]\n",
       "  PeriodicSite: Te2- (1.9630, 1.9630, 11.1237) [0.1500, 0.1500, 0.8500]\n",
       "  PeriodicSite: Te2- (1.7175, 8.2820, 5.4998) [0.1312, 0.6329, 0.4203]\n",
       "  PeriodicSite: Te2- (1.4773, 8.0915, 11.0885) [0.1129, 0.6183, 0.8473]\n",
       "  PeriodicSite: Te2- (8.2653, 1.6044, 4.8425) [0.6316, 0.1226, 0.3700]\n",
       "  PeriodicSite: Te2- (8.2235, 1.4452, 11.0741) [0.6284, 0.1104, 0.8462]\n",
       "  PeriodicSite: Te2- (8.1547, 8.4171, 4.9777) [0.6231, 0.6432, 0.3804]\n",
       "  PeriodicSite: Te2- (8.0257, 8.4326, 11.6793) [0.6133, 0.6444, 0.8925]\n",
       "  PeriodicSite: Te2- (1.4910, 4.8183, 1.9866) [0.1139, 0.3682, 0.1518]\n",
       "  PeriodicSite: Te2- (1.6639, 4.7990, 7.8885) [0.1271, 0.3667, 0.6028]\n",
       "  PeriodicSite: Te2- (1.9630, 11.1237, 1.9630) [0.1500, 0.8500, 0.1500]\n",
       "  PeriodicSite: Te2- (1.6669, 11.6722, 8.4278) [0.1274, 0.8919, 0.6440]\n",
       "  PeriodicSite: Te2- (8.0377, 4.8619, 1.4752) [0.6142, 0.3715, 0.1127]\n",
       "  PeriodicSite: Te2- (8.0790, 5.0655, 7.4358) [0.6173, 0.3871, 0.5682]\n",
       "  PeriodicSite: Te2- (7.9597, 11.5680, 1.4783) [0.6082, 0.8839, 0.1130]\n",
       "  PeriodicSite: Te2- (8.8232, 11.9197, 7.9344) [0.6742, 0.9108, 0.6063]\n",
       "  PeriodicSite: Te2- (4.7196, 1.6713, 2.1132) [0.3606, 0.1277, 0.1615]\n",
       "  PeriodicSite: Te2- (4.9108, 1.4912, 7.7656) [0.3753, 0.1139, 0.5934]\n",
       "  PeriodicSite: Te2- (5.3145, 7.9556, 1.4580) [0.4061, 0.6079, 0.1114]\n",
       "  PeriodicSite: Te2- (4.9771, 8.4099, 8.3701) [0.3803, 0.6426, 0.6396]\n",
       "  PeriodicSite: Te2- (11.7093, 1.8306, 1.2709) [0.8947, 0.1399, 0.0971]\n",
       "  PeriodicSite: Te2- (11.8438, 1.6705, 7.7841) [0.9050, 0.1276, 0.5948]\n",
       "  PeriodicSite: Te2- (11.7240, 8.1713, 1.3777) [0.8959, 0.6244, 0.1053]\n",
       "  PeriodicSite: Te2- (11.7746, 8.1927, 8.2275) [0.8997, 0.6260, 0.6287]\n",
       "  PeriodicSite: Te2- (5.1086, 4.9076, 4.8338) [0.3904, 0.3750, 0.3694]\n",
       "  PeriodicSite: Te2- (5.0266, 4.9282, 11.3881) [0.3841, 0.3766, 0.8702]\n",
       "  PeriodicSite: Te2- (4.9662, 11.5871, 4.8092) [0.3795, 0.8854, 0.3675]\n",
       "  PeriodicSite: Te2- (5.1264, 11.1806, 11.4959) [0.3917, 0.8543, 0.8784]\n",
       "  PeriodicSite: Te2- (11.5396, 4.9907, 5.2762) [0.8818, 0.3814, 0.4032]\n",
       "  PeriodicSite: Te2- (11.5086, 5.1651, 11.4601) [0.8794, 0.3947, 0.8757]\n",
       "  PeriodicSite: Te2- (11.5595, 11.8954, 4.7469) [0.8833, 0.9090, 0.3627]\n",
       "  PeriodicSite: Te2- (11.0723, 11.6486, 11.3780) [0.8461, 0.8901, 0.8694],\n",
       "  'Bond_Distortion_30.0%': Structure Summary\n",
       "  Lattice\n",
       "      abc : 13.086768 13.086768 13.086768\n",
       "   angles : 90.0 90.0 90.0\n",
       "   volume : 2241.2856479961474\n",
       "        A : 13.086768 0.0 0.0\n",
       "        B : 0.0 13.086768 0.0\n",
       "        C : 0.0 0.0 13.086768\n",
       "      pbc : True True True\n",
       "  PeriodicSite: Cd2+ (0.2053, 0.2205, 6.5613) [0.0157, 0.0168, 0.5014]\n",
       "  PeriodicSite: Cd2+ (0.3553, 6.4875, 0.1312) [0.0272, 0.4957, 0.0100]\n",
       "  PeriodicSite: Cd2+ (-0.0190, 6.5182, 6.2570) [-0.0014, 0.4981, 0.4781]\n",
       "  PeriodicSite: Cd2+ (6.1797, 0.2624, -0.2391) [0.4722, 0.0201, -0.0183]\n",
       "  PeriodicSite: Cd2+ (6.3937, -0.0705, 6.3048) [0.4886, -0.0054, 0.4818]\n",
       "  PeriodicSite: Cd2+ (6.6170, 6.7872, -0.3530) [0.5056, 0.5186, -0.0270]\n",
       "  PeriodicSite: Cd2+ (6.2839, 6.8800, 6.8680) [0.4802, 0.5257, 0.5248]\n",
       "  PeriodicSite: Cd2+ (-0.4558, 3.5713, 3.1244) [-0.0348, 0.2729, 0.2387]\n",
       "  PeriodicSite: Cd2+ (-0.1384, 3.4883, 9.4875) [-0.0106, 0.2666, 0.7250]\n",
       "  PeriodicSite: Cd2+ (-0.0991, 9.2566, 3.3244) [-0.0076, 0.7073, 0.2540]\n",
       "  PeriodicSite: Cd2+ (-0.0666, 9.6259, 10.0500) [-0.0051, 0.7355, 0.7680]\n",
       "  PeriodicSite: Cd2+ (6.5510, 3.6912, 3.0563) [0.5006, 0.2821, 0.2335]\n",
       "  PeriodicSite: Cd2+ (6.7587, 3.3272, 9.5832) [0.5165, 0.2542, 0.7323]\n",
       "  PeriodicSite: Cd2+ (6.6361, 9.8497, 3.7883) [0.5071, 0.7526, 0.2895]\n",
       "  PeriodicSite: Cd2+ (6.6083, 10.0528, 9.9354) [0.5050, 0.7682, 0.7592]\n",
       "  PeriodicSite: Cd2+ (3.0289, -0.1828, 3.5477) [0.2314, -0.0140, 0.2711]\n",
       "  PeriodicSite: Cd2+ (3.1099, 0.0703, 9.6602) [0.2376, 0.0054, 0.7382]\n",
       "  PeriodicSite: Cd2+ (3.5575, 6.4425, 3.2086) [0.2718, 0.4923, 0.2452]\n",
       "  PeriodicSite: Cd2+ (3.4326, 6.7705, 9.5013) [0.2623, 0.5174, 0.7260]\n",
       "  PeriodicSite: Cd2+ (9.7117, -0.4834, 3.4040) [0.7421, -0.0369, 0.2601]\n",
       "  PeriodicSite: Cd2+ (10.0022, 0.1080, 9.6517) [0.7643, 0.0083, 0.7375]\n",
       "  PeriodicSite: Cd2+ (10.1714, 6.6242, 3.1655) [0.7772, 0.5062, 0.2419]\n",
       "  PeriodicSite: Cd2+ (9.3085, 6.4018, 9.7534) [0.7113, 0.4892, 0.7453]\n",
       "  PeriodicSite: Cd2+ (3.3995, 3.4742, -0.1808) [0.2598, 0.2655, -0.0138]\n",
       "  PeriodicSite: Cd2+ (3.7388, 3.4910, 6.3136) [0.2857, 0.2668, 0.4824]\n",
       "  PeriodicSite: Cd2+ (3.3415, 9.5849, -0.3544) [0.2553, 0.7324, -0.0271]\n",
       "  PeriodicSite: Cd2+ (3.7662, 9.4368, 6.4918) [0.2878, 0.7211, 0.4961]\n",
       "  PeriodicSite: Cd2+ (10.1502, 3.5292, -0.1238) [0.7756, 0.2697, -0.0095]\n",
       "  PeriodicSite: Cd2+ (10.0436, 3.1852, 6.9917) [0.7675, 0.2434, 0.5343]\n",
       "  PeriodicSite: Cd2+ (10.0242, 9.9364, 0.1105) [0.7660, 0.7593, 0.0084]\n",
       "  PeriodicSite: Cd2+ (9.7511, 9.8455, 6.4614) [0.7451, 0.7523, 0.4937]\n",
       "  PeriodicSite: Te2- (1.5541, 1.9734, 4.9234) [0.1188, 0.1508, 0.3762]\n",
       "  PeriodicSite: Te2- (2.1266, 2.1266, 10.9601) [0.1625, 0.1625, 0.8375]\n",
       "  PeriodicSite: Te2- (1.7175, 8.2820, 5.4998) [0.1312, 0.6329, 0.4203]\n",
       "  PeriodicSite: Te2- (1.4773, 8.0915, 11.0885) [0.1129, 0.6183, 0.8473]\n",
       "  PeriodicSite: Te2- (8.2653, 1.6044, 4.8425) [0.6316, 0.1226, 0.3700]\n",
       "  PeriodicSite: Te2- (8.2235, 1.4452, 11.0741) [0.6284, 0.1104, 0.8462]\n",
       "  PeriodicSite: Te2- (8.1547, 8.4171, 4.9777) [0.6231, 0.6432, 0.3804]\n",
       "  PeriodicSite: Te2- (8.0257, 8.4326, 11.6793) [0.6133, 0.6444, 0.8925]\n",
       "  PeriodicSite: Te2- (1.4910, 4.8183, 1.9866) [0.1139, 0.3682, 0.1518]\n",
       "  PeriodicSite: Te2- (1.6639, 4.7990, 7.8885) [0.1271, 0.3667, 0.6028]\n",
       "  PeriodicSite: Te2- (2.1266, 10.9601, 2.1266) [0.1625, 0.8375, 0.1625]\n",
       "  PeriodicSite: Te2- (1.6669, 11.6722, 8.4278) [0.1274, 0.8919, 0.6440]\n",
       "  PeriodicSite: Te2- (8.0377, 4.8619, 1.4752) [0.6142, 0.3715, 0.1127]\n",
       "  PeriodicSite: Te2- (8.0790, 5.0655, 7.4358) [0.6173, 0.3871, 0.5682]\n",
       "  PeriodicSite: Te2- (7.9597, 11.5680, 1.4783) [0.6082, 0.8839, 0.1130]\n",
       "  PeriodicSite: Te2- (8.8232, 11.9197, 7.9344) [0.6742, 0.9108, 0.6063]\n",
       "  PeriodicSite: Te2- (4.7196, 1.6713, 2.1132) [0.3606, 0.1277, 0.1615]\n",
       "  PeriodicSite: Te2- (4.9108, 1.4912, 7.7656) [0.3753, 0.1139, 0.5934]\n",
       "  PeriodicSite: Te2- (5.3145, 7.9556, 1.4580) [0.4061, 0.6079, 0.1114]\n",
       "  PeriodicSite: Te2- (4.9771, 8.4099, 8.3701) [0.3803, 0.6426, 0.6396]\n",
       "  PeriodicSite: Te2- (11.7093, 1.8306, 1.2709) [0.8947, 0.1399, 0.0971]\n",
       "  PeriodicSite: Te2- (11.8438, 1.6705, 7.7841) [0.9050, 0.1276, 0.5948]\n",
       "  PeriodicSite: Te2- (11.7240, 8.1713, 1.3777) [0.8959, 0.6244, 0.1053]\n",
       "  PeriodicSite: Te2- (11.7746, 8.1927, 8.2275) [0.8997, 0.6260, 0.6287]\n",
       "  PeriodicSite: Te2- (5.1086, 4.9076, 4.8338) [0.3904, 0.3750, 0.3694]\n",
       "  PeriodicSite: Te2- (5.0266, 4.9282, 11.3881) [0.3841, 0.3766, 0.8702]\n",
       "  PeriodicSite: Te2- (4.9662, 11.5871, 4.8092) [0.3795, 0.8854, 0.3675]\n",
       "  PeriodicSite: Te2- (5.1264, 11.1806, 11.4959) [0.3917, 0.8543, 0.8784]\n",
       "  PeriodicSite: Te2- (11.5396, 4.9907, 5.2762) [0.8818, 0.3814, 0.4032]\n",
       "  PeriodicSite: Te2- (11.5086, 5.1651, 11.4601) [0.8794, 0.3947, 0.8757]\n",
       "  PeriodicSite: Te2- (11.5595, 11.8954, 4.7469) [0.8833, 0.9090, 0.3627]\n",
       "  PeriodicSite: Te2- (11.0723, 11.6486, 11.3780) [0.8461, 0.8901, 0.8694],\n",
       "  'Bond_Distortion_40.0%': Structure Summary\n",
       "  Lattice\n",
       "      abc : 13.086768 13.086768 13.086768\n",
       "   angles : 90.0 90.0 90.0\n",
       "   volume : 2241.2856479961474\n",
       "        A : 13.086768 0.0 0.0\n",
       "        B : 0.0 13.086768 0.0\n",
       "        C : 0.0 0.0 13.086768\n",
       "      pbc : True True True\n",
       "  PeriodicSite: Cd2+ (0.2053, 0.2205, 6.5613) [0.0157, 0.0168, 0.5014]\n",
       "  PeriodicSite: Cd2+ (0.3553, 6.4875, 0.1312) [0.0272, 0.4957, 0.0100]\n",
       "  PeriodicSite: Cd2+ (-0.0190, 6.5182, 6.2570) [-0.0014, 0.4981, 0.4781]\n",
       "  PeriodicSite: Cd2+ (6.1797, 0.2624, -0.2391) [0.4722, 0.0201, -0.0183]\n",
       "  PeriodicSite: Cd2+ (6.3937, -0.0705, 6.3048) [0.4886, -0.0054, 0.4818]\n",
       "  PeriodicSite: Cd2+ (6.6170, 6.7872, -0.3530) [0.5056, 0.5186, -0.0270]\n",
       "  PeriodicSite: Cd2+ (6.2839, 6.8800, 6.8680) [0.4802, 0.5257, 0.5248]\n",
       "  PeriodicSite: Cd2+ (-0.4558, 3.5713, 3.1244) [-0.0348, 0.2729, 0.2387]\n",
       "  PeriodicSite: Cd2+ (-0.1384, 3.4883, 9.4875) [-0.0106, 0.2666, 0.7250]\n",
       "  PeriodicSite: Cd2+ (-0.0991, 9.2566, 3.3244) [-0.0076, 0.7073, 0.2540]\n",
       "  PeriodicSite: Cd2+ (-0.0666, 9.6259, 10.0500) [-0.0051, 0.7355, 0.7680]\n",
       "  PeriodicSite: Cd2+ (6.5510, 3.6912, 3.0563) [0.5006, 0.2821, 0.2335]\n",
       "  PeriodicSite: Cd2+ (6.7587, 3.3272, 9.5832) [0.5165, 0.2542, 0.7323]\n",
       "  PeriodicSite: Cd2+ (6.6361, 9.8497, 3.7883) [0.5071, 0.7526, 0.2895]\n",
       "  PeriodicSite: Cd2+ (6.6083, 10.0528, 9.9354) [0.5050, 0.7682, 0.7592]\n",
       "  PeriodicSite: Cd2+ (3.0289, -0.1828, 3.5477) [0.2314, -0.0140, 0.2711]\n",
       "  PeriodicSite: Cd2+ (3.1099, 0.0703, 9.6602) [0.2376, 0.0054, 0.7382]\n",
       "  PeriodicSite: Cd2+ (3.5575, 6.4425, 3.2086) [0.2718, 0.4923, 0.2452]\n",
       "  PeriodicSite: Cd2+ (3.4326, 6.7705, 9.5013) [0.2623, 0.5174, 0.7260]\n",
       "  PeriodicSite: Cd2+ (9.7117, -0.4834, 3.4040) [0.7421, -0.0369, 0.2601]\n",
       "  PeriodicSite: Cd2+ (10.0022, 0.1080, 9.6517) [0.7643, 0.0083, 0.7375]\n",
       "  PeriodicSite: Cd2+ (10.1714, 6.6242, 3.1655) [0.7772, 0.5062, 0.2419]\n",
       "  PeriodicSite: Cd2+ (9.3085, 6.4018, 9.7534) [0.7113, 0.4892, 0.7453]\n",
       "  PeriodicSite: Cd2+ (3.3995, 3.4742, -0.1808) [0.2598, 0.2655, -0.0138]\n",
       "  PeriodicSite: Cd2+ (3.7388, 3.4910, 6.3136) [0.2857, 0.2668, 0.4824]\n",
       "  PeriodicSite: Cd2+ (3.3415, 9.5849, -0.3544) [0.2553, 0.7324, -0.0271]\n",
       "  PeriodicSite: Cd2+ (3.7662, 9.4368, 6.4918) [0.2878, 0.7211, 0.4961]\n",
       "  PeriodicSite: Cd2+ (10.1502, 3.5292, -0.1238) [0.7756, 0.2697, -0.0095]\n",
       "  PeriodicSite: Cd2+ (10.0436, 3.1852, 6.9917) [0.7675, 0.2434, 0.5343]\n",
       "  PeriodicSite: Cd2+ (10.0242, 9.9364, 0.1105) [0.7660, 0.7593, 0.0084]\n",
       "  PeriodicSite: Cd2+ (9.7511, 9.8455, 6.4614) [0.7451, 0.7523, 0.4937]\n",
       "  PeriodicSite: Te2- (1.5541, 1.9734, 4.9234) [0.1188, 0.1508, 0.3762]\n",
       "  PeriodicSite: Te2- (2.2902, 2.2902, 10.7966) [0.1750, 0.1750, 0.8250]\n",
       "  PeriodicSite: Te2- (1.7175, 8.2820, 5.4998) [0.1312, 0.6329, 0.4203]\n",
       "  PeriodicSite: Te2- (1.4773, 8.0915, 11.0885) [0.1129, 0.6183, 0.8473]\n",
       "  PeriodicSite: Te2- (8.2653, 1.6044, 4.8425) [0.6316, 0.1226, 0.3700]\n",
       "  PeriodicSite: Te2- (8.2235, 1.4452, 11.0741) [0.6284, 0.1104, 0.8462]\n",
       "  PeriodicSite: Te2- (8.1547, 8.4171, 4.9777) [0.6231, 0.6432, 0.3804]\n",
       "  PeriodicSite: Te2- (8.0257, 8.4326, 11.6793) [0.6133, 0.6444, 0.8925]\n",
       "  PeriodicSite: Te2- (1.4910, 4.8183, 1.9866) [0.1139, 0.3682, 0.1518]\n",
       "  PeriodicSite: Te2- (1.6639, 4.7990, 7.8885) [0.1271, 0.3667, 0.6028]\n",
       "  PeriodicSite: Te2- (2.2902, 10.7966, 2.2902) [0.1750, 0.8250, 0.1750]\n",
       "  PeriodicSite: Te2- (1.6669, 11.6722, 8.4278) [0.1274, 0.8919, 0.6440]\n",
       "  PeriodicSite: Te2- (8.0377, 4.8619, 1.4752) [0.6142, 0.3715, 0.1127]\n",
       "  PeriodicSite: Te2- (8.0790, 5.0655, 7.4358) [0.6173, 0.3871, 0.5682]\n",
       "  PeriodicSite: Te2- (7.9597, 11.5680, 1.4783) [0.6082, 0.8839, 0.1130]\n",
       "  PeriodicSite: Te2- (8.8232, 11.9197, 7.9344) [0.6742, 0.9108, 0.6063]\n",
       "  PeriodicSite: Te2- (4.7196, 1.6713, 2.1132) [0.3606, 0.1277, 0.1615]\n",
       "  PeriodicSite: Te2- (4.9108, 1.4912, 7.7656) [0.3753, 0.1139, 0.5934]\n",
       "  PeriodicSite: Te2- (5.3145, 7.9556, 1.4580) [0.4061, 0.6079, 0.1114]\n",
       "  PeriodicSite: Te2- (4.9771, 8.4099, 8.3701) [0.3803, 0.6426, 0.6396]\n",
       "  PeriodicSite: Te2- (11.7093, 1.8306, 1.2709) [0.8947, 0.1399, 0.0971]\n",
       "  PeriodicSite: Te2- (11.8438, 1.6705, 7.7841) [0.9050, 0.1276, 0.5948]\n",
       "  PeriodicSite: Te2- (11.7240, 8.1713, 1.3777) [0.8959, 0.6244, 0.1053]\n",
       "  PeriodicSite: Te2- (11.7746, 8.1927, 8.2275) [0.8997, 0.6260, 0.6287]\n",
       "  PeriodicSite: Te2- (5.1086, 4.9076, 4.8338) [0.3904, 0.3750, 0.3694]\n",
       "  PeriodicSite: Te2- (5.0266, 4.9282, 11.3881) [0.3841, 0.3766, 0.8702]\n",
       "  PeriodicSite: Te2- (4.9662, 11.5871, 4.8092) [0.3795, 0.8854, 0.3675]\n",
       "  PeriodicSite: Te2- (5.1264, 11.1806, 11.4959) [0.3917, 0.8543, 0.8784]\n",
       "  PeriodicSite: Te2- (11.5396, 4.9907, 5.2762) [0.8818, 0.3814, 0.4032]\n",
       "  PeriodicSite: Te2- (11.5086, 5.1651, 11.4601) [0.8794, 0.3947, 0.8757]\n",
       "  PeriodicSite: Te2- (11.5595, 11.8954, 4.7469) [0.8833, 0.9090, 0.3627]\n",
       "  PeriodicSite: Te2- (11.0723, 11.6486, 11.3780) [0.8461, 0.8901, 0.8694],\n",
       "  'Bond_Distortion_50.0%': Structure Summary\n",
       "  Lattice\n",
       "      abc : 13.086768 13.086768 13.086768\n",
       "   angles : 90.0 90.0 90.0\n",
       "   volume : 2241.2856479961474\n",
       "        A : 13.086768 0.0 0.0\n",
       "        B : 0.0 13.086768 0.0\n",
       "        C : 0.0 0.0 13.086768\n",
       "      pbc : True True True\n",
       "  PeriodicSite: Cd2+ (0.2053, 0.2205, 6.5613) [0.0157, 0.0168, 0.5014]\n",
       "  PeriodicSite: Cd2+ (0.3553, 6.4875, 0.1312) [0.0272, 0.4957, 0.0100]\n",
       "  PeriodicSite: Cd2+ (-0.0190, 6.5182, 6.2570) [-0.0014, 0.4981, 0.4781]\n",
       "  PeriodicSite: Cd2+ (6.1797, 0.2624, -0.2391) [0.4722, 0.0201, -0.0183]\n",
       "  PeriodicSite: Cd2+ (6.3937, -0.0705, 6.3048) [0.4886, -0.0054, 0.4818]\n",
       "  PeriodicSite: Cd2+ (6.6170, 6.7872, -0.3530) [0.5056, 0.5186, -0.0270]\n",
       "  PeriodicSite: Cd2+ (6.2839, 6.8800, 6.8680) [0.4802, 0.5257, 0.5248]\n",
       "  PeriodicSite: Cd2+ (-0.4558, 3.5713, 3.1244) [-0.0348, 0.2729, 0.2387]\n",
       "  PeriodicSite: Cd2+ (-0.1384, 3.4883, 9.4875) [-0.0106, 0.2666, 0.7250]\n",
       "  PeriodicSite: Cd2+ (-0.0991, 9.2566, 3.3244) [-0.0076, 0.7073, 0.2540]\n",
       "  PeriodicSite: Cd2+ (-0.0666, 9.6259, 10.0500) [-0.0051, 0.7355, 0.7680]\n",
       "  PeriodicSite: Cd2+ (6.5510, 3.6912, 3.0563) [0.5006, 0.2821, 0.2335]\n",
       "  PeriodicSite: Cd2+ (6.7587, 3.3272, 9.5832) [0.5165, 0.2542, 0.7323]\n",
       "  PeriodicSite: Cd2+ (6.6361, 9.8497, 3.7883) [0.5071, 0.7526, 0.2895]\n",
       "  PeriodicSite: Cd2+ (6.6083, 10.0528, 9.9354) [0.5050, 0.7682, 0.7592]\n",
       "  PeriodicSite: Cd2+ (3.0289, -0.1828, 3.5477) [0.2314, -0.0140, 0.2711]\n",
       "  PeriodicSite: Cd2+ (3.1099, 0.0703, 9.6602) [0.2376, 0.0054, 0.7382]\n",
       "  PeriodicSite: Cd2+ (3.5575, 6.4425, 3.2086) [0.2718, 0.4923, 0.2452]\n",
       "  PeriodicSite: Cd2+ (3.4326, 6.7705, 9.5013) [0.2623, 0.5174, 0.7260]\n",
       "  PeriodicSite: Cd2+ (9.7117, -0.4834, 3.4040) [0.7421, -0.0369, 0.2601]\n",
       "  PeriodicSite: Cd2+ (10.0022, 0.1080, 9.6517) [0.7643, 0.0083, 0.7375]\n",
       "  PeriodicSite: Cd2+ (10.1714, 6.6242, 3.1655) [0.7772, 0.5062, 0.2419]\n",
       "  PeriodicSite: Cd2+ (9.3085, 6.4018, 9.7534) [0.7113, 0.4892, 0.7453]\n",
       "  PeriodicSite: Cd2+ (3.3995, 3.4742, -0.1808) [0.2598, 0.2655, -0.0138]\n",
       "  PeriodicSite: Cd2+ (3.7388, 3.4910, 6.3136) [0.2857, 0.2668, 0.4824]\n",
       "  PeriodicSite: Cd2+ (3.3415, 9.5849, -0.3544) [0.2553, 0.7324, -0.0271]\n",
       "  PeriodicSite: Cd2+ (3.7662, 9.4368, 6.4918) [0.2878, 0.7211, 0.4961]\n",
       "  PeriodicSite: Cd2+ (10.1502, 3.5292, -0.1238) [0.7756, 0.2697, -0.0095]\n",
       "  PeriodicSite: Cd2+ (10.0436, 3.1852, 6.9917) [0.7675, 0.2434, 0.5343]\n",
       "  PeriodicSite: Cd2+ (10.0242, 9.9364, 0.1105) [0.7660, 0.7593, 0.0084]\n",
       "  PeriodicSite: Cd2+ (9.7511, 9.8455, 6.4614) [0.7451, 0.7523, 0.4937]\n",
       "  PeriodicSite: Te2- (1.5541, 1.9734, 4.9234) [0.1188, 0.1508, 0.3762]\n",
       "  PeriodicSite: Te2- (2.4538, 2.4538, 10.6330) [0.1875, 0.1875, 0.8125]\n",
       "  PeriodicSite: Te2- (1.7175, 8.2820, 5.4998) [0.1312, 0.6329, 0.4203]\n",
       "  PeriodicSite: Te2- (1.4773, 8.0915, 11.0885) [0.1129, 0.6183, 0.8473]\n",
       "  PeriodicSite: Te2- (8.2653, 1.6044, 4.8425) [0.6316, 0.1226, 0.3700]\n",
       "  PeriodicSite: Te2- (8.2235, 1.4452, 11.0741) [0.6284, 0.1104, 0.8462]\n",
       "  PeriodicSite: Te2- (8.1547, 8.4171, 4.9777) [0.6231, 0.6432, 0.3804]\n",
       "  PeriodicSite: Te2- (8.0257, 8.4326, 11.6793) [0.6133, 0.6444, 0.8925]\n",
       "  PeriodicSite: Te2- (1.4910, 4.8183, 1.9866) [0.1139, 0.3682, 0.1518]\n",
       "  PeriodicSite: Te2- (1.6639, 4.7990, 7.8885) [0.1271, 0.3667, 0.6028]\n",
       "  PeriodicSite: Te2- (2.4538, 10.6330, 2.4538) [0.1875, 0.8125, 0.1875]\n",
       "  PeriodicSite: Te2- (1.6669, 11.6722, 8.4278) [0.1274, 0.8919, 0.6440]\n",
       "  PeriodicSite: Te2- (8.0377, 4.8619, 1.4752) [0.6142, 0.3715, 0.1127]\n",
       "  PeriodicSite: Te2- (8.0790, 5.0655, 7.4358) [0.6173, 0.3871, 0.5682]\n",
       "  PeriodicSite: Te2- (7.9597, 11.5680, 1.4783) [0.6082, 0.8839, 0.1130]\n",
       "  PeriodicSite: Te2- (8.8232, 11.9197, 7.9344) [0.6742, 0.9108, 0.6063]\n",
       "  PeriodicSite: Te2- (4.7196, 1.6713, 2.1132) [0.3606, 0.1277, 0.1615]\n",
       "  PeriodicSite: Te2- (4.9108, 1.4912, 7.7656) [0.3753, 0.1139, 0.5934]\n",
       "  PeriodicSite: Te2- (5.3145, 7.9556, 1.4580) [0.4061, 0.6079, 0.1114]\n",
       "  PeriodicSite: Te2- (4.9771, 8.4099, 8.3701) [0.3803, 0.6426, 0.6396]\n",
       "  PeriodicSite: Te2- (11.7093, 1.8306, 1.2709) [0.8947, 0.1399, 0.0971]\n",
       "  PeriodicSite: Te2- (11.8438, 1.6705, 7.7841) [0.9050, 0.1276, 0.5948]\n",
       "  PeriodicSite: Te2- (11.7240, 8.1713, 1.3777) [0.8959, 0.6244, 0.1053]\n",
       "  PeriodicSite: Te2- (11.7746, 8.1927, 8.2275) [0.8997, 0.6260, 0.6287]\n",
       "  PeriodicSite: Te2- (5.1086, 4.9076, 4.8338) [0.3904, 0.3750, 0.3694]\n",
       "  PeriodicSite: Te2- (5.0266, 4.9282, 11.3881) [0.3841, 0.3766, 0.8702]\n",
       "  PeriodicSite: Te2- (4.9662, 11.5871, 4.8092) [0.3795, 0.8854, 0.3675]\n",
       "  PeriodicSite: Te2- (5.1264, 11.1806, 11.4959) [0.3917, 0.8543, 0.8784]\n",
       "  PeriodicSite: Te2- (11.5396, 4.9907, 5.2762) [0.8818, 0.3814, 0.4032]\n",
       "  PeriodicSite: Te2- (11.5086, 5.1651, 11.4601) [0.8794, 0.3947, 0.8757]\n",
       "  PeriodicSite: Te2- (11.5595, 11.8954, 4.7469) [0.8833, 0.9090, 0.3627]\n",
       "  PeriodicSite: Te2- (11.0723, 11.6486, 11.3780) [0.8461, 0.8901, 0.8694],\n",
       "  'Bond_Distortion_60.0%': Structure Summary\n",
       "  Lattice\n",
       "      abc : 13.086768 13.086768 13.086768\n",
       "   angles : 90.0 90.0 90.0\n",
       "   volume : 2241.2856479961474\n",
       "        A : 13.086768 0.0 0.0\n",
       "        B : 0.0 13.086768 0.0\n",
       "        C : 0.0 0.0 13.086768\n",
       "      pbc : True True True\n",
       "  PeriodicSite: Cd2+ (0.2053, 0.2205, 6.5613) [0.0157, 0.0168, 0.5014]\n",
       "  PeriodicSite: Cd2+ (0.3553, 6.4875, 0.1312) [0.0272, 0.4957, 0.0100]\n",
       "  PeriodicSite: Cd2+ (-0.0190, 6.5182, 6.2570) [-0.0014, 0.4981, 0.4781]\n",
       "  PeriodicSite: Cd2+ (6.1797, 0.2624, -0.2391) [0.4722, 0.0201, -0.0183]\n",
       "  PeriodicSite: Cd2+ (6.3937, -0.0705, 6.3048) [0.4886, -0.0054, 0.4818]\n",
       "  PeriodicSite: Cd2+ (6.6170, 6.7872, -0.3530) [0.5056, 0.5186, -0.0270]\n",
       "  PeriodicSite: Cd2+ (6.2839, 6.8800, 6.8680) [0.4802, 0.5257, 0.5248]\n",
       "  PeriodicSite: Cd2+ (-0.4558, 3.5713, 3.1244) [-0.0348, 0.2729, 0.2387]\n",
       "  PeriodicSite: Cd2+ (-0.1384, 3.4883, 9.4875) [-0.0106, 0.2666, 0.7250]\n",
       "  PeriodicSite: Cd2+ (-0.0991, 9.2566, 3.3244) [-0.0076, 0.7073, 0.2540]\n",
       "  PeriodicSite: Cd2+ (-0.0666, 9.6259, 10.0500) [-0.0051, 0.7355, 0.7680]\n",
       "  PeriodicSite: Cd2+ (6.5510, 3.6912, 3.0563) [0.5006, 0.2821, 0.2335]\n",
       "  PeriodicSite: Cd2+ (6.7587, 3.3272, 9.5832) [0.5165, 0.2542, 0.7323]\n",
       "  PeriodicSite: Cd2+ (6.6361, 9.8497, 3.7883) [0.5071, 0.7526, 0.2895]\n",
       "  PeriodicSite: Cd2+ (6.6083, 10.0528, 9.9354) [0.5050, 0.7682, 0.7592]\n",
       "  PeriodicSite: Cd2+ (3.0289, -0.1828, 3.5477) [0.2314, -0.0140, 0.2711]\n",
       "  PeriodicSite: Cd2+ (3.1099, 0.0703, 9.6602) [0.2376, 0.0054, 0.7382]\n",
       "  PeriodicSite: Cd2+ (3.5575, 6.4425, 3.2086) [0.2718, 0.4923, 0.2452]\n",
       "  PeriodicSite: Cd2+ (3.4326, 6.7705, 9.5013) [0.2623, 0.5174, 0.7260]\n",
       "  PeriodicSite: Cd2+ (9.7117, -0.4834, 3.4040) [0.7421, -0.0369, 0.2601]\n",
       "  PeriodicSite: Cd2+ (10.0022, 0.1080, 9.6517) [0.7643, 0.0083, 0.7375]\n",
       "  PeriodicSite: Cd2+ (10.1714, 6.6242, 3.1655) [0.7772, 0.5062, 0.2419]\n",
       "  PeriodicSite: Cd2+ (9.3085, 6.4018, 9.7534) [0.7113, 0.4892, 0.7453]\n",
       "  PeriodicSite: Cd2+ (3.3995, 3.4742, -0.1808) [0.2598, 0.2655, -0.0138]\n",
       "  PeriodicSite: Cd2+ (3.7388, 3.4910, 6.3136) [0.2857, 0.2668, 0.4824]\n",
       "  PeriodicSite: Cd2+ (3.3415, 9.5849, -0.3544) [0.2553, 0.7324, -0.0271]\n",
       "  PeriodicSite: Cd2+ (3.7662, 9.4368, 6.4918) [0.2878, 0.7211, 0.4961]\n",
       "  PeriodicSite: Cd2+ (10.1502, 3.5292, -0.1238) [0.7756, 0.2697, -0.0095]\n",
       "  PeriodicSite: Cd2+ (10.0436, 3.1852, 6.9917) [0.7675, 0.2434, 0.5343]\n",
       "  PeriodicSite: Cd2+ (10.0242, 9.9364, 0.1105) [0.7660, 0.7593, 0.0084]\n",
       "  PeriodicSite: Cd2+ (9.7511, 9.8455, 6.4614) [0.7451, 0.7523, 0.4937]\n",
       "  PeriodicSite: Te2- (1.5541, 1.9734, 4.9234) [0.1188, 0.1508, 0.3762]\n",
       "  PeriodicSite: Te2- (2.6174, 2.6174, 10.4694) [0.2000, 0.2000, 0.8000]\n",
       "  PeriodicSite: Te2- (1.7175, 8.2820, 5.4998) [0.1312, 0.6329, 0.4203]\n",
       "  PeriodicSite: Te2- (1.4773, 8.0915, 11.0885) [0.1129, 0.6183, 0.8473]\n",
       "  PeriodicSite: Te2- (8.2653, 1.6044, 4.8425) [0.6316, 0.1226, 0.3700]\n",
       "  PeriodicSite: Te2- (8.2235, 1.4452, 11.0741) [0.6284, 0.1104, 0.8462]\n",
       "  PeriodicSite: Te2- (8.1547, 8.4171, 4.9777) [0.6231, 0.6432, 0.3804]\n",
       "  PeriodicSite: Te2- (8.0257, 8.4326, 11.6793) [0.6133, 0.6444, 0.8925]\n",
       "  PeriodicSite: Te2- (1.4910, 4.8183, 1.9866) [0.1139, 0.3682, 0.1518]\n",
       "  PeriodicSite: Te2- (1.6639, 4.7990, 7.8885) [0.1271, 0.3667, 0.6028]\n",
       "  PeriodicSite: Te2- (2.6174, 10.4694, 2.6174) [0.2000, 0.8000, 0.2000]\n",
       "  PeriodicSite: Te2- (1.6669, 11.6722, 8.4278) [0.1274, 0.8919, 0.6440]\n",
       "  PeriodicSite: Te2- (8.0377, 4.8619, 1.4752) [0.6142, 0.3715, 0.1127]\n",
       "  PeriodicSite: Te2- (8.0790, 5.0655, 7.4358) [0.6173, 0.3871, 0.5682]\n",
       "  PeriodicSite: Te2- (7.9597, 11.5680, 1.4783) [0.6082, 0.8839, 0.1130]\n",
       "  PeriodicSite: Te2- (8.8232, 11.9197, 7.9344) [0.6742, 0.9108, 0.6063]\n",
       "  PeriodicSite: Te2- (4.7196, 1.6713, 2.1132) [0.3606, 0.1277, 0.1615]\n",
       "  PeriodicSite: Te2- (4.9108, 1.4912, 7.7656) [0.3753, 0.1139, 0.5934]\n",
       "  PeriodicSite: Te2- (5.3145, 7.9556, 1.4580) [0.4061, 0.6079, 0.1114]\n",
       "  PeriodicSite: Te2- (4.9771, 8.4099, 8.3701) [0.3803, 0.6426, 0.6396]\n",
       "  PeriodicSite: Te2- (11.7093, 1.8306, 1.2709) [0.8947, 0.1399, 0.0971]\n",
       "  PeriodicSite: Te2- (11.8438, 1.6705, 7.7841) [0.9050, 0.1276, 0.5948]\n",
       "  PeriodicSite: Te2- (11.7240, 8.1713, 1.3777) [0.8959, 0.6244, 0.1053]\n",
       "  PeriodicSite: Te2- (11.7746, 8.1927, 8.2275) [0.8997, 0.6260, 0.6287]\n",
       "  PeriodicSite: Te2- (5.1086, 4.9076, 4.8338) [0.3904, 0.3750, 0.3694]\n",
       "  PeriodicSite: Te2- (5.0266, 4.9282, 11.3881) [0.3841, 0.3766, 0.8702]\n",
       "  PeriodicSite: Te2- (4.9662, 11.5871, 4.8092) [0.3795, 0.8854, 0.3675]\n",
       "  PeriodicSite: Te2- (5.1264, 11.1806, 11.4959) [0.3917, 0.8543, 0.8784]\n",
       "  PeriodicSite: Te2- (11.5396, 4.9907, 5.2762) [0.8818, 0.3814, 0.4032]\n",
       "  PeriodicSite: Te2- (11.5086, 5.1651, 11.4601) [0.8794, 0.3947, 0.8757]\n",
       "  PeriodicSite: Te2- (11.5595, 11.8954, 4.7469) [0.8833, 0.9090, 0.3627]\n",
       "  PeriodicSite: Te2- (11.0723, 11.6486, 11.3780) [0.8461, 0.8901, 0.8694]}}"
      ]
     },
     "execution_count": 52,
     "metadata": {},
     "output_type": "execute_result"
    }
   ],
   "source": [
    "# The output dictionary contains information about each defect:\n",
    "print(\"Keys for each defect entry:\", defects_dict[\"v_Cd\"].keys())\n",
    "\n",
    "# As well as the distorted structures for each charge state of all defects\n",
    "# We can access the distorted structures of v_Cd_0 like this:\n",
    "print(\"\\nUndistorted and distorted structures:\")\n",
    "defects_dict[\"v_Cd\"][\"charges\"][0][\"structures\"]"
   ]
  },
  {
   "cell_type": "markdown",
   "id": "2d9cdfb5-2176-415c-8118-0a9737e1c012",
   "metadata": {},
   "source": [
    "_(If you are viewing this on the [SnB Python API tutorial](https://shakenbreak.readthedocs.io/en/latest/ShakeNBreak_Example_Workflow.html) docs page, long output cells like this and printed dictionaries/structures below are scrollable!)_"
   ]
  },
  {
   "cell_type": "markdown",
   "id": "080db851",
   "metadata": {
    "pycharm": {
     "name": "#%% md\n"
    }
   },
   "source": [
    "### 2.2 Generating `VASP` input files for the distorted structures"
   ]
  },
  {
   "cell_type": "markdown",
   "id": "b04e3361",
   "metadata": {
    "pycharm": {
     "name": "#%% md\n"
    }
   },
   "source": [
    "If we want to generate `VASP` input files, we can use the class method `Distortions.write_vasp_files()` (instead of `Distortions.apply_distortions()`)"
   ]
  },
  {
   "cell_type": "code",
   "execution_count": 53,
   "id": "972dac91",
   "metadata": {
    "pycharm": {
     "name": "#%%\n"
    },
    "tags": [
     "output_scroll"
    ]
   },
   "outputs": [
    {
     "name": "stdout",
     "output_type": "stream",
     "text": [
      "Applying ShakeNBreak... Will apply the following bond distortions: ['-0.6', '-0.5', '-0.4', '-0.3', '-0.2', '-0.1', '0.0', '0.1', '0.2', '0.3', '0.4', '0.5', '0.6']. Then, will rattle with a std dev of 0.25 Å \n",
      "\n",
      "\u001b[1m\n",
      "Defect: v_Cd\u001b[0m\n",
      "\u001b[1mNumber of missing electrons in neutral state: 2\u001b[0m\n",
      "\n",
      "Defect v_Cd in charge state: -2. Number of distorted neighbours: 0\n",
      "\n",
      "Defect v_Cd in charge state: -1. Number of distorted neighbours: 1\n",
      "\n",
      "Defect v_Cd in charge state: 0. Number of distorted neighbours: 2\n",
      "There is a previous version of distortion_metadata.json. Will rename old metadata to distortion_metadata_2022-10-19-10-54.json\n",
      "Combining old and new metadata in distortion_metadata.json.\n"
     ]
    },
    {
     "name": "stderr",
     "output_type": "stream",
     "text": [
      "input.py:157: UserWarning: There was a problem when combining old and new metadata files! Will only write new metadata to ./distortion_metadata.json.\n"
     ]
    }
   ],
   "source": [
    "defects_dict, distortion_metadata = Dist.write_vasp_files()"
   ]
  },
  {
   "cell_type": "markdown",
   "id": "771afcb5-1fcd-4a77-99ea-63899513992d",
   "metadata": {
    "pycharm": {
     "name": "#%% md\n"
    }
   },
   "source": [
    "Using the `incar_settings` optional argument for `Distortions.write_vasp_files()` above, we can also specify some custom `INCAR` tags to match our converged `ENCUT` for this system and optimal `NCORE` for the HPC we will run the calculations on. More information on the distortions generated can be obtained by setting `verbose = True`."
   ]
  },
  {
   "cell_type": "markdown",
   "id": "1b7d3191-7565-4581-a092-a7494f46fe1e",
   "metadata": {
    "pycharm": {
     "name": "#%% md\n"
    }
   },
   "source": [
    "Our distorted structures and VASP input files have now been generated in the `v_Cd_X` folders."
   ]
  },
  {
   "cell_type": "markdown",
   "id": "8be9feac-2966-4ea3-bfe9-b2750e2bbc5c",
   "metadata": {
    "pycharm": {
     "name": "#%% md\n"
    }
   },
   "source": [
    "For the recommended default coarse structure-searching `INCAR` settings, either have a look at the `incar.yaml` file in the `SnB_input_files` folder or at the generated files:"
   ]
  },
  {
   "cell_type": "code",
   "execution_count": 54,
   "id": "50d39076-a262-4eac-84df-27ef74def826",
   "metadata": {
    "pycharm": {
     "name": "#%%\n"
    }
   },
   "outputs": [
    {
     "name": "stdout",
     "output_type": "stream",
     "text": [
      "# May want to change NCORE, KPAR, AEXX, ENCUT, NUPDOWN, ISPIN, POTIM = \n",
      "# ShakeNBreak INCAR with coarse settings to maximise speed with sufficient accuracy for qualitative structure searching = \n",
      "# KPAR = # No KPAR, only one kpoint\n",
      "ALGO = Normal\n",
      "EDIFFG = -0.01\n",
      "ENCUT = 300\n",
      "HFSCREEN = 0.2\n",
      "IBRION = 2 # While often slower than '1' (RMM-DIIS), this is more stable and reliable, and vasp_gam relaxations are typically cheap enough to justify it\n",
      "ISIF = 2\n",
      "ISMEAR = 0\n",
      "ISPIN = 2 # Spin polarisation likely for defects\n",
      "ISYM = 0 # Symmetry breaking extremely likely for defects\n",
      "LASPH = True\n",
      "LCHARG = False\n",
      "LHFCALC = True\n",
      "LORBIT = 11\n",
      "LREAL = Auto\n",
      "LWAVE = False\n",
      "NCORE = 12\n",
      "NEDOS = 2000\n",
      "NELM = 100\n",
      "NSW = 300\n",
      "PREC = Accurate\n",
      "PRECFOCK = Fast\n",
      "SIGMA = 0.05\n",
      "NELECT = 564.0\n",
      "NUPDOWN = 0 # But could be 2 if strong spin polarisation or magnetic behaviour present\n",
      "EDIFF = 1e-05 # May need to reduce for tricky relaxations\n",
      "ROPT = 1e-3 1e-3\n"
     ]
    }
   ],
   "source": [
    "!cat ./v_Cd_0/Bond_Distortion_-10.0%/INCAR"
   ]
  },
  {
   "cell_type": "markdown",
   "id": "089f73f1-4d3a-40da-8f99-9ab8346bbe80",
   "metadata": {
    "pycharm": {
     "name": "#%% md\n"
    }
   },
   "source": [
    "Note that the `NELECT` `INCAR` tag (number of electrons) is automatically determined based on the choice of `POTCAR`s. The default in `ShakeNBreak` is to use the [`MPRelaxSet` `POTCAR` choices](https://github.com/materialsproject/pymatgen/blob/master/pymatgen/io/vasp/MPRelaxSet.yaml), but if you're using different ones, make sure to set `potcar_settings` in `apply_shakenbreak()`, so that NELECT is then set accordingly. This requires the `pymatgen` config file `$HOME/.pmgrc.yaml` to be properly set up as detailed on the [GitHub `README`](https://github.com/SMTG-UCL/ShakeNBreak) and [Installation](https://shakenbreak.readthedocs.io/en/latest/Installation.html) docs page."
   ]
  },
  {
   "cell_type": "markdown",
   "id": "e0a515f3-f307-455c-a14c-05768d56c4f7",
   "metadata": {},
   "source": [
    "For generating the input files for other electronic structure codes (`Quantum Espresso`, `FHI-aims`, `CP2K`, `CASTEP`), see the [(Optional) Generate input files for other codes](#other) section at the end of this notebook."
   ]
  },
  {
   "cell_type": "markdown",
   "id": "cbc5f6a1-10f4-43cd-85e2-04624db698f7",
   "metadata": {
    "pycharm": {
     "name": "#%% md\n"
    }
   },
   "source": [
    "<a id='HPCs'></a>"
   ]
  },
  {
   "cell_type": "markdown",
   "id": "00c23d7a-66d6-4c57-a611-37745dcb2c24",
   "metadata": {
    "pycharm": {
     "name": "#%% md\n"
    }
   },
   "source": [
    "## 3. Send to HPCs and run relaxations"
   ]
  },
  {
   "cell_type": "markdown",
   "id": "1a8d2e2f-10e5-4efd-941c-77401b2654d7",
   "metadata": {
    "pycharm": {
     "name": "#%% md\n"
    },
    "tags": []
   },
   "source": [
    "Can use the `snb-run` CLI function to quickly run calculations; see the [Submitting the geometry optimisations](https://shakenbreak.readthedocs.io/en/latest/Generation.html#submitting-the-geometry-optimisations) section of the CLI tutorial for this."
   ]
  },
  {
   "cell_type": "markdown",
   "id": "9512e11c",
   "metadata": {
    "pycharm": {
     "name": "#%% md\n"
    }
   },
   "source": [
    "#### a) For `VASP` users:\n",
    "\n",
    "Then parse the energies obtained by running the `snb-parse` command from the top-level folder containing your defect folders (e.g. `v_Cd_0` etc. (with subfolders: `v_Cd_0/Bond_Distortion_10.0%` etc.)). This will parse the energies and store them in a `v_Cd.yaml` etc file in the defect folders, to allow easy plotting and analysis.\n",
    "\n",
    "It is also recommended to parse the final structures (`CONTCAR`s files if using `VASP`) obtained with each distortion relaxation for further structural analysis, which is done automatically when downloaded to your local folders as below. \n",
    "\n",
    "Copying these data to your local PC can be done quickly from your local folder top-level folder (containing `v_Cd_0` etc) with the following code:\n",
    "\n",
    "```bash\n",
    "for defect in ./*{_,_-}[0-9]/; do cd $defect; scp {remote_machine}:{path to ShakeNBreak folders}/${defect}${defect%?}.yaml .; for distortion in (Bond_Distortion|Unperturbed|Rattled)*/; do scp {remote_machine}:{path to ShakeNBreak folders}/${defect}${distortion}CONTCAR ${distortion}; done; cd ..; done\n",
    "```\n",
    "making sure to change `{remote_machine}` and `{path to ShakeNBreak folders}` to the correct values in your case."
   ]
  },
  {
   "cell_type": "markdown",
   "id": "68ddb005",
   "metadata": {
    "pycharm": {
     "name": "#%% md\n"
    }
   },
   "source": [
    "#### b) If using `CP2K`, `Quantum Espresso`, `CASTEP` or `FHI-aims`:\n",
    "Then parse the energies obtained by running the `snb-parse` command from the top-level folder containing your defect folders (e.g. `v_Cd_0` etc. (with subfolders: `v_Cd_0/Bond_Distortion_10.0%` etc.)) and setting the `--code` option (e.g. `snb-parse --code cp2k`). This will parse the energies and store them in a `v_Cd_0.yaml` etc file in the defect folders, to allow easy plotting and analysis. \n",
    "\n",
    "It is also recommended to parse the final structures obtained with each relaxation for further structural analysis. Depending on the code the structure information is read from:\n",
    "* `CP2K`: restart file\n",
    "* `Quantum Espresso`: output file\n",
    "* `CASTEP`: output file (i.e. `.castep`)\n",
    "* `FHI-aims`: output file"
   ]
  },
  {
   "cell_type": "markdown",
   "id": "175a2b51-0709-45ea-995c-576726901693",
   "metadata": {
    "pycharm": {
     "name": "#%% md\n"
    }
   },
   "source": [
    "**_For demonstration purposes_** in this example notebook, we'll use some (fake) example data:  \n",
    "(Don't do this if you're actually running the calculations and have downloaded the data as instructed above)"
   ]
  },
  {
   "cell_type": "code",
   "execution_count": 64,
   "id": "1ddbe86f-a21d-4bc0-b95d-0a8373258f53",
   "metadata": {
    "pycharm": {
     "name": "#%%\n"
    }
   },
   "outputs": [],
   "source": [
    "!cp -r ../tests/data/example_results/v_Cd* .\n",
    "!cp ../tests/data/example_results/distortion_metadata.json .\n",
    "# may need to change path if you've moved the example notebook elsewhere"
   ]
  },
  {
   "cell_type": "markdown",
   "id": "50554d7c-347b-4062-adfa-ffd46bae549f",
   "metadata": {
    "pycharm": {
     "name": "#%% md\n"
    }
   },
   "source": [
    "<a id='plot'></a>"
   ]
  },
  {
   "cell_type": "markdown",
   "id": "8aaf7d24-907c-48e7-9d6b-247f899e0e30",
   "metadata": {
    "pycharm": {
     "name": "#%% md\n"
    }
   },
   "source": [
    "## 4. Plot energies vs distortion\n",
    "To see if `SnB` found any energy-lowering distortions, we can plot the results using the functions in `shakenbreak.plotting`."
   ]
  },
  {
   "cell_type": "code",
   "execution_count": 65,
   "id": "7398d15b-498a-448a-a3d4-f555d1641ec9",
   "metadata": {
    "pycharm": {
     "name": "#%%\n"
    }
   },
   "outputs": [],
   "source": [
    "from shakenbreak import energy_lowering_distortions, plotting"
   ]
  },
  {
   "cell_type": "code",
   "execution_count": 66,
   "id": "cadb8e69-f8e5-47c1-ae38-60d47c42b17b",
   "metadata": {
    "pycharm": {
     "name": "#%%\n"
    },
    "tags": []
   },
   "outputs": [
    {
     "name": "stdout",
     "output_type": "stream",
     "text": [
      "\n",
      "v_Cd\n",
      "v_Cd_-1: Energy difference between minimum, found with 0.2 bond distortion, and unperturbed: -0.90 eV.\n",
      "Energy lowering distortion found for v_Cd with charge -1. Adding to low_energy_defects dictionary.\n",
      "No energy lowering distortion with energy difference greater than  min_e_diff = 0.05 eV found for v_Cd with charge -2.\n",
      "v_Cd_0: Energy difference between minimum, found with -0.6 bond distortion, and unperturbed: -0.76 eV.\n",
      "Comparing structures to specified ref_structure (Cd31 Te32)...\n",
      "New (according to structure matching) low-energy distorted  structure found for v_Cd_0, adding to low_energy_defects['v_Cd'] list.\n",
      "\n",
      "v_Ti\n",
      "No data parsed for v_Ti_0. This species will be skipped and will not be included in the low_energy_defects charge state lists (and so energy lowering distortions found for other charge states will not be applied for this species).\n",
      "\n",
      "Comparing and pruning defect structures across charge states...\n",
      "Comparing structures to specified ref_structure (Cd31 Te32)...\n"
     ]
    },
    {
     "name": "stderr",
     "output_type": "stream",
     "text": [
      "analysis.py:263: UserWarning: Path ./v_Ti_0/v_Ti_0.yaml does not exist\n"
     ]
    },
    {
     "name": "stdout",
     "output_type": "stream",
     "text": [
      "Comparing structures to specified ref_structure (Cd31 Te32)...\n",
      "Comparing structures to specified ref_structure (Cd31 Te32)...\n",
      "Comparing structures to specified ref_structure (Cd31 Te32)...\n"
     ]
    }
   ],
   "source": [
    "defect_charges_dict = energy_lowering_distortions.read_defects_directories()\n",
    "low_energy_defects = energy_lowering_distortions.get_energy_lowering_distortions(defect_charges_dict)"
   ]
  },
  {
   "cell_type": "markdown",
   "id": "21462bb6-7026-4fa8-a472-14e7b07327b1",
   "metadata": {
    "pycharm": {
     "name": "#%% md\n"
    }
   },
   "source": [
    "These functions give us some info about whether any energy-lowering defect distortions were identified, and we can see the results clearer by plotting:"
   ]
  },
  {
   "cell_type": "code",
   "execution_count": 67,
   "id": "7c1b4b76-3015-43a1-acc6-e3974d92ba83",
   "metadata": {
    "pycharm": {
     "name": "#%%\n"
    }
   },
   "outputs": [
    {
     "name": "stdout",
     "output_type": "stream",
     "text": [
      "Plot saved to v_Cd_-1/v_Cd_-1.svg\n",
      "Plot saved to v_Cd_0/v_Cd_0.svg\n"
     ]
    },
    {
     "name": "stderr",
     "output_type": "stream",
     "text": [
      "plotting.py:1225: UserWarning: Path ./v_Ti_0/v_Ti_0.yaml does not exist. Skipping v_Ti_0.\n"
     ]
    }
   ],
   "source": [
    "figs = plotting.plot_all_defects(defect_charges_dict)"
   ]
  },
  {
   "cell_type": "code",
   "execution_count": 71,
   "id": "0ccc6446",
   "metadata": {},
   "outputs": [
    {
     "data": {
      "image/svg+xml": "<svg xmlns:xlink=\"http://www.w3.org/1999/xlink\" xmlns=\"http://www.w3.org/2000/svg\" width=\"401.362266pt\" height=\"395.935078pt\" viewBox=\"0 0 401.362266 395.935078\" version=\"1.1\">\n <metadata>\n  <rdf:RDF xmlns:dc=\"http://purl.org/dc/elements/1.1/\" xmlns:cc=\"http://creativecommons.org/ns#\" xmlns:rdf=\"http://www.w3.org/1999/02/22-rdf-syntax-ns#\">\n   <cc:Work>\n    <dc:type rdf:resource=\"http://purl.org/dc/dcmitype/StillImage\"/>\n    <dc:date>2022-10-19T11:00:36.323424</dc:date>\n    <dc:format>image/svg+xml</dc:format>\n    <dc:creator>\n     <cc:Agent>\n      <dc:title>Matplotlib v3.6.1, https://matplotlib.org/</dc:title>\n     </cc:Agent>\n    </dc:creator>\n   </cc:Work>\n  </rdf:RDF>\n </metadata>\n <defs>\n  <style type=\"text/css\">*{stroke-linejoin: round; stroke-linecap: butt}</style>\n </defs>\n <g id=\"figure_1\">\n  <g id=\"patch_1\">\n   <path d=\"M 0 395.935078  L 401.362266 395.935078  L 401.362266 0  L 0 0  L 0 395.935078  z \" style=\"fill: none\"/>\n  </g>\n  <g id=\"axes_1\">\n   <g id=\"patch_2\">\n    <path d=\"M 59.362266 344.72  L 394.162266 344.72  L 394.162266 39.8  L 59.362266 39.8  L 59.362266 344.72  z \" style=\"fill: none\"/>\n   </g>\n   <g id=\"matplotlib.axis_1\">\n    <g id=\"xtick_1\">\n     <g id=\"line2d_1\">\n      <defs>\n       <path id=\"mad788401c6\" d=\"M 0 0  L 0 -12  \" style=\"stroke: #000000; stroke-width: 0.2\"/>\n      </defs>\n      <g>\n       <use xlink:href=\"#mad788401c6\" x=\"74.580447\" y=\"344.72\" style=\"stroke: #000000; stroke-width: 0.2\"/>\n      </g>\n     </g>\n     <g id=\"text_1\">\n      <!-- -0.6 -->\n      <g transform=\"translate(63.855799 359.253359) scale(0.115 -0.115)\">\n       <defs>\n        <path id=\"Montserrat-Regular-2d\" d=\"M 384 1536  L 384 1933  L 2061 1933  L 2061 1536  L 384 1536  z \" transform=\"scale(0.015625)\"/>\n        <path id=\"Montserrat-Regular-30\" d=\"M 2118 -38  Q 1600 -38 1197 234  Q 794 506 563 1014  Q 333 1523 333 2240  Q 333 2957 563 3465  Q 794 3974 1197 4246  Q 1600 4518 2118 4518  Q 2637 4518 3040 4246  Q 3443 3974 3676 3465  Q 3910 2957 3910 2240  Q 3910 1523 3676 1014  Q 3443 506 3040 234  Q 2637 -38 2118 -38  z M 2118 384  Q 2515 384 2809 598  Q 3104 813 3270 1225  Q 3437 1638 3437 2240  Q 3437 2842 3270 3254  Q 3104 3667 2809 3881  Q 2515 4096 2118 4096  Q 1734 4096 1433 3881  Q 1133 3667 966 3254  Q 800 2842 800 2240  Q 800 1638 966 1225  Q 1133 813 1433 598  Q 1734 384 2118 384  z \" transform=\"scale(0.015625)\"/>\n        <path id=\"Montserrat-Regular-2e\" d=\"M 678 -32  Q 538 -32 438 70  Q 339 173 339 320  Q 339 474 438 570  Q 538 666 678 666  Q 819 666 918 570  Q 1018 474 1018 320  Q 1018 173 918 70  Q 819 -32 678 -32  z \" transform=\"scale(0.015625)\"/>\n        <path id=\"Montserrat-Regular-36\" d=\"M 2170 -38  Q 1574 -38 1164 227  Q 755 493 544 995  Q 333 1498 333 2202  Q 333 2963 592 3478  Q 851 3994 1312 4256  Q 1773 4518 2381 4518  Q 2682 4518 2957 4460  Q 3232 4403 3443 4275  L 3258 3904  Q 3085 4019 2861 4067  Q 2637 4115 2387 4115  Q 1664 4115 1232 3654  Q 800 3194 800 2278  Q 800 2138 816 1930  Q 832 1722 890 1517  L 730 1638  Q 800 1971 1005 2204  Q 1210 2438 1517 2560  Q 1824 2682 2189 2682  Q 2637 2682 2976 2515  Q 3315 2349 3507 2048  Q 3699 1747 3699 1338  Q 3699 922 3500 611  Q 3302 301 2953 131  Q 2605 -38 2170 -38  z M 2150 352  Q 2470 352 2716 470  Q 2963 589 3104 809  Q 3245 1030 3245 1325  Q 3245 1766 2941 2028  Q 2637 2291 2118 2291  Q 1773 2291 1517 2163  Q 1261 2035 1113 1814  Q 966 1594 966 1312  Q 966 1069 1100 848  Q 1235 627 1500 489  Q 1766 352 2150 352  z \" transform=\"scale(0.015625)\"/>\n       </defs>\n       <use xlink:href=\"#Montserrat-Regular-2d\"/>\n       <use xlink:href=\"#Montserrat-Regular-30\" x=\"38.199997\"/>\n       <use xlink:href=\"#Montserrat-Regular-2e\" x=\"104.399994\"/>\n       <use xlink:href=\"#Montserrat-Regular-36\" x=\"125.599991\"/>\n      </g>\n     </g>\n    </g>\n    <g id=\"xtick_2\">\n     <g id=\"line2d_2\">\n      <g>\n       <use xlink:href=\"#mad788401c6\" x=\"150.671357\" y=\"344.72\" style=\"stroke: #000000; stroke-width: 0.2\"/>\n      </g>\n     </g>\n     <g id=\"text_2\">\n      <!-- -0.3 -->\n      <g transform=\"translate(140.205458 359.253359) scale(0.115 -0.115)\">\n       <defs>\n        <path id=\"Montserrat-Regular-33\" d=\"M 1670 -38  Q 1184 -38 752 118  Q 320 275 58 538  L 282 902  Q 499 678 867 531  Q 1235 384 1670 384  Q 2227 384 2524 627  Q 2822 870 2822 1280  Q 2822 1690 2531 1933  Q 2240 2176 1613 2176  L 1293 2176  L 1293 2515  L 2675 4250  L 2739 4070  L 243 4070  L 243 4480  L 3123 4480  L 3123 4154  L 1741 2419  L 1517 2566  L 1690 2566  Q 2496 2566 2896 2208  Q 3296 1850 3296 1286  Q 3296 909 3117 608  Q 2938 307 2576 134  Q 2214 -38 1670 -38  z \" transform=\"scale(0.015625)\"/>\n       </defs>\n       <use xlink:href=\"#Montserrat-Regular-2d\"/>\n       <use xlink:href=\"#Montserrat-Regular-30\" x=\"38.199997\"/>\n       <use xlink:href=\"#Montserrat-Regular-2e\" x=\"104.399994\"/>\n       <use xlink:href=\"#Montserrat-Regular-33\" x=\"125.599991\"/>\n      </g>\n     </g>\n    </g>\n    <g id=\"xtick_3\">\n     <g id=\"line2d_3\">\n      <g>\n       <use xlink:href=\"#mad788401c6\" x=\"226.762266\" y=\"344.72\" style=\"stroke: #000000; stroke-width: 0.2\"/>\n      </g>\n     </g>\n     <g id=\"text_3\">\n      <!-- 0.0 -->\n      <g transform=\"translate(217.929727 359.253359) scale(0.115 -0.115)\">\n       <use xlink:href=\"#Montserrat-Regular-30\"/>\n       <use xlink:href=\"#Montserrat-Regular-2e\" x=\"66.199997\"/>\n       <use xlink:href=\"#Montserrat-Regular-30\" x=\"87.399994\"/>\n      </g>\n     </g>\n    </g>\n    <g id=\"xtick_4\">\n     <g id=\"line2d_4\">\n      <g>\n       <use xlink:href=\"#mad788401c6\" x=\"302.853175\" y=\"344.72\" style=\"stroke: #000000; stroke-width: 0.2\"/>\n      </g>\n     </g>\n     <g id=\"text_4\">\n      <!-- 0.3 -->\n      <g transform=\"translate(294.583956 359.253359) scale(0.115 -0.115)\">\n       <use xlink:href=\"#Montserrat-Regular-30\"/>\n       <use xlink:href=\"#Montserrat-Regular-2e\" x=\"66.199997\"/>\n       <use xlink:href=\"#Montserrat-Regular-33\" x=\"87.399994\"/>\n      </g>\n     </g>\n    </g>\n    <g id=\"xtick_5\">\n     <g id=\"line2d_5\">\n      <g>\n       <use xlink:href=\"#mad788401c6\" x=\"378.944084\" y=\"344.72\" style=\"stroke: #000000; stroke-width: 0.2\"/>\n      </g>\n     </g>\n     <g id=\"text_5\">\n      <!-- 0.6 -->\n      <g transform=\"translate(370.416115 359.253359) scale(0.115 -0.115)\">\n       <use xlink:href=\"#Montserrat-Regular-30\"/>\n       <use xlink:href=\"#Montserrat-Regular-2e\" x=\"66.199997\"/>\n       <use xlink:href=\"#Montserrat-Regular-36\" x=\"87.399994\"/>\n      </g>\n     </g>\n    </g>\n    <g id=\"xtick_6\">\n     <g id=\"line2d_6\">\n      <defs>\n       <path id=\"m03fa2037ba\" d=\"M 0 0  L 0 -5  \" style=\"stroke: #000000; stroke-width: 0.2\"/>\n      </defs>\n      <g>\n       <use xlink:href=\"#m03fa2037ba\" x=\"99.944084\" y=\"344.72\" style=\"stroke: #000000; stroke-width: 0.2\"/>\n      </g>\n     </g>\n    </g>\n    <g id=\"xtick_7\">\n     <g id=\"line2d_7\">\n      <g>\n       <use xlink:href=\"#m03fa2037ba\" x=\"125.30772\" y=\"344.72\" style=\"stroke: #000000; stroke-width: 0.2\"/>\n      </g>\n     </g>\n    </g>\n    <g id=\"xtick_8\">\n     <g id=\"line2d_8\">\n      <g>\n       <use xlink:href=\"#m03fa2037ba\" x=\"176.034993\" y=\"344.72\" style=\"stroke: #000000; stroke-width: 0.2\"/>\n      </g>\n     </g>\n    </g>\n    <g id=\"xtick_9\">\n     <g id=\"line2d_9\">\n      <g>\n       <use xlink:href=\"#m03fa2037ba\" x=\"201.398629\" y=\"344.72\" style=\"stroke: #000000; stroke-width: 0.2\"/>\n      </g>\n     </g>\n    </g>\n    <g id=\"xtick_10\">\n     <g id=\"line2d_10\">\n      <g>\n       <use xlink:href=\"#m03fa2037ba\" x=\"252.125902\" y=\"344.72\" style=\"stroke: #000000; stroke-width: 0.2\"/>\n      </g>\n     </g>\n    </g>\n    <g id=\"xtick_11\">\n     <g id=\"line2d_11\">\n      <g>\n       <use xlink:href=\"#m03fa2037ba\" x=\"277.489538\" y=\"344.72\" style=\"stroke: #000000; stroke-width: 0.2\"/>\n      </g>\n     </g>\n    </g>\n    <g id=\"xtick_12\">\n     <g id=\"line2d_12\">\n      <g>\n       <use xlink:href=\"#m03fa2037ba\" x=\"328.216811\" y=\"344.72\" style=\"stroke: #000000; stroke-width: 0.2\"/>\n      </g>\n     </g>\n    </g>\n    <g id=\"xtick_13\">\n     <g id=\"line2d_13\">\n      <g>\n       <use xlink:href=\"#m03fa2037ba\" x=\"353.580447\" y=\"344.72\" style=\"stroke: #000000; stroke-width: 0.2\"/>\n      </g>\n     </g>\n    </g>\n    <g id=\"text_6\">\n     <!-- Bond Distortion Factor (for 1 Te near $V_{Cd}^{-1}$) -->\n     <g transform=\"translate(74.212266 384.685078) scale(0.15 -0.15)\">\n      <defs>\n       <path id=\"Montserrat-Regular-42\" d=\"M 730 0  L 730 4480  L 2662 4480  Q 3411 4480 3824 4179  Q 4237 3878 4237 3328  Q 4237 2963 4067 2713  Q 3898 2464 3606 2336  Q 3315 2208 2970 2208  L 3078 2362  Q 3507 2362 3817 2230  Q 4128 2099 4301 1840  Q 4474 1581 4474 1197  Q 4474 627 4054 313  Q 3635 0 2790 0  L 730 0  z M 1203 390  L 2784 390  Q 3373 390 3686 592  Q 4000 794 4000 1235  Q 4000 1670 3686 1872  Q 3373 2074 2784 2074  L 1152 2074  L 1152 2464  L 2630 2464  Q 3168 2464 3465 2669  Q 3763 2874 3763 3277  Q 3763 3686 3465 3888  Q 3168 4090 2630 4090  L 1203 4090  L 1203 390  z \" transform=\"scale(0.015625)\"/>\n       <path id=\"Montserrat-Regular-6f\" d=\"M 2003 -32  Q 1517 -32 1129 189  Q 742 410 518 797  Q 294 1184 294 1683  Q 294 2189 518 2573  Q 742 2957 1126 3174  Q 1510 3392 2003 3392  Q 2502 3392 2889 3174  Q 3277 2957 3497 2573  Q 3718 2189 3718 1683  Q 3718 1184 3497 797  Q 3277 410 2886 189  Q 2496 -32 2003 -32  z M 2003 371  Q 2368 371 2649 534  Q 2931 698 3094 995  Q 3258 1293 3258 1683  Q 3258 2080 3094 2374  Q 2931 2669 2649 2832  Q 2368 2995 2010 2995  Q 1651 2995 1369 2832  Q 1088 2669 921 2374  Q 755 2080 755 1683  Q 755 1293 921 995  Q 1088 698 1369 534  Q 1651 371 2003 371  z \" transform=\"scale(0.015625)\"/>\n       <path id=\"Montserrat-Regular-6e\" d=\"M 2349 3392  Q 2758 3392 3068 3235  Q 3379 3078 3555 2758  Q 3731 2438 3731 1952  L 3731 0  L 3277 0  L 3277 1907  Q 3277 2438 3011 2710  Q 2746 2982 2266 2982  Q 1907 2982 1641 2838  Q 1376 2694 1232 2422  Q 1088 2150 1088 1766  L 1088 0  L 634 0  L 634 3360  L 1069 3360  L 1069 2438  L 998 2611  Q 1158 2976 1510 3184  Q 1862 3392 2349 3392  z \" transform=\"scale(0.015625)\"/>\n       <path id=\"Montserrat-Regular-64\" d=\"M 1971 -32  Q 1491 -32 1110 185  Q 730 403 512 790  Q 294 1178 294 1683  Q 294 2195 512 2579  Q 730 2963 1110 3177  Q 1491 3392 1971 3392  Q 2413 3392 2761 3193  Q 3110 2995 3318 2614  Q 3526 2234 3526 1683  Q 3526 1139 3321 755  Q 3117 371 2768 169  Q 2419 -32 1971 -32  z M 2003 371  Q 2362 371 2646 534  Q 2931 698 3094 995  Q 3258 1293 3258 1683  Q 3258 2080 3094 2374  Q 2931 2669 2646 2832  Q 2362 2995 2003 2995  Q 1651 2995 1369 2832  Q 1088 2669 921 2374  Q 755 2080 755 1683  Q 755 1293 921 995  Q 1088 698 1369 534  Q 1651 371 2003 371  z M 3270 0  L 3270 1011  L 3315 1690  L 3251 2368  L 3251 4749  L 3706 4749  L 3706 0  L 3270 0  z \" transform=\"scale(0.015625)\"/>\n       <path id=\"Montserrat-Regular-20\" transform=\"scale(0.015625)\"/>\n       <path id=\"Montserrat-Regular-44\" d=\"M 730 0  L 730 4480  L 2554 4480  Q 3270 4480 3811 4195  Q 4352 3910 4653 3404  Q 4954 2899 4954 2240  Q 4954 1581 4653 1075  Q 4352 570 3811 285  Q 3270 0 2554 0  L 730 0  z M 1203 410  L 2528 410  Q 3123 410 3561 643  Q 4000 877 4243 1289  Q 4486 1702 4486 2240  Q 4486 2784 4243 3193  Q 4000 3603 3561 3836  Q 3123 4070 2528 4070  L 1203 4070  L 1203 410  z \" transform=\"scale(0.015625)\"/>\n       <path id=\"Montserrat-Regular-69\" d=\"M 634 0  L 634 3360  L 1088 3360  L 1088 0  L 634 0  z M 864 4102  Q 723 4102 627 4198  Q 531 4294 531 4429  Q 531 4563 627 4656  Q 723 4749 864 4749  Q 1005 4749 1101 4659  Q 1197 4570 1197 4435  Q 1197 4294 1104 4198  Q 1011 4102 864 4102  z \" transform=\"scale(0.015625)\"/>\n       <path id=\"Montserrat-Regular-73\" d=\"M 1536 -32  Q 1120 -32 749 86  Q 378 205 166 384  L 371 742  Q 576 589 896 477  Q 1216 365 1568 365  Q 2048 365 2259 515  Q 2470 666 2470 915  Q 2470 1101 2352 1206  Q 2234 1312 2042 1366  Q 1850 1421 1613 1459  Q 1376 1498 1142 1549  Q 909 1600 717 1699  Q 525 1798 406 1971  Q 288 2144 288 2432  Q 288 2707 441 2924  Q 595 3142 892 3267  Q 1190 3392 1619 3392  Q 1946 3392 2272 3305  Q 2598 3219 2810 3078  L 2611 2714  Q 2387 2867 2131 2934  Q 1875 3002 1619 3002  Q 1165 3002 950 2845  Q 736 2688 736 2445  Q 736 2253 854 2144  Q 973 2035 1168 1974  Q 1363 1914 1596 1875  Q 1830 1837 2064 1782  Q 2298 1728 2493 1635  Q 2688 1542 2806 1372  Q 2925 1203 2925 928  Q 2925 634 2761 419  Q 2598 205 2288 86  Q 1978 -32 1536 -32  z \" transform=\"scale(0.015625)\"/>\n       <path id=\"Montserrat-Regular-74\" d=\"M 1696 -32  Q 1222 -32 966 224  Q 710 480 710 947  L 710 4102  L 1165 4102  L 1165 973  Q 1165 678 1315 518  Q 1466 358 1747 358  Q 2048 358 2246 531  L 2406 205  Q 2272 83 2083 25  Q 1894 -32 1696 -32  z M 109 2982  L 109 3360  L 2189 3360  L 2189 2982  L 109 2982  z \" transform=\"scale(0.015625)\"/>\n       <path id=\"Montserrat-Regular-72\" d=\"M 634 0  L 634 3360  L 1069 3360  L 1069 2445  L 1024 2605  Q 1165 2989 1497 3190  Q 1830 3392 2323 3392  L 2323 2950  Q 2298 2950 2272 2953  Q 2246 2957 2221 2957  Q 1690 2957 1389 2633  Q 1088 2310 1088 1715  L 1088 0  L 634 0  z \" transform=\"scale(0.015625)\"/>\n       <path id=\"Montserrat-Regular-46\" d=\"M 1152 2310  L 3520 2310  L 3520 1901  L 1152 1901  L 1152 2310  z M 1203 0  L 730 0  L 730 4480  L 3802 4480  L 3802 4070  L 1203 4070  L 1203 0  z \" transform=\"scale(0.015625)\"/>\n       <path id=\"Montserrat-Regular-61\" d=\"M 2739 0  L 2739 742  L 2720 864  L 2720 2106  Q 2720 2534 2480 2764  Q 2240 2995 1766 2995  Q 1440 2995 1145 2886  Q 851 2778 646 2598  L 442 2938  Q 698 3155 1056 3273  Q 1414 3392 1811 3392  Q 2464 3392 2819 3069  Q 3174 2746 3174 2086  L 3174 0  L 2739 0  z M 1581 -32  Q 1203 -32 924 93  Q 646 218 499 438  Q 352 659 352 947  Q 352 1210 477 1424  Q 602 1638 886 1769  Q 1171 1901 1651 1901  L 2810 1901  L 2810 1562  L 1664 1562  Q 1178 1562 989 1389  Q 800 1216 800 960  Q 800 672 1024 499  Q 1248 326 1651 326  Q 2035 326 2313 502  Q 2592 678 2720 1011  L 2822 698  Q 2694 365 2377 166  Q 2061 -32 1581 -32  z \" transform=\"scale(0.015625)\"/>\n       <path id=\"Montserrat-Regular-63\" d=\"M 2029 -32  Q 1530 -32 1136 189  Q 742 410 518 797  Q 294 1184 294 1683  Q 294 2189 518 2573  Q 742 2957 1136 3174  Q 1530 3392 2029 3392  Q 2458 3392 2803 3225  Q 3149 3059 3347 2726  L 3008 2496  Q 2835 2752 2579 2873  Q 2323 2995 2022 2995  Q 1664 2995 1376 2832  Q 1088 2669 921 2374  Q 755 2080 755 1683  Q 755 1286 921 992  Q 1088 698 1376 534  Q 1664 371 2022 371  Q 2323 371 2579 492  Q 2835 614 3008 864  L 3347 634  Q 3149 307 2803 137  Q 2458 -32 2029 -32  z \" transform=\"scale(0.015625)\"/>\n       <path id=\"Montserrat-Regular-28\" d=\"M 1408 -1242  Q 1056 -659 861 105  Q 666 870 666 1754  Q 666 2637 861 3408  Q 1056 4179 1408 4749  L 1843 4749  Q 1466 4090 1290 3350  Q 1114 2611 1114 1754  Q 1114 896 1290 157  Q 1466 -582 1843 -1242  L 1408 -1242  z \" transform=\"scale(0.015625)\"/>\n       <path id=\"Montserrat-Regular-66\" d=\"M 710 0  L 710 3782  Q 710 4230 972 4505  Q 1235 4781 1728 4781  Q 1920 4781 2099 4729  Q 2278 4678 2400 4570  L 2246 4230  Q 2150 4314 2022 4355  Q 1894 4397 1747 4397  Q 1459 4397 1305 4237  Q 1152 4077 1152 3763  L 1152 3251  L 1165 3040  L 1165 0  L 710 0  z M 109 2982  L 109 3360  L 2189 3360  L 2189 2982  L 109 2982  z \" transform=\"scale(0.015625)\"/>\n       <path id=\"Montserrat-Regular-31\" d=\"M 1114 0  L 1114 4288  L 1318 4070  L 58 4070  L 58 4480  L 1574 4480  L 1574 0  L 1114 0  z \" transform=\"scale(0.015625)\"/>\n       <path id=\"Montserrat-Regular-54\" d=\"M 1600 0  L 1600 4070  L 26 4070  L 26 4480  L 3648 4480  L 3648 4070  L 2074 4070  L 2074 0  L 1600 0  z \" transform=\"scale(0.015625)\"/>\n       <path id=\"Montserrat-Regular-65\" d=\"M 2061 -32  Q 1536 -32 1139 189  Q 742 410 518 797  Q 294 1184 294 1683  Q 294 2182 508 2566  Q 723 2950 1097 3171  Q 1472 3392 1939 3392  Q 2413 3392 2781 3177  Q 3149 2963 3360 2576  Q 3571 2189 3571 1683  Q 3571 1651 3568 1616  Q 3565 1581 3565 1542  L 640 1542  L 640 1882  L 3322 1882  L 3142 1747  Q 3142 2112 2985 2397  Q 2829 2682 2560 2842  Q 2291 3002 1939 3002  Q 1594 3002 1318 2842  Q 1043 2682 889 2394  Q 736 2106 736 1734  L 736 1664  Q 736 1280 905 989  Q 1075 698 1379 534  Q 1683 371 2074 371  Q 2381 371 2646 480  Q 2912 589 3104 813  L 3360 518  Q 3136 250 2800 109  Q 2464 -32 2061 -32  z \" transform=\"scale(0.015625)\"/>\n       <path id=\"Montserrat-Regular-56\" d=\"M 2003 0  L 19 4480  L 531 4480  L 2387 262  L 2106 262  L 3974 4480  L 4454 4480  L 2470 0  L 2003 0  z \" transform=\"scale(0.015625)\"/>\n       <path id=\"Montserrat-Regular-2212\" d=\"M 448 2048  L 448 2426  L 3232 2426  L 3232 2048  L 448 2048  z \" transform=\"scale(0.015625)\"/>\n       <path id=\"Montserrat-Regular-43\" d=\"M 2675 -38  Q 2170 -38 1741 131  Q 1312 301 998 608  Q 685 915 509 1331  Q 333 1747 333 2240  Q 333 2733 509 3149  Q 685 3565 1001 3872  Q 1318 4179 1747 4348  Q 2176 4518 2682 4518  Q 3168 4518 3597 4355  Q 4026 4192 4320 3866  L 4019 3565  Q 3744 3846 3411 3971  Q 3078 4096 2694 4096  Q 2291 4096 1945 3958  Q 1600 3821 1344 3568  Q 1088 3315 944 2979  Q 800 2643 800 2240  Q 800 1837 944 1501  Q 1088 1165 1344 912  Q 1600 659 1945 521  Q 2291 384 2694 384  Q 3078 384 3411 512  Q 3744 640 4019 922  L 4320 621  Q 4026 294 3597 128  Q 3168 -38 2675 -38  z \" transform=\"scale(0.015625)\"/>\n       <path id=\"Montserrat-Regular-29\" d=\"M 691 -1242  L 256 -1242  Q 640 -582 816 157  Q 992 896 992 1754  Q 992 2611 816 3350  Q 640 4090 256 4749  L 691 4749  Q 1056 4179 1248 3408  Q 1440 2637 1440 1754  Q 1440 870 1248 105  Q 1056 -659 691 -1242  z \" transform=\"scale(0.015625)\"/>\n      </defs>\n      <use xlink:href=\"#Montserrat-Regular-42\" transform=\"translate(0 0.807813)\"/>\n      <use xlink:href=\"#Montserrat-Regular-6f\" transform=\"translate(75.399994 0.807813)\"/>\n      <use xlink:href=\"#Montserrat-Regular-6e\" transform=\"translate(138.099991 0.807813)\"/>\n      <use xlink:href=\"#Montserrat-Regular-64\" transform=\"translate(205.699982 0.807813)\"/>\n      <use xlink:href=\"#Montserrat-Regular-20\" transform=\"translate(273.499969 0.807813)\"/>\n      <use xlink:href=\"#Montserrat-Regular-44\" transform=\"translate(299.699966 0.807813)\"/>\n      <use xlink:href=\"#Montserrat-Regular-69\" transform=\"translate(382.299957 0.807813)\"/>\n      <use xlink:href=\"#Montserrat-Regular-73\" transform=\"translate(409.199951 0.807813)\"/>\n      <use xlink:href=\"#Montserrat-Regular-74\" transform=\"translate(457.999939 0.807813)\"/>\n      <use xlink:href=\"#Montserrat-Regular-6f\" transform=\"translate(498.59993 0.807813)\"/>\n      <use xlink:href=\"#Montserrat-Regular-72\" transform=\"translate(561.299927 0.807813)\"/>\n      <use xlink:href=\"#Montserrat-Regular-74\" transform=\"translate(601.399918 0.807813)\"/>\n      <use xlink:href=\"#Montserrat-Regular-69\" transform=\"translate(641.999908 0.807813)\"/>\n      <use xlink:href=\"#Montserrat-Regular-6f\" transform=\"translate(668.899902 0.807813)\"/>\n      <use xlink:href=\"#Montserrat-Regular-6e\" transform=\"translate(731.599899 0.807813)\"/>\n      <use xlink:href=\"#Montserrat-Regular-20\" transform=\"translate(799.19989 0.807813)\"/>\n      <use xlink:href=\"#Montserrat-Regular-46\" transform=\"translate(825.399887 0.807813)\"/>\n      <use xlink:href=\"#Montserrat-Regular-61\" transform=\"translate(888.699875 0.807813)\"/>\n      <use xlink:href=\"#Montserrat-Regular-63\" transform=\"translate(947.69986 0.807813)\"/>\n      <use xlink:href=\"#Montserrat-Regular-74\" transform=\"translate(1003.999847 0.807813)\"/>\n      <use xlink:href=\"#Montserrat-Regular-6f\" transform=\"translate(1044.599838 0.807813)\"/>\n      <use xlink:href=\"#Montserrat-Regular-72\" transform=\"translate(1107.299835 0.807813)\"/>\n      <use xlink:href=\"#Montserrat-Regular-20\" transform=\"translate(1147.399826 0.807813)\"/>\n      <use xlink:href=\"#Montserrat-Regular-28\" transform=\"translate(1173.599823 0.807813)\"/>\n      <use xlink:href=\"#Montserrat-Regular-66\" transform=\"translate(1206.499817 0.807813)\"/>\n      <use xlink:href=\"#Montserrat-Regular-6f\" transform=\"translate(1240.399811 0.807813)\"/>\n      <use xlink:href=\"#Montserrat-Regular-72\" transform=\"translate(1303.099808 0.807813)\"/>\n      <use xlink:href=\"#Montserrat-Regular-20\" transform=\"translate(1343.199799 0.807813)\"/>\n      <use xlink:href=\"#Montserrat-Regular-31\" transform=\"translate(1369.399796 0.807813)\"/>\n      <use xlink:href=\"#Montserrat-Regular-20\" transform=\"translate(1405.499786 0.807813)\"/>\n      <use xlink:href=\"#Montserrat-Regular-54\" transform=\"translate(1431.699783 0.807813)\"/>\n      <use xlink:href=\"#Montserrat-Regular-65\" transform=\"translate(1489.099777 0.807813)\"/>\n      <use xlink:href=\"#Montserrat-Regular-20\" transform=\"translate(1549.499771 0.807813)\"/>\n      <use xlink:href=\"#Montserrat-Regular-6e\" transform=\"translate(1575.699768 0.807813)\"/>\n      <use xlink:href=\"#Montserrat-Regular-65\" transform=\"translate(1643.299759 0.807813)\"/>\n      <use xlink:href=\"#Montserrat-Regular-61\" transform=\"translate(1703.699753 0.807813)\"/>\n      <use xlink:href=\"#Montserrat-Regular-72\" transform=\"translate(1762.699738 0.807813)\"/>\n      <use xlink:href=\"#Montserrat-Regular-20\" transform=\"translate(1802.799728 0.807813)\"/>\n      <use xlink:href=\"#Montserrat-Regular-56\" transform=\"translate(1828.999725 0.807813)\"/>\n      <use xlink:href=\"#Montserrat-Regular-2212\" transform=\"translate(1899.718463 39) scale(0.7)\"/>\n      <use xlink:href=\"#Montserrat-Regular-31\" transform=\"translate(1939.968452 39) scale(0.7)\"/>\n      <use xlink:href=\"#Montserrat-Regular-43\" transform=\"translate(1899.718463 -25.442187) scale(0.7)\"/>\n      <use xlink:href=\"#Montserrat-Regular-64\" transform=\"translate(1950.048459 -25.442187) scale(0.7)\"/>\n      <use xlink:href=\"#Montserrat-Regular-29\" transform=\"translate(2000.13345 0.807813)\"/>\n     </g>\n    </g>\n   </g>\n   <g id=\"matplotlib.axis_2\">\n    <g id=\"ytick_1\">\n     <g id=\"line2d_14\">\n      <defs>\n       <path id=\"m21bca26242\" d=\"M 0 0  L 12 0  \" style=\"stroke: #000000; stroke-width: 0.2\"/>\n      </defs>\n      <g>\n       <use xlink:href=\"#m21bca26242\" x=\"59.362266\" y=\"291.076667\" style=\"stroke: #000000; stroke-width: 0.2\"/>\n      </g>\n     </g>\n     <g id=\"text_7\">\n      <!-- -0.8 -->\n      <g transform=\"translate(31.580547 295.343346) scale(0.115 -0.115)\">\n       <defs>\n        <path id=\"Montserrat-Regular-38\" d=\"M 2035 -38  Q 1498 -38 1110 115  Q 723 269 515 560  Q 307 851 307 1248  Q 307 1632 508 1904  Q 710 2176 1097 2323  Q 1485 2470 2035 2470  Q 2579 2470 2969 2323  Q 3360 2176 3568 1904  Q 3776 1632 3776 1248  Q 3776 851 3565 560  Q 3354 269 2963 115  Q 2573 -38 2035 -38  z M 2035 352  Q 2630 352 2966 595  Q 3302 838 3302 1254  Q 3302 1670 2966 1910  Q 2630 2150 2035 2150  Q 1440 2150 1107 1910  Q 774 1670 774 1254  Q 774 838 1107 595  Q 1440 352 2035 352  z M 2035 2208  Q 1536 2208 1187 2342  Q 838 2477 652 2729  Q 467 2982 467 3334  Q 467 3706 662 3971  Q 858 4237 1210 4377  Q 1562 4518 2035 4518  Q 2509 4518 2864 4377  Q 3219 4237 3417 3971  Q 3616 3706 3616 3334  Q 3616 2982 3430 2729  Q 3245 2477 2889 2342  Q 2534 2208 2035 2208  z M 2035 2515  Q 2560 2515 2854 2732  Q 3149 2950 3149 3315  Q 3149 3699 2845 3913  Q 2541 4128 2035 4128  Q 1530 4128 1229 3913  Q 928 3699 928 3322  Q 928 2950 1219 2732  Q 1510 2515 2035 2515  z \" transform=\"scale(0.015625)\"/>\n       </defs>\n       <use xlink:href=\"#Montserrat-Regular-2d\"/>\n       <use xlink:href=\"#Montserrat-Regular-30\" x=\"38.199997\"/>\n       <use xlink:href=\"#Montserrat-Regular-2e\" x=\"104.399994\"/>\n       <use xlink:href=\"#Montserrat-Regular-38\" x=\"125.599991\"/>\n      </g>\n     </g>\n    </g>\n    <g id=\"ytick_2\">\n     <g id=\"line2d_15\">\n      <g>\n       <use xlink:href=\"#m21bca26242\" x=\"59.362266\" y=\"234.61\" style=\"stroke: #000000; stroke-width: 0.2\"/>\n      </g>\n     </g>\n     <g id=\"text_8\">\n      <!-- -0.6 -->\n      <g transform=\"translate(31.912969 238.87668) scale(0.115 -0.115)\">\n       <use xlink:href=\"#Montserrat-Regular-2d\"/>\n       <use xlink:href=\"#Montserrat-Regular-30\" x=\"38.199997\"/>\n       <use xlink:href=\"#Montserrat-Regular-2e\" x=\"104.399994\"/>\n       <use xlink:href=\"#Montserrat-Regular-36\" x=\"125.599991\"/>\n      </g>\n     </g>\n    </g>\n    <g id=\"ytick_3\">\n     <g id=\"line2d_16\">\n      <g>\n       <use xlink:href=\"#m21bca26242\" x=\"59.362266\" y=\"178.143333\" style=\"stroke: #000000; stroke-width: 0.2\"/>\n      </g>\n     </g>\n     <g id=\"text_9\">\n      <!-- -0.4 -->\n      <g transform=\"translate(31.316406 182.410013) scale(0.115 -0.115)\">\n       <defs>\n        <path id=\"Montserrat-Regular-34\" d=\"M 256 1178  L 256 1510  L 2630 4480  L 3142 4480  L 787 1510  L 538 1587  L 4141 1587  L 4141 1178  L 256 1178  z M 2784 0  L 2784 1178  L 2797 1587  L 2797 2624  L 3245 2624  L 3245 0  L 2784 0  z \" transform=\"scale(0.015625)\"/>\n       </defs>\n       <use xlink:href=\"#Montserrat-Regular-2d\"/>\n       <use xlink:href=\"#Montserrat-Regular-30\" x=\"38.199997\"/>\n       <use xlink:href=\"#Montserrat-Regular-2e\" x=\"104.399994\"/>\n       <use xlink:href=\"#Montserrat-Regular-34\" x=\"125.599991\"/>\n      </g>\n     </g>\n    </g>\n    <g id=\"ytick_4\">\n     <g id=\"line2d_17\">\n      <g>\n       <use xlink:href=\"#m21bca26242\" x=\"59.362266\" y=\"121.676667\" style=\"stroke: #000000; stroke-width: 0.2\"/>\n      </g>\n     </g>\n     <g id=\"text_10\">\n      <!-- -0.2 -->\n      <g transform=\"translate(32.385547 125.943346) scale(0.115 -0.115)\">\n       <defs>\n        <path id=\"Montserrat-Regular-32\" d=\"M 250 0  L 250 326  L 2112 2150  Q 2368 2400 2496 2589  Q 2624 2778 2669 2944  Q 2714 3110 2714 3258  Q 2714 3648 2448 3872  Q 2182 4096 1664 4096  Q 1267 4096 963 3974  Q 659 3853 442 3597  L 115 3878  Q 378 4186 787 4352  Q 1197 4518 1702 4518  Q 2157 4518 2489 4374  Q 2822 4230 3004 3955  Q 3187 3680 3187 3309  Q 3187 3091 3126 2880  Q 3066 2669 2909 2435  Q 2752 2202 2451 1907  L 742 230  L 614 410  L 3392 410  L 3392 0  L 250 0  z \" transform=\"scale(0.015625)\"/>\n       </defs>\n       <use xlink:href=\"#Montserrat-Regular-2d\"/>\n       <use xlink:href=\"#Montserrat-Regular-30\" x=\"38.199997\"/>\n       <use xlink:href=\"#Montserrat-Regular-2e\" x=\"104.399994\"/>\n       <use xlink:href=\"#Montserrat-Regular-32\" x=\"125.599991\"/>\n      </g>\n     </g>\n    </g>\n    <g id=\"ytick_5\">\n     <g id=\"line2d_18\">\n      <g>\n       <use xlink:href=\"#m21bca26242\" x=\"59.362266\" y=\"65.21\" style=\"stroke: #000000; stroke-width: 0.2\"/>\n      </g>\n     </g>\n     <g id=\"text_11\">\n      <!-- 0.0 -->\n      <g transform=\"translate(35.697188 69.47668) scale(0.115 -0.115)\">\n       <use xlink:href=\"#Montserrat-Regular-30\"/>\n       <use xlink:href=\"#Montserrat-Regular-2e\" x=\"66.199997\"/>\n       <use xlink:href=\"#Montserrat-Regular-30\" x=\"87.399994\"/>\n      </g>\n     </g>\n    </g>\n    <g id=\"text_12\">\n     <!-- Energy (eV) -->\n     <g transform=\"translate(18.330469 235.754141) rotate(-90) scale(0.15 -0.15)\">\n      <defs>\n       <path id=\"Montserrat-Regular-45\" d=\"M 1152 2477  L 3520 2477  L 3520 2074  L 1152 2074  L 1152 2477  z M 1203 410  L 3898 410  L 3898 0  L 730 0  L 730 4480  L 3802 4480  L 3802 4070  L 1203 4070  L 1203 410  z \" transform=\"scale(0.015625)\"/>\n       <path id=\"Montserrat-Regular-67\" d=\"M 2067 -1274  Q 1606 -1274 1184 -1139  Q 762 -1005 499 -755  L 730 -410  Q 966 -621 1315 -745  Q 1664 -870 2054 -870  Q 2694 -870 2995 -572  Q 3296 -275 3296 352  L 3296 1190  L 3360 1766  L 3315 2342  L 3315 3360  L 3750 3360  L 3750 410  Q 3750 -461 3324 -867  Q 2899 -1274 2067 -1274  z M 1984 128  Q 1504 128 1120 336  Q 736 544 515 915  Q 294 1286 294 1766  Q 294 2246 515 2614  Q 736 2982 1120 3187  Q 1504 3392 1984 3392  Q 2432 3392 2790 3206  Q 3149 3021 3360 2656  Q 3571 2291 3571 1766  Q 3571 1242 3360 877  Q 3149 512 2790 320  Q 2432 128 1984 128  z M 2029 531  Q 2400 531 2688 688  Q 2976 845 3142 1123  Q 3309 1402 3309 1766  Q 3309 2131 3142 2406  Q 2976 2682 2688 2838  Q 2400 2995 2029 2995  Q 1664 2995 1373 2838  Q 1082 2682 918 2406  Q 755 2131 755 1766  Q 755 1402 918 1123  Q 1082 845 1373 688  Q 1664 531 2029 531  z \" transform=\"scale(0.015625)\"/>\n       <path id=\"Montserrat-Regular-79\" d=\"M 659 -1274  Q 422 -1274 208 -1197  Q -6 -1120 -160 -966  L 51 -627  Q 179 -749 329 -816  Q 480 -883 666 -883  Q 890 -883 1053 -758  Q 1216 -634 1363 -320  L 1581 173  L 1632 243  L 3014 3360  L 3462 3360  L 1779 -403  Q 1638 -730 1468 -922  Q 1299 -1114 1100 -1194  Q 902 -1274 659 -1274  z M 1555 -96  L 6 3360  L 480 3360  L 1850 275  L 1555 -96  z \" transform=\"scale(0.015625)\"/>\n      </defs>\n      <use xlink:href=\"#Montserrat-Regular-45\"/>\n      <use xlink:href=\"#Montserrat-Regular-6e\" x=\"66.899994\"/>\n      <use xlink:href=\"#Montserrat-Regular-65\" x=\"134.499985\"/>\n      <use xlink:href=\"#Montserrat-Regular-72\" x=\"194.899979\"/>\n      <use xlink:href=\"#Montserrat-Regular-67\" x=\"234.999969\"/>\n      <use xlink:href=\"#Montserrat-Regular-79\" x=\"303.499954\"/>\n      <use xlink:href=\"#Montserrat-Regular-20\" x=\"357.699951\"/>\n      <use xlink:href=\"#Montserrat-Regular-28\" x=\"383.899948\"/>\n      <use xlink:href=\"#Montserrat-Regular-65\" x=\"416.799942\"/>\n      <use xlink:href=\"#Montserrat-Regular-56\" x=\"477.199936\"/>\n      <use xlink:href=\"#Montserrat-Regular-29\" x=\"546.999924\"/>\n     </g>\n    </g>\n   </g>\n   <g id=\"line2d_19\">\n    <path d=\"M 74.580447 65.21  L 99.944084 65.21  L 125.30772 65.21  L 150.671357 65.21  L 176.034993 65.21  L 201.398629 65.21  L 226.762266 65.21  L 252.125902 65.21  L 277.489538 319.31  L 302.853175 319.31  L 328.216811 319.31  L 353.580447 319.31  L 378.944084 319.31  \" clip-path=\"url(#pfef9cc0f7d)\" style=\"fill: none; stroke: #59a590; stroke-linecap: square\"/>\n    <defs>\n     <path id=\"md2a933f5c4\" d=\"M 0 3  C 0.795609 3 1.55874 2.683901 2.12132 2.12132  C 2.683901 1.55874 3 0.795609 3 0  C 3 -0.795609 2.683901 -1.55874 2.12132 -2.12132  C 1.55874 -2.683901 0.795609 -3 0 -3  C -0.795609 -3 -1.55874 -2.683901 -2.12132 -2.12132  C -2.683901 -1.55874 -3 -0.795609 -3 0  C -3 0.795609 -2.683901 1.55874 -2.12132 2.12132  C -1.55874 2.683901 -0.795609 3 0 3  z \" style=\"stroke: #59a590\"/>\n    </defs>\n    <g clip-path=\"url(#pfef9cc0f7d)\">\n     <use xlink:href=\"#md2a933f5c4\" x=\"74.580447\" y=\"65.21\" style=\"fill: #59a590; stroke: #59a590\"/>\n     <use xlink:href=\"#md2a933f5c4\" x=\"99.944084\" y=\"65.21\" style=\"fill: #59a590; stroke: #59a590\"/>\n     <use xlink:href=\"#md2a933f5c4\" x=\"125.30772\" y=\"65.21\" style=\"fill: #59a590; stroke: #59a590\"/>\n     <use xlink:href=\"#md2a933f5c4\" x=\"150.671357\" y=\"65.21\" style=\"fill: #59a590; stroke: #59a590\"/>\n     <use xlink:href=\"#md2a933f5c4\" x=\"176.034993\" y=\"65.21\" style=\"fill: #59a590; stroke: #59a590\"/>\n     <use xlink:href=\"#md2a933f5c4\" x=\"201.398629\" y=\"65.21\" style=\"fill: #59a590; stroke: #59a590\"/>\n     <use xlink:href=\"#md2a933f5c4\" x=\"226.762266\" y=\"65.21\" style=\"fill: #59a590; stroke: #59a590\"/>\n     <use xlink:href=\"#md2a933f5c4\" x=\"252.125902\" y=\"65.21\" style=\"fill: #59a590; stroke: #59a590\"/>\n     <use xlink:href=\"#md2a933f5c4\" x=\"277.489538\" y=\"319.31\" style=\"fill: #59a590; stroke: #59a590\"/>\n     <use xlink:href=\"#md2a933f5c4\" x=\"302.853175\" y=\"319.31\" style=\"fill: #59a590; stroke: #59a590\"/>\n     <use xlink:href=\"#md2a933f5c4\" x=\"328.216811\" y=\"319.31\" style=\"fill: #59a590; stroke: #59a590\"/>\n     <use xlink:href=\"#md2a933f5c4\" x=\"353.580447\" y=\"319.31\" style=\"fill: #59a590; stroke: #59a590\"/>\n     <use xlink:href=\"#md2a933f5c4\" x=\"378.944084\" y=\"319.31\" style=\"fill: #59a590; stroke: #59a590\"/>\n    </g>\n   </g>\n   <g id=\"line2d_20\">\n    <defs>\n     <path id=\"mbc1f180af0\" d=\"M -0 6.363961  L 3.818377 0  L 0 -6.363961  L -3.818377 -0  z \" style=\"stroke: #59a590; stroke-linejoin: miter\"/>\n    </defs>\n    <g clip-path=\"url(#pfef9cc0f7d)\">\n     <use xlink:href=\"#mbc1f180af0\" x=\"226.762266\" y=\"65.21\" style=\"fill: #59a590; stroke: #59a590; stroke-linejoin: miter\"/>\n    </g>\n   </g>\n   <g id=\"patch_3\">\n    <path d=\"M 59.362266 344.72  L 59.362266 39.8  \" style=\"fill: none; stroke: #000000; stroke-width: 0.5; stroke-linejoin: miter; stroke-linecap: square\"/>\n   </g>\n   <g id=\"patch_4\">\n    <path d=\"M 394.162266 344.72  L 394.162266 39.8  \" style=\"fill: none; stroke: #000000; stroke-width: 0.5; stroke-linejoin: miter; stroke-linecap: square\"/>\n   </g>\n   <g id=\"patch_5\">\n    <path d=\"M 59.362266 344.72  L 394.162266 344.72  \" style=\"fill: none; stroke: #000000; stroke-width: 0.5; stroke-linejoin: miter; stroke-linecap: square\"/>\n   </g>\n   <g id=\"patch_6\">\n    <path d=\"M 59.362266 39.8  L 394.162266 39.8  \" style=\"fill: none; stroke: #000000; stroke-width: 0.5; stroke-linejoin: miter; stroke-linecap: square\"/>\n   </g>\n   <g id=\"text_13\">\n    <!-- $V_{Cd}^{-1}$ -->\n    <g transform=\"translate(209.562266 24.8) scale(0.2 -0.2)\">\n     <use xlink:href=\"#Montserrat-Regular-56\" transform=\"translate(0 0.807813)\"/>\n     <use xlink:href=\"#Montserrat-Regular-2212\" transform=\"translate(70.718738 39) scale(0.7)\"/>\n     <use xlink:href=\"#Montserrat-Regular-31\" transform=\"translate(110.968727 39) scale(0.7)\"/>\n     <use xlink:href=\"#Montserrat-Regular-43\" transform=\"translate(70.718738 -25.442187) scale(0.7)\"/>\n     <use xlink:href=\"#Montserrat-Regular-64\" transform=\"translate(121.048734 -25.442187) scale(0.7)\"/>\n    </g>\n   </g>\n   <g id=\"legend_1\">\n    <g id=\"patch_7\">\n     <path d=\"M 68.462266 338.22  L 200.515859 338.22  Q 203.115859 338.22 203.115859 335.62  L 203.115859 299.581563  Q 203.115859 296.981562 200.515859 296.981562  L 68.462266 296.981562  Q 65.862266 296.981562 65.862266 299.581563  L 65.862266 335.62  Q 65.862266 338.22 68.462266 338.22  z \" style=\"fill: #ffffff; opacity: 0.8; stroke: #cccccc; stroke-linejoin: miter\"/>\n    </g>\n    <g id=\"line2d_21\">\n     <path d=\"M 71.062266 307.277969  L 78.862266 307.277969  L 86.662266 307.277969  \" style=\"fill: none; stroke: #59a590; stroke-linecap: square\"/>\n     <g>\n      <use xlink:href=\"#md2a933f5c4\" x=\"78.862266\" y=\"307.277969\" style=\"fill: #59a590; stroke: #59a590\"/>\n     </g>\n    </g>\n    <g id=\"text_14\">\n     <!-- Distortions: 1 Te -->\n     <g transform=\"translate(97.062266 311.827969) scale(0.13 -0.13)\">\n      <defs>\n       <path id=\"Montserrat-Regular-3a\" d=\"M 678 2720  Q 538 2720 438 2822  Q 339 2925 339 3072  Q 339 3226 438 3322  Q 538 3418 678 3418  Q 819 3418 918 3322  Q 1018 3226 1018 3072  Q 1018 2925 918 2822  Q 819 2720 678 2720  z M 678 -32  Q 538 -32 438 70  Q 339 173 339 320  Q 339 474 438 570  Q 538 666 678 666  Q 819 666 918 570  Q 1018 474 1018 320  Q 1018 173 918 70  Q 819 -32 678 -32  z \" transform=\"scale(0.015625)\"/>\n      </defs>\n      <use xlink:href=\"#Montserrat-Regular-44\"/>\n      <use xlink:href=\"#Montserrat-Regular-69\" x=\"82.599991\"/>\n      <use xlink:href=\"#Montserrat-Regular-73\" x=\"109.499985\"/>\n      <use xlink:href=\"#Montserrat-Regular-74\" x=\"158.299973\"/>\n      <use xlink:href=\"#Montserrat-Regular-6f\" x=\"198.899963\"/>\n      <use xlink:href=\"#Montserrat-Regular-72\" x=\"261.59996\"/>\n      <use xlink:href=\"#Montserrat-Regular-74\" x=\"301.699951\"/>\n      <use xlink:href=\"#Montserrat-Regular-69\" x=\"342.299942\"/>\n      <use xlink:href=\"#Montserrat-Regular-6f\" x=\"369.199936\"/>\n      <use xlink:href=\"#Montserrat-Regular-6e\" x=\"431.899933\"/>\n      <use xlink:href=\"#Montserrat-Regular-73\" x=\"499.499924\"/>\n      <use xlink:href=\"#Montserrat-Regular-3a\" x=\"548.299911\"/>\n      <use xlink:href=\"#Montserrat-Regular-20\" x=\"569.499908\"/>\n      <use xlink:href=\"#Montserrat-Regular-31\" x=\"595.699905\"/>\n      <use xlink:href=\"#Montserrat-Regular-20\" x=\"631.799896\"/>\n      <use xlink:href=\"#Montserrat-Regular-54\" x=\"657.999893\"/>\n      <use xlink:href=\"#Montserrat-Regular-65\" x=\"715.399887\"/>\n     </g>\n    </g>\n    <g id=\"line2d_22\">\n     <g>\n      <use xlink:href=\"#mbc1f180af0\" x=\"78.862266\" y=\"325.947187\" style=\"fill: #59a590; stroke: #59a590; stroke-linejoin: miter\"/>\n     </g>\n    </g>\n    <g id=\"text_15\">\n     <!-- Unperturbed -->\n     <g transform=\"translate(97.062266 330.497187) scale(0.13 -0.13)\">\n      <defs>\n       <path id=\"Montserrat-Regular-55\" d=\"M 2534 -38  Q 1677 -38 1184 454  Q 691 947 691 1914  L 691 4480  L 1165 4480  L 1165 1933  Q 1165 1139 1523 761  Q 1882 384 2534 384  Q 3194 384 3552 761  Q 3910 1139 3910 1933  L 3910 4480  L 4371 4480  L 4371 1914  Q 4371 947 3881 454  Q 3392 -38 2534 -38  z \" transform=\"scale(0.015625)\"/>\n       <path id=\"Montserrat-Regular-70\" d=\"M 2368 -32  Q 1933 -32 1581 169  Q 1229 371 1021 752  Q 813 1133 813 1683  Q 813 2234 1017 2614  Q 1222 2995 1574 3193  Q 1926 3392 2368 3392  Q 2848 3392 3229 3177  Q 3610 2963 3827 2576  Q 4045 2189 4045 1683  Q 4045 1171 3827 787  Q 3610 403 3229 185  Q 2848 -32 2368 -32  z M 634 -1242  L 634 3360  L 1069 3360  L 1069 2349  L 1024 1677  L 1088 998  L 1088 -1242  L 634 -1242  z M 2336 371  Q 2694 371 2976 534  Q 3258 698 3424 995  Q 3590 1293 3590 1683  Q 3590 2074 3424 2368  Q 3258 2662 2976 2828  Q 2694 2995 2336 2995  Q 1978 2995 1693 2828  Q 1408 2662 1245 2368  Q 1082 2074 1082 1683  Q 1082 1293 1245 995  Q 1408 698 1693 534  Q 1978 371 2336 371  z \" transform=\"scale(0.015625)\"/>\n       <path id=\"Montserrat-Regular-75\" d=\"M 2022 -32  Q 1594 -32 1274 128  Q 954 288 778 608  Q 602 928 602 1408  L 602 3360  L 1056 3360  L 1056 1459  Q 1056 922 1321 650  Q 1587 378 2067 378  Q 2419 378 2678 522  Q 2938 666 3075 941  Q 3213 1216 3213 1600  L 3213 3360  L 3667 3360  L 3667 0  L 3232 0  L 3232 922  L 3302 755  Q 3142 384 2806 176  Q 2470 -32 2022 -32  z \" transform=\"scale(0.015625)\"/>\n       <path id=\"Montserrat-Regular-62\" d=\"M 2368 -32  Q 1926 -32 1574 169  Q 1222 371 1017 755  Q 813 1139 813 1683  Q 813 2234 1021 2614  Q 1229 2995 1581 3193  Q 1933 3392 2368 3392  Q 2848 3392 3229 3177  Q 3610 2963 3827 2579  Q 4045 2195 4045 1683  Q 4045 1178 3827 790  Q 3610 403 3229 185  Q 2848 -32 2368 -32  z M 634 0  L 634 4749  L 1088 4749  L 1088 2368  L 1024 1690  L 1069 1011  L 1069 0  L 634 0  z M 2336 371  Q 2694 371 2976 534  Q 3258 698 3424 995  Q 3590 1293 3590 1683  Q 3590 2080 3424 2374  Q 3258 2669 2976 2832  Q 2694 2995 2336 2995  Q 1978 2995 1693 2832  Q 1408 2669 1245 2374  Q 1082 2080 1082 1683  Q 1082 1293 1245 995  Q 1408 698 1693 534  Q 1978 371 2336 371  z \" transform=\"scale(0.015625)\"/>\n      </defs>\n      <use xlink:href=\"#Montserrat-Regular-55\"/>\n      <use xlink:href=\"#Montserrat-Regular-6e\" x=\"79.199982\"/>\n      <use xlink:href=\"#Montserrat-Regular-70\" x=\"146.799973\"/>\n      <use xlink:href=\"#Montserrat-Regular-65\" x=\"214.59996\"/>\n      <use xlink:href=\"#Montserrat-Regular-72\" x=\"274.999954\"/>\n      <use xlink:href=\"#Montserrat-Regular-74\" x=\"315.099945\"/>\n      <use xlink:href=\"#Montserrat-Regular-75\" x=\"355.699936\"/>\n      <use xlink:href=\"#Montserrat-Regular-72\" x=\"422.899933\"/>\n      <use xlink:href=\"#Montserrat-Regular-62\" x=\"462.999924\"/>\n      <use xlink:href=\"#Montserrat-Regular-65\" x=\"530.799911\"/>\n      <use xlink:href=\"#Montserrat-Regular-64\" x=\"591.199905\"/>\n     </g>\n    </g>\n   </g>\n  </g>\n </g>\n <defs>\n  <clipPath id=\"pfef9cc0f7d\">\n   <rect x=\"59.362266\" y=\"39.8\" width=\"334.8\" height=\"304.92\"/>\n  </clipPath>\n </defs>\n</svg>",
      "text/plain": [
       "<IPython.core.display.SVG object>"
      ]
     },
     "execution_count": 71,
     "metadata": {},
     "output_type": "execute_result"
    }
   ],
   "source": [
    "# Show plots\n",
    "from IPython.core.display import SVG\n",
    "SVG(filename=\"./v_Cd_-1/v_Cd_-1.svg\")"
   ]
  },
  {
   "cell_type": "code",
   "execution_count": 72,
   "id": "ffd20d2d",
   "metadata": {},
   "outputs": [
    {
     "data": {
      "image/svg+xml": "<svg xmlns:xlink=\"http://www.w3.org/1999/xlink\" xmlns=\"http://www.w3.org/2000/svg\" width=\"401.362266pt\" height=\"396.285078pt\" viewBox=\"0 0 401.362266 396.285078\" version=\"1.1\">\n <metadata>\n  <rdf:RDF xmlns:dc=\"http://purl.org/dc/elements/1.1/\" xmlns:cc=\"http://creativecommons.org/ns#\" xmlns:rdf=\"http://www.w3.org/1999/02/22-rdf-syntax-ns#\">\n   <cc:Work>\n    <dc:type rdf:resource=\"http://purl.org/dc/dcmitype/StillImage\"/>\n    <dc:date>2022-10-19T11:00:36.454479</dc:date>\n    <dc:format>image/svg+xml</dc:format>\n    <dc:creator>\n     <cc:Agent>\n      <dc:title>Matplotlib v3.6.1, https://matplotlib.org/</dc:title>\n     </cc:Agent>\n    </dc:creator>\n   </cc:Work>\n  </rdf:RDF>\n </metadata>\n <defs>\n  <style type=\"text/css\">*{stroke-linejoin: round; stroke-linecap: butt}</style>\n </defs>\n <g id=\"figure_1\">\n  <g id=\"patch_1\">\n   <path d=\"M 0 396.285078  L 401.362266 396.285078  L 401.362266 0  L 0 0  L 0 396.285078  z \" style=\"fill: none\"/>\n  </g>\n  <g id=\"axes_1\">\n   <g id=\"patch_2\">\n    <path d=\"M 59.362266 344.92  L 394.162266 344.92  L 394.162266 40  L 59.362266 40  L 59.362266 344.92  z \" style=\"fill: none\"/>\n   </g>\n   <g id=\"matplotlib.axis_1\">\n    <g id=\"xtick_1\">\n     <g id=\"line2d_1\">\n      <defs>\n       <path id=\"mec2378b615\" d=\"M 0 0  L 0 -12  \" style=\"stroke: #000000; stroke-width: 0.2\"/>\n      </defs>\n      <g>\n       <use xlink:href=\"#mec2378b615\" x=\"74.580447\" y=\"344.92\" style=\"stroke: #000000; stroke-width: 0.2\"/>\n      </g>\n     </g>\n     <g id=\"text_1\">\n      <!-- -0.6 -->\n      <g transform=\"translate(63.855799 359.453359) scale(0.115 -0.115)\">\n       <defs>\n        <path id=\"Montserrat-Regular-2d\" d=\"M 384 1536  L 384 1933  L 2061 1933  L 2061 1536  L 384 1536  z \" transform=\"scale(0.015625)\"/>\n        <path id=\"Montserrat-Regular-30\" d=\"M 2118 -38  Q 1600 -38 1197 234  Q 794 506 563 1014  Q 333 1523 333 2240  Q 333 2957 563 3465  Q 794 3974 1197 4246  Q 1600 4518 2118 4518  Q 2637 4518 3040 4246  Q 3443 3974 3676 3465  Q 3910 2957 3910 2240  Q 3910 1523 3676 1014  Q 3443 506 3040 234  Q 2637 -38 2118 -38  z M 2118 384  Q 2515 384 2809 598  Q 3104 813 3270 1225  Q 3437 1638 3437 2240  Q 3437 2842 3270 3254  Q 3104 3667 2809 3881  Q 2515 4096 2118 4096  Q 1734 4096 1433 3881  Q 1133 3667 966 3254  Q 800 2842 800 2240  Q 800 1638 966 1225  Q 1133 813 1433 598  Q 1734 384 2118 384  z \" transform=\"scale(0.015625)\"/>\n        <path id=\"Montserrat-Regular-2e\" d=\"M 678 -32  Q 538 -32 438 70  Q 339 173 339 320  Q 339 474 438 570  Q 538 666 678 666  Q 819 666 918 570  Q 1018 474 1018 320  Q 1018 173 918 70  Q 819 -32 678 -32  z \" transform=\"scale(0.015625)\"/>\n        <path id=\"Montserrat-Regular-36\" d=\"M 2170 -38  Q 1574 -38 1164 227  Q 755 493 544 995  Q 333 1498 333 2202  Q 333 2963 592 3478  Q 851 3994 1312 4256  Q 1773 4518 2381 4518  Q 2682 4518 2957 4460  Q 3232 4403 3443 4275  L 3258 3904  Q 3085 4019 2861 4067  Q 2637 4115 2387 4115  Q 1664 4115 1232 3654  Q 800 3194 800 2278  Q 800 2138 816 1930  Q 832 1722 890 1517  L 730 1638  Q 800 1971 1005 2204  Q 1210 2438 1517 2560  Q 1824 2682 2189 2682  Q 2637 2682 2976 2515  Q 3315 2349 3507 2048  Q 3699 1747 3699 1338  Q 3699 922 3500 611  Q 3302 301 2953 131  Q 2605 -38 2170 -38  z M 2150 352  Q 2470 352 2716 470  Q 2963 589 3104 809  Q 3245 1030 3245 1325  Q 3245 1766 2941 2028  Q 2637 2291 2118 2291  Q 1773 2291 1517 2163  Q 1261 2035 1113 1814  Q 966 1594 966 1312  Q 966 1069 1100 848  Q 1235 627 1500 489  Q 1766 352 2150 352  z \" transform=\"scale(0.015625)\"/>\n       </defs>\n       <use xlink:href=\"#Montserrat-Regular-2d\"/>\n       <use xlink:href=\"#Montserrat-Regular-30\" x=\"38.199997\"/>\n       <use xlink:href=\"#Montserrat-Regular-2e\" x=\"104.399994\"/>\n       <use xlink:href=\"#Montserrat-Regular-36\" x=\"125.599991\"/>\n      </g>\n     </g>\n    </g>\n    <g id=\"xtick_2\">\n     <g id=\"line2d_2\">\n      <g>\n       <use xlink:href=\"#mec2378b615\" x=\"150.671357\" y=\"344.92\" style=\"stroke: #000000; stroke-width: 0.2\"/>\n      </g>\n     </g>\n     <g id=\"text_2\">\n      <!-- -0.3 -->\n      <g transform=\"translate(140.205458 359.453359) scale(0.115 -0.115)\">\n       <defs>\n        <path id=\"Montserrat-Regular-33\" d=\"M 1670 -38  Q 1184 -38 752 118  Q 320 275 58 538  L 282 902  Q 499 678 867 531  Q 1235 384 1670 384  Q 2227 384 2524 627  Q 2822 870 2822 1280  Q 2822 1690 2531 1933  Q 2240 2176 1613 2176  L 1293 2176  L 1293 2515  L 2675 4250  L 2739 4070  L 243 4070  L 243 4480  L 3123 4480  L 3123 4154  L 1741 2419  L 1517 2566  L 1690 2566  Q 2496 2566 2896 2208  Q 3296 1850 3296 1286  Q 3296 909 3117 608  Q 2938 307 2576 134  Q 2214 -38 1670 -38  z \" transform=\"scale(0.015625)\"/>\n       </defs>\n       <use xlink:href=\"#Montserrat-Regular-2d\"/>\n       <use xlink:href=\"#Montserrat-Regular-30\" x=\"38.199997\"/>\n       <use xlink:href=\"#Montserrat-Regular-2e\" x=\"104.399994\"/>\n       <use xlink:href=\"#Montserrat-Regular-33\" x=\"125.599991\"/>\n      </g>\n     </g>\n    </g>\n    <g id=\"xtick_3\">\n     <g id=\"line2d_3\">\n      <g>\n       <use xlink:href=\"#mec2378b615\" x=\"226.762266\" y=\"344.92\" style=\"stroke: #000000; stroke-width: 0.2\"/>\n      </g>\n     </g>\n     <g id=\"text_3\">\n      <!-- 0.0 -->\n      <g transform=\"translate(217.929727 359.453359) scale(0.115 -0.115)\">\n       <use xlink:href=\"#Montserrat-Regular-30\"/>\n       <use xlink:href=\"#Montserrat-Regular-2e\" x=\"66.199997\"/>\n       <use xlink:href=\"#Montserrat-Regular-30\" x=\"87.399994\"/>\n      </g>\n     </g>\n    </g>\n    <g id=\"xtick_4\">\n     <g id=\"line2d_4\">\n      <g>\n       <use xlink:href=\"#mec2378b615\" x=\"302.853175\" y=\"344.92\" style=\"stroke: #000000; stroke-width: 0.2\"/>\n      </g>\n     </g>\n     <g id=\"text_4\">\n      <!-- 0.3 -->\n      <g transform=\"translate(294.583956 359.453359) scale(0.115 -0.115)\">\n       <use xlink:href=\"#Montserrat-Regular-30\"/>\n       <use xlink:href=\"#Montserrat-Regular-2e\" x=\"66.199997\"/>\n       <use xlink:href=\"#Montserrat-Regular-33\" x=\"87.399994\"/>\n      </g>\n     </g>\n    </g>\n    <g id=\"xtick_5\">\n     <g id=\"line2d_5\">\n      <g>\n       <use xlink:href=\"#mec2378b615\" x=\"378.944084\" y=\"344.92\" style=\"stroke: #000000; stroke-width: 0.2\"/>\n      </g>\n     </g>\n     <g id=\"text_5\">\n      <!-- 0.6 -->\n      <g transform=\"translate(370.416115 359.453359) scale(0.115 -0.115)\">\n       <use xlink:href=\"#Montserrat-Regular-30\"/>\n       <use xlink:href=\"#Montserrat-Regular-2e\" x=\"66.199997\"/>\n       <use xlink:href=\"#Montserrat-Regular-36\" x=\"87.399994\"/>\n      </g>\n     </g>\n    </g>\n    <g id=\"xtick_6\">\n     <g id=\"line2d_6\">\n      <defs>\n       <path id=\"ma43c5a592e\" d=\"M 0 0  L 0 -5  \" style=\"stroke: #000000; stroke-width: 0.2\"/>\n      </defs>\n      <g>\n       <use xlink:href=\"#ma43c5a592e\" x=\"99.944084\" y=\"344.92\" style=\"stroke: #000000; stroke-width: 0.2\"/>\n      </g>\n     </g>\n    </g>\n    <g id=\"xtick_7\">\n     <g id=\"line2d_7\">\n      <g>\n       <use xlink:href=\"#ma43c5a592e\" x=\"125.30772\" y=\"344.92\" style=\"stroke: #000000; stroke-width: 0.2\"/>\n      </g>\n     </g>\n    </g>\n    <g id=\"xtick_8\">\n     <g id=\"line2d_8\">\n      <g>\n       <use xlink:href=\"#ma43c5a592e\" x=\"176.034993\" y=\"344.92\" style=\"stroke: #000000; stroke-width: 0.2\"/>\n      </g>\n     </g>\n    </g>\n    <g id=\"xtick_9\">\n     <g id=\"line2d_9\">\n      <g>\n       <use xlink:href=\"#ma43c5a592e\" x=\"201.398629\" y=\"344.92\" style=\"stroke: #000000; stroke-width: 0.2\"/>\n      </g>\n     </g>\n    </g>\n    <g id=\"xtick_10\">\n     <g id=\"line2d_10\">\n      <g>\n       <use xlink:href=\"#ma43c5a592e\" x=\"252.125902\" y=\"344.92\" style=\"stroke: #000000; stroke-width: 0.2\"/>\n      </g>\n     </g>\n    </g>\n    <g id=\"xtick_11\">\n     <g id=\"line2d_11\">\n      <g>\n       <use xlink:href=\"#ma43c5a592e\" x=\"277.489538\" y=\"344.92\" style=\"stroke: #000000; stroke-width: 0.2\"/>\n      </g>\n     </g>\n    </g>\n    <g id=\"xtick_12\">\n     <g id=\"line2d_12\">\n      <g>\n       <use xlink:href=\"#ma43c5a592e\" x=\"328.216811\" y=\"344.92\" style=\"stroke: #000000; stroke-width: 0.2\"/>\n      </g>\n     </g>\n    </g>\n    <g id=\"xtick_13\">\n     <g id=\"line2d_13\">\n      <g>\n       <use xlink:href=\"#ma43c5a592e\" x=\"353.580447\" y=\"344.92\" style=\"stroke: #000000; stroke-width: 0.2\"/>\n      </g>\n     </g>\n    </g>\n    <g id=\"text_6\">\n     <!-- Bond Distortion Factor (for 2 Te near $V_{Cd}^{0}$) -->\n     <g transform=\"translate(72.712266 385.035078) scale(0.15 -0.15)\">\n      <defs>\n       <path id=\"Montserrat-Regular-42\" d=\"M 730 0  L 730 4480  L 2662 4480  Q 3411 4480 3824 4179  Q 4237 3878 4237 3328  Q 4237 2963 4067 2713  Q 3898 2464 3606 2336  Q 3315 2208 2970 2208  L 3078 2362  Q 3507 2362 3817 2230  Q 4128 2099 4301 1840  Q 4474 1581 4474 1197  Q 4474 627 4054 313  Q 3635 0 2790 0  L 730 0  z M 1203 390  L 2784 390  Q 3373 390 3686 592  Q 4000 794 4000 1235  Q 4000 1670 3686 1872  Q 3373 2074 2784 2074  L 1152 2074  L 1152 2464  L 2630 2464  Q 3168 2464 3465 2669  Q 3763 2874 3763 3277  Q 3763 3686 3465 3888  Q 3168 4090 2630 4090  L 1203 4090  L 1203 390  z \" transform=\"scale(0.015625)\"/>\n       <path id=\"Montserrat-Regular-6f\" d=\"M 2003 -32  Q 1517 -32 1129 189  Q 742 410 518 797  Q 294 1184 294 1683  Q 294 2189 518 2573  Q 742 2957 1126 3174  Q 1510 3392 2003 3392  Q 2502 3392 2889 3174  Q 3277 2957 3497 2573  Q 3718 2189 3718 1683  Q 3718 1184 3497 797  Q 3277 410 2886 189  Q 2496 -32 2003 -32  z M 2003 371  Q 2368 371 2649 534  Q 2931 698 3094 995  Q 3258 1293 3258 1683  Q 3258 2080 3094 2374  Q 2931 2669 2649 2832  Q 2368 2995 2010 2995  Q 1651 2995 1369 2832  Q 1088 2669 921 2374  Q 755 2080 755 1683  Q 755 1293 921 995  Q 1088 698 1369 534  Q 1651 371 2003 371  z \" transform=\"scale(0.015625)\"/>\n       <path id=\"Montserrat-Regular-6e\" d=\"M 2349 3392  Q 2758 3392 3068 3235  Q 3379 3078 3555 2758  Q 3731 2438 3731 1952  L 3731 0  L 3277 0  L 3277 1907  Q 3277 2438 3011 2710  Q 2746 2982 2266 2982  Q 1907 2982 1641 2838  Q 1376 2694 1232 2422  Q 1088 2150 1088 1766  L 1088 0  L 634 0  L 634 3360  L 1069 3360  L 1069 2438  L 998 2611  Q 1158 2976 1510 3184  Q 1862 3392 2349 3392  z \" transform=\"scale(0.015625)\"/>\n       <path id=\"Montserrat-Regular-64\" d=\"M 1971 -32  Q 1491 -32 1110 185  Q 730 403 512 790  Q 294 1178 294 1683  Q 294 2195 512 2579  Q 730 2963 1110 3177  Q 1491 3392 1971 3392  Q 2413 3392 2761 3193  Q 3110 2995 3318 2614  Q 3526 2234 3526 1683  Q 3526 1139 3321 755  Q 3117 371 2768 169  Q 2419 -32 1971 -32  z M 2003 371  Q 2362 371 2646 534  Q 2931 698 3094 995  Q 3258 1293 3258 1683  Q 3258 2080 3094 2374  Q 2931 2669 2646 2832  Q 2362 2995 2003 2995  Q 1651 2995 1369 2832  Q 1088 2669 921 2374  Q 755 2080 755 1683  Q 755 1293 921 995  Q 1088 698 1369 534  Q 1651 371 2003 371  z M 3270 0  L 3270 1011  L 3315 1690  L 3251 2368  L 3251 4749  L 3706 4749  L 3706 0  L 3270 0  z \" transform=\"scale(0.015625)\"/>\n       <path id=\"Montserrat-Regular-20\" transform=\"scale(0.015625)\"/>\n       <path id=\"Montserrat-Regular-44\" d=\"M 730 0  L 730 4480  L 2554 4480  Q 3270 4480 3811 4195  Q 4352 3910 4653 3404  Q 4954 2899 4954 2240  Q 4954 1581 4653 1075  Q 4352 570 3811 285  Q 3270 0 2554 0  L 730 0  z M 1203 410  L 2528 410  Q 3123 410 3561 643  Q 4000 877 4243 1289  Q 4486 1702 4486 2240  Q 4486 2784 4243 3193  Q 4000 3603 3561 3836  Q 3123 4070 2528 4070  L 1203 4070  L 1203 410  z \" transform=\"scale(0.015625)\"/>\n       <path id=\"Montserrat-Regular-69\" d=\"M 634 0  L 634 3360  L 1088 3360  L 1088 0  L 634 0  z M 864 4102  Q 723 4102 627 4198  Q 531 4294 531 4429  Q 531 4563 627 4656  Q 723 4749 864 4749  Q 1005 4749 1101 4659  Q 1197 4570 1197 4435  Q 1197 4294 1104 4198  Q 1011 4102 864 4102  z \" transform=\"scale(0.015625)\"/>\n       <path id=\"Montserrat-Regular-73\" d=\"M 1536 -32  Q 1120 -32 749 86  Q 378 205 166 384  L 371 742  Q 576 589 896 477  Q 1216 365 1568 365  Q 2048 365 2259 515  Q 2470 666 2470 915  Q 2470 1101 2352 1206  Q 2234 1312 2042 1366  Q 1850 1421 1613 1459  Q 1376 1498 1142 1549  Q 909 1600 717 1699  Q 525 1798 406 1971  Q 288 2144 288 2432  Q 288 2707 441 2924  Q 595 3142 892 3267  Q 1190 3392 1619 3392  Q 1946 3392 2272 3305  Q 2598 3219 2810 3078  L 2611 2714  Q 2387 2867 2131 2934  Q 1875 3002 1619 3002  Q 1165 3002 950 2845  Q 736 2688 736 2445  Q 736 2253 854 2144  Q 973 2035 1168 1974  Q 1363 1914 1596 1875  Q 1830 1837 2064 1782  Q 2298 1728 2493 1635  Q 2688 1542 2806 1372  Q 2925 1203 2925 928  Q 2925 634 2761 419  Q 2598 205 2288 86  Q 1978 -32 1536 -32  z \" transform=\"scale(0.015625)\"/>\n       <path id=\"Montserrat-Regular-74\" d=\"M 1696 -32  Q 1222 -32 966 224  Q 710 480 710 947  L 710 4102  L 1165 4102  L 1165 973  Q 1165 678 1315 518  Q 1466 358 1747 358  Q 2048 358 2246 531  L 2406 205  Q 2272 83 2083 25  Q 1894 -32 1696 -32  z M 109 2982  L 109 3360  L 2189 3360  L 2189 2982  L 109 2982  z \" transform=\"scale(0.015625)\"/>\n       <path id=\"Montserrat-Regular-72\" d=\"M 634 0  L 634 3360  L 1069 3360  L 1069 2445  L 1024 2605  Q 1165 2989 1497 3190  Q 1830 3392 2323 3392  L 2323 2950  Q 2298 2950 2272 2953  Q 2246 2957 2221 2957  Q 1690 2957 1389 2633  Q 1088 2310 1088 1715  L 1088 0  L 634 0  z \" transform=\"scale(0.015625)\"/>\n       <path id=\"Montserrat-Regular-46\" d=\"M 1152 2310  L 3520 2310  L 3520 1901  L 1152 1901  L 1152 2310  z M 1203 0  L 730 0  L 730 4480  L 3802 4480  L 3802 4070  L 1203 4070  L 1203 0  z \" transform=\"scale(0.015625)\"/>\n       <path id=\"Montserrat-Regular-61\" d=\"M 2739 0  L 2739 742  L 2720 864  L 2720 2106  Q 2720 2534 2480 2764  Q 2240 2995 1766 2995  Q 1440 2995 1145 2886  Q 851 2778 646 2598  L 442 2938  Q 698 3155 1056 3273  Q 1414 3392 1811 3392  Q 2464 3392 2819 3069  Q 3174 2746 3174 2086  L 3174 0  L 2739 0  z M 1581 -32  Q 1203 -32 924 93  Q 646 218 499 438  Q 352 659 352 947  Q 352 1210 477 1424  Q 602 1638 886 1769  Q 1171 1901 1651 1901  L 2810 1901  L 2810 1562  L 1664 1562  Q 1178 1562 989 1389  Q 800 1216 800 960  Q 800 672 1024 499  Q 1248 326 1651 326  Q 2035 326 2313 502  Q 2592 678 2720 1011  L 2822 698  Q 2694 365 2377 166  Q 2061 -32 1581 -32  z \" transform=\"scale(0.015625)\"/>\n       <path id=\"Montserrat-Regular-63\" d=\"M 2029 -32  Q 1530 -32 1136 189  Q 742 410 518 797  Q 294 1184 294 1683  Q 294 2189 518 2573  Q 742 2957 1136 3174  Q 1530 3392 2029 3392  Q 2458 3392 2803 3225  Q 3149 3059 3347 2726  L 3008 2496  Q 2835 2752 2579 2873  Q 2323 2995 2022 2995  Q 1664 2995 1376 2832  Q 1088 2669 921 2374  Q 755 2080 755 1683  Q 755 1286 921 992  Q 1088 698 1376 534  Q 1664 371 2022 371  Q 2323 371 2579 492  Q 2835 614 3008 864  L 3347 634  Q 3149 307 2803 137  Q 2458 -32 2029 -32  z \" transform=\"scale(0.015625)\"/>\n       <path id=\"Montserrat-Regular-28\" d=\"M 1408 -1242  Q 1056 -659 861 105  Q 666 870 666 1754  Q 666 2637 861 3408  Q 1056 4179 1408 4749  L 1843 4749  Q 1466 4090 1290 3350  Q 1114 2611 1114 1754  Q 1114 896 1290 157  Q 1466 -582 1843 -1242  L 1408 -1242  z \" transform=\"scale(0.015625)\"/>\n       <path id=\"Montserrat-Regular-66\" d=\"M 710 0  L 710 3782  Q 710 4230 972 4505  Q 1235 4781 1728 4781  Q 1920 4781 2099 4729  Q 2278 4678 2400 4570  L 2246 4230  Q 2150 4314 2022 4355  Q 1894 4397 1747 4397  Q 1459 4397 1305 4237  Q 1152 4077 1152 3763  L 1152 3251  L 1165 3040  L 1165 0  L 710 0  z M 109 2982  L 109 3360  L 2189 3360  L 2189 2982  L 109 2982  z \" transform=\"scale(0.015625)\"/>\n       <path id=\"Montserrat-Regular-32\" d=\"M 250 0  L 250 326  L 2112 2150  Q 2368 2400 2496 2589  Q 2624 2778 2669 2944  Q 2714 3110 2714 3258  Q 2714 3648 2448 3872  Q 2182 4096 1664 4096  Q 1267 4096 963 3974  Q 659 3853 442 3597  L 115 3878  Q 378 4186 787 4352  Q 1197 4518 1702 4518  Q 2157 4518 2489 4374  Q 2822 4230 3004 3955  Q 3187 3680 3187 3309  Q 3187 3091 3126 2880  Q 3066 2669 2909 2435  Q 2752 2202 2451 1907  L 742 230  L 614 410  L 3392 410  L 3392 0  L 250 0  z \" transform=\"scale(0.015625)\"/>\n       <path id=\"Montserrat-Regular-54\" d=\"M 1600 0  L 1600 4070  L 26 4070  L 26 4480  L 3648 4480  L 3648 4070  L 2074 4070  L 2074 0  L 1600 0  z \" transform=\"scale(0.015625)\"/>\n       <path id=\"Montserrat-Regular-65\" d=\"M 2061 -32  Q 1536 -32 1139 189  Q 742 410 518 797  Q 294 1184 294 1683  Q 294 2182 508 2566  Q 723 2950 1097 3171  Q 1472 3392 1939 3392  Q 2413 3392 2781 3177  Q 3149 2963 3360 2576  Q 3571 2189 3571 1683  Q 3571 1651 3568 1616  Q 3565 1581 3565 1542  L 640 1542  L 640 1882  L 3322 1882  L 3142 1747  Q 3142 2112 2985 2397  Q 2829 2682 2560 2842  Q 2291 3002 1939 3002  Q 1594 3002 1318 2842  Q 1043 2682 889 2394  Q 736 2106 736 1734  L 736 1664  Q 736 1280 905 989  Q 1075 698 1379 534  Q 1683 371 2074 371  Q 2381 371 2646 480  Q 2912 589 3104 813  L 3360 518  Q 3136 250 2800 109  Q 2464 -32 2061 -32  z \" transform=\"scale(0.015625)\"/>\n       <path id=\"Montserrat-Regular-56\" d=\"M 2003 0  L 19 4480  L 531 4480  L 2387 262  L 2106 262  L 3974 4480  L 4454 4480  L 2470 0  L 2003 0  z \" transform=\"scale(0.015625)\"/>\n       <path id=\"Montserrat-Regular-43\" d=\"M 2675 -38  Q 2170 -38 1741 131  Q 1312 301 998 608  Q 685 915 509 1331  Q 333 1747 333 2240  Q 333 2733 509 3149  Q 685 3565 1001 3872  Q 1318 4179 1747 4348  Q 2176 4518 2682 4518  Q 3168 4518 3597 4355  Q 4026 4192 4320 3866  L 4019 3565  Q 3744 3846 3411 3971  Q 3078 4096 2694 4096  Q 2291 4096 1945 3958  Q 1600 3821 1344 3568  Q 1088 3315 944 2979  Q 800 2643 800 2240  Q 800 1837 944 1501  Q 1088 1165 1344 912  Q 1600 659 1945 521  Q 2291 384 2694 384  Q 3078 384 3411 512  Q 3744 640 4019 922  L 4320 621  Q 4026 294 3597 128  Q 3168 -38 2675 -38  z \" transform=\"scale(0.015625)\"/>\n       <path id=\"Montserrat-Regular-29\" d=\"M 691 -1242  L 256 -1242  Q 640 -582 816 157  Q 992 896 992 1754  Q 992 2611 816 3350  Q 640 4090 256 4749  L 691 4749  Q 1056 4179 1248 3408  Q 1440 2637 1440 1754  Q 1440 870 1248 105  Q 1056 -659 691 -1242  z \" transform=\"scale(0.015625)\"/>\n      </defs>\n      <use xlink:href=\"#Montserrat-Regular-42\" transform=\"translate(0 0.976562)\"/>\n      <use xlink:href=\"#Montserrat-Regular-6f\" transform=\"translate(75.399994 0.976562)\"/>\n      <use xlink:href=\"#Montserrat-Regular-6e\" transform=\"translate(138.099991 0.976562)\"/>\n      <use xlink:href=\"#Montserrat-Regular-64\" transform=\"translate(205.699982 0.976562)\"/>\n      <use xlink:href=\"#Montserrat-Regular-20\" transform=\"translate(273.499969 0.976562)\"/>\n      <use xlink:href=\"#Montserrat-Regular-44\" transform=\"translate(299.699966 0.976562)\"/>\n      <use xlink:href=\"#Montserrat-Regular-69\" transform=\"translate(382.299957 0.976562)\"/>\n      <use xlink:href=\"#Montserrat-Regular-73\" transform=\"translate(409.199951 0.976562)\"/>\n      <use xlink:href=\"#Montserrat-Regular-74\" transform=\"translate(457.999939 0.976562)\"/>\n      <use xlink:href=\"#Montserrat-Regular-6f\" transform=\"translate(498.59993 0.976562)\"/>\n      <use xlink:href=\"#Montserrat-Regular-72\" transform=\"translate(561.299927 0.976562)\"/>\n      <use xlink:href=\"#Montserrat-Regular-74\" transform=\"translate(601.399918 0.976562)\"/>\n      <use xlink:href=\"#Montserrat-Regular-69\" transform=\"translate(641.999908 0.976562)\"/>\n      <use xlink:href=\"#Montserrat-Regular-6f\" transform=\"translate(668.899902 0.976562)\"/>\n      <use xlink:href=\"#Montserrat-Regular-6e\" transform=\"translate(731.599899 0.976562)\"/>\n      <use xlink:href=\"#Montserrat-Regular-20\" transform=\"translate(799.19989 0.976562)\"/>\n      <use xlink:href=\"#Montserrat-Regular-46\" transform=\"translate(825.399887 0.976562)\"/>\n      <use xlink:href=\"#Montserrat-Regular-61\" transform=\"translate(888.699875 0.976562)\"/>\n      <use xlink:href=\"#Montserrat-Regular-63\" transform=\"translate(947.69986 0.976562)\"/>\n      <use xlink:href=\"#Montserrat-Regular-74\" transform=\"translate(1003.999847 0.976562)\"/>\n      <use xlink:href=\"#Montserrat-Regular-6f\" transform=\"translate(1044.599838 0.976562)\"/>\n      <use xlink:href=\"#Montserrat-Regular-72\" transform=\"translate(1107.299835 0.976562)\"/>\n      <use xlink:href=\"#Montserrat-Regular-20\" transform=\"translate(1147.399826 0.976562)\"/>\n      <use xlink:href=\"#Montserrat-Regular-28\" transform=\"translate(1173.599823 0.976562)\"/>\n      <use xlink:href=\"#Montserrat-Regular-66\" transform=\"translate(1206.499817 0.976562)\"/>\n      <use xlink:href=\"#Montserrat-Regular-6f\" transform=\"translate(1240.399811 0.976562)\"/>\n      <use xlink:href=\"#Montserrat-Regular-72\" transform=\"translate(1303.099808 0.976562)\"/>\n      <use xlink:href=\"#Montserrat-Regular-20\" transform=\"translate(1343.199799 0.976562)\"/>\n      <use xlink:href=\"#Montserrat-Regular-32\" transform=\"translate(1369.399796 0.976562)\"/>\n      <use xlink:href=\"#Montserrat-Regular-20\" transform=\"translate(1426.199783 0.976562)\"/>\n      <use xlink:href=\"#Montserrat-Regular-54\" transform=\"translate(1452.39978 0.976562)\"/>\n      <use xlink:href=\"#Montserrat-Regular-65\" transform=\"translate(1509.799774 0.976562)\"/>\n      <use xlink:href=\"#Montserrat-Regular-20\" transform=\"translate(1570.199768 0.976562)\"/>\n      <use xlink:href=\"#Montserrat-Regular-6e\" transform=\"translate(1596.399765 0.976562)\"/>\n      <use xlink:href=\"#Montserrat-Regular-65\" transform=\"translate(1663.999756 0.976562)\"/>\n      <use xlink:href=\"#Montserrat-Regular-61\" transform=\"translate(1724.39975 0.976562)\"/>\n      <use xlink:href=\"#Montserrat-Regular-72\" transform=\"translate(1783.399734 0.976562)\"/>\n      <use xlink:href=\"#Montserrat-Regular-20\" transform=\"translate(1823.499725 0.976562)\"/>\n      <use xlink:href=\"#Montserrat-Regular-56\" transform=\"translate(1849.699722 0.976562)\"/>\n      <use xlink:href=\"#Montserrat-Regular-30\" transform=\"translate(1920.41846 39.584375) scale(0.7)\"/>\n      <use xlink:href=\"#Montserrat-Regular-43\" transform=\"translate(1920.41846 -25.273438) scale(0.7)\"/>\n      <use xlink:href=\"#Montserrat-Regular-64\" transform=\"translate(1970.748456 -25.273438) scale(0.7)\"/>\n      <use xlink:href=\"#Montserrat-Regular-29\" transform=\"translate(2020.833447 0.976562)\"/>\n     </g>\n    </g>\n   </g>\n   <g id=\"matplotlib.axis_2\">\n    <g id=\"ytick_1\">\n     <g id=\"line2d_14\">\n      <defs>\n       <path id=\"m37dd58d1f4\" d=\"M 0 0  L 12 0  \" style=\"stroke: #000000; stroke-width: 0.2\"/>\n      </defs>\n      <g>\n       <use xlink:href=\"#m37dd58d1f4\" x=\"59.362266\" y=\"334.62528\" style=\"stroke: #000000; stroke-width: 0.2\"/>\n      </g>\n     </g>\n     <g id=\"text_7\">\n      <!-- -0.8 -->\n      <g transform=\"translate(31.580547 338.89196) scale(0.115 -0.115)\">\n       <defs>\n        <path id=\"Montserrat-Regular-38\" d=\"M 2035 -38  Q 1498 -38 1110 115  Q 723 269 515 560  Q 307 851 307 1248  Q 307 1632 508 1904  Q 710 2176 1097 2323  Q 1485 2470 2035 2470  Q 2579 2470 2969 2323  Q 3360 2176 3568 1904  Q 3776 1632 3776 1248  Q 3776 851 3565 560  Q 3354 269 2963 115  Q 2573 -38 2035 -38  z M 2035 352  Q 2630 352 2966 595  Q 3302 838 3302 1254  Q 3302 1670 2966 1910  Q 2630 2150 2035 2150  Q 1440 2150 1107 1910  Q 774 1670 774 1254  Q 774 838 1107 595  Q 1440 352 2035 352  z M 2035 2208  Q 1536 2208 1187 2342  Q 838 2477 652 2729  Q 467 2982 467 3334  Q 467 3706 662 3971  Q 858 4237 1210 4377  Q 1562 4518 2035 4518  Q 2509 4518 2864 4377  Q 3219 4237 3417 3971  Q 3616 3706 3616 3334  Q 3616 2982 3430 2729  Q 3245 2477 2889 2342  Q 2534 2208 2035 2208  z M 2035 2515  Q 2560 2515 2854 2732  Q 3149 2950 3149 3315  Q 3149 3699 2845 3913  Q 2541 4128 2035 4128  Q 1530 4128 1229 3913  Q 928 3699 928 3322  Q 928 2950 1219 2732  Q 1510 2515 2035 2515  z \" transform=\"scale(0.015625)\"/>\n       </defs>\n       <use xlink:href=\"#Montserrat-Regular-2d\"/>\n       <use xlink:href=\"#Montserrat-Regular-30\" x=\"38.199997\"/>\n       <use xlink:href=\"#Montserrat-Regular-2e\" x=\"104.399994\"/>\n       <use xlink:href=\"#Montserrat-Regular-38\" x=\"125.599991\"/>\n      </g>\n     </g>\n    </g>\n    <g id=\"ytick_2\">\n     <g id=\"line2d_15\">\n      <g>\n       <use xlink:href=\"#m37dd58d1f4\" x=\"59.362266\" y=\"267.32146\" style=\"stroke: #000000; stroke-width: 0.2\"/>\n      </g>\n     </g>\n     <g id=\"text_8\">\n      <!-- -0.6 -->\n      <g transform=\"translate(31.912969 271.58814) scale(0.115 -0.115)\">\n       <use xlink:href=\"#Montserrat-Regular-2d\"/>\n       <use xlink:href=\"#Montserrat-Regular-30\" x=\"38.199997\"/>\n       <use xlink:href=\"#Montserrat-Regular-2e\" x=\"104.399994\"/>\n       <use xlink:href=\"#Montserrat-Regular-36\" x=\"125.599991\"/>\n      </g>\n     </g>\n    </g>\n    <g id=\"ytick_3\">\n     <g id=\"line2d_16\">\n      <g>\n       <use xlink:href=\"#m37dd58d1f4\" x=\"59.362266\" y=\"200.01764\" style=\"stroke: #000000; stroke-width: 0.2\"/>\n      </g>\n     </g>\n     <g id=\"text_9\">\n      <!-- -0.4 -->\n      <g transform=\"translate(31.316406 204.28432) scale(0.115 -0.115)\">\n       <defs>\n        <path id=\"Montserrat-Regular-34\" d=\"M 256 1178  L 256 1510  L 2630 4480  L 3142 4480  L 787 1510  L 538 1587  L 4141 1587  L 4141 1178  L 256 1178  z M 2784 0  L 2784 1178  L 2797 1587  L 2797 2624  L 3245 2624  L 3245 0  L 2784 0  z \" transform=\"scale(0.015625)\"/>\n       </defs>\n       <use xlink:href=\"#Montserrat-Regular-2d\"/>\n       <use xlink:href=\"#Montserrat-Regular-30\" x=\"38.199997\"/>\n       <use xlink:href=\"#Montserrat-Regular-2e\" x=\"104.399994\"/>\n       <use xlink:href=\"#Montserrat-Regular-34\" x=\"125.599991\"/>\n      </g>\n     </g>\n    </g>\n    <g id=\"ytick_4\">\n     <g id=\"line2d_17\">\n      <g>\n       <use xlink:href=\"#m37dd58d1f4\" x=\"59.362266\" y=\"132.71382\" style=\"stroke: #000000; stroke-width: 0.2\"/>\n      </g>\n     </g>\n     <g id=\"text_10\">\n      <!-- -0.2 -->\n      <g transform=\"translate(32.385547 136.9805) scale(0.115 -0.115)\">\n       <use xlink:href=\"#Montserrat-Regular-2d\"/>\n       <use xlink:href=\"#Montserrat-Regular-30\" x=\"38.199997\"/>\n       <use xlink:href=\"#Montserrat-Regular-2e\" x=\"104.399994\"/>\n       <use xlink:href=\"#Montserrat-Regular-32\" x=\"125.599991\"/>\n      </g>\n     </g>\n    </g>\n    <g id=\"ytick_5\">\n     <g id=\"line2d_18\">\n      <g>\n       <use xlink:href=\"#m37dd58d1f4\" x=\"59.362266\" y=\"65.41\" style=\"stroke: #000000; stroke-width: 0.2\"/>\n      </g>\n     </g>\n     <g id=\"text_11\">\n      <!-- 0.0 -->\n      <g transform=\"translate(35.697188 69.67668) scale(0.115 -0.115)\">\n       <use xlink:href=\"#Montserrat-Regular-30\"/>\n       <use xlink:href=\"#Montserrat-Regular-2e\" x=\"66.199997\"/>\n       <use xlink:href=\"#Montserrat-Regular-30\" x=\"87.399994\"/>\n      </g>\n     </g>\n    </g>\n    <g id=\"text_12\">\n     <!-- Energy (eV) -->\n     <g transform=\"translate(18.330469 235.954141) rotate(-90) scale(0.15 -0.15)\">\n      <defs>\n       <path id=\"Montserrat-Regular-45\" d=\"M 1152 2477  L 3520 2477  L 3520 2074  L 1152 2074  L 1152 2477  z M 1203 410  L 3898 410  L 3898 0  L 730 0  L 730 4480  L 3802 4480  L 3802 4070  L 1203 4070  L 1203 410  z \" transform=\"scale(0.015625)\"/>\n       <path id=\"Montserrat-Regular-67\" d=\"M 2067 -1274  Q 1606 -1274 1184 -1139  Q 762 -1005 499 -755  L 730 -410  Q 966 -621 1315 -745  Q 1664 -870 2054 -870  Q 2694 -870 2995 -572  Q 3296 -275 3296 352  L 3296 1190  L 3360 1766  L 3315 2342  L 3315 3360  L 3750 3360  L 3750 410  Q 3750 -461 3324 -867  Q 2899 -1274 2067 -1274  z M 1984 128  Q 1504 128 1120 336  Q 736 544 515 915  Q 294 1286 294 1766  Q 294 2246 515 2614  Q 736 2982 1120 3187  Q 1504 3392 1984 3392  Q 2432 3392 2790 3206  Q 3149 3021 3360 2656  Q 3571 2291 3571 1766  Q 3571 1242 3360 877  Q 3149 512 2790 320  Q 2432 128 1984 128  z M 2029 531  Q 2400 531 2688 688  Q 2976 845 3142 1123  Q 3309 1402 3309 1766  Q 3309 2131 3142 2406  Q 2976 2682 2688 2838  Q 2400 2995 2029 2995  Q 1664 2995 1373 2838  Q 1082 2682 918 2406  Q 755 2131 755 1766  Q 755 1402 918 1123  Q 1082 845 1373 688  Q 1664 531 2029 531  z \" transform=\"scale(0.015625)\"/>\n       <path id=\"Montserrat-Regular-79\" d=\"M 659 -1274  Q 422 -1274 208 -1197  Q -6 -1120 -160 -966  L 51 -627  Q 179 -749 329 -816  Q 480 -883 666 -883  Q 890 -883 1053 -758  Q 1216 -634 1363 -320  L 1581 173  L 1632 243  L 3014 3360  L 3462 3360  L 1779 -403  Q 1638 -730 1468 -922  Q 1299 -1114 1100 -1194  Q 902 -1274 659 -1274  z M 1555 -96  L 6 3360  L 480 3360  L 1850 275  L 1555 -96  z \" transform=\"scale(0.015625)\"/>\n      </defs>\n      <use xlink:href=\"#Montserrat-Regular-45\"/>\n      <use xlink:href=\"#Montserrat-Regular-6e\" x=\"66.899994\"/>\n      <use xlink:href=\"#Montserrat-Regular-65\" x=\"134.499985\"/>\n      <use xlink:href=\"#Montserrat-Regular-72\" x=\"194.899979\"/>\n      <use xlink:href=\"#Montserrat-Regular-67\" x=\"234.999969\"/>\n      <use xlink:href=\"#Montserrat-Regular-79\" x=\"303.499954\"/>\n      <use xlink:href=\"#Montserrat-Regular-20\" x=\"357.699951\"/>\n      <use xlink:href=\"#Montserrat-Regular-28\" x=\"383.899948\"/>\n      <use xlink:href=\"#Montserrat-Regular-65\" x=\"416.799942\"/>\n      <use xlink:href=\"#Montserrat-Regular-56\" x=\"477.199936\"/>\n      <use xlink:href=\"#Montserrat-Regular-29\" x=\"546.999924\"/>\n     </g>\n    </g>\n   </g>\n   <g id=\"line2d_19\">\n    <path d=\"M 74.580447 319.51  L 99.944084 67.131924  L 125.30772 319.416555  L 150.671357 319.357086  L 176.034993 66.623182  L 201.398629 66.543713  L 226.762266 66.551173  L 252.125902 66.543713  L 277.489538 66.623182  L 302.853175 66.623182  L 328.216811 66.623182  L 353.580447 66.623182  L 378.944084 66.623182  \" clip-path=\"url(#p7b8f869a36)\" style=\"fill: none; stroke: #59a590; stroke-linecap: square\"/>\n    <defs>\n     <path id=\"mbc46261d33\" d=\"M 0 3  C 0.795609 3 1.55874 2.683901 2.12132 2.12132  C 2.683901 1.55874 3 0.795609 3 0  C 3 -0.795609 2.683901 -1.55874 2.12132 -2.12132  C 1.55874 -2.683901 0.795609 -3 0 -3  C -0.795609 -3 -1.55874 -2.683901 -2.12132 -2.12132  C -2.683901 -1.55874 -3 -0.795609 -3 0  C -3 0.795609 -2.683901 1.55874 -2.12132 2.12132  C -1.55874 2.683901 -0.795609 3 0 3  z \" style=\"stroke: #59a590\"/>\n    </defs>\n    <g clip-path=\"url(#p7b8f869a36)\">\n     <use xlink:href=\"#mbc46261d33\" x=\"74.580447\" y=\"319.51\" style=\"fill: #59a590; stroke: #59a590\"/>\n     <use xlink:href=\"#mbc46261d33\" x=\"99.944084\" y=\"67.131924\" style=\"fill: #59a590; stroke: #59a590\"/>\n     <use xlink:href=\"#mbc46261d33\" x=\"125.30772\" y=\"319.416555\" style=\"fill: #59a590; stroke: #59a590\"/>\n     <use xlink:href=\"#mbc46261d33\" x=\"150.671357\" y=\"319.357086\" style=\"fill: #59a590; stroke: #59a590\"/>\n     <use xlink:href=\"#mbc46261d33\" x=\"176.034993\" y=\"66.623182\" style=\"fill: #59a590; stroke: #59a590\"/>\n     <use xlink:href=\"#mbc46261d33\" x=\"201.398629\" y=\"66.543713\" style=\"fill: #59a590; stroke: #59a590\"/>\n     <use xlink:href=\"#mbc46261d33\" x=\"226.762266\" y=\"66.551173\" style=\"fill: #59a590; stroke: #59a590\"/>\n     <use xlink:href=\"#mbc46261d33\" x=\"252.125902\" y=\"66.543713\" style=\"fill: #59a590; stroke: #59a590\"/>\n     <use xlink:href=\"#mbc46261d33\" x=\"277.489538\" y=\"66.623182\" style=\"fill: #59a590; stroke: #59a590\"/>\n     <use xlink:href=\"#mbc46261d33\" x=\"302.853175\" y=\"66.623182\" style=\"fill: #59a590; stroke: #59a590\"/>\n     <use xlink:href=\"#mbc46261d33\" x=\"328.216811\" y=\"66.623182\" style=\"fill: #59a590; stroke: #59a590\"/>\n     <use xlink:href=\"#mbc46261d33\" x=\"353.580447\" y=\"66.623182\" style=\"fill: #59a590; stroke: #59a590\"/>\n     <use xlink:href=\"#mbc46261d33\" x=\"378.944084\" y=\"66.623182\" style=\"fill: #59a590; stroke: #59a590\"/>\n    </g>\n   </g>\n   <g id=\"line2d_20\">\n    <defs>\n     <path id=\"m48ed544359\" d=\"M -0 6.363961  L 3.818377 0  L 0 -6.363961  L -3.818377 -0  z \" style=\"stroke: #59a590; stroke-linejoin: miter\"/>\n    </defs>\n    <g clip-path=\"url(#p7b8f869a36)\">\n     <use xlink:href=\"#m48ed544359\" x=\"226.762266\" y=\"65.41\" style=\"fill: #59a590; stroke: #59a590; stroke-linejoin: miter\"/>\n    </g>\n   </g>\n   <g id=\"patch_3\">\n    <path d=\"M 59.362266 344.92  L 59.362266 40  \" style=\"fill: none; stroke: #000000; stroke-width: 0.5; stroke-linejoin: miter; stroke-linecap: square\"/>\n   </g>\n   <g id=\"patch_4\">\n    <path d=\"M 394.162266 344.92  L 394.162266 40  \" style=\"fill: none; stroke: #000000; stroke-width: 0.5; stroke-linejoin: miter; stroke-linecap: square\"/>\n   </g>\n   <g id=\"patch_5\">\n    <path d=\"M 59.362266 344.92  L 394.162266 344.92  \" style=\"fill: none; stroke: #000000; stroke-width: 0.5; stroke-linejoin: miter; stroke-linecap: square\"/>\n   </g>\n   <g id=\"patch_6\">\n    <path d=\"M 59.362266 40  L 394.162266 40  \" style=\"fill: none; stroke: #000000; stroke-width: 0.5; stroke-linejoin: miter; stroke-linecap: square\"/>\n   </g>\n   <g id=\"text_13\">\n    <!-- $V_{Cd}^{0}$ -->\n    <g transform=\"translate(209.562266 25) scale(0.2 -0.2)\">\n     <use xlink:href=\"#Montserrat-Regular-56\" transform=\"translate(0 0.976562)\"/>\n     <use xlink:href=\"#Montserrat-Regular-30\" transform=\"translate(70.718738 39.584375) scale(0.7)\"/>\n     <use xlink:href=\"#Montserrat-Regular-43\" transform=\"translate(70.718738 -25.273438) scale(0.7)\"/>\n     <use xlink:href=\"#Montserrat-Regular-64\" transform=\"translate(121.048734 -25.273438) scale(0.7)\"/>\n    </g>\n   </g>\n   <g id=\"legend_1\">\n    <g id=\"patch_7\">\n     <path d=\"M 250.317266 338.42  L 385.062266 338.42  Q 387.662266 338.42 387.662266 335.82  L 387.662266 299.781562  Q 387.662266 297.181562 385.062266 297.181562  L 250.317266 297.181562  Q 247.717266 297.181562 247.717266 299.781562  L 247.717266 335.82  Q 247.717266 338.42 250.317266 338.42  z \" style=\"fill: #ffffff; opacity: 0.8; stroke: #cccccc; stroke-linejoin: miter\"/>\n    </g>\n    <g id=\"line2d_21\">\n     <path d=\"M 252.917266 307.477969  L 260.717266 307.477969  L 268.517266 307.477969  \" style=\"fill: none; stroke: #59a590; stroke-linecap: square\"/>\n     <g>\n      <use xlink:href=\"#mbc46261d33\" x=\"260.717266\" y=\"307.477969\" style=\"fill: #59a590; stroke: #59a590\"/>\n     </g>\n    </g>\n    <g id=\"text_14\">\n     <!-- Distortions: 2 Te -->\n     <g transform=\"translate(278.917266 312.027969) scale(0.13 -0.13)\">\n      <defs>\n       <path id=\"Montserrat-Regular-3a\" d=\"M 678 2720  Q 538 2720 438 2822  Q 339 2925 339 3072  Q 339 3226 438 3322  Q 538 3418 678 3418  Q 819 3418 918 3322  Q 1018 3226 1018 3072  Q 1018 2925 918 2822  Q 819 2720 678 2720  z M 678 -32  Q 538 -32 438 70  Q 339 173 339 320  Q 339 474 438 570  Q 538 666 678 666  Q 819 666 918 570  Q 1018 474 1018 320  Q 1018 173 918 70  Q 819 -32 678 -32  z \" transform=\"scale(0.015625)\"/>\n      </defs>\n      <use xlink:href=\"#Montserrat-Regular-44\"/>\n      <use xlink:href=\"#Montserrat-Regular-69\" x=\"82.599991\"/>\n      <use xlink:href=\"#Montserrat-Regular-73\" x=\"109.499985\"/>\n      <use xlink:href=\"#Montserrat-Regular-74\" x=\"158.299973\"/>\n      <use xlink:href=\"#Montserrat-Regular-6f\" x=\"198.899963\"/>\n      <use xlink:href=\"#Montserrat-Regular-72\" x=\"261.59996\"/>\n      <use xlink:href=\"#Montserrat-Regular-74\" x=\"301.699951\"/>\n      <use xlink:href=\"#Montserrat-Regular-69\" x=\"342.299942\"/>\n      <use xlink:href=\"#Montserrat-Regular-6f\" x=\"369.199936\"/>\n      <use xlink:href=\"#Montserrat-Regular-6e\" x=\"431.899933\"/>\n      <use xlink:href=\"#Montserrat-Regular-73\" x=\"499.499924\"/>\n      <use xlink:href=\"#Montserrat-Regular-3a\" x=\"548.299911\"/>\n      <use xlink:href=\"#Montserrat-Regular-20\" x=\"569.499908\"/>\n      <use xlink:href=\"#Montserrat-Regular-32\" x=\"595.699905\"/>\n      <use xlink:href=\"#Montserrat-Regular-20\" x=\"652.499893\"/>\n      <use xlink:href=\"#Montserrat-Regular-54\" x=\"678.69989\"/>\n      <use xlink:href=\"#Montserrat-Regular-65\" x=\"736.099884\"/>\n     </g>\n    </g>\n    <g id=\"line2d_22\">\n     <g>\n      <use xlink:href=\"#m48ed544359\" x=\"260.717266\" y=\"326.147187\" style=\"fill: #59a590; stroke: #59a590; stroke-linejoin: miter\"/>\n     </g>\n    </g>\n    <g id=\"text_15\">\n     <!-- Unperturbed -->\n     <g transform=\"translate(278.917266 330.697187) scale(0.13 -0.13)\">\n      <defs>\n       <path id=\"Montserrat-Regular-55\" d=\"M 2534 -38  Q 1677 -38 1184 454  Q 691 947 691 1914  L 691 4480  L 1165 4480  L 1165 1933  Q 1165 1139 1523 761  Q 1882 384 2534 384  Q 3194 384 3552 761  Q 3910 1139 3910 1933  L 3910 4480  L 4371 4480  L 4371 1914  Q 4371 947 3881 454  Q 3392 -38 2534 -38  z \" transform=\"scale(0.015625)\"/>\n       <path id=\"Montserrat-Regular-70\" d=\"M 2368 -32  Q 1933 -32 1581 169  Q 1229 371 1021 752  Q 813 1133 813 1683  Q 813 2234 1017 2614  Q 1222 2995 1574 3193  Q 1926 3392 2368 3392  Q 2848 3392 3229 3177  Q 3610 2963 3827 2576  Q 4045 2189 4045 1683  Q 4045 1171 3827 787  Q 3610 403 3229 185  Q 2848 -32 2368 -32  z M 634 -1242  L 634 3360  L 1069 3360  L 1069 2349  L 1024 1677  L 1088 998  L 1088 -1242  L 634 -1242  z M 2336 371  Q 2694 371 2976 534  Q 3258 698 3424 995  Q 3590 1293 3590 1683  Q 3590 2074 3424 2368  Q 3258 2662 2976 2828  Q 2694 2995 2336 2995  Q 1978 2995 1693 2828  Q 1408 2662 1245 2368  Q 1082 2074 1082 1683  Q 1082 1293 1245 995  Q 1408 698 1693 534  Q 1978 371 2336 371  z \" transform=\"scale(0.015625)\"/>\n       <path id=\"Montserrat-Regular-75\" d=\"M 2022 -32  Q 1594 -32 1274 128  Q 954 288 778 608  Q 602 928 602 1408  L 602 3360  L 1056 3360  L 1056 1459  Q 1056 922 1321 650  Q 1587 378 2067 378  Q 2419 378 2678 522  Q 2938 666 3075 941  Q 3213 1216 3213 1600  L 3213 3360  L 3667 3360  L 3667 0  L 3232 0  L 3232 922  L 3302 755  Q 3142 384 2806 176  Q 2470 -32 2022 -32  z \" transform=\"scale(0.015625)\"/>\n       <path id=\"Montserrat-Regular-62\" d=\"M 2368 -32  Q 1926 -32 1574 169  Q 1222 371 1017 755  Q 813 1139 813 1683  Q 813 2234 1021 2614  Q 1229 2995 1581 3193  Q 1933 3392 2368 3392  Q 2848 3392 3229 3177  Q 3610 2963 3827 2579  Q 4045 2195 4045 1683  Q 4045 1178 3827 790  Q 3610 403 3229 185  Q 2848 -32 2368 -32  z M 634 0  L 634 4749  L 1088 4749  L 1088 2368  L 1024 1690  L 1069 1011  L 1069 0  L 634 0  z M 2336 371  Q 2694 371 2976 534  Q 3258 698 3424 995  Q 3590 1293 3590 1683  Q 3590 2080 3424 2374  Q 3258 2669 2976 2832  Q 2694 2995 2336 2995  Q 1978 2995 1693 2832  Q 1408 2669 1245 2374  Q 1082 2080 1082 1683  Q 1082 1293 1245 995  Q 1408 698 1693 534  Q 1978 371 2336 371  z \" transform=\"scale(0.015625)\"/>\n      </defs>\n      <use xlink:href=\"#Montserrat-Regular-55\"/>\n      <use xlink:href=\"#Montserrat-Regular-6e\" x=\"79.199982\"/>\n      <use xlink:href=\"#Montserrat-Regular-70\" x=\"146.799973\"/>\n      <use xlink:href=\"#Montserrat-Regular-65\" x=\"214.59996\"/>\n      <use xlink:href=\"#Montserrat-Regular-72\" x=\"274.999954\"/>\n      <use xlink:href=\"#Montserrat-Regular-74\" x=\"315.099945\"/>\n      <use xlink:href=\"#Montserrat-Regular-75\" x=\"355.699936\"/>\n      <use xlink:href=\"#Montserrat-Regular-72\" x=\"422.899933\"/>\n      <use xlink:href=\"#Montserrat-Regular-62\" x=\"462.999924\"/>\n      <use xlink:href=\"#Montserrat-Regular-65\" x=\"530.799911\"/>\n      <use xlink:href=\"#Montserrat-Regular-64\" x=\"591.199905\"/>\n     </g>\n    </g>\n   </g>\n  </g>\n </g>\n <defs>\n  <clipPath id=\"p7b8f869a36\">\n   <rect x=\"59.362266\" y=\"40\" width=\"334.8\" height=\"304.92\"/>\n  </clipPath>\n </defs>\n</svg>",
      "text/plain": [
       "<IPython.core.display.SVG object>"
      ]
     },
     "execution_count": 72,
     "metadata": {},
     "output_type": "execute_result"
    }
   ],
   "source": [
    "SVG(filename=\"./v_Cd_0/v_Cd_0.svg\")"
   ]
  },
  {
   "cell_type": "markdown",
   "id": "10d1951b-e433-4890-9495-e04b1d38a0e0",
   "metadata": {
    "pycharm": {
     "name": "#%% md\n"
    }
   },
   "source": [
    "This prints the distortion plots for all defects where a significant energy lowering distortion, relative to the standard unperturbed relaxation, was identified. The threshold energy difference to consider as 'significant' is controlled by the `min_e_diff` optional parameter (default = 0.05 eV)."
   ]
  },
  {
   "cell_type": "markdown",
   "id": "fed3f81c-d447-40aa-a35c-1b0441173460",
   "metadata": {
    "pycharm": {
     "name": "#%% md\n"
    },
    "tags": []
   },
   "source": [
    "### Can also add a colorbar \n",
    "These plots can be made more informative by adding a colorbar showing the structural similarity between the relaxed structures.   \n",
    "For this you need the `CONTCAR`'s obtained with each distortion (as mentioned above).\n",
    "\n",
    "For the colorbar structure comparison metric, you can either use:\n",
    "* summed root mean squared displacement (`metric` = `disp`)\n",
    "* maximum distance between matching sites (`metric` = `max_dist`, default).   "
   ]
  },
  {
   "cell_type": "code",
   "execution_count": 73,
   "id": "8c4ab021-6a67-4429-86d7-7606edbf4992",
   "metadata": {
    "pycharm": {
     "name": "#%%\n"
    }
   },
   "outputs": [
    {
     "name": "stdout",
     "output_type": "stream",
     "text": [
      "Comparing structures to Unperturbed...\n",
      "Previous version of v_Cd_-1.svg found in output_path: 'v_Cd_-1/'. Will rename old plot to v_Cd_-1_2022-10-19-11-12.svg.\n",
      "Plot saved to v_Cd_-1/v_Cd_-1.svg\n",
      "Comparing structures to Unperturbed...\n",
      "Previous version of v_Cd_0.svg found in output_path: 'v_Cd_0/'. Will rename old plot to v_Cd_0_2022-10-19-11-12.svg.\n",
      "Plot saved to v_Cd_0/v_Cd_0.svg\n"
     ]
    },
    {
     "name": "stderr",
     "output_type": "stream",
     "text": [
      "plotting.py:1225: UserWarning: Path ./v_Ti_0/v_Ti_0.yaml does not exist. Skipping v_Ti_0.\n"
     ]
    }
   ],
   "source": [
    "figs = plotting.plot_all_defects(\n",
    "    defect_charges_dict,\n",
    "    add_colorbar=True\n",
    ")"
   ]
  },
  {
   "cell_type": "code",
   "execution_count": 74,
   "id": "9fd087df",
   "metadata": {},
   "outputs": [
    {
     "data": {
      "image/svg+xml": "<svg xmlns:xlink=\"http://www.w3.org/1999/xlink\" xmlns=\"http://www.w3.org/2000/svg\" width=\"427.745344pt\" height=\"368.565078pt\" viewBox=\"0 0 427.745344 368.565078\" version=\"1.1\">\n <metadata>\n  <rdf:RDF xmlns:dc=\"http://purl.org/dc/elements/1.1/\" xmlns:cc=\"http://creativecommons.org/ns#\" xmlns:rdf=\"http://www.w3.org/1999/02/22-rdf-syntax-ns#\">\n   <cc:Work>\n    <dc:type rdf:resource=\"http://purl.org/dc/dcmitype/StillImage\"/>\n    <dc:date>2022-10-19T11:12:55.418791</dc:date>\n    <dc:format>image/svg+xml</dc:format>\n    <dc:creator>\n     <cc:Agent>\n      <dc:title>Matplotlib v3.6.1, https://matplotlib.org/</dc:title>\n     </cc:Agent>\n    </dc:creator>\n   </cc:Work>\n  </rdf:RDF>\n </metadata>\n <defs>\n  <style type=\"text/css\">*{stroke-linejoin: round; stroke-linecap: butt}</style>\n </defs>\n <g id=\"figure_1\">\n  <g id=\"patch_1\">\n   <path d=\"M 0 368.565078  L 427.745344 368.565078  L 427.745344 0  L 0 0  L 0 368.565078  z \" style=\"fill: none\"/>\n  </g>\n  <g id=\"axes_1\">\n   <g id=\"patch_2\">\n    <path d=\"M 59.362266 317.2  L 353.149266 317.2  L 353.149266 40  L 59.362266 40  L 59.362266 317.2  z \" style=\"fill: none\"/>\n   </g>\n   <g id=\"PathCollection_1\">\n    <defs>\n     <path id=\"C0_0_c2d9f9bb2a\" d=\"M 0 3.535534  C 0.937635 3.535534 1.836992 3.163008 2.5 2.5  C 3.163008 1.836992 3.535534 0.937635 3.535534 -0  C 3.535534 -0.937635 3.163008 -1.836992 2.5 -2.5  C 1.836992 -3.163008 0.937635 -3.535534 0 -3.535534  C -0.937635 -3.535534 -1.836992 -3.163008 -2.5 -2.5  C -3.163008 -1.836992 -3.535534 -0.937635 -3.535534 0  C -3.535534 0.937635 -3.163008 1.836992 -2.5 2.5  C -1.836992 3.163008 -0.937635 3.535534 0 3.535534  z \"/>\n    </defs>\n    <g clip-path=\"url(#p2d7a982fa3)\">\n     <use xlink:href=\"#C0_0_c2d9f9bb2a\" x=\"72.71622\" y=\"294.1\" style=\"fill: #37476c; stroke: #37476c\"/>\n    </g>\n    <g clip-path=\"url(#p2d7a982fa3)\">\n     <use xlink:href=\"#C0_0_c2d9f9bb2a\" x=\"94.972811\" y=\"64.665386\" style=\"fill: #b5bd8c; stroke: #b5bd8c\"/>\n    </g>\n    <g clip-path=\"url(#p2d7a982fa3)\">\n     <use xlink:href=\"#C0_0_c2d9f9bb2a\" x=\"117.229402\" y=\"294.01505\" style=\"fill: #37476c; stroke: #37476c\"/>\n    </g>\n    <g clip-path=\"url(#p2d7a982fa3)\">\n     <use xlink:href=\"#C0_0_c2d9f9bb2a\" x=\"139.485993\" y=\"293.960987\" style=\"fill: #37476c; stroke: #37476c\"/>\n    </g>\n    <g clip-path=\"url(#p2d7a982fa3)\">\n     <use xlink:href=\"#C0_0_c2d9f9bb2a\" x=\"161.742584\" y=\"64.202892\" style=\"fill: #b3bc8a; stroke: #b3bc8a\"/>\n    </g>\n    <g clip-path=\"url(#p2d7a982fa3)\">\n     <use xlink:href=\"#C0_0_c2d9f9bb2a\" x=\"183.999175\" y=\"64.130648\" style=\"fill: #b3bc8a; stroke: #b3bc8a\"/>\n    </g>\n    <g clip-path=\"url(#p2d7a982fa3)\">\n     <use xlink:href=\"#C0_0_c2d9f9bb2a\" x=\"206.255766\" y=\"64.13743\" style=\"fill: #b3bc8a; stroke: #b3bc8a\"/>\n    </g>\n    <g clip-path=\"url(#p2d7a982fa3)\">\n     <use xlink:href=\"#C0_0_c2d9f9bb2a\" x=\"228.512357\" y=\"64.130648\" style=\"fill: #78ab75; stroke: #78ab75\"/>\n    </g>\n    <g clip-path=\"url(#p2d7a982fa3)\">\n     <use xlink:href=\"#C0_0_c2d9f9bb2a\" x=\"250.768947\" y=\"64.202892\" style=\"fill: #78ab75; stroke: #78ab75\"/>\n    </g>\n    <g clip-path=\"url(#p2d7a982fa3)\">\n     <use xlink:href=\"#C0_0_c2d9f9bb2a\" x=\"273.025538\" y=\"64.202892\" style=\"fill: #78ab75; stroke: #78ab75\"/>\n    </g>\n    <g clip-path=\"url(#p2d7a982fa3)\">\n     <use xlink:href=\"#C0_0_c2d9f9bb2a\" x=\"295.282129\" y=\"64.202892\" style=\"fill: #78ab75; stroke: #78ab75\"/>\n    </g>\n    <g clip-path=\"url(#p2d7a982fa3)\">\n     <use xlink:href=\"#C0_0_c2d9f9bb2a\" x=\"317.53872\" y=\"64.202892\" style=\"fill: #78ab75; stroke: #78ab75\"/>\n    </g>\n    <g clip-path=\"url(#p2d7a982fa3)\">\n     <use xlink:href=\"#C0_0_c2d9f9bb2a\" x=\"339.795311\" y=\"64.202892\" style=\"fill: #78ab75; stroke: #78ab75\"/>\n    </g>\n   </g>\n   <g id=\"PathCollection_2\">\n    <defs>\n     <path id=\"mc5ccaef9e1\" d=\"M -0 7.745967  L 4.64758 0  L 0 -7.745967  L -4.64758 -0  z \" style=\"stroke: #bbbe90\"/>\n    </defs>\n    <g clip-path=\"url(#p2d7a982fa3)\">\n     <use xlink:href=\"#mc5ccaef9e1\" x=\"206.255766\" y=\"63.1\" style=\"fill: #bbbe90; stroke: #bbbe90\"/>\n    </g>\n   </g>\n   <g id=\"matplotlib.axis_1\">\n    <g id=\"xtick_1\">\n     <g id=\"line2d_1\">\n      <defs>\n       <path id=\"me4c551c026\" d=\"M 0 0  L 0 -12  \" style=\"stroke: #000000; stroke-width: 0.2\"/>\n      </defs>\n      <g>\n       <use xlink:href=\"#me4c551c026\" x=\"72.71622\" y=\"317.2\" style=\"stroke: #000000; stroke-width: 0.2\"/>\n      </g>\n     </g>\n     <g id=\"text_1\">\n      <!-- -0.6 -->\n      <g transform=\"translate(61.991572 331.733359) scale(0.115 -0.115)\">\n       <defs>\n        <path id=\"Montserrat-Regular-2d\" d=\"M 384 1536  L 384 1933  L 2061 1933  L 2061 1536  L 384 1536  z \" transform=\"scale(0.015625)\"/>\n        <path id=\"Montserrat-Regular-30\" d=\"M 2118 -38  Q 1600 -38 1197 234  Q 794 506 563 1014  Q 333 1523 333 2240  Q 333 2957 563 3465  Q 794 3974 1197 4246  Q 1600 4518 2118 4518  Q 2637 4518 3040 4246  Q 3443 3974 3676 3465  Q 3910 2957 3910 2240  Q 3910 1523 3676 1014  Q 3443 506 3040 234  Q 2637 -38 2118 -38  z M 2118 384  Q 2515 384 2809 598  Q 3104 813 3270 1225  Q 3437 1638 3437 2240  Q 3437 2842 3270 3254  Q 3104 3667 2809 3881  Q 2515 4096 2118 4096  Q 1734 4096 1433 3881  Q 1133 3667 966 3254  Q 800 2842 800 2240  Q 800 1638 966 1225  Q 1133 813 1433 598  Q 1734 384 2118 384  z \" transform=\"scale(0.015625)\"/>\n        <path id=\"Montserrat-Regular-2e\" d=\"M 678 -32  Q 538 -32 438 70  Q 339 173 339 320  Q 339 474 438 570  Q 538 666 678 666  Q 819 666 918 570  Q 1018 474 1018 320  Q 1018 173 918 70  Q 819 -32 678 -32  z \" transform=\"scale(0.015625)\"/>\n        <path id=\"Montserrat-Regular-36\" d=\"M 2170 -38  Q 1574 -38 1164 227  Q 755 493 544 995  Q 333 1498 333 2202  Q 333 2963 592 3478  Q 851 3994 1312 4256  Q 1773 4518 2381 4518  Q 2682 4518 2957 4460  Q 3232 4403 3443 4275  L 3258 3904  Q 3085 4019 2861 4067  Q 2637 4115 2387 4115  Q 1664 4115 1232 3654  Q 800 3194 800 2278  Q 800 2138 816 1930  Q 832 1722 890 1517  L 730 1638  Q 800 1971 1005 2204  Q 1210 2438 1517 2560  Q 1824 2682 2189 2682  Q 2637 2682 2976 2515  Q 3315 2349 3507 2048  Q 3699 1747 3699 1338  Q 3699 922 3500 611  Q 3302 301 2953 131  Q 2605 -38 2170 -38  z M 2150 352  Q 2470 352 2716 470  Q 2963 589 3104 809  Q 3245 1030 3245 1325  Q 3245 1766 2941 2028  Q 2637 2291 2118 2291  Q 1773 2291 1517 2163  Q 1261 2035 1113 1814  Q 966 1594 966 1312  Q 966 1069 1100 848  Q 1235 627 1500 489  Q 1766 352 2150 352  z \" transform=\"scale(0.015625)\"/>\n       </defs>\n       <use xlink:href=\"#Montserrat-Regular-2d\"/>\n       <use xlink:href=\"#Montserrat-Regular-30\" x=\"38.199997\"/>\n       <use xlink:href=\"#Montserrat-Regular-2e\" x=\"104.399994\"/>\n       <use xlink:href=\"#Montserrat-Regular-36\" x=\"125.599991\"/>\n      </g>\n     </g>\n    </g>\n    <g id=\"xtick_2\">\n     <g id=\"line2d_2\">\n      <g>\n       <use xlink:href=\"#me4c551c026\" x=\"139.485993\" y=\"317.2\" style=\"stroke: #000000; stroke-width: 0.2\"/>\n      </g>\n     </g>\n     <g id=\"text_2\">\n      <!-- -0.3 -->\n      <g transform=\"translate(129.020094 331.733359) scale(0.115 -0.115)\">\n       <defs>\n        <path id=\"Montserrat-Regular-33\" d=\"M 1670 -38  Q 1184 -38 752 118  Q 320 275 58 538  L 282 902  Q 499 678 867 531  Q 1235 384 1670 384  Q 2227 384 2524 627  Q 2822 870 2822 1280  Q 2822 1690 2531 1933  Q 2240 2176 1613 2176  L 1293 2176  L 1293 2515  L 2675 4250  L 2739 4070  L 243 4070  L 243 4480  L 3123 4480  L 3123 4154  L 1741 2419  L 1517 2566  L 1690 2566  Q 2496 2566 2896 2208  Q 3296 1850 3296 1286  Q 3296 909 3117 608  Q 2938 307 2576 134  Q 2214 -38 1670 -38  z \" transform=\"scale(0.015625)\"/>\n       </defs>\n       <use xlink:href=\"#Montserrat-Regular-2d\"/>\n       <use xlink:href=\"#Montserrat-Regular-30\" x=\"38.199997\"/>\n       <use xlink:href=\"#Montserrat-Regular-2e\" x=\"104.399994\"/>\n       <use xlink:href=\"#Montserrat-Regular-33\" x=\"125.599991\"/>\n      </g>\n     </g>\n    </g>\n    <g id=\"xtick_3\">\n     <g id=\"line2d_3\">\n      <g>\n       <use xlink:href=\"#me4c551c026\" x=\"206.255766\" y=\"317.2\" style=\"stroke: #000000; stroke-width: 0.2\"/>\n      </g>\n     </g>\n     <g id=\"text_3\">\n      <!-- 0.0 -->\n      <g transform=\"translate(197.423227 331.733359) scale(0.115 -0.115)\">\n       <use xlink:href=\"#Montserrat-Regular-30\"/>\n       <use xlink:href=\"#Montserrat-Regular-2e\" x=\"66.199997\"/>\n       <use xlink:href=\"#Montserrat-Regular-30\" x=\"87.399994\"/>\n      </g>\n     </g>\n    </g>\n    <g id=\"xtick_4\">\n     <g id=\"line2d_4\">\n      <g>\n       <use xlink:href=\"#me4c551c026\" x=\"273.025538\" y=\"317.2\" style=\"stroke: #000000; stroke-width: 0.2\"/>\n      </g>\n     </g>\n     <g id=\"text_4\">\n      <!-- 0.3 -->\n      <g transform=\"translate(264.75632 331.733359) scale(0.115 -0.115)\">\n       <use xlink:href=\"#Montserrat-Regular-30\"/>\n       <use xlink:href=\"#Montserrat-Regular-2e\" x=\"66.199997\"/>\n       <use xlink:href=\"#Montserrat-Regular-33\" x=\"87.399994\"/>\n      </g>\n     </g>\n    </g>\n    <g id=\"xtick_5\">\n     <g id=\"line2d_5\">\n      <g>\n       <use xlink:href=\"#me4c551c026\" x=\"339.795311\" y=\"317.2\" style=\"stroke: #000000; stroke-width: 0.2\"/>\n      </g>\n     </g>\n     <g id=\"text_5\">\n      <!-- 0.6 -->\n      <g transform=\"translate(331.267342 331.733359) scale(0.115 -0.115)\">\n       <use xlink:href=\"#Montserrat-Regular-30\"/>\n       <use xlink:href=\"#Montserrat-Regular-2e\" x=\"66.199997\"/>\n       <use xlink:href=\"#Montserrat-Regular-36\" x=\"87.399994\"/>\n      </g>\n     </g>\n    </g>\n    <g id=\"xtick_6\">\n     <g id=\"line2d_6\">\n      <defs>\n       <path id=\"m4125daa0f7\" d=\"M 0 0  L 0 -5  \" style=\"stroke: #000000; stroke-width: 0.2\"/>\n      </defs>\n      <g>\n       <use xlink:href=\"#m4125daa0f7\" x=\"94.972811\" y=\"317.2\" style=\"stroke: #000000; stroke-width: 0.2\"/>\n      </g>\n     </g>\n    </g>\n    <g id=\"xtick_7\">\n     <g id=\"line2d_7\">\n      <g>\n       <use xlink:href=\"#m4125daa0f7\" x=\"117.229402\" y=\"317.2\" style=\"stroke: #000000; stroke-width: 0.2\"/>\n      </g>\n     </g>\n    </g>\n    <g id=\"xtick_8\">\n     <g id=\"line2d_8\">\n      <g>\n       <use xlink:href=\"#m4125daa0f7\" x=\"161.742584\" y=\"317.2\" style=\"stroke: #000000; stroke-width: 0.2\"/>\n      </g>\n     </g>\n    </g>\n    <g id=\"xtick_9\">\n     <g id=\"line2d_9\">\n      <g>\n       <use xlink:href=\"#m4125daa0f7\" x=\"183.999175\" y=\"317.2\" style=\"stroke: #000000; stroke-width: 0.2\"/>\n      </g>\n     </g>\n    </g>\n    <g id=\"xtick_10\">\n     <g id=\"line2d_10\">\n      <g>\n       <use xlink:href=\"#m4125daa0f7\" x=\"228.512357\" y=\"317.2\" style=\"stroke: #000000; stroke-width: 0.2\"/>\n      </g>\n     </g>\n    </g>\n    <g id=\"xtick_11\">\n     <g id=\"line2d_11\">\n      <g>\n       <use xlink:href=\"#m4125daa0f7\" x=\"250.768947\" y=\"317.2\" style=\"stroke: #000000; stroke-width: 0.2\"/>\n      </g>\n     </g>\n    </g>\n    <g id=\"xtick_12\">\n     <g id=\"line2d_12\">\n      <g>\n       <use xlink:href=\"#m4125daa0f7\" x=\"295.282129\" y=\"317.2\" style=\"stroke: #000000; stroke-width: 0.2\"/>\n      </g>\n     </g>\n    </g>\n    <g id=\"xtick_13\">\n     <g id=\"line2d_13\">\n      <g>\n       <use xlink:href=\"#m4125daa0f7\" x=\"317.53872\" y=\"317.2\" style=\"stroke: #000000; stroke-width: 0.2\"/>\n      </g>\n     </g>\n    </g>\n    <g id=\"text_6\">\n     <!-- Bond Distortion Factor (for 2 Te near $V_{Cd}^{0}$) -->\n     <g transform=\"translate(52.205766 357.315078) scale(0.15 -0.15)\">\n      <defs>\n       <path id=\"Montserrat-Regular-42\" d=\"M 730 0  L 730 4480  L 2662 4480  Q 3411 4480 3824 4179  Q 4237 3878 4237 3328  Q 4237 2963 4067 2713  Q 3898 2464 3606 2336  Q 3315 2208 2970 2208  L 3078 2362  Q 3507 2362 3817 2230  Q 4128 2099 4301 1840  Q 4474 1581 4474 1197  Q 4474 627 4054 313  Q 3635 0 2790 0  L 730 0  z M 1203 390  L 2784 390  Q 3373 390 3686 592  Q 4000 794 4000 1235  Q 4000 1670 3686 1872  Q 3373 2074 2784 2074  L 1152 2074  L 1152 2464  L 2630 2464  Q 3168 2464 3465 2669  Q 3763 2874 3763 3277  Q 3763 3686 3465 3888  Q 3168 4090 2630 4090  L 1203 4090  L 1203 390  z \" transform=\"scale(0.015625)\"/>\n       <path id=\"Montserrat-Regular-6f\" d=\"M 2003 -32  Q 1517 -32 1129 189  Q 742 410 518 797  Q 294 1184 294 1683  Q 294 2189 518 2573  Q 742 2957 1126 3174  Q 1510 3392 2003 3392  Q 2502 3392 2889 3174  Q 3277 2957 3497 2573  Q 3718 2189 3718 1683  Q 3718 1184 3497 797  Q 3277 410 2886 189  Q 2496 -32 2003 -32  z M 2003 371  Q 2368 371 2649 534  Q 2931 698 3094 995  Q 3258 1293 3258 1683  Q 3258 2080 3094 2374  Q 2931 2669 2649 2832  Q 2368 2995 2010 2995  Q 1651 2995 1369 2832  Q 1088 2669 921 2374  Q 755 2080 755 1683  Q 755 1293 921 995  Q 1088 698 1369 534  Q 1651 371 2003 371  z \" transform=\"scale(0.015625)\"/>\n       <path id=\"Montserrat-Regular-6e\" d=\"M 2349 3392  Q 2758 3392 3068 3235  Q 3379 3078 3555 2758  Q 3731 2438 3731 1952  L 3731 0  L 3277 0  L 3277 1907  Q 3277 2438 3011 2710  Q 2746 2982 2266 2982  Q 1907 2982 1641 2838  Q 1376 2694 1232 2422  Q 1088 2150 1088 1766  L 1088 0  L 634 0  L 634 3360  L 1069 3360  L 1069 2438  L 998 2611  Q 1158 2976 1510 3184  Q 1862 3392 2349 3392  z \" transform=\"scale(0.015625)\"/>\n       <path id=\"Montserrat-Regular-64\" d=\"M 1971 -32  Q 1491 -32 1110 185  Q 730 403 512 790  Q 294 1178 294 1683  Q 294 2195 512 2579  Q 730 2963 1110 3177  Q 1491 3392 1971 3392  Q 2413 3392 2761 3193  Q 3110 2995 3318 2614  Q 3526 2234 3526 1683  Q 3526 1139 3321 755  Q 3117 371 2768 169  Q 2419 -32 1971 -32  z M 2003 371  Q 2362 371 2646 534  Q 2931 698 3094 995  Q 3258 1293 3258 1683  Q 3258 2080 3094 2374  Q 2931 2669 2646 2832  Q 2362 2995 2003 2995  Q 1651 2995 1369 2832  Q 1088 2669 921 2374  Q 755 2080 755 1683  Q 755 1293 921 995  Q 1088 698 1369 534  Q 1651 371 2003 371  z M 3270 0  L 3270 1011  L 3315 1690  L 3251 2368  L 3251 4749  L 3706 4749  L 3706 0  L 3270 0  z \" transform=\"scale(0.015625)\"/>\n       <path id=\"Montserrat-Regular-20\" transform=\"scale(0.015625)\"/>\n       <path id=\"Montserrat-Regular-44\" d=\"M 730 0  L 730 4480  L 2554 4480  Q 3270 4480 3811 4195  Q 4352 3910 4653 3404  Q 4954 2899 4954 2240  Q 4954 1581 4653 1075  Q 4352 570 3811 285  Q 3270 0 2554 0  L 730 0  z M 1203 410  L 2528 410  Q 3123 410 3561 643  Q 4000 877 4243 1289  Q 4486 1702 4486 2240  Q 4486 2784 4243 3193  Q 4000 3603 3561 3836  Q 3123 4070 2528 4070  L 1203 4070  L 1203 410  z \" transform=\"scale(0.015625)\"/>\n       <path id=\"Montserrat-Regular-69\" d=\"M 634 0  L 634 3360  L 1088 3360  L 1088 0  L 634 0  z M 864 4102  Q 723 4102 627 4198  Q 531 4294 531 4429  Q 531 4563 627 4656  Q 723 4749 864 4749  Q 1005 4749 1101 4659  Q 1197 4570 1197 4435  Q 1197 4294 1104 4198  Q 1011 4102 864 4102  z \" transform=\"scale(0.015625)\"/>\n       <path id=\"Montserrat-Regular-73\" d=\"M 1536 -32  Q 1120 -32 749 86  Q 378 205 166 384  L 371 742  Q 576 589 896 477  Q 1216 365 1568 365  Q 2048 365 2259 515  Q 2470 666 2470 915  Q 2470 1101 2352 1206  Q 2234 1312 2042 1366  Q 1850 1421 1613 1459  Q 1376 1498 1142 1549  Q 909 1600 717 1699  Q 525 1798 406 1971  Q 288 2144 288 2432  Q 288 2707 441 2924  Q 595 3142 892 3267  Q 1190 3392 1619 3392  Q 1946 3392 2272 3305  Q 2598 3219 2810 3078  L 2611 2714  Q 2387 2867 2131 2934  Q 1875 3002 1619 3002  Q 1165 3002 950 2845  Q 736 2688 736 2445  Q 736 2253 854 2144  Q 973 2035 1168 1974  Q 1363 1914 1596 1875  Q 1830 1837 2064 1782  Q 2298 1728 2493 1635  Q 2688 1542 2806 1372  Q 2925 1203 2925 928  Q 2925 634 2761 419  Q 2598 205 2288 86  Q 1978 -32 1536 -32  z \" transform=\"scale(0.015625)\"/>\n       <path id=\"Montserrat-Regular-74\" d=\"M 1696 -32  Q 1222 -32 966 224  Q 710 480 710 947  L 710 4102  L 1165 4102  L 1165 973  Q 1165 678 1315 518  Q 1466 358 1747 358  Q 2048 358 2246 531  L 2406 205  Q 2272 83 2083 25  Q 1894 -32 1696 -32  z M 109 2982  L 109 3360  L 2189 3360  L 2189 2982  L 109 2982  z \" transform=\"scale(0.015625)\"/>\n       <path id=\"Montserrat-Regular-72\" d=\"M 634 0  L 634 3360  L 1069 3360  L 1069 2445  L 1024 2605  Q 1165 2989 1497 3190  Q 1830 3392 2323 3392  L 2323 2950  Q 2298 2950 2272 2953  Q 2246 2957 2221 2957  Q 1690 2957 1389 2633  Q 1088 2310 1088 1715  L 1088 0  L 634 0  z \" transform=\"scale(0.015625)\"/>\n       <path id=\"Montserrat-Regular-46\" d=\"M 1152 2310  L 3520 2310  L 3520 1901  L 1152 1901  L 1152 2310  z M 1203 0  L 730 0  L 730 4480  L 3802 4480  L 3802 4070  L 1203 4070  L 1203 0  z \" transform=\"scale(0.015625)\"/>\n       <path id=\"Montserrat-Regular-61\" d=\"M 2739 0  L 2739 742  L 2720 864  L 2720 2106  Q 2720 2534 2480 2764  Q 2240 2995 1766 2995  Q 1440 2995 1145 2886  Q 851 2778 646 2598  L 442 2938  Q 698 3155 1056 3273  Q 1414 3392 1811 3392  Q 2464 3392 2819 3069  Q 3174 2746 3174 2086  L 3174 0  L 2739 0  z M 1581 -32  Q 1203 -32 924 93  Q 646 218 499 438  Q 352 659 352 947  Q 352 1210 477 1424  Q 602 1638 886 1769  Q 1171 1901 1651 1901  L 2810 1901  L 2810 1562  L 1664 1562  Q 1178 1562 989 1389  Q 800 1216 800 960  Q 800 672 1024 499  Q 1248 326 1651 326  Q 2035 326 2313 502  Q 2592 678 2720 1011  L 2822 698  Q 2694 365 2377 166  Q 2061 -32 1581 -32  z \" transform=\"scale(0.015625)\"/>\n       <path id=\"Montserrat-Regular-63\" d=\"M 2029 -32  Q 1530 -32 1136 189  Q 742 410 518 797  Q 294 1184 294 1683  Q 294 2189 518 2573  Q 742 2957 1136 3174  Q 1530 3392 2029 3392  Q 2458 3392 2803 3225  Q 3149 3059 3347 2726  L 3008 2496  Q 2835 2752 2579 2873  Q 2323 2995 2022 2995  Q 1664 2995 1376 2832  Q 1088 2669 921 2374  Q 755 2080 755 1683  Q 755 1286 921 992  Q 1088 698 1376 534  Q 1664 371 2022 371  Q 2323 371 2579 492  Q 2835 614 3008 864  L 3347 634  Q 3149 307 2803 137  Q 2458 -32 2029 -32  z \" transform=\"scale(0.015625)\"/>\n       <path id=\"Montserrat-Regular-28\" d=\"M 1408 -1242  Q 1056 -659 861 105  Q 666 870 666 1754  Q 666 2637 861 3408  Q 1056 4179 1408 4749  L 1843 4749  Q 1466 4090 1290 3350  Q 1114 2611 1114 1754  Q 1114 896 1290 157  Q 1466 -582 1843 -1242  L 1408 -1242  z \" transform=\"scale(0.015625)\"/>\n       <path id=\"Montserrat-Regular-66\" d=\"M 710 0  L 710 3782  Q 710 4230 972 4505  Q 1235 4781 1728 4781  Q 1920 4781 2099 4729  Q 2278 4678 2400 4570  L 2246 4230  Q 2150 4314 2022 4355  Q 1894 4397 1747 4397  Q 1459 4397 1305 4237  Q 1152 4077 1152 3763  L 1152 3251  L 1165 3040  L 1165 0  L 710 0  z M 109 2982  L 109 3360  L 2189 3360  L 2189 2982  L 109 2982  z \" transform=\"scale(0.015625)\"/>\n       <path id=\"Montserrat-Regular-32\" d=\"M 250 0  L 250 326  L 2112 2150  Q 2368 2400 2496 2589  Q 2624 2778 2669 2944  Q 2714 3110 2714 3258  Q 2714 3648 2448 3872  Q 2182 4096 1664 4096  Q 1267 4096 963 3974  Q 659 3853 442 3597  L 115 3878  Q 378 4186 787 4352  Q 1197 4518 1702 4518  Q 2157 4518 2489 4374  Q 2822 4230 3004 3955  Q 3187 3680 3187 3309  Q 3187 3091 3126 2880  Q 3066 2669 2909 2435  Q 2752 2202 2451 1907  L 742 230  L 614 410  L 3392 410  L 3392 0  L 250 0  z \" transform=\"scale(0.015625)\"/>\n       <path id=\"Montserrat-Regular-54\" d=\"M 1600 0  L 1600 4070  L 26 4070  L 26 4480  L 3648 4480  L 3648 4070  L 2074 4070  L 2074 0  L 1600 0  z \" transform=\"scale(0.015625)\"/>\n       <path id=\"Montserrat-Regular-65\" d=\"M 2061 -32  Q 1536 -32 1139 189  Q 742 410 518 797  Q 294 1184 294 1683  Q 294 2182 508 2566  Q 723 2950 1097 3171  Q 1472 3392 1939 3392  Q 2413 3392 2781 3177  Q 3149 2963 3360 2576  Q 3571 2189 3571 1683  Q 3571 1651 3568 1616  Q 3565 1581 3565 1542  L 640 1542  L 640 1882  L 3322 1882  L 3142 1747  Q 3142 2112 2985 2397  Q 2829 2682 2560 2842  Q 2291 3002 1939 3002  Q 1594 3002 1318 2842  Q 1043 2682 889 2394  Q 736 2106 736 1734  L 736 1664  Q 736 1280 905 989  Q 1075 698 1379 534  Q 1683 371 2074 371  Q 2381 371 2646 480  Q 2912 589 3104 813  L 3360 518  Q 3136 250 2800 109  Q 2464 -32 2061 -32  z \" transform=\"scale(0.015625)\"/>\n       <path id=\"Montserrat-Regular-56\" d=\"M 2003 0  L 19 4480  L 531 4480  L 2387 262  L 2106 262  L 3974 4480  L 4454 4480  L 2470 0  L 2003 0  z \" transform=\"scale(0.015625)\"/>\n       <path id=\"Montserrat-Regular-43\" d=\"M 2675 -38  Q 2170 -38 1741 131  Q 1312 301 998 608  Q 685 915 509 1331  Q 333 1747 333 2240  Q 333 2733 509 3149  Q 685 3565 1001 3872  Q 1318 4179 1747 4348  Q 2176 4518 2682 4518  Q 3168 4518 3597 4355  Q 4026 4192 4320 3866  L 4019 3565  Q 3744 3846 3411 3971  Q 3078 4096 2694 4096  Q 2291 4096 1945 3958  Q 1600 3821 1344 3568  Q 1088 3315 944 2979  Q 800 2643 800 2240  Q 800 1837 944 1501  Q 1088 1165 1344 912  Q 1600 659 1945 521  Q 2291 384 2694 384  Q 3078 384 3411 512  Q 3744 640 4019 922  L 4320 621  Q 4026 294 3597 128  Q 3168 -38 2675 -38  z \" transform=\"scale(0.015625)\"/>\n       <path id=\"Montserrat-Regular-29\" d=\"M 691 -1242  L 256 -1242  Q 640 -582 816 157  Q 992 896 992 1754  Q 992 2611 816 3350  Q 640 4090 256 4749  L 691 4749  Q 1056 4179 1248 3408  Q 1440 2637 1440 1754  Q 1440 870 1248 105  Q 1056 -659 691 -1242  z \" transform=\"scale(0.015625)\"/>\n      </defs>\n      <use xlink:href=\"#Montserrat-Regular-42\" transform=\"translate(0 0.976562)\"/>\n      <use xlink:href=\"#Montserrat-Regular-6f\" transform=\"translate(75.399994 0.976562)\"/>\n      <use xlink:href=\"#Montserrat-Regular-6e\" transform=\"translate(138.099991 0.976562)\"/>\n      <use xlink:href=\"#Montserrat-Regular-64\" transform=\"translate(205.699982 0.976562)\"/>\n      <use xlink:href=\"#Montserrat-Regular-20\" transform=\"translate(273.499969 0.976562)\"/>\n      <use xlink:href=\"#Montserrat-Regular-44\" transform=\"translate(299.699966 0.976562)\"/>\n      <use xlink:href=\"#Montserrat-Regular-69\" transform=\"translate(382.299957 0.976562)\"/>\n      <use xlink:href=\"#Montserrat-Regular-73\" transform=\"translate(409.199951 0.976562)\"/>\n      <use xlink:href=\"#Montserrat-Regular-74\" transform=\"translate(457.999939 0.976562)\"/>\n      <use xlink:href=\"#Montserrat-Regular-6f\" transform=\"translate(498.59993 0.976562)\"/>\n      <use xlink:href=\"#Montserrat-Regular-72\" transform=\"translate(561.299927 0.976562)\"/>\n      <use xlink:href=\"#Montserrat-Regular-74\" transform=\"translate(601.399918 0.976562)\"/>\n      <use xlink:href=\"#Montserrat-Regular-69\" transform=\"translate(641.999908 0.976562)\"/>\n      <use xlink:href=\"#Montserrat-Regular-6f\" transform=\"translate(668.899902 0.976562)\"/>\n      <use xlink:href=\"#Montserrat-Regular-6e\" transform=\"translate(731.599899 0.976562)\"/>\n      <use xlink:href=\"#Montserrat-Regular-20\" transform=\"translate(799.19989 0.976562)\"/>\n      <use xlink:href=\"#Montserrat-Regular-46\" transform=\"translate(825.399887 0.976562)\"/>\n      <use xlink:href=\"#Montserrat-Regular-61\" transform=\"translate(888.699875 0.976562)\"/>\n      <use xlink:href=\"#Montserrat-Regular-63\" transform=\"translate(947.69986 0.976562)\"/>\n      <use xlink:href=\"#Montserrat-Regular-74\" transform=\"translate(1003.999847 0.976562)\"/>\n      <use xlink:href=\"#Montserrat-Regular-6f\" transform=\"translate(1044.599838 0.976562)\"/>\n      <use xlink:href=\"#Montserrat-Regular-72\" transform=\"translate(1107.299835 0.976562)\"/>\n      <use xlink:href=\"#Montserrat-Regular-20\" transform=\"translate(1147.399826 0.976562)\"/>\n      <use xlink:href=\"#Montserrat-Regular-28\" transform=\"translate(1173.599823 0.976562)\"/>\n      <use xlink:href=\"#Montserrat-Regular-66\" transform=\"translate(1206.499817 0.976562)\"/>\n      <use xlink:href=\"#Montserrat-Regular-6f\" transform=\"translate(1240.399811 0.976562)\"/>\n      <use xlink:href=\"#Montserrat-Regular-72\" transform=\"translate(1303.099808 0.976562)\"/>\n      <use xlink:href=\"#Montserrat-Regular-20\" transform=\"translate(1343.199799 0.976562)\"/>\n      <use xlink:href=\"#Montserrat-Regular-32\" transform=\"translate(1369.399796 0.976562)\"/>\n      <use xlink:href=\"#Montserrat-Regular-20\" transform=\"translate(1426.199783 0.976562)\"/>\n      <use xlink:href=\"#Montserrat-Regular-54\" transform=\"translate(1452.39978 0.976562)\"/>\n      <use xlink:href=\"#Montserrat-Regular-65\" transform=\"translate(1509.799774 0.976562)\"/>\n      <use xlink:href=\"#Montserrat-Regular-20\" transform=\"translate(1570.199768 0.976562)\"/>\n      <use xlink:href=\"#Montserrat-Regular-6e\" transform=\"translate(1596.399765 0.976562)\"/>\n      <use xlink:href=\"#Montserrat-Regular-65\" transform=\"translate(1663.999756 0.976562)\"/>\n      <use xlink:href=\"#Montserrat-Regular-61\" transform=\"translate(1724.39975 0.976562)\"/>\n      <use xlink:href=\"#Montserrat-Regular-72\" transform=\"translate(1783.399734 0.976562)\"/>\n      <use xlink:href=\"#Montserrat-Regular-20\" transform=\"translate(1823.499725 0.976562)\"/>\n      <use xlink:href=\"#Montserrat-Regular-56\" transform=\"translate(1849.699722 0.976562)\"/>\n      <use xlink:href=\"#Montserrat-Regular-30\" transform=\"translate(1920.41846 39.584375) scale(0.7)\"/>\n      <use xlink:href=\"#Montserrat-Regular-43\" transform=\"translate(1920.41846 -25.273438) scale(0.7)\"/>\n      <use xlink:href=\"#Montserrat-Regular-64\" transform=\"translate(1970.748456 -25.273438) scale(0.7)\"/>\n      <use xlink:href=\"#Montserrat-Regular-29\" transform=\"translate(2020.833447 0.976562)\"/>\n     </g>\n    </g>\n   </g>\n   <g id=\"matplotlib.axis_2\">\n    <g id=\"ytick_1\">\n     <g id=\"line2d_14\">\n      <defs>\n       <path id=\"m7070ed38e7\" d=\"M 0 0  L 12 0  \" style=\"stroke: #000000; stroke-width: 0.2\"/>\n      </defs>\n      <g>\n       <use xlink:href=\"#m7070ed38e7\" x=\"59.362266\" y=\"307.841164\" style=\"stroke: #000000; stroke-width: 0.2\"/>\n      </g>\n     </g>\n     <g id=\"text_7\">\n      <!-- -0.8 -->\n      <g transform=\"translate(31.580547 312.107844) scale(0.115 -0.115)\">\n       <defs>\n        <path id=\"Montserrat-Regular-38\" d=\"M 2035 -38  Q 1498 -38 1110 115  Q 723 269 515 560  Q 307 851 307 1248  Q 307 1632 508 1904  Q 710 2176 1097 2323  Q 1485 2470 2035 2470  Q 2579 2470 2969 2323  Q 3360 2176 3568 1904  Q 3776 1632 3776 1248  Q 3776 851 3565 560  Q 3354 269 2963 115  Q 2573 -38 2035 -38  z M 2035 352  Q 2630 352 2966 595  Q 3302 838 3302 1254  Q 3302 1670 2966 1910  Q 2630 2150 2035 2150  Q 1440 2150 1107 1910  Q 774 1670 774 1254  Q 774 838 1107 595  Q 1440 352 2035 352  z M 2035 2208  Q 1536 2208 1187 2342  Q 838 2477 652 2729  Q 467 2982 467 3334  Q 467 3706 662 3971  Q 858 4237 1210 4377  Q 1562 4518 2035 4518  Q 2509 4518 2864 4377  Q 3219 4237 3417 3971  Q 3616 3706 3616 3334  Q 3616 2982 3430 2729  Q 3245 2477 2889 2342  Q 2534 2208 2035 2208  z M 2035 2515  Q 2560 2515 2854 2732  Q 3149 2950 3149 3315  Q 3149 3699 2845 3913  Q 2541 4128 2035 4128  Q 1530 4128 1229 3913  Q 928 3699 928 3322  Q 928 2950 1219 2732  Q 1510 2515 2035 2515  z \" transform=\"scale(0.015625)\"/>\n       </defs>\n       <use xlink:href=\"#Montserrat-Regular-2d\"/>\n       <use xlink:href=\"#Montserrat-Regular-30\" x=\"38.199997\"/>\n       <use xlink:href=\"#Montserrat-Regular-2e\" x=\"104.399994\"/>\n       <use xlink:href=\"#Montserrat-Regular-38\" x=\"125.599991\"/>\n      </g>\n     </g>\n    </g>\n    <g id=\"ytick_2\">\n     <g id=\"line2d_15\">\n      <g>\n       <use xlink:href=\"#m7070ed38e7\" x=\"59.362266\" y=\"246.655873\" style=\"stroke: #000000; stroke-width: 0.2\"/>\n      </g>\n     </g>\n     <g id=\"text_8\">\n      <!-- -0.6 -->\n      <g transform=\"translate(31.912969 250.922553) scale(0.115 -0.115)\">\n       <use xlink:href=\"#Montserrat-Regular-2d\"/>\n       <use xlink:href=\"#Montserrat-Regular-30\" x=\"38.199997\"/>\n       <use xlink:href=\"#Montserrat-Regular-2e\" x=\"104.399994\"/>\n       <use xlink:href=\"#Montserrat-Regular-36\" x=\"125.599991\"/>\n      </g>\n     </g>\n    </g>\n    <g id=\"ytick_3\">\n     <g id=\"line2d_16\">\n      <g>\n       <use xlink:href=\"#m7070ed38e7\" x=\"59.362266\" y=\"185.470582\" style=\"stroke: #000000; stroke-width: 0.2\"/>\n      </g>\n     </g>\n     <g id=\"text_9\">\n      <!-- -0.4 -->\n      <g transform=\"translate(31.316406 189.737262) scale(0.115 -0.115)\">\n       <defs>\n        <path id=\"Montserrat-Regular-34\" d=\"M 256 1178  L 256 1510  L 2630 4480  L 3142 4480  L 787 1510  L 538 1587  L 4141 1587  L 4141 1178  L 256 1178  z M 2784 0  L 2784 1178  L 2797 1587  L 2797 2624  L 3245 2624  L 3245 0  L 2784 0  z \" transform=\"scale(0.015625)\"/>\n       </defs>\n       <use xlink:href=\"#Montserrat-Regular-2d\"/>\n       <use xlink:href=\"#Montserrat-Regular-30\" x=\"38.199997\"/>\n       <use xlink:href=\"#Montserrat-Regular-2e\" x=\"104.399994\"/>\n       <use xlink:href=\"#Montserrat-Regular-34\" x=\"125.599991\"/>\n      </g>\n     </g>\n    </g>\n    <g id=\"ytick_4\">\n     <g id=\"line2d_17\">\n      <g>\n       <use xlink:href=\"#m7070ed38e7\" x=\"59.362266\" y=\"124.285291\" style=\"stroke: #000000; stroke-width: 0.2\"/>\n      </g>\n     </g>\n     <g id=\"text_10\">\n      <!-- -0.2 -->\n      <g transform=\"translate(32.385547 128.551971) scale(0.115 -0.115)\">\n       <use xlink:href=\"#Montserrat-Regular-2d\"/>\n       <use xlink:href=\"#Montserrat-Regular-30\" x=\"38.199997\"/>\n       <use xlink:href=\"#Montserrat-Regular-2e\" x=\"104.399994\"/>\n       <use xlink:href=\"#Montserrat-Regular-32\" x=\"125.599991\"/>\n      </g>\n     </g>\n    </g>\n    <g id=\"ytick_5\">\n     <g id=\"line2d_18\">\n      <g>\n       <use xlink:href=\"#m7070ed38e7\" x=\"59.362266\" y=\"63.1\" style=\"stroke: #000000; stroke-width: 0.2\"/>\n      </g>\n     </g>\n     <g id=\"text_11\">\n      <!-- 0.0 -->\n      <g transform=\"translate(35.697188 67.36668) scale(0.115 -0.115)\">\n       <use xlink:href=\"#Montserrat-Regular-30\"/>\n       <use xlink:href=\"#Montserrat-Regular-2e\" x=\"66.199997\"/>\n       <use xlink:href=\"#Montserrat-Regular-30\" x=\"87.399994\"/>\n      </g>\n     </g>\n    </g>\n    <g id=\"text_12\">\n     <!-- Energy (eV) -->\n     <g transform=\"translate(18.330469 222.094141) rotate(-90) scale(0.15 -0.15)\">\n      <defs>\n       <path id=\"Montserrat-Regular-45\" d=\"M 1152 2477  L 3520 2477  L 3520 2074  L 1152 2074  L 1152 2477  z M 1203 410  L 3898 410  L 3898 0  L 730 0  L 730 4480  L 3802 4480  L 3802 4070  L 1203 4070  L 1203 410  z \" transform=\"scale(0.015625)\"/>\n       <path id=\"Montserrat-Regular-67\" d=\"M 2067 -1274  Q 1606 -1274 1184 -1139  Q 762 -1005 499 -755  L 730 -410  Q 966 -621 1315 -745  Q 1664 -870 2054 -870  Q 2694 -870 2995 -572  Q 3296 -275 3296 352  L 3296 1190  L 3360 1766  L 3315 2342  L 3315 3360  L 3750 3360  L 3750 410  Q 3750 -461 3324 -867  Q 2899 -1274 2067 -1274  z M 1984 128  Q 1504 128 1120 336  Q 736 544 515 915  Q 294 1286 294 1766  Q 294 2246 515 2614  Q 736 2982 1120 3187  Q 1504 3392 1984 3392  Q 2432 3392 2790 3206  Q 3149 3021 3360 2656  Q 3571 2291 3571 1766  Q 3571 1242 3360 877  Q 3149 512 2790 320  Q 2432 128 1984 128  z M 2029 531  Q 2400 531 2688 688  Q 2976 845 3142 1123  Q 3309 1402 3309 1766  Q 3309 2131 3142 2406  Q 2976 2682 2688 2838  Q 2400 2995 2029 2995  Q 1664 2995 1373 2838  Q 1082 2682 918 2406  Q 755 2131 755 1766  Q 755 1402 918 1123  Q 1082 845 1373 688  Q 1664 531 2029 531  z \" transform=\"scale(0.015625)\"/>\n       <path id=\"Montserrat-Regular-79\" d=\"M 659 -1274  Q 422 -1274 208 -1197  Q -6 -1120 -160 -966  L 51 -627  Q 179 -749 329 -816  Q 480 -883 666 -883  Q 890 -883 1053 -758  Q 1216 -634 1363 -320  L 1581 173  L 1632 243  L 3014 3360  L 3462 3360  L 1779 -403  Q 1638 -730 1468 -922  Q 1299 -1114 1100 -1194  Q 902 -1274 659 -1274  z M 1555 -96  L 6 3360  L 480 3360  L 1850 275  L 1555 -96  z \" transform=\"scale(0.015625)\"/>\n      </defs>\n      <use xlink:href=\"#Montserrat-Regular-45\"/>\n      <use xlink:href=\"#Montserrat-Regular-6e\" x=\"66.899994\"/>\n      <use xlink:href=\"#Montserrat-Regular-65\" x=\"134.499985\"/>\n      <use xlink:href=\"#Montserrat-Regular-72\" x=\"194.899979\"/>\n      <use xlink:href=\"#Montserrat-Regular-67\" x=\"234.999969\"/>\n      <use xlink:href=\"#Montserrat-Regular-79\" x=\"303.499954\"/>\n      <use xlink:href=\"#Montserrat-Regular-20\" x=\"357.699951\"/>\n      <use xlink:href=\"#Montserrat-Regular-28\" x=\"383.899948\"/>\n      <use xlink:href=\"#Montserrat-Regular-65\" x=\"416.799942\"/>\n      <use xlink:href=\"#Montserrat-Regular-56\" x=\"477.199936\"/>\n      <use xlink:href=\"#Montserrat-Regular-29\" x=\"546.999924\"/>\n     </g>\n    </g>\n   </g>\n   <g id=\"line2d_19\">\n    <path d=\"M 72.71622 294.1  L 94.972811 64.665386  L 117.229402 294.01505  L 139.485993 293.960987  L 161.742584 64.202892  L 183.999175 64.130648  L 206.255766 64.13743  L 228.512357 64.130648  L 250.768947 64.202892  L 273.025538 64.202892  L 295.282129 64.202892  L 317.53872 64.202892  L 339.795311 64.202892  \" clip-path=\"url(#p2d7a982fa3)\" style=\"fill: none; stroke: #59a590; stroke-linecap: square\"/>\n    <defs>\n     <path id=\"ma7023e23c2\" d=\"M 0 0.5  C 0.132602 0.5 0.25979 0.447317 0.353553 0.353553  C 0.447317 0.25979 0.5 0.132602 0.5 0  C 0.5 -0.132602 0.447317 -0.25979 0.353553 -0.353553  C 0.25979 -0.447317 0.132602 -0.5 0 -0.5  C -0.132602 -0.5 -0.25979 -0.447317 -0.353553 -0.353553  C -0.447317 -0.25979 -0.5 -0.132602 -0.5 0  C -0.5 0.132602 -0.447317 0.25979 -0.353553 0.353553  C -0.25979 0.447317 -0.132602 0.5 0 0.5  z \" style=\"stroke: #59a590\"/>\n    </defs>\n    <g clip-path=\"url(#p2d7a982fa3)\">\n     <use xlink:href=\"#ma7023e23c2\" x=\"72.71622\" y=\"294.1\" style=\"fill: #59a590; stroke: #59a590\"/>\n     <use xlink:href=\"#ma7023e23c2\" x=\"94.972811\" y=\"64.665386\" style=\"fill: #59a590; stroke: #59a590\"/>\n     <use xlink:href=\"#ma7023e23c2\" x=\"117.229402\" y=\"294.01505\" style=\"fill: #59a590; stroke: #59a590\"/>\n     <use xlink:href=\"#ma7023e23c2\" x=\"139.485993\" y=\"293.960987\" style=\"fill: #59a590; stroke: #59a590\"/>\n     <use xlink:href=\"#ma7023e23c2\" x=\"161.742584\" y=\"64.202892\" style=\"fill: #59a590; stroke: #59a590\"/>\n     <use xlink:href=\"#ma7023e23c2\" x=\"183.999175\" y=\"64.130648\" style=\"fill: #59a590; stroke: #59a590\"/>\n     <use xlink:href=\"#ma7023e23c2\" x=\"206.255766\" y=\"64.13743\" style=\"fill: #59a590; stroke: #59a590\"/>\n     <use xlink:href=\"#ma7023e23c2\" x=\"228.512357\" y=\"64.130648\" style=\"fill: #59a590; stroke: #59a590\"/>\n     <use xlink:href=\"#ma7023e23c2\" x=\"250.768947\" y=\"64.202892\" style=\"fill: #59a590; stroke: #59a590\"/>\n     <use xlink:href=\"#ma7023e23c2\" x=\"273.025538\" y=\"64.202892\" style=\"fill: #59a590; stroke: #59a590\"/>\n     <use xlink:href=\"#ma7023e23c2\" x=\"295.282129\" y=\"64.202892\" style=\"fill: #59a590; stroke: #59a590\"/>\n     <use xlink:href=\"#ma7023e23c2\" x=\"317.53872\" y=\"64.202892\" style=\"fill: #59a590; stroke: #59a590\"/>\n     <use xlink:href=\"#ma7023e23c2\" x=\"339.795311\" y=\"64.202892\" style=\"fill: #59a590; stroke: #59a590\"/>\n    </g>\n   </g>\n   <g id=\"patch_3\">\n    <path d=\"M 59.362266 317.2  L 59.362266 40  \" style=\"fill: none; stroke: #000000; stroke-width: 0.5; stroke-linejoin: miter; stroke-linecap: square\"/>\n   </g>\n   <g id=\"patch_4\">\n    <path d=\"M 353.149266 317.2  L 353.149266 40  \" style=\"fill: none; stroke: #000000; stroke-width: 0.5; stroke-linejoin: miter; stroke-linecap: square\"/>\n   </g>\n   <g id=\"patch_5\">\n    <path d=\"M 59.362266 317.2  L 353.149266 317.2  \" style=\"fill: none; stroke: #000000; stroke-width: 0.5; stroke-linejoin: miter; stroke-linecap: square\"/>\n   </g>\n   <g id=\"patch_6\">\n    <path d=\"M 59.362266 40  L 353.149266 40  \" style=\"fill: none; stroke: #000000; stroke-width: 0.5; stroke-linejoin: miter; stroke-linecap: square\"/>\n   </g>\n   <g id=\"text_13\">\n    <!-- $V_{Cd}^{0}$ -->\n    <g transform=\"translate(189.055766 25) scale(0.2 -0.2)\">\n     <use xlink:href=\"#Montserrat-Regular-56\" transform=\"translate(0 0.976562)\"/>\n     <use xlink:href=\"#Montserrat-Regular-30\" transform=\"translate(70.718738 39.584375) scale(0.7)\"/>\n     <use xlink:href=\"#Montserrat-Regular-43\" transform=\"translate(70.718738 -25.273438) scale(0.7)\"/>\n     <use xlink:href=\"#Montserrat-Regular-64\" transform=\"translate(121.048734 -25.273438) scale(0.7)\"/>\n    </g>\n   </g>\n   <g id=\"legend_1\">\n    <g id=\"patch_7\">\n     <path d=\"M 209.304266 310.7  L 344.049266 310.7  Q 346.649266 310.7 346.649266 308.1  L 346.649266 272.061563  Q 346.649266 269.461563 344.049266 269.461563  L 209.304266 269.461563  Q 206.704266 269.461563 206.704266 272.061563  L 206.704266 308.1  Q 206.704266 310.7 209.304266 310.7  z \" style=\"fill: #ffffff; opacity: 0.8; stroke: #cccccc; stroke-linejoin: miter\"/>\n    </g>\n    <g id=\"line2d_20\">\n     <path d=\"M 211.904266 279.757969  L 219.704266 279.757969  L 227.504266 279.757969  \" style=\"fill: none; stroke: #59a590; stroke-linecap: square\"/>\n     <g>\n      <use xlink:href=\"#ma7023e23c2\" x=\"219.704266\" y=\"279.757969\" style=\"fill: #59a590; stroke: #59a590\"/>\n     </g>\n    </g>\n    <g id=\"text_14\">\n     <!-- Distortions: 2 Te -->\n     <g transform=\"translate(237.904266 284.307969) scale(0.13 -0.13)\">\n      <defs>\n       <path id=\"Montserrat-Regular-3a\" d=\"M 678 2720  Q 538 2720 438 2822  Q 339 2925 339 3072  Q 339 3226 438 3322  Q 538 3418 678 3418  Q 819 3418 918 3322  Q 1018 3226 1018 3072  Q 1018 2925 918 2822  Q 819 2720 678 2720  z M 678 -32  Q 538 -32 438 70  Q 339 173 339 320  Q 339 474 438 570  Q 538 666 678 666  Q 819 666 918 570  Q 1018 474 1018 320  Q 1018 173 918 70  Q 819 -32 678 -32  z \" transform=\"scale(0.015625)\"/>\n      </defs>\n      <use xlink:href=\"#Montserrat-Regular-44\"/>\n      <use xlink:href=\"#Montserrat-Regular-69\" x=\"82.599991\"/>\n      <use xlink:href=\"#Montserrat-Regular-73\" x=\"109.499985\"/>\n      <use xlink:href=\"#Montserrat-Regular-74\" x=\"158.299973\"/>\n      <use xlink:href=\"#Montserrat-Regular-6f\" x=\"198.899963\"/>\n      <use xlink:href=\"#Montserrat-Regular-72\" x=\"261.59996\"/>\n      <use xlink:href=\"#Montserrat-Regular-74\" x=\"301.699951\"/>\n      <use xlink:href=\"#Montserrat-Regular-69\" x=\"342.299942\"/>\n      <use xlink:href=\"#Montserrat-Regular-6f\" x=\"369.199936\"/>\n      <use xlink:href=\"#Montserrat-Regular-6e\" x=\"431.899933\"/>\n      <use xlink:href=\"#Montserrat-Regular-73\" x=\"499.499924\"/>\n      <use xlink:href=\"#Montserrat-Regular-3a\" x=\"548.299911\"/>\n      <use xlink:href=\"#Montserrat-Regular-20\" x=\"569.499908\"/>\n      <use xlink:href=\"#Montserrat-Regular-32\" x=\"595.699905\"/>\n      <use xlink:href=\"#Montserrat-Regular-20\" x=\"652.499893\"/>\n      <use xlink:href=\"#Montserrat-Regular-54\" x=\"678.69989\"/>\n      <use xlink:href=\"#Montserrat-Regular-65\" x=\"736.099884\"/>\n     </g>\n    </g>\n    <g id=\"PathCollection_3\">\n     <g>\n      <use xlink:href=\"#mc5ccaef9e1\" x=\"219.704266\" y=\"299.564687\" style=\"fill: #bbbe90; stroke: #bbbe90\"/>\n     </g>\n    </g>\n    <g id=\"text_15\">\n     <!-- Unperturbed -->\n     <g transform=\"translate(237.904266 302.977188) scale(0.13 -0.13)\">\n      <defs>\n       <path id=\"Montserrat-Regular-55\" d=\"M 2534 -38  Q 1677 -38 1184 454  Q 691 947 691 1914  L 691 4480  L 1165 4480  L 1165 1933  Q 1165 1139 1523 761  Q 1882 384 2534 384  Q 3194 384 3552 761  Q 3910 1139 3910 1933  L 3910 4480  L 4371 4480  L 4371 1914  Q 4371 947 3881 454  Q 3392 -38 2534 -38  z \" transform=\"scale(0.015625)\"/>\n       <path id=\"Montserrat-Regular-70\" d=\"M 2368 -32  Q 1933 -32 1581 169  Q 1229 371 1021 752  Q 813 1133 813 1683  Q 813 2234 1017 2614  Q 1222 2995 1574 3193  Q 1926 3392 2368 3392  Q 2848 3392 3229 3177  Q 3610 2963 3827 2576  Q 4045 2189 4045 1683  Q 4045 1171 3827 787  Q 3610 403 3229 185  Q 2848 -32 2368 -32  z M 634 -1242  L 634 3360  L 1069 3360  L 1069 2349  L 1024 1677  L 1088 998  L 1088 -1242  L 634 -1242  z M 2336 371  Q 2694 371 2976 534  Q 3258 698 3424 995  Q 3590 1293 3590 1683  Q 3590 2074 3424 2368  Q 3258 2662 2976 2828  Q 2694 2995 2336 2995  Q 1978 2995 1693 2828  Q 1408 2662 1245 2368  Q 1082 2074 1082 1683  Q 1082 1293 1245 995  Q 1408 698 1693 534  Q 1978 371 2336 371  z \" transform=\"scale(0.015625)\"/>\n       <path id=\"Montserrat-Regular-75\" d=\"M 2022 -32  Q 1594 -32 1274 128  Q 954 288 778 608  Q 602 928 602 1408  L 602 3360  L 1056 3360  L 1056 1459  Q 1056 922 1321 650  Q 1587 378 2067 378  Q 2419 378 2678 522  Q 2938 666 3075 941  Q 3213 1216 3213 1600  L 3213 3360  L 3667 3360  L 3667 0  L 3232 0  L 3232 922  L 3302 755  Q 3142 384 2806 176  Q 2470 -32 2022 -32  z \" transform=\"scale(0.015625)\"/>\n       <path id=\"Montserrat-Regular-62\" d=\"M 2368 -32  Q 1926 -32 1574 169  Q 1222 371 1017 755  Q 813 1139 813 1683  Q 813 2234 1021 2614  Q 1229 2995 1581 3193  Q 1933 3392 2368 3392  Q 2848 3392 3229 3177  Q 3610 2963 3827 2579  Q 4045 2195 4045 1683  Q 4045 1178 3827 790  Q 3610 403 3229 185  Q 2848 -32 2368 -32  z M 634 0  L 634 4749  L 1088 4749  L 1088 2368  L 1024 1690  L 1069 1011  L 1069 0  L 634 0  z M 2336 371  Q 2694 371 2976 534  Q 3258 698 3424 995  Q 3590 1293 3590 1683  Q 3590 2080 3424 2374  Q 3258 2669 2976 2832  Q 2694 2995 2336 2995  Q 1978 2995 1693 2832  Q 1408 2669 1245 2374  Q 1082 2080 1082 1683  Q 1082 1293 1245 995  Q 1408 698 1693 534  Q 1978 371 2336 371  z \" transform=\"scale(0.015625)\"/>\n      </defs>\n      <use xlink:href=\"#Montserrat-Regular-55\"/>\n      <use xlink:href=\"#Montserrat-Regular-6e\" x=\"79.199982\"/>\n      <use xlink:href=\"#Montserrat-Regular-70\" x=\"146.799973\"/>\n      <use xlink:href=\"#Montserrat-Regular-65\" x=\"214.59996\"/>\n      <use xlink:href=\"#Montserrat-Regular-72\" x=\"274.999954\"/>\n      <use xlink:href=\"#Montserrat-Regular-74\" x=\"315.099945\"/>\n      <use xlink:href=\"#Montserrat-Regular-75\" x=\"355.699936\"/>\n      <use xlink:href=\"#Montserrat-Regular-72\" x=\"422.899933\"/>\n      <use xlink:href=\"#Montserrat-Regular-62\" x=\"462.999924\"/>\n      <use xlink:href=\"#Montserrat-Regular-65\" x=\"530.799911\"/>\n      <use xlink:href=\"#Montserrat-Regular-64\" x=\"591.199905\"/>\n     </g>\n    </g>\n   </g>\n  </g>\n  <g id=\"axes_2\">\n   <g id=\"patch_8\">\n    <path d=\"M 385.792266 289.48  L 396.880266 289.48  L 396.880266 67.72  L 385.792266 67.72  L 385.792266 289.48  z \" style=\"fill: none\"/>\n   </g>\n   <g id=\"patch_9\">\n    <path clip-path=\"url(#pf8453057a6)\" style=\"fill: #ffffff; stroke: #ffffff; stroke-width: 0.01; stroke-linejoin: miter\"/>\n   </g>\n   <image xlink:href=\"data:image/png;base64, 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\" id=\"imaged726ab0d77\" transform=\"scale(1 -1) translate(0 -221.76)\" x=\"385.8\" y=\"-67.68\" width=\"11.04\" height=\"221.76\"/>\n   <g id=\"matplotlib.axis_3\"/>\n   <g id=\"matplotlib.axis_4\">\n    <g id=\"ytick_6\">\n     <g id=\"line2d_21\"/>\n     <g id=\"text_16\">\n      <!-- 0.0 -->\n      <g transform=\"translate(402.880266 293.74668) scale(0.115 -0.115)\">\n       <use xlink:href=\"#Montserrat-Regular-30\"/>\n       <use xlink:href=\"#Montserrat-Regular-2e\" x=\"66.199997\"/>\n       <use xlink:href=\"#Montserrat-Regular-30\" x=\"87.399994\"/>\n      </g>\n     </g>\n    </g>\n    <g id=\"ytick_7\">\n     <g id=\"line2d_22\"/>\n     <g id=\"text_17\">\n      <!-- 0.4 -->\n      <g transform=\"translate(402.880266 182.86668) scale(0.115 -0.115)\">\n       <use xlink:href=\"#Montserrat-Regular-30\"/>\n       <use xlink:href=\"#Montserrat-Regular-2e\" x=\"66.199997\"/>\n       <use xlink:href=\"#Montserrat-Regular-34\" x=\"87.399994\"/>\n      </g>\n     </g>\n    </g>\n    <g id=\"ytick_8\">\n     <g id=\"line2d_23\"/>\n     <g id=\"text_18\">\n      <!-- 0.8 -->\n      <g transform=\"translate(402.880266 71.98668) scale(0.115 -0.115)\">\n       <use xlink:href=\"#Montserrat-Regular-30\"/>\n       <use xlink:href=\"#Montserrat-Regular-2e\" x=\"66.199997\"/>\n       <use xlink:href=\"#Montserrat-Regular-38\" x=\"87.399994\"/>\n      </g>\n     </g>\n    </g>\n   </g>\n   <g id=\"LineCollection_1\"/>\n   <g id=\"text_19\">\n    <!-- $d_{max}$ $(\\AA)$ -->\n    <g transform=\"translate(362.236266 53.145) scale(0.15 -0.15)\">\n     <defs>\n      <path id=\"Montserrat-Regular-6d\" d=\"M 4832 3392  Q 5242 3392 5546 3235  Q 5850 3078 6019 2758  Q 6189 2438 6189 1952  L 6189 0  L 5734 0  L 5734 1907  Q 5734 2438 5481 2710  Q 5229 2982 4768 2982  Q 4422 2982 4169 2838  Q 3917 2694 3779 2422  Q 3642 2150 3642 1766  L 3642 0  L 3187 0  L 3187 1907  Q 3187 2438 2931 2710  Q 2675 2982 2214 2982  Q 1875 2982 1619 2838  Q 1363 2694 1225 2422  Q 1088 2150 1088 1766  L 1088 0  L 634 0  L 634 3360  L 1069 3360  L 1069 2451  L 998 2611  Q 1152 2976 1494 3184  Q 1837 3392 2304 3392  Q 2797 3392 3142 3145  Q 3488 2899 3590 2406  L 3411 2477  Q 3558 2886 3932 3139  Q 4307 3392 4832 3392  z \" transform=\"scale(0.015625)\"/>\n      <path id=\"Montserrat-Regular-78\" d=\"M 122 0  L 1542 1843  L 1536 1619  L 186 3360  L 698 3360  L 1805 1920  L 1613 1926  L 2720 3360  L 3219 3360  L 1856 1600  L 1862 1843  L 3296 0  L 2778 0  L 1606 1536  L 1786 1510  L 634 0  L 122 0  z \" transform=\"scale(0.015625)\"/>\n      <path id=\"Montserrat-Regular-c5\" d=\"M 13 0  L 2061 4480  L 2528 4480  L 4576 0  L 4077 0  L 2195 4205  L 2387 4205  L 506 0  L 13 0  z M 819 1197  L 960 1581  L 3565 1581  L 3706 1197  L 819 1197  z M 2290 4960  Q 2098 4960 1947 5049  Q 1797 5139 1710 5286  Q 1624 5434 1624 5613  Q 1624 5792 1713 5945  Q 1803 6099 1953 6192  Q 2104 6285 2290 6285  Q 2482 6285 2632 6192  Q 2782 6099 2872 5945  Q 2962 5792 2962 5613  Q 2962 5434 2872 5286  Q 2782 5139 2632 5049  Q 2482 4960 2290 4960  z M 2290 5184  Q 2482 5184 2603 5309  Q 2725 5434 2725 5613  Q 2725 5798 2603 5929  Q 2482 6061 2290 6061  Q 2104 6061 1982 5933  Q 1861 5805 1861 5613  Q 1861 5427 1979 5305  Q 2098 5184 2290 5184  z \" transform=\"scale(0.015625)\"/>\n     </defs>\n     <use xlink:href=\"#Montserrat-Regular-64\" transform=\"translate(0 0.796875)\"/>\n     <use xlink:href=\"#Montserrat-Regular-6d\" transform=\"translate(68.718738 -14.953125) scale(0.7)\"/>\n     <use xlink:href=\"#Montserrat-Regular-61\" transform=\"translate(142.988731 -14.953125) scale(0.7)\"/>\n     <use xlink:href=\"#Montserrat-Regular-78\" transform=\"translate(184.288721 -14.953125) scale(0.7)\"/>\n     <use xlink:href=\"#Montserrat-Regular-20\" transform=\"translate(224.293716 0.796875)\"/>\n     <use xlink:href=\"#Montserrat-Regular-28\" transform=\"translate(250.493713 0.796875)\"/>\n     <use xlink:href=\"#Montserrat-Regular-c5\" transform=\"translate(283.393707 0.796875)\"/>\n     <use xlink:href=\"#Montserrat-Regular-29\" transform=\"translate(355.093689 0.796875)\"/>\n    </g>\n   </g>\n  </g>\n </g>\n <defs>\n  <clipPath id=\"p2d7a982fa3\">\n   <rect x=\"59.362266\" y=\"40\" width=\"293.787\" height=\"277.2\"/>\n  </clipPath>\n  <clipPath id=\"pf8453057a6\">\n   <rect x=\"385.792266\" y=\"67.72\" width=\"11.088\" height=\"221.76\"/>\n  </clipPath>\n </defs>\n</svg>",
      "text/plain": [
       "<IPython.core.display.SVG object>"
      ]
     },
     "execution_count": 74,
     "metadata": {},
     "output_type": "execute_result"
    }
   ],
   "source": [
    "# Show plots\n",
    "from IPython.core.display import SVG\n",
    "SVG(filename=\"./v_Cd_0/v_Cd_0.svg\")"
   ]
  },
  {
   "cell_type": "code",
   "execution_count": 75,
   "id": "6a7bd7f6-b558-4640-b613-226b3e625494",
   "metadata": {
    "pycharm": {
     "name": "#%%\n"
    }
   },
   "outputs": [
    {
     "name": "stdout",
     "output_type": "stream",
     "text": [
      "Comparing structures to Unperturbed...\n",
      "Previous version of v_Cd_-1.svg found in output_path: 'v_Cd_-1/'. Will rename old plot to v_Cd_-1_2022-10-19-11-13.svg.\n",
      "Plot saved to v_Cd_-1/v_Cd_-1.svg\n",
      "Comparing structures to Unperturbed...\n",
      "Previous version of v_Cd_0.svg found in output_path: 'v_Cd_0/'. Will rename old plot to v_Cd_0_2022-10-19-11-13.svg.\n",
      "Plot saved to v_Cd_0/v_Cd_0.svg\n"
     ]
    },
    {
     "name": "stderr",
     "output_type": "stream",
     "text": [
      "plotting.py:1225: UserWarning: Path ./v_Ti_0/v_Ti_0.yaml does not exist. Skipping v_Ti_0.\n"
     ]
    }
   ],
   "source": [
    "figs = plotting.plot_all_defects(\n",
    "    defect_charges_dict,\n",
    "    add_colorbar=True,\n",
    "    metric=\"disp\"\n",
    ")"
   ]
  },
  {
   "cell_type": "code",
   "execution_count": 76,
   "id": "6e1c3320",
   "metadata": {},
   "outputs": [
    {
     "data": {
      "image/svg+xml": "<svg xmlns:xlink=\"http://www.w3.org/1999/xlink\" xmlns=\"http://www.w3.org/2000/svg\" width=\"434.461266pt\" height=\"368.565078pt\" viewBox=\"0 0 434.461266 368.565078\" version=\"1.1\">\n <metadata>\n  <rdf:RDF xmlns:dc=\"http://purl.org/dc/elements/1.1/\" xmlns:cc=\"http://creativecommons.org/ns#\" xmlns:rdf=\"http://www.w3.org/1999/02/22-rdf-syntax-ns#\">\n   <cc:Work>\n    <dc:type rdf:resource=\"http://purl.org/dc/dcmitype/StillImage\"/>\n    <dc:date>2022-10-19T11:13:31.409088</dc:date>\n    <dc:format>image/svg+xml</dc:format>\n    <dc:creator>\n     <cc:Agent>\n      <dc:title>Matplotlib v3.6.1, https://matplotlib.org/</dc:title>\n     </cc:Agent>\n    </dc:creator>\n   </cc:Work>\n  </rdf:RDF>\n </metadata>\n <defs>\n  <style type=\"text/css\">*{stroke-linejoin: round; stroke-linecap: butt}</style>\n </defs>\n <g id=\"figure_1\">\n  <g id=\"patch_1\">\n   <path d=\"M 0 368.565078  L 434.461266 368.565078  L 434.461266 0  L 0 0  L 0 368.565078  z \" style=\"fill: none\"/>\n  </g>\n  <g id=\"axes_1\">\n   <g id=\"patch_2\">\n    <path d=\"M 59.362266 317.2  L 353.149266 317.2  L 353.149266 40  L 59.362266 40  L 59.362266 317.2  z \" style=\"fill: none\"/>\n   </g>\n   <g id=\"PathCollection_1\">\n    <defs>\n     <path id=\"C0_0_fcbe0712b3\" d=\"M 0 3.535534  C 0.937635 3.535534 1.836992 3.163008 2.5 2.5  C 3.163008 1.836992 3.535534 0.937635 3.535534 -0  C 3.535534 -0.937635 3.163008 -1.836992 2.5 -2.5  C 1.836992 -3.163008 0.937635 -3.535534 0 -3.535534  C -0.937635 -3.535534 -1.836992 -3.163008 -2.5 -2.5  C -3.163008 -1.836992 -3.535534 -0.937635 -3.535534 0  C -3.535534 0.937635 -3.163008 1.836992 -2.5 2.5  C -1.836992 3.163008 -0.937635 3.535534 0 3.535534  z \"/>\n    </defs>\n    <g clip-path=\"url(#p657080efc1)\">\n     <use xlink:href=\"#C0_0_fcbe0712b3\" x=\"72.71622\" y=\"294.1\" style=\"fill: #37476c; stroke: #37476c\"/>\n    </g>\n    <g clip-path=\"url(#p657080efc1)\">\n     <use xlink:href=\"#C0_0_fcbe0712b3\" x=\"94.972811\" y=\"64.665386\" style=\"fill: #bbbe90; stroke: #bbbe90\"/>\n    </g>\n    <g clip-path=\"url(#p657080efc1)\">\n     <use xlink:href=\"#C0_0_fcbe0712b3\" x=\"117.229402\" y=\"294.01505\" style=\"fill: #374b6e; stroke: #374b6e\"/>\n    </g>\n    <g clip-path=\"url(#p657080efc1)\">\n     <use xlink:href=\"#C0_0_fcbe0712b3\" x=\"139.485993\" y=\"293.960987\" style=\"fill: #37476c; stroke: #37476c\"/>\n    </g>\n    <g clip-path=\"url(#p657080efc1)\">\n     <use xlink:href=\"#C0_0_fcbe0712b3\" x=\"161.742584\" y=\"64.202892\" style=\"fill: #bbbe90; stroke: #bbbe90\"/>\n    </g>\n    <g clip-path=\"url(#p657080efc1)\">\n     <use xlink:href=\"#C0_0_fcbe0712b3\" x=\"183.999175\" y=\"64.130648\" style=\"fill: #bbbe90; stroke: #bbbe90\"/>\n    </g>\n    <g clip-path=\"url(#p657080efc1)\">\n     <use xlink:href=\"#C0_0_fcbe0712b3\" x=\"206.255766\" y=\"64.13743\" style=\"fill: #bbbe90; stroke: #bbbe90\"/>\n    </g>\n    <g clip-path=\"url(#p657080efc1)\">\n     <use xlink:href=\"#C0_0_fcbe0712b3\" x=\"228.512357\" y=\"64.130648\" style=\"fill: #66a475; stroke: #66a475\"/>\n    </g>\n    <g clip-path=\"url(#p657080efc1)\">\n     <use xlink:href=\"#C0_0_fcbe0712b3\" x=\"250.768947\" y=\"64.202892\" style=\"fill: #66a475; stroke: #66a475\"/>\n    </g>\n    <g clip-path=\"url(#p657080efc1)\">\n     <use xlink:href=\"#C0_0_fcbe0712b3\" x=\"273.025538\" y=\"64.202892\" style=\"fill: #66a475; stroke: #66a475\"/>\n    </g>\n    <g clip-path=\"url(#p657080efc1)\">\n     <use xlink:href=\"#C0_0_fcbe0712b3\" x=\"295.282129\" y=\"64.202892\" style=\"fill: #66a475; stroke: #66a475\"/>\n    </g>\n    <g clip-path=\"url(#p657080efc1)\">\n     <use xlink:href=\"#C0_0_fcbe0712b3\" x=\"317.53872\" y=\"64.202892\" style=\"fill: #66a475; stroke: #66a475\"/>\n    </g>\n    <g clip-path=\"url(#p657080efc1)\">\n     <use xlink:href=\"#C0_0_fcbe0712b3\" x=\"339.795311\" y=\"64.202892\" style=\"fill: #66a475; stroke: #66a475\"/>\n    </g>\n   </g>\n   <g id=\"PathCollection_2\">\n    <defs>\n     <path id=\"m698e344357\" d=\"M -0 7.745967  L 4.64758 0  L 0 -7.745967  L -4.64758 -0  z \" style=\"stroke: #bbbe90\"/>\n    </defs>\n    <g clip-path=\"url(#p657080efc1)\">\n     <use xlink:href=\"#m698e344357\" x=\"206.255766\" y=\"63.1\" style=\"fill: #bbbe90; stroke: #bbbe90\"/>\n    </g>\n   </g>\n   <g id=\"matplotlib.axis_1\">\n    <g id=\"xtick_1\">\n     <g id=\"line2d_1\">\n      <defs>\n       <path id=\"m9648a01695\" d=\"M 0 0  L 0 -12  \" style=\"stroke: #000000; stroke-width: 0.2\"/>\n      </defs>\n      <g>\n       <use xlink:href=\"#m9648a01695\" x=\"72.71622\" y=\"317.2\" style=\"stroke: #000000; stroke-width: 0.2\"/>\n      </g>\n     </g>\n     <g id=\"text_1\">\n      <!-- -0.6 -->\n      <g transform=\"translate(61.991572 331.733359) scale(0.115 -0.115)\">\n       <defs>\n        <path id=\"Montserrat-Regular-2d\" d=\"M 384 1536  L 384 1933  L 2061 1933  L 2061 1536  L 384 1536  z \" transform=\"scale(0.015625)\"/>\n        <path id=\"Montserrat-Regular-30\" d=\"M 2118 -38  Q 1600 -38 1197 234  Q 794 506 563 1014  Q 333 1523 333 2240  Q 333 2957 563 3465  Q 794 3974 1197 4246  Q 1600 4518 2118 4518  Q 2637 4518 3040 4246  Q 3443 3974 3676 3465  Q 3910 2957 3910 2240  Q 3910 1523 3676 1014  Q 3443 506 3040 234  Q 2637 -38 2118 -38  z M 2118 384  Q 2515 384 2809 598  Q 3104 813 3270 1225  Q 3437 1638 3437 2240  Q 3437 2842 3270 3254  Q 3104 3667 2809 3881  Q 2515 4096 2118 4096  Q 1734 4096 1433 3881  Q 1133 3667 966 3254  Q 800 2842 800 2240  Q 800 1638 966 1225  Q 1133 813 1433 598  Q 1734 384 2118 384  z \" transform=\"scale(0.015625)\"/>\n        <path id=\"Montserrat-Regular-2e\" d=\"M 678 -32  Q 538 -32 438 70  Q 339 173 339 320  Q 339 474 438 570  Q 538 666 678 666  Q 819 666 918 570  Q 1018 474 1018 320  Q 1018 173 918 70  Q 819 -32 678 -32  z \" transform=\"scale(0.015625)\"/>\n        <path id=\"Montserrat-Regular-36\" d=\"M 2170 -38  Q 1574 -38 1164 227  Q 755 493 544 995  Q 333 1498 333 2202  Q 333 2963 592 3478  Q 851 3994 1312 4256  Q 1773 4518 2381 4518  Q 2682 4518 2957 4460  Q 3232 4403 3443 4275  L 3258 3904  Q 3085 4019 2861 4067  Q 2637 4115 2387 4115  Q 1664 4115 1232 3654  Q 800 3194 800 2278  Q 800 2138 816 1930  Q 832 1722 890 1517  L 730 1638  Q 800 1971 1005 2204  Q 1210 2438 1517 2560  Q 1824 2682 2189 2682  Q 2637 2682 2976 2515  Q 3315 2349 3507 2048  Q 3699 1747 3699 1338  Q 3699 922 3500 611  Q 3302 301 2953 131  Q 2605 -38 2170 -38  z M 2150 352  Q 2470 352 2716 470  Q 2963 589 3104 809  Q 3245 1030 3245 1325  Q 3245 1766 2941 2028  Q 2637 2291 2118 2291  Q 1773 2291 1517 2163  Q 1261 2035 1113 1814  Q 966 1594 966 1312  Q 966 1069 1100 848  Q 1235 627 1500 489  Q 1766 352 2150 352  z \" transform=\"scale(0.015625)\"/>\n       </defs>\n       <use xlink:href=\"#Montserrat-Regular-2d\"/>\n       <use xlink:href=\"#Montserrat-Regular-30\" x=\"38.199997\"/>\n       <use xlink:href=\"#Montserrat-Regular-2e\" x=\"104.399994\"/>\n       <use xlink:href=\"#Montserrat-Regular-36\" x=\"125.599991\"/>\n      </g>\n     </g>\n    </g>\n    <g id=\"xtick_2\">\n     <g id=\"line2d_2\">\n      <g>\n       <use xlink:href=\"#m9648a01695\" x=\"139.485993\" y=\"317.2\" style=\"stroke: #000000; stroke-width: 0.2\"/>\n      </g>\n     </g>\n     <g id=\"text_2\">\n      <!-- -0.3 -->\n      <g transform=\"translate(129.020094 331.733359) scale(0.115 -0.115)\">\n       <defs>\n        <path id=\"Montserrat-Regular-33\" d=\"M 1670 -38  Q 1184 -38 752 118  Q 320 275 58 538  L 282 902  Q 499 678 867 531  Q 1235 384 1670 384  Q 2227 384 2524 627  Q 2822 870 2822 1280  Q 2822 1690 2531 1933  Q 2240 2176 1613 2176  L 1293 2176  L 1293 2515  L 2675 4250  L 2739 4070  L 243 4070  L 243 4480  L 3123 4480  L 3123 4154  L 1741 2419  L 1517 2566  L 1690 2566  Q 2496 2566 2896 2208  Q 3296 1850 3296 1286  Q 3296 909 3117 608  Q 2938 307 2576 134  Q 2214 -38 1670 -38  z \" transform=\"scale(0.015625)\"/>\n       </defs>\n       <use xlink:href=\"#Montserrat-Regular-2d\"/>\n       <use xlink:href=\"#Montserrat-Regular-30\" x=\"38.199997\"/>\n       <use xlink:href=\"#Montserrat-Regular-2e\" x=\"104.399994\"/>\n       <use xlink:href=\"#Montserrat-Regular-33\" x=\"125.599991\"/>\n      </g>\n     </g>\n    </g>\n    <g id=\"xtick_3\">\n     <g id=\"line2d_3\">\n      <g>\n       <use xlink:href=\"#m9648a01695\" x=\"206.255766\" y=\"317.2\" style=\"stroke: #000000; stroke-width: 0.2\"/>\n      </g>\n     </g>\n     <g id=\"text_3\">\n      <!-- 0.0 -->\n      <g transform=\"translate(197.423227 331.733359) scale(0.115 -0.115)\">\n       <use xlink:href=\"#Montserrat-Regular-30\"/>\n       <use xlink:href=\"#Montserrat-Regular-2e\" x=\"66.199997\"/>\n       <use xlink:href=\"#Montserrat-Regular-30\" x=\"87.399994\"/>\n      </g>\n     </g>\n    </g>\n    <g id=\"xtick_4\">\n     <g id=\"line2d_4\">\n      <g>\n       <use xlink:href=\"#m9648a01695\" x=\"273.025538\" y=\"317.2\" style=\"stroke: #000000; stroke-width: 0.2\"/>\n      </g>\n     </g>\n     <g id=\"text_4\">\n      <!-- 0.3 -->\n      <g transform=\"translate(264.75632 331.733359) scale(0.115 -0.115)\">\n       <use xlink:href=\"#Montserrat-Regular-30\"/>\n       <use xlink:href=\"#Montserrat-Regular-2e\" x=\"66.199997\"/>\n       <use xlink:href=\"#Montserrat-Regular-33\" x=\"87.399994\"/>\n      </g>\n     </g>\n    </g>\n    <g id=\"xtick_5\">\n     <g id=\"line2d_5\">\n      <g>\n       <use xlink:href=\"#m9648a01695\" x=\"339.795311\" y=\"317.2\" style=\"stroke: #000000; stroke-width: 0.2\"/>\n      </g>\n     </g>\n     <g id=\"text_5\">\n      <!-- 0.6 -->\n      <g transform=\"translate(331.267342 331.733359) scale(0.115 -0.115)\">\n       <use xlink:href=\"#Montserrat-Regular-30\"/>\n       <use xlink:href=\"#Montserrat-Regular-2e\" x=\"66.199997\"/>\n       <use xlink:href=\"#Montserrat-Regular-36\" x=\"87.399994\"/>\n      </g>\n     </g>\n    </g>\n    <g id=\"xtick_6\">\n     <g id=\"line2d_6\">\n      <defs>\n       <path id=\"m2b7c82bf67\" d=\"M 0 0  L 0 -5  \" style=\"stroke: #000000; stroke-width: 0.2\"/>\n      </defs>\n      <g>\n       <use xlink:href=\"#m2b7c82bf67\" x=\"94.972811\" y=\"317.2\" style=\"stroke: #000000; stroke-width: 0.2\"/>\n      </g>\n     </g>\n    </g>\n    <g id=\"xtick_7\">\n     <g id=\"line2d_7\">\n      <g>\n       <use xlink:href=\"#m2b7c82bf67\" x=\"117.229402\" y=\"317.2\" style=\"stroke: #000000; stroke-width: 0.2\"/>\n      </g>\n     </g>\n    </g>\n    <g id=\"xtick_8\">\n     <g id=\"line2d_8\">\n      <g>\n       <use xlink:href=\"#m2b7c82bf67\" x=\"161.742584\" y=\"317.2\" style=\"stroke: #000000; stroke-width: 0.2\"/>\n      </g>\n     </g>\n    </g>\n    <g id=\"xtick_9\">\n     <g id=\"line2d_9\">\n      <g>\n       <use xlink:href=\"#m2b7c82bf67\" x=\"183.999175\" y=\"317.2\" style=\"stroke: #000000; stroke-width: 0.2\"/>\n      </g>\n     </g>\n    </g>\n    <g id=\"xtick_10\">\n     <g id=\"line2d_10\">\n      <g>\n       <use xlink:href=\"#m2b7c82bf67\" x=\"228.512357\" y=\"317.2\" style=\"stroke: #000000; stroke-width: 0.2\"/>\n      </g>\n     </g>\n    </g>\n    <g id=\"xtick_11\">\n     <g id=\"line2d_11\">\n      <g>\n       <use xlink:href=\"#m2b7c82bf67\" x=\"250.768947\" y=\"317.2\" style=\"stroke: #000000; stroke-width: 0.2\"/>\n      </g>\n     </g>\n    </g>\n    <g id=\"xtick_12\">\n     <g id=\"line2d_12\">\n      <g>\n       <use xlink:href=\"#m2b7c82bf67\" x=\"295.282129\" y=\"317.2\" style=\"stroke: #000000; stroke-width: 0.2\"/>\n      </g>\n     </g>\n    </g>\n    <g id=\"xtick_13\">\n     <g id=\"line2d_13\">\n      <g>\n       <use xlink:href=\"#m2b7c82bf67\" x=\"317.53872\" y=\"317.2\" style=\"stroke: #000000; stroke-width: 0.2\"/>\n      </g>\n     </g>\n    </g>\n    <g id=\"text_6\">\n     <!-- Bond Distortion Factor (for 2 Te near $V_{Cd}^{0}$) -->\n     <g transform=\"translate(52.205766 357.315078) scale(0.15 -0.15)\">\n      <defs>\n       <path id=\"Montserrat-Regular-42\" d=\"M 730 0  L 730 4480  L 2662 4480  Q 3411 4480 3824 4179  Q 4237 3878 4237 3328  Q 4237 2963 4067 2713  Q 3898 2464 3606 2336  Q 3315 2208 2970 2208  L 3078 2362  Q 3507 2362 3817 2230  Q 4128 2099 4301 1840  Q 4474 1581 4474 1197  Q 4474 627 4054 313  Q 3635 0 2790 0  L 730 0  z M 1203 390  L 2784 390  Q 3373 390 3686 592  Q 4000 794 4000 1235  Q 4000 1670 3686 1872  Q 3373 2074 2784 2074  L 1152 2074  L 1152 2464  L 2630 2464  Q 3168 2464 3465 2669  Q 3763 2874 3763 3277  Q 3763 3686 3465 3888  Q 3168 4090 2630 4090  L 1203 4090  L 1203 390  z \" transform=\"scale(0.015625)\"/>\n       <path id=\"Montserrat-Regular-6f\" d=\"M 2003 -32  Q 1517 -32 1129 189  Q 742 410 518 797  Q 294 1184 294 1683  Q 294 2189 518 2573  Q 742 2957 1126 3174  Q 1510 3392 2003 3392  Q 2502 3392 2889 3174  Q 3277 2957 3497 2573  Q 3718 2189 3718 1683  Q 3718 1184 3497 797  Q 3277 410 2886 189  Q 2496 -32 2003 -32  z M 2003 371  Q 2368 371 2649 534  Q 2931 698 3094 995  Q 3258 1293 3258 1683  Q 3258 2080 3094 2374  Q 2931 2669 2649 2832  Q 2368 2995 2010 2995  Q 1651 2995 1369 2832  Q 1088 2669 921 2374  Q 755 2080 755 1683  Q 755 1293 921 995  Q 1088 698 1369 534  Q 1651 371 2003 371  z \" transform=\"scale(0.015625)\"/>\n       <path id=\"Montserrat-Regular-6e\" d=\"M 2349 3392  Q 2758 3392 3068 3235  Q 3379 3078 3555 2758  Q 3731 2438 3731 1952  L 3731 0  L 3277 0  L 3277 1907  Q 3277 2438 3011 2710  Q 2746 2982 2266 2982  Q 1907 2982 1641 2838  Q 1376 2694 1232 2422  Q 1088 2150 1088 1766  L 1088 0  L 634 0  L 634 3360  L 1069 3360  L 1069 2438  L 998 2611  Q 1158 2976 1510 3184  Q 1862 3392 2349 3392  z \" transform=\"scale(0.015625)\"/>\n       <path id=\"Montserrat-Regular-64\" d=\"M 1971 -32  Q 1491 -32 1110 185  Q 730 403 512 790  Q 294 1178 294 1683  Q 294 2195 512 2579  Q 730 2963 1110 3177  Q 1491 3392 1971 3392  Q 2413 3392 2761 3193  Q 3110 2995 3318 2614  Q 3526 2234 3526 1683  Q 3526 1139 3321 755  Q 3117 371 2768 169  Q 2419 -32 1971 -32  z M 2003 371  Q 2362 371 2646 534  Q 2931 698 3094 995  Q 3258 1293 3258 1683  Q 3258 2080 3094 2374  Q 2931 2669 2646 2832  Q 2362 2995 2003 2995  Q 1651 2995 1369 2832  Q 1088 2669 921 2374  Q 755 2080 755 1683  Q 755 1293 921 995  Q 1088 698 1369 534  Q 1651 371 2003 371  z M 3270 0  L 3270 1011  L 3315 1690  L 3251 2368  L 3251 4749  L 3706 4749  L 3706 0  L 3270 0  z \" transform=\"scale(0.015625)\"/>\n       <path id=\"Montserrat-Regular-20\" transform=\"scale(0.015625)\"/>\n       <path id=\"Montserrat-Regular-44\" d=\"M 730 0  L 730 4480  L 2554 4480  Q 3270 4480 3811 4195  Q 4352 3910 4653 3404  Q 4954 2899 4954 2240  Q 4954 1581 4653 1075  Q 4352 570 3811 285  Q 3270 0 2554 0  L 730 0  z M 1203 410  L 2528 410  Q 3123 410 3561 643  Q 4000 877 4243 1289  Q 4486 1702 4486 2240  Q 4486 2784 4243 3193  Q 4000 3603 3561 3836  Q 3123 4070 2528 4070  L 1203 4070  L 1203 410  z \" transform=\"scale(0.015625)\"/>\n       <path id=\"Montserrat-Regular-69\" d=\"M 634 0  L 634 3360  L 1088 3360  L 1088 0  L 634 0  z M 864 4102  Q 723 4102 627 4198  Q 531 4294 531 4429  Q 531 4563 627 4656  Q 723 4749 864 4749  Q 1005 4749 1101 4659  Q 1197 4570 1197 4435  Q 1197 4294 1104 4198  Q 1011 4102 864 4102  z \" transform=\"scale(0.015625)\"/>\n       <path id=\"Montserrat-Regular-73\" d=\"M 1536 -32  Q 1120 -32 749 86  Q 378 205 166 384  L 371 742  Q 576 589 896 477  Q 1216 365 1568 365  Q 2048 365 2259 515  Q 2470 666 2470 915  Q 2470 1101 2352 1206  Q 2234 1312 2042 1366  Q 1850 1421 1613 1459  Q 1376 1498 1142 1549  Q 909 1600 717 1699  Q 525 1798 406 1971  Q 288 2144 288 2432  Q 288 2707 441 2924  Q 595 3142 892 3267  Q 1190 3392 1619 3392  Q 1946 3392 2272 3305  Q 2598 3219 2810 3078  L 2611 2714  Q 2387 2867 2131 2934  Q 1875 3002 1619 3002  Q 1165 3002 950 2845  Q 736 2688 736 2445  Q 736 2253 854 2144  Q 973 2035 1168 1974  Q 1363 1914 1596 1875  Q 1830 1837 2064 1782  Q 2298 1728 2493 1635  Q 2688 1542 2806 1372  Q 2925 1203 2925 928  Q 2925 634 2761 419  Q 2598 205 2288 86  Q 1978 -32 1536 -32  z \" transform=\"scale(0.015625)\"/>\n       <path id=\"Montserrat-Regular-74\" d=\"M 1696 -32  Q 1222 -32 966 224  Q 710 480 710 947  L 710 4102  L 1165 4102  L 1165 973  Q 1165 678 1315 518  Q 1466 358 1747 358  Q 2048 358 2246 531  L 2406 205  Q 2272 83 2083 25  Q 1894 -32 1696 -32  z M 109 2982  L 109 3360  L 2189 3360  L 2189 2982  L 109 2982  z \" transform=\"scale(0.015625)\"/>\n       <path id=\"Montserrat-Regular-72\" d=\"M 634 0  L 634 3360  L 1069 3360  L 1069 2445  L 1024 2605  Q 1165 2989 1497 3190  Q 1830 3392 2323 3392  L 2323 2950  Q 2298 2950 2272 2953  Q 2246 2957 2221 2957  Q 1690 2957 1389 2633  Q 1088 2310 1088 1715  L 1088 0  L 634 0  z \" transform=\"scale(0.015625)\"/>\n       <path id=\"Montserrat-Regular-46\" d=\"M 1152 2310  L 3520 2310  L 3520 1901  L 1152 1901  L 1152 2310  z M 1203 0  L 730 0  L 730 4480  L 3802 4480  L 3802 4070  L 1203 4070  L 1203 0  z \" transform=\"scale(0.015625)\"/>\n       <path id=\"Montserrat-Regular-61\" d=\"M 2739 0  L 2739 742  L 2720 864  L 2720 2106  Q 2720 2534 2480 2764  Q 2240 2995 1766 2995  Q 1440 2995 1145 2886  Q 851 2778 646 2598  L 442 2938  Q 698 3155 1056 3273  Q 1414 3392 1811 3392  Q 2464 3392 2819 3069  Q 3174 2746 3174 2086  L 3174 0  L 2739 0  z M 1581 -32  Q 1203 -32 924 93  Q 646 218 499 438  Q 352 659 352 947  Q 352 1210 477 1424  Q 602 1638 886 1769  Q 1171 1901 1651 1901  L 2810 1901  L 2810 1562  L 1664 1562  Q 1178 1562 989 1389  Q 800 1216 800 960  Q 800 672 1024 499  Q 1248 326 1651 326  Q 2035 326 2313 502  Q 2592 678 2720 1011  L 2822 698  Q 2694 365 2377 166  Q 2061 -32 1581 -32  z \" transform=\"scale(0.015625)\"/>\n       <path id=\"Montserrat-Regular-63\" d=\"M 2029 -32  Q 1530 -32 1136 189  Q 742 410 518 797  Q 294 1184 294 1683  Q 294 2189 518 2573  Q 742 2957 1136 3174  Q 1530 3392 2029 3392  Q 2458 3392 2803 3225  Q 3149 3059 3347 2726  L 3008 2496  Q 2835 2752 2579 2873  Q 2323 2995 2022 2995  Q 1664 2995 1376 2832  Q 1088 2669 921 2374  Q 755 2080 755 1683  Q 755 1286 921 992  Q 1088 698 1376 534  Q 1664 371 2022 371  Q 2323 371 2579 492  Q 2835 614 3008 864  L 3347 634  Q 3149 307 2803 137  Q 2458 -32 2029 -32  z \" transform=\"scale(0.015625)\"/>\n       <path id=\"Montserrat-Regular-28\" d=\"M 1408 -1242  Q 1056 -659 861 105  Q 666 870 666 1754  Q 666 2637 861 3408  Q 1056 4179 1408 4749  L 1843 4749  Q 1466 4090 1290 3350  Q 1114 2611 1114 1754  Q 1114 896 1290 157  Q 1466 -582 1843 -1242  L 1408 -1242  z \" transform=\"scale(0.015625)\"/>\n       <path id=\"Montserrat-Regular-66\" d=\"M 710 0  L 710 3782  Q 710 4230 972 4505  Q 1235 4781 1728 4781  Q 1920 4781 2099 4729  Q 2278 4678 2400 4570  L 2246 4230  Q 2150 4314 2022 4355  Q 1894 4397 1747 4397  Q 1459 4397 1305 4237  Q 1152 4077 1152 3763  L 1152 3251  L 1165 3040  L 1165 0  L 710 0  z M 109 2982  L 109 3360  L 2189 3360  L 2189 2982  L 109 2982  z \" transform=\"scale(0.015625)\"/>\n       <path id=\"Montserrat-Regular-32\" d=\"M 250 0  L 250 326  L 2112 2150  Q 2368 2400 2496 2589  Q 2624 2778 2669 2944  Q 2714 3110 2714 3258  Q 2714 3648 2448 3872  Q 2182 4096 1664 4096  Q 1267 4096 963 3974  Q 659 3853 442 3597  L 115 3878  Q 378 4186 787 4352  Q 1197 4518 1702 4518  Q 2157 4518 2489 4374  Q 2822 4230 3004 3955  Q 3187 3680 3187 3309  Q 3187 3091 3126 2880  Q 3066 2669 2909 2435  Q 2752 2202 2451 1907  L 742 230  L 614 410  L 3392 410  L 3392 0  L 250 0  z \" transform=\"scale(0.015625)\"/>\n       <path id=\"Montserrat-Regular-54\" d=\"M 1600 0  L 1600 4070  L 26 4070  L 26 4480  L 3648 4480  L 3648 4070  L 2074 4070  L 2074 0  L 1600 0  z \" transform=\"scale(0.015625)\"/>\n       <path id=\"Montserrat-Regular-65\" d=\"M 2061 -32  Q 1536 -32 1139 189  Q 742 410 518 797  Q 294 1184 294 1683  Q 294 2182 508 2566  Q 723 2950 1097 3171  Q 1472 3392 1939 3392  Q 2413 3392 2781 3177  Q 3149 2963 3360 2576  Q 3571 2189 3571 1683  Q 3571 1651 3568 1616  Q 3565 1581 3565 1542  L 640 1542  L 640 1882  L 3322 1882  L 3142 1747  Q 3142 2112 2985 2397  Q 2829 2682 2560 2842  Q 2291 3002 1939 3002  Q 1594 3002 1318 2842  Q 1043 2682 889 2394  Q 736 2106 736 1734  L 736 1664  Q 736 1280 905 989  Q 1075 698 1379 534  Q 1683 371 2074 371  Q 2381 371 2646 480  Q 2912 589 3104 813  L 3360 518  Q 3136 250 2800 109  Q 2464 -32 2061 -32  z \" transform=\"scale(0.015625)\"/>\n       <path id=\"Montserrat-Regular-56\" d=\"M 2003 0  L 19 4480  L 531 4480  L 2387 262  L 2106 262  L 3974 4480  L 4454 4480  L 2470 0  L 2003 0  z \" transform=\"scale(0.015625)\"/>\n       <path id=\"Montserrat-Regular-43\" d=\"M 2675 -38  Q 2170 -38 1741 131  Q 1312 301 998 608  Q 685 915 509 1331  Q 333 1747 333 2240  Q 333 2733 509 3149  Q 685 3565 1001 3872  Q 1318 4179 1747 4348  Q 2176 4518 2682 4518  Q 3168 4518 3597 4355  Q 4026 4192 4320 3866  L 4019 3565  Q 3744 3846 3411 3971  Q 3078 4096 2694 4096  Q 2291 4096 1945 3958  Q 1600 3821 1344 3568  Q 1088 3315 944 2979  Q 800 2643 800 2240  Q 800 1837 944 1501  Q 1088 1165 1344 912  Q 1600 659 1945 521  Q 2291 384 2694 384  Q 3078 384 3411 512  Q 3744 640 4019 922  L 4320 621  Q 4026 294 3597 128  Q 3168 -38 2675 -38  z \" transform=\"scale(0.015625)\"/>\n       <path id=\"Montserrat-Regular-29\" d=\"M 691 -1242  L 256 -1242  Q 640 -582 816 157  Q 992 896 992 1754  Q 992 2611 816 3350  Q 640 4090 256 4749  L 691 4749  Q 1056 4179 1248 3408  Q 1440 2637 1440 1754  Q 1440 870 1248 105  Q 1056 -659 691 -1242  z \" transform=\"scale(0.015625)\"/>\n      </defs>\n      <use xlink:href=\"#Montserrat-Regular-42\" transform=\"translate(0 0.976562)\"/>\n      <use xlink:href=\"#Montserrat-Regular-6f\" transform=\"translate(75.399994 0.976562)\"/>\n      <use xlink:href=\"#Montserrat-Regular-6e\" transform=\"translate(138.099991 0.976562)\"/>\n      <use xlink:href=\"#Montserrat-Regular-64\" transform=\"translate(205.699982 0.976562)\"/>\n      <use xlink:href=\"#Montserrat-Regular-20\" transform=\"translate(273.499969 0.976562)\"/>\n      <use xlink:href=\"#Montserrat-Regular-44\" transform=\"translate(299.699966 0.976562)\"/>\n      <use xlink:href=\"#Montserrat-Regular-69\" transform=\"translate(382.299957 0.976562)\"/>\n      <use xlink:href=\"#Montserrat-Regular-73\" transform=\"translate(409.199951 0.976562)\"/>\n      <use xlink:href=\"#Montserrat-Regular-74\" transform=\"translate(457.999939 0.976562)\"/>\n      <use xlink:href=\"#Montserrat-Regular-6f\" transform=\"translate(498.59993 0.976562)\"/>\n      <use xlink:href=\"#Montserrat-Regular-72\" transform=\"translate(561.299927 0.976562)\"/>\n      <use xlink:href=\"#Montserrat-Regular-74\" transform=\"translate(601.399918 0.976562)\"/>\n      <use xlink:href=\"#Montserrat-Regular-69\" transform=\"translate(641.999908 0.976562)\"/>\n      <use xlink:href=\"#Montserrat-Regular-6f\" transform=\"translate(668.899902 0.976562)\"/>\n      <use xlink:href=\"#Montserrat-Regular-6e\" transform=\"translate(731.599899 0.976562)\"/>\n      <use xlink:href=\"#Montserrat-Regular-20\" transform=\"translate(799.19989 0.976562)\"/>\n      <use xlink:href=\"#Montserrat-Regular-46\" transform=\"translate(825.399887 0.976562)\"/>\n      <use xlink:href=\"#Montserrat-Regular-61\" transform=\"translate(888.699875 0.976562)\"/>\n      <use xlink:href=\"#Montserrat-Regular-63\" transform=\"translate(947.69986 0.976562)\"/>\n      <use xlink:href=\"#Montserrat-Regular-74\" transform=\"translate(1003.999847 0.976562)\"/>\n      <use xlink:href=\"#Montserrat-Regular-6f\" transform=\"translate(1044.599838 0.976562)\"/>\n      <use xlink:href=\"#Montserrat-Regular-72\" transform=\"translate(1107.299835 0.976562)\"/>\n      <use xlink:href=\"#Montserrat-Regular-20\" transform=\"translate(1147.399826 0.976562)\"/>\n      <use xlink:href=\"#Montserrat-Regular-28\" transform=\"translate(1173.599823 0.976562)\"/>\n      <use xlink:href=\"#Montserrat-Regular-66\" transform=\"translate(1206.499817 0.976562)\"/>\n      <use xlink:href=\"#Montserrat-Regular-6f\" transform=\"translate(1240.399811 0.976562)\"/>\n      <use xlink:href=\"#Montserrat-Regular-72\" transform=\"translate(1303.099808 0.976562)\"/>\n      <use xlink:href=\"#Montserrat-Regular-20\" transform=\"translate(1343.199799 0.976562)\"/>\n      <use xlink:href=\"#Montserrat-Regular-32\" transform=\"translate(1369.399796 0.976562)\"/>\n      <use xlink:href=\"#Montserrat-Regular-20\" transform=\"translate(1426.199783 0.976562)\"/>\n      <use xlink:href=\"#Montserrat-Regular-54\" transform=\"translate(1452.39978 0.976562)\"/>\n      <use xlink:href=\"#Montserrat-Regular-65\" transform=\"translate(1509.799774 0.976562)\"/>\n      <use xlink:href=\"#Montserrat-Regular-20\" transform=\"translate(1570.199768 0.976562)\"/>\n      <use xlink:href=\"#Montserrat-Regular-6e\" transform=\"translate(1596.399765 0.976562)\"/>\n      <use xlink:href=\"#Montserrat-Regular-65\" transform=\"translate(1663.999756 0.976562)\"/>\n      <use xlink:href=\"#Montserrat-Regular-61\" transform=\"translate(1724.39975 0.976562)\"/>\n      <use xlink:href=\"#Montserrat-Regular-72\" transform=\"translate(1783.399734 0.976562)\"/>\n      <use xlink:href=\"#Montserrat-Regular-20\" transform=\"translate(1823.499725 0.976562)\"/>\n      <use xlink:href=\"#Montserrat-Regular-56\" transform=\"translate(1849.699722 0.976562)\"/>\n      <use xlink:href=\"#Montserrat-Regular-30\" transform=\"translate(1920.41846 39.584375) scale(0.7)\"/>\n      <use xlink:href=\"#Montserrat-Regular-43\" transform=\"translate(1920.41846 -25.273438) scale(0.7)\"/>\n      <use xlink:href=\"#Montserrat-Regular-64\" transform=\"translate(1970.748456 -25.273438) scale(0.7)\"/>\n      <use xlink:href=\"#Montserrat-Regular-29\" transform=\"translate(2020.833447 0.976562)\"/>\n     </g>\n    </g>\n   </g>\n   <g id=\"matplotlib.axis_2\">\n    <g id=\"ytick_1\">\n     <g id=\"line2d_14\">\n      <defs>\n       <path id=\"me2e9766d82\" d=\"M 0 0  L 12 0  \" style=\"stroke: #000000; stroke-width: 0.2\"/>\n      </defs>\n      <g>\n       <use xlink:href=\"#me2e9766d82\" x=\"59.362266\" y=\"307.841164\" style=\"stroke: #000000; stroke-width: 0.2\"/>\n      </g>\n     </g>\n     <g id=\"text_7\">\n      <!-- -0.8 -->\n      <g transform=\"translate(31.580547 312.107844) scale(0.115 -0.115)\">\n       <defs>\n        <path id=\"Montserrat-Regular-38\" d=\"M 2035 -38  Q 1498 -38 1110 115  Q 723 269 515 560  Q 307 851 307 1248  Q 307 1632 508 1904  Q 710 2176 1097 2323  Q 1485 2470 2035 2470  Q 2579 2470 2969 2323  Q 3360 2176 3568 1904  Q 3776 1632 3776 1248  Q 3776 851 3565 560  Q 3354 269 2963 115  Q 2573 -38 2035 -38  z M 2035 352  Q 2630 352 2966 595  Q 3302 838 3302 1254  Q 3302 1670 2966 1910  Q 2630 2150 2035 2150  Q 1440 2150 1107 1910  Q 774 1670 774 1254  Q 774 838 1107 595  Q 1440 352 2035 352  z M 2035 2208  Q 1536 2208 1187 2342  Q 838 2477 652 2729  Q 467 2982 467 3334  Q 467 3706 662 3971  Q 858 4237 1210 4377  Q 1562 4518 2035 4518  Q 2509 4518 2864 4377  Q 3219 4237 3417 3971  Q 3616 3706 3616 3334  Q 3616 2982 3430 2729  Q 3245 2477 2889 2342  Q 2534 2208 2035 2208  z M 2035 2515  Q 2560 2515 2854 2732  Q 3149 2950 3149 3315  Q 3149 3699 2845 3913  Q 2541 4128 2035 4128  Q 1530 4128 1229 3913  Q 928 3699 928 3322  Q 928 2950 1219 2732  Q 1510 2515 2035 2515  z \" transform=\"scale(0.015625)\"/>\n       </defs>\n       <use xlink:href=\"#Montserrat-Regular-2d\"/>\n       <use xlink:href=\"#Montserrat-Regular-30\" x=\"38.199997\"/>\n       <use xlink:href=\"#Montserrat-Regular-2e\" x=\"104.399994\"/>\n       <use xlink:href=\"#Montserrat-Regular-38\" x=\"125.599991\"/>\n      </g>\n     </g>\n    </g>\n    <g id=\"ytick_2\">\n     <g id=\"line2d_15\">\n      <g>\n       <use xlink:href=\"#me2e9766d82\" x=\"59.362266\" y=\"246.655873\" style=\"stroke: #000000; stroke-width: 0.2\"/>\n      </g>\n     </g>\n     <g id=\"text_8\">\n      <!-- -0.6 -->\n      <g transform=\"translate(31.912969 250.922553) scale(0.115 -0.115)\">\n       <use xlink:href=\"#Montserrat-Regular-2d\"/>\n       <use xlink:href=\"#Montserrat-Regular-30\" x=\"38.199997\"/>\n       <use xlink:href=\"#Montserrat-Regular-2e\" x=\"104.399994\"/>\n       <use xlink:href=\"#Montserrat-Regular-36\" x=\"125.599991\"/>\n      </g>\n     </g>\n    </g>\n    <g id=\"ytick_3\">\n     <g id=\"line2d_16\">\n      <g>\n       <use xlink:href=\"#me2e9766d82\" x=\"59.362266\" y=\"185.470582\" style=\"stroke: #000000; stroke-width: 0.2\"/>\n      </g>\n     </g>\n     <g id=\"text_9\">\n      <!-- -0.4 -->\n      <g transform=\"translate(31.316406 189.737262) scale(0.115 -0.115)\">\n       <defs>\n        <path id=\"Montserrat-Regular-34\" d=\"M 256 1178  L 256 1510  L 2630 4480  L 3142 4480  L 787 1510  L 538 1587  L 4141 1587  L 4141 1178  L 256 1178  z M 2784 0  L 2784 1178  L 2797 1587  L 2797 2624  L 3245 2624  L 3245 0  L 2784 0  z \" transform=\"scale(0.015625)\"/>\n       </defs>\n       <use xlink:href=\"#Montserrat-Regular-2d\"/>\n       <use xlink:href=\"#Montserrat-Regular-30\" x=\"38.199997\"/>\n       <use xlink:href=\"#Montserrat-Regular-2e\" x=\"104.399994\"/>\n       <use xlink:href=\"#Montserrat-Regular-34\" x=\"125.599991\"/>\n      </g>\n     </g>\n    </g>\n    <g id=\"ytick_4\">\n     <g id=\"line2d_17\">\n      <g>\n       <use xlink:href=\"#me2e9766d82\" x=\"59.362266\" y=\"124.285291\" style=\"stroke: #000000; stroke-width: 0.2\"/>\n      </g>\n     </g>\n     <g id=\"text_10\">\n      <!-- -0.2 -->\n      <g transform=\"translate(32.385547 128.551971) scale(0.115 -0.115)\">\n       <use xlink:href=\"#Montserrat-Regular-2d\"/>\n       <use xlink:href=\"#Montserrat-Regular-30\" x=\"38.199997\"/>\n       <use xlink:href=\"#Montserrat-Regular-2e\" x=\"104.399994\"/>\n       <use xlink:href=\"#Montserrat-Regular-32\" x=\"125.599991\"/>\n      </g>\n     </g>\n    </g>\n    <g id=\"ytick_5\">\n     <g id=\"line2d_18\">\n      <g>\n       <use xlink:href=\"#me2e9766d82\" x=\"59.362266\" y=\"63.1\" style=\"stroke: #000000; stroke-width: 0.2\"/>\n      </g>\n     </g>\n     <g id=\"text_11\">\n      <!-- 0.0 -->\n      <g transform=\"translate(35.697188 67.36668) scale(0.115 -0.115)\">\n       <use xlink:href=\"#Montserrat-Regular-30\"/>\n       <use xlink:href=\"#Montserrat-Regular-2e\" x=\"66.199997\"/>\n       <use xlink:href=\"#Montserrat-Regular-30\" x=\"87.399994\"/>\n      </g>\n     </g>\n    </g>\n    <g id=\"text_12\">\n     <!-- Energy (eV) -->\n     <g transform=\"translate(18.330469 222.094141) rotate(-90) scale(0.15 -0.15)\">\n      <defs>\n       <path id=\"Montserrat-Regular-45\" d=\"M 1152 2477  L 3520 2477  L 3520 2074  L 1152 2074  L 1152 2477  z M 1203 410  L 3898 410  L 3898 0  L 730 0  L 730 4480  L 3802 4480  L 3802 4070  L 1203 4070  L 1203 410  z \" transform=\"scale(0.015625)\"/>\n       <path id=\"Montserrat-Regular-67\" d=\"M 2067 -1274  Q 1606 -1274 1184 -1139  Q 762 -1005 499 -755  L 730 -410  Q 966 -621 1315 -745  Q 1664 -870 2054 -870  Q 2694 -870 2995 -572  Q 3296 -275 3296 352  L 3296 1190  L 3360 1766  L 3315 2342  L 3315 3360  L 3750 3360  L 3750 410  Q 3750 -461 3324 -867  Q 2899 -1274 2067 -1274  z M 1984 128  Q 1504 128 1120 336  Q 736 544 515 915  Q 294 1286 294 1766  Q 294 2246 515 2614  Q 736 2982 1120 3187  Q 1504 3392 1984 3392  Q 2432 3392 2790 3206  Q 3149 3021 3360 2656  Q 3571 2291 3571 1766  Q 3571 1242 3360 877  Q 3149 512 2790 320  Q 2432 128 1984 128  z M 2029 531  Q 2400 531 2688 688  Q 2976 845 3142 1123  Q 3309 1402 3309 1766  Q 3309 2131 3142 2406  Q 2976 2682 2688 2838  Q 2400 2995 2029 2995  Q 1664 2995 1373 2838  Q 1082 2682 918 2406  Q 755 2131 755 1766  Q 755 1402 918 1123  Q 1082 845 1373 688  Q 1664 531 2029 531  z \" transform=\"scale(0.015625)\"/>\n       <path id=\"Montserrat-Regular-79\" d=\"M 659 -1274  Q 422 -1274 208 -1197  Q -6 -1120 -160 -966  L 51 -627  Q 179 -749 329 -816  Q 480 -883 666 -883  Q 890 -883 1053 -758  Q 1216 -634 1363 -320  L 1581 173  L 1632 243  L 3014 3360  L 3462 3360  L 1779 -403  Q 1638 -730 1468 -922  Q 1299 -1114 1100 -1194  Q 902 -1274 659 -1274  z M 1555 -96  L 6 3360  L 480 3360  L 1850 275  L 1555 -96  z \" transform=\"scale(0.015625)\"/>\n      </defs>\n      <use xlink:href=\"#Montserrat-Regular-45\"/>\n      <use xlink:href=\"#Montserrat-Regular-6e\" x=\"66.899994\"/>\n      <use xlink:href=\"#Montserrat-Regular-65\" x=\"134.499985\"/>\n      <use xlink:href=\"#Montserrat-Regular-72\" x=\"194.899979\"/>\n      <use xlink:href=\"#Montserrat-Regular-67\" x=\"234.999969\"/>\n      <use xlink:href=\"#Montserrat-Regular-79\" x=\"303.499954\"/>\n      <use xlink:href=\"#Montserrat-Regular-20\" x=\"357.699951\"/>\n      <use xlink:href=\"#Montserrat-Regular-28\" x=\"383.899948\"/>\n      <use xlink:href=\"#Montserrat-Regular-65\" x=\"416.799942\"/>\n      <use xlink:href=\"#Montserrat-Regular-56\" x=\"477.199936\"/>\n      <use xlink:href=\"#Montserrat-Regular-29\" x=\"546.999924\"/>\n     </g>\n    </g>\n   </g>\n   <g id=\"line2d_19\">\n    <path d=\"M 72.71622 294.1  L 94.972811 64.665386  L 117.229402 294.01505  L 139.485993 293.960987  L 161.742584 64.202892  L 183.999175 64.130648  L 206.255766 64.13743  L 228.512357 64.130648  L 250.768947 64.202892  L 273.025538 64.202892  L 295.282129 64.202892  L 317.53872 64.202892  L 339.795311 64.202892  \" clip-path=\"url(#p657080efc1)\" style=\"fill: none; stroke: #59a590; stroke-linecap: square\"/>\n    <defs>\n     <path id=\"m2f4e617ec8\" d=\"M 0 0.5  C 0.132602 0.5 0.25979 0.447317 0.353553 0.353553  C 0.447317 0.25979 0.5 0.132602 0.5 0  C 0.5 -0.132602 0.447317 -0.25979 0.353553 -0.353553  C 0.25979 -0.447317 0.132602 -0.5 0 -0.5  C -0.132602 -0.5 -0.25979 -0.447317 -0.353553 -0.353553  C -0.447317 -0.25979 -0.5 -0.132602 -0.5 0  C -0.5 0.132602 -0.447317 0.25979 -0.353553 0.353553  C -0.25979 0.447317 -0.132602 0.5 0 0.5  z \" style=\"stroke: #59a590\"/>\n    </defs>\n    <g clip-path=\"url(#p657080efc1)\">\n     <use xlink:href=\"#m2f4e617ec8\" x=\"72.71622\" y=\"294.1\" style=\"fill: #59a590; stroke: #59a590\"/>\n     <use xlink:href=\"#m2f4e617ec8\" x=\"94.972811\" y=\"64.665386\" style=\"fill: #59a590; stroke: #59a590\"/>\n     <use xlink:href=\"#m2f4e617ec8\" x=\"117.229402\" y=\"294.01505\" style=\"fill: #59a590; stroke: #59a590\"/>\n     <use xlink:href=\"#m2f4e617ec8\" x=\"139.485993\" y=\"293.960987\" style=\"fill: #59a590; stroke: #59a590\"/>\n     <use xlink:href=\"#m2f4e617ec8\" x=\"161.742584\" y=\"64.202892\" style=\"fill: #59a590; stroke: #59a590\"/>\n     <use xlink:href=\"#m2f4e617ec8\" x=\"183.999175\" y=\"64.130648\" style=\"fill: #59a590; stroke: #59a590\"/>\n     <use xlink:href=\"#m2f4e617ec8\" x=\"206.255766\" y=\"64.13743\" style=\"fill: #59a590; stroke: #59a590\"/>\n     <use xlink:href=\"#m2f4e617ec8\" x=\"228.512357\" y=\"64.130648\" style=\"fill: #59a590; stroke: #59a590\"/>\n     <use xlink:href=\"#m2f4e617ec8\" x=\"250.768947\" y=\"64.202892\" style=\"fill: #59a590; stroke: #59a590\"/>\n     <use xlink:href=\"#m2f4e617ec8\" x=\"273.025538\" y=\"64.202892\" style=\"fill: #59a590; stroke: #59a590\"/>\n     <use xlink:href=\"#m2f4e617ec8\" x=\"295.282129\" y=\"64.202892\" style=\"fill: #59a590; stroke: #59a590\"/>\n     <use xlink:href=\"#m2f4e617ec8\" x=\"317.53872\" y=\"64.202892\" style=\"fill: #59a590; stroke: #59a590\"/>\n     <use xlink:href=\"#m2f4e617ec8\" x=\"339.795311\" y=\"64.202892\" style=\"fill: #59a590; stroke: #59a590\"/>\n    </g>\n   </g>\n   <g id=\"patch_3\">\n    <path d=\"M 59.362266 317.2  L 59.362266 40  \" style=\"fill: none; stroke: #000000; stroke-width: 0.5; stroke-linejoin: miter; stroke-linecap: square\"/>\n   </g>\n   <g id=\"patch_4\">\n    <path d=\"M 353.149266 317.2  L 353.149266 40  \" style=\"fill: none; stroke: #000000; stroke-width: 0.5; stroke-linejoin: miter; stroke-linecap: square\"/>\n   </g>\n   <g id=\"patch_5\">\n    <path d=\"M 59.362266 317.2  L 353.149266 317.2  \" style=\"fill: none; stroke: #000000; stroke-width: 0.5; stroke-linejoin: miter; stroke-linecap: square\"/>\n   </g>\n   <g id=\"patch_6\">\n    <path d=\"M 59.362266 40  L 353.149266 40  \" style=\"fill: none; stroke: #000000; stroke-width: 0.5; stroke-linejoin: miter; stroke-linecap: square\"/>\n   </g>\n   <g id=\"text_13\">\n    <!-- $V_{Cd}^{0}$ -->\n    <g transform=\"translate(189.055766 25) scale(0.2 -0.2)\">\n     <use xlink:href=\"#Montserrat-Regular-56\" transform=\"translate(0 0.976562)\"/>\n     <use xlink:href=\"#Montserrat-Regular-30\" transform=\"translate(70.718738 39.584375) scale(0.7)\"/>\n     <use xlink:href=\"#Montserrat-Regular-43\" transform=\"translate(70.718738 -25.273438) scale(0.7)\"/>\n     <use xlink:href=\"#Montserrat-Regular-64\" transform=\"translate(121.048734 -25.273438) scale(0.7)\"/>\n    </g>\n   </g>\n   <g id=\"legend_1\">\n    <g id=\"patch_7\">\n     <path d=\"M 209.304266 310.7  L 344.049266 310.7  Q 346.649266 310.7 346.649266 308.1  L 346.649266 272.061563  Q 346.649266 269.461563 344.049266 269.461563  L 209.304266 269.461563  Q 206.704266 269.461563 206.704266 272.061563  L 206.704266 308.1  Q 206.704266 310.7 209.304266 310.7  z \" style=\"fill: #ffffff; opacity: 0.8; stroke: #cccccc; stroke-linejoin: miter\"/>\n    </g>\n    <g id=\"line2d_20\">\n     <path d=\"M 211.904266 279.757969  L 219.704266 279.757969  L 227.504266 279.757969  \" style=\"fill: none; stroke: #59a590; stroke-linecap: square\"/>\n     <g>\n      <use xlink:href=\"#m2f4e617ec8\" x=\"219.704266\" y=\"279.757969\" style=\"fill: #59a590; stroke: #59a590\"/>\n     </g>\n    </g>\n    <g id=\"text_14\">\n     <!-- Distortions: 2 Te -->\n     <g transform=\"translate(237.904266 284.307969) scale(0.13 -0.13)\">\n      <defs>\n       <path id=\"Montserrat-Regular-3a\" d=\"M 678 2720  Q 538 2720 438 2822  Q 339 2925 339 3072  Q 339 3226 438 3322  Q 538 3418 678 3418  Q 819 3418 918 3322  Q 1018 3226 1018 3072  Q 1018 2925 918 2822  Q 819 2720 678 2720  z M 678 -32  Q 538 -32 438 70  Q 339 173 339 320  Q 339 474 438 570  Q 538 666 678 666  Q 819 666 918 570  Q 1018 474 1018 320  Q 1018 173 918 70  Q 819 -32 678 -32  z \" transform=\"scale(0.015625)\"/>\n      </defs>\n      <use xlink:href=\"#Montserrat-Regular-44\"/>\n      <use xlink:href=\"#Montserrat-Regular-69\" x=\"82.599991\"/>\n      <use xlink:href=\"#Montserrat-Regular-73\" x=\"109.499985\"/>\n      <use xlink:href=\"#Montserrat-Regular-74\" x=\"158.299973\"/>\n      <use xlink:href=\"#Montserrat-Regular-6f\" x=\"198.899963\"/>\n      <use xlink:href=\"#Montserrat-Regular-72\" x=\"261.59996\"/>\n      <use xlink:href=\"#Montserrat-Regular-74\" x=\"301.699951\"/>\n      <use xlink:href=\"#Montserrat-Regular-69\" x=\"342.299942\"/>\n      <use xlink:href=\"#Montserrat-Regular-6f\" x=\"369.199936\"/>\n      <use xlink:href=\"#Montserrat-Regular-6e\" x=\"431.899933\"/>\n      <use xlink:href=\"#Montserrat-Regular-73\" x=\"499.499924\"/>\n      <use xlink:href=\"#Montserrat-Regular-3a\" x=\"548.299911\"/>\n      <use xlink:href=\"#Montserrat-Regular-20\" x=\"569.499908\"/>\n      <use xlink:href=\"#Montserrat-Regular-32\" x=\"595.699905\"/>\n      <use xlink:href=\"#Montserrat-Regular-20\" x=\"652.499893\"/>\n      <use xlink:href=\"#Montserrat-Regular-54\" x=\"678.69989\"/>\n      <use xlink:href=\"#Montserrat-Regular-65\" x=\"736.099884\"/>\n     </g>\n    </g>\n    <g id=\"PathCollection_3\">\n     <g>\n      <use xlink:href=\"#m698e344357\" x=\"219.704266\" y=\"299.564687\" style=\"fill: #bbbe90; stroke: #bbbe90\"/>\n     </g>\n    </g>\n    <g id=\"text_15\">\n     <!-- Unperturbed -->\n     <g transform=\"translate(237.904266 302.977188) scale(0.13 -0.13)\">\n      <defs>\n       <path id=\"Montserrat-Regular-55\" d=\"M 2534 -38  Q 1677 -38 1184 454  Q 691 947 691 1914  L 691 4480  L 1165 4480  L 1165 1933  Q 1165 1139 1523 761  Q 1882 384 2534 384  Q 3194 384 3552 761  Q 3910 1139 3910 1933  L 3910 4480  L 4371 4480  L 4371 1914  Q 4371 947 3881 454  Q 3392 -38 2534 -38  z \" transform=\"scale(0.015625)\"/>\n       <path id=\"Montserrat-Regular-70\" d=\"M 2368 -32  Q 1933 -32 1581 169  Q 1229 371 1021 752  Q 813 1133 813 1683  Q 813 2234 1017 2614  Q 1222 2995 1574 3193  Q 1926 3392 2368 3392  Q 2848 3392 3229 3177  Q 3610 2963 3827 2576  Q 4045 2189 4045 1683  Q 4045 1171 3827 787  Q 3610 403 3229 185  Q 2848 -32 2368 -32  z M 634 -1242  L 634 3360  L 1069 3360  L 1069 2349  L 1024 1677  L 1088 998  L 1088 -1242  L 634 -1242  z M 2336 371  Q 2694 371 2976 534  Q 3258 698 3424 995  Q 3590 1293 3590 1683  Q 3590 2074 3424 2368  Q 3258 2662 2976 2828  Q 2694 2995 2336 2995  Q 1978 2995 1693 2828  Q 1408 2662 1245 2368  Q 1082 2074 1082 1683  Q 1082 1293 1245 995  Q 1408 698 1693 534  Q 1978 371 2336 371  z \" transform=\"scale(0.015625)\"/>\n       <path id=\"Montserrat-Regular-75\" d=\"M 2022 -32  Q 1594 -32 1274 128  Q 954 288 778 608  Q 602 928 602 1408  L 602 3360  L 1056 3360  L 1056 1459  Q 1056 922 1321 650  Q 1587 378 2067 378  Q 2419 378 2678 522  Q 2938 666 3075 941  Q 3213 1216 3213 1600  L 3213 3360  L 3667 3360  L 3667 0  L 3232 0  L 3232 922  L 3302 755  Q 3142 384 2806 176  Q 2470 -32 2022 -32  z \" transform=\"scale(0.015625)\"/>\n       <path id=\"Montserrat-Regular-62\" d=\"M 2368 -32  Q 1926 -32 1574 169  Q 1222 371 1017 755  Q 813 1139 813 1683  Q 813 2234 1021 2614  Q 1229 2995 1581 3193  Q 1933 3392 2368 3392  Q 2848 3392 3229 3177  Q 3610 2963 3827 2579  Q 4045 2195 4045 1683  Q 4045 1178 3827 790  Q 3610 403 3229 185  Q 2848 -32 2368 -32  z M 634 0  L 634 4749  L 1088 4749  L 1088 2368  L 1024 1690  L 1069 1011  L 1069 0  L 634 0  z M 2336 371  Q 2694 371 2976 534  Q 3258 698 3424 995  Q 3590 1293 3590 1683  Q 3590 2080 3424 2374  Q 3258 2669 2976 2832  Q 2694 2995 2336 2995  Q 1978 2995 1693 2832  Q 1408 2669 1245 2374  Q 1082 2080 1082 1683  Q 1082 1293 1245 995  Q 1408 698 1693 534  Q 1978 371 2336 371  z \" transform=\"scale(0.015625)\"/>\n      </defs>\n      <use xlink:href=\"#Montserrat-Regular-55\"/>\n      <use xlink:href=\"#Montserrat-Regular-6e\" x=\"79.199982\"/>\n      <use xlink:href=\"#Montserrat-Regular-70\" x=\"146.799973\"/>\n      <use xlink:href=\"#Montserrat-Regular-65\" x=\"214.59996\"/>\n      <use xlink:href=\"#Montserrat-Regular-72\" x=\"274.999954\"/>\n      <use xlink:href=\"#Montserrat-Regular-74\" x=\"315.099945\"/>\n      <use xlink:href=\"#Montserrat-Regular-75\" x=\"355.699936\"/>\n      <use xlink:href=\"#Montserrat-Regular-72\" x=\"422.899933\"/>\n      <use xlink:href=\"#Montserrat-Regular-62\" x=\"462.999924\"/>\n      <use xlink:href=\"#Montserrat-Regular-65\" x=\"530.799911\"/>\n      <use xlink:href=\"#Montserrat-Regular-64\" x=\"591.199905\"/>\n     </g>\n    </g>\n   </g>\n  </g>\n  <g id=\"axes_2\">\n   <g id=\"patch_8\">\n    <path d=\"M 385.792266 289.48  L 396.880266 289.48  L 396.880266 67.72  L 385.792266 67.72  L 385.792266 289.48  z \" style=\"fill: none\"/>\n   </g>\n   <g id=\"patch_9\">\n    <path clip-path=\"url(#pfeeceff0dd)\" style=\"fill: #ffffff; stroke: #ffffff; stroke-width: 0.01; stroke-linejoin: miter\"/>\n   </g>\n   <image xlink:href=\"data:image/png;base64, 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\" id=\"imagef42b3a03a5\" transform=\"scale(1 -1) translate(0 -221.76)\" x=\"385.8\" y=\"-67.68\" width=\"11.04\" height=\"221.76\"/>\n   <g id=\"matplotlib.axis_3\"/>\n   <g id=\"matplotlib.axis_4\">\n    <g id=\"ytick_6\">\n     <g id=\"line2d_21\"/>\n     <g id=\"text_16\">\n      <!-- 0.0 -->\n      <g transform=\"translate(402.880266 293.74668) scale(0.115 -0.115)\">\n       <use xlink:href=\"#Montserrat-Regular-30\"/>\n       <use xlink:href=\"#Montserrat-Regular-2e\" x=\"66.199997\"/>\n       <use xlink:href=\"#Montserrat-Regular-30\" x=\"87.399994\"/>\n      </g>\n     </g>\n    </g>\n    <g id=\"ytick_7\">\n     <g id=\"line2d_22\"/>\n     <g id=\"text_17\">\n      <!-- 3.0 -->\n      <g transform=\"translate(402.880266 180.987358) scale(0.115 -0.115)\">\n       <use xlink:href=\"#Montserrat-Regular-33\"/>\n       <use xlink:href=\"#Montserrat-Regular-2e\" x=\"56.399994\"/>\n       <use xlink:href=\"#Montserrat-Regular-30\" x=\"77.599991\"/>\n      </g>\n     </g>\n    </g>\n    <g id=\"ytick_8\">\n     <g id=\"line2d_23\"/>\n     <g id=\"text_18\">\n      <!-- 5.9 -->\n      <g transform=\"translate(402.880266 71.98668) scale(0.115 -0.115)\">\n       <defs>\n        <path id=\"Montserrat-Regular-35\" d=\"M 1747 -38  Q 1267 -38 832 118  Q 397 275 141 538  L 365 902  Q 576 678 944 531  Q 1312 384 1741 384  Q 2310 384 2608 637  Q 2906 890 2906 1299  Q 2906 1587 2768 1795  Q 2630 2003 2304 2118  Q 1978 2234 1408 2234  L 454 2234  L 685 4480  L 3136 4480  L 3136 4070  L 870 4070  L 1107 4294  L 909 2413  L 672 2643  L 1510 2643  Q 2189 2643 2598 2476  Q 3008 2310 3190 2012  Q 3373 1715 3373 1318  Q 3373 941 3193 630  Q 3014 320 2656 141  Q 2298 -38 1747 -38  z \" transform=\"scale(0.015625)\"/>\n        <path id=\"Montserrat-Regular-39\" d=\"M 1728 4518  Q 2323 4518 2732 4252  Q 3142 3987 3353 3488  Q 3565 2989 3565 2278  Q 3565 1523 3305 1004  Q 3046 486 2585 224  Q 2125 -38 1517 -38  Q 1216 -38 944 19  Q 672 77 454 205  L 640 576  Q 813 461 1040 413  Q 1267 365 1510 365  Q 2234 365 2666 825  Q 3098 1286 3098 2202  Q 3098 2349 3082 2553  Q 3066 2758 3008 2963  L 3168 2842  Q 3104 2509 2896 2275  Q 2688 2042 2384 1920  Q 2080 1798 1709 1798  Q 1267 1798 924 1964  Q 582 2131 390 2432  Q 198 2733 198 3142  Q 198 3565 396 3872  Q 595 4179 944 4348  Q 1293 4518 1728 4518  z M 1747 4128  Q 1427 4128 1180 4009  Q 934 3891 793 3673  Q 653 3456 653 3155  Q 653 2714 957 2451  Q 1261 2189 1779 2189  Q 2125 2189 2384 2317  Q 2643 2445 2787 2669  Q 2931 2893 2931 3168  Q 2931 3418 2796 3635  Q 2662 3853 2400 3990  Q 2138 4128 1747 4128  z \" transform=\"scale(0.015625)\"/>\n       </defs>\n       <use xlink:href=\"#Montserrat-Regular-35\"/>\n       <use xlink:href=\"#Montserrat-Regular-2e\" x=\"56.599991\"/>\n       <use xlink:href=\"#Montserrat-Regular-39\" x=\"77.799988\"/>\n      </g>\n     </g>\n    </g>\n   </g>\n   <g id=\"LineCollection_1\"/>\n   <g id=\"text_19\">\n    <!-- $\\Sigma$ Disp $(\\AA)$ -->\n    <g transform=\"translate(355.411266 53.145) scale(0.15 -0.15)\">\n     <defs>\n      <path id=\"STIXNonUnicode-Regular-e18f\" d=\"M 3802 474  L 3731 0  L 173 0  L 166 147  L 1926 2189  L 166 4096  L 166 4237  L 3501 4237  L 3501 3763  L 1146 3763  L 2592 2195  L 1107 474  L 3802 474  z \" transform=\"scale(0.015625)\"/>\n      <path id=\"Montserrat-Regular-c5\" d=\"M 13 0  L 2061 4480  L 2528 4480  L 4576 0  L 4077 0  L 2195 4205  L 2387 4205  L 506 0  L 13 0  z M 819 1197  L 960 1581  L 3565 1581  L 3706 1197  L 819 1197  z M 2290 4960  Q 2098 4960 1947 5049  Q 1797 5139 1710 5286  Q 1624 5434 1624 5613  Q 1624 5792 1713 5945  Q 1803 6099 1953 6192  Q 2104 6285 2290 6285  Q 2482 6285 2632 6192  Q 2782 6099 2872 5945  Q 2962 5792 2962 5613  Q 2962 5434 2872 5286  Q 2782 5139 2632 5049  Q 2482 4960 2290 4960  z M 2290 5184  Q 2482 5184 2603 5309  Q 2725 5434 2725 5613  Q 2725 5798 2603 5929  Q 2482 6061 2290 6061  Q 2104 6061 1982 5933  Q 1861 5805 1861 5613  Q 1861 5427 1979 5305  Q 2098 5184 2290 5184  z \" transform=\"scale(0.015625)\"/>\n     </defs>\n     <use xlink:href=\"#STIXNonUnicode-Regular-e18f\" transform=\"translate(0 0.796875)\"/>\n     <use xlink:href=\"#Montserrat-Regular-20\" transform=\"translate(62.399994 0.796875)\"/>\n     <use xlink:href=\"#Montserrat-Regular-44\" transform=\"translate(88.599991 0.796875)\"/>\n     <use xlink:href=\"#Montserrat-Regular-69\" transform=\"translate(171.199982 0.796875)\"/>\n     <use xlink:href=\"#Montserrat-Regular-73\" transform=\"translate(198.099976 0.796875)\"/>\n     <use xlink:href=\"#Montserrat-Regular-70\" transform=\"translate(246.899963 0.796875)\"/>\n     <use xlink:href=\"#Montserrat-Regular-20\" transform=\"translate(314.699951 0.796875)\"/>\n     <use xlink:href=\"#Montserrat-Regular-28\" transform=\"translate(340.899948 0.796875)\"/>\n     <use xlink:href=\"#Montserrat-Regular-c5\" transform=\"translate(373.799942 0.796875)\"/>\n     <use xlink:href=\"#Montserrat-Regular-29\" transform=\"translate(445.499924 0.796875)\"/>\n    </g>\n   </g>\n  </g>\n </g>\n <defs>\n  <clipPath id=\"p657080efc1\">\n   <rect x=\"59.362266\" y=\"40\" width=\"293.787\" height=\"277.2\"/>\n  </clipPath>\n  <clipPath id=\"pfeeceff0dd\">\n   <rect x=\"385.792266\" y=\"67.72\" width=\"11.088\" height=\"221.76\"/>\n  </clipPath>\n </defs>\n</svg>",
      "text/plain": [
       "<IPython.core.display.SVG object>"
      ]
     },
     "execution_count": 76,
     "metadata": {},
     "output_type": "execute_result"
    }
   ],
   "source": [
    "# Show plots\n",
    "from IPython.core.display import SVG\n",
    "SVG(filename=\"./v_Cd_0/v_Cd_0.svg\")"
   ]
  },
  {
   "cell_type": "markdown",
   "id": "8ff48ae2-68d1-4ad5-8a2d-7fe60cb5af18",
   "metadata": {
    "pycharm": {
     "name": "#%% md\n"
    }
   },
   "source": [
    "So for these example results, we find energy lowering distortions for $V_{Cd}^0$ (at -0.3, -0.4 and -0.6 bond distortion factors) and $V_{Cd}^{-1}$ (from 0.2 to 0.6 bond distortion factors). We should re-test these distorted structures for the $V_{Cd}$ charge states where these distortions were not found, in case they also give lower energies. \n",
    "\n",
    "Of course, this is not necessary if these structures were already found in the distortion tests for the other charge states, and so the `get_energy_lowering_distortions()` function automatically performs structure comparisons to determine which distortions should be tested in other charge states of the same defect, and which have already been found (see docstring for more details). "
   ]
  },
  {
   "cell_type": "markdown",
   "id": "64bbd1d9-3ae3-490d-a8b6-a3351563413b",
   "metadata": {
    "pycharm": {
     "name": "#%% md\n"
    }
   },
   "source": [
    "In the output of `get_energy_lowering_distortions()` (which we saved to `low_energy_defects` in the earlier cell), we get a dictionary of defects for which bond distortion found an energy-lowering distortion (which is missed with normal unperturbed relaxation), of the form {defect: [list of distortion dictionaries (with corresponding charge states, energy lowering, distortion factors, structures and charge states for which these structures weren't found)]}."
   ]
  },
  {
   "cell_type": "markdown",
   "id": "6ca018a4-ccb6-4ba0-985b-e748eee08a27",
   "metadata": {
    "pycharm": {
     "name": "#%% md\n"
    }
   },
   "source": [
    "For example, our results with $V_{Cd}$ show that we found an energy-lowering distortion for the neutral case (`subdict[\"charges\"]`) which wasn't found with the -2 or -1 charge states (`subdict[\"excluded_charges\"]`) – and so we'll test this distorted structures with those charge states – and also an energy-lowering distortion for -1 which wasn't found with 0 or -2 charge states."
   ]
  },
  {
   "cell_type": "code",
   "execution_count": 77,
   "id": "322a1032-bc82-4d20-94d9-cf0f2f2b8208",
   "metadata": {
    "pycharm": {
     "name": "#%%\n"
    }
   },
   "outputs": [
    {
     "name": "stdout",
     "output_type": "stream",
     "text": [
      "Energy lowering distortion number 0\n",
      "Found for charge states: [-1]\n",
      "Not found in: {0, -2} \n",
      "\n",
      "Energy lowering distortion number 1\n",
      "Found for charge states: [0]\n",
      "Not found in: {-1, -2} \n",
      "\n"
     ]
    }
   ],
   "source": [
    "for index, subdict in enumerate(low_energy_defects[\"v_Cd\"]):\n",
    "    print(f\"Energy lowering distortion number {index}\")\n",
    "    print(\"Found for charge states:\", subdict[\"charges\"])  # Charge state for which the energy lowering was found\n",
    "    print(f\"Not found in:\", subdict[\"excluded_charges\"], \"\\n\")"
   ]
  },
  {
   "cell_type": "markdown",
   "id": "a402b4a6-7380-4522-a686-f2880edd84eb",
   "metadata": {
    "pycharm": {
     "name": "#%% md\n"
    }
   },
   "source": [
    "This generates the new distorted structures and VASP inputs, to do our quick second round of structure testing (energy-lowering distortions found for at least one, but not all charge states for a given defect):"
   ]
  },
  {
   "cell_type": "code",
   "execution_count": 78,
   "id": "4b6ea78a-48b6-48d3-856d-e059aaf1f924",
   "metadata": {
    "pycharm": {
     "name": "#%%\n"
    }
   },
   "outputs": [
    {
     "name": "stdout",
     "output_type": "stream",
     "text": [
      "Writing low-energy distorted structure to ./v_Cd_0/Bond_Distortion_20.0%_from_-1\n",
      "Writing low-energy distorted structure to ./v_Cd_-2/Bond_Distortion_20.0%_from_-1\n",
      "Writing low-energy distorted structure to ./v_Cd_-1/Bond_Distortion_-60.0%_from_0\n",
      "Writing low-energy distorted structure to ./v_Cd_-2/Bond_Distortion_-60.0%_from_0\n"
     ]
    }
   ],
   "source": [
    "energy_lowering_distortions.write_distorted_inputs(low_energy_defects)"
   ]
  },
  {
   "cell_type": "markdown",
   "id": "614a2084-e6b9-48ab-9a56-2e07bf0b497d",
   "metadata": {},
   "source": [
    "Note here the nomenclature we use for the distorted structures we've imported from other charge states (i.e. `Bond_Distortion_-60.0%_from_0` refers to the structure obtained from relaxing the -60% distortion of the neutral (q = 0) charge state)."
   ]
  },
  {
   "cell_type": "markdown",
   "id": "76e0728a-6e89-4f9b-9436-718d94d7bfb3",
   "metadata": {},
   "source": [
    "We can send these additional test distortions to the HPCs using this `bash` code:\n",
    "```bash\n",
    "for defect in ./*{_,_-}[0-9]/; do cd $defect; for distortion in *from*/; do scp -r ${distortion} {remote_machine}:{path to ShakeNBreak folders}/${defect}${distortion}; done; cd ..; done\n",
    "```\n",
    "If you're using MacOS (i.e. `zsh` shell) you may need to run this command first for this loop to work:\n",
    "```bash\n",
    "setopt +o nomatch\n",
    "```"
   ]
  },
  {
   "cell_type": "markdown",
   "id": "7d09bbe6-693c-4c15-8586-3c9c13e78426",
   "metadata": {
    "pycharm": {
     "name": "#%% md\n"
    }
   },
   "source": [
    "Again we run the calculations on the HPCs, then parse and download the data to our local folders (e.g. using the same `for` loops above), but again in this example notebook we'll use our fake example data **_for demonstration purposes_** as in the next cell, but don't do this if you're actually running the calculations!"
   ]
  },
  {
   "cell_type": "code",
   "execution_count": 79,
   "id": "7eb4d411-fc2b-4680-92a9-c3c683898814",
   "metadata": {
    "pycharm": {
     "name": "#%%\n"
    }
   },
   "outputs": [],
   "source": [
    "!cp ./v_Cd_0/v_Cd_0_additional_distortions.yaml ./v_Cd_0/v_Cd_0.yaml\n",
    "!cp ./v_Cd_-1/v_Cd_-1_additional_distortions.yaml ./v_Cd_-1/v_Cd_-1.yaml\n",
    "!cp ./v_Cd_-2/v_Cd_-2_additional_distortions.yaml ./v_Cd_-2/v_Cd_-2.yaml\n",
    "!cp ./v_Cd_0/Bond_Distortion_-60.0%/CONTCAR ./v_Cd_-1/Bond_Distortion_-60.0%_from_0/\n",
    "!cp ./v_Cd_0/Bond_Distortion_-60.0%/CONTCAR ./v_Cd_-2/Bond_Distortion_-60.0%_from_0/\n",
    "!cp ./v_Cd_-1/Unperturbed/CONTCAR ./v_Cd_-2/Bond_Distortion_20.0%_from_-1/\n",
    "!cp ./v_Cd_-1/Unperturbed/CONTCAR ./v_Cd_0/Bond_Distortion_20.0%_from_-1/"
   ]
  },
  {
   "cell_type": "markdown",
   "id": "ff3434e0-fd91-4d00-bd6a-01e47b78524a",
   "metadata": {
    "pycharm": {
     "name": "#%% md\n"
    }
   },
   "source": [
    "Then re-parse with the same `get_energy_lowering_distortions()` function from before:"
   ]
  },
  {
   "cell_type": "code",
   "execution_count": 80,
   "id": "da6b9e3b-c05d-4dcd-a281-0b972ea56c05",
   "metadata": {
    "pycharm": {
     "name": "#%%\n"
    },
    "tags": []
   },
   "outputs": [
    {
     "name": "stdout",
     "output_type": "stream",
     "text": [
      "\n",
      "v_Cd\n",
      "v_Cd_-1: Energy difference between minimum, found with -60.0%_from_0 bond distortion, and unperturbed: -1.20 eV.\n",
      "Energy lowering distortion found for v_Cd with charge -1. Adding to low_energy_defects dictionary.\n",
      "v_Cd_-2: Energy difference between minimum, found with 20.0%_from_-1 bond distortion, and unperturbed: -1.90 eV.\n",
      "Comparing structures to specified ref_structure (Cd31 Te32)...\n",
      "New (according to structure matching) low-energy distorted  structure found for v_Cd_-2, adding to low_energy_defects['v_Cd'] list.\n",
      "v_Cd_0: Energy difference between minimum, found with -0.6 bond distortion, and unperturbed: -0.76 eV.\n",
      "Comparing structures to specified ref_structure (Cd31 Te32)...\n",
      "Comparing structures to specified ref_structure (Cd31 Te32)...\n",
      "Low-energy distorted structure for v_Cd_0 already found with charge states [-1], storing together.\n",
      "\n",
      "v_Ti\n",
      "No data parsed for v_Ti_0. This species will be skipped and will not be included in the low_energy_defects charge state lists (and so energy lowering distortions found for other charge states will not be applied for this species).\n",
      "\n",
      "Comparing and pruning defect structures across charge states...\n",
      "Comparing structures to specified ref_structure (Cd31 Te32)...\n"
     ]
    },
    {
     "name": "stderr",
     "output_type": "stream",
     "text": [
      "analysis.py:263: UserWarning: Path ./v_Ti_0/v_Ti_0.yaml does not exist\n"
     ]
    },
    {
     "name": "stdout",
     "output_type": "stream",
     "text": [
      "Ground-state structure found for v_Cd with charges [-1, 0] has been also previously been found for charge state -2 (according to structure matching). Adding this charge to the corresponding entry in low_energy_defects[v_Cd].\n",
      "Comparing structures to specified ref_structure (Cd31 Te32)...\n",
      "Ground-state structure found for v_Cd with charges [-2] has been also previously been found for charge state 0 (according to structure matching). Adding this charge to the corresponding entry in low_energy_defects[v_Cd].\n",
      "Comparing structures to specified ref_structure (Cd31 Te32)...\n",
      "Ground-state structure found for v_Cd with charges [-2, 0] has been also previously been found for charge state -1 (according to structure matching). Adding this charge to the corresponding entry in low_energy_defects[v_Cd].\n"
     ]
    }
   ],
   "source": [
    "low_energy_defects = energy_lowering_distortions.get_energy_lowering_distortions(defect_charges_dict)"
   ]
  },
  {
   "cell_type": "markdown",
   "id": "2723ed3d-d108-4716-b7ea-cae91e771910",
   "metadata": {
    "pycharm": {
     "name": "#%% md\n"
    }
   },
   "source": [
    "Finally we can replot the results from all our distortion tests:"
   ]
  },
  {
   "cell_type": "code",
   "execution_count": 81,
   "id": "c9b9f5d3-cce7-4d26-99ed-e8049127bab5",
   "metadata": {
    "pycharm": {
     "name": "#%%\n"
    }
   },
   "outputs": [
    {
     "name": "stdout",
     "output_type": "stream",
     "text": [
      "Previous version of v_Cd_-1.svg found in output_path: 'v_Cd_-1/'. Will rename old plot to v_Cd_-1_2022-10-19-11-15.svg.\n",
      "Plot saved to v_Cd_-1/v_Cd_-1.svg\n",
      "Plot saved to v_Cd_-2/v_Cd_-2.svg\n",
      "Previous version of v_Cd_0.svg found in output_path: 'v_Cd_0/'. Will rename old plot to v_Cd_0_2022-10-19-11-15.svg.\n",
      "Plot saved to v_Cd_0/v_Cd_0.svg\n"
     ]
    },
    {
     "name": "stderr",
     "output_type": "stream",
     "text": [
      "plotting.py:1225: UserWarning: Path ./v_Ti_0/v_Ti_0.yaml does not exist. Skipping v_Ti_0.\n"
     ]
    }
   ],
   "source": [
    "figs = plotting.plot_all_defects(defect_charges_dict)"
   ]
  },
  {
   "cell_type": "code",
   "execution_count": 82,
   "id": "2830f9ff",
   "metadata": {},
   "outputs": [
    {
     "data": {
      "image/svg+xml": "<svg xmlns:xlink=\"http://www.w3.org/1999/xlink\" xmlns=\"http://www.w3.org/2000/svg\" width=\"401.362266pt\" height=\"396.285078pt\" viewBox=\"0 0 401.362266 396.285078\" version=\"1.1\">\n <metadata>\n  <rdf:RDF xmlns:dc=\"http://purl.org/dc/elements/1.1/\" xmlns:cc=\"http://creativecommons.org/ns#\" xmlns:rdf=\"http://www.w3.org/1999/02/22-rdf-syntax-ns#\">\n   <cc:Work>\n    <dc:type rdf:resource=\"http://purl.org/dc/dcmitype/StillImage\"/>\n    <dc:date>2022-10-19T11:15:19.774864</dc:date>\n    <dc:format>image/svg+xml</dc:format>\n    <dc:creator>\n     <cc:Agent>\n      <dc:title>Matplotlib v3.6.1, https://matplotlib.org/</dc:title>\n     </cc:Agent>\n    </dc:creator>\n   </cc:Work>\n  </rdf:RDF>\n </metadata>\n <defs>\n  <style type=\"text/css\">*{stroke-linejoin: round; stroke-linecap: butt}</style>\n </defs>\n <g id=\"figure_1\">\n  <g id=\"patch_1\">\n   <path d=\"M 0 396.285078  L 401.362266 396.285078  L 401.362266 0  L 0 0  L 0 396.285078  z \" style=\"fill: none\"/>\n  </g>\n  <g id=\"axes_1\">\n   <g id=\"patch_2\">\n    <path d=\"M 59.362266 344.92  L 394.162266 344.92  L 394.162266 40  L 59.362266 40  L 59.362266 344.92  z \" style=\"fill: none\"/>\n   </g>\n   <g id=\"matplotlib.axis_1\">\n    <g id=\"xtick_1\">\n     <g id=\"line2d_1\">\n      <defs>\n       <path id=\"m9f358df8d3\" d=\"M 0 0  L 0 -12  \" style=\"stroke: #000000; stroke-width: 0.2\"/>\n      </defs>\n      <g>\n       <use xlink:href=\"#m9f358df8d3\" x=\"74.580447\" y=\"344.92\" style=\"stroke: #000000; stroke-width: 0.2\"/>\n      </g>\n     </g>\n     <g id=\"text_1\">\n      <!-- -0.6 -->\n      <g transform=\"translate(63.855799 359.453359) scale(0.115 -0.115)\">\n       <defs>\n        <path id=\"Montserrat-Regular-2d\" d=\"M 384 1536  L 384 1933  L 2061 1933  L 2061 1536  L 384 1536  z \" transform=\"scale(0.015625)\"/>\n        <path id=\"Montserrat-Regular-30\" d=\"M 2118 -38  Q 1600 -38 1197 234  Q 794 506 563 1014  Q 333 1523 333 2240  Q 333 2957 563 3465  Q 794 3974 1197 4246  Q 1600 4518 2118 4518  Q 2637 4518 3040 4246  Q 3443 3974 3676 3465  Q 3910 2957 3910 2240  Q 3910 1523 3676 1014  Q 3443 506 3040 234  Q 2637 -38 2118 -38  z M 2118 384  Q 2515 384 2809 598  Q 3104 813 3270 1225  Q 3437 1638 3437 2240  Q 3437 2842 3270 3254  Q 3104 3667 2809 3881  Q 2515 4096 2118 4096  Q 1734 4096 1433 3881  Q 1133 3667 966 3254  Q 800 2842 800 2240  Q 800 1638 966 1225  Q 1133 813 1433 598  Q 1734 384 2118 384  z \" transform=\"scale(0.015625)\"/>\n        <path id=\"Montserrat-Regular-2e\" d=\"M 678 -32  Q 538 -32 438 70  Q 339 173 339 320  Q 339 474 438 570  Q 538 666 678 666  Q 819 666 918 570  Q 1018 474 1018 320  Q 1018 173 918 70  Q 819 -32 678 -32  z \" transform=\"scale(0.015625)\"/>\n        <path id=\"Montserrat-Regular-36\" d=\"M 2170 -38  Q 1574 -38 1164 227  Q 755 493 544 995  Q 333 1498 333 2202  Q 333 2963 592 3478  Q 851 3994 1312 4256  Q 1773 4518 2381 4518  Q 2682 4518 2957 4460  Q 3232 4403 3443 4275  L 3258 3904  Q 3085 4019 2861 4067  Q 2637 4115 2387 4115  Q 1664 4115 1232 3654  Q 800 3194 800 2278  Q 800 2138 816 1930  Q 832 1722 890 1517  L 730 1638  Q 800 1971 1005 2204  Q 1210 2438 1517 2560  Q 1824 2682 2189 2682  Q 2637 2682 2976 2515  Q 3315 2349 3507 2048  Q 3699 1747 3699 1338  Q 3699 922 3500 611  Q 3302 301 2953 131  Q 2605 -38 2170 -38  z M 2150 352  Q 2470 352 2716 470  Q 2963 589 3104 809  Q 3245 1030 3245 1325  Q 3245 1766 2941 2028  Q 2637 2291 2118 2291  Q 1773 2291 1517 2163  Q 1261 2035 1113 1814  Q 966 1594 966 1312  Q 966 1069 1100 848  Q 1235 627 1500 489  Q 1766 352 2150 352  z \" transform=\"scale(0.015625)\"/>\n       </defs>\n       <use xlink:href=\"#Montserrat-Regular-2d\"/>\n       <use xlink:href=\"#Montserrat-Regular-30\" x=\"38.199997\"/>\n       <use xlink:href=\"#Montserrat-Regular-2e\" x=\"104.399994\"/>\n       <use xlink:href=\"#Montserrat-Regular-36\" x=\"125.599991\"/>\n      </g>\n     </g>\n    </g>\n    <g id=\"xtick_2\">\n     <g id=\"line2d_2\">\n      <g>\n       <use xlink:href=\"#m9f358df8d3\" x=\"150.671357\" y=\"344.92\" style=\"stroke: #000000; stroke-width: 0.2\"/>\n      </g>\n     </g>\n     <g id=\"text_2\">\n      <!-- -0.3 -->\n      <g transform=\"translate(140.205458 359.453359) scale(0.115 -0.115)\">\n       <defs>\n        <path id=\"Montserrat-Regular-33\" d=\"M 1670 -38  Q 1184 -38 752 118  Q 320 275 58 538  L 282 902  Q 499 678 867 531  Q 1235 384 1670 384  Q 2227 384 2524 627  Q 2822 870 2822 1280  Q 2822 1690 2531 1933  Q 2240 2176 1613 2176  L 1293 2176  L 1293 2515  L 2675 4250  L 2739 4070  L 243 4070  L 243 4480  L 3123 4480  L 3123 4154  L 1741 2419  L 1517 2566  L 1690 2566  Q 2496 2566 2896 2208  Q 3296 1850 3296 1286  Q 3296 909 3117 608  Q 2938 307 2576 134  Q 2214 -38 1670 -38  z \" transform=\"scale(0.015625)\"/>\n       </defs>\n       <use xlink:href=\"#Montserrat-Regular-2d\"/>\n       <use xlink:href=\"#Montserrat-Regular-30\" x=\"38.199997\"/>\n       <use xlink:href=\"#Montserrat-Regular-2e\" x=\"104.399994\"/>\n       <use xlink:href=\"#Montserrat-Regular-33\" x=\"125.599991\"/>\n      </g>\n     </g>\n    </g>\n    <g id=\"xtick_3\">\n     <g id=\"line2d_3\">\n      <g>\n       <use xlink:href=\"#m9f358df8d3\" x=\"226.762266\" y=\"344.92\" style=\"stroke: #000000; stroke-width: 0.2\"/>\n      </g>\n     </g>\n     <g id=\"text_3\">\n      <!-- 0.0 -->\n      <g transform=\"translate(217.929727 359.453359) scale(0.115 -0.115)\">\n       <use xlink:href=\"#Montserrat-Regular-30\"/>\n       <use xlink:href=\"#Montserrat-Regular-2e\" x=\"66.199997\"/>\n       <use xlink:href=\"#Montserrat-Regular-30\" x=\"87.399994\"/>\n      </g>\n     </g>\n    </g>\n    <g id=\"xtick_4\">\n     <g id=\"line2d_4\">\n      <g>\n       <use xlink:href=\"#m9f358df8d3\" x=\"302.853175\" y=\"344.92\" style=\"stroke: #000000; stroke-width: 0.2\"/>\n      </g>\n     </g>\n     <g id=\"text_4\">\n      <!-- 0.3 -->\n      <g transform=\"translate(294.583956 359.453359) scale(0.115 -0.115)\">\n       <use xlink:href=\"#Montserrat-Regular-30\"/>\n       <use xlink:href=\"#Montserrat-Regular-2e\" x=\"66.199997\"/>\n       <use xlink:href=\"#Montserrat-Regular-33\" x=\"87.399994\"/>\n      </g>\n     </g>\n    </g>\n    <g id=\"xtick_5\">\n     <g id=\"line2d_5\">\n      <g>\n       <use xlink:href=\"#m9f358df8d3\" x=\"378.944084\" y=\"344.92\" style=\"stroke: #000000; stroke-width: 0.2\"/>\n      </g>\n     </g>\n     <g id=\"text_5\">\n      <!-- 0.6 -->\n      <g transform=\"translate(370.416115 359.453359) scale(0.115 -0.115)\">\n       <use xlink:href=\"#Montserrat-Regular-30\"/>\n       <use xlink:href=\"#Montserrat-Regular-2e\" x=\"66.199997\"/>\n       <use xlink:href=\"#Montserrat-Regular-36\" x=\"87.399994\"/>\n      </g>\n     </g>\n    </g>\n    <g id=\"xtick_6\">\n     <g id=\"line2d_6\">\n      <defs>\n       <path id=\"m4ea4421ec1\" d=\"M 0 0  L 0 -5  \" style=\"stroke: #000000; stroke-width: 0.2\"/>\n      </defs>\n      <g>\n       <use xlink:href=\"#m4ea4421ec1\" x=\"99.944084\" y=\"344.92\" style=\"stroke: #000000; stroke-width: 0.2\"/>\n      </g>\n     </g>\n    </g>\n    <g id=\"xtick_7\">\n     <g id=\"line2d_7\">\n      <g>\n       <use xlink:href=\"#m4ea4421ec1\" x=\"125.30772\" y=\"344.92\" style=\"stroke: #000000; stroke-width: 0.2\"/>\n      </g>\n     </g>\n    </g>\n    <g id=\"xtick_8\">\n     <g id=\"line2d_8\">\n      <g>\n       <use xlink:href=\"#m4ea4421ec1\" x=\"176.034993\" y=\"344.92\" style=\"stroke: #000000; stroke-width: 0.2\"/>\n      </g>\n     </g>\n    </g>\n    <g id=\"xtick_9\">\n     <g id=\"line2d_9\">\n      <g>\n       <use xlink:href=\"#m4ea4421ec1\" x=\"201.398629\" y=\"344.92\" style=\"stroke: #000000; stroke-width: 0.2\"/>\n      </g>\n     </g>\n    </g>\n    <g id=\"xtick_10\">\n     <g id=\"line2d_10\">\n      <g>\n       <use xlink:href=\"#m4ea4421ec1\" x=\"252.125902\" y=\"344.92\" style=\"stroke: #000000; stroke-width: 0.2\"/>\n      </g>\n     </g>\n    </g>\n    <g id=\"xtick_11\">\n     <g id=\"line2d_11\">\n      <g>\n       <use xlink:href=\"#m4ea4421ec1\" x=\"277.489538\" y=\"344.92\" style=\"stroke: #000000; stroke-width: 0.2\"/>\n      </g>\n     </g>\n    </g>\n    <g id=\"xtick_12\">\n     <g id=\"line2d_12\">\n      <g>\n       <use xlink:href=\"#m4ea4421ec1\" x=\"328.216811\" y=\"344.92\" style=\"stroke: #000000; stroke-width: 0.2\"/>\n      </g>\n     </g>\n    </g>\n    <g id=\"xtick_13\">\n     <g id=\"line2d_13\">\n      <g>\n       <use xlink:href=\"#m4ea4421ec1\" x=\"353.580447\" y=\"344.92\" style=\"stroke: #000000; stroke-width: 0.2\"/>\n      </g>\n     </g>\n    </g>\n    <g id=\"text_6\">\n     <!-- Bond Distortion Factor (for 2 Te near $V_{Cd}^{0}$) -->\n     <g transform=\"translate(72.712266 385.035078) scale(0.15 -0.15)\">\n      <defs>\n       <path id=\"Montserrat-Regular-42\" d=\"M 730 0  L 730 4480  L 2662 4480  Q 3411 4480 3824 4179  Q 4237 3878 4237 3328  Q 4237 2963 4067 2713  Q 3898 2464 3606 2336  Q 3315 2208 2970 2208  L 3078 2362  Q 3507 2362 3817 2230  Q 4128 2099 4301 1840  Q 4474 1581 4474 1197  Q 4474 627 4054 313  Q 3635 0 2790 0  L 730 0  z M 1203 390  L 2784 390  Q 3373 390 3686 592  Q 4000 794 4000 1235  Q 4000 1670 3686 1872  Q 3373 2074 2784 2074  L 1152 2074  L 1152 2464  L 2630 2464  Q 3168 2464 3465 2669  Q 3763 2874 3763 3277  Q 3763 3686 3465 3888  Q 3168 4090 2630 4090  L 1203 4090  L 1203 390  z \" transform=\"scale(0.015625)\"/>\n       <path id=\"Montserrat-Regular-6f\" d=\"M 2003 -32  Q 1517 -32 1129 189  Q 742 410 518 797  Q 294 1184 294 1683  Q 294 2189 518 2573  Q 742 2957 1126 3174  Q 1510 3392 2003 3392  Q 2502 3392 2889 3174  Q 3277 2957 3497 2573  Q 3718 2189 3718 1683  Q 3718 1184 3497 797  Q 3277 410 2886 189  Q 2496 -32 2003 -32  z M 2003 371  Q 2368 371 2649 534  Q 2931 698 3094 995  Q 3258 1293 3258 1683  Q 3258 2080 3094 2374  Q 2931 2669 2649 2832  Q 2368 2995 2010 2995  Q 1651 2995 1369 2832  Q 1088 2669 921 2374  Q 755 2080 755 1683  Q 755 1293 921 995  Q 1088 698 1369 534  Q 1651 371 2003 371  z \" transform=\"scale(0.015625)\"/>\n       <path id=\"Montserrat-Regular-6e\" d=\"M 2349 3392  Q 2758 3392 3068 3235  Q 3379 3078 3555 2758  Q 3731 2438 3731 1952  L 3731 0  L 3277 0  L 3277 1907  Q 3277 2438 3011 2710  Q 2746 2982 2266 2982  Q 1907 2982 1641 2838  Q 1376 2694 1232 2422  Q 1088 2150 1088 1766  L 1088 0  L 634 0  L 634 3360  L 1069 3360  L 1069 2438  L 998 2611  Q 1158 2976 1510 3184  Q 1862 3392 2349 3392  z \" transform=\"scale(0.015625)\"/>\n       <path id=\"Montserrat-Regular-64\" d=\"M 1971 -32  Q 1491 -32 1110 185  Q 730 403 512 790  Q 294 1178 294 1683  Q 294 2195 512 2579  Q 730 2963 1110 3177  Q 1491 3392 1971 3392  Q 2413 3392 2761 3193  Q 3110 2995 3318 2614  Q 3526 2234 3526 1683  Q 3526 1139 3321 755  Q 3117 371 2768 169  Q 2419 -32 1971 -32  z M 2003 371  Q 2362 371 2646 534  Q 2931 698 3094 995  Q 3258 1293 3258 1683  Q 3258 2080 3094 2374  Q 2931 2669 2646 2832  Q 2362 2995 2003 2995  Q 1651 2995 1369 2832  Q 1088 2669 921 2374  Q 755 2080 755 1683  Q 755 1293 921 995  Q 1088 698 1369 534  Q 1651 371 2003 371  z M 3270 0  L 3270 1011  L 3315 1690  L 3251 2368  L 3251 4749  L 3706 4749  L 3706 0  L 3270 0  z \" transform=\"scale(0.015625)\"/>\n       <path id=\"Montserrat-Regular-20\" transform=\"scale(0.015625)\"/>\n       <path id=\"Montserrat-Regular-44\" d=\"M 730 0  L 730 4480  L 2554 4480  Q 3270 4480 3811 4195  Q 4352 3910 4653 3404  Q 4954 2899 4954 2240  Q 4954 1581 4653 1075  Q 4352 570 3811 285  Q 3270 0 2554 0  L 730 0  z M 1203 410  L 2528 410  Q 3123 410 3561 643  Q 4000 877 4243 1289  Q 4486 1702 4486 2240  Q 4486 2784 4243 3193  Q 4000 3603 3561 3836  Q 3123 4070 2528 4070  L 1203 4070  L 1203 410  z \" transform=\"scale(0.015625)\"/>\n       <path id=\"Montserrat-Regular-69\" d=\"M 634 0  L 634 3360  L 1088 3360  L 1088 0  L 634 0  z M 864 4102  Q 723 4102 627 4198  Q 531 4294 531 4429  Q 531 4563 627 4656  Q 723 4749 864 4749  Q 1005 4749 1101 4659  Q 1197 4570 1197 4435  Q 1197 4294 1104 4198  Q 1011 4102 864 4102  z \" transform=\"scale(0.015625)\"/>\n       <path id=\"Montserrat-Regular-73\" d=\"M 1536 -32  Q 1120 -32 749 86  Q 378 205 166 384  L 371 742  Q 576 589 896 477  Q 1216 365 1568 365  Q 2048 365 2259 515  Q 2470 666 2470 915  Q 2470 1101 2352 1206  Q 2234 1312 2042 1366  Q 1850 1421 1613 1459  Q 1376 1498 1142 1549  Q 909 1600 717 1699  Q 525 1798 406 1971  Q 288 2144 288 2432  Q 288 2707 441 2924  Q 595 3142 892 3267  Q 1190 3392 1619 3392  Q 1946 3392 2272 3305  Q 2598 3219 2810 3078  L 2611 2714  Q 2387 2867 2131 2934  Q 1875 3002 1619 3002  Q 1165 3002 950 2845  Q 736 2688 736 2445  Q 736 2253 854 2144  Q 973 2035 1168 1974  Q 1363 1914 1596 1875  Q 1830 1837 2064 1782  Q 2298 1728 2493 1635  Q 2688 1542 2806 1372  Q 2925 1203 2925 928  Q 2925 634 2761 419  Q 2598 205 2288 86  Q 1978 -32 1536 -32  z \" transform=\"scale(0.015625)\"/>\n       <path id=\"Montserrat-Regular-74\" d=\"M 1696 -32  Q 1222 -32 966 224  Q 710 480 710 947  L 710 4102  L 1165 4102  L 1165 973  Q 1165 678 1315 518  Q 1466 358 1747 358  Q 2048 358 2246 531  L 2406 205  Q 2272 83 2083 25  Q 1894 -32 1696 -32  z M 109 2982  L 109 3360  L 2189 3360  L 2189 2982  L 109 2982  z \" transform=\"scale(0.015625)\"/>\n       <path id=\"Montserrat-Regular-72\" d=\"M 634 0  L 634 3360  L 1069 3360  L 1069 2445  L 1024 2605  Q 1165 2989 1497 3190  Q 1830 3392 2323 3392  L 2323 2950  Q 2298 2950 2272 2953  Q 2246 2957 2221 2957  Q 1690 2957 1389 2633  Q 1088 2310 1088 1715  L 1088 0  L 634 0  z \" transform=\"scale(0.015625)\"/>\n       <path id=\"Montserrat-Regular-46\" d=\"M 1152 2310  L 3520 2310  L 3520 1901  L 1152 1901  L 1152 2310  z M 1203 0  L 730 0  L 730 4480  L 3802 4480  L 3802 4070  L 1203 4070  L 1203 0  z \" transform=\"scale(0.015625)\"/>\n       <path id=\"Montserrat-Regular-61\" d=\"M 2739 0  L 2739 742  L 2720 864  L 2720 2106  Q 2720 2534 2480 2764  Q 2240 2995 1766 2995  Q 1440 2995 1145 2886  Q 851 2778 646 2598  L 442 2938  Q 698 3155 1056 3273  Q 1414 3392 1811 3392  Q 2464 3392 2819 3069  Q 3174 2746 3174 2086  L 3174 0  L 2739 0  z M 1581 -32  Q 1203 -32 924 93  Q 646 218 499 438  Q 352 659 352 947  Q 352 1210 477 1424  Q 602 1638 886 1769  Q 1171 1901 1651 1901  L 2810 1901  L 2810 1562  L 1664 1562  Q 1178 1562 989 1389  Q 800 1216 800 960  Q 800 672 1024 499  Q 1248 326 1651 326  Q 2035 326 2313 502  Q 2592 678 2720 1011  L 2822 698  Q 2694 365 2377 166  Q 2061 -32 1581 -32  z \" transform=\"scale(0.015625)\"/>\n       <path id=\"Montserrat-Regular-63\" d=\"M 2029 -32  Q 1530 -32 1136 189  Q 742 410 518 797  Q 294 1184 294 1683  Q 294 2189 518 2573  Q 742 2957 1136 3174  Q 1530 3392 2029 3392  Q 2458 3392 2803 3225  Q 3149 3059 3347 2726  L 3008 2496  Q 2835 2752 2579 2873  Q 2323 2995 2022 2995  Q 1664 2995 1376 2832  Q 1088 2669 921 2374  Q 755 2080 755 1683  Q 755 1286 921 992  Q 1088 698 1376 534  Q 1664 371 2022 371  Q 2323 371 2579 492  Q 2835 614 3008 864  L 3347 634  Q 3149 307 2803 137  Q 2458 -32 2029 -32  z \" transform=\"scale(0.015625)\"/>\n       <path id=\"Montserrat-Regular-28\" d=\"M 1408 -1242  Q 1056 -659 861 105  Q 666 870 666 1754  Q 666 2637 861 3408  Q 1056 4179 1408 4749  L 1843 4749  Q 1466 4090 1290 3350  Q 1114 2611 1114 1754  Q 1114 896 1290 157  Q 1466 -582 1843 -1242  L 1408 -1242  z \" transform=\"scale(0.015625)\"/>\n       <path id=\"Montserrat-Regular-66\" d=\"M 710 0  L 710 3782  Q 710 4230 972 4505  Q 1235 4781 1728 4781  Q 1920 4781 2099 4729  Q 2278 4678 2400 4570  L 2246 4230  Q 2150 4314 2022 4355  Q 1894 4397 1747 4397  Q 1459 4397 1305 4237  Q 1152 4077 1152 3763  L 1152 3251  L 1165 3040  L 1165 0  L 710 0  z M 109 2982  L 109 3360  L 2189 3360  L 2189 2982  L 109 2982  z \" transform=\"scale(0.015625)\"/>\n       <path id=\"Montserrat-Regular-32\" d=\"M 250 0  L 250 326  L 2112 2150  Q 2368 2400 2496 2589  Q 2624 2778 2669 2944  Q 2714 3110 2714 3258  Q 2714 3648 2448 3872  Q 2182 4096 1664 4096  Q 1267 4096 963 3974  Q 659 3853 442 3597  L 115 3878  Q 378 4186 787 4352  Q 1197 4518 1702 4518  Q 2157 4518 2489 4374  Q 2822 4230 3004 3955  Q 3187 3680 3187 3309  Q 3187 3091 3126 2880  Q 3066 2669 2909 2435  Q 2752 2202 2451 1907  L 742 230  L 614 410  L 3392 410  L 3392 0  L 250 0  z \" transform=\"scale(0.015625)\"/>\n       <path id=\"Montserrat-Regular-54\" d=\"M 1600 0  L 1600 4070  L 26 4070  L 26 4480  L 3648 4480  L 3648 4070  L 2074 4070  L 2074 0  L 1600 0  z \" transform=\"scale(0.015625)\"/>\n       <path id=\"Montserrat-Regular-65\" d=\"M 2061 -32  Q 1536 -32 1139 189  Q 742 410 518 797  Q 294 1184 294 1683  Q 294 2182 508 2566  Q 723 2950 1097 3171  Q 1472 3392 1939 3392  Q 2413 3392 2781 3177  Q 3149 2963 3360 2576  Q 3571 2189 3571 1683  Q 3571 1651 3568 1616  Q 3565 1581 3565 1542  L 640 1542  L 640 1882  L 3322 1882  L 3142 1747  Q 3142 2112 2985 2397  Q 2829 2682 2560 2842  Q 2291 3002 1939 3002  Q 1594 3002 1318 2842  Q 1043 2682 889 2394  Q 736 2106 736 1734  L 736 1664  Q 736 1280 905 989  Q 1075 698 1379 534  Q 1683 371 2074 371  Q 2381 371 2646 480  Q 2912 589 3104 813  L 3360 518  Q 3136 250 2800 109  Q 2464 -32 2061 -32  z \" transform=\"scale(0.015625)\"/>\n       <path id=\"Montserrat-Regular-56\" d=\"M 2003 0  L 19 4480  L 531 4480  L 2387 262  L 2106 262  L 3974 4480  L 4454 4480  L 2470 0  L 2003 0  z \" transform=\"scale(0.015625)\"/>\n       <path id=\"Montserrat-Regular-43\" d=\"M 2675 -38  Q 2170 -38 1741 131  Q 1312 301 998 608  Q 685 915 509 1331  Q 333 1747 333 2240  Q 333 2733 509 3149  Q 685 3565 1001 3872  Q 1318 4179 1747 4348  Q 2176 4518 2682 4518  Q 3168 4518 3597 4355  Q 4026 4192 4320 3866  L 4019 3565  Q 3744 3846 3411 3971  Q 3078 4096 2694 4096  Q 2291 4096 1945 3958  Q 1600 3821 1344 3568  Q 1088 3315 944 2979  Q 800 2643 800 2240  Q 800 1837 944 1501  Q 1088 1165 1344 912  Q 1600 659 1945 521  Q 2291 384 2694 384  Q 3078 384 3411 512  Q 3744 640 4019 922  L 4320 621  Q 4026 294 3597 128  Q 3168 -38 2675 -38  z \" transform=\"scale(0.015625)\"/>\n       <path id=\"Montserrat-Regular-29\" d=\"M 691 -1242  L 256 -1242  Q 640 -582 816 157  Q 992 896 992 1754  Q 992 2611 816 3350  Q 640 4090 256 4749  L 691 4749  Q 1056 4179 1248 3408  Q 1440 2637 1440 1754  Q 1440 870 1248 105  Q 1056 -659 691 -1242  z \" transform=\"scale(0.015625)\"/>\n      </defs>\n      <use xlink:href=\"#Montserrat-Regular-42\" transform=\"translate(0 0.976562)\"/>\n      <use xlink:href=\"#Montserrat-Regular-6f\" transform=\"translate(75.399994 0.976562)\"/>\n      <use xlink:href=\"#Montserrat-Regular-6e\" transform=\"translate(138.099991 0.976562)\"/>\n      <use xlink:href=\"#Montserrat-Regular-64\" transform=\"translate(205.699982 0.976562)\"/>\n      <use xlink:href=\"#Montserrat-Regular-20\" transform=\"translate(273.499969 0.976562)\"/>\n      <use xlink:href=\"#Montserrat-Regular-44\" transform=\"translate(299.699966 0.976562)\"/>\n      <use xlink:href=\"#Montserrat-Regular-69\" transform=\"translate(382.299957 0.976562)\"/>\n      <use xlink:href=\"#Montserrat-Regular-73\" transform=\"translate(409.199951 0.976562)\"/>\n      <use xlink:href=\"#Montserrat-Regular-74\" transform=\"translate(457.999939 0.976562)\"/>\n      <use xlink:href=\"#Montserrat-Regular-6f\" transform=\"translate(498.59993 0.976562)\"/>\n      <use xlink:href=\"#Montserrat-Regular-72\" transform=\"translate(561.299927 0.976562)\"/>\n      <use xlink:href=\"#Montserrat-Regular-74\" transform=\"translate(601.399918 0.976562)\"/>\n      <use xlink:href=\"#Montserrat-Regular-69\" transform=\"translate(641.999908 0.976562)\"/>\n      <use xlink:href=\"#Montserrat-Regular-6f\" transform=\"translate(668.899902 0.976562)\"/>\n      <use xlink:href=\"#Montserrat-Regular-6e\" transform=\"translate(731.599899 0.976562)\"/>\n      <use xlink:href=\"#Montserrat-Regular-20\" transform=\"translate(799.19989 0.976562)\"/>\n      <use xlink:href=\"#Montserrat-Regular-46\" transform=\"translate(825.399887 0.976562)\"/>\n      <use xlink:href=\"#Montserrat-Regular-61\" transform=\"translate(888.699875 0.976562)\"/>\n      <use xlink:href=\"#Montserrat-Regular-63\" transform=\"translate(947.69986 0.976562)\"/>\n      <use xlink:href=\"#Montserrat-Regular-74\" transform=\"translate(1003.999847 0.976562)\"/>\n      <use xlink:href=\"#Montserrat-Regular-6f\" transform=\"translate(1044.599838 0.976562)\"/>\n      <use xlink:href=\"#Montserrat-Regular-72\" transform=\"translate(1107.299835 0.976562)\"/>\n      <use xlink:href=\"#Montserrat-Regular-20\" transform=\"translate(1147.399826 0.976562)\"/>\n      <use xlink:href=\"#Montserrat-Regular-28\" transform=\"translate(1173.599823 0.976562)\"/>\n      <use xlink:href=\"#Montserrat-Regular-66\" transform=\"translate(1206.499817 0.976562)\"/>\n      <use xlink:href=\"#Montserrat-Regular-6f\" transform=\"translate(1240.399811 0.976562)\"/>\n      <use xlink:href=\"#Montserrat-Regular-72\" transform=\"translate(1303.099808 0.976562)\"/>\n      <use xlink:href=\"#Montserrat-Regular-20\" transform=\"translate(1343.199799 0.976562)\"/>\n      <use xlink:href=\"#Montserrat-Regular-32\" transform=\"translate(1369.399796 0.976562)\"/>\n      <use xlink:href=\"#Montserrat-Regular-20\" transform=\"translate(1426.199783 0.976562)\"/>\n      <use xlink:href=\"#Montserrat-Regular-54\" transform=\"translate(1452.39978 0.976562)\"/>\n      <use xlink:href=\"#Montserrat-Regular-65\" transform=\"translate(1509.799774 0.976562)\"/>\n      <use xlink:href=\"#Montserrat-Regular-20\" transform=\"translate(1570.199768 0.976562)\"/>\n      <use xlink:href=\"#Montserrat-Regular-6e\" transform=\"translate(1596.399765 0.976562)\"/>\n      <use xlink:href=\"#Montserrat-Regular-65\" transform=\"translate(1663.999756 0.976562)\"/>\n      <use xlink:href=\"#Montserrat-Regular-61\" transform=\"translate(1724.39975 0.976562)\"/>\n      <use xlink:href=\"#Montserrat-Regular-72\" transform=\"translate(1783.399734 0.976562)\"/>\n      <use xlink:href=\"#Montserrat-Regular-20\" transform=\"translate(1823.499725 0.976562)\"/>\n      <use xlink:href=\"#Montserrat-Regular-56\" transform=\"translate(1849.699722 0.976562)\"/>\n      <use xlink:href=\"#Montserrat-Regular-30\" transform=\"translate(1920.41846 39.584375) scale(0.7)\"/>\n      <use xlink:href=\"#Montserrat-Regular-43\" transform=\"translate(1920.41846 -25.273438) scale(0.7)\"/>\n      <use xlink:href=\"#Montserrat-Regular-64\" transform=\"translate(1970.748456 -25.273438) scale(0.7)\"/>\n      <use xlink:href=\"#Montserrat-Regular-29\" transform=\"translate(2020.833447 0.976562)\"/>\n     </g>\n    </g>\n   </g>\n   <g id=\"matplotlib.axis_2\">\n    <g id=\"ytick_1\">\n     <g id=\"line2d_14\">\n      <defs>\n       <path id=\"m3bf3968de8\" d=\"M 0 0  L 12 0  \" style=\"stroke: #000000; stroke-width: 0.2\"/>\n      </defs>\n      <g>\n       <use xlink:href=\"#m3bf3968de8\" x=\"59.362266\" y=\"334.62528\" style=\"stroke: #000000; stroke-width: 0.2\"/>\n      </g>\n     </g>\n     <g id=\"text_7\">\n      <!-- -0.8 -->\n      <g transform=\"translate(31.580547 338.89196) scale(0.115 -0.115)\">\n       <defs>\n        <path id=\"Montserrat-Regular-38\" d=\"M 2035 -38  Q 1498 -38 1110 115  Q 723 269 515 560  Q 307 851 307 1248  Q 307 1632 508 1904  Q 710 2176 1097 2323  Q 1485 2470 2035 2470  Q 2579 2470 2969 2323  Q 3360 2176 3568 1904  Q 3776 1632 3776 1248  Q 3776 851 3565 560  Q 3354 269 2963 115  Q 2573 -38 2035 -38  z M 2035 352  Q 2630 352 2966 595  Q 3302 838 3302 1254  Q 3302 1670 2966 1910  Q 2630 2150 2035 2150  Q 1440 2150 1107 1910  Q 774 1670 774 1254  Q 774 838 1107 595  Q 1440 352 2035 352  z M 2035 2208  Q 1536 2208 1187 2342  Q 838 2477 652 2729  Q 467 2982 467 3334  Q 467 3706 662 3971  Q 858 4237 1210 4377  Q 1562 4518 2035 4518  Q 2509 4518 2864 4377  Q 3219 4237 3417 3971  Q 3616 3706 3616 3334  Q 3616 2982 3430 2729  Q 3245 2477 2889 2342  Q 2534 2208 2035 2208  z M 2035 2515  Q 2560 2515 2854 2732  Q 3149 2950 3149 3315  Q 3149 3699 2845 3913  Q 2541 4128 2035 4128  Q 1530 4128 1229 3913  Q 928 3699 928 3322  Q 928 2950 1219 2732  Q 1510 2515 2035 2515  z \" transform=\"scale(0.015625)\"/>\n       </defs>\n       <use xlink:href=\"#Montserrat-Regular-2d\"/>\n       <use xlink:href=\"#Montserrat-Regular-30\" x=\"38.199997\"/>\n       <use xlink:href=\"#Montserrat-Regular-2e\" x=\"104.399994\"/>\n       <use xlink:href=\"#Montserrat-Regular-38\" x=\"125.599991\"/>\n      </g>\n     </g>\n    </g>\n    <g id=\"ytick_2\">\n     <g id=\"line2d_15\">\n      <g>\n       <use xlink:href=\"#m3bf3968de8\" x=\"59.362266\" y=\"267.32146\" style=\"stroke: #000000; stroke-width: 0.2\"/>\n      </g>\n     </g>\n     <g id=\"text_8\">\n      <!-- -0.6 -->\n      <g transform=\"translate(31.912969 271.58814) scale(0.115 -0.115)\">\n       <use xlink:href=\"#Montserrat-Regular-2d\"/>\n       <use xlink:href=\"#Montserrat-Regular-30\" x=\"38.199997\"/>\n       <use xlink:href=\"#Montserrat-Regular-2e\" x=\"104.399994\"/>\n       <use xlink:href=\"#Montserrat-Regular-36\" x=\"125.599991\"/>\n      </g>\n     </g>\n    </g>\n    <g id=\"ytick_3\">\n     <g id=\"line2d_16\">\n      <g>\n       <use xlink:href=\"#m3bf3968de8\" x=\"59.362266\" y=\"200.01764\" style=\"stroke: #000000; stroke-width: 0.2\"/>\n      </g>\n     </g>\n     <g id=\"text_9\">\n      <!-- -0.4 -->\n      <g transform=\"translate(31.316406 204.28432) scale(0.115 -0.115)\">\n       <defs>\n        <path id=\"Montserrat-Regular-34\" d=\"M 256 1178  L 256 1510  L 2630 4480  L 3142 4480  L 787 1510  L 538 1587  L 4141 1587  L 4141 1178  L 256 1178  z M 2784 0  L 2784 1178  L 2797 1587  L 2797 2624  L 3245 2624  L 3245 0  L 2784 0  z \" transform=\"scale(0.015625)\"/>\n       </defs>\n       <use xlink:href=\"#Montserrat-Regular-2d\"/>\n       <use xlink:href=\"#Montserrat-Regular-30\" x=\"38.199997\"/>\n       <use xlink:href=\"#Montserrat-Regular-2e\" x=\"104.399994\"/>\n       <use xlink:href=\"#Montserrat-Regular-34\" x=\"125.599991\"/>\n      </g>\n     </g>\n    </g>\n    <g id=\"ytick_4\">\n     <g id=\"line2d_17\">\n      <g>\n       <use xlink:href=\"#m3bf3968de8\" x=\"59.362266\" y=\"132.71382\" style=\"stroke: #000000; stroke-width: 0.2\"/>\n      </g>\n     </g>\n     <g id=\"text_10\">\n      <!-- -0.2 -->\n      <g transform=\"translate(32.385547 136.9805) scale(0.115 -0.115)\">\n       <use xlink:href=\"#Montserrat-Regular-2d\"/>\n       <use xlink:href=\"#Montserrat-Regular-30\" x=\"38.199997\"/>\n       <use xlink:href=\"#Montserrat-Regular-2e\" x=\"104.399994\"/>\n       <use xlink:href=\"#Montserrat-Regular-32\" x=\"125.599991\"/>\n      </g>\n     </g>\n    </g>\n    <g id=\"ytick_5\">\n     <g id=\"line2d_18\">\n      <g>\n       <use xlink:href=\"#m3bf3968de8\" x=\"59.362266\" y=\"65.41\" style=\"stroke: #000000; stroke-width: 0.2\"/>\n      </g>\n     </g>\n     <g id=\"text_11\">\n      <!-- 0.0 -->\n      <g transform=\"translate(35.697188 69.67668) scale(0.115 -0.115)\">\n       <use xlink:href=\"#Montserrat-Regular-30\"/>\n       <use xlink:href=\"#Montserrat-Regular-2e\" x=\"66.199997\"/>\n       <use xlink:href=\"#Montserrat-Regular-30\" x=\"87.399994\"/>\n      </g>\n     </g>\n    </g>\n    <g id=\"text_12\">\n     <!-- Energy (eV) -->\n     <g transform=\"translate(18.330469 235.954141) rotate(-90) scale(0.15 -0.15)\">\n      <defs>\n       <path id=\"Montserrat-Regular-45\" d=\"M 1152 2477  L 3520 2477  L 3520 2074  L 1152 2074  L 1152 2477  z M 1203 410  L 3898 410  L 3898 0  L 730 0  L 730 4480  L 3802 4480  L 3802 4070  L 1203 4070  L 1203 410  z \" transform=\"scale(0.015625)\"/>\n       <path id=\"Montserrat-Regular-67\" d=\"M 2067 -1274  Q 1606 -1274 1184 -1139  Q 762 -1005 499 -755  L 730 -410  Q 966 -621 1315 -745  Q 1664 -870 2054 -870  Q 2694 -870 2995 -572  Q 3296 -275 3296 352  L 3296 1190  L 3360 1766  L 3315 2342  L 3315 3360  L 3750 3360  L 3750 410  Q 3750 -461 3324 -867  Q 2899 -1274 2067 -1274  z M 1984 128  Q 1504 128 1120 336  Q 736 544 515 915  Q 294 1286 294 1766  Q 294 2246 515 2614  Q 736 2982 1120 3187  Q 1504 3392 1984 3392  Q 2432 3392 2790 3206  Q 3149 3021 3360 2656  Q 3571 2291 3571 1766  Q 3571 1242 3360 877  Q 3149 512 2790 320  Q 2432 128 1984 128  z M 2029 531  Q 2400 531 2688 688  Q 2976 845 3142 1123  Q 3309 1402 3309 1766  Q 3309 2131 3142 2406  Q 2976 2682 2688 2838  Q 2400 2995 2029 2995  Q 1664 2995 1373 2838  Q 1082 2682 918 2406  Q 755 2131 755 1766  Q 755 1402 918 1123  Q 1082 845 1373 688  Q 1664 531 2029 531  z \" transform=\"scale(0.015625)\"/>\n       <path id=\"Montserrat-Regular-79\" d=\"M 659 -1274  Q 422 -1274 208 -1197  Q -6 -1120 -160 -966  L 51 -627  Q 179 -749 329 -816  Q 480 -883 666 -883  Q 890 -883 1053 -758  Q 1216 -634 1363 -320  L 1581 173  L 1632 243  L 3014 3360  L 3462 3360  L 1779 -403  Q 1638 -730 1468 -922  Q 1299 -1114 1100 -1194  Q 902 -1274 659 -1274  z M 1555 -96  L 6 3360  L 480 3360  L 1850 275  L 1555 -96  z \" transform=\"scale(0.015625)\"/>\n      </defs>\n      <use xlink:href=\"#Montserrat-Regular-45\"/>\n      <use xlink:href=\"#Montserrat-Regular-6e\" x=\"66.899994\"/>\n      <use xlink:href=\"#Montserrat-Regular-65\" x=\"134.499985\"/>\n      <use xlink:href=\"#Montserrat-Regular-72\" x=\"194.899979\"/>\n      <use xlink:href=\"#Montserrat-Regular-67\" x=\"234.999969\"/>\n      <use xlink:href=\"#Montserrat-Regular-79\" x=\"303.499954\"/>\n      <use xlink:href=\"#Montserrat-Regular-20\" x=\"357.699951\"/>\n      <use xlink:href=\"#Montserrat-Regular-28\" x=\"383.899948\"/>\n      <use xlink:href=\"#Montserrat-Regular-65\" x=\"416.799942\"/>\n      <use xlink:href=\"#Montserrat-Regular-56\" x=\"477.199936\"/>\n      <use xlink:href=\"#Montserrat-Regular-29\" x=\"546.999924\"/>\n     </g>\n    </g>\n   </g>\n   <g id=\"line2d_19\">\n    <path d=\"M 74.580447 319.51  L 99.944084 67.131924  L 125.30772 319.416555  L 150.671357 319.357086  L 176.034993 66.623182  L 201.398629 66.543713  L 226.762266 66.551173  L 252.125902 66.543713  L 277.489538 66.623182  L 302.853175 66.623182  L 328.216811 66.623182  L 353.580447 66.623182  L 378.944084 66.623182  \" clip-path=\"url(#p6e217dfb5b)\" style=\"fill: none; stroke: #59a590; stroke-linecap: square\"/>\n    <defs>\n     <path id=\"m0743403c2d\" d=\"M 0 3  C 0.795609 3 1.55874 2.683901 2.12132 2.12132  C 2.683901 1.55874 3 0.795609 3 0  C 3 -0.795609 2.683901 -1.55874 2.12132 -2.12132  C 1.55874 -2.683901 0.795609 -3 0 -3  C -0.795609 -3 -1.55874 -2.683901 -2.12132 -2.12132  C -2.683901 -1.55874 -3 -0.795609 -3 0  C -3 0.795609 -2.683901 1.55874 -2.12132 2.12132  C -1.55874 2.683901 -0.795609 3 0 3  z \" style=\"stroke: #59a590\"/>\n    </defs>\n    <g clip-path=\"url(#p6e217dfb5b)\">\n     <use xlink:href=\"#m0743403c2d\" x=\"74.580447\" y=\"319.51\" style=\"fill: #59a590; stroke: #59a590\"/>\n     <use xlink:href=\"#m0743403c2d\" x=\"99.944084\" y=\"67.131924\" style=\"fill: #59a590; stroke: #59a590\"/>\n     <use xlink:href=\"#m0743403c2d\" x=\"125.30772\" y=\"319.416555\" style=\"fill: #59a590; stroke: #59a590\"/>\n     <use xlink:href=\"#m0743403c2d\" x=\"150.671357\" y=\"319.357086\" style=\"fill: #59a590; stroke: #59a590\"/>\n     <use xlink:href=\"#m0743403c2d\" x=\"176.034993\" y=\"66.623182\" style=\"fill: #59a590; stroke: #59a590\"/>\n     <use xlink:href=\"#m0743403c2d\" x=\"201.398629\" y=\"66.543713\" style=\"fill: #59a590; stroke: #59a590\"/>\n     <use xlink:href=\"#m0743403c2d\" x=\"226.762266\" y=\"66.551173\" style=\"fill: #59a590; stroke: #59a590\"/>\n     <use xlink:href=\"#m0743403c2d\" x=\"252.125902\" y=\"66.543713\" style=\"fill: #59a590; stroke: #59a590\"/>\n     <use xlink:href=\"#m0743403c2d\" x=\"277.489538\" y=\"66.623182\" style=\"fill: #59a590; stroke: #59a590\"/>\n     <use xlink:href=\"#m0743403c2d\" x=\"302.853175\" y=\"66.623182\" style=\"fill: #59a590; stroke: #59a590\"/>\n     <use xlink:href=\"#m0743403c2d\" x=\"328.216811\" y=\"66.623182\" style=\"fill: #59a590; stroke: #59a590\"/>\n     <use xlink:href=\"#m0743403c2d\" x=\"353.580447\" y=\"66.623182\" style=\"fill: #59a590; stroke: #59a590\"/>\n     <use xlink:href=\"#m0743403c2d\" x=\"378.944084\" y=\"66.623182\" style=\"fill: #59a590; stroke: #59a590\"/>\n    </g>\n   </g>\n   <g id=\"line2d_20\">\n    <defs>\n     <path id=\"m20adbb7f17\" d=\"M -0 6.363961  L 3.818377 0  L 0 -6.363961  L -3.818377 -0  z \" style=\"stroke: #59a590; stroke-linejoin: miter\"/>\n    </defs>\n    <g clip-path=\"url(#p6e217dfb5b)\">\n     <use xlink:href=\"#m20adbb7f17\" x=\"226.762266\" y=\"65.41\" style=\"fill: #59a590; stroke: #59a590; stroke-linejoin: miter\"/>\n    </g>\n   </g>\n   <g id=\"patch_3\">\n    <path d=\"M 59.362266 344.92  L 59.362266 40  \" style=\"fill: none; stroke: #000000; stroke-width: 0.5; stroke-linejoin: miter; stroke-linecap: square\"/>\n   </g>\n   <g id=\"patch_4\">\n    <path d=\"M 394.162266 344.92  L 394.162266 40  \" style=\"fill: none; stroke: #000000; stroke-width: 0.5; stroke-linejoin: miter; stroke-linecap: square\"/>\n   </g>\n   <g id=\"patch_5\">\n    <path d=\"M 59.362266 344.92  L 394.162266 344.92  \" style=\"fill: none; stroke: #000000; stroke-width: 0.5; stroke-linejoin: miter; stroke-linecap: square\"/>\n   </g>\n   <g id=\"patch_6\">\n    <path d=\"M 59.362266 40  L 394.162266 40  \" style=\"fill: none; stroke: #000000; stroke-width: 0.5; stroke-linejoin: miter; stroke-linecap: square\"/>\n   </g>\n   <g id=\"text_13\">\n    <!-- $V_{Cd}^{0}$ -->\n    <g transform=\"translate(209.562266 25) scale(0.2 -0.2)\">\n     <use xlink:href=\"#Montserrat-Regular-56\" transform=\"translate(0 0.976562)\"/>\n     <use xlink:href=\"#Montserrat-Regular-30\" transform=\"translate(70.718738 39.584375) scale(0.7)\"/>\n     <use xlink:href=\"#Montserrat-Regular-43\" transform=\"translate(70.718738 -25.273438) scale(0.7)\"/>\n     <use xlink:href=\"#Montserrat-Regular-64\" transform=\"translate(121.048734 -25.273438) scale(0.7)\"/>\n    </g>\n   </g>\n   <g id=\"PathCollection_1\">\n    <defs>\n     <path id=\"m151083fd03\" d=\"M -3.535534 3.535534  L 3.535534 3.535534  L 3.535534 -3.535534  L -3.535534 -3.535534  z \" style=\"stroke: #000000\"/>\n    </defs>\n    <g clip-path=\"url(#p6e217dfb5b)\">\n     <use xlink:href=\"#m151083fd03\" x=\"277.489538\" y=\"158.587232\" style=\"fill: #59a590; stroke: #000000\"/>\n    </g>\n   </g>\n   <g id=\"legend_1\">\n    <g id=\"patch_7\">\n     <path d=\"M 220.433516 338.42  L 385.062266 338.42  Q 387.662266 338.42 387.662266 335.82  L 387.662266 281.047344  Q 387.662266 278.447344 385.062266 278.447344  L 220.433516 278.447344  Q 217.833516 278.447344 217.833516 281.047344  L 217.833516 335.82  Q 217.833516 338.42 220.433516 338.42  z \" style=\"fill: #ffffff; opacity: 0.8; stroke: #cccccc; stroke-linejoin: miter\"/>\n    </g>\n    <g id=\"line2d_21\">\n     <path d=\"M 223.033516 288.74375  L 230.833516 288.74375  L 238.633516 288.74375  \" style=\"fill: none; stroke: #59a590; stroke-linecap: square\"/>\n     <g>\n      <use xlink:href=\"#m0743403c2d\" x=\"230.833516\" y=\"288.74375\" style=\"fill: #59a590; stroke: #59a590\"/>\n     </g>\n    </g>\n    <g id=\"text_14\">\n     <!-- Distortions: 2 Te -->\n     <g transform=\"translate(249.033516 293.29375) scale(0.13 -0.13)\">\n      <defs>\n       <path id=\"Montserrat-Regular-3a\" d=\"M 678 2720  Q 538 2720 438 2822  Q 339 2925 339 3072  Q 339 3226 438 3322  Q 538 3418 678 3418  Q 819 3418 918 3322  Q 1018 3226 1018 3072  Q 1018 2925 918 2822  Q 819 2720 678 2720  z M 678 -32  Q 538 -32 438 70  Q 339 173 339 320  Q 339 474 438 570  Q 538 666 678 666  Q 819 666 918 570  Q 1018 474 1018 320  Q 1018 173 918 70  Q 819 -32 678 -32  z \" transform=\"scale(0.015625)\"/>\n      </defs>\n      <use xlink:href=\"#Montserrat-Regular-44\"/>\n      <use xlink:href=\"#Montserrat-Regular-69\" x=\"82.599991\"/>\n      <use xlink:href=\"#Montserrat-Regular-73\" x=\"109.499985\"/>\n      <use xlink:href=\"#Montserrat-Regular-74\" x=\"158.299973\"/>\n      <use xlink:href=\"#Montserrat-Regular-6f\" x=\"198.899963\"/>\n      <use xlink:href=\"#Montserrat-Regular-72\" x=\"261.59996\"/>\n      <use xlink:href=\"#Montserrat-Regular-74\" x=\"301.699951\"/>\n      <use xlink:href=\"#Montserrat-Regular-69\" x=\"342.299942\"/>\n      <use xlink:href=\"#Montserrat-Regular-6f\" x=\"369.199936\"/>\n      <use xlink:href=\"#Montserrat-Regular-6e\" x=\"431.899933\"/>\n      <use xlink:href=\"#Montserrat-Regular-73\" x=\"499.499924\"/>\n      <use xlink:href=\"#Montserrat-Regular-3a\" x=\"548.299911\"/>\n      <use xlink:href=\"#Montserrat-Regular-20\" x=\"569.499908\"/>\n      <use xlink:href=\"#Montserrat-Regular-32\" x=\"595.699905\"/>\n      <use xlink:href=\"#Montserrat-Regular-20\" x=\"652.499893\"/>\n      <use xlink:href=\"#Montserrat-Regular-54\" x=\"678.69989\"/>\n      <use xlink:href=\"#Montserrat-Regular-65\" x=\"736.099884\"/>\n     </g>\n    </g>\n    <g id=\"PathCollection_2\">\n     <g>\n      <use xlink:href=\"#m151083fd03\" x=\"230.833516\" y=\"308.550469\" style=\"fill: #59a590; stroke: #000000\"/>\n     </g>\n    </g>\n    <g id=\"text_15\">\n     <!-- From -1 charge state -->\n     <g transform=\"translate(249.033516 311.962969) scale(0.13 -0.13)\">\n      <defs>\n       <path id=\"Montserrat-Regular-6d\" d=\"M 4832 3392  Q 5242 3392 5546 3235  Q 5850 3078 6019 2758  Q 6189 2438 6189 1952  L 6189 0  L 5734 0  L 5734 1907  Q 5734 2438 5481 2710  Q 5229 2982 4768 2982  Q 4422 2982 4169 2838  Q 3917 2694 3779 2422  Q 3642 2150 3642 1766  L 3642 0  L 3187 0  L 3187 1907  Q 3187 2438 2931 2710  Q 2675 2982 2214 2982  Q 1875 2982 1619 2838  Q 1363 2694 1225 2422  Q 1088 2150 1088 1766  L 1088 0  L 634 0  L 634 3360  L 1069 3360  L 1069 2451  L 998 2611  Q 1152 2976 1494 3184  Q 1837 3392 2304 3392  Q 2797 3392 3142 3145  Q 3488 2899 3590 2406  L 3411 2477  Q 3558 2886 3932 3139  Q 4307 3392 4832 3392  z \" transform=\"scale(0.015625)\"/>\n       <path id=\"Montserrat-Regular-31\" d=\"M 1114 0  L 1114 4288  L 1318 4070  L 58 4070  L 58 4480  L 1574 4480  L 1574 0  L 1114 0  z \" transform=\"scale(0.015625)\"/>\n       <path id=\"Montserrat-Regular-68\" d=\"M 2349 3392  Q 2758 3392 3068 3235  Q 3379 3078 3555 2758  Q 3731 2438 3731 1952  L 3731 0  L 3277 0  L 3277 1907  Q 3277 2438 3011 2710  Q 2746 2982 2266 2982  Q 1907 2982 1641 2838  Q 1376 2694 1232 2422  Q 1088 2150 1088 1766  L 1088 0  L 634 0  L 634 4749  L 1088 4749  L 1088 2438  L 998 2611  Q 1158 2976 1510 3184  Q 1862 3392 2349 3392  z \" transform=\"scale(0.015625)\"/>\n      </defs>\n      <use xlink:href=\"#Montserrat-Regular-46\"/>\n      <use xlink:href=\"#Montserrat-Regular-72\" x=\"63.299988\"/>\n      <use xlink:href=\"#Montserrat-Regular-6f\" x=\"103.399979\"/>\n      <use xlink:href=\"#Montserrat-Regular-6d\" x=\"166.099976\"/>\n      <use xlink:href=\"#Montserrat-Regular-20\" x=\"272.199966\"/>\n      <use xlink:href=\"#Montserrat-Regular-2d\" x=\"298.399963\"/>\n      <use xlink:href=\"#Montserrat-Regular-31\" x=\"336.59996\"/>\n      <use xlink:href=\"#Montserrat-Regular-20\" x=\"372.699951\"/>\n      <use xlink:href=\"#Montserrat-Regular-63\" x=\"398.899948\"/>\n      <use xlink:href=\"#Montserrat-Regular-68\" x=\"455.199936\"/>\n      <use xlink:href=\"#Montserrat-Regular-61\" x=\"522.799927\"/>\n      <use xlink:href=\"#Montserrat-Regular-72\" x=\"581.799911\"/>\n      <use xlink:href=\"#Montserrat-Regular-67\" x=\"621.899902\"/>\n      <use xlink:href=\"#Montserrat-Regular-65\" x=\"690.399887\"/>\n      <use xlink:href=\"#Montserrat-Regular-20\" x=\"750.799881\"/>\n      <use xlink:href=\"#Montserrat-Regular-73\" x=\"776.999878\"/>\n      <use xlink:href=\"#Montserrat-Regular-74\" x=\"825.799866\"/>\n      <use xlink:href=\"#Montserrat-Regular-61\" x=\"866.399857\"/>\n      <use xlink:href=\"#Montserrat-Regular-74\" x=\"925.399841\"/>\n      <use xlink:href=\"#Montserrat-Regular-65\" x=\"965.999832\"/>\n     </g>\n    </g>\n    <g id=\"line2d_22\">\n     <g>\n      <use xlink:href=\"#m20adbb7f17\" x=\"230.833516\" y=\"326.147187\" style=\"fill: #59a590; stroke: #59a590; stroke-linejoin: miter\"/>\n     </g>\n    </g>\n    <g id=\"text_16\">\n     <!-- Unperturbed -->\n     <g transform=\"translate(249.033516 330.697187) scale(0.13 -0.13)\">\n      <defs>\n       <path id=\"Montserrat-Regular-55\" d=\"M 2534 -38  Q 1677 -38 1184 454  Q 691 947 691 1914  L 691 4480  L 1165 4480  L 1165 1933  Q 1165 1139 1523 761  Q 1882 384 2534 384  Q 3194 384 3552 761  Q 3910 1139 3910 1933  L 3910 4480  L 4371 4480  L 4371 1914  Q 4371 947 3881 454  Q 3392 -38 2534 -38  z \" transform=\"scale(0.015625)\"/>\n       <path id=\"Montserrat-Regular-70\" d=\"M 2368 -32  Q 1933 -32 1581 169  Q 1229 371 1021 752  Q 813 1133 813 1683  Q 813 2234 1017 2614  Q 1222 2995 1574 3193  Q 1926 3392 2368 3392  Q 2848 3392 3229 3177  Q 3610 2963 3827 2576  Q 4045 2189 4045 1683  Q 4045 1171 3827 787  Q 3610 403 3229 185  Q 2848 -32 2368 -32  z M 634 -1242  L 634 3360  L 1069 3360  L 1069 2349  L 1024 1677  L 1088 998  L 1088 -1242  L 634 -1242  z M 2336 371  Q 2694 371 2976 534  Q 3258 698 3424 995  Q 3590 1293 3590 1683  Q 3590 2074 3424 2368  Q 3258 2662 2976 2828  Q 2694 2995 2336 2995  Q 1978 2995 1693 2828  Q 1408 2662 1245 2368  Q 1082 2074 1082 1683  Q 1082 1293 1245 995  Q 1408 698 1693 534  Q 1978 371 2336 371  z \" transform=\"scale(0.015625)\"/>\n       <path id=\"Montserrat-Regular-75\" d=\"M 2022 -32  Q 1594 -32 1274 128  Q 954 288 778 608  Q 602 928 602 1408  L 602 3360  L 1056 3360  L 1056 1459  Q 1056 922 1321 650  Q 1587 378 2067 378  Q 2419 378 2678 522  Q 2938 666 3075 941  Q 3213 1216 3213 1600  L 3213 3360  L 3667 3360  L 3667 0  L 3232 0  L 3232 922  L 3302 755  Q 3142 384 2806 176  Q 2470 -32 2022 -32  z \" transform=\"scale(0.015625)\"/>\n       <path id=\"Montserrat-Regular-62\" d=\"M 2368 -32  Q 1926 -32 1574 169  Q 1222 371 1017 755  Q 813 1139 813 1683  Q 813 2234 1021 2614  Q 1229 2995 1581 3193  Q 1933 3392 2368 3392  Q 2848 3392 3229 3177  Q 3610 2963 3827 2579  Q 4045 2195 4045 1683  Q 4045 1178 3827 790  Q 3610 403 3229 185  Q 2848 -32 2368 -32  z M 634 0  L 634 4749  L 1088 4749  L 1088 2368  L 1024 1690  L 1069 1011  L 1069 0  L 634 0  z M 2336 371  Q 2694 371 2976 534  Q 3258 698 3424 995  Q 3590 1293 3590 1683  Q 3590 2080 3424 2374  Q 3258 2669 2976 2832  Q 2694 2995 2336 2995  Q 1978 2995 1693 2832  Q 1408 2669 1245 2374  Q 1082 2080 1082 1683  Q 1082 1293 1245 995  Q 1408 698 1693 534  Q 1978 371 2336 371  z \" transform=\"scale(0.015625)\"/>\n      </defs>\n      <use xlink:href=\"#Montserrat-Regular-55\"/>\n      <use xlink:href=\"#Montserrat-Regular-6e\" x=\"79.199982\"/>\n      <use xlink:href=\"#Montserrat-Regular-70\" x=\"146.799973\"/>\n      <use xlink:href=\"#Montserrat-Regular-65\" x=\"214.59996\"/>\n      <use xlink:href=\"#Montserrat-Regular-72\" x=\"274.999954\"/>\n      <use xlink:href=\"#Montserrat-Regular-74\" x=\"315.099945\"/>\n      <use xlink:href=\"#Montserrat-Regular-75\" x=\"355.699936\"/>\n      <use xlink:href=\"#Montserrat-Regular-72\" x=\"422.899933\"/>\n      <use xlink:href=\"#Montserrat-Regular-62\" x=\"462.999924\"/>\n      <use xlink:href=\"#Montserrat-Regular-65\" x=\"530.799911\"/>\n      <use xlink:href=\"#Montserrat-Regular-64\" x=\"591.199905\"/>\n     </g>\n    </g>\n   </g>\n  </g>\n </g>\n <defs>\n  <clipPath id=\"p6e217dfb5b\">\n   <rect x=\"59.362266\" y=\"40\" width=\"334.8\" height=\"304.92\"/>\n  </clipPath>\n </defs>\n</svg>",
      "text/plain": [
       "<IPython.core.display.SVG object>"
      ]
     },
     "execution_count": 82,
     "metadata": {},
     "output_type": "execute_result"
    }
   ],
   "source": [
    "# Show plots\n",
    "from IPython.core.display import SVG\n",
    "SVG(filename=\"./v_Cd_0/v_Cd_0.svg\")"
   ]
  },
  {
   "cell_type": "code",
   "execution_count": 83,
   "id": "16a79cb7",
   "metadata": {},
   "outputs": [
    {
     "data": {
      "image/svg+xml": "<svg xmlns:xlink=\"http://www.w3.org/1999/xlink\" xmlns=\"http://www.w3.org/2000/svg\" width=\"401.098125pt\" height=\"395.935078pt\" viewBox=\"0 0 401.098125 395.935078\" version=\"1.1\">\n <metadata>\n  <rdf:RDF xmlns:dc=\"http://purl.org/dc/elements/1.1/\" xmlns:cc=\"http://creativecommons.org/ns#\" xmlns:rdf=\"http://www.w3.org/1999/02/22-rdf-syntax-ns#\">\n   <cc:Work>\n    <dc:type rdf:resource=\"http://purl.org/dc/dcmitype/StillImage\"/>\n    <dc:date>2022-10-19T11:15:19.385369</dc:date>\n    <dc:format>image/svg+xml</dc:format>\n    <dc:creator>\n     <cc:Agent>\n      <dc:title>Matplotlib v3.6.1, https://matplotlib.org/</dc:title>\n     </cc:Agent>\n    </dc:creator>\n   </cc:Work>\n  </rdf:RDF>\n </metadata>\n <defs>\n  <style type=\"text/css\">*{stroke-linejoin: round; stroke-linecap: butt}</style>\n </defs>\n <g id=\"figure_1\">\n  <g id=\"patch_1\">\n   <path d=\"M 0 395.935078  L 401.098125 395.935078  L 401.098125 0  L 0 0  L 0 395.935078  z \" style=\"fill: none\"/>\n  </g>\n  <g id=\"axes_1\">\n   <g id=\"patch_2\">\n    <path d=\"M 59.098125 344.72  L 393.898125 344.72  L 393.898125 39.8  L 59.098125 39.8  L 59.098125 344.72  z \" style=\"fill: none\"/>\n   </g>\n   <g id=\"matplotlib.axis_1\">\n    <g id=\"xtick_1\">\n     <g id=\"line2d_1\">\n      <defs>\n       <path id=\"m0b6734cbe3\" d=\"M 0 0  L 0 -12  \" style=\"stroke: #000000; stroke-width: 0.2\"/>\n      </defs>\n      <g>\n       <use xlink:href=\"#m0b6734cbe3\" x=\"74.316307\" y=\"344.72\" style=\"stroke: #000000; stroke-width: 0.2\"/>\n      </g>\n     </g>\n     <g id=\"text_1\">\n      <!-- -0.6 -->\n      <g transform=\"translate(63.591658 359.253359) scale(0.115 -0.115)\">\n       <defs>\n        <path id=\"Montserrat-Regular-2d\" d=\"M 384 1536  L 384 1933  L 2061 1933  L 2061 1536  L 384 1536  z \" transform=\"scale(0.015625)\"/>\n        <path id=\"Montserrat-Regular-30\" d=\"M 2118 -38  Q 1600 -38 1197 234  Q 794 506 563 1014  Q 333 1523 333 2240  Q 333 2957 563 3465  Q 794 3974 1197 4246  Q 1600 4518 2118 4518  Q 2637 4518 3040 4246  Q 3443 3974 3676 3465  Q 3910 2957 3910 2240  Q 3910 1523 3676 1014  Q 3443 506 3040 234  Q 2637 -38 2118 -38  z M 2118 384  Q 2515 384 2809 598  Q 3104 813 3270 1225  Q 3437 1638 3437 2240  Q 3437 2842 3270 3254  Q 3104 3667 2809 3881  Q 2515 4096 2118 4096  Q 1734 4096 1433 3881  Q 1133 3667 966 3254  Q 800 2842 800 2240  Q 800 1638 966 1225  Q 1133 813 1433 598  Q 1734 384 2118 384  z \" transform=\"scale(0.015625)\"/>\n        <path id=\"Montserrat-Regular-2e\" d=\"M 678 -32  Q 538 -32 438 70  Q 339 173 339 320  Q 339 474 438 570  Q 538 666 678 666  Q 819 666 918 570  Q 1018 474 1018 320  Q 1018 173 918 70  Q 819 -32 678 -32  z \" transform=\"scale(0.015625)\"/>\n        <path id=\"Montserrat-Regular-36\" d=\"M 2170 -38  Q 1574 -38 1164 227  Q 755 493 544 995  Q 333 1498 333 2202  Q 333 2963 592 3478  Q 851 3994 1312 4256  Q 1773 4518 2381 4518  Q 2682 4518 2957 4460  Q 3232 4403 3443 4275  L 3258 3904  Q 3085 4019 2861 4067  Q 2637 4115 2387 4115  Q 1664 4115 1232 3654  Q 800 3194 800 2278  Q 800 2138 816 1930  Q 832 1722 890 1517  L 730 1638  Q 800 1971 1005 2204  Q 1210 2438 1517 2560  Q 1824 2682 2189 2682  Q 2637 2682 2976 2515  Q 3315 2349 3507 2048  Q 3699 1747 3699 1338  Q 3699 922 3500 611  Q 3302 301 2953 131  Q 2605 -38 2170 -38  z M 2150 352  Q 2470 352 2716 470  Q 2963 589 3104 809  Q 3245 1030 3245 1325  Q 3245 1766 2941 2028  Q 2637 2291 2118 2291  Q 1773 2291 1517 2163  Q 1261 2035 1113 1814  Q 966 1594 966 1312  Q 966 1069 1100 848  Q 1235 627 1500 489  Q 1766 352 2150 352  z \" transform=\"scale(0.015625)\"/>\n       </defs>\n       <use xlink:href=\"#Montserrat-Regular-2d\"/>\n       <use xlink:href=\"#Montserrat-Regular-30\" x=\"38.199997\"/>\n       <use xlink:href=\"#Montserrat-Regular-2e\" x=\"104.399994\"/>\n       <use xlink:href=\"#Montserrat-Regular-36\" x=\"125.599991\"/>\n      </g>\n     </g>\n    </g>\n    <g id=\"xtick_2\">\n     <g id=\"line2d_2\">\n      <g>\n       <use xlink:href=\"#m0b6734cbe3\" x=\"150.407216\" y=\"344.72\" style=\"stroke: #000000; stroke-width: 0.2\"/>\n      </g>\n     </g>\n     <g id=\"text_2\">\n      <!-- -0.3 -->\n      <g transform=\"translate(139.941317 359.253359) scale(0.115 -0.115)\">\n       <defs>\n        <path id=\"Montserrat-Regular-33\" d=\"M 1670 -38  Q 1184 -38 752 118  Q 320 275 58 538  L 282 902  Q 499 678 867 531  Q 1235 384 1670 384  Q 2227 384 2524 627  Q 2822 870 2822 1280  Q 2822 1690 2531 1933  Q 2240 2176 1613 2176  L 1293 2176  L 1293 2515  L 2675 4250  L 2739 4070  L 243 4070  L 243 4480  L 3123 4480  L 3123 4154  L 1741 2419  L 1517 2566  L 1690 2566  Q 2496 2566 2896 2208  Q 3296 1850 3296 1286  Q 3296 909 3117 608  Q 2938 307 2576 134  Q 2214 -38 1670 -38  z \" transform=\"scale(0.015625)\"/>\n       </defs>\n       <use xlink:href=\"#Montserrat-Regular-2d\"/>\n       <use xlink:href=\"#Montserrat-Regular-30\" x=\"38.199997\"/>\n       <use xlink:href=\"#Montserrat-Regular-2e\" x=\"104.399994\"/>\n       <use xlink:href=\"#Montserrat-Regular-33\" x=\"125.599991\"/>\n      </g>\n     </g>\n    </g>\n    <g id=\"xtick_3\">\n     <g id=\"line2d_3\">\n      <g>\n       <use xlink:href=\"#m0b6734cbe3\" x=\"226.498125\" y=\"344.72\" style=\"stroke: #000000; stroke-width: 0.2\"/>\n      </g>\n     </g>\n     <g id=\"text_3\">\n      <!-- 0.0 -->\n      <g transform=\"translate(217.665586 359.253359) scale(0.115 -0.115)\">\n       <use xlink:href=\"#Montserrat-Regular-30\"/>\n       <use xlink:href=\"#Montserrat-Regular-2e\" x=\"66.199997\"/>\n       <use xlink:href=\"#Montserrat-Regular-30\" x=\"87.399994\"/>\n      </g>\n     </g>\n    </g>\n    <g id=\"xtick_4\">\n     <g id=\"line2d_4\">\n      <g>\n       <use xlink:href=\"#m0b6734cbe3\" x=\"302.589034\" y=\"344.72\" style=\"stroke: #000000; stroke-width: 0.2\"/>\n      </g>\n     </g>\n     <g id=\"text_4\">\n      <!-- 0.3 -->\n      <g transform=\"translate(294.319815 359.253359) scale(0.115 -0.115)\">\n       <use xlink:href=\"#Montserrat-Regular-30\"/>\n       <use xlink:href=\"#Montserrat-Regular-2e\" x=\"66.199997\"/>\n       <use xlink:href=\"#Montserrat-Regular-33\" x=\"87.399994\"/>\n      </g>\n     </g>\n    </g>\n    <g id=\"xtick_5\">\n     <g id=\"line2d_5\">\n      <g>\n       <use xlink:href=\"#m0b6734cbe3\" x=\"378.679943\" y=\"344.72\" style=\"stroke: #000000; stroke-width: 0.2\"/>\n      </g>\n     </g>\n     <g id=\"text_5\">\n      <!-- 0.6 -->\n      <g transform=\"translate(370.151974 359.253359) scale(0.115 -0.115)\">\n       <use xlink:href=\"#Montserrat-Regular-30\"/>\n       <use xlink:href=\"#Montserrat-Regular-2e\" x=\"66.199997\"/>\n       <use xlink:href=\"#Montserrat-Regular-36\" x=\"87.399994\"/>\n      </g>\n     </g>\n    </g>\n    <g id=\"xtick_6\">\n     <g id=\"line2d_6\">\n      <defs>\n       <path id=\"m98704300bb\" d=\"M 0 0  L 0 -5  \" style=\"stroke: #000000; stroke-width: 0.2\"/>\n      </defs>\n      <g>\n       <use xlink:href=\"#m98704300bb\" x=\"99.679943\" y=\"344.72\" style=\"stroke: #000000; stroke-width: 0.2\"/>\n      </g>\n     </g>\n    </g>\n    <g id=\"xtick_7\">\n     <g id=\"line2d_7\">\n      <g>\n       <use xlink:href=\"#m98704300bb\" x=\"125.04358\" y=\"344.72\" style=\"stroke: #000000; stroke-width: 0.2\"/>\n      </g>\n     </g>\n    </g>\n    <g id=\"xtick_8\">\n     <g id=\"line2d_8\">\n      <g>\n       <use xlink:href=\"#m98704300bb\" x=\"175.770852\" y=\"344.72\" style=\"stroke: #000000; stroke-width: 0.2\"/>\n      </g>\n     </g>\n    </g>\n    <g id=\"xtick_9\">\n     <g id=\"line2d_9\">\n      <g>\n       <use xlink:href=\"#m98704300bb\" x=\"201.134489\" y=\"344.72\" style=\"stroke: #000000; stroke-width: 0.2\"/>\n      </g>\n     </g>\n    </g>\n    <g id=\"xtick_10\">\n     <g id=\"line2d_10\">\n      <g>\n       <use xlink:href=\"#m98704300bb\" x=\"251.861761\" y=\"344.72\" style=\"stroke: #000000; stroke-width: 0.2\"/>\n      </g>\n     </g>\n    </g>\n    <g id=\"xtick_11\">\n     <g id=\"line2d_11\">\n      <g>\n       <use xlink:href=\"#m98704300bb\" x=\"277.225398\" y=\"344.72\" style=\"stroke: #000000; stroke-width: 0.2\"/>\n      </g>\n     </g>\n    </g>\n    <g id=\"xtick_12\">\n     <g id=\"line2d_12\">\n      <g>\n       <use xlink:href=\"#m98704300bb\" x=\"327.95267\" y=\"344.72\" style=\"stroke: #000000; stroke-width: 0.2\"/>\n      </g>\n     </g>\n    </g>\n    <g id=\"xtick_13\">\n     <g id=\"line2d_13\">\n      <g>\n       <use xlink:href=\"#m98704300bb\" x=\"353.316307\" y=\"344.72\" style=\"stroke: #000000; stroke-width: 0.2\"/>\n      </g>\n     </g>\n    </g>\n    <g id=\"text_6\">\n     <!-- Bond Distortion Factor (for 1 Te near $V_{Cd}^{-1}$) -->\n     <g transform=\"translate(73.948125 384.685078) scale(0.15 -0.15)\">\n      <defs>\n       <path id=\"Montserrat-Regular-42\" d=\"M 730 0  L 730 4480  L 2662 4480  Q 3411 4480 3824 4179  Q 4237 3878 4237 3328  Q 4237 2963 4067 2713  Q 3898 2464 3606 2336  Q 3315 2208 2970 2208  L 3078 2362  Q 3507 2362 3817 2230  Q 4128 2099 4301 1840  Q 4474 1581 4474 1197  Q 4474 627 4054 313  Q 3635 0 2790 0  L 730 0  z M 1203 390  L 2784 390  Q 3373 390 3686 592  Q 4000 794 4000 1235  Q 4000 1670 3686 1872  Q 3373 2074 2784 2074  L 1152 2074  L 1152 2464  L 2630 2464  Q 3168 2464 3465 2669  Q 3763 2874 3763 3277  Q 3763 3686 3465 3888  Q 3168 4090 2630 4090  L 1203 4090  L 1203 390  z \" transform=\"scale(0.015625)\"/>\n       <path id=\"Montserrat-Regular-6f\" d=\"M 2003 -32  Q 1517 -32 1129 189  Q 742 410 518 797  Q 294 1184 294 1683  Q 294 2189 518 2573  Q 742 2957 1126 3174  Q 1510 3392 2003 3392  Q 2502 3392 2889 3174  Q 3277 2957 3497 2573  Q 3718 2189 3718 1683  Q 3718 1184 3497 797  Q 3277 410 2886 189  Q 2496 -32 2003 -32  z M 2003 371  Q 2368 371 2649 534  Q 2931 698 3094 995  Q 3258 1293 3258 1683  Q 3258 2080 3094 2374  Q 2931 2669 2649 2832  Q 2368 2995 2010 2995  Q 1651 2995 1369 2832  Q 1088 2669 921 2374  Q 755 2080 755 1683  Q 755 1293 921 995  Q 1088 698 1369 534  Q 1651 371 2003 371  z \" transform=\"scale(0.015625)\"/>\n       <path id=\"Montserrat-Regular-6e\" d=\"M 2349 3392  Q 2758 3392 3068 3235  Q 3379 3078 3555 2758  Q 3731 2438 3731 1952  L 3731 0  L 3277 0  L 3277 1907  Q 3277 2438 3011 2710  Q 2746 2982 2266 2982  Q 1907 2982 1641 2838  Q 1376 2694 1232 2422  Q 1088 2150 1088 1766  L 1088 0  L 634 0  L 634 3360  L 1069 3360  L 1069 2438  L 998 2611  Q 1158 2976 1510 3184  Q 1862 3392 2349 3392  z \" transform=\"scale(0.015625)\"/>\n       <path id=\"Montserrat-Regular-64\" d=\"M 1971 -32  Q 1491 -32 1110 185  Q 730 403 512 790  Q 294 1178 294 1683  Q 294 2195 512 2579  Q 730 2963 1110 3177  Q 1491 3392 1971 3392  Q 2413 3392 2761 3193  Q 3110 2995 3318 2614  Q 3526 2234 3526 1683  Q 3526 1139 3321 755  Q 3117 371 2768 169  Q 2419 -32 1971 -32  z M 2003 371  Q 2362 371 2646 534  Q 2931 698 3094 995  Q 3258 1293 3258 1683  Q 3258 2080 3094 2374  Q 2931 2669 2646 2832  Q 2362 2995 2003 2995  Q 1651 2995 1369 2832  Q 1088 2669 921 2374  Q 755 2080 755 1683  Q 755 1293 921 995  Q 1088 698 1369 534  Q 1651 371 2003 371  z M 3270 0  L 3270 1011  L 3315 1690  L 3251 2368  L 3251 4749  L 3706 4749  L 3706 0  L 3270 0  z \" transform=\"scale(0.015625)\"/>\n       <path id=\"Montserrat-Regular-20\" transform=\"scale(0.015625)\"/>\n       <path id=\"Montserrat-Regular-44\" d=\"M 730 0  L 730 4480  L 2554 4480  Q 3270 4480 3811 4195  Q 4352 3910 4653 3404  Q 4954 2899 4954 2240  Q 4954 1581 4653 1075  Q 4352 570 3811 285  Q 3270 0 2554 0  L 730 0  z M 1203 410  L 2528 410  Q 3123 410 3561 643  Q 4000 877 4243 1289  Q 4486 1702 4486 2240  Q 4486 2784 4243 3193  Q 4000 3603 3561 3836  Q 3123 4070 2528 4070  L 1203 4070  L 1203 410  z \" transform=\"scale(0.015625)\"/>\n       <path id=\"Montserrat-Regular-69\" d=\"M 634 0  L 634 3360  L 1088 3360  L 1088 0  L 634 0  z M 864 4102  Q 723 4102 627 4198  Q 531 4294 531 4429  Q 531 4563 627 4656  Q 723 4749 864 4749  Q 1005 4749 1101 4659  Q 1197 4570 1197 4435  Q 1197 4294 1104 4198  Q 1011 4102 864 4102  z \" transform=\"scale(0.015625)\"/>\n       <path id=\"Montserrat-Regular-73\" d=\"M 1536 -32  Q 1120 -32 749 86  Q 378 205 166 384  L 371 742  Q 576 589 896 477  Q 1216 365 1568 365  Q 2048 365 2259 515  Q 2470 666 2470 915  Q 2470 1101 2352 1206  Q 2234 1312 2042 1366  Q 1850 1421 1613 1459  Q 1376 1498 1142 1549  Q 909 1600 717 1699  Q 525 1798 406 1971  Q 288 2144 288 2432  Q 288 2707 441 2924  Q 595 3142 892 3267  Q 1190 3392 1619 3392  Q 1946 3392 2272 3305  Q 2598 3219 2810 3078  L 2611 2714  Q 2387 2867 2131 2934  Q 1875 3002 1619 3002  Q 1165 3002 950 2845  Q 736 2688 736 2445  Q 736 2253 854 2144  Q 973 2035 1168 1974  Q 1363 1914 1596 1875  Q 1830 1837 2064 1782  Q 2298 1728 2493 1635  Q 2688 1542 2806 1372  Q 2925 1203 2925 928  Q 2925 634 2761 419  Q 2598 205 2288 86  Q 1978 -32 1536 -32  z \" transform=\"scale(0.015625)\"/>\n       <path id=\"Montserrat-Regular-74\" d=\"M 1696 -32  Q 1222 -32 966 224  Q 710 480 710 947  L 710 4102  L 1165 4102  L 1165 973  Q 1165 678 1315 518  Q 1466 358 1747 358  Q 2048 358 2246 531  L 2406 205  Q 2272 83 2083 25  Q 1894 -32 1696 -32  z M 109 2982  L 109 3360  L 2189 3360  L 2189 2982  L 109 2982  z \" transform=\"scale(0.015625)\"/>\n       <path id=\"Montserrat-Regular-72\" d=\"M 634 0  L 634 3360  L 1069 3360  L 1069 2445  L 1024 2605  Q 1165 2989 1497 3190  Q 1830 3392 2323 3392  L 2323 2950  Q 2298 2950 2272 2953  Q 2246 2957 2221 2957  Q 1690 2957 1389 2633  Q 1088 2310 1088 1715  L 1088 0  L 634 0  z \" transform=\"scale(0.015625)\"/>\n       <path id=\"Montserrat-Regular-46\" d=\"M 1152 2310  L 3520 2310  L 3520 1901  L 1152 1901  L 1152 2310  z M 1203 0  L 730 0  L 730 4480  L 3802 4480  L 3802 4070  L 1203 4070  L 1203 0  z \" transform=\"scale(0.015625)\"/>\n       <path id=\"Montserrat-Regular-61\" d=\"M 2739 0  L 2739 742  L 2720 864  L 2720 2106  Q 2720 2534 2480 2764  Q 2240 2995 1766 2995  Q 1440 2995 1145 2886  Q 851 2778 646 2598  L 442 2938  Q 698 3155 1056 3273  Q 1414 3392 1811 3392  Q 2464 3392 2819 3069  Q 3174 2746 3174 2086  L 3174 0  L 2739 0  z M 1581 -32  Q 1203 -32 924 93  Q 646 218 499 438  Q 352 659 352 947  Q 352 1210 477 1424  Q 602 1638 886 1769  Q 1171 1901 1651 1901  L 2810 1901  L 2810 1562  L 1664 1562  Q 1178 1562 989 1389  Q 800 1216 800 960  Q 800 672 1024 499  Q 1248 326 1651 326  Q 2035 326 2313 502  Q 2592 678 2720 1011  L 2822 698  Q 2694 365 2377 166  Q 2061 -32 1581 -32  z \" transform=\"scale(0.015625)\"/>\n       <path id=\"Montserrat-Regular-63\" d=\"M 2029 -32  Q 1530 -32 1136 189  Q 742 410 518 797  Q 294 1184 294 1683  Q 294 2189 518 2573  Q 742 2957 1136 3174  Q 1530 3392 2029 3392  Q 2458 3392 2803 3225  Q 3149 3059 3347 2726  L 3008 2496  Q 2835 2752 2579 2873  Q 2323 2995 2022 2995  Q 1664 2995 1376 2832  Q 1088 2669 921 2374  Q 755 2080 755 1683  Q 755 1286 921 992  Q 1088 698 1376 534  Q 1664 371 2022 371  Q 2323 371 2579 492  Q 2835 614 3008 864  L 3347 634  Q 3149 307 2803 137  Q 2458 -32 2029 -32  z \" transform=\"scale(0.015625)\"/>\n       <path id=\"Montserrat-Regular-28\" d=\"M 1408 -1242  Q 1056 -659 861 105  Q 666 870 666 1754  Q 666 2637 861 3408  Q 1056 4179 1408 4749  L 1843 4749  Q 1466 4090 1290 3350  Q 1114 2611 1114 1754  Q 1114 896 1290 157  Q 1466 -582 1843 -1242  L 1408 -1242  z \" transform=\"scale(0.015625)\"/>\n       <path id=\"Montserrat-Regular-66\" d=\"M 710 0  L 710 3782  Q 710 4230 972 4505  Q 1235 4781 1728 4781  Q 1920 4781 2099 4729  Q 2278 4678 2400 4570  L 2246 4230  Q 2150 4314 2022 4355  Q 1894 4397 1747 4397  Q 1459 4397 1305 4237  Q 1152 4077 1152 3763  L 1152 3251  L 1165 3040  L 1165 0  L 710 0  z M 109 2982  L 109 3360  L 2189 3360  L 2189 2982  L 109 2982  z \" transform=\"scale(0.015625)\"/>\n       <path id=\"Montserrat-Regular-31\" d=\"M 1114 0  L 1114 4288  L 1318 4070  L 58 4070  L 58 4480  L 1574 4480  L 1574 0  L 1114 0  z \" transform=\"scale(0.015625)\"/>\n       <path id=\"Montserrat-Regular-54\" d=\"M 1600 0  L 1600 4070  L 26 4070  L 26 4480  L 3648 4480  L 3648 4070  L 2074 4070  L 2074 0  L 1600 0  z \" transform=\"scale(0.015625)\"/>\n       <path id=\"Montserrat-Regular-65\" d=\"M 2061 -32  Q 1536 -32 1139 189  Q 742 410 518 797  Q 294 1184 294 1683  Q 294 2182 508 2566  Q 723 2950 1097 3171  Q 1472 3392 1939 3392  Q 2413 3392 2781 3177  Q 3149 2963 3360 2576  Q 3571 2189 3571 1683  Q 3571 1651 3568 1616  Q 3565 1581 3565 1542  L 640 1542  L 640 1882  L 3322 1882  L 3142 1747  Q 3142 2112 2985 2397  Q 2829 2682 2560 2842  Q 2291 3002 1939 3002  Q 1594 3002 1318 2842  Q 1043 2682 889 2394  Q 736 2106 736 1734  L 736 1664  Q 736 1280 905 989  Q 1075 698 1379 534  Q 1683 371 2074 371  Q 2381 371 2646 480  Q 2912 589 3104 813  L 3360 518  Q 3136 250 2800 109  Q 2464 -32 2061 -32  z \" transform=\"scale(0.015625)\"/>\n       <path id=\"Montserrat-Regular-56\" d=\"M 2003 0  L 19 4480  L 531 4480  L 2387 262  L 2106 262  L 3974 4480  L 4454 4480  L 2470 0  L 2003 0  z \" transform=\"scale(0.015625)\"/>\n       <path id=\"Montserrat-Regular-2212\" d=\"M 448 2048  L 448 2426  L 3232 2426  L 3232 2048  L 448 2048  z \" transform=\"scale(0.015625)\"/>\n       <path id=\"Montserrat-Regular-43\" d=\"M 2675 -38  Q 2170 -38 1741 131  Q 1312 301 998 608  Q 685 915 509 1331  Q 333 1747 333 2240  Q 333 2733 509 3149  Q 685 3565 1001 3872  Q 1318 4179 1747 4348  Q 2176 4518 2682 4518  Q 3168 4518 3597 4355  Q 4026 4192 4320 3866  L 4019 3565  Q 3744 3846 3411 3971  Q 3078 4096 2694 4096  Q 2291 4096 1945 3958  Q 1600 3821 1344 3568  Q 1088 3315 944 2979  Q 800 2643 800 2240  Q 800 1837 944 1501  Q 1088 1165 1344 912  Q 1600 659 1945 521  Q 2291 384 2694 384  Q 3078 384 3411 512  Q 3744 640 4019 922  L 4320 621  Q 4026 294 3597 128  Q 3168 -38 2675 -38  z \" transform=\"scale(0.015625)\"/>\n       <path id=\"Montserrat-Regular-29\" d=\"M 691 -1242  L 256 -1242  Q 640 -582 816 157  Q 992 896 992 1754  Q 992 2611 816 3350  Q 640 4090 256 4749  L 691 4749  Q 1056 4179 1248 3408  Q 1440 2637 1440 1754  Q 1440 870 1248 105  Q 1056 -659 691 -1242  z \" transform=\"scale(0.015625)\"/>\n      </defs>\n      <use xlink:href=\"#Montserrat-Regular-42\" transform=\"translate(0 0.807813)\"/>\n      <use xlink:href=\"#Montserrat-Regular-6f\" transform=\"translate(75.399994 0.807813)\"/>\n      <use xlink:href=\"#Montserrat-Regular-6e\" transform=\"translate(138.099991 0.807813)\"/>\n      <use xlink:href=\"#Montserrat-Regular-64\" transform=\"translate(205.699982 0.807813)\"/>\n      <use xlink:href=\"#Montserrat-Regular-20\" transform=\"translate(273.499969 0.807813)\"/>\n      <use xlink:href=\"#Montserrat-Regular-44\" transform=\"translate(299.699966 0.807813)\"/>\n      <use xlink:href=\"#Montserrat-Regular-69\" transform=\"translate(382.299957 0.807813)\"/>\n      <use xlink:href=\"#Montserrat-Regular-73\" transform=\"translate(409.199951 0.807813)\"/>\n      <use xlink:href=\"#Montserrat-Regular-74\" transform=\"translate(457.999939 0.807813)\"/>\n      <use xlink:href=\"#Montserrat-Regular-6f\" transform=\"translate(498.59993 0.807813)\"/>\n      <use xlink:href=\"#Montserrat-Regular-72\" transform=\"translate(561.299927 0.807813)\"/>\n      <use xlink:href=\"#Montserrat-Regular-74\" transform=\"translate(601.399918 0.807813)\"/>\n      <use xlink:href=\"#Montserrat-Regular-69\" transform=\"translate(641.999908 0.807813)\"/>\n      <use xlink:href=\"#Montserrat-Regular-6f\" transform=\"translate(668.899902 0.807813)\"/>\n      <use xlink:href=\"#Montserrat-Regular-6e\" transform=\"translate(731.599899 0.807813)\"/>\n      <use xlink:href=\"#Montserrat-Regular-20\" transform=\"translate(799.19989 0.807813)\"/>\n      <use xlink:href=\"#Montserrat-Regular-46\" transform=\"translate(825.399887 0.807813)\"/>\n      <use xlink:href=\"#Montserrat-Regular-61\" transform=\"translate(888.699875 0.807813)\"/>\n      <use xlink:href=\"#Montserrat-Regular-63\" transform=\"translate(947.69986 0.807813)\"/>\n      <use xlink:href=\"#Montserrat-Regular-74\" transform=\"translate(1003.999847 0.807813)\"/>\n      <use xlink:href=\"#Montserrat-Regular-6f\" transform=\"translate(1044.599838 0.807813)\"/>\n      <use xlink:href=\"#Montserrat-Regular-72\" transform=\"translate(1107.299835 0.807813)\"/>\n      <use xlink:href=\"#Montserrat-Regular-20\" transform=\"translate(1147.399826 0.807813)\"/>\n      <use xlink:href=\"#Montserrat-Regular-28\" transform=\"translate(1173.599823 0.807813)\"/>\n      <use xlink:href=\"#Montserrat-Regular-66\" transform=\"translate(1206.499817 0.807813)\"/>\n      <use xlink:href=\"#Montserrat-Regular-6f\" transform=\"translate(1240.399811 0.807813)\"/>\n      <use xlink:href=\"#Montserrat-Regular-72\" transform=\"translate(1303.099808 0.807813)\"/>\n      <use xlink:href=\"#Montserrat-Regular-20\" transform=\"translate(1343.199799 0.807813)\"/>\n      <use xlink:href=\"#Montserrat-Regular-31\" transform=\"translate(1369.399796 0.807813)\"/>\n      <use xlink:href=\"#Montserrat-Regular-20\" transform=\"translate(1405.499786 0.807813)\"/>\n      <use xlink:href=\"#Montserrat-Regular-54\" transform=\"translate(1431.699783 0.807813)\"/>\n      <use xlink:href=\"#Montserrat-Regular-65\" transform=\"translate(1489.099777 0.807813)\"/>\n      <use xlink:href=\"#Montserrat-Regular-20\" transform=\"translate(1549.499771 0.807813)\"/>\n      <use xlink:href=\"#Montserrat-Regular-6e\" transform=\"translate(1575.699768 0.807813)\"/>\n      <use xlink:href=\"#Montserrat-Regular-65\" transform=\"translate(1643.299759 0.807813)\"/>\n      <use xlink:href=\"#Montserrat-Regular-61\" transform=\"translate(1703.699753 0.807813)\"/>\n      <use xlink:href=\"#Montserrat-Regular-72\" transform=\"translate(1762.699738 0.807813)\"/>\n      <use xlink:href=\"#Montserrat-Regular-20\" transform=\"translate(1802.799728 0.807813)\"/>\n      <use xlink:href=\"#Montserrat-Regular-56\" transform=\"translate(1828.999725 0.807813)\"/>\n      <use xlink:href=\"#Montserrat-Regular-2212\" transform=\"translate(1899.718463 39) scale(0.7)\"/>\n      <use xlink:href=\"#Montserrat-Regular-31\" transform=\"translate(1939.968452 39) scale(0.7)\"/>\n      <use xlink:href=\"#Montserrat-Regular-43\" transform=\"translate(1899.718463 -25.442187) scale(0.7)\"/>\n      <use xlink:href=\"#Montserrat-Regular-64\" transform=\"translate(1950.048459 -25.442187) scale(0.7)\"/>\n      <use xlink:href=\"#Montserrat-Regular-29\" transform=\"translate(2000.13345 0.807813)\"/>\n     </g>\n    </g>\n   </g>\n   <g id=\"matplotlib.axis_2\">\n    <g id=\"ytick_1\">\n     <g id=\"line2d_14\">\n      <defs>\n       <path id=\"mee45b2c164\" d=\"M 0 0  L 12 0  \" style=\"stroke: #000000; stroke-width: 0.2\"/>\n      </defs>\n      <g>\n       <use xlink:href=\"#mee45b2c164\" x=\"59.098125\" y=\"329.8975\" style=\"stroke: #000000; stroke-width: 0.2\"/>\n      </g>\n     </g>\n     <g id=\"text_7\">\n      <!-- -1.2 -->\n      <g transform=\"translate(35.583984 334.16418) scale(0.115 -0.115)\">\n       <defs>\n        <path id=\"Montserrat-Regular-32\" d=\"M 250 0  L 250 326  L 2112 2150  Q 2368 2400 2496 2589  Q 2624 2778 2669 2944  Q 2714 3110 2714 3258  Q 2714 3648 2448 3872  Q 2182 4096 1664 4096  Q 1267 4096 963 3974  Q 659 3853 442 3597  L 115 3878  Q 378 4186 787 4352  Q 1197 4518 1702 4518  Q 2157 4518 2489 4374  Q 2822 4230 3004 3955  Q 3187 3680 3187 3309  Q 3187 3091 3126 2880  Q 3066 2669 2909 2435  Q 2752 2202 2451 1907  L 742 230  L 614 410  L 3392 410  L 3392 0  L 250 0  z \" transform=\"scale(0.015625)\"/>\n       </defs>\n       <use xlink:href=\"#Montserrat-Regular-2d\"/>\n       <use xlink:href=\"#Montserrat-Regular-31\" x=\"38.199997\"/>\n       <use xlink:href=\"#Montserrat-Regular-2e\" x=\"74.299988\"/>\n       <use xlink:href=\"#Montserrat-Regular-32\" x=\"95.499985\"/>\n      </g>\n     </g>\n    </g>\n    <g id=\"ytick_2\">\n     <g id=\"line2d_15\">\n      <g>\n       <use xlink:href=\"#mee45b2c164\" x=\"59.098125\" y=\"276.96\" style=\"stroke: #000000; stroke-width: 0.2\"/>\n      </g>\n     </g>\n     <g id=\"text_8\">\n      <!-- -1.0 -->\n      <g transform=\"translate(34.502266 281.22668) scale(0.115 -0.115)\">\n       <use xlink:href=\"#Montserrat-Regular-2d\"/>\n       <use xlink:href=\"#Montserrat-Regular-31\" x=\"38.199997\"/>\n       <use xlink:href=\"#Montserrat-Regular-2e\" x=\"74.299988\"/>\n       <use xlink:href=\"#Montserrat-Regular-30\" x=\"95.499985\"/>\n      </g>\n     </g>\n    </g>\n    <g id=\"ytick_3\">\n     <g id=\"line2d_16\">\n      <g>\n       <use xlink:href=\"#mee45b2c164\" x=\"59.098125\" y=\"224.0225\" style=\"stroke: #000000; stroke-width: 0.2\"/>\n      </g>\n     </g>\n     <g id=\"text_9\">\n      <!-- -0.8 -->\n      <g transform=\"translate(31.316406 228.28918) scale(0.115 -0.115)\">\n       <defs>\n        <path id=\"Montserrat-Regular-38\" d=\"M 2035 -38  Q 1498 -38 1110 115  Q 723 269 515 560  Q 307 851 307 1248  Q 307 1632 508 1904  Q 710 2176 1097 2323  Q 1485 2470 2035 2470  Q 2579 2470 2969 2323  Q 3360 2176 3568 1904  Q 3776 1632 3776 1248  Q 3776 851 3565 560  Q 3354 269 2963 115  Q 2573 -38 2035 -38  z M 2035 352  Q 2630 352 2966 595  Q 3302 838 3302 1254  Q 3302 1670 2966 1910  Q 2630 2150 2035 2150  Q 1440 2150 1107 1910  Q 774 1670 774 1254  Q 774 838 1107 595  Q 1440 352 2035 352  z M 2035 2208  Q 1536 2208 1187 2342  Q 838 2477 652 2729  Q 467 2982 467 3334  Q 467 3706 662 3971  Q 858 4237 1210 4377  Q 1562 4518 2035 4518  Q 2509 4518 2864 4377  Q 3219 4237 3417 3971  Q 3616 3706 3616 3334  Q 3616 2982 3430 2729  Q 3245 2477 2889 2342  Q 2534 2208 2035 2208  z M 2035 2515  Q 2560 2515 2854 2732  Q 3149 2950 3149 3315  Q 3149 3699 2845 3913  Q 2541 4128 2035 4128  Q 1530 4128 1229 3913  Q 928 3699 928 3322  Q 928 2950 1219 2732  Q 1510 2515 2035 2515  z \" transform=\"scale(0.015625)\"/>\n       </defs>\n       <use xlink:href=\"#Montserrat-Regular-2d\"/>\n       <use xlink:href=\"#Montserrat-Regular-30\" x=\"38.199997\"/>\n       <use xlink:href=\"#Montserrat-Regular-2e\" x=\"104.399994\"/>\n       <use xlink:href=\"#Montserrat-Regular-38\" x=\"125.599991\"/>\n      </g>\n     </g>\n    </g>\n    <g id=\"ytick_4\">\n     <g id=\"line2d_17\">\n      <g>\n       <use xlink:href=\"#mee45b2c164\" x=\"59.098125\" y=\"171.085\" style=\"stroke: #000000; stroke-width: 0.2\"/>\n      </g>\n     </g>\n     <g id=\"text_10\">\n      <!-- -0.5 -->\n      <g transform=\"translate(32.144766 175.35168) scale(0.115 -0.115)\">\n       <defs>\n        <path id=\"Montserrat-Regular-35\" d=\"M 1747 -38  Q 1267 -38 832 118  Q 397 275 141 538  L 365 902  Q 576 678 944 531  Q 1312 384 1741 384  Q 2310 384 2608 637  Q 2906 890 2906 1299  Q 2906 1587 2768 1795  Q 2630 2003 2304 2118  Q 1978 2234 1408 2234  L 454 2234  L 685 4480  L 3136 4480  L 3136 4070  L 870 4070  L 1107 4294  L 909 2413  L 672 2643  L 1510 2643  Q 2189 2643 2598 2476  Q 3008 2310 3190 2012  Q 3373 1715 3373 1318  Q 3373 941 3193 630  Q 3014 320 2656 141  Q 2298 -38 1747 -38  z \" transform=\"scale(0.015625)\"/>\n       </defs>\n       <use xlink:href=\"#Montserrat-Regular-2d\"/>\n       <use xlink:href=\"#Montserrat-Regular-30\" x=\"38.199997\"/>\n       <use xlink:href=\"#Montserrat-Regular-2e\" x=\"104.399994\"/>\n       <use xlink:href=\"#Montserrat-Regular-35\" x=\"125.599991\"/>\n      </g>\n     </g>\n    </g>\n    <g id=\"ytick_5\">\n     <g id=\"line2d_18\">\n      <g>\n       <use xlink:href=\"#mee45b2c164\" x=\"59.098125\" y=\"118.1475\" style=\"stroke: #000000; stroke-width: 0.2\"/>\n      </g>\n     </g>\n     <g id=\"text_11\">\n      <!-- -0.2 -->\n      <g transform=\"translate(32.121406 122.41418) scale(0.115 -0.115)\">\n       <use xlink:href=\"#Montserrat-Regular-2d\"/>\n       <use xlink:href=\"#Montserrat-Regular-30\" x=\"38.199997\"/>\n       <use xlink:href=\"#Montserrat-Regular-2e\" x=\"104.399994\"/>\n       <use xlink:href=\"#Montserrat-Regular-32\" x=\"125.599991\"/>\n      </g>\n     </g>\n    </g>\n    <g id=\"ytick_6\">\n     <g id=\"line2d_19\">\n      <g>\n       <use xlink:href=\"#mee45b2c164\" x=\"59.098125\" y=\"65.21\" style=\"stroke: #000000; stroke-width: 0.2\"/>\n      </g>\n     </g>\n     <g id=\"text_12\">\n      <!-- 0.0 -->\n      <g transform=\"translate(35.433047 69.47668) scale(0.115 -0.115)\">\n       <use xlink:href=\"#Montserrat-Regular-30\"/>\n       <use xlink:href=\"#Montserrat-Regular-2e\" x=\"66.199997\"/>\n       <use xlink:href=\"#Montserrat-Regular-30\" x=\"87.399994\"/>\n      </g>\n     </g>\n    </g>\n    <g id=\"text_13\">\n     <!-- Energy (eV) -->\n     <g transform=\"translate(18.330469 235.754141) rotate(-90) scale(0.15 -0.15)\">\n      <defs>\n       <path id=\"Montserrat-Regular-45\" d=\"M 1152 2477  L 3520 2477  L 3520 2074  L 1152 2074  L 1152 2477  z M 1203 410  L 3898 410  L 3898 0  L 730 0  L 730 4480  L 3802 4480  L 3802 4070  L 1203 4070  L 1203 410  z \" transform=\"scale(0.015625)\"/>\n       <path id=\"Montserrat-Regular-67\" d=\"M 2067 -1274  Q 1606 -1274 1184 -1139  Q 762 -1005 499 -755  L 730 -410  Q 966 -621 1315 -745  Q 1664 -870 2054 -870  Q 2694 -870 2995 -572  Q 3296 -275 3296 352  L 3296 1190  L 3360 1766  L 3315 2342  L 3315 3360  L 3750 3360  L 3750 410  Q 3750 -461 3324 -867  Q 2899 -1274 2067 -1274  z M 1984 128  Q 1504 128 1120 336  Q 736 544 515 915  Q 294 1286 294 1766  Q 294 2246 515 2614  Q 736 2982 1120 3187  Q 1504 3392 1984 3392  Q 2432 3392 2790 3206  Q 3149 3021 3360 2656  Q 3571 2291 3571 1766  Q 3571 1242 3360 877  Q 3149 512 2790 320  Q 2432 128 1984 128  z M 2029 531  Q 2400 531 2688 688  Q 2976 845 3142 1123  Q 3309 1402 3309 1766  Q 3309 2131 3142 2406  Q 2976 2682 2688 2838  Q 2400 2995 2029 2995  Q 1664 2995 1373 2838  Q 1082 2682 918 2406  Q 755 2131 755 1766  Q 755 1402 918 1123  Q 1082 845 1373 688  Q 1664 531 2029 531  z \" transform=\"scale(0.015625)\"/>\n       <path id=\"Montserrat-Regular-79\" d=\"M 659 -1274  Q 422 -1274 208 -1197  Q -6 -1120 -160 -966  L 51 -627  Q 179 -749 329 -816  Q 480 -883 666 -883  Q 890 -883 1053 -758  Q 1216 -634 1363 -320  L 1581 173  L 1632 243  L 3014 3360  L 3462 3360  L 1779 -403  Q 1638 -730 1468 -922  Q 1299 -1114 1100 -1194  Q 902 -1274 659 -1274  z M 1555 -96  L 6 3360  L 480 3360  L 1850 275  L 1555 -96  z \" transform=\"scale(0.015625)\"/>\n      </defs>\n      <use xlink:href=\"#Montserrat-Regular-45\"/>\n      <use xlink:href=\"#Montserrat-Regular-6e\" x=\"66.899994\"/>\n      <use xlink:href=\"#Montserrat-Regular-65\" x=\"134.499985\"/>\n      <use xlink:href=\"#Montserrat-Regular-72\" x=\"194.899979\"/>\n      <use xlink:href=\"#Montserrat-Regular-67\" x=\"234.999969\"/>\n      <use xlink:href=\"#Montserrat-Regular-79\" x=\"303.499954\"/>\n      <use xlink:href=\"#Montserrat-Regular-20\" x=\"357.699951\"/>\n      <use xlink:href=\"#Montserrat-Regular-28\" x=\"383.899948\"/>\n      <use xlink:href=\"#Montserrat-Regular-65\" x=\"416.799942\"/>\n      <use xlink:href=\"#Montserrat-Regular-56\" x=\"477.199936\"/>\n      <use xlink:href=\"#Montserrat-Regular-29\" x=\"546.999924\"/>\n     </g>\n    </g>\n   </g>\n   <g id=\"line2d_20\">\n    <path d=\"M 74.316307 65.21  L 99.679943 65.21  L 125.04358 65.21  L 150.407216 65.21  L 175.770852 65.21  L 201.134489 65.21  L 226.498125 65.21  L 251.861761 65.21  L 277.225398 255.785  L 302.589034 255.785  L 327.95267 255.785  L 353.316307 255.785  L 378.679943 255.785  \" clip-path=\"url(#p636b71f2fe)\" style=\"fill: none; stroke: #59a590; stroke-linecap: square\"/>\n    <defs>\n     <path id=\"m49febe316d\" d=\"M 0 3  C 0.795609 3 1.55874 2.683901 2.12132 2.12132  C 2.683901 1.55874 3 0.795609 3 0  C 3 -0.795609 2.683901 -1.55874 2.12132 -2.12132  C 1.55874 -2.683901 0.795609 -3 0 -3  C -0.795609 -3 -1.55874 -2.683901 -2.12132 -2.12132  C -2.683901 -1.55874 -3 -0.795609 -3 0  C -3 0.795609 -2.683901 1.55874 -2.12132 2.12132  C -1.55874 2.683901 -0.795609 3 0 3  z \" style=\"stroke: #59a590\"/>\n    </defs>\n    <g clip-path=\"url(#p636b71f2fe)\">\n     <use xlink:href=\"#m49febe316d\" x=\"74.316307\" y=\"65.21\" style=\"fill: #59a590; stroke: #59a590\"/>\n     <use xlink:href=\"#m49febe316d\" x=\"99.679943\" y=\"65.21\" style=\"fill: #59a590; stroke: #59a590\"/>\n     <use xlink:href=\"#m49febe316d\" x=\"125.04358\" y=\"65.21\" style=\"fill: #59a590; stroke: #59a590\"/>\n     <use xlink:href=\"#m49febe316d\" x=\"150.407216\" y=\"65.21\" style=\"fill: #59a590; stroke: #59a590\"/>\n     <use xlink:href=\"#m49febe316d\" x=\"175.770852\" y=\"65.21\" style=\"fill: #59a590; stroke: #59a590\"/>\n     <use xlink:href=\"#m49febe316d\" x=\"201.134489\" y=\"65.21\" style=\"fill: #59a590; stroke: #59a590\"/>\n     <use xlink:href=\"#m49febe316d\" x=\"226.498125\" y=\"65.21\" style=\"fill: #59a590; stroke: #59a590\"/>\n     <use xlink:href=\"#m49febe316d\" x=\"251.861761\" y=\"65.21\" style=\"fill: #59a590; stroke: #59a590\"/>\n     <use xlink:href=\"#m49febe316d\" x=\"277.225398\" y=\"255.785\" style=\"fill: #59a590; stroke: #59a590\"/>\n     <use xlink:href=\"#m49febe316d\" x=\"302.589034\" y=\"255.785\" style=\"fill: #59a590; stroke: #59a590\"/>\n     <use xlink:href=\"#m49febe316d\" x=\"327.95267\" y=\"255.785\" style=\"fill: #59a590; stroke: #59a590\"/>\n     <use xlink:href=\"#m49febe316d\" x=\"353.316307\" y=\"255.785\" style=\"fill: #59a590; stroke: #59a590\"/>\n     <use xlink:href=\"#m49febe316d\" x=\"378.679943\" y=\"255.785\" style=\"fill: #59a590; stroke: #59a590\"/>\n    </g>\n   </g>\n   <g id=\"line2d_21\">\n    <defs>\n     <path id=\"m8b8f3780d6\" d=\"M -0 6.363961  L 3.818377 0  L 0 -6.363961  L -3.818377 -0  z \" style=\"stroke: #59a590; stroke-linejoin: miter\"/>\n    </defs>\n    <g clip-path=\"url(#p636b71f2fe)\">\n     <use xlink:href=\"#m8b8f3780d6\" x=\"226.498125\" y=\"65.21\" style=\"fill: #59a590; stroke: #59a590; stroke-linejoin: miter\"/>\n    </g>\n   </g>\n   <g id=\"patch_3\">\n    <path d=\"M 59.098125 344.72  L 59.098125 39.8  \" style=\"fill: none; stroke: #000000; stroke-width: 0.5; stroke-linejoin: miter; stroke-linecap: square\"/>\n   </g>\n   <g id=\"patch_4\">\n    <path d=\"M 393.898125 344.72  L 393.898125 39.8  \" style=\"fill: none; stroke: #000000; stroke-width: 0.5; stroke-linejoin: miter; stroke-linecap: square\"/>\n   </g>\n   <g id=\"patch_5\">\n    <path d=\"M 59.098125 344.72  L 393.898125 344.72  \" style=\"fill: none; stroke: #000000; stroke-width: 0.5; stroke-linejoin: miter; stroke-linecap: square\"/>\n   </g>\n   <g id=\"patch_6\">\n    <path d=\"M 59.098125 39.8  L 393.898125 39.8  \" style=\"fill: none; stroke: #000000; stroke-width: 0.5; stroke-linejoin: miter; stroke-linecap: square\"/>\n   </g>\n   <g id=\"text_14\">\n    <!-- $V_{Cd}^{-1}$ -->\n    <g transform=\"translate(209.298125 24.8) scale(0.2 -0.2)\">\n     <use xlink:href=\"#Montserrat-Regular-56\" transform=\"translate(0 0.807813)\"/>\n     <use xlink:href=\"#Montserrat-Regular-2212\" transform=\"translate(70.718738 39) scale(0.7)\"/>\n     <use xlink:href=\"#Montserrat-Regular-31\" transform=\"translate(110.968727 39) scale(0.7)\"/>\n     <use xlink:href=\"#Montserrat-Regular-43\" transform=\"translate(70.718738 -25.442187) scale(0.7)\"/>\n     <use xlink:href=\"#Montserrat-Regular-64\" transform=\"translate(121.048734 -25.442187) scale(0.7)\"/>\n    </g>\n   </g>\n   <g id=\"PathCollection_1\">\n    <defs>\n     <path id=\"mbc2315b4d8\" d=\"M -3.535534 3.535534  L 3.535534 3.535534  L 3.535534 -3.535534  L -3.535534 -3.535534  z \" style=\"stroke: #000000\"/>\n    </defs>\n    <g clip-path=\"url(#p636b71f2fe)\">\n     <use xlink:href=\"#mbc2315b4d8\" x=\"74.316307\" y=\"319.31\" style=\"fill: #59a590; stroke: #000000\"/>\n    </g>\n   </g>\n   <g id=\"legend_1\">\n    <g id=\"patch_7\">\n     <path d=\"M 221.221562 338.22  L 384.798125 338.22  Q 387.398125 338.22 387.398125 335.62  L 387.398125 280.847344  Q 387.398125 278.247344 384.798125 278.247344  L 221.221562 278.247344  Q 218.621562 278.247344 218.621562 280.847344  L 218.621562 335.62  Q 218.621562 338.22 221.221562 338.22  z \" style=\"fill: #ffffff; opacity: 0.8; stroke: #cccccc; stroke-linejoin: miter\"/>\n    </g>\n    <g id=\"line2d_22\">\n     <path d=\"M 223.821562 288.54375  L 231.621562 288.54375  L 239.421562 288.54375  \" style=\"fill: none; stroke: #59a590; stroke-linecap: square\"/>\n     <g>\n      <use xlink:href=\"#m49febe316d\" x=\"231.621562\" y=\"288.54375\" style=\"fill: #59a590; stroke: #59a590\"/>\n     </g>\n    </g>\n    <g id=\"text_15\">\n     <!-- Distortions: 1 Te -->\n     <g transform=\"translate(249.821562 293.09375) scale(0.13 -0.13)\">\n      <defs>\n       <path id=\"Montserrat-Regular-3a\" d=\"M 678 2720  Q 538 2720 438 2822  Q 339 2925 339 3072  Q 339 3226 438 3322  Q 538 3418 678 3418  Q 819 3418 918 3322  Q 1018 3226 1018 3072  Q 1018 2925 918 2822  Q 819 2720 678 2720  z M 678 -32  Q 538 -32 438 70  Q 339 173 339 320  Q 339 474 438 570  Q 538 666 678 666  Q 819 666 918 570  Q 1018 474 1018 320  Q 1018 173 918 70  Q 819 -32 678 -32  z \" transform=\"scale(0.015625)\"/>\n      </defs>\n      <use xlink:href=\"#Montserrat-Regular-44\"/>\n      <use xlink:href=\"#Montserrat-Regular-69\" x=\"82.599991\"/>\n      <use xlink:href=\"#Montserrat-Regular-73\" x=\"109.499985\"/>\n      <use xlink:href=\"#Montserrat-Regular-74\" x=\"158.299973\"/>\n      <use xlink:href=\"#Montserrat-Regular-6f\" x=\"198.899963\"/>\n      <use xlink:href=\"#Montserrat-Regular-72\" x=\"261.59996\"/>\n      <use xlink:href=\"#Montserrat-Regular-74\" x=\"301.699951\"/>\n      <use xlink:href=\"#Montserrat-Regular-69\" x=\"342.299942\"/>\n      <use xlink:href=\"#Montserrat-Regular-6f\" x=\"369.199936\"/>\n      <use xlink:href=\"#Montserrat-Regular-6e\" x=\"431.899933\"/>\n      <use xlink:href=\"#Montserrat-Regular-73\" x=\"499.499924\"/>\n      <use xlink:href=\"#Montserrat-Regular-3a\" x=\"548.299911\"/>\n      <use xlink:href=\"#Montserrat-Regular-20\" x=\"569.499908\"/>\n      <use xlink:href=\"#Montserrat-Regular-31\" x=\"595.699905\"/>\n      <use xlink:href=\"#Montserrat-Regular-20\" x=\"631.799896\"/>\n      <use xlink:href=\"#Montserrat-Regular-54\" x=\"657.999893\"/>\n      <use xlink:href=\"#Montserrat-Regular-65\" x=\"715.399887\"/>\n     </g>\n    </g>\n    <g id=\"PathCollection_2\">\n     <g>\n      <use xlink:href=\"#mbc2315b4d8\" x=\"231.621562\" y=\"308.350469\" style=\"fill: #59a590; stroke: #000000\"/>\n     </g>\n    </g>\n    <g id=\"text_16\">\n     <!-- From 0 charge state -->\n     <g transform=\"translate(249.821562 311.762969) scale(0.13 -0.13)\">\n      <defs>\n       <path id=\"Montserrat-Regular-6d\" d=\"M 4832 3392  Q 5242 3392 5546 3235  Q 5850 3078 6019 2758  Q 6189 2438 6189 1952  L 6189 0  L 5734 0  L 5734 1907  Q 5734 2438 5481 2710  Q 5229 2982 4768 2982  Q 4422 2982 4169 2838  Q 3917 2694 3779 2422  Q 3642 2150 3642 1766  L 3642 0  L 3187 0  L 3187 1907  Q 3187 2438 2931 2710  Q 2675 2982 2214 2982  Q 1875 2982 1619 2838  Q 1363 2694 1225 2422  Q 1088 2150 1088 1766  L 1088 0  L 634 0  L 634 3360  L 1069 3360  L 1069 2451  L 998 2611  Q 1152 2976 1494 3184  Q 1837 3392 2304 3392  Q 2797 3392 3142 3145  Q 3488 2899 3590 2406  L 3411 2477  Q 3558 2886 3932 3139  Q 4307 3392 4832 3392  z \" transform=\"scale(0.015625)\"/>\n       <path id=\"Montserrat-Regular-68\" d=\"M 2349 3392  Q 2758 3392 3068 3235  Q 3379 3078 3555 2758  Q 3731 2438 3731 1952  L 3731 0  L 3277 0  L 3277 1907  Q 3277 2438 3011 2710  Q 2746 2982 2266 2982  Q 1907 2982 1641 2838  Q 1376 2694 1232 2422  Q 1088 2150 1088 1766  L 1088 0  L 634 0  L 634 4749  L 1088 4749  L 1088 2438  L 998 2611  Q 1158 2976 1510 3184  Q 1862 3392 2349 3392  z \" transform=\"scale(0.015625)\"/>\n      </defs>\n      <use xlink:href=\"#Montserrat-Regular-46\"/>\n      <use xlink:href=\"#Montserrat-Regular-72\" x=\"63.299988\"/>\n      <use xlink:href=\"#Montserrat-Regular-6f\" x=\"103.399979\"/>\n      <use xlink:href=\"#Montserrat-Regular-6d\" x=\"166.099976\"/>\n      <use xlink:href=\"#Montserrat-Regular-20\" x=\"272.199966\"/>\n      <use xlink:href=\"#Montserrat-Regular-30\" x=\"298.399963\"/>\n      <use xlink:href=\"#Montserrat-Regular-20\" x=\"364.59996\"/>\n      <use xlink:href=\"#Montserrat-Regular-63\" x=\"390.799957\"/>\n      <use xlink:href=\"#Montserrat-Regular-68\" x=\"447.099945\"/>\n      <use xlink:href=\"#Montserrat-Regular-61\" x=\"514.699936\"/>\n      <use xlink:href=\"#Montserrat-Regular-72\" x=\"573.699921\"/>\n      <use xlink:href=\"#Montserrat-Regular-67\" x=\"613.799911\"/>\n      <use xlink:href=\"#Montserrat-Regular-65\" x=\"682.299896\"/>\n      <use xlink:href=\"#Montserrat-Regular-20\" x=\"742.69989\"/>\n      <use xlink:href=\"#Montserrat-Regular-73\" x=\"768.899887\"/>\n      <use xlink:href=\"#Montserrat-Regular-74\" x=\"817.699875\"/>\n      <use xlink:href=\"#Montserrat-Regular-61\" x=\"858.299866\"/>\n      <use xlink:href=\"#Montserrat-Regular-74\" x=\"917.29985\"/>\n      <use xlink:href=\"#Montserrat-Regular-65\" x=\"957.899841\"/>\n     </g>\n    </g>\n    <g id=\"line2d_23\">\n     <g>\n      <use xlink:href=\"#m8b8f3780d6\" x=\"231.621562\" y=\"325.947187\" style=\"fill: #59a590; stroke: #59a590; stroke-linejoin: miter\"/>\n     </g>\n    </g>\n    <g id=\"text_17\">\n     <!-- Unperturbed -->\n     <g transform=\"translate(249.821562 330.497187) scale(0.13 -0.13)\">\n      <defs>\n       <path id=\"Montserrat-Regular-55\" d=\"M 2534 -38  Q 1677 -38 1184 454  Q 691 947 691 1914  L 691 4480  L 1165 4480  L 1165 1933  Q 1165 1139 1523 761  Q 1882 384 2534 384  Q 3194 384 3552 761  Q 3910 1139 3910 1933  L 3910 4480  L 4371 4480  L 4371 1914  Q 4371 947 3881 454  Q 3392 -38 2534 -38  z \" transform=\"scale(0.015625)\"/>\n       <path id=\"Montserrat-Regular-70\" d=\"M 2368 -32  Q 1933 -32 1581 169  Q 1229 371 1021 752  Q 813 1133 813 1683  Q 813 2234 1017 2614  Q 1222 2995 1574 3193  Q 1926 3392 2368 3392  Q 2848 3392 3229 3177  Q 3610 2963 3827 2576  Q 4045 2189 4045 1683  Q 4045 1171 3827 787  Q 3610 403 3229 185  Q 2848 -32 2368 -32  z M 634 -1242  L 634 3360  L 1069 3360  L 1069 2349  L 1024 1677  L 1088 998  L 1088 -1242  L 634 -1242  z M 2336 371  Q 2694 371 2976 534  Q 3258 698 3424 995  Q 3590 1293 3590 1683  Q 3590 2074 3424 2368  Q 3258 2662 2976 2828  Q 2694 2995 2336 2995  Q 1978 2995 1693 2828  Q 1408 2662 1245 2368  Q 1082 2074 1082 1683  Q 1082 1293 1245 995  Q 1408 698 1693 534  Q 1978 371 2336 371  z \" transform=\"scale(0.015625)\"/>\n       <path id=\"Montserrat-Regular-75\" d=\"M 2022 -32  Q 1594 -32 1274 128  Q 954 288 778 608  Q 602 928 602 1408  L 602 3360  L 1056 3360  L 1056 1459  Q 1056 922 1321 650  Q 1587 378 2067 378  Q 2419 378 2678 522  Q 2938 666 3075 941  Q 3213 1216 3213 1600  L 3213 3360  L 3667 3360  L 3667 0  L 3232 0  L 3232 922  L 3302 755  Q 3142 384 2806 176  Q 2470 -32 2022 -32  z \" transform=\"scale(0.015625)\"/>\n       <path id=\"Montserrat-Regular-62\" d=\"M 2368 -32  Q 1926 -32 1574 169  Q 1222 371 1017 755  Q 813 1139 813 1683  Q 813 2234 1021 2614  Q 1229 2995 1581 3193  Q 1933 3392 2368 3392  Q 2848 3392 3229 3177  Q 3610 2963 3827 2579  Q 4045 2195 4045 1683  Q 4045 1178 3827 790  Q 3610 403 3229 185  Q 2848 -32 2368 -32  z M 634 0  L 634 4749  L 1088 4749  L 1088 2368  L 1024 1690  L 1069 1011  L 1069 0  L 634 0  z M 2336 371  Q 2694 371 2976 534  Q 3258 698 3424 995  Q 3590 1293 3590 1683  Q 3590 2080 3424 2374  Q 3258 2669 2976 2832  Q 2694 2995 2336 2995  Q 1978 2995 1693 2832  Q 1408 2669 1245 2374  Q 1082 2080 1082 1683  Q 1082 1293 1245 995  Q 1408 698 1693 534  Q 1978 371 2336 371  z \" transform=\"scale(0.015625)\"/>\n      </defs>\n      <use xlink:href=\"#Montserrat-Regular-55\"/>\n      <use xlink:href=\"#Montserrat-Regular-6e\" x=\"79.199982\"/>\n      <use xlink:href=\"#Montserrat-Regular-70\" x=\"146.799973\"/>\n      <use xlink:href=\"#Montserrat-Regular-65\" x=\"214.59996\"/>\n      <use xlink:href=\"#Montserrat-Regular-72\" x=\"274.999954\"/>\n      <use xlink:href=\"#Montserrat-Regular-74\" x=\"315.099945\"/>\n      <use xlink:href=\"#Montserrat-Regular-75\" x=\"355.699936\"/>\n      <use xlink:href=\"#Montserrat-Regular-72\" x=\"422.899933\"/>\n      <use xlink:href=\"#Montserrat-Regular-62\" x=\"462.999924\"/>\n      <use xlink:href=\"#Montserrat-Regular-65\" x=\"530.799911\"/>\n      <use xlink:href=\"#Montserrat-Regular-64\" x=\"591.199905\"/>\n     </g>\n    </g>\n   </g>\n  </g>\n </g>\n <defs>\n  <clipPath id=\"p636b71f2fe\">\n   <rect x=\"59.098125\" y=\"39.8\" width=\"334.8\" height=\"304.92\"/>\n  </clipPath>\n </defs>\n</svg>",
      "text/plain": [
       "<IPython.core.display.SVG object>"
      ]
     },
     "execution_count": 83,
     "metadata": {},
     "output_type": "execute_result"
    }
   ],
   "source": [
    "SVG(filename=\"./v_Cd_-1/v_Cd_-1.svg\")"
   ]
  },
  {
   "cell_type": "code",
   "execution_count": 84,
   "id": "3120b4c3",
   "metadata": {},
   "outputs": [
    {
     "data": {
      "image/svg+xml": "<svg xmlns:xlink=\"http://www.w3.org/1999/xlink\" xmlns=\"http://www.w3.org/2000/svg\" width=\"401.362266pt\" height=\"392.726484pt\" viewBox=\"0 0 401.362266 392.726484\" version=\"1.1\">\n <metadata>\n  <rdf:RDF xmlns:dc=\"http://purl.org/dc/elements/1.1/\" xmlns:cc=\"http://creativecommons.org/ns#\" xmlns:rdf=\"http://www.w3.org/1999/02/22-rdf-syntax-ns#\">\n   <cc:Work>\n    <dc:type rdf:resource=\"http://purl.org/dc/dcmitype/StillImage\"/>\n    <dc:date>2022-10-19T11:15:19.602107</dc:date>\n    <dc:format>image/svg+xml</dc:format>\n    <dc:creator>\n     <cc:Agent>\n      <dc:title>Matplotlib v3.6.1, https://matplotlib.org/</dc:title>\n     </cc:Agent>\n    </dc:creator>\n   </cc:Work>\n  </rdf:RDF>\n </metadata>\n <defs>\n  <style type=\"text/css\">*{stroke-linejoin: round; stroke-linecap: butt}</style>\n </defs>\n <g id=\"figure_1\">\n  <g id=\"patch_1\">\n   <path d=\"M 0 392.726484  L 401.362266 392.726484  L 401.362266 0  L 0 0  L 0 392.726484  z \" style=\"fill: none\"/>\n  </g>\n  <g id=\"axes_1\">\n   <g id=\"patch_2\">\n    <path d=\"M 59.362266 344.72  L 394.162266 344.72  L 394.162266 39.8  L 59.362266 39.8  L 59.362266 344.72  z \" style=\"fill: none\"/>\n   </g>\n   <g id=\"PathCollection_1\">\n    <defs>\n     <path id=\"m724f850e96\" d=\"M 0 3.535534  C 0.937635 3.535534 1.836992 3.163008 2.5 2.5  C 3.163008 1.836992 3.535534 0.937635 3.535534 0  C 3.535534 -0.937635 3.163008 -1.836992 2.5 -2.5  C 1.836992 -3.163008 0.937635 -3.535534 0 -3.535534  C -0.937635 -3.535534 -1.836992 -3.163008 -2.5 -2.5  C -3.163008 -1.836992 -3.535534 -0.937635 -3.535534 0  C -3.535534 0.937635 -3.163008 1.836992 -2.5 2.5  C -1.836992 3.163008 -0.937635 3.535534 0 3.535534  z \" style=\"stroke: #59a590\"/>\n    </defs>\n    <g clip-path=\"url(#pd1ba44511e)\">\n     <use xlink:href=\"#m724f850e96\" x=\"302.853175\" y=\"65.21\" style=\"fill: #59a590; stroke: #59a590\"/>\n    </g>\n   </g>\n   <g id=\"matplotlib.axis_1\">\n    <g id=\"xtick_1\">\n     <g id=\"line2d_1\">\n      <defs>\n       <path id=\"m774c7de85d\" d=\"M 0 0  L 0 -12  \" style=\"stroke: #000000; stroke-width: 0.2\"/>\n      </defs>\n      <g>\n       <use xlink:href=\"#m774c7de85d\" x=\"74.580447\" y=\"344.72\" style=\"stroke: #000000; stroke-width: 0.2\"/>\n      </g>\n     </g>\n     <g id=\"text_1\">\n      <!-- -0.6 -->\n      <g transform=\"translate(63.855799 359.253359) scale(0.115 -0.115)\">\n       <defs>\n        <path id=\"Montserrat-Regular-2d\" d=\"M 384 1536  L 384 1933  L 2061 1933  L 2061 1536  L 384 1536  z \" transform=\"scale(0.015625)\"/>\n        <path id=\"Montserrat-Regular-30\" d=\"M 2118 -38  Q 1600 -38 1197 234  Q 794 506 563 1014  Q 333 1523 333 2240  Q 333 2957 563 3465  Q 794 3974 1197 4246  Q 1600 4518 2118 4518  Q 2637 4518 3040 4246  Q 3443 3974 3676 3465  Q 3910 2957 3910 2240  Q 3910 1523 3676 1014  Q 3443 506 3040 234  Q 2637 -38 2118 -38  z M 2118 384  Q 2515 384 2809 598  Q 3104 813 3270 1225  Q 3437 1638 3437 2240  Q 3437 2842 3270 3254  Q 3104 3667 2809 3881  Q 2515 4096 2118 4096  Q 1734 4096 1433 3881  Q 1133 3667 966 3254  Q 800 2842 800 2240  Q 800 1638 966 1225  Q 1133 813 1433 598  Q 1734 384 2118 384  z \" transform=\"scale(0.015625)\"/>\n        <path id=\"Montserrat-Regular-2e\" d=\"M 678 -32  Q 538 -32 438 70  Q 339 173 339 320  Q 339 474 438 570  Q 538 666 678 666  Q 819 666 918 570  Q 1018 474 1018 320  Q 1018 173 918 70  Q 819 -32 678 -32  z \" transform=\"scale(0.015625)\"/>\n        <path id=\"Montserrat-Regular-36\" d=\"M 2170 -38  Q 1574 -38 1164 227  Q 755 493 544 995  Q 333 1498 333 2202  Q 333 2963 592 3478  Q 851 3994 1312 4256  Q 1773 4518 2381 4518  Q 2682 4518 2957 4460  Q 3232 4403 3443 4275  L 3258 3904  Q 3085 4019 2861 4067  Q 2637 4115 2387 4115  Q 1664 4115 1232 3654  Q 800 3194 800 2278  Q 800 2138 816 1930  Q 832 1722 890 1517  L 730 1638  Q 800 1971 1005 2204  Q 1210 2438 1517 2560  Q 1824 2682 2189 2682  Q 2637 2682 2976 2515  Q 3315 2349 3507 2048  Q 3699 1747 3699 1338  Q 3699 922 3500 611  Q 3302 301 2953 131  Q 2605 -38 2170 -38  z M 2150 352  Q 2470 352 2716 470  Q 2963 589 3104 809  Q 3245 1030 3245 1325  Q 3245 1766 2941 2028  Q 2637 2291 2118 2291  Q 1773 2291 1517 2163  Q 1261 2035 1113 1814  Q 966 1594 966 1312  Q 966 1069 1100 848  Q 1235 627 1500 489  Q 1766 352 2150 352  z \" transform=\"scale(0.015625)\"/>\n       </defs>\n       <use xlink:href=\"#Montserrat-Regular-2d\"/>\n       <use xlink:href=\"#Montserrat-Regular-30\" x=\"38.199997\"/>\n       <use xlink:href=\"#Montserrat-Regular-2e\" x=\"104.399994\"/>\n       <use xlink:href=\"#Montserrat-Regular-36\" x=\"125.599991\"/>\n      </g>\n     </g>\n    </g>\n    <g id=\"xtick_2\">\n     <g id=\"line2d_2\">\n      <g>\n       <use xlink:href=\"#m774c7de85d\" x=\"188.716811\" y=\"344.72\" style=\"stroke: #000000; stroke-width: 0.2\"/>\n      </g>\n     </g>\n     <g id=\"text_2\">\n      <!-- -0.3 -->\n      <g transform=\"translate(178.250913 359.253359) scale(0.115 -0.115)\">\n       <defs>\n        <path id=\"Montserrat-Regular-33\" d=\"M 1670 -38  Q 1184 -38 752 118  Q 320 275 58 538  L 282 902  Q 499 678 867 531  Q 1235 384 1670 384  Q 2227 384 2524 627  Q 2822 870 2822 1280  Q 2822 1690 2531 1933  Q 2240 2176 1613 2176  L 1293 2176  L 1293 2515  L 2675 4250  L 2739 4070  L 243 4070  L 243 4480  L 3123 4480  L 3123 4154  L 1741 2419  L 1517 2566  L 1690 2566  Q 2496 2566 2896 2208  Q 3296 1850 3296 1286  Q 3296 909 3117 608  Q 2938 307 2576 134  Q 2214 -38 1670 -38  z \" transform=\"scale(0.015625)\"/>\n       </defs>\n       <use xlink:href=\"#Montserrat-Regular-2d\"/>\n       <use xlink:href=\"#Montserrat-Regular-30\" x=\"38.199997\"/>\n       <use xlink:href=\"#Montserrat-Regular-2e\" x=\"104.399994\"/>\n       <use xlink:href=\"#Montserrat-Regular-33\" x=\"125.599991\"/>\n      </g>\n     </g>\n    </g>\n    <g id=\"xtick_3\">\n     <g id=\"line2d_3\">\n      <g>\n       <use xlink:href=\"#m774c7de85d\" x=\"302.853175\" y=\"344.72\" style=\"stroke: #000000; stroke-width: 0.2\"/>\n      </g>\n     </g>\n     <g id=\"text_3\">\n      <!-- 0.0 -->\n      <g transform=\"translate(294.020636 359.253359) scale(0.115 -0.115)\">\n       <use xlink:href=\"#Montserrat-Regular-30\"/>\n       <use xlink:href=\"#Montserrat-Regular-2e\" x=\"66.199997\"/>\n       <use xlink:href=\"#Montserrat-Regular-30\" x=\"87.399994\"/>\n      </g>\n     </g>\n    </g>\n    <g id=\"xtick_4\">\n     <g id=\"line2d_4\">\n      <defs>\n       <path id=\"mb7194f1986\" d=\"M 0 0  L 0 -5  \" style=\"stroke: #000000; stroke-width: 0.2\"/>\n      </defs>\n      <g>\n       <use xlink:href=\"#mb7194f1986\" x=\"112.625902\" y=\"344.72\" style=\"stroke: #000000; stroke-width: 0.2\"/>\n      </g>\n     </g>\n    </g>\n    <g id=\"xtick_5\">\n     <g id=\"line2d_5\">\n      <g>\n       <use xlink:href=\"#mb7194f1986\" x=\"150.671357\" y=\"344.72\" style=\"stroke: #000000; stroke-width: 0.2\"/>\n      </g>\n     </g>\n    </g>\n    <g id=\"xtick_6\">\n     <g id=\"line2d_6\">\n      <g>\n       <use xlink:href=\"#mb7194f1986\" x=\"226.762266\" y=\"344.72\" style=\"stroke: #000000; stroke-width: 0.2\"/>\n      </g>\n     </g>\n    </g>\n    <g id=\"xtick_7\">\n     <g id=\"line2d_7\">\n      <g>\n       <use xlink:href=\"#mb7194f1986\" x=\"264.80772\" y=\"344.72\" style=\"stroke: #000000; stroke-width: 0.2\"/>\n      </g>\n     </g>\n    </g>\n    <g id=\"xtick_8\">\n     <g id=\"line2d_8\">\n      <g>\n       <use xlink:href=\"#mb7194f1986\" x=\"340.898629\" y=\"344.72\" style=\"stroke: #000000; stroke-width: 0.2\"/>\n      </g>\n     </g>\n    </g>\n    <g id=\"xtick_9\">\n     <g id=\"line2d_9\">\n      <g>\n       <use xlink:href=\"#mb7194f1986\" x=\"378.944084\" y=\"344.72\" style=\"stroke: #000000; stroke-width: 0.2\"/>\n      </g>\n     </g>\n    </g>\n    <g id=\"text_4\">\n     <!-- Bond Distortion Factor -->\n     <g transform=\"translate(140.709141 382.615547) scale(0.15 -0.15)\">\n      <defs>\n       <path id=\"Montserrat-Regular-42\" d=\"M 730 0  L 730 4480  L 2662 4480  Q 3411 4480 3824 4179  Q 4237 3878 4237 3328  Q 4237 2963 4067 2713  Q 3898 2464 3606 2336  Q 3315 2208 2970 2208  L 3078 2362  Q 3507 2362 3817 2230  Q 4128 2099 4301 1840  Q 4474 1581 4474 1197  Q 4474 627 4054 313  Q 3635 0 2790 0  L 730 0  z M 1203 390  L 2784 390  Q 3373 390 3686 592  Q 4000 794 4000 1235  Q 4000 1670 3686 1872  Q 3373 2074 2784 2074  L 1152 2074  L 1152 2464  L 2630 2464  Q 3168 2464 3465 2669  Q 3763 2874 3763 3277  Q 3763 3686 3465 3888  Q 3168 4090 2630 4090  L 1203 4090  L 1203 390  z \" transform=\"scale(0.015625)\"/>\n       <path id=\"Montserrat-Regular-6f\" d=\"M 2003 -32  Q 1517 -32 1129 189  Q 742 410 518 797  Q 294 1184 294 1683  Q 294 2189 518 2573  Q 742 2957 1126 3174  Q 1510 3392 2003 3392  Q 2502 3392 2889 3174  Q 3277 2957 3497 2573  Q 3718 2189 3718 1683  Q 3718 1184 3497 797  Q 3277 410 2886 189  Q 2496 -32 2003 -32  z M 2003 371  Q 2368 371 2649 534  Q 2931 698 3094 995  Q 3258 1293 3258 1683  Q 3258 2080 3094 2374  Q 2931 2669 2649 2832  Q 2368 2995 2010 2995  Q 1651 2995 1369 2832  Q 1088 2669 921 2374  Q 755 2080 755 1683  Q 755 1293 921 995  Q 1088 698 1369 534  Q 1651 371 2003 371  z \" transform=\"scale(0.015625)\"/>\n       <path id=\"Montserrat-Regular-6e\" d=\"M 2349 3392  Q 2758 3392 3068 3235  Q 3379 3078 3555 2758  Q 3731 2438 3731 1952  L 3731 0  L 3277 0  L 3277 1907  Q 3277 2438 3011 2710  Q 2746 2982 2266 2982  Q 1907 2982 1641 2838  Q 1376 2694 1232 2422  Q 1088 2150 1088 1766  L 1088 0  L 634 0  L 634 3360  L 1069 3360  L 1069 2438  L 998 2611  Q 1158 2976 1510 3184  Q 1862 3392 2349 3392  z \" transform=\"scale(0.015625)\"/>\n       <path id=\"Montserrat-Regular-64\" d=\"M 1971 -32  Q 1491 -32 1110 185  Q 730 403 512 790  Q 294 1178 294 1683  Q 294 2195 512 2579  Q 730 2963 1110 3177  Q 1491 3392 1971 3392  Q 2413 3392 2761 3193  Q 3110 2995 3318 2614  Q 3526 2234 3526 1683  Q 3526 1139 3321 755  Q 3117 371 2768 169  Q 2419 -32 1971 -32  z M 2003 371  Q 2362 371 2646 534  Q 2931 698 3094 995  Q 3258 1293 3258 1683  Q 3258 2080 3094 2374  Q 2931 2669 2646 2832  Q 2362 2995 2003 2995  Q 1651 2995 1369 2832  Q 1088 2669 921 2374  Q 755 2080 755 1683  Q 755 1293 921 995  Q 1088 698 1369 534  Q 1651 371 2003 371  z M 3270 0  L 3270 1011  L 3315 1690  L 3251 2368  L 3251 4749  L 3706 4749  L 3706 0  L 3270 0  z \" transform=\"scale(0.015625)\"/>\n       <path id=\"Montserrat-Regular-20\" transform=\"scale(0.015625)\"/>\n       <path id=\"Montserrat-Regular-44\" d=\"M 730 0  L 730 4480  L 2554 4480  Q 3270 4480 3811 4195  Q 4352 3910 4653 3404  Q 4954 2899 4954 2240  Q 4954 1581 4653 1075  Q 4352 570 3811 285  Q 3270 0 2554 0  L 730 0  z M 1203 410  L 2528 410  Q 3123 410 3561 643  Q 4000 877 4243 1289  Q 4486 1702 4486 2240  Q 4486 2784 4243 3193  Q 4000 3603 3561 3836  Q 3123 4070 2528 4070  L 1203 4070  L 1203 410  z \" transform=\"scale(0.015625)\"/>\n       <path id=\"Montserrat-Regular-69\" d=\"M 634 0  L 634 3360  L 1088 3360  L 1088 0  L 634 0  z M 864 4102  Q 723 4102 627 4198  Q 531 4294 531 4429  Q 531 4563 627 4656  Q 723 4749 864 4749  Q 1005 4749 1101 4659  Q 1197 4570 1197 4435  Q 1197 4294 1104 4198  Q 1011 4102 864 4102  z \" transform=\"scale(0.015625)\"/>\n       <path id=\"Montserrat-Regular-73\" d=\"M 1536 -32  Q 1120 -32 749 86  Q 378 205 166 384  L 371 742  Q 576 589 896 477  Q 1216 365 1568 365  Q 2048 365 2259 515  Q 2470 666 2470 915  Q 2470 1101 2352 1206  Q 2234 1312 2042 1366  Q 1850 1421 1613 1459  Q 1376 1498 1142 1549  Q 909 1600 717 1699  Q 525 1798 406 1971  Q 288 2144 288 2432  Q 288 2707 441 2924  Q 595 3142 892 3267  Q 1190 3392 1619 3392  Q 1946 3392 2272 3305  Q 2598 3219 2810 3078  L 2611 2714  Q 2387 2867 2131 2934  Q 1875 3002 1619 3002  Q 1165 3002 950 2845  Q 736 2688 736 2445  Q 736 2253 854 2144  Q 973 2035 1168 1974  Q 1363 1914 1596 1875  Q 1830 1837 2064 1782  Q 2298 1728 2493 1635  Q 2688 1542 2806 1372  Q 2925 1203 2925 928  Q 2925 634 2761 419  Q 2598 205 2288 86  Q 1978 -32 1536 -32  z \" transform=\"scale(0.015625)\"/>\n       <path id=\"Montserrat-Regular-74\" d=\"M 1696 -32  Q 1222 -32 966 224  Q 710 480 710 947  L 710 4102  L 1165 4102  L 1165 973  Q 1165 678 1315 518  Q 1466 358 1747 358  Q 2048 358 2246 531  L 2406 205  Q 2272 83 2083 25  Q 1894 -32 1696 -32  z M 109 2982  L 109 3360  L 2189 3360  L 2189 2982  L 109 2982  z \" transform=\"scale(0.015625)\"/>\n       <path id=\"Montserrat-Regular-72\" d=\"M 634 0  L 634 3360  L 1069 3360  L 1069 2445  L 1024 2605  Q 1165 2989 1497 3190  Q 1830 3392 2323 3392  L 2323 2950  Q 2298 2950 2272 2953  Q 2246 2957 2221 2957  Q 1690 2957 1389 2633  Q 1088 2310 1088 1715  L 1088 0  L 634 0  z \" transform=\"scale(0.015625)\"/>\n       <path id=\"Montserrat-Regular-46\" d=\"M 1152 2310  L 3520 2310  L 3520 1901  L 1152 1901  L 1152 2310  z M 1203 0  L 730 0  L 730 4480  L 3802 4480  L 3802 4070  L 1203 4070  L 1203 0  z \" transform=\"scale(0.015625)\"/>\n       <path id=\"Montserrat-Regular-61\" d=\"M 2739 0  L 2739 742  L 2720 864  L 2720 2106  Q 2720 2534 2480 2764  Q 2240 2995 1766 2995  Q 1440 2995 1145 2886  Q 851 2778 646 2598  L 442 2938  Q 698 3155 1056 3273  Q 1414 3392 1811 3392  Q 2464 3392 2819 3069  Q 3174 2746 3174 2086  L 3174 0  L 2739 0  z M 1581 -32  Q 1203 -32 924 93  Q 646 218 499 438  Q 352 659 352 947  Q 352 1210 477 1424  Q 602 1638 886 1769  Q 1171 1901 1651 1901  L 2810 1901  L 2810 1562  L 1664 1562  Q 1178 1562 989 1389  Q 800 1216 800 960  Q 800 672 1024 499  Q 1248 326 1651 326  Q 2035 326 2313 502  Q 2592 678 2720 1011  L 2822 698  Q 2694 365 2377 166  Q 2061 -32 1581 -32  z \" transform=\"scale(0.015625)\"/>\n       <path id=\"Montserrat-Regular-63\" d=\"M 2029 -32  Q 1530 -32 1136 189  Q 742 410 518 797  Q 294 1184 294 1683  Q 294 2189 518 2573  Q 742 2957 1136 3174  Q 1530 3392 2029 3392  Q 2458 3392 2803 3225  Q 3149 3059 3347 2726  L 3008 2496  Q 2835 2752 2579 2873  Q 2323 2995 2022 2995  Q 1664 2995 1376 2832  Q 1088 2669 921 2374  Q 755 2080 755 1683  Q 755 1286 921 992  Q 1088 698 1376 534  Q 1664 371 2022 371  Q 2323 371 2579 492  Q 2835 614 3008 864  L 3347 634  Q 3149 307 2803 137  Q 2458 -32 2029 -32  z \" transform=\"scale(0.015625)\"/>\n      </defs>\n      <use xlink:href=\"#Montserrat-Regular-42\"/>\n      <use xlink:href=\"#Montserrat-Regular-6f\" x=\"75.399994\"/>\n      <use xlink:href=\"#Montserrat-Regular-6e\" x=\"138.099991\"/>\n      <use xlink:href=\"#Montserrat-Regular-64\" x=\"205.699982\"/>\n      <use xlink:href=\"#Montserrat-Regular-20\" x=\"273.499969\"/>\n      <use xlink:href=\"#Montserrat-Regular-44\" x=\"299.699966\"/>\n      <use xlink:href=\"#Montserrat-Regular-69\" x=\"382.299957\"/>\n      <use xlink:href=\"#Montserrat-Regular-73\" x=\"409.199951\"/>\n      <use xlink:href=\"#Montserrat-Regular-74\" x=\"457.999939\"/>\n      <use xlink:href=\"#Montserrat-Regular-6f\" x=\"498.59993\"/>\n      <use xlink:href=\"#Montserrat-Regular-72\" x=\"561.299927\"/>\n      <use xlink:href=\"#Montserrat-Regular-74\" x=\"601.399918\"/>\n      <use xlink:href=\"#Montserrat-Regular-69\" x=\"641.999908\"/>\n      <use xlink:href=\"#Montserrat-Regular-6f\" x=\"668.899902\"/>\n      <use xlink:href=\"#Montserrat-Regular-6e\" x=\"731.599899\"/>\n      <use xlink:href=\"#Montserrat-Regular-20\" x=\"799.19989\"/>\n      <use xlink:href=\"#Montserrat-Regular-46\" x=\"825.399887\"/>\n      <use xlink:href=\"#Montserrat-Regular-61\" x=\"888.699875\"/>\n      <use xlink:href=\"#Montserrat-Regular-63\" x=\"947.69986\"/>\n      <use xlink:href=\"#Montserrat-Regular-74\" x=\"1003.999847\"/>\n      <use xlink:href=\"#Montserrat-Regular-6f\" x=\"1044.599838\"/>\n      <use xlink:href=\"#Montserrat-Regular-72\" x=\"1107.299835\"/>\n     </g>\n    </g>\n   </g>\n   <g id=\"matplotlib.axis_2\">\n    <g id=\"ytick_1\">\n     <g id=\"line2d_10\">\n      <defs>\n       <path id=\"mbc1611b509\" d=\"M 0 0  L 12 0  \" style=\"stroke: #000000; stroke-width: 0.2\"/>\n      </defs>\n      <g>\n       <use xlink:href=\"#mbc1611b509\" x=\"59.362266\" y=\"332.613665\" style=\"stroke: #000000; stroke-width: 0.2\"/>\n      </g>\n     </g>\n     <g id=\"text_5\">\n      <!-- -2.0 -->\n      <g transform=\"translate(32.385547 336.880345) scale(0.115 -0.115)\">\n       <defs>\n        <path id=\"Montserrat-Regular-32\" d=\"M 250 0  L 250 326  L 2112 2150  Q 2368 2400 2496 2589  Q 2624 2778 2669 2944  Q 2714 3110 2714 3258  Q 2714 3648 2448 3872  Q 2182 4096 1664 4096  Q 1267 4096 963 3974  Q 659 3853 442 3597  L 115 3878  Q 378 4186 787 4352  Q 1197 4518 1702 4518  Q 2157 4518 2489 4374  Q 2822 4230 3004 3955  Q 3187 3680 3187 3309  Q 3187 3091 3126 2880  Q 3066 2669 2909 2435  Q 2752 2202 2451 1907  L 742 230  L 614 410  L 3392 410  L 3392 0  L 250 0  z \" transform=\"scale(0.015625)\"/>\n       </defs>\n       <use xlink:href=\"#Montserrat-Regular-2d\"/>\n       <use xlink:href=\"#Montserrat-Regular-32\" x=\"38.199997\"/>\n       <use xlink:href=\"#Montserrat-Regular-2e\" x=\"94.999985\"/>\n       <use xlink:href=\"#Montserrat-Regular-30\" x=\"116.199982\"/>\n      </g>\n     </g>\n    </g>\n    <g id=\"ytick_2\">\n     <g id=\"line2d_11\">\n      <g>\n       <use xlink:href=\"#mbc1611b509\" x=\"59.362266\" y=\"279.399005\" style=\"stroke: #000000; stroke-width: 0.2\"/>\n      </g>\n     </g>\n     <g id=\"text_6\">\n      <!-- -1.6 -->\n      <g transform=\"translate(35.375547 283.665685) scale(0.115 -0.115)\">\n       <defs>\n        <path id=\"Montserrat-Regular-31\" d=\"M 1114 0  L 1114 4288  L 1318 4070  L 58 4070  L 58 4480  L 1574 4480  L 1574 0  L 1114 0  z \" transform=\"scale(0.015625)\"/>\n       </defs>\n       <use xlink:href=\"#Montserrat-Regular-2d\"/>\n       <use xlink:href=\"#Montserrat-Regular-31\" x=\"38.199997\"/>\n       <use xlink:href=\"#Montserrat-Regular-2e\" x=\"74.299988\"/>\n       <use xlink:href=\"#Montserrat-Regular-36\" x=\"95.499985\"/>\n      </g>\n     </g>\n    </g>\n    <g id=\"ytick_3\">\n     <g id=\"line2d_12\">\n      <g>\n       <use xlink:href=\"#mbc1611b509\" x=\"59.362266\" y=\"226.184346\" style=\"stroke: #000000; stroke-width: 0.2\"/>\n      </g>\n     </g>\n     <g id=\"text_7\">\n      <!-- -1.2 -->\n      <g transform=\"translate(35.848125 230.451025) scale(0.115 -0.115)\">\n       <use xlink:href=\"#Montserrat-Regular-2d\"/>\n       <use xlink:href=\"#Montserrat-Regular-31\" x=\"38.199997\"/>\n       <use xlink:href=\"#Montserrat-Regular-2e\" x=\"74.299988\"/>\n       <use xlink:href=\"#Montserrat-Regular-32\" x=\"95.499985\"/>\n      </g>\n     </g>\n    </g>\n    <g id=\"ytick_4\">\n     <g id=\"line2d_13\">\n      <g>\n       <use xlink:href=\"#mbc1611b509\" x=\"59.362266\" y=\"172.969686\" style=\"stroke: #000000; stroke-width: 0.2\"/>\n      </g>\n     </g>\n     <g id=\"text_8\">\n      <!-- -0.8 -->\n      <g transform=\"translate(31.580547 177.236366) scale(0.115 -0.115)\">\n       <defs>\n        <path id=\"Montserrat-Regular-38\" d=\"M 2035 -38  Q 1498 -38 1110 115  Q 723 269 515 560  Q 307 851 307 1248  Q 307 1632 508 1904  Q 710 2176 1097 2323  Q 1485 2470 2035 2470  Q 2579 2470 2969 2323  Q 3360 2176 3568 1904  Q 3776 1632 3776 1248  Q 3776 851 3565 560  Q 3354 269 2963 115  Q 2573 -38 2035 -38  z M 2035 352  Q 2630 352 2966 595  Q 3302 838 3302 1254  Q 3302 1670 2966 1910  Q 2630 2150 2035 2150  Q 1440 2150 1107 1910  Q 774 1670 774 1254  Q 774 838 1107 595  Q 1440 352 2035 352  z M 2035 2208  Q 1536 2208 1187 2342  Q 838 2477 652 2729  Q 467 2982 467 3334  Q 467 3706 662 3971  Q 858 4237 1210 4377  Q 1562 4518 2035 4518  Q 2509 4518 2864 4377  Q 3219 4237 3417 3971  Q 3616 3706 3616 3334  Q 3616 2982 3430 2729  Q 3245 2477 2889 2342  Q 2534 2208 2035 2208  z M 2035 2515  Q 2560 2515 2854 2732  Q 3149 2950 3149 3315  Q 3149 3699 2845 3913  Q 2541 4128 2035 4128  Q 1530 4128 1229 3913  Q 928 3699 928 3322  Q 928 2950 1219 2732  Q 1510 2515 2035 2515  z \" transform=\"scale(0.015625)\"/>\n       </defs>\n       <use xlink:href=\"#Montserrat-Regular-2d\"/>\n       <use xlink:href=\"#Montserrat-Regular-30\" x=\"38.199997\"/>\n       <use xlink:href=\"#Montserrat-Regular-2e\" x=\"104.399994\"/>\n       <use xlink:href=\"#Montserrat-Regular-38\" x=\"125.599991\"/>\n      </g>\n     </g>\n    </g>\n    <g id=\"ytick_5\">\n     <g id=\"line2d_14\">\n      <g>\n       <use xlink:href=\"#mbc1611b509\" x=\"59.362266\" y=\"119.755026\" style=\"stroke: #000000; stroke-width: 0.2\"/>\n      </g>\n     </g>\n     <g id=\"text_9\">\n      <!-- -0.4 -->\n      <g transform=\"translate(31.316406 124.021706) scale(0.115 -0.115)\">\n       <defs>\n        <path id=\"Montserrat-Regular-34\" d=\"M 256 1178  L 256 1510  L 2630 4480  L 3142 4480  L 787 1510  L 538 1587  L 4141 1587  L 4141 1178  L 256 1178  z M 2784 0  L 2784 1178  L 2797 1587  L 2797 2624  L 3245 2624  L 3245 0  L 2784 0  z \" transform=\"scale(0.015625)\"/>\n       </defs>\n       <use xlink:href=\"#Montserrat-Regular-2d\"/>\n       <use xlink:href=\"#Montserrat-Regular-30\" x=\"38.199997\"/>\n       <use xlink:href=\"#Montserrat-Regular-2e\" x=\"104.399994\"/>\n       <use xlink:href=\"#Montserrat-Regular-34\" x=\"125.599991\"/>\n      </g>\n     </g>\n    </g>\n    <g id=\"ytick_6\">\n     <g id=\"line2d_15\">\n      <g>\n       <use xlink:href=\"#mbc1611b509\" x=\"59.362266\" y=\"66.540366\" style=\"stroke: #000000; stroke-width: 0.2\"/>\n      </g>\n     </g>\n     <g id=\"text_10\">\n      <!-- 0.0 -->\n      <g transform=\"translate(35.697188 70.807046) scale(0.115 -0.115)\">\n       <use xlink:href=\"#Montserrat-Regular-30\"/>\n       <use xlink:href=\"#Montserrat-Regular-2e\" x=\"66.199997\"/>\n       <use xlink:href=\"#Montserrat-Regular-30\" x=\"87.399994\"/>\n      </g>\n     </g>\n    </g>\n    <g id=\"text_11\">\n     <!-- Energy (eV) -->\n     <g transform=\"translate(18.330469 235.754141) rotate(-90) scale(0.15 -0.15)\">\n      <defs>\n       <path id=\"Montserrat-Regular-45\" d=\"M 1152 2477  L 3520 2477  L 3520 2074  L 1152 2074  L 1152 2477  z M 1203 410  L 3898 410  L 3898 0  L 730 0  L 730 4480  L 3802 4480  L 3802 4070  L 1203 4070  L 1203 410  z \" transform=\"scale(0.015625)\"/>\n       <path id=\"Montserrat-Regular-65\" d=\"M 2061 -32  Q 1536 -32 1139 189  Q 742 410 518 797  Q 294 1184 294 1683  Q 294 2182 508 2566  Q 723 2950 1097 3171  Q 1472 3392 1939 3392  Q 2413 3392 2781 3177  Q 3149 2963 3360 2576  Q 3571 2189 3571 1683  Q 3571 1651 3568 1616  Q 3565 1581 3565 1542  L 640 1542  L 640 1882  L 3322 1882  L 3142 1747  Q 3142 2112 2985 2397  Q 2829 2682 2560 2842  Q 2291 3002 1939 3002  Q 1594 3002 1318 2842  Q 1043 2682 889 2394  Q 736 2106 736 1734  L 736 1664  Q 736 1280 905 989  Q 1075 698 1379 534  Q 1683 371 2074 371  Q 2381 371 2646 480  Q 2912 589 3104 813  L 3360 518  Q 3136 250 2800 109  Q 2464 -32 2061 -32  z \" transform=\"scale(0.015625)\"/>\n       <path id=\"Montserrat-Regular-67\" d=\"M 2067 -1274  Q 1606 -1274 1184 -1139  Q 762 -1005 499 -755  L 730 -410  Q 966 -621 1315 -745  Q 1664 -870 2054 -870  Q 2694 -870 2995 -572  Q 3296 -275 3296 352  L 3296 1190  L 3360 1766  L 3315 2342  L 3315 3360  L 3750 3360  L 3750 410  Q 3750 -461 3324 -867  Q 2899 -1274 2067 -1274  z M 1984 128  Q 1504 128 1120 336  Q 736 544 515 915  Q 294 1286 294 1766  Q 294 2246 515 2614  Q 736 2982 1120 3187  Q 1504 3392 1984 3392  Q 2432 3392 2790 3206  Q 3149 3021 3360 2656  Q 3571 2291 3571 1766  Q 3571 1242 3360 877  Q 3149 512 2790 320  Q 2432 128 1984 128  z M 2029 531  Q 2400 531 2688 688  Q 2976 845 3142 1123  Q 3309 1402 3309 1766  Q 3309 2131 3142 2406  Q 2976 2682 2688 2838  Q 2400 2995 2029 2995  Q 1664 2995 1373 2838  Q 1082 2682 918 2406  Q 755 2131 755 1766  Q 755 1402 918 1123  Q 1082 845 1373 688  Q 1664 531 2029 531  z \" transform=\"scale(0.015625)\"/>\n       <path id=\"Montserrat-Regular-79\" d=\"M 659 -1274  Q 422 -1274 208 -1197  Q -6 -1120 -160 -966  L 51 -627  Q 179 -749 329 -816  Q 480 -883 666 -883  Q 890 -883 1053 -758  Q 1216 -634 1363 -320  L 1581 173  L 1632 243  L 3014 3360  L 3462 3360  L 1779 -403  Q 1638 -730 1468 -922  Q 1299 -1114 1100 -1194  Q 902 -1274 659 -1274  z M 1555 -96  L 6 3360  L 480 3360  L 1850 275  L 1555 -96  z \" transform=\"scale(0.015625)\"/>\n       <path id=\"Montserrat-Regular-28\" d=\"M 1408 -1242  Q 1056 -659 861 105  Q 666 870 666 1754  Q 666 2637 861 3408  Q 1056 4179 1408 4749  L 1843 4749  Q 1466 4090 1290 3350  Q 1114 2611 1114 1754  Q 1114 896 1290 157  Q 1466 -582 1843 -1242  L 1408 -1242  z \" transform=\"scale(0.015625)\"/>\n       <path id=\"Montserrat-Regular-56\" d=\"M 2003 0  L 19 4480  L 531 4480  L 2387 262  L 2106 262  L 3974 4480  L 4454 4480  L 2470 0  L 2003 0  z \" transform=\"scale(0.015625)\"/>\n       <path id=\"Montserrat-Regular-29\" d=\"M 691 -1242  L 256 -1242  Q 640 -582 816 157  Q 992 896 992 1754  Q 992 2611 816 3350  Q 640 4090 256 4749  L 691 4749  Q 1056 4179 1248 3408  Q 1440 2637 1440 1754  Q 1440 870 1248 105  Q 1056 -659 691 -1242  z \" transform=\"scale(0.015625)\"/>\n      </defs>\n      <use xlink:href=\"#Montserrat-Regular-45\"/>\n      <use xlink:href=\"#Montserrat-Regular-6e\" x=\"66.899994\"/>\n      <use xlink:href=\"#Montserrat-Regular-65\" x=\"134.499985\"/>\n      <use xlink:href=\"#Montserrat-Regular-72\" x=\"194.899979\"/>\n      <use xlink:href=\"#Montserrat-Regular-67\" x=\"234.999969\"/>\n      <use xlink:href=\"#Montserrat-Regular-79\" x=\"303.499954\"/>\n      <use xlink:href=\"#Montserrat-Regular-20\" x=\"357.699951\"/>\n      <use xlink:href=\"#Montserrat-Regular-28\" x=\"383.899948\"/>\n      <use xlink:href=\"#Montserrat-Regular-65\" x=\"416.799942\"/>\n      <use xlink:href=\"#Montserrat-Regular-56\" x=\"477.199936\"/>\n      <use xlink:href=\"#Montserrat-Regular-29\" x=\"546.999924\"/>\n     </g>\n    </g>\n   </g>\n   <g id=\"line2d_16\">\n    <defs>\n     <path id=\"mba660154a9\" d=\"M -0 6.363961  L 3.818377 0  L 0 -6.363961  L -3.818377 -0  z \" style=\"stroke: #59a590; stroke-linejoin: miter\"/>\n    </defs>\n    <g clip-path=\"url(#pd1ba44511e)\">\n     <use xlink:href=\"#mba660154a9\" x=\"302.853175\" y=\"66.540366\" style=\"fill: #59a590; stroke: #59a590; stroke-linejoin: miter\"/>\n    </g>\n   </g>\n   <g id=\"patch_3\">\n    <path d=\"M 59.362266 344.72  L 59.362266 39.8  \" style=\"fill: none; stroke: #000000; stroke-width: 0.5; stroke-linejoin: miter; stroke-linecap: square\"/>\n   </g>\n   <g id=\"patch_4\">\n    <path d=\"M 394.162266 344.72  L 394.162266 39.8  \" style=\"fill: none; stroke: #000000; stroke-width: 0.5; stroke-linejoin: miter; stroke-linecap: square\"/>\n   </g>\n   <g id=\"patch_5\">\n    <path d=\"M 59.362266 344.72  L 394.162266 344.72  \" style=\"fill: none; stroke: #000000; stroke-width: 0.5; stroke-linejoin: miter; stroke-linecap: square\"/>\n   </g>\n   <g id=\"patch_6\">\n    <path d=\"M 59.362266 39.8  L 394.162266 39.8  \" style=\"fill: none; stroke: #000000; stroke-width: 0.5; stroke-linejoin: miter; stroke-linecap: square\"/>\n   </g>\n   <g id=\"text_12\">\n    <!-- $V_{Cd}^{-2}$ -->\n    <g transform=\"translate(209.562266 24.8) scale(0.2 -0.2)\">\n     <defs>\n      <path id=\"Montserrat-Regular-2212\" d=\"M 448 2048  L 448 2426  L 3232 2426  L 3232 2048  L 448 2048  z \" transform=\"scale(0.015625)\"/>\n      <path id=\"Montserrat-Regular-43\" d=\"M 2675 -38  Q 2170 -38 1741 131  Q 1312 301 998 608  Q 685 915 509 1331  Q 333 1747 333 2240  Q 333 2733 509 3149  Q 685 3565 1001 3872  Q 1318 4179 1747 4348  Q 2176 4518 2682 4518  Q 3168 4518 3597 4355  Q 4026 4192 4320 3866  L 4019 3565  Q 3744 3846 3411 3971  Q 3078 4096 2694 4096  Q 2291 4096 1945 3958  Q 1600 3821 1344 3568  Q 1088 3315 944 2979  Q 800 2643 800 2240  Q 800 1837 944 1501  Q 1088 1165 1344 912  Q 1600 659 1945 521  Q 2291 384 2694 384  Q 3078 384 3411 512  Q 3744 640 4019 922  L 4320 621  Q 4026 294 3597 128  Q 3168 -38 2675 -38  z \" transform=\"scale(0.015625)\"/>\n     </defs>\n     <use xlink:href=\"#Montserrat-Regular-56\" transform=\"translate(0 0.392188)\"/>\n     <use xlink:href=\"#Montserrat-Regular-2212\" transform=\"translate(70.718738 38.584375) scale(0.7)\"/>\n     <use xlink:href=\"#Montserrat-Regular-32\" transform=\"translate(110.968727 38.584375) scale(0.7)\"/>\n     <use xlink:href=\"#Montserrat-Regular-43\" transform=\"translate(70.718738 -25.857812) scale(0.7)\"/>\n     <use xlink:href=\"#Montserrat-Regular-64\" transform=\"translate(121.048734 -25.857812) scale(0.7)\"/>\n    </g>\n   </g>\n   <g id=\"PathCollection_2\">\n    <defs>\n     <path id=\"m3191e4de33\" d=\"M -3.535534 3.535534  L 3.535534 3.535534  L 3.535534 -3.535534  L -3.535534 -3.535534  z \" style=\"stroke: #000000\"/>\n    </defs>\n    <g clip-path=\"url(#pd1ba44511e)\">\n     <use xlink:href=\"#m3191e4de33\" x=\"74.580447\" y=\"226.184346\" style=\"fill: #59a590; stroke: #000000\"/>\n    </g>\n   </g>\n   <g id=\"PathCollection_3\">\n    <defs>\n     <path id=\"me658857420\" d=\"M -0 3.535534  L 3.535534 -3.535534  L -3.535534 -3.535534  z \" style=\"stroke: #000000\"/>\n    </defs>\n    <g clip-path=\"url(#pd1ba44511e)\">\n     <use xlink:href=\"#me658857420\" x=\"378.944084\" y=\"319.31\" style=\"fill: #59a590; stroke: #000000\"/>\n    </g>\n   </g>\n   <g id=\"legend_1\">\n    <g id=\"patch_7\">\n     <path d=\"M 68.462266 125.006875  L 233.091016 125.006875  Q 235.691016 125.006875 235.691016 122.406875  L 235.691016 48.9  Q 235.691016 46.3 233.091016 46.3  L 68.462266 46.3  Q 65.862266 46.3 65.862266 48.9  L 65.862266 122.406875  Q 65.862266 125.006875 68.462266 125.006875  z \" style=\"fill: #ffffff; opacity: 0.8; stroke: #cccccc; stroke-linejoin: miter\"/>\n    </g>\n    <g id=\"PathCollection_4\">\n     <g>\n      <use xlink:href=\"#m724f850e96\" x=\"78.862266\" y=\"57.733906\" style=\"fill: #59a590; stroke: #59a590\"/>\n     </g>\n    </g>\n    <g id=\"text_13\">\n     <!-- Rattled -->\n     <g transform=\"translate(97.062266 61.146406) scale(0.13 -0.13)\">\n      <defs>\n       <path id=\"Montserrat-Regular-52\" d=\"M 730 0  L 730 4480  L 2406 4480  Q 2976 4480 3385 4297  Q 3795 4115 4016 3772  Q 4237 3430 4237 2944  Q 4237 2470 4016 2128  Q 3795 1786 3385 1603  Q 2976 1421 2406 1421  L 992 1421  L 1203 1638  L 1203 0  L 730 0  z M 3789 0  L 2637 1626  L 3149 1626  L 4307 0  L 3789 0  z M 1203 1600  L 992 1824  L 2394 1824  Q 3066 1824 3414 2118  Q 3763 2413 3763 2944  Q 3763 3482 3414 3776  Q 3066 4070 2394 4070  L 992 4070  L 1203 4294  L 1203 1600  z \" transform=\"scale(0.015625)\"/>\n       <path id=\"Montserrat-Regular-6c\" d=\"M 634 0  L 634 4749  L 1088 4749  L 1088 0  L 634 0  z \" transform=\"scale(0.015625)\"/>\n      </defs>\n      <use xlink:href=\"#Montserrat-Regular-52\"/>\n      <use xlink:href=\"#Montserrat-Regular-61\" x=\"72.299988\"/>\n      <use xlink:href=\"#Montserrat-Regular-74\" x=\"131.299973\"/>\n      <use xlink:href=\"#Montserrat-Regular-74\" x=\"171.899963\"/>\n      <use xlink:href=\"#Montserrat-Regular-6c\" x=\"212.499954\"/>\n      <use xlink:href=\"#Montserrat-Regular-65\" x=\"239.399948\"/>\n      <use xlink:href=\"#Montserrat-Regular-64\" x=\"299.799942\"/>\n     </g>\n    </g>\n    <g id=\"PathCollection_5\">\n     <g>\n      <use xlink:href=\"#m3191e4de33\" x=\"78.862266\" y=\"76.403125\" style=\"fill: #59a590; stroke: #000000\"/>\n     </g>\n    </g>\n    <g id=\"text_14\">\n     <!-- From 0 charge state -->\n     <g transform=\"translate(97.062266 79.815625) scale(0.13 -0.13)\">\n      <defs>\n       <path id=\"Montserrat-Regular-6d\" d=\"M 4832 3392  Q 5242 3392 5546 3235  Q 5850 3078 6019 2758  Q 6189 2438 6189 1952  L 6189 0  L 5734 0  L 5734 1907  Q 5734 2438 5481 2710  Q 5229 2982 4768 2982  Q 4422 2982 4169 2838  Q 3917 2694 3779 2422  Q 3642 2150 3642 1766  L 3642 0  L 3187 0  L 3187 1907  Q 3187 2438 2931 2710  Q 2675 2982 2214 2982  Q 1875 2982 1619 2838  Q 1363 2694 1225 2422  Q 1088 2150 1088 1766  L 1088 0  L 634 0  L 634 3360  L 1069 3360  L 1069 2451  L 998 2611  Q 1152 2976 1494 3184  Q 1837 3392 2304 3392  Q 2797 3392 3142 3145  Q 3488 2899 3590 2406  L 3411 2477  Q 3558 2886 3932 3139  Q 4307 3392 4832 3392  z \" transform=\"scale(0.015625)\"/>\n       <path id=\"Montserrat-Regular-68\" d=\"M 2349 3392  Q 2758 3392 3068 3235  Q 3379 3078 3555 2758  Q 3731 2438 3731 1952  L 3731 0  L 3277 0  L 3277 1907  Q 3277 2438 3011 2710  Q 2746 2982 2266 2982  Q 1907 2982 1641 2838  Q 1376 2694 1232 2422  Q 1088 2150 1088 1766  L 1088 0  L 634 0  L 634 4749  L 1088 4749  L 1088 2438  L 998 2611  Q 1158 2976 1510 3184  Q 1862 3392 2349 3392  z \" transform=\"scale(0.015625)\"/>\n      </defs>\n      <use xlink:href=\"#Montserrat-Regular-46\"/>\n      <use xlink:href=\"#Montserrat-Regular-72\" x=\"63.299988\"/>\n      <use xlink:href=\"#Montserrat-Regular-6f\" x=\"103.399979\"/>\n      <use xlink:href=\"#Montserrat-Regular-6d\" x=\"166.099976\"/>\n      <use xlink:href=\"#Montserrat-Regular-20\" x=\"272.199966\"/>\n      <use xlink:href=\"#Montserrat-Regular-30\" x=\"298.399963\"/>\n      <use xlink:href=\"#Montserrat-Regular-20\" x=\"364.59996\"/>\n      <use xlink:href=\"#Montserrat-Regular-63\" x=\"390.799957\"/>\n      <use xlink:href=\"#Montserrat-Regular-68\" x=\"447.099945\"/>\n      <use xlink:href=\"#Montserrat-Regular-61\" x=\"514.699936\"/>\n      <use xlink:href=\"#Montserrat-Regular-72\" x=\"573.699921\"/>\n      <use xlink:href=\"#Montserrat-Regular-67\" x=\"613.799911\"/>\n      <use xlink:href=\"#Montserrat-Regular-65\" x=\"682.299896\"/>\n      <use xlink:href=\"#Montserrat-Regular-20\" x=\"742.69989\"/>\n      <use xlink:href=\"#Montserrat-Regular-73\" x=\"768.899887\"/>\n      <use xlink:href=\"#Montserrat-Regular-74\" x=\"817.699875\"/>\n      <use xlink:href=\"#Montserrat-Regular-61\" x=\"858.299866\"/>\n      <use xlink:href=\"#Montserrat-Regular-74\" x=\"917.29985\"/>\n      <use xlink:href=\"#Montserrat-Regular-65\" x=\"957.899841\"/>\n     </g>\n    </g>\n    <g id=\"PathCollection_6\">\n     <g>\n      <use xlink:href=\"#me658857420\" x=\"78.862266\" y=\"95.137344\" style=\"fill: #59a590; stroke: #000000\"/>\n     </g>\n    </g>\n    <g id=\"text_15\">\n     <!-- From -1 charge state -->\n     <g transform=\"translate(97.062266 98.549844) scale(0.13 -0.13)\">\n      <use xlink:href=\"#Montserrat-Regular-46\"/>\n      <use xlink:href=\"#Montserrat-Regular-72\" x=\"63.299988\"/>\n      <use xlink:href=\"#Montserrat-Regular-6f\" x=\"103.399979\"/>\n      <use xlink:href=\"#Montserrat-Regular-6d\" x=\"166.099976\"/>\n      <use xlink:href=\"#Montserrat-Regular-20\" x=\"272.199966\"/>\n      <use xlink:href=\"#Montserrat-Regular-2d\" x=\"298.399963\"/>\n      <use xlink:href=\"#Montserrat-Regular-31\" x=\"336.59996\"/>\n      <use xlink:href=\"#Montserrat-Regular-20\" x=\"372.699951\"/>\n      <use xlink:href=\"#Montserrat-Regular-63\" x=\"398.899948\"/>\n      <use xlink:href=\"#Montserrat-Regular-68\" x=\"455.199936\"/>\n      <use xlink:href=\"#Montserrat-Regular-61\" x=\"522.799927\"/>\n      <use xlink:href=\"#Montserrat-Regular-72\" x=\"581.799911\"/>\n      <use xlink:href=\"#Montserrat-Regular-67\" x=\"621.899902\"/>\n      <use xlink:href=\"#Montserrat-Regular-65\" x=\"690.399887\"/>\n      <use xlink:href=\"#Montserrat-Regular-20\" x=\"750.799881\"/>\n      <use xlink:href=\"#Montserrat-Regular-73\" x=\"776.999878\"/>\n      <use xlink:href=\"#Montserrat-Regular-74\" x=\"825.799866\"/>\n      <use xlink:href=\"#Montserrat-Regular-61\" x=\"866.399857\"/>\n      <use xlink:href=\"#Montserrat-Regular-74\" x=\"925.399841\"/>\n      <use xlink:href=\"#Montserrat-Regular-65\" x=\"965.999832\"/>\n     </g>\n    </g>\n    <g id=\"line2d_17\">\n     <g>\n      <use xlink:href=\"#mba660154a9\" x=\"78.862266\" y=\"112.734063\" style=\"fill: #59a590; stroke: #59a590; stroke-linejoin: miter\"/>\n     </g>\n    </g>\n    <g id=\"text_16\">\n     <!-- Unperturbed -->\n     <g transform=\"translate(97.062266 117.284063) scale(0.13 -0.13)\">\n      <defs>\n       <path id=\"Montserrat-Regular-55\" d=\"M 2534 -38  Q 1677 -38 1184 454  Q 691 947 691 1914  L 691 4480  L 1165 4480  L 1165 1933  Q 1165 1139 1523 761  Q 1882 384 2534 384  Q 3194 384 3552 761  Q 3910 1139 3910 1933  L 3910 4480  L 4371 4480  L 4371 1914  Q 4371 947 3881 454  Q 3392 -38 2534 -38  z \" transform=\"scale(0.015625)\"/>\n       <path id=\"Montserrat-Regular-70\" d=\"M 2368 -32  Q 1933 -32 1581 169  Q 1229 371 1021 752  Q 813 1133 813 1683  Q 813 2234 1017 2614  Q 1222 2995 1574 3193  Q 1926 3392 2368 3392  Q 2848 3392 3229 3177  Q 3610 2963 3827 2576  Q 4045 2189 4045 1683  Q 4045 1171 3827 787  Q 3610 403 3229 185  Q 2848 -32 2368 -32  z M 634 -1242  L 634 3360  L 1069 3360  L 1069 2349  L 1024 1677  L 1088 998  L 1088 -1242  L 634 -1242  z M 2336 371  Q 2694 371 2976 534  Q 3258 698 3424 995  Q 3590 1293 3590 1683  Q 3590 2074 3424 2368  Q 3258 2662 2976 2828  Q 2694 2995 2336 2995  Q 1978 2995 1693 2828  Q 1408 2662 1245 2368  Q 1082 2074 1082 1683  Q 1082 1293 1245 995  Q 1408 698 1693 534  Q 1978 371 2336 371  z \" transform=\"scale(0.015625)\"/>\n       <path id=\"Montserrat-Regular-75\" d=\"M 2022 -32  Q 1594 -32 1274 128  Q 954 288 778 608  Q 602 928 602 1408  L 602 3360  L 1056 3360  L 1056 1459  Q 1056 922 1321 650  Q 1587 378 2067 378  Q 2419 378 2678 522  Q 2938 666 3075 941  Q 3213 1216 3213 1600  L 3213 3360  L 3667 3360  L 3667 0  L 3232 0  L 3232 922  L 3302 755  Q 3142 384 2806 176  Q 2470 -32 2022 -32  z \" transform=\"scale(0.015625)\"/>\n       <path id=\"Montserrat-Regular-62\" d=\"M 2368 -32  Q 1926 -32 1574 169  Q 1222 371 1017 755  Q 813 1139 813 1683  Q 813 2234 1021 2614  Q 1229 2995 1581 3193  Q 1933 3392 2368 3392  Q 2848 3392 3229 3177  Q 3610 2963 3827 2579  Q 4045 2195 4045 1683  Q 4045 1178 3827 790  Q 3610 403 3229 185  Q 2848 -32 2368 -32  z M 634 0  L 634 4749  L 1088 4749  L 1088 2368  L 1024 1690  L 1069 1011  L 1069 0  L 634 0  z M 2336 371  Q 2694 371 2976 534  Q 3258 698 3424 995  Q 3590 1293 3590 1683  Q 3590 2080 3424 2374  Q 3258 2669 2976 2832  Q 2694 2995 2336 2995  Q 1978 2995 1693 2832  Q 1408 2669 1245 2374  Q 1082 2080 1082 1683  Q 1082 1293 1245 995  Q 1408 698 1693 534  Q 1978 371 2336 371  z \" transform=\"scale(0.015625)\"/>\n      </defs>\n      <use xlink:href=\"#Montserrat-Regular-55\"/>\n      <use xlink:href=\"#Montserrat-Regular-6e\" x=\"79.199982\"/>\n      <use xlink:href=\"#Montserrat-Regular-70\" x=\"146.799973\"/>\n      <use xlink:href=\"#Montserrat-Regular-65\" x=\"214.59996\"/>\n      <use xlink:href=\"#Montserrat-Regular-72\" x=\"274.999954\"/>\n      <use xlink:href=\"#Montserrat-Regular-74\" x=\"315.099945\"/>\n      <use xlink:href=\"#Montserrat-Regular-75\" x=\"355.699936\"/>\n      <use xlink:href=\"#Montserrat-Regular-72\" x=\"422.899933\"/>\n      <use xlink:href=\"#Montserrat-Regular-62\" x=\"462.999924\"/>\n      <use xlink:href=\"#Montserrat-Regular-65\" x=\"530.799911\"/>\n      <use xlink:href=\"#Montserrat-Regular-64\" x=\"591.199905\"/>\n     </g>\n    </g>\n   </g>\n  </g>\n </g>\n <defs>\n  <clipPath id=\"pd1ba44511e\">\n   <rect x=\"59.362266\" y=\"39.8\" width=\"334.8\" height=\"304.92\"/>\n  </clipPath>\n </defs>\n</svg>",
      "text/plain": [
       "<IPython.core.display.SVG object>"
      ]
     },
     "execution_count": 84,
     "metadata": {},
     "output_type": "execute_result"
    }
   ],
   "source": [
    "SVG(filename=\"./v_Cd_-2/v_Cd_-2.svg\")"
   ]
  },
  {
   "cell_type": "markdown",
   "id": "198c0f9a-b320-4c64-8951-b7f7362d9a3b",
   "metadata": {
    "pycharm": {
     "name": "#%% md\n"
    }
   },
   "source": [
    "In this example case, for $V_{Cd}^{0}$ the distorted structure originally found for the -1 charge state comes out lower energy than the $V_{Cd}^{0}$ unperturbed relaxation, but still higher energy than the previously identified ground-state at -0.3, -0.4 and -0.6 distortion factors. \n",
    "\n",
    "For $V_{Cd}^{-1}$, the distorted structure originally found for the neutral (0) charge state comes out lower energy than the previously identified ground-state at distortion factors >0.2.\n",
    "\n",
    "We now continue our defect calculations using the ground-state `CONTCAR`s we've obtained for each defect, with our fully-converged `INCAR` and `KPOINTS` settings, to get our final defect formation energies (confident that we've identified the ground-state defect structure!). The `energy_lowering_distortions.write_groundstate_structure()` function automatically writes these lowest-energy structures to our defect folders:"
   ]
  },
  {
   "cell_type": "code",
   "execution_count": 85,
   "id": "a75f2092-edb0-46fd-aa5d-8a50aaaea253",
   "metadata": {},
   "outputs": [
    {
     "name": "stderr",
     "output_type": "stream",
     "text": [
      "analysis.py:263: UserWarning: Path ./v_Ti_0/v_Ti_0.yaml does not exist\n",
      "energy_lowering_distortions.py:1216: UserWarning: Energies file ./v_Ti_0/v_Ti_0.yaml could not be parsed for v_Ti_0, skipping this defect species\n"
     ]
    }
   ],
   "source": [
    "energy_lowering_distortions.write_groundstate_structure()"
   ]
  },
  {
   "cell_type": "code",
   "execution_count": 86,
   "id": "d8112dc1-fe01-4ee4-afaf-fc06eba8eb58",
   "metadata": {},
   "outputs": [
    {
     "name": "stdout",
     "output_type": "stream",
     "text": [
      "-60.0%_Bond__vac_1_Cd[0. 0. 0.]_-dNELECT\n",
      "   1.0000000000000000     \n",
      "    13.0867679999999993    0.0000000000000000    0.0000000000000000\n",
      "     0.0000000000000000   13.0867679999999993    0.0000000000000000\n",
      "     0.0000000000000000    0.0000000000000000   13.0867679999999993\n",
      "   Cd   Te\n",
      "    31    32\n",
      "Direct\n",
      "  0.0014403846070577  0.0152341826280604  0.4960600473735149\n",
      "  0.0018443102488570  0.5161087673464303 -0.0040398656877614\n"
     ]
    }
   ],
   "source": [
    "!head v_Cd_0/groundstate_POSCAR  # groundstate structure from -60% distortion relaxation"
   ]
  },
  {
   "cell_type": "code",
   "execution_count": 87,
   "id": "5b424741-3831-4c65-81ae-b8a8b2eb20f2",
   "metadata": {},
   "outputs": [],
   "source": [
    "!diff v_Cd_0/groundstate_POSCAR v_Cd_0/Bond_Distortion_-60.0%/CONTCAR  # groundstate structure from -60% distortion relaxation"
   ]
  },
  {
   "cell_type": "markdown",
   "id": "e3cdd575-dd86-4008-bfd2-5716e1483624",
   "metadata": {
    "pycharm": {
     "name": "#%% md\n"
    }
   },
   "source": [
    "<a id='analyse'></a>"
   ]
  },
  {
   "cell_type": "markdown",
   "id": "9b7e359d-0db6-435b-8385-5ab1151a3f8e",
   "metadata": {
    "pycharm": {
     "name": "#%% md\n"
    }
   },
   "source": [
    "## 5. *Optional*: Analyse the defect distortions found with `SnB`"
   ]
  },
  {
   "cell_type": "markdown",
   "id": "1ae78fa6-2980-4b11-9511-7a2f96d78ee3",
   "metadata": {
    "pycharm": {
     "name": "#%% md\n"
    }
   },
   "source": [
    "If we want to analyse in more detail the defect distortions identified with our structure searching, we can use some of the functions from `shakenbreak.analysis`:"
   ]
  },
  {
   "cell_type": "code",
   "execution_count": 88,
   "id": "101f20c7-1544-4be5-b20d-a293c618a2d6",
   "metadata": {
    "pycharm": {
     "name": "#%%\n"
    }
   },
   "outputs": [],
   "source": [
    "from shakenbreak import analysis\n",
    "\n",
    "# Parse all structures obtained with distortions and unperturbed relaxation.   \n",
    "# This gives a dictionary matching initial distortion to final structure\n",
    "v_Cd_0 = analysis.get_structures(\"v_Cd_0\")"
   ]
  },
  {
   "cell_type": "code",
   "execution_count": 89,
   "id": "678a51a9-098a-4c5d-a5e8-8075775153c8",
   "metadata": {
    "pycharm": {
     "name": "#%%\n"
    }
   },
   "outputs": [
    {
     "name": "stdout",
     "output_type": "stream",
     "text": [
      "\u001b[1mv_Cd_0 structural analysis \u001b[0m\n",
      "Analysing site V [0. 0. 0.]\n",
      "Local order parameters (i.e. resemblance to given structural motif, via CrystalNN):\n"
     ]
    },
    {
     "data": {
      "text/html": [
       "<div>\n",
       "<style scoped>\n",
       "    .dataframe tbody tr th:only-of-type {\n",
       "        vertical-align: middle;\n",
       "    }\n",
       "\n",
       "    .dataframe tbody tr th {\n",
       "        vertical-align: top;\n",
       "    }\n",
       "\n",
       "    .dataframe thead th {\n",
       "        text-align: right;\n",
       "    }\n",
       "</style>\n",
       "<table border=\"1\" class=\"dataframe\">\n",
       "  <thead>\n",
       "    <tr style=\"text-align: right;\">\n",
       "      <th></th>\n",
       "      <th>Coordination</th>\n",
       "      <th>Factor</th>\n",
       "    </tr>\n",
       "  </thead>\n",
       "  <tbody>\n",
       "    <tr>\n",
       "      <th>0</th>\n",
       "      <td>square co-planar</td>\n",
       "      <td>0.09</td>\n",
       "    </tr>\n",
       "    <tr>\n",
       "      <th>1</th>\n",
       "      <td>tetrahedral</td>\n",
       "      <td>1.00</td>\n",
       "    </tr>\n",
       "    <tr>\n",
       "      <th>2</th>\n",
       "      <td>rectangular see-saw-like</td>\n",
       "      <td>0.01</td>\n",
       "    </tr>\n",
       "    <tr>\n",
       "      <th>3</th>\n",
       "      <td>see-saw-like</td>\n",
       "      <td>0.24</td>\n",
       "    </tr>\n",
       "    <tr>\n",
       "      <th>4</th>\n",
       "      <td>trigonal pyramidal</td>\n",
       "      <td>0.25</td>\n",
       "    </tr>\n",
       "  </tbody>\n",
       "</table>\n",
       "</div>"
      ],
      "text/plain": [
       "               Coordination  Factor\n",
       "0          square co-planar    0.09\n",
       "1               tetrahedral    1.00\n",
       "2  rectangular see-saw-like    0.01\n",
       "3              see-saw-like    0.24\n",
       "4        trigonal pyramidal    0.25"
      ]
     },
     "metadata": {},
     "output_type": "display_data"
    },
    {
     "name": "stdout",
     "output_type": "stream",
     "text": [
      "\n",
      "Bond-lengths (in Å) to nearest neighbours: \n"
     ]
    },
    {
     "data": {
      "text/html": [
       "<div>\n",
       "<style scoped>\n",
       "    .dataframe tbody tr th:only-of-type {\n",
       "        vertical-align: middle;\n",
       "    }\n",
       "\n",
       "    .dataframe tbody tr th {\n",
       "        vertical-align: top;\n",
       "    }\n",
       "\n",
       "    .dataframe thead th {\n",
       "        text-align: right;\n",
       "    }\n",
       "</style>\n",
       "<table border=\"1\" class=\"dataframe\">\n",
       "  <thead>\n",
       "    <tr style=\"text-align: right;\">\n",
       "      <th></th>\n",
       "      <th>Element</th>\n",
       "      <th>Distance (Å)</th>\n",
       "    </tr>\n",
       "  </thead>\n",
       "  <tbody>\n",
       "    <tr>\n",
       "      <th>0</th>\n",
       "      <td>Te</td>\n",
       "      <td>2.60</td>\n",
       "    </tr>\n",
       "    <tr>\n",
       "      <th>1</th>\n",
       "      <td>Te</td>\n",
       "      <td>2.63</td>\n",
       "    </tr>\n",
       "    <tr>\n",
       "      <th>2</th>\n",
       "      <td>Te</td>\n",
       "      <td>2.63</td>\n",
       "    </tr>\n",
       "    <tr>\n",
       "      <th>3</th>\n",
       "      <td>Te</td>\n",
       "      <td>2.65</td>\n",
       "    </tr>\n",
       "  </tbody>\n",
       "</table>\n",
       "</div>"
      ],
      "text/plain": [
       "  Element Distance (Å)\n",
       "0      Te         2.60\n",
       "1      Te         2.63\n",
       "2      Te         2.63\n",
       "3      Te         2.65"
      ]
     },
     "metadata": {},
     "output_type": "display_data"
    },
    {
     "name": "stdout",
     "output_type": "stream",
     "text": [
      "\n",
      "\u001b[1mv_Cd_0 structural analysis \u001b[0m\n",
      "Analysing site V [0. 0. 0.]\n",
      "Local order parameters (i.e. resemblance to given structural motif, via CrystalNN):\n"
     ]
    },
    {
     "data": {
      "text/html": [
       "<div>\n",
       "<style scoped>\n",
       "    .dataframe tbody tr th:only-of-type {\n",
       "        vertical-align: middle;\n",
       "    }\n",
       "\n",
       "    .dataframe tbody tr th {\n",
       "        vertical-align: top;\n",
       "    }\n",
       "\n",
       "    .dataframe thead th {\n",
       "        text-align: right;\n",
       "    }\n",
       "</style>\n",
       "<table border=\"1\" class=\"dataframe\">\n",
       "  <thead>\n",
       "    <tr style=\"text-align: right;\">\n",
       "      <th></th>\n",
       "      <th>Coordination</th>\n",
       "      <th>Factor</th>\n",
       "    </tr>\n",
       "  </thead>\n",
       "  <tbody>\n",
       "    <tr>\n",
       "      <th>0</th>\n",
       "      <td>square co-planar</td>\n",
       "      <td>0.13</td>\n",
       "    </tr>\n",
       "    <tr>\n",
       "      <th>1</th>\n",
       "      <td>tetrahedral</td>\n",
       "      <td>0.74</td>\n",
       "    </tr>\n",
       "    <tr>\n",
       "      <th>2</th>\n",
       "      <td>rectangular see-saw-like</td>\n",
       "      <td>0.03</td>\n",
       "    </tr>\n",
       "    <tr>\n",
       "      <th>3</th>\n",
       "      <td>see-saw-like</td>\n",
       "      <td>0.21</td>\n",
       "    </tr>\n",
       "    <tr>\n",
       "      <th>4</th>\n",
       "      <td>trigonal pyramidal</td>\n",
       "      <td>0.21</td>\n",
       "    </tr>\n",
       "  </tbody>\n",
       "</table>\n",
       "</div>"
      ],
      "text/plain": [
       "               Coordination  Factor\n",
       "0          square co-planar    0.13\n",
       "1               tetrahedral    0.74\n",
       "2  rectangular see-saw-like    0.03\n",
       "3              see-saw-like    0.21\n",
       "4        trigonal pyramidal    0.21"
      ]
     },
     "metadata": {},
     "output_type": "display_data"
    },
    {
     "name": "stdout",
     "output_type": "stream",
     "text": [
      "\n",
      "Bond-lengths (in Å) to nearest neighbours: \n"
     ]
    },
    {
     "data": {
      "text/html": [
       "<div>\n",
       "<style scoped>\n",
       "    .dataframe tbody tr th:only-of-type {\n",
       "        vertical-align: middle;\n",
       "    }\n",
       "\n",
       "    .dataframe tbody tr th {\n",
       "        vertical-align: top;\n",
       "    }\n",
       "\n",
       "    .dataframe thead th {\n",
       "        text-align: right;\n",
       "    }\n",
       "</style>\n",
       "<table border=\"1\" class=\"dataframe\">\n",
       "  <thead>\n",
       "    <tr style=\"text-align: right;\">\n",
       "      <th></th>\n",
       "      <th>Element</th>\n",
       "      <th>Distance (Å)</th>\n",
       "    </tr>\n",
       "  </thead>\n",
       "  <tbody>\n",
       "    <tr>\n",
       "      <th>0</th>\n",
       "      <td>Te</td>\n",
       "      <td>2.19</td>\n",
       "    </tr>\n",
       "    <tr>\n",
       "      <th>1</th>\n",
       "      <td>Te</td>\n",
       "      <td>2.63</td>\n",
       "    </tr>\n",
       "    <tr>\n",
       "      <th>2</th>\n",
       "      <td>Te</td>\n",
       "      <td>2.64</td>\n",
       "    </tr>\n",
       "    <tr>\n",
       "      <th>3</th>\n",
       "      <td>Te</td>\n",
       "      <td>2.30</td>\n",
       "    </tr>\n",
       "  </tbody>\n",
       "</table>\n",
       "</div>"
      ],
      "text/plain": [
       "  Element Distance (Å)\n",
       "0      Te         2.19\n",
       "1      Te         2.63\n",
       "2      Te         2.64\n",
       "3      Te         2.30"
      ]
     },
     "metadata": {},
     "output_type": "display_data"
    },
    {
     "name": "stdout",
     "output_type": "stream",
     "text": [
      "\n"
     ]
    }
   ],
   "source": [
    "# Can then analyse a chosen final structure with:\n",
    "df = analysis.analyse_structure(\"v_Cd_0\", v_Cd_0[\"Unperturbed\"])\n",
    "df = analysis.analyse_structure(\"v_Cd_0\", v_Cd_0[-0.4])"
   ]
  },
  {
   "cell_type": "markdown",
   "id": "9bc134e4-a90f-4f9b-a804-71796c20970b",
   "metadata": {
    "pycharm": {
     "name": "#%% md\n"
    }
   },
   "source": [
    "We can also compare the structural similarity between all structures with `compare_structures()`. It prints the summed root mean squared displacement,\n",
    "maximum distance between paired sites, and energy (relative to unperturbed structure) of all final structures:"
   ]
  },
  {
   "cell_type": "code",
   "execution_count": 90,
   "id": "277e8e9f-ea58-404a-9559-7f9666e9efee",
   "metadata": {
    "pycharm": {
     "name": "#%%\n"
    }
   },
   "outputs": [
    {
     "name": "stdout",
     "output_type": "stream",
     "text": [
      "v_Cd_0: Energy difference between minimum, found with -0.6 bond distortion, and unperturbed: -0.76 eV.\n",
      "Comparing structures to Unperturbed...\n"
     ]
    },
    {
     "data": {
      "text/html": [
       "<div>\n",
       "<style scoped>\n",
       "    .dataframe tbody tr th:only-of-type {\n",
       "        vertical-align: middle;\n",
       "    }\n",
       "\n",
       "    .dataframe tbody tr th {\n",
       "        vertical-align: top;\n",
       "    }\n",
       "\n",
       "    .dataframe thead th {\n",
       "        text-align: right;\n",
       "    }\n",
       "</style>\n",
       "<table border=\"1\" class=\"dataframe\">\n",
       "  <thead>\n",
       "    <tr style=\"text-align: right;\">\n",
       "      <th></th>\n",
       "      <th>Bond Distortion</th>\n",
       "      <th>Σ{Displacements} (Å)</th>\n",
       "      <th>Max Distance (Å)</th>\n",
       "      <th>Δ Energy (eV)</th>\n",
       "    </tr>\n",
       "  </thead>\n",
       "  <tbody>\n",
       "    <tr>\n",
       "      <th>0</th>\n",
       "      <td>-0.6</td>\n",
       "      <td>5.873</td>\n",
       "      <td>0.810</td>\n",
       "      <td>-0.76</td>\n",
       "    </tr>\n",
       "    <tr>\n",
       "      <th>1</th>\n",
       "      <td>-0.5</td>\n",
       "      <td>0.000</td>\n",
       "      <td>0.024</td>\n",
       "      <td>-0.01</td>\n",
       "    </tr>\n",
       "    <tr>\n",
       "      <th>2</th>\n",
       "      <td>-0.4</td>\n",
       "      <td>5.760</td>\n",
       "      <td>0.808</td>\n",
       "      <td>-0.75</td>\n",
       "    </tr>\n",
       "    <tr>\n",
       "      <th>3</th>\n",
       "      <td>-0.3</td>\n",
       "      <td>5.872</td>\n",
       "      <td>0.808</td>\n",
       "      <td>-0.75</td>\n",
       "    </tr>\n",
       "    <tr>\n",
       "      <th>4</th>\n",
       "      <td>-0.2</td>\n",
       "      <td>0.000</td>\n",
       "      <td>0.025</td>\n",
       "      <td>0.00</td>\n",
       "    </tr>\n",
       "    <tr>\n",
       "      <th>5</th>\n",
       "      <td>-0.1</td>\n",
       "      <td>0.000</td>\n",
       "      <td>0.028</td>\n",
       "      <td>0.00</td>\n",
       "    </tr>\n",
       "    <tr>\n",
       "      <th>6</th>\n",
       "      <td>0.0</td>\n",
       "      <td>0.000</td>\n",
       "      <td>0.030</td>\n",
       "      <td>0.00</td>\n",
       "    </tr>\n",
       "    <tr>\n",
       "      <th>7</th>\n",
       "      <td>0.1</td>\n",
       "      <td>2.285</td>\n",
       "      <td>0.237</td>\n",
       "      <td>0.00</td>\n",
       "    </tr>\n",
       "    <tr>\n",
       "      <th>8</th>\n",
       "      <td>0.2</td>\n",
       "      <td>2.285</td>\n",
       "      <td>0.237</td>\n",
       "      <td>0.00</td>\n",
       "    </tr>\n",
       "    <tr>\n",
       "      <th>9</th>\n",
       "      <td>0.3</td>\n",
       "      <td>2.285</td>\n",
       "      <td>0.237</td>\n",
       "      <td>0.00</td>\n",
       "    </tr>\n",
       "    <tr>\n",
       "      <th>10</th>\n",
       "      <td>0.4</td>\n",
       "      <td>2.285</td>\n",
       "      <td>0.237</td>\n",
       "      <td>0.00</td>\n",
       "    </tr>\n",
       "    <tr>\n",
       "      <th>11</th>\n",
       "      <td>0.5</td>\n",
       "      <td>2.285</td>\n",
       "      <td>0.237</td>\n",
       "      <td>0.00</td>\n",
       "    </tr>\n",
       "    <tr>\n",
       "      <th>12</th>\n",
       "      <td>0.6</td>\n",
       "      <td>2.285</td>\n",
       "      <td>0.237</td>\n",
       "      <td>0.00</td>\n",
       "    </tr>\n",
       "    <tr>\n",
       "      <th>13</th>\n",
       "      <td>20.0%_from_-1</td>\n",
       "      <td>2.285</td>\n",
       "      <td>0.237</td>\n",
       "      <td>-0.28</td>\n",
       "    </tr>\n",
       "    <tr>\n",
       "      <th>14</th>\n",
       "      <td>Unperturbed</td>\n",
       "      <td>0.000</td>\n",
       "      <td>0.000</td>\n",
       "      <td>0.00</td>\n",
       "    </tr>\n",
       "  </tbody>\n",
       "</table>\n",
       "</div>"
      ],
      "text/plain": [
       "   Bond Distortion  Σ{Displacements} (Å)  Max Distance (Å)  Δ Energy (eV)\n",
       "0             -0.6                 5.873             0.810          -0.76\n",
       "1             -0.5                 0.000             0.024          -0.01\n",
       "2             -0.4                 5.760             0.808          -0.75\n",
       "3             -0.3                 5.872             0.808          -0.75\n",
       "4             -0.2                 0.000             0.025           0.00\n",
       "5             -0.1                 0.000             0.028           0.00\n",
       "6              0.0                 0.000             0.030           0.00\n",
       "7              0.1                 2.285             0.237           0.00\n",
       "8              0.2                 2.285             0.237           0.00\n",
       "9              0.3                 2.285             0.237           0.00\n",
       "10             0.4                 2.285             0.237           0.00\n",
       "11             0.5                 2.285             0.237           0.00\n",
       "12             0.6                 2.285             0.237           0.00\n",
       "13   20.0%_from_-1                 2.285             0.237          -0.28\n",
       "14     Unperturbed                 0.000             0.000           0.00"
      ]
     },
     "metadata": {},
     "output_type": "display_data"
    }
   ],
   "source": [
    "defect_energies = analysis.get_energies(\"v_Cd_0\")\n",
    "structure_comparison = analysis.compare_structures(\n",
    "    v_Cd_0,\n",
    "    defect_energies\n",
    ")"
   ]
  },
  {
   "cell_type": "markdown",
   "id": "8dac7ce8",
   "metadata": {
    "pycharm": {
     "name": "#%% md\n"
    }
   },
   "source": [
    "Highly favourable distortions are often driven by some kind of rebonding. For most vacancies and interstitials, this entails formation of new homoionic bonds between the defect neighbours.\n",
    "We can quickly check for these reconstructions using `analysis.get_homoionic_bonds()`"
   ]
  },
  {
   "cell_type": "code",
   "execution_count": 91,
   "id": "832f990d-ea3c-4f98-9703-60d2d4e226b1",
   "metadata": {
    "pycharm": {
     "name": "#%%\n"
    }
   },
   "outputs": [
    {
     "name": "stdout",
     "output_type": "stream",
     "text": [
      "{'Te(32)': {'Te(41)': '2.75 A'}}\n",
      "So two of the vacancy neighbours formed a Te-Te bond to compensate for the charge deficiency\n"
     ]
    }
   ],
   "source": [
    "bonds = analysis.get_homoionic_bonds(\n",
    "    structure=v_Cd_0[-0.4], # Structure to analyse\n",
    "    element=\"Te\", # we're looking for Te-Te bonds\n",
    "    radius=2.8, # maximum bond distance between 2 Te\n",
    "    verbose=False, # don't print bond distances\n",
    ")\n",
    "print(bonds)\n",
    "print(\"So two of the vacancy neighbours formed a Te-Te bond to compensate for the charge deficiency\")"
   ]
  },
  {
   "cell_type": "markdown",
   "id": "84e0966e",
   "metadata": {},
   "source": [
    "### Polaronic defects"
   ]
  },
  {
   "cell_type": "markdown",
   "id": "1fab0baf",
   "metadata": {
    "pycharm": {
     "name": "#%% md\n"
    }
   },
   "source": [
    "For defects that can result in polarons, we can check the sites with significant magnetization using `analysis.get_site_magnetizations()`"
   ]
  },
  {
   "cell_type": "code",
   "execution_count": 93,
   "id": "8572763e-24d6-43f9-9a56-371de03884a2",
   "metadata": {},
   "outputs": [],
   "source": [
    "!cp -r ../tests/data/example_results/v_Ti_0 ."
   ]
  },
  {
   "cell_type": "code",
   "execution_count": 94,
   "id": "0f400c78-71e7-486c-8145-06cffb72dfec",
   "metadata": {
    "pycharm": {
     "name": "#%%\n"
    }
   },
   "outputs": [
    {
     "name": "stdout",
     "output_type": "stream",
     "text": [
      "Analysing distortion Unperturbed. Total magnetization: 4.0\n",
      "Analysing distortion -0.4. Total magnetization: -0.0\n",
      "No significant magnetizations found for distortion: -0.4 \n",
      "\n"
     ]
    },
    {
     "data": {
      "text/html": [
       "<div>\n",
       "<style scoped>\n",
       "    .dataframe tbody tr th:only-of-type {\n",
       "        vertical-align: middle;\n",
       "    }\n",
       "\n",
       "    .dataframe tbody tr th {\n",
       "        vertical-align: top;\n",
       "    }\n",
       "\n",
       "    .dataframe thead th {\n",
       "        text-align: right;\n",
       "    }\n",
       "</style>\n",
       "<table border=\"1\" class=\"dataframe\">\n",
       "  <thead>\n",
       "    <tr style=\"text-align: right;\">\n",
       "      <th></th>\n",
       "      <th>Site</th>\n",
       "      <th>Frac coords</th>\n",
       "      <th>Site mag</th>\n",
       "      <th>Dist. (Å)</th>\n",
       "    </tr>\n",
       "  </thead>\n",
       "  <tbody>\n",
       "    <tr>\n",
       "      <th>O(35)</th>\n",
       "      <td>O(35)</td>\n",
       "      <td>[0.0, 0.167, 0.014]</td>\n",
       "      <td>1.458</td>\n",
       "      <td>2.26</td>\n",
       "    </tr>\n",
       "    <tr>\n",
       "      <th>O(53)</th>\n",
       "      <td>O(53)</td>\n",
       "      <td>[-0.0, 0.167, 0.486]</td>\n",
       "      <td>1.478</td>\n",
       "      <td>2.26</td>\n",
       "    </tr>\n",
       "    <tr>\n",
       "      <th>O(62)</th>\n",
       "      <td>O(62)</td>\n",
       "      <td>[0.165, 0.167, 0.292]</td>\n",
       "      <td>1.522</td>\n",
       "      <td>1.91</td>\n",
       "    </tr>\n",
       "    <tr>\n",
       "      <th>O(68)</th>\n",
       "      <td>O(68)</td>\n",
       "      <td>[0.835, 0.167, 0.292]</td>\n",
       "      <td>1.521</td>\n",
       "      <td>1.91</td>\n",
       "    </tr>\n",
       "  </tbody>\n",
       "</table>\n",
       "</div>"
      ],
      "text/plain": [
       "        Site            Frac coords  Site mag  Dist. (Å)\n",
       "O(35)  O(35)    [0.0, 0.167, 0.014]     1.458       2.26\n",
       "O(53)  O(53)   [-0.0, 0.167, 0.486]     1.478       2.26\n",
       "O(62)  O(62)  [0.165, 0.167, 0.292]     1.522       1.91\n",
       "O(68)  O(68)  [0.835, 0.167, 0.292]     1.521       1.91"
      ]
     },
     "metadata": {},
     "output_type": "display_data"
    },
    {
     "name": "stdout",
     "output_type": "stream",
     "text": [
      "So we have 4 holes localised on 4 of the oxygen ions neighbouring the vacancy\n"
     ]
    }
   ],
   "source": [
    "df = analysis.get_site_magnetizations(\n",
    "    defect_species=\"v_Ti_0\", # neutral Ti vacancy in anatase TiO2\n",
    "    distortions=[\"Unperturbed\", -0.4],\n",
    "    defect_site=[0.0, 0.16666666666666669, 0.25],\n",
    "    threshold=0.3, # to filter sites with significant magnetization\n",
    "    orbital_projections=False, # don't show orbital projections\n",
    ")\n",
    "\n",
    "display(df[\"Unperturbed\"]) # 4 holes localised on 4 of the vacancy neighbours\n",
    "print(\"So we have 4 holes localised on 4 of the oxygen ions neighbouring the vacancy\")"
   ]
  },
  {
   "cell_type": "markdown",
   "id": "8b8c6ebe",
   "metadata": {
    "pycharm": {
     "name": "#%% md\n"
    }
   },
   "source": [
    "As printed below, no significant magnetization is found for -40.0% distortion. This configuration was found to be significantly more stable than the polaronic solution, so we can quickly use `analysis.get_homoionic_bonds` to see why:"
   ]
  },
  {
   "cell_type": "code",
   "execution_count": 96,
   "id": "73db8706-09e6-4cac-b3cf-d894ef00cbee",
   "metadata": {
    "pycharm": {
     "name": "#%%\n"
    }
   },
   "outputs": [
    {
     "name": "stdout",
     "output_type": "stream",
     "text": [
      "{'O(44)': {'O(62)': '1.2 A'}}\n",
      "So the formation of an O-O bond drived this distortion\n"
     ]
    }
   ],
   "source": [
    "bonds = analysis.get_homoionic_bonds(\n",
    "    structure = Structure.from_file(\"./v_Ti_0/Bond_Distortion_-40.0%/CONTCAR\"),\n",
    "    element=\"O\",\n",
    "    radius=2.0,\n",
    "    verbose=False,\n",
    ")\n",
    "print(bonds)\n",
    "print(\"So the formation of an O-O bond drived this distortion\")"
   ]
  },
  {
   "cell_type": "markdown",
   "id": "6e31b32f-d0c9-42f4-9b9a-10cff9cfedec",
   "metadata": {
    "pycharm": {
     "name": "#%% md\n"
    }
   },
   "source": [
    "See the [documentation](https://shakenbreak.readthedocs.io/en/latest/) for more info and optional parameter choices etc"
   ]
  },
  {
   "cell_type": "markdown",
   "id": "6bc6d4ac-b810-4f99-9e43-e480a4cecd3a",
   "metadata": {
    "pycharm": {
     "name": "#%% md\n"
    }
   },
   "source": [
    "<a id='other'></a>"
   ]
  },
  {
   "cell_type": "markdown",
   "id": "85e6dd4c-c161-43a7-bf10-be9ac4ab8329",
   "metadata": {
    "pycharm": {
     "name": "#%% md\n"
    }
   },
   "source": [
    "## 6. *Optional*: Input File Generation for Other Codes"
   ]
  },
  {
   "cell_type": "markdown",
   "id": "74015500-a190-4cff-8368-59fa7594aafa",
   "metadata": {
    "pycharm": {
     "name": "#%% md\n"
    }
   },
   "source": [
    "#### a) `Quantum Espresso`"
   ]
  },
  {
   "cell_type": "code",
   "execution_count": 97,
   "id": "6abe1ae5",
   "metadata": {
    "collapsed": true,
    "jupyter": {
     "outputs_hidden": true
    },
    "pycharm": {
     "name": "#%%\n"
    },
    "tags": []
   },
   "outputs": [
    {
     "name": "stdout",
     "output_type": "stream",
     "text": [
      "\u001b[0;31mSignature:\u001b[0m\n",
      "\u001b[0mDist\u001b[0m\u001b[0;34m.\u001b[0m\u001b[0mwrite_espresso_files\u001b[0m\u001b[0;34m(\u001b[0m\u001b[0;34m\u001b[0m\n",
      "\u001b[0;34m\u001b[0m    \u001b[0mpseudopotentials\u001b[0m\u001b[0;34m:\u001b[0m \u001b[0mUnion\u001b[0m\u001b[0;34m[\u001b[0m\u001b[0mdict\u001b[0m\u001b[0;34m,\u001b[0m \u001b[0mNoneType\u001b[0m\u001b[0;34m]\u001b[0m \u001b[0;34m=\u001b[0m \u001b[0;32mNone\u001b[0m\u001b[0;34m,\u001b[0m\u001b[0;34m\u001b[0m\n",
      "\u001b[0;34m\u001b[0m    \u001b[0minput_parameters\u001b[0m\u001b[0;34m:\u001b[0m \u001b[0mUnion\u001b[0m\u001b[0;34m[\u001b[0m\u001b[0mstr\u001b[0m\u001b[0;34m,\u001b[0m \u001b[0mNoneType\u001b[0m\u001b[0;34m]\u001b[0m \u001b[0;34m=\u001b[0m \u001b[0;32mNone\u001b[0m\u001b[0;34m,\u001b[0m\u001b[0;34m\u001b[0m\n",
      "\u001b[0;34m\u001b[0m    \u001b[0minput_file\u001b[0m\u001b[0;34m:\u001b[0m \u001b[0mUnion\u001b[0m\u001b[0;34m[\u001b[0m\u001b[0mstr\u001b[0m\u001b[0;34m,\u001b[0m \u001b[0mNoneType\u001b[0m\u001b[0;34m]\u001b[0m \u001b[0;34m=\u001b[0m \u001b[0;32mNone\u001b[0m\u001b[0;34m,\u001b[0m\u001b[0;34m\u001b[0m\n",
      "\u001b[0;34m\u001b[0m    \u001b[0mwrite_structures_only\u001b[0m\u001b[0;34m:\u001b[0m \u001b[0mUnion\u001b[0m\u001b[0;34m[\u001b[0m\u001b[0mbool\u001b[0m\u001b[0;34m,\u001b[0m \u001b[0mNoneType\u001b[0m\u001b[0;34m]\u001b[0m \u001b[0;34m=\u001b[0m \u001b[0;32mFalse\u001b[0m\u001b[0;34m,\u001b[0m\u001b[0;34m\u001b[0m\n",
      "\u001b[0;34m\u001b[0m    \u001b[0moutput_path\u001b[0m\u001b[0;34m:\u001b[0m \u001b[0mstr\u001b[0m \u001b[0;34m=\u001b[0m \u001b[0;34m'.'\u001b[0m\u001b[0;34m,\u001b[0m\u001b[0;34m\u001b[0m\n",
      "\u001b[0;34m\u001b[0m    \u001b[0mverbose\u001b[0m\u001b[0;34m:\u001b[0m \u001b[0mUnion\u001b[0m\u001b[0;34m[\u001b[0m\u001b[0mbool\u001b[0m\u001b[0;34m,\u001b[0m \u001b[0mNoneType\u001b[0m\u001b[0;34m]\u001b[0m \u001b[0;34m=\u001b[0m \u001b[0;32mFalse\u001b[0m\u001b[0;34m,\u001b[0m\u001b[0;34m\u001b[0m\n",
      "\u001b[0;34m\u001b[0m\u001b[0;34m)\u001b[0m \u001b[0;34m->\u001b[0m \u001b[0mTuple\u001b[0m\u001b[0;34m[\u001b[0m\u001b[0mdict\u001b[0m\u001b[0;34m,\u001b[0m \u001b[0mdict\u001b[0m\u001b[0;34m]\u001b[0m\u001b[0;34m\u001b[0m\u001b[0;34m\u001b[0m\u001b[0m\n",
      "\u001b[0;31mDocstring:\u001b[0m\n",
      "Generates input files for Quantum Espresso relaxations of all output\n",
      "structures.\n",
      "\n",
      "Args:\n",
      "    pseudopotentials (:obj:`dict`, optional):\n",
      "        Dictionary matching element to pseudopotential name.\n",
      "        (Defaults: None)\n",
      "    input_parameters (:obj:`dict`, optional):\n",
      "        Dictionary of user Quantum Espresso input parameters, to\n",
      "        overwrite/update `shakenbreak` default ones (see\n",
      "        `SnB_input_files/qe_input.yaml`).\n",
      "        (Default: None)\n",
      "    input_file (:obj:`str`, optional):\n",
      "        Path to Quantum Espresso input file, to overwrite/update\n",
      "        `shakenbreak` default ones (see `SnB_input_files/qe_input.yaml`).\n",
      "        If both `input_parameters` and `input_file` are provided,\n",
      "        the input_parameters will be used.\n",
      "    write_structures_only (:obj:`bool`, optional):\n",
      "        Whether to only write the structure files (in CIF format)\n",
      "        (without calculation inputs).\n",
      "        (Default: False)\n",
      "    output_path (:obj:`str`, optional):\n",
      "        Path to directory in which to write distorted defect structures\n",
      "        and calculation inputs.\n",
      "        (Default is current directory: \".\")\n",
      "    verbose (:obj:`bool`):\n",
      "        Whether to print distortion information (bond atoms and\n",
      "        distances).\n",
      "        (Default: False)\n",
      "\n",
      "Returns:\n",
      "    :obj:`tuple`:\n",
      "        Tuple of dictionaries with new defects_dict (containing the\n",
      "        distorted structures) and defect distortion parameters.\n",
      "\u001b[0;31mFile:\u001b[0m      ~/Python_Modules/shakenbreak/shakenbreak/input.py\n",
      "\u001b[0;31mType:\u001b[0m      method\n"
     ]
    }
   ],
   "source": [
    "# check the arguments of the `write_espresso_files` method\n",
    "Dist.write_espresso_files?"
   ]
  },
  {
   "cell_type": "code",
   "execution_count": 98,
   "id": "a37f935b-701c-4da3-87d9-02242109d48e",
   "metadata": {
    "pycharm": {
     "name": "#%%\n"
    }
   },
   "outputs": [
    {
     "name": "stdout",
     "output_type": "stream",
     "text": [
      "Oxidation states were not explicitly set, thus have been guessed as {'Cd': 2.0, 'Te': -2.0}. If this is unreasonable you should manually set oxidation_states\n",
      "Applying ShakeNBreak... Will apply the following bond distortions: ['-0.3', '0.3']. Then, will rattle with a std dev of 0.25 Å \n",
      "\n",
      "\u001b[1m\n",
      "Defect: v_Cd\u001b[0m\n",
      "\u001b[1mNumber of missing electrons in neutral state: 2\u001b[0m\n",
      "\n",
      "Defect v_Cd in charge state: -2. Number of distorted neighbours: 0\n",
      "\n",
      "Defect v_Cd in charge state: -1. Number of distorted neighbours: 1\n",
      "\n",
      "Defect v_Cd in charge state: 0. Number of distorted neighbours: 2\n"
     ]
    }
   ],
   "source": [
    "# oxidation_states = {\"Cd\": +2, \"Te\": -2}  # explicitly specify atom oxidation states\n",
    "\n",
    "# Create an instance of Distortion class with the defect dictionary and the distortion parameters\n",
    "# If distortion parameters are not specified, the default values are used\n",
    "Dist = Distortions(\n",
    "    defects_dict=dict(V_Cd_dict),\n",
    "    #oxidation_states=oxidation_states, # explicitly specify atom oxidation states\n",
    "    bond_distortions=[-0.3, 0.3] # For demonstration purposes, just doing 2 distortions\n",
    ")\n",
    "\n",
    "pseudopotentials = { # Your chosen pseudopotentials\n",
    "    'Cd': 'Cd_pbe_v1.uspp.F.UPF',\n",
    "    'Te': 'Te.pbe-n-rrkjus_psl.1.0.0.UPF'}\n",
    "\n",
    "defects_dict, distortion_metadata = Dist.write_espresso_files(\n",
    "    pseudopotentials=pseudopotentials,\n",
    ")"
   ]
  },
  {
   "cell_type": "markdown",
   "id": "29765a65-4226-42cc-8f8d-cf7f3c1e021f",
   "metadata": {
    "pycharm": {
     "name": "#%% md\n"
    }
   },
   "source": [
    "And for the default coarse structure-searching input settings, either have a look at the `qe_input.yaml` file in the `Snb_input_files` folder or at the generated files:"
   ]
  },
  {
   "cell_type": "code",
   "execution_count": 99,
   "id": "b9024635",
   "metadata": {
    "collapsed": true,
    "jupyter": {
     "outputs_hidden": true
    },
    "pycharm": {
     "name": "#%%\n"
    },
    "tags": []
   },
   "outputs": [
    {
     "name": "stdout",
     "output_type": "stream",
     "text": [
      "&CONTROL\n",
      "   calculation      = 'relax'\n",
      "   title            = 'espresso'\n",
      "   nstep            = 300\n",
      "   tstress          = .false.\n",
      "   tprnfor          = .true.\n",
      "/\n",
      "&SYSTEM\n",
      "   ibrav            = 0\n",
      "   tot_charge       = 0\n",
      "   ecutwfc          = 30.0\n",
      "   nosym            = .true.\n",
      "   occupations      = 'smearing'\n",
      "   degauss          = 0.0015\n",
      "   nspin            = 2\n",
      "   input_dft        = 'HSE'\n",
      "   exx_fraction     = 0.25\n",
      "   starting_magnetization(1) = 0.0\n",
      "   starting_magnetization(2) = 0.0\n",
      "   ntyp             = 2\n",
      "   nat              = 63\n",
      "/\n",
      "&ELECTRONS\n",
      "   ecutwfc          = 33.0\n",
      "/\n",
      "&IONS\n",
      "/\n",
      "&CELL\n",
      "/\n",
      "\n",
      "ATOMIC_SPECIES\n",
      "Cd  112.414 Cd_pbe_v1.uspp.F.UPF\n",
      "Te  127.6 Te.pbe-n-rrkjus_psl.1.0.0.UPF\n",
      "\n",
      "K_POINTS automatic\n",
      "1 1 1  0 0 0\n",
      "\n",
      "CELL_PARAMETERS angstrom\n",
      "13.08676800000000 0.00000000000000 0.00000000000000\n",
      "0.00000000000000 13.08676800000000 0.00000000000000\n",
      "0.00000000000000 0.00000000000000 13.08676800000000\n",
      "\n",
      "ATOMIC_POSITIONS angstrom\n",
      "Cd  0.2052936933 0.2205109577 6.5612600102\n",
      "Cd  0.3553059026 6.4874540930 0.1311618230\n",
      "Cd  -0.0189701912 6.5181677929 6.2570352666\n",
      "Cd  6.1796951708 0.2623979357 -0.2390850836\n",
      "Cd  6.3936521122 -0.0705098423 6.3047768912\n",
      "Cd  6.6170390438 6.7871616780 -0.3530104837\n",
      "Cd  6.2838583436 6.8800332033 6.8680083180\n",
      "Cd  -0.4558335511 3.5713061158 3.1244141346\n",
      "Cd  -0.1383866466 3.4883477927 9.4875198666\n",
      "Cd  -0.0990547023 9.2565757916 3.3244344470\n",
      "Cd  -0.0666252559 9.6258716381 10.0500411859\n",
      "Cd  6.5509957445 3.6911705273 3.0562876062\n",
      "Cd  6.7586762218 3.3272456174 9.5832095081\n",
      "Cd  6.6360757260 9.8497071995 3.7883128703\n",
      "Cd  6.6082747313 10.0528258949 9.9353986711\n",
      "Cd  3.0288526343 -0.1828111303 3.5476901542\n",
      "Cd  3.1098991492 0.0702601671 9.6601980421\n",
      "Cd  3.5574730475 6.4424748675 3.2085931359\n",
      "Cd  3.4325905045 6.7705044623 9.5012728266\n",
      "Cd  9.7117087314 -0.4834176905 3.4040015301\n",
      "Cd  10.0022302059 0.1080439952 9.6516807338\n",
      "Cd  10.1714269096 6.6241789285 3.1655379298\n",
      "Cd  9.3085127617 6.4018087674 9.7533878631\n",
      "Cd  3.3994529298 3.4742102051 -0.1808313195\n",
      "Cd  3.7387736554 3.4910359408 6.3135534511\n",
      "Cd  3.3414555872 9.5849079909 -0.3544370839\n",
      "Cd  3.7662073052 9.4368196528 6.4918174678\n",
      "Cd  10.1502177203 3.5291627195 -0.1238205694\n",
      "Cd  10.0435753234 3.1852362330 6.9917138830\n",
      "Cd  10.0242116925 9.9364450730 0.1104867397\n",
      "Cd  9.7510717928 9.8455033094 6.4614014274\n",
      "Te  1.5541433257 1.9734023807 4.9233741105\n",
      "Te  2.1266235285 2.1266235285 10.9601444715\n",
      "Te  1.7174543391 8.2820291303 5.4998426799\n",
      "Te  1.4773444045 8.0914853904 11.0884702149\n",
      "Te  8.2653380643 1.6043581688 4.8425490397\n",
      "Te  8.2235256058 1.4452015063 11.0741478414\n",
      "Te  8.1546704364 8.4171284306 4.9777313383\n",
      "Te  8.0256553870 8.4325657640 11.6792998138\n",
      "Te  1.4910276874 4.8183441414 1.9865939846\n",
      "Te  1.6638992716 4.7990204335 7.8885361462\n",
      "Te  2.1266235285 10.9601444715 2.1266235285\n",
      "Te  1.6668981429 11.6722305551 8.4278363781\n",
      "Te  8.0376589517 4.8618654142 1.4752211561\n",
      "Te  8.0790002588 5.0654924940 7.4357907467\n",
      "Te  7.9596934547 11.5680055313 1.4782538461\n",
      "Te  8.8231704737 11.9196722252 7.9344010692\n",
      "Te  4.7195900981 1.6713004379 2.1131884631\n",
      "Te  4.9108364207 1.4911526347 7.7655524265\n",
      "Te  5.3144600671 7.9555627306 1.4579927881\n",
      "Te  4.9770661164 8.4098758849 8.3701434731\n",
      "Te  11.7092924228 1.8306059845 1.2709266515\n",
      "Te  11.8438048907 1.6704836593 7.7841269954\n",
      "Te  11.7239819196 8.1712888360 1.3776519156\n",
      "Te  11.7745596756 8.1926838545 8.2275328558\n",
      "Te  5.1085924827 4.9075909233 4.8337724420\n",
      "Te  5.0266100925 4.9282115846 11.3880729444\n",
      "Te  4.9662022261 11.5870664745 4.8091737486\n",
      "Te  5.1264044323 11.1805616712 11.4958783517\n",
      "Te  11.5396180648 4.9906961842 5.2762497808\n",
      "Te  11.5086458777 5.1651153635 11.4600915357\n",
      "Te  11.5595291122 11.8953695735 4.7469231033\n",
      "Te  11.0722618437 11.6486366009 11.3780396955\n",
      "\n"
     ]
    }
   ],
   "source": [
    "!cat ./v_Cd_0/Bond_Distortion_30.0%/espresso.pwi"
   ]
  },
  {
   "cell_type": "markdown",
   "id": "5132c519-58a8-414c-8e29-a883d068845a",
   "metadata": {
    "pycharm": {
     "name": "#%% md\n"
    }
   },
   "source": [
    "#### b) `CP2K`"
   ]
  },
  {
   "cell_type": "code",
   "execution_count": 100,
   "id": "03ffee55",
   "metadata": {
    "pycharm": {
     "name": "#%%\n"
    }
   },
   "outputs": [
    {
     "name": "stdout",
     "output_type": "stream",
     "text": [
      "\u001b[0;31mSignature:\u001b[0m\n",
      "\u001b[0mDist\u001b[0m\u001b[0;34m.\u001b[0m\u001b[0mwrite_cp2k_files\u001b[0m\u001b[0;34m(\u001b[0m\u001b[0;34m\u001b[0m\n",
      "\u001b[0;34m\u001b[0m    \u001b[0minput_file\u001b[0m\u001b[0;34m:\u001b[0m \u001b[0mUnion\u001b[0m\u001b[0;34m[\u001b[0m\u001b[0mstr\u001b[0m\u001b[0;34m,\u001b[0m \u001b[0mNoneType\u001b[0m\u001b[0;34m]\u001b[0m \u001b[0;34m=\u001b[0m \u001b[0;34m'/home/ireaml/Python_Modules/shakenbreak/shakenbreak/../SnB_input_files/cp2k_input.inp'\u001b[0m\u001b[0;34m,\u001b[0m\u001b[0;34m\u001b[0m\n",
      "\u001b[0;34m\u001b[0m    \u001b[0mwrite_structures_only\u001b[0m\u001b[0;34m:\u001b[0m \u001b[0mUnion\u001b[0m\u001b[0;34m[\u001b[0m\u001b[0mbool\u001b[0m\u001b[0;34m,\u001b[0m \u001b[0mNoneType\u001b[0m\u001b[0;34m]\u001b[0m \u001b[0;34m=\u001b[0m \u001b[0;32mFalse\u001b[0m\u001b[0;34m,\u001b[0m\u001b[0;34m\u001b[0m\n",
      "\u001b[0;34m\u001b[0m    \u001b[0moutput_path\u001b[0m\u001b[0;34m:\u001b[0m \u001b[0mstr\u001b[0m \u001b[0;34m=\u001b[0m \u001b[0;34m'.'\u001b[0m\u001b[0;34m,\u001b[0m\u001b[0;34m\u001b[0m\n",
      "\u001b[0;34m\u001b[0m    \u001b[0mverbose\u001b[0m\u001b[0;34m:\u001b[0m \u001b[0mUnion\u001b[0m\u001b[0;34m[\u001b[0m\u001b[0mbool\u001b[0m\u001b[0;34m,\u001b[0m \u001b[0mNoneType\u001b[0m\u001b[0;34m]\u001b[0m \u001b[0;34m=\u001b[0m \u001b[0;32mFalse\u001b[0m\u001b[0;34m,\u001b[0m\u001b[0;34m\u001b[0m\n",
      "\u001b[0;34m\u001b[0m\u001b[0;34m)\u001b[0m \u001b[0;34m->\u001b[0m \u001b[0mTuple\u001b[0m\u001b[0;34m[\u001b[0m\u001b[0mdict\u001b[0m\u001b[0;34m,\u001b[0m \u001b[0mdict\u001b[0m\u001b[0;34m]\u001b[0m\u001b[0;34m\u001b[0m\u001b[0;34m\u001b[0m\u001b[0m\n",
      "\u001b[0;31mDocstring:\u001b[0m\n",
      "Generates input files for CP2K relaxations of all output structures.\n",
      "\n",
      "Args:\n",
      "    input_file (:obj:`str`, optional):\n",
      "        Path to CP2K input file. If not set, default input file will be\n",
      "        used (see `shakenbreak/SnB_input_files/cp2k_input.inp`).\n",
      "    write_structures_only (:obj:`bool`, optional):\n",
      "        Whether to only write the structure files (in CIF format)\n",
      "        (without calculation inputs).\n",
      "        (Default: False)\n",
      "    output_path (:obj:`str`, optional):\n",
      "        Path to directory in which to write distorted defect structures\n",
      "        and calculation inputs.\n",
      "        (Default is current directory: \".\")\n",
      "    verbose (:obj:`bool`, optional):\n",
      "        Whether to print distortion information (bond atoms and\n",
      "        distances).\n",
      "        (Default: False)\n",
      "\n",
      "Returns:\n",
      "    :obj:`tuple`:\n",
      "        Tuple of dictionaries with new defects_dict (containing the\n",
      "        distorted structures) and defect distortion parameters.\n",
      "\u001b[0;31mFile:\u001b[0m      ~/Python_Modules/shakenbreak/shakenbreak/input.py\n",
      "\u001b[0;31mType:\u001b[0m      method\n"
     ]
    }
   ],
   "source": [
    "Dist.write_cp2k_files?"
   ]
  },
  {
   "cell_type": "code",
   "execution_count": 101,
   "id": "7d24a6dc",
   "metadata": {
    "pycharm": {
     "name": "#%%\n"
    }
   },
   "outputs": [
    {
     "name": "stdout",
     "output_type": "stream",
     "text": [
      "Applying ShakeNBreak... Will apply the following bond distortions: ['-0.3', '0.3']. Then, will rattle with a std dev of 0.25 Å \n",
      "\n",
      "\u001b[1m\n",
      "Defect: v_Cd\u001b[0m\n",
      "\u001b[1mNumber of missing electrons in neutral state: 2\u001b[0m\n",
      "\n",
      "Defect v_Cd in charge state: -2. Number of distorted neighbours: 0\n",
      "\n",
      "Defect v_Cd in charge state: -1. Number of distorted neighbours: 1\n",
      "\n",
      "Defect v_Cd in charge state: 0. Number of distorted neighbours: 2\n"
     ]
    }
   ],
   "source": [
    "oxidation_states = {\"Cd\": +2, \"Te\": -2}  # explicitly specify atom oxidation states\n",
    "\n",
    "# Create an instance of Distortion class with the defect dictionary and the distortion parameters\n",
    "# If distortion parameters are not specified, the default values are used\n",
    "Dist = Distortions( \n",
    "            defects_dict=dict(V_Cd_dict), \n",
    "            oxidation_states=oxidation_states, # explicitly specify atom oxidation states\n",
    "            bond_distortions=[-0.3, 0.3] # For demonstration purposes, just doing 2 distortions\n",
    "            )\n",
    "\n",
    "defects_dict, distortion_metadata = Dist.write_cp2k_files()"
   ]
  },
  {
   "cell_type": "markdown",
   "id": "d147b8ae-48a2-4304-985c-408b676aca54",
   "metadata": {
    "pycharm": {
     "name": "#%% md\n"
    }
   },
   "source": [
    "And for the default coarse structure-searching input settings, either have a look at the `cp2k_input.yaml` file in the `Snb_input_files` folder or at the generated files:"
   ]
  },
  {
   "cell_type": "code",
   "execution_count": 102,
   "id": "7d0b5876",
   "metadata": {
    "collapsed": true,
    "jupyter": {
     "outputs_hidden": true
    },
    "pycharm": {
     "name": "#%%\n"
    },
    "tags": []
   },
   "outputs": [
    {
     "name": "stdout",
     "output_type": "stream",
     "text": [
      "&GLOBAL \n",
      "\tPROJECT relax ! files generated will be named relax.out etc\n",
      "\tRUN_TYPE GEO_OPT ! geometry optimization\n",
      "\tIOLEVEL MEDIUM ! reduce amount of IO\n",
      "&END GLOBAL\n",
      "&FORCE_EVAL \n",
      "\tMETHOD Quickstep\n",
      "\n",
      "\t! the electronic structure part\n",
      "\t&DFT \n",
      "\t\tBASIS_SET_FILE_NAME HFX_BASIS\n",
      "\t\tPOTENTIAL_FILE_NAME GTH_POTENTIALS\n",
      "\t\tSPIN_POLARIZED .TRUE.\n",
      "\t\tCHARGE 0\n",
      "\t\t&MGRID \n",
      "\t\t\tCUTOFF [eV] 500 ! PW cutoff\n",
      "\t\t&END MGRID\n",
      "\t\t&QS \n",
      "\t\t\tMETHOD GPW\n",
      "\t\t\tEPS_DEFAULT 1e-10\n",
      "\t\t\tEXTRAPOLATION ASPC\n",
      "\t\t&END QS\n",
      "\n",
      "\t\t! use the GPW method (i.e. pseudopotential\n",
      "\t\t! basedcalculations with the Gaussian and Plane\n",
      "\t\t! Wavesscheme)\n",
      "\t\t&DFT \n",
      "\t\t\t&KPOINTS \n",
      "\t\t\t\tSCHEME GAMMA 1 1 1 ! Gamma point only\n",
      "\t\t\t&END KPOINTS\n",
      "\t\t&END DFT\n",
      "\t\t&POISSON \n",
      "\t\t\tPERIODIC XYZ ! the default\n",
      "\t\t&END POISSON\n",
      "\t\t&PRINT \n",
      "\n",
      "\t\t\t! at the end of the SCF procedure generate\n",
      "\t\t\t! cubefiles of the density\n",
      "\t\t\t&E_DENSITY_CUBE OFF\n",
      "\t\t\t&END E_DENSITY_CUBE\n",
      "\t\t&END PRINT\n",
      "\n",
      "\t\t! use the OT METHOD for robust and efficientSCF,\n",
      "\t\t! suitable for all non-metallic systems.\n",
      "\t\t&SCF \n",
      "\t\t\tSCF_GUESS RESTART ! can be used to RESTART an interrupted calculation\n",
      "\t\t\tMAX_SCF 80\n",
      "\t\t\tEPS_SCF 1e-06 ! accuracy of the SCF procedure typically 1.0E-6 - 1.0E-7\n",
      "\t\t\t&OT \n",
      "\t\t\t\tPRECONDITIONER FULL_SINGLE_INVERSE\n",
      "\t\t\t\tMINIMIZER DIIS\n",
      "\t\t\t&END OT\n",
      "\n",
      "\t\t\t! an accurate preconditioner suitable also\n",
      "\t\t\t! forlarger systems, the most robust choice\n",
      "\t\t\t! (DIISmight sometimes be faster, but not\n",
      "\t\t\t! asstable).\n",
      "\t\t\t&OUTER_SCF ! repeat the inner SCF cycle 10 times\n",
      "\t\t\t\tMAX_SCF 10\n",
      "\t\t\t\tEPS_SCF 1e-06 ! must match the above\n",
      "\t\t\t&END OUTER_SCF\n",
      "\n",
      "\t\t\t! do not store the wfn\n",
      "\t\t\t&PRINT \n",
      "\t\t\t\t&RESTART \n",
      "\t\t\t\t&END RESTART\n",
      "\t\t\t&END PRINT\n",
      "\t\t&END SCF\n",
      "\n",
      "\t\t! specify the exchange and correlation treatment\n",
      "\t\t&XC \n",
      "\n",
      "\t\t\t! use a PBE0 functional\n",
      "\t\t\t&XC_FUNCTIONAL \n",
      "\t\t\t\t&PBE \n",
      "\t\t\t\t\tSCALE_X 0.75\n",
      "\t\t\t\t\tSCALE_C 1.0\n",
      "\t\t\t\t&END PBE\n",
      "\t\t\t&END XC_FUNCTIONAL\n",
      "\n",
      "\t\t\t! 75% GGA exchange 100% GGA correlation\n",
      "\t\t\t&HF \n",
      "\t\t\t\tFRACTION 0.25\n",
      "\n",
      "\t\t\t\t! 25 % HFX exchange\n",
      "\t\t\t\t&SCREENING \n",
      "\t\t\t\t\tEPS_SCHWARZ 1e-06\n",
      "\t\t\t\t\tSCREEN_ON_INITIAL_P True\n",
      "\t\t\t\t&END SCREENING\n",
      "\n",
      "\t\t\t\t! important parameter to get stable\n",
      "\t\t\t\t! HFXcalcsneeds a good (GGA) initial guess\n",
      "\t\t\t\t&INTERACTION_POTENTIAL \n",
      "\t\t\t\t\tPOTENTIAL_TYPE TRUNCATED\n",
      "\t\t\t\t\tCUTOFF_RADIUS 6.0\n",
      "\t\t\t\t\tT_C_G_DATA ./t_c_g.dat\n",
      "\t\t\t\t&END INTERACTION_POTENTIAL\n",
      "\n",
      "\t\t\t\t! for condensed phase systemsshould be\n",
      "\t\t\t\t! lessthan halve the celldata file needed with\n",
      "\t\t\t\t! thetruncated operator\n",
      "\t\t\t\t&MEMORY \n",
      "\t\t\t\t\tMAX_MEMORY 4000\n",
      "\t\t\t\t\tEPS_STORAGE_SCALING 0.1\n",
      "\t\t\t\t&END MEMORY\n",
      "\t\t\t&END HF\n",
      "\t\t&END XC\n",
      "\t&END DFT\n",
      "\n",
      "\t! Description of the systemStructure will be read\n",
      "\t! from external file\n",
      "\t&SUBSYS \n",
      "\t\t&CELL \n",
      "\t\t\tCELL_FILE_FORMAT CIF\n",
      "\t\t\tCELL_FILE_NAME structure.cif\n",
      "\t\t&END CELL\n",
      "\t\t&TOPOLOGY \n",
      "\t\t\tCOORD_FILE_NAME structure.cif\n",
      "\t\t\tCOORD_FILE_FORMAT CIF\n",
      "\t\t&END TOPOLOGY\n",
      "\t&END SUBSYS\n",
      "&END FORCE_EVAL\n"
     ]
    }
   ],
   "source": [
    "!cat ./v_Cd_0/Bond_Distortion_30.0%/cp2k_input.inp"
   ]
  },
  {
   "cell_type": "markdown",
   "id": "6b9b82be-7a7e-4d1b-95a4-4cc29e7f9199",
   "metadata": {
    "pycharm": {
     "name": "#%% md\n"
    }
   },
   "source": [
    "#### c) `CASTEP`"
   ]
  },
  {
   "cell_type": "code",
   "execution_count": 103,
   "id": "5862a23e",
   "metadata": {
    "pycharm": {
     "name": "#%%\n"
    }
   },
   "outputs": [
    {
     "name": "stdout",
     "output_type": "stream",
     "text": [
      "\u001b[0;31mSignature:\u001b[0m\n",
      "\u001b[0mDist\u001b[0m\u001b[0;34m.\u001b[0m\u001b[0mwrite_castep_files\u001b[0m\u001b[0;34m(\u001b[0m\u001b[0;34m\u001b[0m\n",
      "\u001b[0;34m\u001b[0m    \u001b[0minput_file\u001b[0m\u001b[0;34m:\u001b[0m \u001b[0mUnion\u001b[0m\u001b[0;34m[\u001b[0m\u001b[0mstr\u001b[0m\u001b[0;34m,\u001b[0m \u001b[0mNoneType\u001b[0m\u001b[0;34m]\u001b[0m \u001b[0;34m=\u001b[0m \u001b[0;34m'/home/ireaml/Python_Modules/shakenbreak/shakenbreak/../SnB_input_files/castep.param'\u001b[0m\u001b[0;34m,\u001b[0m\u001b[0;34m\u001b[0m\n",
      "\u001b[0;34m\u001b[0m    \u001b[0mwrite_structures_only\u001b[0m\u001b[0;34m:\u001b[0m \u001b[0mUnion\u001b[0m\u001b[0;34m[\u001b[0m\u001b[0mbool\u001b[0m\u001b[0;34m,\u001b[0m \u001b[0mNoneType\u001b[0m\u001b[0;34m]\u001b[0m \u001b[0;34m=\u001b[0m \u001b[0;32mFalse\u001b[0m\u001b[0;34m,\u001b[0m\u001b[0;34m\u001b[0m\n",
      "\u001b[0;34m\u001b[0m    \u001b[0moutput_path\u001b[0m\u001b[0;34m:\u001b[0m \u001b[0mstr\u001b[0m \u001b[0;34m=\u001b[0m \u001b[0;34m'.'\u001b[0m\u001b[0;34m,\u001b[0m\u001b[0;34m\u001b[0m\n",
      "\u001b[0;34m\u001b[0m    \u001b[0mverbose\u001b[0m\u001b[0;34m:\u001b[0m \u001b[0mUnion\u001b[0m\u001b[0;34m[\u001b[0m\u001b[0mbool\u001b[0m\u001b[0;34m,\u001b[0m \u001b[0mNoneType\u001b[0m\u001b[0;34m]\u001b[0m \u001b[0;34m=\u001b[0m \u001b[0;32mFalse\u001b[0m\u001b[0;34m,\u001b[0m\u001b[0;34m\u001b[0m\n",
      "\u001b[0;34m\u001b[0m\u001b[0;34m)\u001b[0m \u001b[0;34m->\u001b[0m \u001b[0mTuple\u001b[0m\u001b[0;34m[\u001b[0m\u001b[0mdict\u001b[0m\u001b[0;34m,\u001b[0m \u001b[0mdict\u001b[0m\u001b[0;34m]\u001b[0m\u001b[0;34m\u001b[0m\u001b[0;34m\u001b[0m\u001b[0m\n",
      "\u001b[0;31mDocstring:\u001b[0m\n",
      "Generates input `.cell` and `.param` files for CASTEP relaxations of\n",
      "all output structures.\n",
      "\n",
      "Args:\n",
      "    input_file (:obj:`str`, optional):\n",
      "        Path to CASTEP input (`.param`) file. If not set, default input\n",
      "        file will be used (see `shakenbreak/SnB_input_files/castep.param`).\n",
      "    write_structures_only (:obj:`bool`, optional):\n",
      "        Whether to only write the structure files (in CIF format)\n",
      "        (without calculation inputs).\n",
      "        (Default: False)\n",
      "    output_path (:obj:`str`, optional):\n",
      "        Path to directory in which to write distorted defect structures\n",
      "        and calculation inputs.\n",
      "        (Default is current directory: \".\")\n",
      "    verbose (:obj:`bool`, optional):\n",
      "        Whether to print distortion information (bond atoms and\n",
      "        distances).\n",
      "        (Default: False)\n",
      "\n",
      "Returns:\n",
      "    :obj:`tuple`:\n",
      "        Tuple of dictionaries with new defects_dict (containing the\n",
      "        distorted structures) and defect distortion parameters.\n",
      "\u001b[0;31mFile:\u001b[0m      ~/Python_Modules/shakenbreak/shakenbreak/input.py\n",
      "\u001b[0;31mType:\u001b[0m      method\n"
     ]
    }
   ],
   "source": [
    "Dist.write_castep_files?"
   ]
  },
  {
   "cell_type": "code",
   "execution_count": 104,
   "id": "6f4ac552",
   "metadata": {
    "pycharm": {
     "name": "#%%\n"
    }
   },
   "outputs": [
    {
     "name": "stdout",
     "output_type": "stream",
     "text": [
      "Applying ShakeNBreak... Will apply the following bond distortions: ['0.3']. Then, will rattle with a std dev of 0.25 Å \n",
      "\n",
      "\u001b[1m\n",
      "Defect: v_Cd\u001b[0m\n",
      "\u001b[1mNumber of missing electrons in neutral state: 2\u001b[0m\n",
      "\n",
      "Defect v_Cd in charge state: -2. Number of distorted neighbours: 0\n",
      "\n",
      "Defect v_Cd in charge state: -1. Number of distorted neighbours: 1\n",
      "\n",
      "Defect v_Cd in charge state: 0. Number of distorted neighbours: 2\n"
     ]
    }
   ],
   "source": [
    "oxidation_states = {\"Cd\": +2, \"Te\": -2}  # explicitly specify atom oxidation states\n",
    "\n",
    "# Create an instance of Distortion class with the defect dictionary and the distortion parameters\n",
    "# If distortion parameters are not specified, the default values are used\n",
    "Dist = Distortions(\n",
    "    defects_dict=dict(V_Cd_dict),\n",
    "    oxidation_states=oxidation_states,  # explicitly specify atom oxidation states\n",
    "    bond_distortions=[0.3] # For demonstration purposes, just doing 2 distortions\n",
    ")\n",
    "# If we don't specify the input_file, only the structure files (in .cell format) are written\n",
    "defects_dict, distortion_metadata = Dist.write_castep_files()"
   ]
  },
  {
   "cell_type": "markdown",
   "id": "0c687b26-8ca7-4837-bb67-c779a676dd4c",
   "metadata": {
    "pycharm": {
     "name": "#%% md\n"
    }
   },
   "source": [
    "And for the default coarse structure-searching input settings, either have a look at the `castep.param` file in the `SnB_input_files` folder or at the generated files:"
   ]
  },
  {
   "cell_type": "code",
   "execution_count": 105,
   "id": "63a08ef0",
   "metadata": {
    "collapsed": true,
    "jupyter": {
     "outputs_hidden": true
    },
    "pycharm": {
     "name": "#%%\n"
    },
    "tags": []
   },
   "outputs": [
    {
     "name": "stdout",
     "output_type": "stream",
     "text": [
      "#######################################################\n",
      "#CASTEP param file: /home/ireaml/Python_Modules/shakenbreak/tutorials/v_Cd_0/Bond_Distortion_30.0%/castep.param\n",
      "#Created using the Atomic Simulation Environment (ASE)#\n",
      "# Internal settings of the calculator\n",
      "# This can be switched off by settings\n",
      "# calc._export_settings = False\n",
      "# If stated, this will be automatically processed\n",
      "# by ase.io.castep.read_seed()\n",
      "# ASE_INTERFACE _build_missing_pspots : True\n",
      "# ASE_INTERFACE _castep_command : castep\n",
      "# ASE_INTERFACE _castep_pp_path : /home/ireaml/Python_Modules/shakenbreak/tutorials\n",
      "# ASE_INTERFACE _check_checkfile : True\n",
      "# ASE_INTERFACE _copy_pspots : False\n",
      "# ASE_INTERFACE _directory : /home/ireaml/Python_Modules/shakenbreak/tutorials/v_Cd_0/Bond_Distortion_30.0%\n",
      "# ASE_INTERFACE _export_settings : True\n",
      "# ASE_INTERFACE _find_pspots : False\n",
      "# ASE_INTERFACE _force_write : True\n",
      "# ASE_INTERFACE _label : castep\n",
      "# ASE_INTERFACE _link_pspots : True\n",
      "# ASE_INTERFACE _pedantic : False\n",
      "# ASE_INTERFACE _prepare_input_only : False\n",
      "# ASE_INTERFACE _rename_existing_dir : True\n",
      "# ASE_INTERFACE _set_atoms : False\n",
      "# ASE_INTERFACE _track_output : False\n",
      "# ASE_INTERFACE _try_reuse : False\n",
      "#######################################################\n",
      "\n",
      "GEOM_METHOD: BFGS\n",
      "GEOM_CONVERGENCE_WIN: 4\n",
      "GEOM_ENERGY_TOL: 0.00005 eV\n",
      "GEOM_FORCE_TOL: 0.05 ev/ang\n",
      "GEOM_MAX_ITER: 300\n",
      "XC_FUNCTIONAL: HSE06\n",
      "SMEARING_SCHEME: Gaussian\n",
      "ELEC_ENERGY_TOL: 0.00005 eV\n",
      "ELECTRONIC_MINIMIZER: CG\n",
      "MAX_SCF_CYCLES: 50\n",
      "BASIS_PRECISION: FINE\n",
      "CHARGE: 0\n"
     ]
    }
   ],
   "source": [
    "!cat ./v_Cd_0/Bond_Distortion_30.0%/castep.param"
   ]
  },
  {
   "cell_type": "markdown",
   "id": "7f147a4a-5eeb-47b9-ad21-2fb9e6c0a994",
   "metadata": {
    "pycharm": {
     "name": "#%% md\n"
    }
   },
   "source": [
    "#### d) `FHI-aims`"
   ]
  },
  {
   "cell_type": "code",
   "execution_count": 106,
   "id": "57d9e86b",
   "metadata": {
    "pycharm": {
     "name": "#%%\n"
    }
   },
   "outputs": [
    {
     "name": "stdout",
     "output_type": "stream",
     "text": [
      "\u001b[0;31mSignature:\u001b[0m\n",
      "\u001b[0mDist\u001b[0m\u001b[0;34m.\u001b[0m\u001b[0mwrite_fhi_aims_files\u001b[0m\u001b[0;34m(\u001b[0m\u001b[0;34m\u001b[0m\n",
      "\u001b[0;34m\u001b[0m    \u001b[0minput_file\u001b[0m\u001b[0;34m:\u001b[0m \u001b[0mUnion\u001b[0m\u001b[0;34m[\u001b[0m\u001b[0mstr\u001b[0m\u001b[0;34m,\u001b[0m \u001b[0mNoneType\u001b[0m\u001b[0;34m]\u001b[0m \u001b[0;34m=\u001b[0m \u001b[0;32mNone\u001b[0m\u001b[0;34m,\u001b[0m\u001b[0;34m\u001b[0m\n",
      "\u001b[0;34m\u001b[0m    \u001b[0mase_calculator\u001b[0m\u001b[0;34m:\u001b[0m \u001b[0mUnion\u001b[0m\u001b[0;34m[\u001b[0m\u001b[0mase\u001b[0m\u001b[0;34m.\u001b[0m\u001b[0mcalculators\u001b[0m\u001b[0;34m.\u001b[0m\u001b[0maims\u001b[0m\u001b[0;34m.\u001b[0m\u001b[0mAims\u001b[0m\u001b[0;34m,\u001b[0m \u001b[0mNoneType\u001b[0m\u001b[0;34m]\u001b[0m \u001b[0;34m=\u001b[0m \u001b[0;32mNone\u001b[0m\u001b[0;34m,\u001b[0m\u001b[0;34m\u001b[0m\n",
      "\u001b[0;34m\u001b[0m    \u001b[0mwrite_structures_only\u001b[0m\u001b[0;34m:\u001b[0m \u001b[0mUnion\u001b[0m\u001b[0;34m[\u001b[0m\u001b[0mbool\u001b[0m\u001b[0;34m,\u001b[0m \u001b[0mNoneType\u001b[0m\u001b[0;34m]\u001b[0m \u001b[0;34m=\u001b[0m \u001b[0;32mFalse\u001b[0m\u001b[0;34m,\u001b[0m\u001b[0;34m\u001b[0m\n",
      "\u001b[0;34m\u001b[0m    \u001b[0moutput_path\u001b[0m\u001b[0;34m:\u001b[0m \u001b[0mstr\u001b[0m \u001b[0;34m=\u001b[0m \u001b[0;34m'.'\u001b[0m\u001b[0;34m,\u001b[0m\u001b[0;34m\u001b[0m\n",
      "\u001b[0;34m\u001b[0m    \u001b[0mverbose\u001b[0m\u001b[0;34m:\u001b[0m \u001b[0mUnion\u001b[0m\u001b[0;34m[\u001b[0m\u001b[0mbool\u001b[0m\u001b[0;34m,\u001b[0m \u001b[0mNoneType\u001b[0m\u001b[0;34m]\u001b[0m \u001b[0;34m=\u001b[0m \u001b[0;32mFalse\u001b[0m\u001b[0;34m,\u001b[0m\u001b[0;34m\u001b[0m\n",
      "\u001b[0;34m\u001b[0m\u001b[0;34m)\u001b[0m \u001b[0;34m->\u001b[0m \u001b[0mTuple\u001b[0m\u001b[0;34m[\u001b[0m\u001b[0mdict\u001b[0m\u001b[0;34m,\u001b[0m \u001b[0mdict\u001b[0m\u001b[0;34m]\u001b[0m\u001b[0;34m\u001b[0m\u001b[0;34m\u001b[0m\u001b[0m\n",
      "\u001b[0;31mDocstring:\u001b[0m\n",
      "Generates input geometry and control files for FHI-aims relaxations\n",
      "of all output structures.\n",
      "\n",
      "Args:\n",
      "    input_file (:obj:`str`, optional):\n",
      "        Path to FHI-aims input file, to overwrite/update\n",
      "        `shakenbreak` default ones.\n",
      "        If both `input_file` and `ase_calculator` are provided,\n",
      "        the ase_calculator will be used.\n",
      "    ase_calculator (:obj:`ase.calculators.aims.Aims`, optional):\n",
      "        ASE calculator object to use for FHI-aims calculations.\n",
      "        If not set, `shakenbreak` default values will be used.\n",
      "        Recommended to check these.\n",
      "        (Default: None)\n",
      "    write_structures_only (:obj:`bool`, optional):\n",
      "        Whether to only write the structure files (in `geometry.in`\n",
      "        format), (without the contro-in file).\n",
      "    output_path (:obj:`str`, optional):\n",
      "        Path to directory in which to write distorted defect structures\n",
      "        and calculation inputs.\n",
      "        (Default is current directory: \".\")\n",
      "    verbose (:obj:`bool`, optional):\n",
      "        Whether to print distortion information (bond atoms and\n",
      "        distances).\n",
      "        (Default: False)\n",
      "\n",
      "Returns:\n",
      "    :obj:`tuple`:\n",
      "        Tuple of dictionaries with new defects_dict (containing the\n",
      "        distorted structures) and defect distortion parameters.\n",
      "\u001b[0;31mFile:\u001b[0m      ~/Python_Modules/shakenbreak/shakenbreak/input.py\n",
      "\u001b[0;31mType:\u001b[0m      method\n"
     ]
    }
   ],
   "source": [
    "Dist.write_fhi_aims_files?"
   ]
  },
  {
   "cell_type": "code",
   "execution_count": 107,
   "id": "7f925ade",
   "metadata": {
    "pycharm": {
     "name": "#%%\n"
    }
   },
   "outputs": [
    {
     "name": "stdout",
     "output_type": "stream",
     "text": [
      "Applying ShakeNBreak... Will apply the following bond distortions: ['0.3']. Then, will rattle with a std dev of 0.25 Å \n",
      "\n",
      "\u001b[1m\n",
      "Defect: v_Cd\u001b[0m\n",
      "\u001b[1mNumber of missing electrons in neutral state: 2\u001b[0m\n",
      "\n",
      "Defect v_Cd in charge state: -2. Number of distorted neighbours: 0\n",
      "\n",
      "Defect v_Cd in charge state: -1. Number of distorted neighbours: 1\n",
      "\n",
      "Defect v_Cd in charge state: 0. Number of distorted neighbours: 2\n"
     ]
    }
   ],
   "source": [
    "oxidation_states = {\"Cd\": +2, \"Te\": -2}  # specify atom oxidation states\n",
    "\n",
    "# Create an instance of Distortion class with the defect dictionary and the distortion parameters\n",
    "# If distortion parameters are not specified, the default values are used\n",
    "Dist = Distortions( \n",
    "    defects_dict=dict(V_Cd_dict), \n",
    "    oxidation_states=oxidation_states,\n",
    "    bond_distortions=[0.3] # For demonstration purposes, just doing 2 distortions\n",
    ")\n",
    "# If we don't specify the input_file, only the structure files (in .cell format) are written\n",
    "defects_dict, distortion_metadata = Dist.write_fhi_aims_files()"
   ]
  },
  {
   "cell_type": "markdown",
   "id": "5fb0a9e1-06ef-4d15-a03d-dc637430d42b",
   "metadata": {
    "pycharm": {
     "name": "#%% md\n"
    }
   },
   "source": [
    "And for the default coarse structure-searching input settings have a look at the generated files:"
   ]
  },
  {
   "cell_type": "code",
   "execution_count": 108,
   "id": "8ec85e94",
   "metadata": {
    "collapsed": true,
    "jupyter": {
     "outputs_hidden": true
    },
    "pycharm": {
     "name": "#%%\n"
    },
    "tags": []
   },
   "outputs": [
    {
     "name": "stdout",
     "output_type": "stream",
     "text": [
      "#===============================================================================\n",
      "# FHI-aims file: ./v_Cd_0/Bond_Distortion_30.0%/control.in\n",
      "# Created using the Atomic Simulation Environment (ASE)\n",
      "# Wed Oct 19 11:19:30 2022\n",
      "#===============================================================================\n",
      "k_grid                             1 1 1\n",
      "relax_geometry                     bfgs 0.005\n",
      "xc                                 hse06 0.11\n",
      "hse_unit                           A\n",
      "spin                               collinear\n",
      "default_initial_moment             0\n",
      "hybrid_xc_coeff                    0.25\n",
      "charge                             0\n",
      "#===============================================================================\n",
      "\n"
     ]
    }
   ],
   "source": [
    "!cat ./v_Cd_0/Bond_Distortion_30.0%/control.in"
   ]
  },
  {
   "cell_type": "markdown",
   "id": "c038753a-29b0-4313-8578-11f3d11f508b",
   "metadata": {
    "pycharm": {
     "name": "#%% md\n"
    }
   },
   "source": [
    "These can be modified with the `ase_calculator` option of the `Distortion.write_fhi_aims_files()` method"
   ]
  }
 ],
 "metadata": {
  "kernelspec": {
   "display_name": "Python 3.8.10 ('snb_pymatgen')",
   "language": "python",
   "name": "python3"
  },
  "language_info": {
   "codemirror_mode": {
    "name": "ipython",
    "version": 3
   },
   "file_extension": ".py",
   "mimetype": "text/x-python",
   "name": "python",
   "nbconvert_exporter": "python",
   "pygments_lexer": "ipython3",
   "version": "3.8.10"
  },
  "vscode": {
   "interpreter": {
    "hash": "1e4d178e8fd51f341b1d2051e0a4fff4c0bca9e3c629efa7e6c953d340ab84dd"
   }
  }
 },
 "nbformat": 4,
 "nbformat_minor": 5
}
