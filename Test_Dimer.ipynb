{
 "cells": [
  {
   "cell_type": "markdown",
   "metadata": {},
   "source": [
    "# Test Dimer distortion"
   ]
  },
  {
   "cell_type": "code",
   "execution_count": 3,
   "metadata": {},
   "outputs": [
    {
     "name": "stderr",
     "output_type": "stream",
     "text": [
      "Generating DefectEntry objects: 100.0%|██████████| [00:06,  14.43it/s]"
     ]
    },
    {
     "name": "stdout",
     "output_type": "stream",
     "text": [
      "Vacancies    Charge States    Conv. Cell Coords    Wyckoff\n",
      "-----------  ---------------  -------------------  ---------\n",
      "v_Cd         [-2,-1,0,+1]     [0.000,0.000,0.000]  4a\n",
      "v_Te         [-1,0,+1,+2]     [0.250,0.250,0.250]  4c\n",
      "\n",
      "Substitutions    Charge States          Conv. Cell Coords    Wyckoff\n",
      "---------------  ---------------------  -------------------  ---------\n",
      "Cd_Te            [0,+1,+2,+3,+4]        [0.250,0.250,0.250]  4c\n",
      "Te_Cd            [-4,-3,-2,-1,0,+1,+2]  [0.000,0.000,0.000]  4a\n",
      "\n",
      "Interstitials    Charge States          Conv. Cell Coords    Wyckoff\n",
      "---------------  ---------------------  -------------------  ---------\n",
      "Cd_i_C3v         [0,+1,+2]              [0.625,0.625,0.625]  16e\n",
      "Cd_i_Td_Cd2.83   [0,+1,+2]              [0.750,0.750,0.750]  4d\n",
      "Cd_i_Td_Te2.83   [0,+1,+2]              [0.500,0.500,0.500]  4b\n",
      "Te_i_C3v         [-2,-1,0,+1,+2,+3,+4]  [0.625,0.625,0.625]  16e\n",
      "Te_i_Td_Cd2.83   [-2,-1,0,+1,+2,+3,+4]  [0.750,0.750,0.750]  4d\n",
      "Te_i_Td_Te2.83   [-2,-1,0,+1,+2,+3,+4]  [0.500,0.500,0.500]  4b\n",
      "\n",
      "The number in the Wyckoff label is the site multiplicity/degeneracy of that defect in the conventional ('conv.') unit cell, which comprises 4 formula unit(s) of CdTe.\n",
      "Note that Wyckoff letters can depend on the ordering of elements in the conventional standard structure, for which doped uses the spglib convention.\n"
     ]
    },
    {
     "name": "stderr",
     "output_type": "stream",
     "text": [
      "\n"
     ]
    }
   ],
   "source": [
    "from pymatgen.core.structure import Structure\n",
    "from doped.generation import DefectsGenerator\n",
    "\n",
    "bulk = Structure.from_file(\"./tests/data/vasp/CdTe/CdTe_Bulk_Primitive_POSCAR\")  # CdTe\n",
    "defect_gen = DefectsGenerator(bulk)"
   ]
  },
  {
   "cell_type": "code",
   "execution_count": 4,
   "metadata": {},
   "outputs": [
    {
     "data": {
      "text/plain": [
       "dict_keys(['v_Cd_-2', 'v_Cd_-1', 'v_Cd_0', 'v_Cd_+1', 'v_Te_-1', 'v_Te_0', 'v_Te_+1', 'v_Te_+2', 'Cd_Te_0', 'Cd_Te_+1', 'Cd_Te_+2', 'Cd_Te_+3', 'Cd_Te_+4', 'Te_Cd_-4', 'Te_Cd_-3', 'Te_Cd_-2', 'Te_Cd_-1', 'Te_Cd_0', 'Te_Cd_+1', 'Te_Cd_+2', 'Cd_i_C3v_0', 'Cd_i_C3v_+1', 'Cd_i_C3v_+2', 'Cd_i_Td_Cd2.83_0', 'Cd_i_Td_Cd2.83_+1', 'Cd_i_Td_Cd2.83_+2', 'Cd_i_Td_Te2.83_0', 'Cd_i_Td_Te2.83_+1', 'Cd_i_Td_Te2.83_+2', 'Te_i_C3v_-2', 'Te_i_C3v_-1', 'Te_i_C3v_0', 'Te_i_C3v_+1', 'Te_i_C3v_+2', 'Te_i_C3v_+3', 'Te_i_C3v_+4', 'Te_i_Td_Cd2.83_-2', 'Te_i_Td_Cd2.83_-1', 'Te_i_Td_Cd2.83_0', 'Te_i_Td_Cd2.83_+1', 'Te_i_Td_Cd2.83_+2', 'Te_i_Td_Cd2.83_+3', 'Te_i_Td_Cd2.83_+4', 'Te_i_Td_Te2.83_-2', 'Te_i_Td_Te2.83_-1', 'Te_i_Td_Te2.83_0', 'Te_i_Td_Te2.83_+1', 'Te_i_Td_Te2.83_+2', 'Te_i_Td_Te2.83_+3', 'Te_i_Td_Te2.83_+4'])"
      ]
     },
     "execution_count": 4,
     "metadata": {},
     "output_type": "execute_result"
    }
   ],
   "source": [
    "defect_gen.defect_entries.keys()"
   ]
  },
  {
   "cell_type": "code",
   "execution_count": 5,
   "metadata": {},
   "outputs": [],
   "source": [
    "defects = {\n",
    "    'v_Cd_0': defect_gen.defect_entries['v_Cd_0'],\n",
    "    'v_Cd_-1': defect_gen.defect_entries['v_Cd_-1'],\n",
    "    'v_Cd_-2': defect_gen.defect_entries['v_Cd_-2'],\n",
    "}"
   ]
  },
  {
   "cell_type": "code",
   "execution_count": 6,
   "metadata": {},
   "outputs": [
    {
     "name": "stdout",
     "output_type": "stream",
     "text": [
      "Oxidation states were not explicitly set, thus have been guessed as {'Cd': 2.0, 'Te': -2.0}. If this is unreasonable you should manually set oxidation_states\n"
     ]
    }
   ],
   "source": [
    "from shakenbreak.input import Distortions\n",
    "\n",
    "Dist = Distortions(\n",
    "    defects,\n",
    "    bond_distortions=[\"Dimer\",]\n",
    ")"
   ]
  },
  {
   "cell_type": "code",
   "execution_count": 7,
   "metadata": {},
   "outputs": [
    {
     "data": {
      "text/plain": [
       "['Dimer']"
      ]
     },
     "execution_count": 7,
     "metadata": {},
     "output_type": "execute_result"
    }
   ],
   "source": [
    "Dist.bond_distortions"
   ]
  },
  {
   "cell_type": "code",
   "execution_count": 8,
   "metadata": {},
   "outputs": [
    {
     "data": {
      "text/plain": [
       "{'distortion_parameters': {'distortion_increment': None,\n",
       "  'bond_distortions': ['Dimer'],\n",
       "  'local_rattle': False,\n",
       "  'mc_rattle_parameters': {'stdev': 0.28333683853583175}},\n",
       " 'defects': {}}"
      ]
     },
     "execution_count": 8,
     "metadata": {},
     "output_type": "execute_result"
    }
   ],
   "source": [
    "Dist.distortion_metadata"
   ]
  },
  {
   "cell_type": "code",
   "execution_count": 9,
   "metadata": {},
   "outputs": [
    {
     "name": "stdout",
     "output_type": "stream",
     "text": [
      "Applying ShakeNBreak... Will apply the following bond distortions: ['Dimer']. Then, will rattle with a std dev of 0.28 Å \n",
      "\n",
      "\u001b[1m\n",
      "Defect: v_Cd\u001b[0m\n",
      "\u001b[1mNumber of missing electrons in neutral state: 2\u001b[0m\n",
      "\n",
      "Defect v_Cd in charge state: 0. Number of distorted neighbours: 2\n",
      "\n",
      "Defect v_Cd in charge state: -1. Number of distorted neighbours: 1\n",
      "\n",
      "Defect v_Cd in charge state: -2. Number of distorted neighbours: 0\n"
     ]
    },
    {
     "name": "stderr",
     "output_type": "stream",
     "text": [
      "local_env.py:4133: UserWarning: No oxidation states specified on sites! For better results, set the site oxidation states in the structure.\n",
      "local_env.py:3927: UserWarning: CrystalNN: cannot locate an appropriate radius, covalent or atomic radii will be used, this can lead to non-optimal results.\n"
     ]
    }
   ],
   "source": [
    "defects_dict, distortion_metadata = Dist.apply_distortions()"
   ]
  },
  {
   "cell_type": "code",
   "execution_count": 10,
   "metadata": {},
   "outputs": [
    {
     "name": "stdout",
     "output_type": "stream",
     "text": [
      "Applying ShakeNBreak... Will apply the following bond distortions: ['Dimer']. Then, will rattle with a std dev of 0.28 Å \n",
      "\n",
      "\u001b[1m\n",
      "Defect: v_Cd\u001b[0m\n",
      "\u001b[1mNumber of missing electrons in neutral state: 2\u001b[0m\n",
      "\n",
      "Defect v_Cd in charge state: 0. Number of distorted neighbours: 2\n",
      "\n",
      "Defect v_Cd in charge state: -1. Number of distorted neighbours: 1\n",
      "\n",
      "Defect v_Cd in charge state: -2. Number of distorted neighbours: 0\n"
     ]
    },
    {
     "data": {
      "text/plain": [
       "({'v_Cd': {'defect_type': 'vacancy',\n",
       "   'defect_site': PeriodicSite: Cd (6.543, 6.543, 6.543) [0.5, 0.5, 0.5],\n",
       "   'defect_supercell_site': PeriodicSite: Cd (6.543, 6.543, 6.543) [0.5, 0.5, 0.5],\n",
       "   'defect_multiplicity': 1,\n",
       "   'charges': {0: {'structures': {'Unperturbed': Structure Summary\n",
       "      Lattice\n",
       "          abc : 13.086768 13.086768 13.086768\n",
       "       angles : 90.0 90.0 90.0\n",
       "       volume : 2241.2856479961474\n",
       "            A : 13.086768 0.0 0.0\n",
       "            B : 0.0 13.086768 0.0\n",
       "            C : 0.0 0.0 13.086768\n",
       "          pbc : True True True\n",
       "      PeriodicSite: Cd (6.543, 0.0, 0.0) [0.5, 0.0, 0.0]\n",
       "      PeriodicSite: Cd (9.815, 3.272, 0.0) [0.75, 0.25, 0.0]\n",
       "      PeriodicSite: Cd (9.815, 0.0, 3.272) [0.75, 0.0, 0.25]\n",
       "      PeriodicSite: Cd (0.0, 0.0, 0.0) [0.0, 0.0, 0.0]\n",
       "      PeriodicSite: Cd (3.272, 3.272, 0.0) [0.25, 0.25, 0.0]\n",
       "      PeriodicSite: Cd (6.543, 6.543, 0.0) [0.5, 0.5, 0.0]\n",
       "      PeriodicSite: Cd (9.815, 9.815, 0.0) [0.75, 0.75, 0.0]\n",
       "      PeriodicSite: Cd (3.272, 0.0, 3.272) [0.25, 0.0, 0.25]\n",
       "      PeriodicSite: Cd (6.543, 3.272, 3.272) [0.5, 0.25, 0.25]\n",
       "      PeriodicSite: Cd (9.815, 6.543, 3.272) [0.75, 0.5, 0.25]\n",
       "      PeriodicSite: Cd (6.543, 0.0, 6.543) [0.5, 0.0, 0.5]\n",
       "      PeriodicSite: Cd (9.815, 3.272, 6.543) [0.75, 0.25, 0.5]\n",
       "      PeriodicSite: Cd (9.815, 0.0, 9.815) [0.75, 0.0, 0.75]\n",
       "      PeriodicSite: Cd (0.0, 6.543, 0.0) [0.0, 0.5, 0.0]\n",
       "      PeriodicSite: Cd (3.272, 9.815, 0.0) [0.25, 0.75, 0.0]\n",
       "      PeriodicSite: Cd (0.0, 3.272, 3.272) [0.0, 0.25, 0.25]\n",
       "      PeriodicSite: Cd (3.272, 6.543, 3.272) [0.25, 0.5, 0.25]\n",
       "      PeriodicSite: Cd (6.543, 9.815, 3.272) [0.5, 0.75, 0.25]\n",
       "      PeriodicSite: Cd (0.0, 0.0, 6.543) [0.0, 0.0, 0.5]\n",
       "      PeriodicSite: Cd (3.272, 3.272, 6.543) [0.25, 0.25, 0.5]\n",
       "      PeriodicSite: Cd (9.815, 9.815, 6.543) [0.75, 0.75, 0.5]\n",
       "      PeriodicSite: Cd (3.272, 0.0, 9.815) [0.25, 0.0, 0.75]\n",
       "      PeriodicSite: Cd (6.543, 3.272, 9.815) [0.5, 0.25, 0.75]\n",
       "      PeriodicSite: Cd (9.815, 6.543, 9.815) [0.75, 0.5, 0.75]\n",
       "      PeriodicSite: Cd (0.0, 9.815, 3.272) [0.0, 0.75, 0.25]\n",
       "      PeriodicSite: Cd (0.0, 6.543, 6.543) [0.0, 0.5, 0.5]\n",
       "      PeriodicSite: Cd (3.272, 9.815, 6.543) [0.25, 0.75, 0.5]\n",
       "      PeriodicSite: Cd (0.0, 3.272, 9.815) [0.0, 0.25, 0.75]\n",
       "      PeriodicSite: Cd (3.272, 6.543, 9.815) [0.25, 0.5, 0.75]\n",
       "      PeriodicSite: Cd (6.543, 9.815, 9.815) [0.5, 0.75, 0.75]\n",
       "      PeriodicSite: Cd (0.0, 9.815, 9.815) [0.0, 0.75, 0.75]\n",
       "      PeriodicSite: Te (11.45, 4.908, 4.908) [0.875, 0.375, 0.375]\n",
       "      PeriodicSite: Te (1.636, 8.179, 4.908) [0.125, 0.625, 0.375]\n",
       "      PeriodicSite: Te (1.636, 4.908, 8.179) [0.125, 0.375, 0.625]\n",
       "      PeriodicSite: Te (4.908, 4.908, 4.908) [0.375, 0.375, 0.375]\n",
       "      PeriodicSite: Te (8.179, 8.179, 4.908) [0.625, 0.625, 0.375]\n",
       "      PeriodicSite: Te (11.45, 11.45, 4.908) [0.875, 0.875, 0.375]\n",
       "      PeriodicSite: Te (1.636, 1.636, 4.908) [0.125, 0.125, 0.375]\n",
       "      PeriodicSite: Te (8.179, 4.908, 8.179) [0.625, 0.375, 0.625]\n",
       "      PeriodicSite: Te (11.45, 8.179, 8.179) [0.875, 0.625, 0.625]\n",
       "      PeriodicSite: Te (1.636, 11.45, 8.179) [0.125, 0.875, 0.625]\n",
       "      PeriodicSite: Te (11.45, 4.908, 11.45) [0.875, 0.375, 0.875]\n",
       "      PeriodicSite: Te (1.636, 8.179, 11.45) [0.125, 0.625, 0.875]\n",
       "      PeriodicSite: Te (1.636, 4.908, 1.636) [0.125, 0.375, 0.125]\n",
       "      PeriodicSite: Te (4.908, 11.45, 4.908) [0.375, 0.875, 0.375]\n",
       "      PeriodicSite: Te (8.179, 1.636, 4.908) [0.625, 0.125, 0.375]\n",
       "      PeriodicSite: Te (4.908, 8.179, 8.179) [0.375, 0.625, 0.625]\n",
       "      PeriodicSite: Te (8.179, 11.45, 8.179) [0.625, 0.875, 0.625]\n",
       "      PeriodicSite: Te (11.45, 1.636, 8.179) [0.875, 0.125, 0.625]\n",
       "      PeriodicSite: Te (4.908, 4.908, 11.45) [0.375, 0.375, 0.875]\n",
       "      PeriodicSite: Te (8.179, 8.179, 11.45) [0.625, 0.625, 0.875]\n",
       "      PeriodicSite: Te (11.45, 11.45, 11.45) [0.875, 0.875, 0.875]\n",
       "      PeriodicSite: Te (1.636, 1.636, 11.45) [0.125, 0.125, 0.875]\n",
       "      PeriodicSite: Te (8.179, 4.908, 1.636) [0.625, 0.375, 0.125]\n",
       "      PeriodicSite: Te (11.45, 8.179, 1.636) [0.875, 0.625, 0.125]\n",
       "      PeriodicSite: Te (1.636, 11.45, 1.636) [0.125, 0.875, 0.125]\n",
       "      PeriodicSite: Te (4.908, 1.636, 8.179) [0.375, 0.125, 0.625]\n",
       "      PeriodicSite: Te (4.908, 11.45, 11.45) [0.375, 0.875, 0.875]\n",
       "      PeriodicSite: Te (8.179, 1.636, 11.45) [0.625, 0.125, 0.875]\n",
       "      PeriodicSite: Te (4.908, 8.179, 1.636) [0.375, 0.625, 0.125]\n",
       "      PeriodicSite: Te (8.179, 11.45, 1.636) [0.625, 0.875, 0.125]\n",
       "      PeriodicSite: Te (11.45, 1.636, 1.636) [0.875, 0.125, 0.125]\n",
       "      PeriodicSite: Te (4.908, 1.636, 1.636) [0.375, 0.125, 0.125],\n",
       "      'distortions': {'Dimer': Structure Summary\n",
       "       Lattice\n",
       "           abc : 13.086768 13.086768 13.086768\n",
       "        angles : 90.0 90.0 90.0\n",
       "        volume : 2241.2856479961474\n",
       "             A : 13.086768 0.0 0.0\n",
       "             B : 0.0 13.086768 0.0\n",
       "             C : 0.0 0.0 13.086768\n",
       "           pbc : True True True\n",
       "       PeriodicSite: Cd (6.543, 0.0, 0.0) [0.5, 0.0, 0.0]\n",
       "       PeriodicSite: Cd (9.815, 3.272, 0.0) [0.75, 0.25, 0.0]\n",
       "       PeriodicSite: Cd (9.815, 0.0, 3.272) [0.75, 0.0, 0.25]\n",
       "       PeriodicSite: Cd (0.0, 0.0, 0.0) [0.0, 0.0, 0.0]\n",
       "       PeriodicSite: Cd (3.272, 3.272, 0.0) [0.25, 0.25, 0.0]\n",
       "       PeriodicSite: Cd (6.543, 6.543, 0.0) [0.5, 0.5, 0.0]\n",
       "       PeriodicSite: Cd (9.815, 9.815, 0.0) [0.75, 0.75, 0.0]\n",
       "       PeriodicSite: Cd (3.272, 0.0, 3.272) [0.25, 0.0, 0.25]\n",
       "       PeriodicSite: Cd (6.543, 3.272, 3.272) [0.5, 0.25, 0.25]\n",
       "       PeriodicSite: Cd (9.815, 6.543, 3.272) [0.75, 0.5, 0.25]\n",
       "       PeriodicSite: Cd (6.543, 0.0, 6.543) [0.5, 0.0, 0.5]\n",
       "       PeriodicSite: Cd (9.815, 3.272, 6.543) [0.75, 0.25, 0.5]\n",
       "       PeriodicSite: Cd (9.815, 0.0, 9.815) [0.75, 0.0, 0.75]\n",
       "       PeriodicSite: Cd (0.0, 6.543, 0.0) [0.0, 0.5, 0.0]\n",
       "       PeriodicSite: Cd (3.272, 9.815, 0.0) [0.25, 0.75, 0.0]\n",
       "       PeriodicSite: Cd (0.0, 3.272, 3.272) [0.0, 0.25, 0.25]\n",
       "       PeriodicSite: Cd (3.272, 6.543, 3.272) [0.25, 0.5, 0.25]\n",
       "       PeriodicSite: Cd (6.543, 9.815, 3.272) [0.5, 0.75, 0.25]\n",
       "       PeriodicSite: Cd (0.0, 0.0, 6.543) [0.0, 0.0, 0.5]\n",
       "       PeriodicSite: Cd (3.272, 3.272, 6.543) [0.25, 0.25, 0.5]\n",
       "       PeriodicSite: Cd (9.815, 9.815, 6.543) [0.75, 0.75, 0.5]\n",
       "       PeriodicSite: Cd (3.272, 0.0, 9.815) [0.25, 0.0, 0.75]\n",
       "       PeriodicSite: Cd (6.543, 3.272, 9.815) [0.5, 0.25, 0.75]\n",
       "       PeriodicSite: Cd (9.815, 6.543, 9.815) [0.75, 0.5, 0.75]\n",
       "       PeriodicSite: Cd (0.0, 9.815, 3.272) [0.0, 0.75, 0.25]\n",
       "       PeriodicSite: Cd (0.0, 6.543, 6.543) [0.0, 0.5, 0.5]\n",
       "       PeriodicSite: Cd (3.272, 9.815, 6.543) [0.25, 0.75, 0.5]\n",
       "       PeriodicSite: Cd (0.0, 3.272, 9.815) [0.0, 0.25, 0.75]\n",
       "       PeriodicSite: Cd (3.272, 6.543, 9.815) [0.25, 0.5, 0.75]\n",
       "       PeriodicSite: Cd (6.543, 9.815, 9.815) [0.5, 0.75, 0.75]\n",
       "       PeriodicSite: Cd (0.0, 9.815, 9.815) [0.0, 0.75, 0.75]\n",
       "       PeriodicSite: Te (11.45, 4.908, 4.908) [0.875, 0.375, 0.375]\n",
       "       PeriodicSite: Te (1.636, 8.179, 4.908) [0.125, 0.625, 0.375]\n",
       "       PeriodicSite: Te (1.636, 4.908, 8.179) [0.125, 0.375, 0.625]\n",
       "       PeriodicSite: Te (4.908, 5.836, 5.836) [0.375, 0.446, 0.446]\n",
       "       PeriodicSite: Te (8.179, 8.179, 4.908) [0.625, 0.625, 0.375]\n",
       "       PeriodicSite: Te (11.45, 11.45, 4.908) [0.875, 0.875, 0.375]\n",
       "       PeriodicSite: Te (1.636, 1.636, 4.908) [0.125, 0.125, 0.375]\n",
       "       PeriodicSite: Te (8.179, 4.908, 8.179) [0.625, 0.375, 0.625]\n",
       "       PeriodicSite: Te (11.45, 8.179, 8.179) [0.875, 0.625, 0.625]\n",
       "       PeriodicSite: Te (1.636, 11.45, 8.179) [0.125, 0.875, 0.625]\n",
       "       PeriodicSite: Te (11.45, 4.908, 11.45) [0.875, 0.375, 0.875]\n",
       "       PeriodicSite: Te (1.636, 8.179, 11.45) [0.125, 0.625, 0.875]\n",
       "       PeriodicSite: Te (1.636, 4.908, 1.636) [0.125, 0.375, 0.125]\n",
       "       PeriodicSite: Te (4.908, 11.45, 4.908) [0.375, 0.875, 0.375]\n",
       "       PeriodicSite: Te (8.179, 1.636, 4.908) [0.625, 0.125, 0.375]\n",
       "       PeriodicSite: Te (4.908, 7.25, 7.25) [0.375, 0.554, 0.554]\n",
       "       PeriodicSite: Te (8.179, 11.45, 8.179) [0.625, 0.875, 0.625]\n",
       "       PeriodicSite: Te (11.45, 1.636, 8.179) [0.875, 0.125, 0.625]\n",
       "       PeriodicSite: Te (4.908, 4.908, 11.45) [0.375, 0.375, 0.875]\n",
       "       PeriodicSite: Te (8.179, 8.179, 11.45) [0.625, 0.625, 0.875]\n",
       "       PeriodicSite: Te (11.45, 11.45, 11.45) [0.875, 0.875, 0.875]\n",
       "       PeriodicSite: Te (1.636, 1.636, 11.45) [0.125, 0.125, 0.875]\n",
       "       PeriodicSite: Te (8.179, 4.908, 1.636) [0.625, 0.375, 0.125]\n",
       "       PeriodicSite: Te (11.45, 8.179, 1.636) [0.875, 0.625, 0.125]\n",
       "       PeriodicSite: Te (1.636, 11.45, 1.636) [0.125, 0.875, 0.125]\n",
       "       PeriodicSite: Te (4.908, 1.636, 8.179) [0.375, 0.125, 0.625]\n",
       "       PeriodicSite: Te (4.908, 11.45, 11.45) [0.375, 0.875, 0.875]\n",
       "       PeriodicSite: Te (8.179, 1.636, 11.45) [0.625, 0.125, 0.875]\n",
       "       PeriodicSite: Te (4.908, 8.179, 1.636) [0.375, 0.625, 0.125]\n",
       "       PeriodicSite: Te (8.179, 11.45, 1.636) [0.625, 0.875, 0.125]\n",
       "       PeriodicSite: Te (11.45, 1.636, 1.636) [0.875, 0.125, 0.125]\n",
       "       PeriodicSite: Te (4.908, 1.636, 1.636) [0.375, 0.125, 0.125]}}},\n",
       "    -1: {'structures': {'Unperturbed': Structure Summary\n",
       "      Lattice\n",
       "          abc : 13.086768 13.086768 13.086768\n",
       "       angles : 90.0 90.0 90.0\n",
       "       volume : 2241.2856479961474\n",
       "            A : 13.086768 0.0 0.0\n",
       "            B : 0.0 13.086768 0.0\n",
       "            C : 0.0 0.0 13.086768\n",
       "          pbc : True True True\n",
       "      PeriodicSite: Cd (6.543, 0.0, 0.0) [0.5, 0.0, 0.0]\n",
       "      PeriodicSite: Cd (9.815, 3.272, 0.0) [0.75, 0.25, 0.0]\n",
       "      PeriodicSite: Cd (9.815, 0.0, 3.272) [0.75, 0.0, 0.25]\n",
       "      PeriodicSite: Cd (0.0, 0.0, 0.0) [0.0, 0.0, 0.0]\n",
       "      PeriodicSite: Cd (3.272, 3.272, 0.0) [0.25, 0.25, 0.0]\n",
       "      PeriodicSite: Cd (6.543, 6.543, 0.0) [0.5, 0.5, 0.0]\n",
       "      PeriodicSite: Cd (9.815, 9.815, 0.0) [0.75, 0.75, 0.0]\n",
       "      PeriodicSite: Cd (3.272, 0.0, 3.272) [0.25, 0.0, 0.25]\n",
       "      PeriodicSite: Cd (6.543, 3.272, 3.272) [0.5, 0.25, 0.25]\n",
       "      PeriodicSite: Cd (9.815, 6.543, 3.272) [0.75, 0.5, 0.25]\n",
       "      PeriodicSite: Cd (6.543, 0.0, 6.543) [0.5, 0.0, 0.5]\n",
       "      PeriodicSite: Cd (9.815, 3.272, 6.543) [0.75, 0.25, 0.5]\n",
       "      PeriodicSite: Cd (9.815, 0.0, 9.815) [0.75, 0.0, 0.75]\n",
       "      PeriodicSite: Cd (0.0, 6.543, 0.0) [0.0, 0.5, 0.0]\n",
       "      PeriodicSite: Cd (3.272, 9.815, 0.0) [0.25, 0.75, 0.0]\n",
       "      PeriodicSite: Cd (0.0, 3.272, 3.272) [0.0, 0.25, 0.25]\n",
       "      PeriodicSite: Cd (3.272, 6.543, 3.272) [0.25, 0.5, 0.25]\n",
       "      PeriodicSite: Cd (6.543, 9.815, 3.272) [0.5, 0.75, 0.25]\n",
       "      PeriodicSite: Cd (0.0, 0.0, 6.543) [0.0, 0.0, 0.5]\n",
       "      PeriodicSite: Cd (3.272, 3.272, 6.543) [0.25, 0.25, 0.5]\n",
       "      PeriodicSite: Cd (9.815, 9.815, 6.543) [0.75, 0.75, 0.5]\n",
       "      PeriodicSite: Cd (3.272, 0.0, 9.815) [0.25, 0.0, 0.75]\n",
       "      PeriodicSite: Cd (6.543, 3.272, 9.815) [0.5, 0.25, 0.75]\n",
       "      PeriodicSite: Cd (9.815, 6.543, 9.815) [0.75, 0.5, 0.75]\n",
       "      PeriodicSite: Cd (0.0, 9.815, 3.272) [0.0, 0.75, 0.25]\n",
       "      PeriodicSite: Cd (0.0, 6.543, 6.543) [0.0, 0.5, 0.5]\n",
       "      PeriodicSite: Cd (3.272, 9.815, 6.543) [0.25, 0.75, 0.5]\n",
       "      PeriodicSite: Cd (0.0, 3.272, 9.815) [0.0, 0.25, 0.75]\n",
       "      PeriodicSite: Cd (3.272, 6.543, 9.815) [0.25, 0.5, 0.75]\n",
       "      PeriodicSite: Cd (6.543, 9.815, 9.815) [0.5, 0.75, 0.75]\n",
       "      PeriodicSite: Cd (0.0, 9.815, 9.815) [0.0, 0.75, 0.75]\n",
       "      PeriodicSite: Te (11.45, 4.908, 4.908) [0.875, 0.375, 0.375]\n",
       "      PeriodicSite: Te (1.636, 8.179, 4.908) [0.125, 0.625, 0.375]\n",
       "      PeriodicSite: Te (1.636, 4.908, 8.179) [0.125, 0.375, 0.625]\n",
       "      PeriodicSite: Te (4.908, 4.908, 4.908) [0.375, 0.375, 0.375]\n",
       "      PeriodicSite: Te (8.179, 8.179, 4.908) [0.625, 0.625, 0.375]\n",
       "      PeriodicSite: Te (11.45, 11.45, 4.908) [0.875, 0.875, 0.375]\n",
       "      PeriodicSite: Te (1.636, 1.636, 4.908) [0.125, 0.125, 0.375]\n",
       "      PeriodicSite: Te (8.179, 4.908, 8.179) [0.625, 0.375, 0.625]\n",
       "      PeriodicSite: Te (11.45, 8.179, 8.179) [0.875, 0.625, 0.625]\n",
       "      PeriodicSite: Te (1.636, 11.45, 8.179) [0.125, 0.875, 0.625]\n",
       "      PeriodicSite: Te (11.45, 4.908, 11.45) [0.875, 0.375, 0.875]\n",
       "      PeriodicSite: Te (1.636, 8.179, 11.45) [0.125, 0.625, 0.875]\n",
       "      PeriodicSite: Te (1.636, 4.908, 1.636) [0.125, 0.375, 0.125]\n",
       "      PeriodicSite: Te (4.908, 11.45, 4.908) [0.375, 0.875, 0.375]\n",
       "      PeriodicSite: Te (8.179, 1.636, 4.908) [0.625, 0.125, 0.375]\n",
       "      PeriodicSite: Te (4.908, 8.179, 8.179) [0.375, 0.625, 0.625]\n",
       "      PeriodicSite: Te (8.179, 11.45, 8.179) [0.625, 0.875, 0.625]\n",
       "      PeriodicSite: Te (11.45, 1.636, 8.179) [0.875, 0.125, 0.625]\n",
       "      PeriodicSite: Te (4.908, 4.908, 11.45) [0.375, 0.375, 0.875]\n",
       "      PeriodicSite: Te (8.179, 8.179, 11.45) [0.625, 0.625, 0.875]\n",
       "      PeriodicSite: Te (11.45, 11.45, 11.45) [0.875, 0.875, 0.875]\n",
       "      PeriodicSite: Te (1.636, 1.636, 11.45) [0.125, 0.125, 0.875]\n",
       "      PeriodicSite: Te (8.179, 4.908, 1.636) [0.625, 0.375, 0.125]\n",
       "      PeriodicSite: Te (11.45, 8.179, 1.636) [0.875, 0.625, 0.125]\n",
       "      PeriodicSite: Te (1.636, 11.45, 1.636) [0.125, 0.875, 0.125]\n",
       "      PeriodicSite: Te (4.908, 1.636, 8.179) [0.375, 0.125, 0.625]\n",
       "      PeriodicSite: Te (4.908, 11.45, 11.45) [0.375, 0.875, 0.875]\n",
       "      PeriodicSite: Te (8.179, 1.636, 11.45) [0.625, 0.125, 0.875]\n",
       "      PeriodicSite: Te (4.908, 8.179, 1.636) [0.375, 0.625, 0.125]\n",
       "      PeriodicSite: Te (8.179, 11.45, 1.636) [0.625, 0.875, 0.125]\n",
       "      PeriodicSite: Te (11.45, 1.636, 1.636) [0.875, 0.125, 0.125]\n",
       "      PeriodicSite: Te (4.908, 1.636, 1.636) [0.375, 0.125, 0.125],\n",
       "      'distortions': {'Dimer': Structure Summary\n",
       "       Lattice\n",
       "           abc : 13.086768 13.086768 13.086768\n",
       "        angles : 90.0 90.0 90.0\n",
       "        volume : 2241.2856479961474\n",
       "             A : 13.086768 0.0 0.0\n",
       "             B : 0.0 13.086768 0.0\n",
       "             C : 0.0 0.0 13.086768\n",
       "           pbc : True True True\n",
       "       PeriodicSite: Cd (6.543, 0.0, 0.0) [0.5, 0.0, 0.0]\n",
       "       PeriodicSite: Cd (9.815, 3.272, 0.0) [0.75, 0.25, 0.0]\n",
       "       PeriodicSite: Cd (9.815, 0.0, 3.272) [0.75, 0.0, 0.25]\n",
       "       PeriodicSite: Cd (0.0, 0.0, 0.0) [0.0, 0.0, 0.0]\n",
       "       PeriodicSite: Cd (3.272, 3.272, 0.0) [0.25, 0.25, 0.0]\n",
       "       PeriodicSite: Cd (6.543, 6.543, 0.0) [0.5, 0.5, 0.0]\n",
       "       PeriodicSite: Cd (9.815, 9.815, 0.0) [0.75, 0.75, 0.0]\n",
       "       PeriodicSite: Cd (3.272, 0.0, 3.272) [0.25, 0.0, 0.25]\n",
       "       PeriodicSite: Cd (6.543, 3.272, 3.272) [0.5, 0.25, 0.25]\n",
       "       PeriodicSite: Cd (9.815, 6.543, 3.272) [0.75, 0.5, 0.25]\n",
       "       PeriodicSite: Cd (6.543, 0.0, 6.543) [0.5, 0.0, 0.5]\n",
       "       PeriodicSite: Cd (9.815, 3.272, 6.543) [0.75, 0.25, 0.5]\n",
       "       PeriodicSite: Cd (9.815, 0.0, 9.815) [0.75, 0.0, 0.75]\n",
       "       PeriodicSite: Cd (0.0, 6.543, 0.0) [0.0, 0.5, 0.0]\n",
       "       PeriodicSite: Cd (3.272, 9.815, 0.0) [0.25, 0.75, 0.0]\n",
       "       PeriodicSite: Cd (0.0, 3.272, 3.272) [0.0, 0.25, 0.25]\n",
       "       PeriodicSite: Cd (3.272, 6.543, 3.272) [0.25, 0.5, 0.25]\n",
       "       PeriodicSite: Cd (6.543, 9.815, 3.272) [0.5, 0.75, 0.25]\n",
       "       PeriodicSite: Cd (0.0, 0.0, 6.543) [0.0, 0.0, 0.5]\n",
       "       PeriodicSite: Cd (3.272, 3.272, 6.543) [0.25, 0.25, 0.5]\n",
       "       PeriodicSite: Cd (9.815, 9.815, 6.543) [0.75, 0.75, 0.5]\n",
       "       PeriodicSite: Cd (3.272, 0.0, 9.815) [0.25, 0.0, 0.75]\n",
       "       PeriodicSite: Cd (6.543, 3.272, 9.815) [0.5, 0.25, 0.75]\n",
       "       PeriodicSite: Cd (9.815, 6.543, 9.815) [0.75, 0.5, 0.75]\n",
       "       PeriodicSite: Cd (0.0, 9.815, 3.272) [0.0, 0.75, 0.25]\n",
       "       PeriodicSite: Cd (0.0, 6.543, 6.543) [0.0, 0.5, 0.5]\n",
       "       PeriodicSite: Cd (3.272, 9.815, 6.543) [0.25, 0.75, 0.5]\n",
       "       PeriodicSite: Cd (0.0, 3.272, 9.815) [0.0, 0.25, 0.75]\n",
       "       PeriodicSite: Cd (3.272, 6.543, 9.815) [0.25, 0.5, 0.75]\n",
       "       PeriodicSite: Cd (6.543, 9.815, 9.815) [0.5, 0.75, 0.75]\n",
       "       PeriodicSite: Cd (0.0, 9.815, 9.815) [0.0, 0.75, 0.75]\n",
       "       PeriodicSite: Te (11.45, 4.908, 4.908) [0.875, 0.375, 0.375]\n",
       "       PeriodicSite: Te (1.636, 8.179, 4.908) [0.125, 0.625, 0.375]\n",
       "       PeriodicSite: Te (1.636, 4.908, 8.179) [0.125, 0.375, 0.625]\n",
       "       PeriodicSite: Te (4.908, 5.836, 5.836) [0.375, 0.446, 0.446]\n",
       "       PeriodicSite: Te (8.179, 8.179, 4.908) [0.625, 0.625, 0.375]\n",
       "       PeriodicSite: Te (11.45, 11.45, 4.908) [0.875, 0.875, 0.375]\n",
       "       PeriodicSite: Te (1.636, 1.636, 4.908) [0.125, 0.125, 0.375]\n",
       "       PeriodicSite: Te (8.179, 4.908, 8.179) [0.625, 0.375, 0.625]\n",
       "       PeriodicSite: Te (11.45, 8.179, 8.179) [0.875, 0.625, 0.625]\n",
       "       PeriodicSite: Te (1.636, 11.45, 8.179) [0.125, 0.875, 0.625]\n",
       "       PeriodicSite: Te (11.45, 4.908, 11.45) [0.875, 0.375, 0.875]\n",
       "       PeriodicSite: Te (1.636, 8.179, 11.45) [0.125, 0.625, 0.875]\n",
       "       PeriodicSite: Te (1.636, 4.908, 1.636) [0.125, 0.375, 0.125]\n",
       "       PeriodicSite: Te (4.908, 11.45, 4.908) [0.375, 0.875, 0.375]\n",
       "       PeriodicSite: Te (8.179, 1.636, 4.908) [0.625, 0.125, 0.375]\n",
       "       PeriodicSite: Te (4.908, 7.25, 7.25) [0.375, 0.554, 0.554]\n",
       "       PeriodicSite: Te (8.179, 11.45, 8.179) [0.625, 0.875, 0.625]\n",
       "       PeriodicSite: Te (11.45, 1.636, 8.179) [0.875, 0.125, 0.625]\n",
       "       PeriodicSite: Te (4.908, 4.908, 11.45) [0.375, 0.375, 0.875]\n",
       "       PeriodicSite: Te (8.179, 8.179, 11.45) [0.625, 0.625, 0.875]\n",
       "       PeriodicSite: Te (11.45, 11.45, 11.45) [0.875, 0.875, 0.875]\n",
       "       PeriodicSite: Te (1.636, 1.636, 11.45) [0.125, 0.125, 0.875]\n",
       "       PeriodicSite: Te (8.179, 4.908, 1.636) [0.625, 0.375, 0.125]\n",
       "       PeriodicSite: Te (11.45, 8.179, 1.636) [0.875, 0.625, 0.125]\n",
       "       PeriodicSite: Te (1.636, 11.45, 1.636) [0.125, 0.875, 0.125]\n",
       "       PeriodicSite: Te (4.908, 1.636, 8.179) [0.375, 0.125, 0.625]\n",
       "       PeriodicSite: Te (4.908, 11.45, 11.45) [0.375, 0.875, 0.875]\n",
       "       PeriodicSite: Te (8.179, 1.636, 11.45) [0.625, 0.125, 0.875]\n",
       "       PeriodicSite: Te (4.908, 8.179, 1.636) [0.375, 0.625, 0.125]\n",
       "       PeriodicSite: Te (8.179, 11.45, 1.636) [0.625, 0.875, 0.125]\n",
       "       PeriodicSite: Te (11.45, 1.636, 1.636) [0.875, 0.125, 0.125]\n",
       "       PeriodicSite: Te (4.908, 1.636, 1.636) [0.375, 0.125, 0.125]}}},\n",
       "    -2: {'structures': {'Unperturbed': Structure Summary\n",
       "      Lattice\n",
       "          abc : 13.086768 13.086768 13.086768\n",
       "       angles : 90.0 90.0 90.0\n",
       "       volume : 2241.2856479961474\n",
       "            A : 13.086768 0.0 0.0\n",
       "            B : 0.0 13.086768 0.0\n",
       "            C : 0.0 0.0 13.086768\n",
       "          pbc : True True True\n",
       "      PeriodicSite: Cd (6.543, 0.0, 0.0) [0.5, 0.0, 0.0]\n",
       "      PeriodicSite: Cd (9.815, 3.272, 0.0) [0.75, 0.25, 0.0]\n",
       "      PeriodicSite: Cd (9.815, 0.0, 3.272) [0.75, 0.0, 0.25]\n",
       "      PeriodicSite: Cd (0.0, 0.0, 0.0) [0.0, 0.0, 0.0]\n",
       "      PeriodicSite: Cd (3.272, 3.272, 0.0) [0.25, 0.25, 0.0]\n",
       "      PeriodicSite: Cd (6.543, 6.543, 0.0) [0.5, 0.5, 0.0]\n",
       "      PeriodicSite: Cd (9.815, 9.815, 0.0) [0.75, 0.75, 0.0]\n",
       "      PeriodicSite: Cd (3.272, 0.0, 3.272) [0.25, 0.0, 0.25]\n",
       "      PeriodicSite: Cd (6.543, 3.272, 3.272) [0.5, 0.25, 0.25]\n",
       "      PeriodicSite: Cd (9.815, 6.543, 3.272) [0.75, 0.5, 0.25]\n",
       "      PeriodicSite: Cd (6.543, 0.0, 6.543) [0.5, 0.0, 0.5]\n",
       "      PeriodicSite: Cd (9.815, 3.272, 6.543) [0.75, 0.25, 0.5]\n",
       "      PeriodicSite: Cd (9.815, 0.0, 9.815) [0.75, 0.0, 0.75]\n",
       "      PeriodicSite: Cd (0.0, 6.543, 0.0) [0.0, 0.5, 0.0]\n",
       "      PeriodicSite: Cd (3.272, 9.815, 0.0) [0.25, 0.75, 0.0]\n",
       "      PeriodicSite: Cd (0.0, 3.272, 3.272) [0.0, 0.25, 0.25]\n",
       "      PeriodicSite: Cd (3.272, 6.543, 3.272) [0.25, 0.5, 0.25]\n",
       "      PeriodicSite: Cd (6.543, 9.815, 3.272) [0.5, 0.75, 0.25]\n",
       "      PeriodicSite: Cd (0.0, 0.0, 6.543) [0.0, 0.0, 0.5]\n",
       "      PeriodicSite: Cd (3.272, 3.272, 6.543) [0.25, 0.25, 0.5]\n",
       "      PeriodicSite: Cd (9.815, 9.815, 6.543) [0.75, 0.75, 0.5]\n",
       "      PeriodicSite: Cd (3.272, 0.0, 9.815) [0.25, 0.0, 0.75]\n",
       "      PeriodicSite: Cd (6.543, 3.272, 9.815) [0.5, 0.25, 0.75]\n",
       "      PeriodicSite: Cd (9.815, 6.543, 9.815) [0.75, 0.5, 0.75]\n",
       "      PeriodicSite: Cd (0.0, 9.815, 3.272) [0.0, 0.75, 0.25]\n",
       "      PeriodicSite: Cd (0.0, 6.543, 6.543) [0.0, 0.5, 0.5]\n",
       "      PeriodicSite: Cd (3.272, 9.815, 6.543) [0.25, 0.75, 0.5]\n",
       "      PeriodicSite: Cd (0.0, 3.272, 9.815) [0.0, 0.25, 0.75]\n",
       "      PeriodicSite: Cd (3.272, 6.543, 9.815) [0.25, 0.5, 0.75]\n",
       "      PeriodicSite: Cd (6.543, 9.815, 9.815) [0.5, 0.75, 0.75]\n",
       "      PeriodicSite: Cd (0.0, 9.815, 9.815) [0.0, 0.75, 0.75]\n",
       "      PeriodicSite: Te (11.45, 4.908, 4.908) [0.875, 0.375, 0.375]\n",
       "      PeriodicSite: Te (1.636, 8.179, 4.908) [0.125, 0.625, 0.375]\n",
       "      PeriodicSite: Te (1.636, 4.908, 8.179) [0.125, 0.375, 0.625]\n",
       "      PeriodicSite: Te (4.908, 4.908, 4.908) [0.375, 0.375, 0.375]\n",
       "      PeriodicSite: Te (8.179, 8.179, 4.908) [0.625, 0.625, 0.375]\n",
       "      PeriodicSite: Te (11.45, 11.45, 4.908) [0.875, 0.875, 0.375]\n",
       "      PeriodicSite: Te (1.636, 1.636, 4.908) [0.125, 0.125, 0.375]\n",
       "      PeriodicSite: Te (8.179, 4.908, 8.179) [0.625, 0.375, 0.625]\n",
       "      PeriodicSite: Te (11.45, 8.179, 8.179) [0.875, 0.625, 0.625]\n",
       "      PeriodicSite: Te (1.636, 11.45, 8.179) [0.125, 0.875, 0.625]\n",
       "      PeriodicSite: Te (11.45, 4.908, 11.45) [0.875, 0.375, 0.875]\n",
       "      PeriodicSite: Te (1.636, 8.179, 11.45) [0.125, 0.625, 0.875]\n",
       "      PeriodicSite: Te (1.636, 4.908, 1.636) [0.125, 0.375, 0.125]\n",
       "      PeriodicSite: Te (4.908, 11.45, 4.908) [0.375, 0.875, 0.375]\n",
       "      PeriodicSite: Te (8.179, 1.636, 4.908) [0.625, 0.125, 0.375]\n",
       "      PeriodicSite: Te (4.908, 8.179, 8.179) [0.375, 0.625, 0.625]\n",
       "      PeriodicSite: Te (8.179, 11.45, 8.179) [0.625, 0.875, 0.625]\n",
       "      PeriodicSite: Te (11.45, 1.636, 8.179) [0.875, 0.125, 0.625]\n",
       "      PeriodicSite: Te (4.908, 4.908, 11.45) [0.375, 0.375, 0.875]\n",
       "      PeriodicSite: Te (8.179, 8.179, 11.45) [0.625, 0.625, 0.875]\n",
       "      PeriodicSite: Te (11.45, 11.45, 11.45) [0.875, 0.875, 0.875]\n",
       "      PeriodicSite: Te (1.636, 1.636, 11.45) [0.125, 0.125, 0.875]\n",
       "      PeriodicSite: Te (8.179, 4.908, 1.636) [0.625, 0.375, 0.125]\n",
       "      PeriodicSite: Te (11.45, 8.179, 1.636) [0.875, 0.625, 0.125]\n",
       "      PeriodicSite: Te (1.636, 11.45, 1.636) [0.125, 0.875, 0.125]\n",
       "      PeriodicSite: Te (4.908, 1.636, 8.179) [0.375, 0.125, 0.625]\n",
       "      PeriodicSite: Te (4.908, 11.45, 11.45) [0.375, 0.875, 0.875]\n",
       "      PeriodicSite: Te (8.179, 1.636, 11.45) [0.625, 0.125, 0.875]\n",
       "      PeriodicSite: Te (4.908, 8.179, 1.636) [0.375, 0.625, 0.125]\n",
       "      PeriodicSite: Te (8.179, 11.45, 1.636) [0.625, 0.875, 0.125]\n",
       "      PeriodicSite: Te (11.45, 1.636, 1.636) [0.875, 0.125, 0.125]\n",
       "      PeriodicSite: Te (4.908, 1.636, 1.636) [0.375, 0.125, 0.125],\n",
       "      'distortions': {'Rattled': Structure Summary\n",
       "       Lattice\n",
       "           abc : 13.086768 13.086768 13.086768\n",
       "        angles : 90.0 90.0 90.0\n",
       "        volume : 2241.2856479961474\n",
       "             A : 13.086768 0.0 0.0\n",
       "             B : 0.0 13.086768 0.0\n",
       "             C : 0.0 0.0 13.086768\n",
       "           pbc : True True True\n",
       "       PeriodicSite: Cd (6.776, 0.2499, 0.02026) [0.5178, 0.0191, 0.001548]\n",
       "       PeriodicSite: Cd (10.22, 3.208, 0.1487) [0.7808, 0.2452, 0.01136]\n",
       "       PeriodicSite: Cd (9.794, -0.02858, 2.947) [0.7484, -0.002184, 0.2252]\n",
       "       PeriodicSite: Cd (-0.4122, 0.2974, -0.271) [-0.0315, 0.02272, -0.02071]\n",
       "       PeriodicSite: Cd (3.102, 3.192, -0.2704) [0.237, 0.2439, -0.02066]\n",
       "       PeriodicSite: Cd (6.627, 6.82, -0.4001) [0.5064, 0.5211, -0.03057]\n",
       "       PeriodicSite: Cd (9.298, 10.15, -0.1669) [0.7105, 0.7759, -0.01275]\n",
       "       PeriodicSite: Cd (3.115, 0.2455, 2.9) [0.238, 0.01876, 0.2216]\n",
       "       PeriodicSite: Cd (6.431, 2.639, 3.331) [0.4914, 0.2016, 0.2546]\n",
       "       PeriodicSite: Cd (9.74, 6.329, 3.538) [0.7442, 0.4836, 0.2703]\n",
       "       PeriodicSite: Cd (6.552, 0.4754, 6.299) [0.5007, 0.03633, 0.4813]\n",
       "       PeriodicSite: Cd (10.06, 3.335, 6.281) [0.7686, 0.2548, 0.4799]\n",
       "       PeriodicSite: Cd (9.92, 0.03925, 10.4) [0.758, 0.002999, 0.7947]\n",
       "       PeriodicSite: Cd (0.07354, 6.813, 0.1364) [0.00562, 0.5206, 0.01042]\n",
       "       PeriodicSite: Cd (2.996, 9.608, 0.3128) [0.229, 0.7342, 0.0239]\n",
       "       PeriodicSite: Cd (-0.1834, 3.351, 3.096) [-0.01401, 0.2561, 0.2366]\n",
       "       PeriodicSite: Cd (3.596, 6.429, 3.2) [0.2747, 0.4913, 0.2445]\n",
       "       PeriodicSite: Cd (6.726, 10.07, 2.916) [0.5139, 0.7697, 0.2228]\n",
       "       PeriodicSite: Cd (-0.1172, -0.5479, 6.693) [-0.008952, -0.04187, 0.5115]\n",
       "       PeriodicSite: Cd (3.484, 3.394, 6.358) [0.2662, 0.2594, 0.4858]\n",
       "       PeriodicSite: Cd (10.22, 9.907, 6.423) [0.7809, 0.757, 0.4908]\n",
       "       PeriodicSite: Cd (2.698, -0.1605, 9.745) [0.2061, -0.01226, 0.7447]\n",
       "       PeriodicSite: Cd (6.688, 3.501, 9.61) [0.5111, 0.2675, 0.7343]\n",
       "       PeriodicSite: Cd (9.894, 6.283, 9.413) [0.756, 0.4801, 0.7193]\n",
       "       PeriodicSite: Cd (0.5605, 9.386, 3.213) [0.04283, 0.7172, 0.2455]\n",
       "       PeriodicSite: Cd (0.3798, 6.835, 6.403) [0.02902, 0.5223, 0.4893]\n",
       "       PeriodicSite: Cd (3.531, 9.717, 7.051) [0.2698, 0.7425, 0.5388]\n",
       "       PeriodicSite: Cd (0.237, 3.409, 9.94) [0.01811, 0.2605, 0.7596]\n",
       "       PeriodicSite: Cd (3.199, 6.578, 9.722) [0.2445, 0.5026, 0.7429]\n",
       "       PeriodicSite: Cd (6.451, 10.2, 9.833) [0.4929, 0.7792, 0.7514]\n",
       "       PeriodicSite: Cd (0.09249, 9.932, 10.49) [0.007067, 0.7589, 0.8013]\n",
       "       PeriodicSite: Te (11.27, 4.808, 4.497) [0.8613, 0.3674, 0.3436]\n",
       "       PeriodicSite: Te (1.733, 8.144, 4.834) [0.1325, 0.6223, 0.3694]\n",
       "       PeriodicSite: Te (1.686, 4.691, 7.752) [0.1288, 0.3585, 0.5924]\n",
       "       PeriodicSite: Te (4.88, 5.177, 4.987) [0.3729, 0.3956, 0.3811]\n",
       "       PeriodicSite: Te (8.005, 8.466, 5.166) [0.6117, 0.6469, 0.3948]\n",
       "       PeriodicSite: Te (11.48, 11.33, 4.578) [0.8774, 0.8656, 0.3498]\n",
       "       PeriodicSite: Te (1.671, 1.887, 5.189) [0.1277, 0.1442, 0.3965]\n",
       "       PeriodicSite: Te (8.019, 4.856, 7.997) [0.6127, 0.371, 0.6111]\n",
       "       PeriodicSite: Te (11.2, 8.312, 8.001) [0.856, 0.6351, 0.6114]\n",
       "       PeriodicSite: Te (1.64, 11.29, 7.71) [0.1253, 0.8625, 0.5892]\n",
       "       PeriodicSite: Te (11.91, 4.654, 11.25) [0.9102, 0.3556, 0.8596]\n",
       "       PeriodicSite: Te (1.838, 8.228, 11.35) [0.1404, 0.6287, 0.8675]\n",
       "       PeriodicSite: Te (2.336, 4.438, 1.636) [0.1785, 0.3391, 0.125]\n",
       "       PeriodicSite: Te (4.821, 11.3, 5.306) [0.3684, 0.8637, 0.4054]\n",
       "       PeriodicSite: Te (8.258, 1.897, 5.124) [0.631, 0.145, 0.3915]\n",
       "       PeriodicSite: Te (5.353, 8.218, 7.731) [0.409, 0.628, 0.5908]\n",
       "       PeriodicSite: Te (8.514, 11.36, 8.754) [0.6506, 0.8681, 0.6689]\n",
       "       PeriodicSite: Te (11.76, 1.627, 7.887) [0.8986, 0.1243, 0.6026]\n",
       "       PeriodicSite: Te (5.274, 4.923, 11.51) [0.403, 0.3762, 0.8792]\n",
       "       PeriodicSite: Te (8.407, 8.179, 11.37) [0.6424, 0.625, 0.8686]\n",
       "       PeriodicSite: Te (11.59, 11.47, 11.38) [0.8853, 0.8768, 0.8696]\n",
       "       PeriodicSite: Te (1.702, 1.79, 11.34) [0.1301, 0.1368, 0.8665]\n",
       "       PeriodicSite: Te (8.427, 4.601, 1.687) [0.644, 0.3516, 0.1289]\n",
       "       PeriodicSite: Te (11.55, 8.273, 2.054) [0.8827, 0.6322, 0.1569]\n",
       "       PeriodicSite: Te (1.701, 11.74, 1.646) [0.13, 0.8973, 0.1258]\n",
       "       PeriodicSite: Te (5.031, 2.14, 7.997) [0.3844, 0.1635, 0.6111]\n",
       "       PeriodicSite: Te (4.478, 11.68, 11.37) [0.3422, 0.8921, 0.8687]\n",
       "       PeriodicSite: Te (8.217, 1.229, 11.53) [0.6279, 0.09388, 0.8807]\n",
       "       PeriodicSite: Te (4.878, 8.331, 1.851) [0.3728, 0.6366, 0.1415]\n",
       "       PeriodicSite: Te (8.098, 11.73, 1.492) [0.6188, 0.8966, 0.114]\n",
       "       PeriodicSite: Te (11.11, 1.918, 1.833) [0.8487, 0.1465, 0.14]\n",
       "       PeriodicSite: Te (5.421, 1.7, 1.446) [0.4143, 0.1299, 0.1105],\n",
       "       'Dimer': Structure Summary\n",
       "       Lattice\n",
       "           abc : 13.086768 13.086768 13.086768\n",
       "        angles : 90.0 90.0 90.0\n",
       "        volume : 2241.2856479961474\n",
       "             A : 13.086768 0.0 0.0\n",
       "             B : 0.0 13.086768 0.0\n",
       "             C : 0.0 0.0 13.086768\n",
       "           pbc : True True True\n",
       "       PeriodicSite: Cd (6.543, 0.0, 0.0) [0.5, 0.0, 0.0]\n",
       "       PeriodicSite: Cd (9.815, 3.272, 0.0) [0.75, 0.25, 0.0]\n",
       "       PeriodicSite: Cd (9.815, 0.0, 3.272) [0.75, 0.0, 0.25]\n",
       "       PeriodicSite: Cd (0.0, 0.0, 0.0) [0.0, 0.0, 0.0]\n",
       "       PeriodicSite: Cd (3.272, 3.272, 0.0) [0.25, 0.25, 0.0]\n",
       "       PeriodicSite: Cd (6.543, 6.543, 0.0) [0.5, 0.5, 0.0]\n",
       "       PeriodicSite: Cd (9.815, 9.815, 0.0) [0.75, 0.75, 0.0]\n",
       "       PeriodicSite: Cd (3.272, 0.0, 3.272) [0.25, 0.0, 0.25]\n",
       "       PeriodicSite: Cd (6.543, 3.272, 3.272) [0.5, 0.25, 0.25]\n",
       "       PeriodicSite: Cd (9.815, 6.543, 3.272) [0.75, 0.5, 0.25]\n",
       "       PeriodicSite: Cd (6.543, 0.0, 6.543) [0.5, 0.0, 0.5]\n",
       "       PeriodicSite: Cd (9.815, 3.272, 6.543) [0.75, 0.25, 0.5]\n",
       "       PeriodicSite: Cd (9.815, 0.0, 9.815) [0.75, 0.0, 0.75]\n",
       "       PeriodicSite: Cd (0.0, 6.543, 0.0) [0.0, 0.5, 0.0]\n",
       "       PeriodicSite: Cd (3.272, 9.815, 0.0) [0.25, 0.75, 0.0]\n",
       "       PeriodicSite: Cd (0.0, 3.272, 3.272) [0.0, 0.25, 0.25]\n",
       "       PeriodicSite: Cd (3.272, 6.543, 3.272) [0.25, 0.5, 0.25]\n",
       "       PeriodicSite: Cd (6.543, 9.815, 3.272) [0.5, 0.75, 0.25]\n",
       "       PeriodicSite: Cd (0.0, 0.0, 6.543) [0.0, 0.0, 0.5]\n",
       "       PeriodicSite: Cd (3.272, 3.272, 6.543) [0.25, 0.25, 0.5]\n",
       "       PeriodicSite: Cd (9.815, 9.815, 6.543) [0.75, 0.75, 0.5]\n",
       "       PeriodicSite: Cd (3.272, 0.0, 9.815) [0.25, 0.0, 0.75]\n",
       "       PeriodicSite: Cd (6.543, 3.272, 9.815) [0.5, 0.25, 0.75]\n",
       "       PeriodicSite: Cd (9.815, 6.543, 9.815) [0.75, 0.5, 0.75]\n",
       "       PeriodicSite: Cd (0.0, 9.815, 3.272) [0.0, 0.75, 0.25]\n",
       "       PeriodicSite: Cd (0.0, 6.543, 6.543) [0.0, 0.5, 0.5]\n",
       "       PeriodicSite: Cd (3.272, 9.815, 6.543) [0.25, 0.75, 0.5]\n",
       "       PeriodicSite: Cd (0.0, 3.272, 9.815) [0.0, 0.25, 0.75]\n",
       "       PeriodicSite: Cd (3.272, 6.543, 9.815) [0.25, 0.5, 0.75]\n",
       "       PeriodicSite: Cd (6.543, 9.815, 9.815) [0.5, 0.75, 0.75]\n",
       "       PeriodicSite: Cd (0.0, 9.815, 9.815) [0.0, 0.75, 0.75]\n",
       "       PeriodicSite: Te (11.45, 4.908, 4.908) [0.875, 0.375, 0.375]\n",
       "       PeriodicSite: Te (1.636, 8.179, 4.908) [0.125, 0.625, 0.375]\n",
       "       PeriodicSite: Te (1.636, 4.908, 8.179) [0.125, 0.375, 0.625]\n",
       "       PeriodicSite: Te (4.908, 5.836, 5.836) [0.375, 0.446, 0.446]\n",
       "       PeriodicSite: Te (8.179, 8.179, 4.908) [0.625, 0.625, 0.375]\n",
       "       PeriodicSite: Te (11.45, 11.45, 4.908) [0.875, 0.875, 0.375]\n",
       "       PeriodicSite: Te (1.636, 1.636, 4.908) [0.125, 0.125, 0.375]\n",
       "       PeriodicSite: Te (8.179, 4.908, 8.179) [0.625, 0.375, 0.625]\n",
       "       PeriodicSite: Te (11.45, 8.179, 8.179) [0.875, 0.625, 0.625]\n",
       "       PeriodicSite: Te (1.636, 11.45, 8.179) [0.125, 0.875, 0.625]\n",
       "       PeriodicSite: Te (11.45, 4.908, 11.45) [0.875, 0.375, 0.875]\n",
       "       PeriodicSite: Te (1.636, 8.179, 11.45) [0.125, 0.625, 0.875]\n",
       "       PeriodicSite: Te (1.636, 4.908, 1.636) [0.125, 0.375, 0.125]\n",
       "       PeriodicSite: Te (4.908, 11.45, 4.908) [0.375, 0.875, 0.375]\n",
       "       PeriodicSite: Te (8.179, 1.636, 4.908) [0.625, 0.125, 0.375]\n",
       "       PeriodicSite: Te (4.908, 7.25, 7.25) [0.375, 0.554, 0.554]\n",
       "       PeriodicSite: Te (8.179, 11.45, 8.179) [0.625, 0.875, 0.625]\n",
       "       PeriodicSite: Te (11.45, 1.636, 8.179) [0.875, 0.125, 0.625]\n",
       "       PeriodicSite: Te (4.908, 4.908, 11.45) [0.375, 0.375, 0.875]\n",
       "       PeriodicSite: Te (8.179, 8.179, 11.45) [0.625, 0.625, 0.875]\n",
       "       PeriodicSite: Te (11.45, 11.45, 11.45) [0.875, 0.875, 0.875]\n",
       "       PeriodicSite: Te (1.636, 1.636, 11.45) [0.125, 0.125, 0.875]\n",
       "       PeriodicSite: Te (8.179, 4.908, 1.636) [0.625, 0.375, 0.125]\n",
       "       PeriodicSite: Te (11.45, 8.179, 1.636) [0.875, 0.625, 0.125]\n",
       "       PeriodicSite: Te (1.636, 11.45, 1.636) [0.125, 0.875, 0.125]\n",
       "       PeriodicSite: Te (4.908, 1.636, 8.179) [0.375, 0.125, 0.625]\n",
       "       PeriodicSite: Te (4.908, 11.45, 11.45) [0.375, 0.875, 0.875]\n",
       "       PeriodicSite: Te (8.179, 1.636, 11.45) [0.625, 0.125, 0.875]\n",
       "       PeriodicSite: Te (4.908, 8.179, 1.636) [0.375, 0.625, 0.125]\n",
       "       PeriodicSite: Te (8.179, 11.45, 1.636) [0.625, 0.875, 0.125]\n",
       "       PeriodicSite: Te (11.45, 1.636, 1.636) [0.875, 0.125, 0.125]\n",
       "       PeriodicSite: Te (4.908, 1.636, 1.636) [0.375, 0.125, 0.125]}}}}}},\n",
       " {'distortion_parameters': {'distortion_increment': None,\n",
       "   'bond_distortions': ['Dimer'],\n",
       "   'local_rattle': False,\n",
       "   'mc_rattle_parameters': {'stdev': 0.28333683853583175}},\n",
       "  'defects': {'v_Cd': {'unique_site': [0.5, 0.5, 0.5],\n",
       "    'charges': {0: {'num_nearest_neighbours': 2,\n",
       "      'distorted_atoms': None,\n",
       "      'distortion_parameters': {'distortion_increment': None,\n",
       "       'bond_distortions': ['Dimer'],\n",
       "       'local_rattle': False,\n",
       "       'mc_rattle_parameters': {'stdev': 0.28333683853583175}}},\n",
       "     -1: {'num_nearest_neighbours': 1,\n",
       "      'distorted_atoms': None,\n",
       "      'distortion_parameters': {'distortion_increment': None,\n",
       "       'bond_distortions': ['Dimer'],\n",
       "       'local_rattle': False,\n",
       "       'mc_rattle_parameters': {'stdev': 0.28333683853583175}}},\n",
       "     -2: {'num_nearest_neighbours': 0,\n",
       "      'distorted_atoms': None,\n",
       "      'distortion_parameters': {'distortion_increment': None,\n",
       "       'bond_distortions': ['Dimer'],\n",
       "       'local_rattle': False,\n",
       "       'mc_rattle_parameters': {'stdev': 0.28333683853583175}}}}}}})"
      ]
     },
     "execution_count": 10,
     "metadata": {},
     "output_type": "execute_result"
    }
   ],
   "source": [
    "Dist.write_vasp_files()"
   ]
  },
  {
   "cell_type": "markdown",
   "metadata": {},
   "source": [
    "# TODO\n",
    "1. Update plotting module\n",
    "2. Test full workflow "
   ]
  },
  {
   "cell_type": "markdown",
   "metadata": {},
   "source": [
    "# Tests"
   ]
  },
  {
   "cell_type": "code",
   "execution_count": 1,
   "metadata": {},
   "outputs": [
    {
     "name": "stderr",
     "output_type": "stream",
     "text": [
      "local_env.py:4141: UserWarning: No oxidation states specified on sites! For better results, set the site oxidation states in the structure.\n",
      "local_env.py:3934: UserWarning: CrystalNN: cannot locate an appropriate radius, covalent or atomic radii will be used, this can lead to non-optimal results.\n"
     ]
    }
   ],
   "source": [
    "from shakenbreak.distortions import apply_dimer_distortion\n",
    "from pymatgen.core.structure import Structure\n",
    "import os\n",
    "\n",
    "VASP_CDTE_DATA_DIR= \"./tests/data/vasp/CdTe\"\n",
    "struc = Structure.from_file(os.path.join(VASP_CDTE_DATA_DIR, \"CdTe_V_Cd_POSCAR\"))\n",
    "output = apply_dimer_distortion(struc, frac_coords=[0,0,0])"
   ]
  },
  {
   "cell_type": "code",
   "execution_count": 2,
   "metadata": {},
   "outputs": [
    {
     "data": {
      "text/plain": [
       "dict_keys(['distorted_structure', 'num_distorted_neighbours', 'distorted_atoms', 'undistorted_structure', 'defect_frac_coords'])"
      ]
     },
     "execution_count": 2,
     "metadata": {},
     "output_type": "execute_result"
    }
   ],
   "source": [
    "output.keys()"
   ]
  },
  {
   "cell_type": "code",
   "execution_count": 3,
   "metadata": {},
   "outputs": [
    {
     "data": {
      "text/plain": [
       "(2, [(62, 'Te'), (51, 'Te')])"
      ]
     },
     "execution_count": 3,
     "metadata": {},
     "output_type": "execute_result"
    }
   ],
   "source": [
    "output[\"num_distorted_neighbours\"], output[\"distorted_atoms\"]"
   ]
  },
  {
   "cell_type": "code",
   "execution_count": 3,
   "metadata": {},
   "outputs": [
    {
     "data": {
      "text/plain": [
       "Structure Summary\n",
       "Lattice\n",
       "    abc : 13.086768 13.086768 13.086768\n",
       " angles : 90.0 90.0 90.0\n",
       " volume : 2241.2856479961474\n",
       "      A : 13.086768 0.0 0.0\n",
       "      B : 0.0 13.086768 0.0\n",
       "      C : 0.0 0.0 13.086768\n",
       "    pbc : True True True\n",
       "PeriodicSite: Cd (0.0, 0.0, 6.543) [0.0, 0.0, 0.5]\n",
       "PeriodicSite: Cd (0.0, 6.543, 0.0) [0.0, 0.5, 0.0]\n",
       "PeriodicSite: Cd (0.0, 6.543, 6.543) [0.0, 0.5, 0.5]\n",
       "PeriodicSite: Cd (6.543, 0.0, 0.0) [0.5, 0.0, 0.0]\n",
       "PeriodicSite: Cd (6.543, 0.0, 6.543) [0.5, 0.0, 0.5]\n",
       "PeriodicSite: Cd (6.543, 6.543, 0.0) [0.5, 0.5, 0.0]\n",
       "PeriodicSite: Cd (6.543, 6.543, 6.543) [0.5, 0.5, 0.5]\n",
       "PeriodicSite: Cd (0.0, 3.272, 3.272) [0.0, 0.25, 0.25]\n",
       "PeriodicSite: Cd (0.0, 3.272, 9.815) [0.0, 0.25, 0.75]\n",
       "PeriodicSite: Cd (0.0, 9.815, 3.272) [0.0, 0.75, 0.25]\n",
       "PeriodicSite: Cd (0.0, 9.815, 9.815) [0.0, 0.75, 0.75]\n",
       "PeriodicSite: Cd (6.543, 3.272, 3.272) [0.5, 0.25, 0.25]\n",
       "PeriodicSite: Cd (6.543, 3.272, 9.815) [0.5, 0.25, 0.75]\n",
       "PeriodicSite: Cd (6.543, 9.815, 3.272) [0.5, 0.75, 0.25]\n",
       "PeriodicSite: Cd (6.543, 9.815, 9.815) [0.5, 0.75, 0.75]\n",
       "PeriodicSite: Cd (3.272, 0.0, 3.272) [0.25, 0.0, 0.25]\n",
       "PeriodicSite: Cd (3.272, 0.0, 9.815) [0.25, 0.0, 0.75]\n",
       "PeriodicSite: Cd (3.272, 6.543, 3.272) [0.25, 0.5, 0.25]\n",
       "PeriodicSite: Cd (3.272, 6.543, 9.815) [0.25, 0.5, 0.75]\n",
       "PeriodicSite: Cd (9.815, 0.0, 3.272) [0.75, 0.0, 0.25]\n",
       "PeriodicSite: Cd (9.815, 0.0, 9.815) [0.75, 0.0, 0.75]\n",
       "PeriodicSite: Cd (9.815, 6.543, 3.272) [0.75, 0.5, 0.25]\n",
       "PeriodicSite: Cd (9.815, 6.543, 9.815) [0.75, 0.5, 0.75]\n",
       "PeriodicSite: Cd (3.272, 3.272, 0.0) [0.25, 0.25, 0.0]\n",
       "PeriodicSite: Cd (3.272, 3.272, 6.543) [0.25, 0.25, 0.5]\n",
       "PeriodicSite: Cd (3.272, 9.815, 0.0) [0.25, 0.75, 0.0]\n",
       "PeriodicSite: Cd (3.272, 9.815, 6.543) [0.25, 0.75, 0.5]\n",
       "PeriodicSite: Cd (9.815, 3.272, 0.0) [0.75, 0.25, 0.0]\n",
       "PeriodicSite: Cd (9.815, 3.272, 6.543) [0.75, 0.25, 0.5]\n",
       "PeriodicSite: Cd (9.815, 9.815, 0.0) [0.75, 0.75, 0.0]\n",
       "PeriodicSite: Cd (9.815, 9.815, 6.543) [0.75, 0.75, 0.5]\n",
       "PeriodicSite: Te (1.636, 1.636, 4.908) [0.125, 0.125, 0.375]\n",
       "PeriodicSite: Te (1.636, 1.636, 11.45) [0.125, 0.125, 0.875]\n",
       "PeriodicSite: Te (1.636, 8.179, 4.908) [0.125, 0.625, 0.375]\n",
       "PeriodicSite: Te (1.636, 8.179, 11.45) [0.125, 0.625, 0.875]\n",
       "PeriodicSite: Te (8.179, 1.636, 4.908) [0.625, 0.125, 0.375]\n",
       "PeriodicSite: Te (8.179, 1.636, 11.45) [0.625, 0.125, 0.875]\n",
       "PeriodicSite: Te (8.179, 8.179, 4.908) [0.625, 0.625, 0.375]\n",
       "PeriodicSite: Te (8.179, 8.179, 11.45) [0.625, 0.625, 0.875]\n",
       "PeriodicSite: Te (1.636, 4.908, 1.636) [0.125, 0.375, 0.125]\n",
       "PeriodicSite: Te (1.636, 4.908, 8.179) [0.125, 0.375, 0.625]\n",
       "PeriodicSite: Te (1.636, 11.45, 1.636) [0.125, 0.875, 0.125]\n",
       "PeriodicSite: Te (1.636, 11.45, 8.179) [0.125, 0.875, 0.625]\n",
       "PeriodicSite: Te (8.179, 4.908, 1.636) [0.625, 0.375, 0.125]\n",
       "PeriodicSite: Te (8.179, 4.908, 8.179) [0.625, 0.375, 0.625]\n",
       "PeriodicSite: Te (8.179, 11.45, 1.636) [0.625, 0.875, 0.125]\n",
       "PeriodicSite: Te (8.179, 11.45, 8.179) [0.625, 0.875, 0.625]\n",
       "PeriodicSite: Te (4.908, 1.636, 1.636) [0.375, 0.125, 0.125]\n",
       "PeriodicSite: Te (4.908, 1.636, 8.179) [0.375, 0.125, 0.625]\n",
       "PeriodicSite: Te (4.908, 8.179, 1.636) [0.375, 0.625, 0.125]\n",
       "PeriodicSite: Te (4.908, 8.179, 8.179) [0.375, 0.625, 0.625]\n",
       "PeriodicSite: Te (11.45, 1.636, 1.636) [0.875, 0.125, 0.125]\n",
       "PeriodicSite: Te (11.45, 1.636, 8.179) [0.875, 0.125, 0.625]\n",
       "PeriodicSite: Te (11.45, 8.179, 1.636) [0.875, 0.625, 0.125]\n",
       "PeriodicSite: Te (11.45, 8.179, 8.179) [0.875, 0.625, 0.625]\n",
       "PeriodicSite: Te (4.908, 4.908, 4.908) [0.375, 0.375, 0.375]\n",
       "PeriodicSite: Te (4.908, 4.908, 11.45) [0.375, 0.375, 0.875]\n",
       "PeriodicSite: Te (4.908, 11.45, 4.908) [0.375, 0.875, 0.375]\n",
       "PeriodicSite: Te (4.908, 11.45, 11.45) [0.375, 0.875, 0.875]\n",
       "PeriodicSite: Te (11.45, 4.908, 4.908) [0.875, 0.375, 0.375]\n",
       "PeriodicSite: Te (11.45, 4.908, 11.45) [0.875, 0.375, 0.875]\n",
       "PeriodicSite: Te (11.45, 11.45, 4.908) [0.875, 0.875, 0.375]\n",
       "PeriodicSite: Te (11.45, 11.45, 11.45) [0.875, 0.875, 0.875]"
      ]
     },
     "execution_count": 3,
     "metadata": {},
     "output_type": "execute_result"
    }
   ],
   "source": [
    "output['undistorted_structure']"
   ]
  },
  {
   "cell_type": "code",
   "execution_count": 6,
   "metadata": {},
   "outputs": [
    {
     "data": {
      "text/plain": [
       "'Cd31 Te32\\n1.0\\n  13.0867679999999993    0.0000000000000000    0.0000000000000000\\n   0.0000000000000000   13.0867679999999993    0.0000000000000000\\n   0.0000000000000000    0.0000000000000000   13.0867679999999993\\nCd Te\\n31 32\\ndirect\\n   0.0000000000000000    0.0000000000000000    0.5000000000000000 Cd\\n   0.0000000000000000    0.5000000000000000    0.0000000000000000 Cd\\n   0.0000000000000000    0.5000000000000000    0.5000000000000000 Cd\\n   0.5000000000000000    0.0000000000000000    0.0000000000000000 Cd\\n   0.5000000000000000    0.0000000000000000    0.5000000000000000 Cd\\n   0.5000000000000000    0.5000000000000000    0.0000000000000000 Cd\\n   0.5000000000000000    0.5000000000000000    0.5000000000000000 Cd\\n   0.0000000000000000    0.2500000000000000    0.2500000000000000 Cd\\n   0.0000000000000000    0.2500000000000000    0.7500000000000000 Cd\\n   0.0000000000000000    0.7500000000000000    0.2500000000000000 Cd\\n   0.0000000000000000    0.7500000000000000    0.7500000000000000 Cd\\n   0.5000000000000000    0.2500000000000000    0.2500000000000000 Cd\\n   0.5000000000000000    0.2500000000000000    0.7500000000000000 Cd\\n   0.5000000000000000    0.7500000000000000    0.2500000000000000 Cd\\n   0.5000000000000000    0.7500000000000000    0.7500000000000000 Cd\\n   0.2500000000000000    0.0000000000000000    0.2500000000000000 Cd\\n   0.2500000000000000    0.0000000000000000    0.7500000000000000 Cd\\n   0.2500000000000000    0.5000000000000000    0.2500000000000000 Cd\\n   0.2500000000000000    0.5000000000000000    0.7500000000000000 Cd\\n   0.7500000000000000    0.0000000000000000    0.2500000000000000 Cd\\n   0.7500000000000000    0.0000000000000000    0.7500000000000000 Cd\\n   0.7500000000000000    0.5000000000000000    0.2500000000000000 Cd\\n   0.7500000000000000    0.5000000000000000    0.7500000000000000 Cd\\n   0.2500000000000000    0.2500000000000000    0.0000000000000000 Cd\\n   0.2500000000000000    0.2500000000000000    0.5000000000000000 Cd\\n   0.2500000000000000    0.7500000000000000    0.0000000000000000 Cd\\n   0.2500000000000000    0.7500000000000000    0.5000000000000000 Cd\\n   0.7500000000000000    0.2500000000000000    0.0000000000000000 Cd\\n   0.7500000000000000    0.2500000000000000    0.5000000000000000 Cd\\n   0.7500000000000000    0.7500000000000000    0.0000000000000000 Cd\\n   0.7500000000000000    0.7500000000000000    0.5000000000000000 Cd\\n   0.1250000000000000    0.1250000000000000    0.3750000000000000 Te\\n   0.1250000000000000    0.1250000000000000    0.8749999999999999 Te\\n   0.1250000000000000    0.6250000000000000    0.3750000000000000 Te\\n   0.1250000000000000    0.6250000000000000    0.8749999999999999 Te\\n   0.6250000000000000    0.1250000000000000    0.3750000000000000 Te\\n   0.6250000000000000    0.1250000000000000    0.8749999999999999 Te\\n   0.6250000000000000    0.6250000000000000    0.3750000000000000 Te\\n   0.6250000000000000    0.6250000000000000    0.8749999999999999 Te\\n   0.1250000000000000    0.3750000000000000    0.1250000000000000 Te\\n   0.1250000000000000    0.3750000000000000    0.6250000000000000 Te\\n   0.1250000000000000    0.8749999999999999    0.1250000000000000 Te\\n   0.1250000000000000    0.8749999999999999    0.6250000000000000 Te\\n   0.6250000000000000    0.3750000000000000    0.1250000000000000 Te\\n   0.6250000000000000    0.3750000000000000    0.6250000000000000 Te\\n   0.6250000000000000    0.8749999999999999    0.1250000000000000 Te\\n   0.6250000000000000    0.8749999999999999    0.6250000000000000 Te\\n   0.3750000000000000    0.1250000000000000    0.1250000000000000 Te\\n   0.3750000000000000    0.1250000000000000    0.6250000000000000 Te\\n   0.3750000000000000    0.6250000000000000    0.1250000000000000 Te\\n   0.3750000000000000    0.6250000000000000    0.6250000000000000 Te\\n   0.8749999999999999    0.0540321935245239    0.0540321935245239 Te\\n   0.8749999999999999    0.1250000000000000    0.6250000000000000 Te\\n   0.8749999999999999    0.6250000000000000    0.1250000000000000 Te\\n   0.8749999999999999    0.6250000000000000    0.6250000000000000 Te\\n   0.3750000000000000    0.3750000000000000    0.3750000000000000 Te\\n   0.3750000000000000    0.3750000000000000    0.8749999999999999 Te\\n   0.3750000000000000    0.8749999999999999    0.3750000000000000 Te\\n   0.3750000000000000    0.8749999999999999    0.8749999999999999 Te\\n   0.8749999999999999    0.3750000000000000    0.3750000000000000 Te\\n   0.8749999999999999    0.3750000000000000    0.8749999999999999 Te\\n   0.8749999999999999    0.8749999999999999    0.3750000000000000 Te\\n   0.8749999999999999    0.9459678064754760    0.9459678064754760 Te\\n'"
      ]
     },
     "execution_count": 6,
     "metadata": {},
     "output_type": "execute_result"
    }
   ],
   "source": [
    "output['distorted_structure'].to(fmt=\"poscar\", filename=os.path.join(VASP_CDTE_DATA_DIR, \"CdTe_V_Cd_Dimer_Distortion_Unrattled_POSCAR\"))"
   ]
  },
  {
   "cell_type": "code",
   "execution_count": 8,
   "metadata": {},
   "outputs": [
    {
     "data": {
      "text/plain": [
       "63"
      ]
     },
     "execution_count": 8,
     "metadata": {},
     "output_type": "execute_result"
    }
   ],
   "source": [
    "len(output['distorted_structure'])"
   ]
  },
  {
   "cell_type": "code",
   "execution_count": 5,
   "metadata": {},
   "outputs": [
    {
     "name": "stdout",
     "output_type": "stream",
     "text": [
      "Te(51): {'Te(62)': '2.0 A'} \n",
      "\n"
     ]
    },
    {
     "data": {
      "text/plain": [
       "{'Te(51)': {'Te(62)': '2.0 A'}}"
      ]
     },
     "execution_count": 5,
     "metadata": {},
     "output_type": "execute_result"
    }
   ],
   "source": [
    "from shakenbreak.analysis import get_homoionic_bonds\n",
    "\n",
    "get_homoionic_bonds(output['distorted_structure'],elements=[\"Te\",])"
   ]
  },
  {
   "cell_type": "markdown",
   "metadata": {},
   "source": [
    "# Test input"
   ]
  },
  {
   "cell_type": "code",
   "execution_count": 1,
   "metadata": {},
   "outputs": [],
   "source": [
    "from shakenbreak.distortions import apply_dimer_distortion\n",
    "from pymatgen.core.structure import Structure\n",
    "import os\n",
    "\n",
    "VASP_CDTE_DATA_DIR= \"./tests/data/vasp/CdTe\"\n",
    "struc = Structure.from_file(os.path.join(VASP_CDTE_DATA_DIR, \"CdTe_V_Cd_POSCAR\"))"
   ]
  },
  {
   "cell_type": "code",
   "execution_count": 2,
   "metadata": {},
   "outputs": [],
   "source": [
    "from shakenbreak import input\n",
    "from monty.serialization import loadfn\n",
    "\n",
    "CdTe_bulk_struc = Structure.from_file(\n",
    "    os.path.join(VASP_CDTE_DATA_DIR, \"CdTe_Bulk_Supercell_POSCAR\")\n",
    ")\n",
    "\n",
    "cdte_doped_defect_dict = loadfn(\n",
    "    os.path.join(VASP_CDTE_DATA_DIR, \"CdTe_defects_dict.json\")\n",
    ")\n",
    "cdte_doped_reduced_defect_gen = loadfn(\n",
    "    os.path.join(VASP_CDTE_DATA_DIR, \"reduced_CdTe_defect_gen.json\")\n",
    ")\n",
    "cdte_defects = {}\n",
    "# Refactor to dict of DefectEntrys objects, with doped/PyCDT names\n",
    "for defects_type, defect_dict_list in cdte_doped_defect_dict.items():\n",
    "    if \"bulk\" not in defects_type:\n",
    "        for defect_dict in defect_dict_list:\n",
    "            cdte_defects[defect_dict[\"name\"]] = [\n",
    "                input._get_defect_entry_from_defect(\n",
    "                    defect=input.generate_defect_object(\n",
    "                        single_defect_dict=defect_dict,\n",
    "                        bulk_dict=cdte_doped_defect_dict[\"bulk\"],\n",
    "                    ),\n",
    "                    charge_state=charge,\n",
    "                )\n",
    "                for charge in defect_dict[\"charges\"]\n",
    "            ]\n",
    "cdte_defect_list = sum(list(cdte_defects.values()), [])\n",
    "V_Cd_dict = cdte_doped_defect_dict[\"vacancies\"][0]\n",
    "Int_Cd_2_dict = cdte_doped_defect_dict[\"interstitials\"][1]\n",
    "# Refactor to Defect() objects\n",
    "V_Cd = input.generate_defect_object(\n",
    "    V_Cd_dict, cdte_doped_defect_dict[\"bulk\"]\n",
    ")\n",
    "V_Cd_entry = input._get_defect_entry_from_defect(\n",
    "    V_Cd, V_Cd.user_charges[0]\n",
    ")"
   ]
  },
  {
   "cell_type": "markdown",
   "metadata": {},
   "source": [
    "## Test `_apply_rattle_bond_distortions`"
   ]
  },
  {
   "cell_type": "code",
   "execution_count": 22,
   "metadata": {},
   "outputs": [],
   "source": [
    "import numpy as np\n",
    "\n",
    "V_Cd_struc = Structure.from_file(\n",
    "    os.path.join(VASP_CDTE_DATA_DIR, \"CdTe_V_Cd_POSCAR\")\n",
    ")\n",
    "sorted_distances = np.sort(V_Cd_struc.distance_matrix.flatten())\n",
    "d_min = 0.8 * sorted_distances[len(V_Cd_struc) + 20]\n",
    "V_Cd_distorted_dict = input._apply_rattle_bond_distortions(\n",
    "    V_Cd_entry,\n",
    "    num_nearest_neighbours=2,\n",
    "    distortion_factor=\"dimer\",\n",
    "    d_min=d_min,\n",
    "    verbose=True,\n",
    "    stdev=0.25,\n",
    ")"
   ]
  },
  {
   "cell_type": "code",
   "execution_count": 23,
   "metadata": {},
   "outputs": [
    {
     "data": {
      "text/plain": [
       "dict_keys(['distorted_structure', 'num_distorted_neighbours', 'distorted_atoms', 'undistorted_structure', 'defect_frac_coords'])"
      ]
     },
     "execution_count": 23,
     "metadata": {},
     "output_type": "execute_result"
    }
   ],
   "source": [
    "V_Cd_distorted_dict.keys()"
   ]
  },
  {
   "cell_type": "code",
   "execution_count": 26,
   "metadata": {},
   "outputs": [
    {
     "data": {
      "text/plain": [
       "'Cd31 Te32\\n1.0\\n  13.0867679999999993    0.0000000000000000    0.0000000000000000\\n   0.0000000000000000   13.0867679999999993    0.0000000000000000\\n   0.0000000000000000    0.0000000000000000   13.0867679999999993\\nCd Te\\n31 32\\ndirect\\n   0.0156871194840353    0.0168499172361065    0.5013659606570436 Cd2+\\n   0.0271500115668686    0.4957262246093266    0.0100224763679073 Cd2+\\n  -0.0014495703722099    0.4980731524352150    0.4781192167960491 Cd2+\\n   0.4722094233480639    0.0200506294364088   -0.0182692230473816 Cd2+\\n   0.4885585281400621   -0.0053878728738825    0.4817673004644190 Cd2+\\n   0.5056282073490231    0.5186277985499153   -0.0269746115858607 Cd2+\\n   0.4801688502186689    0.5257243960661042    0.5248055377787585 Cd2+\\n  -0.0348316368950783    0.2728944316714810    0.2387460475061252 Cd2+\\n  -0.0105745472528089    0.2665553322767636    0.7249704332381200 Cd2+\\n  -0.0075690729980406    0.7073232895687733    0.2540302118175998 Cd2+\\n  -0.0050910397377601    0.7355423155760010    0.7679544090557621 Cd2+\\n   0.5005816366983870    0.2820536382478840    0.2335402909392014 Cd2+\\n   0.5164511376504562    0.2542450219488173    0.7322823716342084 Cd2+\\n   0.5070828585054892    0.7526462759552357    0.2894765820190052 Cd2+\\n   0.5049584993998797    0.7681671971948304    0.7591942235932660 Cd2+\\n   0.2314439007613033   -0.0139691580327037    0.2710898637591607 Cd2+\\n   0.2376369130393935    0.0053687944240744    0.7381653011727750 Cd2+\\n   0.2718374045812695    0.4922892243165773    0.2451784226567301 Cd2+\\n   0.2622947472228113    0.5173549697162710    0.7260213390066484 Cd2+\\n   0.7421013906143455   -0.0369394254180139    0.2601101761807642 Cd2+\\n   0.7643010257290317    0.0082559723869255    0.7375144675771959 Cd2+\\n   0.7772298637541588    0.5061737877891480    0.2418884425731874 Cd2+\\n   0.7112919524310897    0.4891818031292686    0.7452862206392076 Cd2+\\n   0.2597626037064264    0.2654750359385809   -0.0138178746240745 Cd2+\\n   0.2856911389734074    0.2667607419061732    0.4824379442736103 Cd2+\\n   0.2553308492327366    0.7324121579095495   -0.0270836224755171 Cd2+\\n   0.2877874281235570    0.7210962747120893    0.4960596434321737 Cd2+\\n   0.7756092046801939    0.2696741257630375   -0.0094615087069471 Cd2+\\n   0.7674603327148890    0.2433936502088358    0.5342582586445987 Cd2+\\n   0.7659806984052299    0.7592741823626890    0.0084426299687161 Cd2+\\n   0.7451092426178079    0.7523250438453772    0.4937354606915620 Cd2+\\n   0.1187568485774295    0.1507937162676332    0.3762100856753475 Te2-\\n   0.1312359429836720    0.1328551962041555    0.9202598135720425 Te2-\\n   0.1128884079346265    0.6182951658040680    0.3473039496781265 Te2-\\n   0.1315797807618614    0.6225939184343635    0.8700339946167042 Te2-\\n   0.6283847628206453    0.1104322706926303    0.3462095332815449 Te2-\\n   0.6231233285696897    0.1431785472589133    0.8803636878306192 Te2-\\n   0.6132648937495118    0.6443581611601850    0.3924510477913719 Te2-\\n   0.6271436363496584    0.6167078405828447    0.8527871928487835 Te2-\\n   0.1273727892891333    0.3919108640973764    0.1439967743041993 Te2-\\n   0.1141821228674018    0.3715100179204548    0.6127261640254006 Te2-\\n   0.1173411386799441    0.8870697863654669    0.0681915310744819 Te2-\\n   0.1575630076145119    0.8519631496831680    0.5913649039501945 Te2-\\n   0.6082245405973820    0.3839467110079552    0.1129579011512159 Te2-\\n   0.6252520424249853    0.3639435370678827    0.5933896303873651 Te2-\\n   0.6560941606888189    0.8579088993238950    0.1114096916911318 Te2-\\n   0.6386215189674254    0.8782996437744818    0.6183416726189549 Te2-\\n   0.3691659245140350    0.1150467855183059    0.1518612689124705 Te2-\\n   0.3803128561907226    0.1426243580437952    0.6395882828468022 Te2-\\n   0.3947428748509966    0.6398822065520391    0.0971153956045202 Te2-\\n   0.3750000000000000    0.6250000000000000    0.6250000000000000 Te2-\\n   0.8975517329778733    0.0479069033959441    0.0927849932342861 Te2-\\n   0.8958653442608970    0.1243931913490970    0.6052705997044724 Te2-\\n   0.8662709695677386    0.6264704742842300    0.1299247251675607 Te2-\\n   0.8694061068288607    0.6014102855379397    0.6172289000223002 Te2-\\n   0.3903631884266203    0.3750040440301268    0.3693633479218935 Te2-\\n   0.3840986630527822    0.3765797318809899    0.8701975112891386 Te2-\\n   0.3794827130771702    0.8854032160195859    0.3674836864650987 Te2-\\n   0.3917242540183349    0.8543409397301263    0.8784352524394520 Te2-\\n   0.8817775378020919    0.3813543713889261    0.4031743957535139 Te2-\\n   0.8794108581844571    0.3946822747640026    0.8757006722884800 Te2-\\n   0.8749999999999999    0.8749999999999999    0.3750000000000000 Te2-\\n   0.8539818238484530    0.9657359971042676    0.9006515870041598 Te2-\\n'"
      ]
     },
     "execution_count": 26,
     "metadata": {},
     "output_type": "execute_result"
    }
   ],
   "source": [
    "V_Cd_distorted_dict[\"distorted_structure\"].to(\n",
    "    fmt=\"poscar\", filename=os.path.join(VASP_CDTE_DATA_DIR, \"CdTe_V_Cd_Dimer_Rattled_0pt25_POSCAR\")\n",
    ")"
   ]
  },
  {
   "cell_type": "markdown",
   "metadata": {},
   "source": [
    "## Test `appy_snb_distortions`"
   ]
  },
  {
   "cell_type": "code",
   "execution_count": 36,
   "metadata": {},
   "outputs": [],
   "source": [
    "from shakenbreak.input import apply_snb_distortions\n",
    "import numpy as np\n",
    "\n",
    "V_Cd_struc = Structure.from_file(\n",
    "    os.path.join(VASP_CDTE_DATA_DIR, \"CdTe_V_Cd_POSCAR\")\n",
    ")\n",
    "sorted_distances = np.sort(V_Cd_struc.distance_matrix.flatten())\n",
    "d_min = 0.8 * sorted_distances[len(V_Cd_struc) + 20]\n",
    "output = apply_snb_distortions(\n",
    "    defect_entry=V_Cd_entry,\n",
    "    num_nearest_neighbours=2,\n",
    "    bond_distortions=[\"dimer\",],\n",
    "    verbose=True,\n",
    "    stdev=0.25,\n",
    "    d_min=d_min,\n",
    "    seed=42,\n",
    ")"
   ]
  },
  {
   "cell_type": "code",
   "execution_count": 28,
   "metadata": {},
   "outputs": [
    {
     "data": {
      "text/plain": [
       "-2"
      ]
     },
     "execution_count": 28,
     "metadata": {},
     "output_type": "execute_result"
    }
   ],
   "source": [
    "from copy import copy\n",
    "entry_copy = copy(V_Cd_entry)\n",
    "entry_copy.charge_state"
   ]
  },
  {
   "cell_type": "code",
   "execution_count": 4,
   "metadata": {},
   "outputs": [
    {
     "data": {
      "text/plain": [
       "dict_keys(['Unperturbed', 'distortions', 'distortion_parameters'])"
      ]
     },
     "execution_count": 4,
     "metadata": {},
     "output_type": "execute_result"
    }
   ],
   "source": [
    "output.keys()"
   ]
  },
  {
   "cell_type": "code",
   "execution_count": 29,
   "metadata": {},
   "outputs": [
    {
     "data": {
      "text/plain": [
       "dict_keys(['Dimer'])"
      ]
     },
     "execution_count": 29,
     "metadata": {},
     "output_type": "execute_result"
    }
   ],
   "source": [
    "output[\"distortions\"].keys()"
   ]
  },
  {
   "cell_type": "code",
   "execution_count": 30,
   "metadata": {},
   "outputs": [
    {
     "data": {
      "text/plain": [
       "Structure Summary\n",
       "Lattice\n",
       "    abc : 13.086768 13.086768 13.086768\n",
       " angles : 90.0 90.0 90.0\n",
       " volume : 2241.2856479961474\n",
       "      A : 13.086768 0.0 0.0\n",
       "      B : 0.0 13.086768 0.0\n",
       "      C : 0.0 0.0 13.086768\n",
       "    pbc : True True True\n",
       "PeriodicSite: Cd2+ (-0.1336, -0.1209, 6.558) [-0.01021, -0.009238, 0.5011]\n",
       "PeriodicSite: Cd2+ (0.2503, 6.785, -0.5387) [0.01913, 0.5185, -0.04116]\n",
       "PeriodicSite: Cd2+ (-0.2222, 6.334, 6.291) [-0.01698, 0.484, 0.4807]\n",
       "PeriodicSite: Cd2+ (6.537, 0.1976, -0.0002337) [0.4995, 0.0151, -1.786e-05]\n",
       "PeriodicSite: Cd2+ (6.355, 0.5496, 6.61) [0.4856, 0.042, 0.5051]\n",
       "PeriodicSite: Cd2+ (6.17, 5.845, 0.236) [0.4715, 0.4466, 0.01803]\n",
       "PeriodicSite: Cd2+ (6.147, 6.91, 6.223) [0.4697, 0.528, 0.4755]\n",
       "PeriodicSite: Cd2+ (-0.1549, 3.114, 3.4) [-0.01184, 0.238, 0.2598]\n",
       "PeriodicSite: Cd2+ (-0.4885, 3.094, 9.915) [-0.03733, 0.2364, 0.7577]\n",
       "PeriodicSite: Cd2+ (0.3161, 10.16, 3.357) [0.02415, 0.7761, 0.2565]\n",
       "PeriodicSite: Cd2+ (0.02514, 9.488, 9.223) [0.001921, 0.725, 0.7047]\n",
       "PeriodicSite: Cd2+ (6.502, 3.291, 3.244) [0.4968, 0.2514, 0.2479]\n",
       "PeriodicSite: Cd2+ (6.653, 3.104, 9.761) [0.5084, 0.2372, 0.7459]\n",
       "PeriodicSite: Cd2+ (6.579, 10.23, 2.86) [0.5027, 0.7818, 0.2185]\n",
       "PeriodicSite: Cd2+ (6.785, 9.758, 9.573) [0.5185, 0.7456, 0.7315]\n",
       "PeriodicSite: Cd2+ (3.09, 0.1132, 3.645) [0.2361, 0.008652, 0.2786]\n",
       "PeriodicSite: Cd2+ (2.882, 0.16, 9.96) [0.2202, 0.01222, 0.761]\n",
       "PeriodicSite: Cd2+ (3.326, 6.567, 3.168) [0.2541, 0.5018, 0.2421]\n",
       "PeriodicSite: Cd2+ (3.151, 6.407, 9.904) [0.2408, 0.4896, 0.7568]\n",
       "PeriodicSite: Cd2+ (9.852, -0.05789, 3.348) [0.7528, -0.004423, 0.2558]\n",
       "PeriodicSite: Cd2+ (10.24, 0.03201, 10.05) [0.7825, 0.002446, 0.7679]\n",
       "PeriodicSite: Cd2+ (10.03, 6.876, 3.233) [0.7661, 0.5254, 0.2471]\n",
       "PeriodicSite: Cd2+ (9.911, 6.526, 10.06) [0.7573, 0.4987, 0.7685]\n",
       "PeriodicSite: Cd2+ (3.639, 3.264, -0.1548) [0.2781, 0.2494, -0.01183]\n",
       "PeriodicSite: Cd2+ (3.245, 3.479, 6.493) [0.248, 0.2658, 0.4962]\n",
       "PeriodicSite: Cd2+ (3.466, 9.705, -0.05547) [0.2649, 0.7416, -0.004239]\n",
       "PeriodicSite: Cd2+ (3.071, 9.632, 6.859) [0.2347, 0.736, 0.5241]\n",
       "PeriodicSite: Cd2+ (9.755, 3.044, -0.06502) [0.7454, 0.2326, -0.004968]\n",
       "PeriodicSite: Cd2+ (9.842, 2.907, 6.18) [0.752, 0.2221, 0.4722]\n",
       "PeriodicSite: Cd2+ (10.07, 9.342, 0.2398) [0.7698, 0.7138, 0.01832]\n",
       "PeriodicSite: Cd2+ (10.1, 9.671, 6.823) [0.7721, 0.739, 0.5214]\n",
       "PeriodicSite: Te2- (1.667, 1.463, 5.37) [0.1274, 0.1118, 0.4103]\n",
       "PeriodicSite: Te2- (1.239, 1.981, 11.34) [0.09465, 0.1514, 0.8669]\n",
       "PeriodicSite: Te2- (1.931, 8.331, 4.982) [0.1476, 0.6366, 0.3807]\n",
       "PeriodicSite: Te2- (1.614, 8.556, 11.6) [0.1233, 0.6538, 0.8862]\n",
       "PeriodicSite: Te2- (7.967, 1.503, 4.469) [0.6088, 0.1148, 0.3415]\n",
       "PeriodicSite: Te2- (8.077, 1.654, 11.13) [0.6172, 0.1264, 0.8507]\n",
       "PeriodicSite: Te2- (8.04, 8.442, 4.995) [0.6144, 0.6451, 0.3817]\n",
       "PeriodicSite: Te2- (8.147, 8.217, 11.39) [0.6225, 0.6279, 0.8705]\n",
       "PeriodicSite: Te2- (1.448, 5.426, 1.207) [0.1107, 0.4146, 0.09223]\n",
       "PeriodicSite: Te2- (1.946, 5.074, 8.171) [0.1487, 0.3877, 0.6244]\n",
       "PeriodicSite: Te2- (1.863, 11.57, 2.028) [0.1424, 0.8838, 0.155]\n",
       "PeriodicSite: Te2- (2.038, 11.89, 8.29) [0.1557, 0.9082, 0.6334]\n",
       "PeriodicSite: Te2- (8.275, 5.004, 1.494) [0.6323, 0.3824, 0.1141]\n",
       "PeriodicSite: Te2- (8.1, 4.65, 8.568) [0.619, 0.3553, 0.6547]\n",
       "PeriodicSite: Te2- (8.119, 11.28, 1.253) [0.6204, 0.8623, 0.09578]\n",
       "PeriodicSite: Te2- (8.096, 11.43, 8.409) [0.6186, 0.8731, 0.6425]\n",
       "PeriodicSite: Te2- (4.879, 1.634, 1.339) [0.3728, 0.1249, 0.1023]\n",
       "PeriodicSite: Te2- (4.983, 1.572, 8.293) [0.3807, 0.1201, 0.6337]\n",
       "PeriodicSite: Te2- (5.279, 8.1, 1.51) [0.4034, 0.6189, 0.1154]\n",
       "PeriodicSite: Te2- (4.908, 8.179, 8.179) [0.375, 0.625, 0.625]\n",
       "PeriodicSite: Te2- (11.19, 0.8738, 1.091) [0.8551, 0.06677, 0.08335]\n",
       "PeriodicSite: Te2- (11.34, 2.019, 8.058) [0.8664, 0.1543, 0.6158]\n",
       "PeriodicSite: Te2- (12.14, 8.256, 1.739) [0.9279, 0.6308, 0.1329]\n",
       "PeriodicSite: Te2- (11.66, 7.94, 7.85) [0.8909, 0.6067, 0.5999]\n",
       "PeriodicSite: Te2- (4.698, 4.945, 4.806) [0.359, 0.3779, 0.3672]\n",
       "PeriodicSite: Te2- (4.718, 4.831, 11.14) [0.3605, 0.3691, 0.8513]\n",
       "PeriodicSite: Te2- (4.793, 11.5, 4.728) [0.3663, 0.8787, 0.3613]\n",
       "PeriodicSite: Te2- (4.998, 11.28, 11.32) [0.3819, 0.8623, 0.8647]\n",
       "PeriodicSite: Te2- (11.51, 4.678, 5.157) [0.8798, 0.3574, 0.3941]\n",
       "PeriodicSite: Te2- (11.34, 4.956, 11.51) [0.8663, 0.3787, 0.8792]\n",
       "PeriodicSite: Te2- (11.45, 11.45, 4.908) [0.875, 0.875, 0.375]\n",
       "PeriodicSite: Te2- (11.82, 12.47, 12.24) [0.9029, 0.9529, 0.9354]"
      ]
     },
     "execution_count": 30,
     "metadata": {},
     "output_type": "execute_result"
    }
   ],
   "source": [
    "output[\"distortions\"][\"Dimer\"]"
   ]
  },
  {
   "cell_type": "code",
   "execution_count": 7,
   "metadata": {},
   "outputs": [
    {
     "data": {
      "text/plain": [
       "{'unique_site': array([0., 0., 0.]),\n",
       " 'num_distorted_neighbours_in_dimer': 2,\n",
       " 'distorted_atoms_in_dimer': [(62, 'Te'), (51, 'Te')]}"
      ]
     },
     "execution_count": 7,
     "metadata": {},
     "output_type": "execute_result"
    }
   ],
   "source": [
    "output[\"distortion_parameters\"]"
   ]
  },
  {
   "cell_type": "code",
   "execution_count": 33,
   "metadata": {},
   "outputs": [
    {
     "data": {
      "text/plain": [
       "2.266694708286653"
      ]
     },
     "execution_count": 33,
     "metadata": {},
     "output_type": "execute_result"
    }
   ],
   "source": [
    "d_min"
   ]
  },
  {
   "cell_type": "code",
   "execution_count": 37,
   "metadata": {},
   "outputs": [
    {
     "data": {
      "text/plain": [
       "'Cd31 Te32\\n1.0\\n  13.0867679999999993    0.0000000000000000    0.0000000000000000\\n   0.0000000000000000   13.0867679999999993    0.0000000000000000\\n   0.0000000000000000    0.0000000000000000   13.0867679999999993\\nCd Te\\n31 32\\ndirect\\n   0.0156871194840353    0.0168499172361065    0.5013659606570436 Cd\\n   0.0271500115668686    0.4957262246093266    0.0100224763679073 Cd\\n  -0.0014495703722099    0.4980731524352150    0.4781192167960491 Cd\\n   0.4722094233480639    0.0200506294364088   -0.0182692230473816 Cd\\n   0.4885585281400621   -0.0053878728738825    0.4817673004644190 Cd\\n   0.5056282073490231    0.5186277985499153   -0.0269746115858607 Cd\\n   0.4801688502186689    0.5257243960661042    0.5248055377787585 Cd\\n  -0.0348316368950783    0.2728944316714810    0.2387460475061252 Cd\\n  -0.0105745472528089    0.2665553322767636    0.7249704332381200 Cd\\n  -0.0075690729980406    0.7073232895687733    0.2540302118175998 Cd\\n  -0.0050910397377601    0.7355423155760010    0.7679544090557621 Cd\\n   0.5005816366983870    0.2820536382478840    0.2335402909392014 Cd\\n   0.5164511376504562    0.2542450219488173    0.7322823716342084 Cd\\n   0.5070828585054892    0.7526462759552357    0.2894765820190052 Cd\\n   0.5049584993998797    0.7681671971948304    0.7591942235932660 Cd\\n   0.2314439007613033   -0.0139691580327037    0.2710898637591607 Cd\\n   0.2376369130393935    0.0053687944240744    0.7381653011727750 Cd\\n   0.2718374045812695    0.4922892243165773    0.2451784226567301 Cd\\n   0.2622947472228113    0.5173549697162710    0.7260213390066484 Cd\\n   0.7421013906143455   -0.0369394254180139    0.2601101761807642 Cd\\n   0.7643010257290317    0.0082559723869255    0.7375144675771959 Cd\\n   0.7772298637541588    0.5061737877891480    0.2418884425731874 Cd\\n   0.7112919524310897    0.4891818031292686    0.7452862206392076 Cd\\n   0.2597626037064264    0.2654750359385809   -0.0138178746240745 Cd\\n   0.2856911389734074    0.2667607419061732    0.4824379442736103 Cd\\n   0.2553308492327366    0.7324121579095495   -0.0270836224755171 Cd\\n   0.2877874281235570    0.7210962747120893    0.4960596434321737 Cd\\n   0.7756092046801939    0.2696741257630375   -0.0094615087069471 Cd\\n   0.7674603327148890    0.2433936502088358    0.5342582586445987 Cd\\n   0.7659806984052299    0.7592741823626890    0.0084426299687161 Cd\\n   0.7451092426178079    0.7523250438453772    0.4937354606915620 Cd\\n   0.1187568485774295    0.1507937162676332    0.3762100856753475 Te\\n   0.1312359429836720    0.1328551962041555    0.9202598135720425 Te\\n   0.1128884079346265    0.6182951658040680    0.3473039496781265 Te\\n   0.1315797807618614    0.6225939184343635    0.8700339946167042 Te\\n   0.6283847628206453    0.1104322706926303    0.3462095332815449 Te\\n   0.6231233285696897    0.1431785472589133    0.8803636878306192 Te\\n   0.6132648937495118    0.6443581611601850    0.3924510477913719 Te\\n   0.6271436363496584    0.6167078405828447    0.8527871928487835 Te\\n   0.1273727892891333    0.3919108640973764    0.1439967743041993 Te\\n   0.1141821228674018    0.3715100179204548    0.6127261640254006 Te\\n   0.1173411386799441    0.8870697863654669    0.0681915310744819 Te\\n   0.1575630076145119    0.8519631496831680    0.5913649039501945 Te\\n   0.6082245405973820    0.3839467110079552    0.1129579011512159 Te\\n   0.6252520424249853    0.3639435370678827    0.5933896303873651 Te\\n   0.6560941606888189    0.8579088993238950    0.1114096916911318 Te\\n   0.6386215189674254    0.8782996437744818    0.6183416726189549 Te\\n   0.3691659245140350    0.1150467855183059    0.1518612689124705 Te\\n   0.3803128561907226    0.1426243580437952    0.6395882828468022 Te\\n   0.3947428748509966    0.6398822065520391    0.0971153956045202 Te\\n   0.3750000000000000    0.6250000000000000    0.6250000000000000 Te\\n   0.8975517329778733    0.0479069033959441    0.0927849932342861 Te\\n   0.8958653442608970    0.1243931913490970    0.6052705997044724 Te\\n   0.8662709695677386    0.6264704742842300    0.1299247251675607 Te\\n   0.8694061068288607    0.6014102855379397    0.6172289000223002 Te\\n   0.3903631884266203    0.3750040440301268    0.3693633479218935 Te\\n   0.3840986630527822    0.3765797318809899    0.8701975112891386 Te\\n   0.3794827130771702    0.8854032160195859    0.3674836864650987 Te\\n   0.3917242540183349    0.8543409397301263    0.8784352524394520 Te\\n   0.8817775378020919    0.3813543713889261    0.4031743957535139 Te\\n   0.8794108581844571    0.3946822747640026    0.8757006722884800 Te\\n   0.8749999999999999    0.8749999999999999    0.3750000000000000 Te\\n   0.8539818238484530    0.9657359971042676    0.9006515870041598 Te\\n'"
      ]
     },
     "execution_count": 37,
     "metadata": {},
     "output_type": "execute_result"
    }
   ],
   "source": [
    "s = output[\"distortions\"][\"Dimer\"]\n",
    "s.remove_oxidation_states()\n",
    "s.to(fmt=\"poscar\", filename=os.path.join(VASP_CDTE_DATA_DIR, \"CdTe_V_Cd_Dimer_Rattled_0pt25_dmin2pt26_POSCAR\"))"
   ]
  },
  {
   "cell_type": "code",
   "execution_count": 9,
   "metadata": {},
   "outputs": [],
   "source": [
    "V_Cd_dimer_struc_0pt25_rattled = Structure.from_file(\n",
    "    os.path.join(\n",
    "        VASP_CDTE_DATA_DIR, \"CdTe_V_Cd_Dimer_Rattled_0pt25_POSCAR\"\n",
    "    )\n",
    ")"
   ]
  },
  {
   "cell_type": "code",
   "execution_count": 10,
   "metadata": {},
   "outputs": [
    {
     "data": {
      "text/plain": [
       "Structure Summary\n",
       "Lattice\n",
       "    abc : 13.086768 13.086768 13.086768\n",
       " angles : 90.0 90.0 90.0\n",
       " volume : 2241.2856479961474\n",
       "      A : 13.086768 0.0 0.0\n",
       "      B : 0.0 13.086768 0.0\n",
       "      C : 0.0 0.0 13.086768\n",
       "    pbc : True True True\n",
       "PeriodicSite: Cd (0.2053, 0.2205, 6.561) [0.01569, 0.01685, 0.5014]\n",
       "PeriodicSite: Cd (0.3553, 6.487, 0.1312) [0.02715, 0.4957, 0.01002]\n",
       "PeriodicSite: Cd (-0.01897, 6.518, 6.257) [-0.00145, 0.4981, 0.4781]\n",
       "PeriodicSite: Cd (6.18, 0.2624, -0.2391) [0.4722, 0.02005, -0.01827]\n",
       "PeriodicSite: Cd (6.394, -0.07051, 6.305) [0.4886, -0.005388, 0.4818]\n",
       "PeriodicSite: Cd (6.617, 6.787, -0.353) [0.5056, 0.5186, -0.02697]\n",
       "PeriodicSite: Cd (6.284, 6.88, 6.868) [0.4802, 0.5257, 0.5248]\n",
       "PeriodicSite: Cd (-0.4558, 3.571, 3.124) [-0.03483, 0.2729, 0.2387]\n",
       "PeriodicSite: Cd (-0.1384, 3.488, 9.488) [-0.01057, 0.2666, 0.725]\n",
       "PeriodicSite: Cd (-0.09905, 9.257, 3.324) [-0.007569, 0.7073, 0.254]\n",
       "PeriodicSite: Cd (-0.06663, 9.626, 10.05) [-0.005091, 0.7355, 0.768]\n",
       "PeriodicSite: Cd (6.551, 3.691, 3.056) [0.5006, 0.2821, 0.2335]\n",
       "PeriodicSite: Cd (6.759, 3.327, 9.583) [0.5165, 0.2542, 0.7323]\n",
       "PeriodicSite: Cd (6.636, 9.85, 3.788) [0.5071, 0.7526, 0.2895]\n",
       "PeriodicSite: Cd (6.608, 10.05, 9.935) [0.505, 0.7682, 0.7592]\n",
       "PeriodicSite: Cd (3.029, -0.1828, 3.548) [0.2314, -0.01397, 0.2711]\n",
       "PeriodicSite: Cd (3.11, 0.07026, 9.66) [0.2376, 0.005369, 0.7382]\n",
       "PeriodicSite: Cd (3.557, 6.442, 3.209) [0.2718, 0.4923, 0.2452]\n",
       "PeriodicSite: Cd (3.433, 6.771, 9.501) [0.2623, 0.5174, 0.726]\n",
       "PeriodicSite: Cd (9.712, -0.4834, 3.404) [0.7421, -0.03694, 0.2601]\n",
       "PeriodicSite: Cd (10.0, 0.108, 9.652) [0.7643, 0.008256, 0.7375]\n",
       "PeriodicSite: Cd (10.17, 6.624, 3.166) [0.7772, 0.5062, 0.2419]\n",
       "PeriodicSite: Cd (9.309, 6.402, 9.753) [0.7113, 0.4892, 0.7453]\n",
       "PeriodicSite: Cd (3.399, 3.474, -0.1808) [0.2598, 0.2655, -0.01382]\n",
       "PeriodicSite: Cd (3.739, 3.491, 6.314) [0.2857, 0.2668, 0.4824]\n",
       "PeriodicSite: Cd (3.341, 9.585, -0.3544) [0.2553, 0.7324, -0.02708]\n",
       "PeriodicSite: Cd (3.766, 9.437, 6.492) [0.2878, 0.7211, 0.4961]\n",
       "PeriodicSite: Cd (10.15, 3.529, -0.1238) [0.7756, 0.2697, -0.009462]\n",
       "PeriodicSite: Cd (10.04, 3.185, 6.992) [0.7675, 0.2434, 0.5343]\n",
       "PeriodicSite: Cd (10.02, 9.936, 0.1105) [0.766, 0.7593, 0.008443]\n",
       "PeriodicSite: Cd (9.751, 9.846, 6.461) [0.7451, 0.7523, 0.4937]\n",
       "PeriodicSite: Te (1.554, 1.973, 4.923) [0.1188, 0.1508, 0.3762]\n",
       "PeriodicSite: Te (1.717, 1.739, 12.04) [0.1312, 0.1329, 0.9203]\n",
       "PeriodicSite: Te (1.477, 8.091, 4.545) [0.1129, 0.6183, 0.3473]\n",
       "PeriodicSite: Te (1.722, 8.148, 11.39) [0.1316, 0.6226, 0.87]\n",
       "PeriodicSite: Te (8.224, 1.445, 4.531) [0.6284, 0.1104, 0.3462]\n",
       "PeriodicSite: Te (8.155, 1.874, 11.52) [0.6231, 0.1432, 0.8804]\n",
       "PeriodicSite: Te (8.026, 8.433, 5.136) [0.6133, 0.6444, 0.3925]\n",
       "PeriodicSite: Te (8.207, 8.071, 11.16) [0.6271, 0.6167, 0.8528]\n",
       "PeriodicSite: Te (1.667, 5.129, 1.884) [0.1274, 0.3919, 0.144]\n",
       "PeriodicSite: Te (1.494, 4.862, 8.019) [0.1142, 0.3715, 0.6127]\n",
       "PeriodicSite: Te (1.536, 11.61, 0.8924) [0.1173, 0.8871, 0.06819]\n",
       "PeriodicSite: Te (2.062, 11.15, 7.739) [0.1576, 0.852, 0.5914]\n",
       "PeriodicSite: Te (7.96, 5.025, 1.478) [0.6082, 0.3839, 0.113]\n",
       "PeriodicSite: Te (8.183, 4.763, 7.766) [0.6253, 0.3639, 0.5934]\n",
       "PeriodicSite: Te (8.586, 11.23, 1.458) [0.6561, 0.8579, 0.1114]\n",
       "PeriodicSite: Te (8.357, 11.49, 8.092) [0.6386, 0.8783, 0.6183]\n",
       "PeriodicSite: Te (4.831, 1.506, 1.987) [0.3692, 0.115, 0.1519]\n",
       "PeriodicSite: Te (4.977, 1.866, 8.37) [0.3803, 0.1426, 0.6396]\n",
       "PeriodicSite: Te (5.166, 8.374, 1.271) [0.3947, 0.6399, 0.09712]\n",
       "PeriodicSite: Te (4.908, 8.179, 8.179) [0.375, 0.625, 0.625]\n",
       "PeriodicSite: Te (11.75, 0.6269, 1.214) [0.8976, 0.04791, 0.09278]\n",
       "PeriodicSite: Te (11.72, 1.628, 7.921) [0.8959, 0.1244, 0.6053]\n",
       "PeriodicSite: Te (11.34, 8.198, 1.7) [0.8663, 0.6265, 0.1299]\n",
       "PeriodicSite: Te (11.38, 7.871, 8.078) [0.8694, 0.6014, 0.6172]\n",
       "PeriodicSite: Te (5.109, 4.908, 4.834) [0.3904, 0.375, 0.3694]\n",
       "PeriodicSite: Te (5.027, 4.928, 11.39) [0.3841, 0.3766, 0.8702]\n",
       "PeriodicSite: Te (4.966, 11.59, 4.809) [0.3795, 0.8854, 0.3675]\n",
       "PeriodicSite: Te (5.126, 11.18, 11.5) [0.3917, 0.8543, 0.8784]\n",
       "PeriodicSite: Te (11.54, 4.991, 5.276) [0.8818, 0.3814, 0.4032]\n",
       "PeriodicSite: Te (11.51, 5.165, 11.46) [0.8794, 0.3947, 0.8757]\n",
       "PeriodicSite: Te (11.45, 11.45, 4.908) [0.875, 0.875, 0.375]\n",
       "PeriodicSite: Te (11.18, 12.64, 11.79) [0.854, 0.9657, 0.9007]"
      ]
     },
     "execution_count": 10,
     "metadata": {},
     "output_type": "execute_result"
    }
   ],
   "source": [
    "V_Cd_dimer_struc_0pt25_rattled"
   ]
  },
  {
   "cell_type": "markdown",
   "metadata": {},
   "source": [
    "## Test Distortions"
   ]
  },
  {
   "cell_type": "code",
   "execution_count": 40,
   "metadata": {},
   "outputs": [
    {
     "data": {
      "text/plain": [
       "-2"
      ]
     },
     "execution_count": 40,
     "metadata": {},
     "output_type": "execute_result"
    }
   ],
   "source": [
    "V_Cd_entry.charge_state"
   ]
  },
  {
   "cell_type": "code",
   "execution_count": 42,
   "metadata": {},
   "outputs": [
    {
     "data": {
      "text/plain": [
       "Cd Vacancy defect at site #0"
      ]
     },
     "execution_count": 42,
     "metadata": {},
     "output_type": "execute_result"
    }
   ],
   "source": [
    "V_Cd"
   ]
  },
  {
   "cell_type": "code",
   "execution_count": 43,
   "metadata": {},
   "outputs": [
    {
     "data": {
      "text/plain": [
       "[-2, -1, 0, 1, 2]"
      ]
     },
     "execution_count": 43,
     "metadata": {},
     "output_type": "execute_result"
    }
   ],
   "source": [
    "V_Cd.user_charges"
   ]
  },
  {
   "cell_type": "code",
   "execution_count": 44,
   "metadata": {},
   "outputs": [],
   "source": [
    "from shakenbreak import input\n",
    "V_Cd_entry_neutral = input._get_defect_entry_from_defect(\n",
    "    V_Cd, 0\n",
    ")"
   ]
  },
  {
   "cell_type": "code",
   "execution_count": 54,
   "metadata": {},
   "outputs": [
    {
     "name": "stdout",
     "output_type": "stream",
     "text": [
      "Oxidation states were not explicitly set, thus have been guessed as {'Cd': 2.0, 'Te': -2.0}. If this is unreasonable you should manually set oxidation_states\n"
     ]
    }
   ],
   "source": [
    "from shakenbreak.input import Distortions\n",
    "\n",
    "dist = Distortions(defect_entries=[V_Cd_entry_neutral,], bond_distortions=[\"Dimer\",], seed=42, stdev=0.25)"
   ]
  },
  {
   "cell_type": "code",
   "execution_count": 55,
   "metadata": {},
   "outputs": [
    {
     "data": {
      "text/plain": [
       "['Dimer']"
      ]
     },
     "execution_count": 55,
     "metadata": {},
     "output_type": "execute_result"
    }
   ],
   "source": [
    "dist.bond_distortions"
   ]
  },
  {
   "cell_type": "code",
   "execution_count": 56,
   "metadata": {},
   "outputs": [
    {
     "data": {
      "text/plain": [
       "{'distortion_parameters': {'distortion_increment': None,\n",
       "  'bond_distortions': ['Dimer'],\n",
       "  'local_rattle': False,\n",
       "  'mc_rattle_parameters': {'seed': 42, 'stdev': 0.25}},\n",
       " 'defects': {}}"
      ]
     },
     "execution_count": 56,
     "metadata": {},
     "output_type": "execute_result"
    }
   ],
   "source": [
    "dist.distortion_metadata"
   ]
  },
  {
   "cell_type": "code",
   "execution_count": 57,
   "metadata": {},
   "outputs": [
    {
     "name": "stdout",
     "output_type": "stream",
     "text": [
      "Applying ShakeNBreak... Will apply the following bond distortions: ['Dimer']. Then, will rattle with a std dev of 0.25 Å \n",
      "\n",
      "\u001b[1m\n",
      "Defect: v_Cd\u001b[0m\n",
      "\u001b[1mNumber of missing electrons in neutral state: 2\u001b[0m\n",
      "\n",
      "Defect v_Cd in charge state: 0. Number of distorted neighbours: 2\n"
     ]
    },
    {
     "name": "stderr",
     "output_type": "stream",
     "text": [
      "input.py:274: UserWarning: The previously-generated defect folder v_Cd_0 in ShakeNBreak_remote has the same Unperturbed defect structure as the current defect species: v_Cd_0. ShakeNBreak files in v_Cd_0 will be overwritten.\n"
     ]
    },
    {
     "name": "stdout",
     "output_type": "stream",
     "text": [
      "There is a previous version of distortion_metadata.json. Will rename old metadata to distortion_metadata_2023-12-14-14-21.json\n",
      "Combining old and new metadata in distortion_metadata.json.\n"
     ]
    },
    {
     "name": "stderr",
     "output_type": "stream",
     "text": [
      "input.py:178: UserWarning: There was a problem when combining old and new metadata files! Will only write new metadata to ./distortion_metadata.json.\n"
     ]
    },
    {
     "data": {
      "text/plain": [
       "({'v_Cd': {'defect_type': 'vacancy',\n",
       "   'defect_site': PeriodicSite: Cd (0.0, 0.0, 0.0) [0.0, 0.0, 0.0],\n",
       "   'defect_supercell_site': PeriodicSite: Cd (0.0, 0.0, 0.0) [0.0, 0.0, 0.0],\n",
       "   'defect_multiplicity': 32,\n",
       "   'charges': {0: {'structures': {'Unperturbed': Structure Summary\n",
       "      Lattice\n",
       "          abc : 13.086768 13.086768 13.086768\n",
       "       angles : 90.0 90.0 90.0\n",
       "       volume : 2241.2856479961474\n",
       "            A : 13.086768 0.0 0.0\n",
       "            B : 0.0 13.086768 0.0\n",
       "            C : 0.0 0.0 13.086768\n",
       "          pbc : True True True\n",
       "      PeriodicSite: Cd (Cd2+) (0.0, 0.0, 6.543) [0.0, 0.0, 0.5]\n",
       "      PeriodicSite: Cd (Cd2+) (0.0, 6.543, 0.0) [0.0, 0.5, 0.0]\n",
       "      PeriodicSite: Cd (Cd2+) (0.0, 6.543, 6.543) [0.0, 0.5, 0.5]\n",
       "      PeriodicSite: Cd (Cd2+) (6.543, 0.0, 0.0) [0.5, 0.0, 0.0]\n",
       "      PeriodicSite: Cd (Cd2+) (6.543, 0.0, 6.543) [0.5, 0.0, 0.5]\n",
       "      PeriodicSite: Cd (Cd2+) (6.543, 6.543, 0.0) [0.5, 0.5, 0.0]\n",
       "      PeriodicSite: Cd (Cd2+) (6.543, 6.543, 6.543) [0.5, 0.5, 0.5]\n",
       "      PeriodicSite: Cd (Cd2+) (0.0, 3.272, 3.272) [0.0, 0.25, 0.25]\n",
       "      PeriodicSite: Cd (Cd2+) (0.0, 3.272, 9.815) [0.0, 0.25, 0.75]\n",
       "      PeriodicSite: Cd (Cd2+) (0.0, 9.815, 3.272) [0.0, 0.75, 0.25]\n",
       "      PeriodicSite: Cd (Cd2+) (0.0, 9.815, 9.815) [0.0, 0.75, 0.75]\n",
       "      PeriodicSite: Cd (Cd2+) (6.543, 3.272, 3.272) [0.5, 0.25, 0.25]\n",
       "      PeriodicSite: Cd (Cd2+) (6.543, 3.272, 9.815) [0.5, 0.25, 0.75]\n",
       "      PeriodicSite: Cd (Cd2+) (6.543, 9.815, 3.272) [0.5, 0.75, 0.25]\n",
       "      PeriodicSite: Cd (Cd2+) (6.543, 9.815, 9.815) [0.5, 0.75, 0.75]\n",
       "      PeriodicSite: Cd (Cd2+) (3.272, 0.0, 3.272) [0.25, 0.0, 0.25]\n",
       "      PeriodicSite: Cd (Cd2+) (3.272, 0.0, 9.815) [0.25, 0.0, 0.75]\n",
       "      PeriodicSite: Cd (Cd2+) (3.272, 6.543, 3.272) [0.25, 0.5, 0.25]\n",
       "      PeriodicSite: Cd (Cd2+) (3.272, 6.543, 9.815) [0.25, 0.5, 0.75]\n",
       "      PeriodicSite: Cd (Cd2+) (9.815, 0.0, 3.272) [0.75, 0.0, 0.25]\n",
       "      PeriodicSite: Cd (Cd2+) (9.815, 0.0, 9.815) [0.75, 0.0, 0.75]\n",
       "      PeriodicSite: Cd (Cd2+) (9.815, 6.543, 3.272) [0.75, 0.5, 0.25]\n",
       "      PeriodicSite: Cd (Cd2+) (9.815, 6.543, 9.815) [0.75, 0.5, 0.75]\n",
       "      PeriodicSite: Cd (Cd2+) (3.272, 3.272, 0.0) [0.25, 0.25, 0.0]\n",
       "      PeriodicSite: Cd (Cd2+) (3.272, 3.272, 6.543) [0.25, 0.25, 0.5]\n",
       "      PeriodicSite: Cd (Cd2+) (3.272, 9.815, 0.0) [0.25, 0.75, 0.0]\n",
       "      PeriodicSite: Cd (Cd2+) (3.272, 9.815, 6.543) [0.25, 0.75, 0.5]\n",
       "      PeriodicSite: Cd (Cd2+) (9.815, 3.272, 0.0) [0.75, 0.25, 0.0]\n",
       "      PeriodicSite: Cd (Cd2+) (9.815, 3.272, 6.543) [0.75, 0.25, 0.5]\n",
       "      PeriodicSite: Cd (Cd2+) (9.815, 9.815, 0.0) [0.75, 0.75, 0.0]\n",
       "      PeriodicSite: Cd (Cd2+) (9.815, 9.815, 6.543) [0.75, 0.75, 0.5]\n",
       "      PeriodicSite: Te (Te2-) (1.636, 1.636, 4.908) [0.125, 0.125, 0.375]\n",
       "      PeriodicSite: Te (Te2-) (1.636, 1.636, 11.45) [0.125, 0.125, 0.875]\n",
       "      PeriodicSite: Te (Te2-) (1.636, 8.179, 4.908) [0.125, 0.625, 0.375]\n",
       "      PeriodicSite: Te (Te2-) (1.636, 8.179, 11.45) [0.125, 0.625, 0.875]\n",
       "      PeriodicSite: Te (Te2-) (8.179, 1.636, 4.908) [0.625, 0.125, 0.375]\n",
       "      PeriodicSite: Te (Te2-) (8.179, 1.636, 11.45) [0.625, 0.125, 0.875]\n",
       "      PeriodicSite: Te (Te2-) (8.179, 8.179, 4.908) [0.625, 0.625, 0.375]\n",
       "      PeriodicSite: Te (Te2-) (8.179, 8.179, 11.45) [0.625, 0.625, 0.875]\n",
       "      PeriodicSite: Te (Te2-) (1.636, 4.908, 1.636) [0.125, 0.375, 0.125]\n",
       "      PeriodicSite: Te (Te2-) (1.636, 4.908, 8.179) [0.125, 0.375, 0.625]\n",
       "      PeriodicSite: Te (Te2-) (1.636, 11.45, 1.636) [0.125, 0.875, 0.125]\n",
       "      PeriodicSite: Te (Te2-) (1.636, 11.45, 8.179) [0.125, 0.875, 0.625]\n",
       "      PeriodicSite: Te (Te2-) (8.179, 4.908, 1.636) [0.625, 0.375, 0.125]\n",
       "      PeriodicSite: Te (Te2-) (8.179, 4.908, 8.179) [0.625, 0.375, 0.625]\n",
       "      PeriodicSite: Te (Te2-) (8.179, 11.45, 1.636) [0.625, 0.875, 0.125]\n",
       "      PeriodicSite: Te (Te2-) (8.179, 11.45, 8.179) [0.625, 0.875, 0.625]\n",
       "      PeriodicSite: Te (Te2-) (4.908, 1.636, 1.636) [0.375, 0.125, 0.125]\n",
       "      PeriodicSite: Te (Te2-) (4.908, 1.636, 8.179) [0.375, 0.125, 0.625]\n",
       "      PeriodicSite: Te (Te2-) (4.908, 8.179, 1.636) [0.375, 0.625, 0.125]\n",
       "      PeriodicSite: Te (Te2-) (4.908, 8.179, 8.179) [0.375, 0.625, 0.625]\n",
       "      PeriodicSite: Te (Te2-) (11.45, 1.636, 1.636) [0.875, 0.125, 0.125]\n",
       "      PeriodicSite: Te (Te2-) (11.45, 1.636, 8.179) [0.875, 0.125, 0.625]\n",
       "      PeriodicSite: Te (Te2-) (11.45, 8.179, 1.636) [0.875, 0.625, 0.125]\n",
       "      PeriodicSite: Te (Te2-) (11.45, 8.179, 8.179) [0.875, 0.625, 0.625]\n",
       "      PeriodicSite: Te (Te2-) (4.908, 4.908, 4.908) [0.375, 0.375, 0.375]\n",
       "      PeriodicSite: Te (Te2-) (4.908, 4.908, 11.45) [0.375, 0.375, 0.875]\n",
       "      PeriodicSite: Te (Te2-) (4.908, 11.45, 4.908) [0.375, 0.875, 0.375]\n",
       "      PeriodicSite: Te (Te2-) (4.908, 11.45, 11.45) [0.375, 0.875, 0.875]\n",
       "      PeriodicSite: Te (Te2-) (11.45, 4.908, 4.908) [0.875, 0.375, 0.375]\n",
       "      PeriodicSite: Te (Te2-) (11.45, 4.908, 11.45) [0.875, 0.375, 0.875]\n",
       "      PeriodicSite: Te (Te2-) (11.45, 11.45, 4.908) [0.875, 0.875, 0.375]\n",
       "      PeriodicSite: Te (Te2-) (11.45, 11.45, 11.45) [0.875, 0.875, 0.875],\n",
       "      'distortions': {'Dimer': Structure Summary\n",
       "       Lattice\n",
       "           abc : 13.086768 13.086768 13.086768\n",
       "        angles : 90.0 90.0 90.0\n",
       "        volume : 2241.2856479961474\n",
       "             A : 13.086768 0.0 0.0\n",
       "             B : 0.0 13.086768 0.0\n",
       "             C : 0.0 0.0 13.086768\n",
       "           pbc : True True True\n",
       "       PeriodicSite: Cd2+ (0.2053, 0.2205, 6.561) [0.01569, 0.01685, 0.5014]\n",
       "       PeriodicSite: Cd2+ (0.3553, 6.487, 0.1312) [0.02715, 0.4957, 0.01002]\n",
       "       PeriodicSite: Cd2+ (-0.01897, 6.518, 6.257) [-0.00145, 0.4981, 0.4781]\n",
       "       PeriodicSite: Cd2+ (6.18, 0.2624, -0.2391) [0.4722, 0.02005, -0.01827]\n",
       "       PeriodicSite: Cd2+ (6.394, -0.07051, 6.305) [0.4886, -0.005388, 0.4818]\n",
       "       PeriodicSite: Cd2+ (6.617, 6.787, -0.353) [0.5056, 0.5186, -0.02697]\n",
       "       PeriodicSite: Cd2+ (6.284, 6.88, 6.868) [0.4802, 0.5257, 0.5248]\n",
       "       PeriodicSite: Cd2+ (-0.4558, 3.571, 3.124) [-0.03483, 0.2729, 0.2387]\n",
       "       PeriodicSite: Cd2+ (-0.1384, 3.488, 9.488) [-0.01057, 0.2666, 0.725]\n",
       "       PeriodicSite: Cd2+ (-0.09905, 9.257, 3.324) [-0.007569, 0.7073, 0.254]\n",
       "       PeriodicSite: Cd2+ (-0.06663, 9.626, 10.05) [-0.005091, 0.7355, 0.768]\n",
       "       PeriodicSite: Cd2+ (6.551, 3.691, 3.056) [0.5006, 0.2821, 0.2335]\n",
       "       PeriodicSite: Cd2+ (6.759, 3.327, 9.583) [0.5165, 0.2542, 0.7323]\n",
       "       PeriodicSite: Cd2+ (6.636, 9.85, 3.788) [0.5071, 0.7526, 0.2895]\n",
       "       PeriodicSite: Cd2+ (6.608, 10.05, 9.935) [0.505, 0.7682, 0.7592]\n",
       "       PeriodicSite: Cd2+ (3.029, -0.1828, 3.548) [0.2314, -0.01397, 0.2711]\n",
       "       PeriodicSite: Cd2+ (3.11, 0.07026, 9.66) [0.2376, 0.005369, 0.7382]\n",
       "       PeriodicSite: Cd2+ (3.557, 6.442, 3.209) [0.2718, 0.4923, 0.2452]\n",
       "       PeriodicSite: Cd2+ (3.433, 6.771, 9.501) [0.2623, 0.5174, 0.726]\n",
       "       PeriodicSite: Cd2+ (9.712, -0.4834, 3.404) [0.7421, -0.03694, 0.2601]\n",
       "       PeriodicSite: Cd2+ (10.0, 0.108, 9.652) [0.7643, 0.008256, 0.7375]\n",
       "       PeriodicSite: Cd2+ (9.473, 6.941, 3.488) [0.7238, 0.5303, 0.2665]\n",
       "       PeriodicSite: Cd2+ (10.17, 6.624, 9.709) [0.7772, 0.5062, 0.7419]\n",
       "       PeriodicSite: Cd2+ (2.765, 3.13, -0.06169) [0.2113, 0.2392, -0.004714]\n",
       "       PeriodicSite: Cd2+ (3.399, 3.474, 6.363) [0.2598, 0.2655, 0.4862]\n",
       "       PeriodicSite: Cd2+ (3.739, 10.03, -0.2298) [0.2857, 0.7668, -0.01756]\n",
       "       PeriodicSite: Cd2+ (3.341, 9.585, 6.189) [0.2553, 0.7324, 0.4729]\n",
       "       PeriodicSite: Cd2+ (10.31, 2.893, -0.05157) [0.7878, 0.2211, -0.00394]\n",
       "       PeriodicSite: Cd2+ (10.15, 3.529, 6.42) [0.7756, 0.2697, 0.4905]\n",
       "       PeriodicSite: Cd2+ (10.04, 9.729, 0.4483) [0.7675, 0.7434, 0.03426]\n",
       "       PeriodicSite: Cd2+ (10.02, 9.936, 6.654) [0.766, 0.7593, 0.5084]\n",
       "       PeriodicSite: Te2- (1.204, 1.814, 5.28) [0.09202, 0.1386, 0.4035]\n",
       "       PeriodicSite: Te2- (1.572, 1.666, 11.37) [0.1201, 0.1273, 0.8687]\n",
       "       PeriodicSite: Te2- (1.554, 8.517, 4.923) [0.1188, 0.6508, 0.3762]\n",
       "       PeriodicSite: Te2- (1.717, 8.282, 12.04) [0.1312, 0.6329, 0.9203]\n",
       "       PeriodicSite: Te2- (8.021, 1.548, 4.545) [0.6129, 0.1183, 0.3473]\n",
       "       PeriodicSite: Te2- (8.265, 1.604, 11.39) [0.6316, 0.1226, 0.87]\n",
       "       PeriodicSite: Te2- (8.224, 7.989, 4.531) [0.6284, 0.6104, 0.3462]\n",
       "       PeriodicSite: Te2- (8.155, 8.417, 11.52) [0.6231, 0.6432, 0.8804]\n",
       "       PeriodicSite: Te2- (1.482, 5.161, 1.864) [0.1133, 0.3944, 0.1425]\n",
       "       PeriodicSite: Te2- (1.491, 4.818, 8.53) [0.1139, 0.3682, 0.6518]\n",
       "       PeriodicSite: Te2- (1.664, 11.34, 1.345) [0.1271, 0.8667, 0.1028]\n",
       "       PeriodicSite: Te2- (1.667, 11.67, 8.428) [0.1274, 0.8919, 0.644]\n",
       "       PeriodicSite: Te2- (8.038, 4.862, 1.475) [0.6142, 0.3715, 0.1127]\n",
       "       PeriodicSite: Te2- (8.079, 5.065, 7.436) [0.6173, 0.3871, 0.5682]\n",
       "       PeriodicSite: Te2- (8.605, 11.15, 1.196) [0.6576, 0.852, 0.09136]\n",
       "       PeriodicSite: Te2- (7.96, 11.57, 8.022) [0.6082, 0.8839, 0.613]\n",
       "       PeriodicSite: Te2- (5.551, 2.105, 1.391) [0.4242, 0.1608, 0.1063]\n",
       "       PeriodicSite: Te2- (4.72, 1.671, 8.657) [0.3606, 0.1277, 0.6615]\n",
       "       PeriodicSite: Te2- (4.911, 8.035, 1.222) [0.3753, 0.6139, 0.09339]\n",
       "       PeriodicSite: Te2- (4.908, 8.179, 8.179) [0.375, 0.625, 0.625]\n",
       "       PeriodicSite: Te2- (11.86, 0.4834, 0.5293) [0.9061, 0.03694, 0.04044]\n",
       "       PeriodicSite: Te2- (11.63, 1.679, 8.092) [0.8886, 0.1283, 0.6183]\n",
       "       PeriodicSite: Te2- (12.07, 7.765, 1.636) [0.9222, 0.5934, 0.125]\n",
       "       PeriodicSite: Te2- (11.37, 8.049, 8.531) [0.8692, 0.615, 0.6519]\n",
       "       PeriodicSite: Te2- (4.683, 5.189, 4.418) [0.3578, 0.3965, 0.3376]\n",
       "       PeriodicSite: Te2- (4.977, 5.138, 11.64) [0.3803, 0.3926, 0.8896]\n",
       "       PeriodicSite: Te2- (5.166, 11.65, 4.543) [0.3947, 0.8899, 0.3471]\n",
       "       PeriodicSite: Te2- (4.929, 11.62, 11.55) [0.3766, 0.8877, 0.8827]\n",
       "       PeriodicSite: Te2- (11.84, 4.942, 4.512) [0.905, 0.3776, 0.3448]\n",
       "       PeriodicSite: Te2- (11.75, 4.827, 11.96) [0.8976, 0.3689, 0.9138]\n",
       "       PeriodicSite: Te2- (11.45, 11.45, 4.908) [0.875, 0.875, 0.375]\n",
       "       PeriodicSite: Te2- (11.72, 12.37, 12.12) [0.8959, 0.9454, 0.9262]}}}}}},\n",
       " {'distortion_parameters': {'distortion_increment': None,\n",
       "   'bond_distortions': ['Dimer'],\n",
       "   'local_rattle': False,\n",
       "   'mc_rattle_parameters': {'seed': 42, 'stdev': 0.25}},\n",
       "  'defects': {'v_Cd': {'unique_site': [0.0, 0.0, 0.0],\n",
       "    'charges': {0: {'num_nearest_neighbours': 2,\n",
       "      'distorted_atoms': None,\n",
       "      'distortion_parameters': {'distortion_increment': None,\n",
       "       'bond_distortions': ['Dimer'],\n",
       "       'local_rattle': False,\n",
       "       'mc_rattle_parameters': {'seed': 42, 'stdev': 0.25}}}}}}})"
      ]
     },
     "execution_count": 57,
     "metadata": {},
     "output_type": "execute_result"
    }
   ],
   "source": [
    "dist.write_vasp_files()"
   ]
  },
  {
   "cell_type": "markdown",
   "metadata": {},
   "source": [
    "# Test Analysis functions"
   ]
  },
  {
   "cell_type": "code",
   "execution_count": null,
   "metadata": {},
   "outputs": [],
   "source": []
  }
 ],
 "metadata": {
  "kernelspec": {
   "display_name": "pmg",
   "language": "python",
   "name": "python3"
  },
  "language_info": {
   "codemirror_mode": {
    "name": "ipython",
    "version": 3
   },
   "file_extension": ".py",
   "mimetype": "text/x-python",
   "name": "python",
   "nbconvert_exporter": "python",
   "pygments_lexer": "ipython3",
   "version": "3.9.17"
  }
 },
 "nbformat": 4,
 "nbformat_minor": 2
}
