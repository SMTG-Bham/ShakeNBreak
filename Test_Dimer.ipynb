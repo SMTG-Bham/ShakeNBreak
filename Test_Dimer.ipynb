{
 "cells": [
  {
   "cell_type": "markdown",
   "metadata": {},
   "source": [
    "# Test Dimer distortion"
   ]
  },
  {
   "cell_type": "code",
   "execution_count": 3,
   "metadata": {},
   "outputs": [
    {
     "name": "stderr",
     "output_type": "stream",
     "text": [
      "Generating DefectEntry objects: 100.0%|██████████| [00:06,  14.43it/s]"
     ]
    },
    {
     "name": "stdout",
     "output_type": "stream",
     "text": [
      "Vacancies    Charge States    Conv. Cell Coords    Wyckoff\n",
      "-----------  ---------------  -------------------  ---------\n",
      "v_Cd         [-2,-1,0,+1]     [0.000,0.000,0.000]  4a\n",
      "v_Te         [-1,0,+1,+2]     [0.250,0.250,0.250]  4c\n",
      "\n",
      "Substitutions    Charge States          Conv. Cell Coords    Wyckoff\n",
      "---------------  ---------------------  -------------------  ---------\n",
      "Cd_Te            [0,+1,+2,+3,+4]        [0.250,0.250,0.250]  4c\n",
      "Te_Cd            [-4,-3,-2,-1,0,+1,+2]  [0.000,0.000,0.000]  4a\n",
      "\n",
      "Interstitials    Charge States          Conv. Cell Coords    Wyckoff\n",
      "---------------  ---------------------  -------------------  ---------\n",
      "Cd_i_C3v         [0,+1,+2]              [0.625,0.625,0.625]  16e\n",
      "Cd_i_Td_Cd2.83   [0,+1,+2]              [0.750,0.750,0.750]  4d\n",
      "Cd_i_Td_Te2.83   [0,+1,+2]              [0.500,0.500,0.500]  4b\n",
      "Te_i_C3v         [-2,-1,0,+1,+2,+3,+4]  [0.625,0.625,0.625]  16e\n",
      "Te_i_Td_Cd2.83   [-2,-1,0,+1,+2,+3,+4]  [0.750,0.750,0.750]  4d\n",
      "Te_i_Td_Te2.83   [-2,-1,0,+1,+2,+3,+4]  [0.500,0.500,0.500]  4b\n",
      "\n",
      "The number in the Wyckoff label is the site multiplicity/degeneracy of that defect in the conventional ('conv.') unit cell, which comprises 4 formula unit(s) of CdTe.\n",
      "Note that Wyckoff letters can depend on the ordering of elements in the conventional standard structure, for which doped uses the spglib convention.\n"
     ]
    },
    {
     "name": "stderr",
     "output_type": "stream",
     "text": [
      "\n"
     ]
    }
   ],
   "source": [
    "from pymatgen.core.structure import Structure\n",
    "from doped.generation import DefectsGenerator\n",
    "\n",
    "bulk = Structure.from_file(\"./tests/data/vasp/CdTe/CdTe_Bulk_Primitive_POSCAR\")  # CdTe\n",
    "defect_gen = DefectsGenerator(bulk)"
   ]
  },
  {
   "cell_type": "code",
   "execution_count": 4,
   "metadata": {},
   "outputs": [
    {
     "data": {
      "text/plain": [
       "dict_keys(['v_Cd_-2', 'v_Cd_-1', 'v_Cd_0', 'v_Cd_+1', 'v_Te_-1', 'v_Te_0', 'v_Te_+1', 'v_Te_+2', 'Cd_Te_0', 'Cd_Te_+1', 'Cd_Te_+2', 'Cd_Te_+3', 'Cd_Te_+4', 'Te_Cd_-4', 'Te_Cd_-3', 'Te_Cd_-2', 'Te_Cd_-1', 'Te_Cd_0', 'Te_Cd_+1', 'Te_Cd_+2', 'Cd_i_C3v_0', 'Cd_i_C3v_+1', 'Cd_i_C3v_+2', 'Cd_i_Td_Cd2.83_0', 'Cd_i_Td_Cd2.83_+1', 'Cd_i_Td_Cd2.83_+2', 'Cd_i_Td_Te2.83_0', 'Cd_i_Td_Te2.83_+1', 'Cd_i_Td_Te2.83_+2', 'Te_i_C3v_-2', 'Te_i_C3v_-1', 'Te_i_C3v_0', 'Te_i_C3v_+1', 'Te_i_C3v_+2', 'Te_i_C3v_+3', 'Te_i_C3v_+4', 'Te_i_Td_Cd2.83_-2', 'Te_i_Td_Cd2.83_-1', 'Te_i_Td_Cd2.83_0', 'Te_i_Td_Cd2.83_+1', 'Te_i_Td_Cd2.83_+2', 'Te_i_Td_Cd2.83_+3', 'Te_i_Td_Cd2.83_+4', 'Te_i_Td_Te2.83_-2', 'Te_i_Td_Te2.83_-1', 'Te_i_Td_Te2.83_0', 'Te_i_Td_Te2.83_+1', 'Te_i_Td_Te2.83_+2', 'Te_i_Td_Te2.83_+3', 'Te_i_Td_Te2.83_+4'])"
      ]
     },
     "execution_count": 4,
     "metadata": {},
     "output_type": "execute_result"
    }
   ],
   "source": [
    "defect_gen.defect_entries.keys()"
   ]
  },
  {
   "cell_type": "code",
   "execution_count": 5,
   "metadata": {},
   "outputs": [],
   "source": [
    "defects = {\n",
    "    'v_Cd_0': defect_gen.defect_entries['v_Cd_0'],\n",
    "    'v_Cd_-1': defect_gen.defect_entries['v_Cd_-1'],\n",
    "    'v_Cd_-2': defect_gen.defect_entries['v_Cd_-2'],\n",
    "}"
   ]
  },
  {
   "cell_type": "code",
   "execution_count": 6,
   "metadata": {},
   "outputs": [
    {
     "name": "stdout",
     "output_type": "stream",
     "text": [
      "Oxidation states were not explicitly set, thus have been guessed as {'Cd': 2.0, 'Te': -2.0}. If this is unreasonable you should manually set oxidation_states\n"
     ]
    }
   ],
   "source": [
    "from shakenbreak.input import Distortions\n",
    "\n",
    "Dist = Distortions(\n",
    "    defects,\n",
    "    bond_distortions=[\"Dimer\",]\n",
    ")"
   ]
  },
  {
   "cell_type": "code",
   "execution_count": 7,
   "metadata": {},
   "outputs": [
    {
     "data": {
      "text/plain": [
       "['Dimer']"
      ]
     },
     "execution_count": 7,
     "metadata": {},
     "output_type": "execute_result"
    }
   ],
   "source": [
    "Dist.bond_distortions"
   ]
  },
  {
   "cell_type": "code",
   "execution_count": 8,
   "metadata": {},
   "outputs": [
    {
     "data": {
      "text/plain": [
       "{'distortion_parameters': {'distortion_increment': None,\n",
       "  'bond_distortions': ['Dimer'],\n",
       "  'local_rattle': False,\n",
       "  'mc_rattle_parameters': {'stdev': 0.28333683853583175}},\n",
       " 'defects': {}}"
      ]
     },
     "execution_count": 8,
     "metadata": {},
     "output_type": "execute_result"
    }
   ],
   "source": [
    "Dist.distortion_metadata"
   ]
  },
  {
   "cell_type": "code",
   "execution_count": 9,
   "metadata": {},
   "outputs": [
    {
     "name": "stdout",
     "output_type": "stream",
     "text": [
      "Applying ShakeNBreak... Will apply the following bond distortions: ['Dimer']. Then, will rattle with a std dev of 0.28 Å \n",
      "\n",
      "\u001b[1m\n",
      "Defect: v_Cd\u001b[0m\n",
      "\u001b[1mNumber of missing electrons in neutral state: 2\u001b[0m\n",
      "\n",
      "Defect v_Cd in charge state: 0. Number of distorted neighbours: 2\n",
      "\n",
      "Defect v_Cd in charge state: -1. Number of distorted neighbours: 1\n",
      "\n",
      "Defect v_Cd in charge state: -2. Number of distorted neighbours: 0\n"
     ]
    },
    {
     "name": "stderr",
     "output_type": "stream",
     "text": [
      "local_env.py:4133: UserWarning: No oxidation states specified on sites! For better results, set the site oxidation states in the structure.\n",
      "local_env.py:3927: UserWarning: CrystalNN: cannot locate an appropriate radius, covalent or atomic radii will be used, this can lead to non-optimal results.\n"
     ]
    }
   ],
   "source": [
    "defects_dict, distortion_metadata = Dist.apply_distortions()"
   ]
  },
  {
   "cell_type": "code",
   "execution_count": 10,
   "metadata": {},
   "outputs": [
    {
     "name": "stdout",
     "output_type": "stream",
     "text": [
      "Applying ShakeNBreak... Will apply the following bond distortions: ['Dimer']. Then, will rattle with a std dev of 0.28 Å \n",
      "\n",
      "\u001b[1m\n",
      "Defect: v_Cd\u001b[0m\n",
      "\u001b[1mNumber of missing electrons in neutral state: 2\u001b[0m\n",
      "\n",
      "Defect v_Cd in charge state: 0. Number of distorted neighbours: 2\n",
      "\n",
      "Defect v_Cd in charge state: -1. Number of distorted neighbours: 1\n",
      "\n",
      "Defect v_Cd in charge state: -2. Number of distorted neighbours: 0\n"
     ]
    },
    {
     "data": {
      "text/plain": [
       "({'v_Cd': {'defect_type': 'vacancy',\n",
       "   'defect_site': PeriodicSite: Cd (6.543, 6.543, 6.543) [0.5, 0.5, 0.5],\n",
       "   'defect_supercell_site': PeriodicSite: Cd (6.543, 6.543, 6.543) [0.5, 0.5, 0.5],\n",
       "   'defect_multiplicity': 1,\n",
       "   'charges': {0: {'structures': {'Unperturbed': Structure Summary\n",
       "      Lattice\n",
       "          abc : 13.086768 13.086768 13.086768\n",
       "       angles : 90.0 90.0 90.0\n",
       "       volume : 2241.2856479961474\n",
       "            A : 13.086768 0.0 0.0\n",
       "            B : 0.0 13.086768 0.0\n",
       "            C : 0.0 0.0 13.086768\n",
       "          pbc : True True True\n",
       "      PeriodicSite: Cd (6.543, 0.0, 0.0) [0.5, 0.0, 0.0]\n",
       "      PeriodicSite: Cd (9.815, 3.272, 0.0) [0.75, 0.25, 0.0]\n",
       "      PeriodicSite: Cd (9.815, 0.0, 3.272) [0.75, 0.0, 0.25]\n",
       "      PeriodicSite: Cd (0.0, 0.0, 0.0) [0.0, 0.0, 0.0]\n",
       "      PeriodicSite: Cd (3.272, 3.272, 0.0) [0.25, 0.25, 0.0]\n",
       "      PeriodicSite: Cd (6.543, 6.543, 0.0) [0.5, 0.5, 0.0]\n",
       "      PeriodicSite: Cd (9.815, 9.815, 0.0) [0.75, 0.75, 0.0]\n",
       "      PeriodicSite: Cd (3.272, 0.0, 3.272) [0.25, 0.0, 0.25]\n",
       "      PeriodicSite: Cd (6.543, 3.272, 3.272) [0.5, 0.25, 0.25]\n",
       "      PeriodicSite: Cd (9.815, 6.543, 3.272) [0.75, 0.5, 0.25]\n",
       "      PeriodicSite: Cd (6.543, 0.0, 6.543) [0.5, 0.0, 0.5]\n",
       "      PeriodicSite: Cd (9.815, 3.272, 6.543) [0.75, 0.25, 0.5]\n",
       "      PeriodicSite: Cd (9.815, 0.0, 9.815) [0.75, 0.0, 0.75]\n",
       "      PeriodicSite: Cd (0.0, 6.543, 0.0) [0.0, 0.5, 0.0]\n",
       "      PeriodicSite: Cd (3.272, 9.815, 0.0) [0.25, 0.75, 0.0]\n",
       "      PeriodicSite: Cd (0.0, 3.272, 3.272) [0.0, 0.25, 0.25]\n",
       "      PeriodicSite: Cd (3.272, 6.543, 3.272) [0.25, 0.5, 0.25]\n",
       "      PeriodicSite: Cd (6.543, 9.815, 3.272) [0.5, 0.75, 0.25]\n",
       "      PeriodicSite: Cd (0.0, 0.0, 6.543) [0.0, 0.0, 0.5]\n",
       "      PeriodicSite: Cd (3.272, 3.272, 6.543) [0.25, 0.25, 0.5]\n",
       "      PeriodicSite: Cd (9.815, 9.815, 6.543) [0.75, 0.75, 0.5]\n",
       "      PeriodicSite: Cd (3.272, 0.0, 9.815) [0.25, 0.0, 0.75]\n",
       "      PeriodicSite: Cd (6.543, 3.272, 9.815) [0.5, 0.25, 0.75]\n",
       "      PeriodicSite: Cd (9.815, 6.543, 9.815) [0.75, 0.5, 0.75]\n",
       "      PeriodicSite: Cd (0.0, 9.815, 3.272) [0.0, 0.75, 0.25]\n",
       "      PeriodicSite: Cd (0.0, 6.543, 6.543) [0.0, 0.5, 0.5]\n",
       "      PeriodicSite: Cd (3.272, 9.815, 6.543) [0.25, 0.75, 0.5]\n",
       "      PeriodicSite: Cd (0.0, 3.272, 9.815) [0.0, 0.25, 0.75]\n",
       "      PeriodicSite: Cd (3.272, 6.543, 9.815) [0.25, 0.5, 0.75]\n",
       "      PeriodicSite: Cd (6.543, 9.815, 9.815) [0.5, 0.75, 0.75]\n",
       "      PeriodicSite: Cd (0.0, 9.815, 9.815) [0.0, 0.75, 0.75]\n",
       "      PeriodicSite: Te (11.45, 4.908, 4.908) [0.875, 0.375, 0.375]\n",
       "      PeriodicSite: Te (1.636, 8.179, 4.908) [0.125, 0.625, 0.375]\n",
       "      PeriodicSite: Te (1.636, 4.908, 8.179) [0.125, 0.375, 0.625]\n",
       "      PeriodicSite: Te (4.908, 4.908, 4.908) [0.375, 0.375, 0.375]\n",
       "      PeriodicSite: Te (8.179, 8.179, 4.908) [0.625, 0.625, 0.375]\n",
       "      PeriodicSite: Te (11.45, 11.45, 4.908) [0.875, 0.875, 0.375]\n",
       "      PeriodicSite: Te (1.636, 1.636, 4.908) [0.125, 0.125, 0.375]\n",
       "      PeriodicSite: Te (8.179, 4.908, 8.179) [0.625, 0.375, 0.625]\n",
       "      PeriodicSite: Te (11.45, 8.179, 8.179) [0.875, 0.625, 0.625]\n",
       "      PeriodicSite: Te (1.636, 11.45, 8.179) [0.125, 0.875, 0.625]\n",
       "      PeriodicSite: Te (11.45, 4.908, 11.45) [0.875, 0.375, 0.875]\n",
       "      PeriodicSite: Te (1.636, 8.179, 11.45) [0.125, 0.625, 0.875]\n",
       "      PeriodicSite: Te (1.636, 4.908, 1.636) [0.125, 0.375, 0.125]\n",
       "      PeriodicSite: Te (4.908, 11.45, 4.908) [0.375, 0.875, 0.375]\n",
       "      PeriodicSite: Te (8.179, 1.636, 4.908) [0.625, 0.125, 0.375]\n",
       "      PeriodicSite: Te (4.908, 8.179, 8.179) [0.375, 0.625, 0.625]\n",
       "      PeriodicSite: Te (8.179, 11.45, 8.179) [0.625, 0.875, 0.625]\n",
       "      PeriodicSite: Te (11.45, 1.636, 8.179) [0.875, 0.125, 0.625]\n",
       "      PeriodicSite: Te (4.908, 4.908, 11.45) [0.375, 0.375, 0.875]\n",
       "      PeriodicSite: Te (8.179, 8.179, 11.45) [0.625, 0.625, 0.875]\n",
       "      PeriodicSite: Te (11.45, 11.45, 11.45) [0.875, 0.875, 0.875]\n",
       "      PeriodicSite: Te (1.636, 1.636, 11.45) [0.125, 0.125, 0.875]\n",
       "      PeriodicSite: Te (8.179, 4.908, 1.636) [0.625, 0.375, 0.125]\n",
       "      PeriodicSite: Te (11.45, 8.179, 1.636) [0.875, 0.625, 0.125]\n",
       "      PeriodicSite: Te (1.636, 11.45, 1.636) [0.125, 0.875, 0.125]\n",
       "      PeriodicSite: Te (4.908, 1.636, 8.179) [0.375, 0.125, 0.625]\n",
       "      PeriodicSite: Te (4.908, 11.45, 11.45) [0.375, 0.875, 0.875]\n",
       "      PeriodicSite: Te (8.179, 1.636, 11.45) [0.625, 0.125, 0.875]\n",
       "      PeriodicSite: Te (4.908, 8.179, 1.636) [0.375, 0.625, 0.125]\n",
       "      PeriodicSite: Te (8.179, 11.45, 1.636) [0.625, 0.875, 0.125]\n",
       "      PeriodicSite: Te (11.45, 1.636, 1.636) [0.875, 0.125, 0.125]\n",
       "      PeriodicSite: Te (4.908, 1.636, 1.636) [0.375, 0.125, 0.125],\n",
       "      'distortions': {'Dimer': Structure Summary\n",
       "       Lattice\n",
       "           abc : 13.086768 13.086768 13.086768\n",
       "        angles : 90.0 90.0 90.0\n",
       "        volume : 2241.2856479961474\n",
       "             A : 13.086768 0.0 0.0\n",
       "             B : 0.0 13.086768 0.0\n",
       "             C : 0.0 0.0 13.086768\n",
       "           pbc : True True True\n",
       "       PeriodicSite: Cd (6.543, 0.0, 0.0) [0.5, 0.0, 0.0]\n",
       "       PeriodicSite: Cd (9.815, 3.272, 0.0) [0.75, 0.25, 0.0]\n",
       "       PeriodicSite: Cd (9.815, 0.0, 3.272) [0.75, 0.0, 0.25]\n",
       "       PeriodicSite: Cd (0.0, 0.0, 0.0) [0.0, 0.0, 0.0]\n",
       "       PeriodicSite: Cd (3.272, 3.272, 0.0) [0.25, 0.25, 0.0]\n",
       "       PeriodicSite: Cd (6.543, 6.543, 0.0) [0.5, 0.5, 0.0]\n",
       "       PeriodicSite: Cd (9.815, 9.815, 0.0) [0.75, 0.75, 0.0]\n",
       "       PeriodicSite: Cd (3.272, 0.0, 3.272) [0.25, 0.0, 0.25]\n",
       "       PeriodicSite: Cd (6.543, 3.272, 3.272) [0.5, 0.25, 0.25]\n",
       "       PeriodicSite: Cd (9.815, 6.543, 3.272) [0.75, 0.5, 0.25]\n",
       "       PeriodicSite: Cd (6.543, 0.0, 6.543) [0.5, 0.0, 0.5]\n",
       "       PeriodicSite: Cd (9.815, 3.272, 6.543) [0.75, 0.25, 0.5]\n",
       "       PeriodicSite: Cd (9.815, 0.0, 9.815) [0.75, 0.0, 0.75]\n",
       "       PeriodicSite: Cd (0.0, 6.543, 0.0) [0.0, 0.5, 0.0]\n",
       "       PeriodicSite: Cd (3.272, 9.815, 0.0) [0.25, 0.75, 0.0]\n",
       "       PeriodicSite: Cd (0.0, 3.272, 3.272) [0.0, 0.25, 0.25]\n",
       "       PeriodicSite: Cd (3.272, 6.543, 3.272) [0.25, 0.5, 0.25]\n",
       "       PeriodicSite: Cd (6.543, 9.815, 3.272) [0.5, 0.75, 0.25]\n",
       "       PeriodicSite: Cd (0.0, 0.0, 6.543) [0.0, 0.0, 0.5]\n",
       "       PeriodicSite: Cd (3.272, 3.272, 6.543) [0.25, 0.25, 0.5]\n",
       "       PeriodicSite: Cd (9.815, 9.815, 6.543) [0.75, 0.75, 0.5]\n",
       "       PeriodicSite: Cd (3.272, 0.0, 9.815) [0.25, 0.0, 0.75]\n",
       "       PeriodicSite: Cd (6.543, 3.272, 9.815) [0.5, 0.25, 0.75]\n",
       "       PeriodicSite: Cd (9.815, 6.543, 9.815) [0.75, 0.5, 0.75]\n",
       "       PeriodicSite: Cd (0.0, 9.815, 3.272) [0.0, 0.75, 0.25]\n",
       "       PeriodicSite: Cd (0.0, 6.543, 6.543) [0.0, 0.5, 0.5]\n",
       "       PeriodicSite: Cd (3.272, 9.815, 6.543) [0.25, 0.75, 0.5]\n",
       "       PeriodicSite: Cd (0.0, 3.272, 9.815) [0.0, 0.25, 0.75]\n",
       "       PeriodicSite: Cd (3.272, 6.543, 9.815) [0.25, 0.5, 0.75]\n",
       "       PeriodicSite: Cd (6.543, 9.815, 9.815) [0.5, 0.75, 0.75]\n",
       "       PeriodicSite: Cd (0.0, 9.815, 9.815) [0.0, 0.75, 0.75]\n",
       "       PeriodicSite: Te (11.45, 4.908, 4.908) [0.875, 0.375, 0.375]\n",
       "       PeriodicSite: Te (1.636, 8.179, 4.908) [0.125, 0.625, 0.375]\n",
       "       PeriodicSite: Te (1.636, 4.908, 8.179) [0.125, 0.375, 0.625]\n",
       "       PeriodicSite: Te (4.908, 5.836, 5.836) [0.375, 0.446, 0.446]\n",
       "       PeriodicSite: Te (8.179, 8.179, 4.908) [0.625, 0.625, 0.375]\n",
       "       PeriodicSite: Te (11.45, 11.45, 4.908) [0.875, 0.875, 0.375]\n",
       "       PeriodicSite: Te (1.636, 1.636, 4.908) [0.125, 0.125, 0.375]\n",
       "       PeriodicSite: Te (8.179, 4.908, 8.179) [0.625, 0.375, 0.625]\n",
       "       PeriodicSite: Te (11.45, 8.179, 8.179) [0.875, 0.625, 0.625]\n",
       "       PeriodicSite: Te (1.636, 11.45, 8.179) [0.125, 0.875, 0.625]\n",
       "       PeriodicSite: Te (11.45, 4.908, 11.45) [0.875, 0.375, 0.875]\n",
       "       PeriodicSite: Te (1.636, 8.179, 11.45) [0.125, 0.625, 0.875]\n",
       "       PeriodicSite: Te (1.636, 4.908, 1.636) [0.125, 0.375, 0.125]\n",
       "       PeriodicSite: Te (4.908, 11.45, 4.908) [0.375, 0.875, 0.375]\n",
       "       PeriodicSite: Te (8.179, 1.636, 4.908) [0.625, 0.125, 0.375]\n",
       "       PeriodicSite: Te (4.908, 7.25, 7.25) [0.375, 0.554, 0.554]\n",
       "       PeriodicSite: Te (8.179, 11.45, 8.179) [0.625, 0.875, 0.625]\n",
       "       PeriodicSite: Te (11.45, 1.636, 8.179) [0.875, 0.125, 0.625]\n",
       "       PeriodicSite: Te (4.908, 4.908, 11.45) [0.375, 0.375, 0.875]\n",
       "       PeriodicSite: Te (8.179, 8.179, 11.45) [0.625, 0.625, 0.875]\n",
       "       PeriodicSite: Te (11.45, 11.45, 11.45) [0.875, 0.875, 0.875]\n",
       "       PeriodicSite: Te (1.636, 1.636, 11.45) [0.125, 0.125, 0.875]\n",
       "       PeriodicSite: Te (8.179, 4.908, 1.636) [0.625, 0.375, 0.125]\n",
       "       PeriodicSite: Te (11.45, 8.179, 1.636) [0.875, 0.625, 0.125]\n",
       "       PeriodicSite: Te (1.636, 11.45, 1.636) [0.125, 0.875, 0.125]\n",
       "       PeriodicSite: Te (4.908, 1.636, 8.179) [0.375, 0.125, 0.625]\n",
       "       PeriodicSite: Te (4.908, 11.45, 11.45) [0.375, 0.875, 0.875]\n",
       "       PeriodicSite: Te (8.179, 1.636, 11.45) [0.625, 0.125, 0.875]\n",
       "       PeriodicSite: Te (4.908, 8.179, 1.636) [0.375, 0.625, 0.125]\n",
       "       PeriodicSite: Te (8.179, 11.45, 1.636) [0.625, 0.875, 0.125]\n",
       "       PeriodicSite: Te (11.45, 1.636, 1.636) [0.875, 0.125, 0.125]\n",
       "       PeriodicSite: Te (4.908, 1.636, 1.636) [0.375, 0.125, 0.125]}}},\n",
       "    -1: {'structures': {'Unperturbed': Structure Summary\n",
       "      Lattice\n",
       "          abc : 13.086768 13.086768 13.086768\n",
       "       angles : 90.0 90.0 90.0\n",
       "       volume : 2241.2856479961474\n",
       "            A : 13.086768 0.0 0.0\n",
       "            B : 0.0 13.086768 0.0\n",
       "            C : 0.0 0.0 13.086768\n",
       "          pbc : True True True\n",
       "      PeriodicSite: Cd (6.543, 0.0, 0.0) [0.5, 0.0, 0.0]\n",
       "      PeriodicSite: Cd (9.815, 3.272, 0.0) [0.75, 0.25, 0.0]\n",
       "      PeriodicSite: Cd (9.815, 0.0, 3.272) [0.75, 0.0, 0.25]\n",
       "      PeriodicSite: Cd (0.0, 0.0, 0.0) [0.0, 0.0, 0.0]\n",
       "      PeriodicSite: Cd (3.272, 3.272, 0.0) [0.25, 0.25, 0.0]\n",
       "      PeriodicSite: Cd (6.543, 6.543, 0.0) [0.5, 0.5, 0.0]\n",
       "      PeriodicSite: Cd (9.815, 9.815, 0.0) [0.75, 0.75, 0.0]\n",
       "      PeriodicSite: Cd (3.272, 0.0, 3.272) [0.25, 0.0, 0.25]\n",
       "      PeriodicSite: Cd (6.543, 3.272, 3.272) [0.5, 0.25, 0.25]\n",
       "      PeriodicSite: Cd (9.815, 6.543, 3.272) [0.75, 0.5, 0.25]\n",
       "      PeriodicSite: Cd (6.543, 0.0, 6.543) [0.5, 0.0, 0.5]\n",
       "      PeriodicSite: Cd (9.815, 3.272, 6.543) [0.75, 0.25, 0.5]\n",
       "      PeriodicSite: Cd (9.815, 0.0, 9.815) [0.75, 0.0, 0.75]\n",
       "      PeriodicSite: Cd (0.0, 6.543, 0.0) [0.0, 0.5, 0.0]\n",
       "      PeriodicSite: Cd (3.272, 9.815, 0.0) [0.25, 0.75, 0.0]\n",
       "      PeriodicSite: Cd (0.0, 3.272, 3.272) [0.0, 0.25, 0.25]\n",
       "      PeriodicSite: Cd (3.272, 6.543, 3.272) [0.25, 0.5, 0.25]\n",
       "      PeriodicSite: Cd (6.543, 9.815, 3.272) [0.5, 0.75, 0.25]\n",
       "      PeriodicSite: Cd (0.0, 0.0, 6.543) [0.0, 0.0, 0.5]\n",
       "      PeriodicSite: Cd (3.272, 3.272, 6.543) [0.25, 0.25, 0.5]\n",
       "      PeriodicSite: Cd (9.815, 9.815, 6.543) [0.75, 0.75, 0.5]\n",
       "      PeriodicSite: Cd (3.272, 0.0, 9.815) [0.25, 0.0, 0.75]\n",
       "      PeriodicSite: Cd (6.543, 3.272, 9.815) [0.5, 0.25, 0.75]\n",
       "      PeriodicSite: Cd (9.815, 6.543, 9.815) [0.75, 0.5, 0.75]\n",
       "      PeriodicSite: Cd (0.0, 9.815, 3.272) [0.0, 0.75, 0.25]\n",
       "      PeriodicSite: Cd (0.0, 6.543, 6.543) [0.0, 0.5, 0.5]\n",
       "      PeriodicSite: Cd (3.272, 9.815, 6.543) [0.25, 0.75, 0.5]\n",
       "      PeriodicSite: Cd (0.0, 3.272, 9.815) [0.0, 0.25, 0.75]\n",
       "      PeriodicSite: Cd (3.272, 6.543, 9.815) [0.25, 0.5, 0.75]\n",
       "      PeriodicSite: Cd (6.543, 9.815, 9.815) [0.5, 0.75, 0.75]\n",
       "      PeriodicSite: Cd (0.0, 9.815, 9.815) [0.0, 0.75, 0.75]\n",
       "      PeriodicSite: Te (11.45, 4.908, 4.908) [0.875, 0.375, 0.375]\n",
       "      PeriodicSite: Te (1.636, 8.179, 4.908) [0.125, 0.625, 0.375]\n",
       "      PeriodicSite: Te (1.636, 4.908, 8.179) [0.125, 0.375, 0.625]\n",
       "      PeriodicSite: Te (4.908, 4.908, 4.908) [0.375, 0.375, 0.375]\n",
       "      PeriodicSite: Te (8.179, 8.179, 4.908) [0.625, 0.625, 0.375]\n",
       "      PeriodicSite: Te (11.45, 11.45, 4.908) [0.875, 0.875, 0.375]\n",
       "      PeriodicSite: Te (1.636, 1.636, 4.908) [0.125, 0.125, 0.375]\n",
       "      PeriodicSite: Te (8.179, 4.908, 8.179) [0.625, 0.375, 0.625]\n",
       "      PeriodicSite: Te (11.45, 8.179, 8.179) [0.875, 0.625, 0.625]\n",
       "      PeriodicSite: Te (1.636, 11.45, 8.179) [0.125, 0.875, 0.625]\n",
       "      PeriodicSite: Te (11.45, 4.908, 11.45) [0.875, 0.375, 0.875]\n",
       "      PeriodicSite: Te (1.636, 8.179, 11.45) [0.125, 0.625, 0.875]\n",
       "      PeriodicSite: Te (1.636, 4.908, 1.636) [0.125, 0.375, 0.125]\n",
       "      PeriodicSite: Te (4.908, 11.45, 4.908) [0.375, 0.875, 0.375]\n",
       "      PeriodicSite: Te (8.179, 1.636, 4.908) [0.625, 0.125, 0.375]\n",
       "      PeriodicSite: Te (4.908, 8.179, 8.179) [0.375, 0.625, 0.625]\n",
       "      PeriodicSite: Te (8.179, 11.45, 8.179) [0.625, 0.875, 0.625]\n",
       "      PeriodicSite: Te (11.45, 1.636, 8.179) [0.875, 0.125, 0.625]\n",
       "      PeriodicSite: Te (4.908, 4.908, 11.45) [0.375, 0.375, 0.875]\n",
       "      PeriodicSite: Te (8.179, 8.179, 11.45) [0.625, 0.625, 0.875]\n",
       "      PeriodicSite: Te (11.45, 11.45, 11.45) [0.875, 0.875, 0.875]\n",
       "      PeriodicSite: Te (1.636, 1.636, 11.45) [0.125, 0.125, 0.875]\n",
       "      PeriodicSite: Te (8.179, 4.908, 1.636) [0.625, 0.375, 0.125]\n",
       "      PeriodicSite: Te (11.45, 8.179, 1.636) [0.875, 0.625, 0.125]\n",
       "      PeriodicSite: Te (1.636, 11.45, 1.636) [0.125, 0.875, 0.125]\n",
       "      PeriodicSite: Te (4.908, 1.636, 8.179) [0.375, 0.125, 0.625]\n",
       "      PeriodicSite: Te (4.908, 11.45, 11.45) [0.375, 0.875, 0.875]\n",
       "      PeriodicSite: Te (8.179, 1.636, 11.45) [0.625, 0.125, 0.875]\n",
       "      PeriodicSite: Te (4.908, 8.179, 1.636) [0.375, 0.625, 0.125]\n",
       "      PeriodicSite: Te (8.179, 11.45, 1.636) [0.625, 0.875, 0.125]\n",
       "      PeriodicSite: Te (11.45, 1.636, 1.636) [0.875, 0.125, 0.125]\n",
       "      PeriodicSite: Te (4.908, 1.636, 1.636) [0.375, 0.125, 0.125],\n",
       "      'distortions': {'Dimer': Structure Summary\n",
       "       Lattice\n",
       "           abc : 13.086768 13.086768 13.086768\n",
       "        angles : 90.0 90.0 90.0\n",
       "        volume : 2241.2856479961474\n",
       "             A : 13.086768 0.0 0.0\n",
       "             B : 0.0 13.086768 0.0\n",
       "             C : 0.0 0.0 13.086768\n",
       "           pbc : True True True\n",
       "       PeriodicSite: Cd (6.543, 0.0, 0.0) [0.5, 0.0, 0.0]\n",
       "       PeriodicSite: Cd (9.815, 3.272, 0.0) [0.75, 0.25, 0.0]\n",
       "       PeriodicSite: Cd (9.815, 0.0, 3.272) [0.75, 0.0, 0.25]\n",
       "       PeriodicSite: Cd (0.0, 0.0, 0.0) [0.0, 0.0, 0.0]\n",
       "       PeriodicSite: Cd (3.272, 3.272, 0.0) [0.25, 0.25, 0.0]\n",
       "       PeriodicSite: Cd (6.543, 6.543, 0.0) [0.5, 0.5, 0.0]\n",
       "       PeriodicSite: Cd (9.815, 9.815, 0.0) [0.75, 0.75, 0.0]\n",
       "       PeriodicSite: Cd (3.272, 0.0, 3.272) [0.25, 0.0, 0.25]\n",
       "       PeriodicSite: Cd (6.543, 3.272, 3.272) [0.5, 0.25, 0.25]\n",
       "       PeriodicSite: Cd (9.815, 6.543, 3.272) [0.75, 0.5, 0.25]\n",
       "       PeriodicSite: Cd (6.543, 0.0, 6.543) [0.5, 0.0, 0.5]\n",
       "       PeriodicSite: Cd (9.815, 3.272, 6.543) [0.75, 0.25, 0.5]\n",
       "       PeriodicSite: Cd (9.815, 0.0, 9.815) [0.75, 0.0, 0.75]\n",
       "       PeriodicSite: Cd (0.0, 6.543, 0.0) [0.0, 0.5, 0.0]\n",
       "       PeriodicSite: Cd (3.272, 9.815, 0.0) [0.25, 0.75, 0.0]\n",
       "       PeriodicSite: Cd (0.0, 3.272, 3.272) [0.0, 0.25, 0.25]\n",
       "       PeriodicSite: Cd (3.272, 6.543, 3.272) [0.25, 0.5, 0.25]\n",
       "       PeriodicSite: Cd (6.543, 9.815, 3.272) [0.5, 0.75, 0.25]\n",
       "       PeriodicSite: Cd (0.0, 0.0, 6.543) [0.0, 0.0, 0.5]\n",
       "       PeriodicSite: Cd (3.272, 3.272, 6.543) [0.25, 0.25, 0.5]\n",
       "       PeriodicSite: Cd (9.815, 9.815, 6.543) [0.75, 0.75, 0.5]\n",
       "       PeriodicSite: Cd (3.272, 0.0, 9.815) [0.25, 0.0, 0.75]\n",
       "       PeriodicSite: Cd (6.543, 3.272, 9.815) [0.5, 0.25, 0.75]\n",
       "       PeriodicSite: Cd (9.815, 6.543, 9.815) [0.75, 0.5, 0.75]\n",
       "       PeriodicSite: Cd (0.0, 9.815, 3.272) [0.0, 0.75, 0.25]\n",
       "       PeriodicSite: Cd (0.0, 6.543, 6.543) [0.0, 0.5, 0.5]\n",
       "       PeriodicSite: Cd (3.272, 9.815, 6.543) [0.25, 0.75, 0.5]\n",
       "       PeriodicSite: Cd (0.0, 3.272, 9.815) [0.0, 0.25, 0.75]\n",
       "       PeriodicSite: Cd (3.272, 6.543, 9.815) [0.25, 0.5, 0.75]\n",
       "       PeriodicSite: Cd (6.543, 9.815, 9.815) [0.5, 0.75, 0.75]\n",
       "       PeriodicSite: Cd (0.0, 9.815, 9.815) [0.0, 0.75, 0.75]\n",
       "       PeriodicSite: Te (11.45, 4.908, 4.908) [0.875, 0.375, 0.375]\n",
       "       PeriodicSite: Te (1.636, 8.179, 4.908) [0.125, 0.625, 0.375]\n",
       "       PeriodicSite: Te (1.636, 4.908, 8.179) [0.125, 0.375, 0.625]\n",
       "       PeriodicSite: Te (4.908, 5.836, 5.836) [0.375, 0.446, 0.446]\n",
       "       PeriodicSite: Te (8.179, 8.179, 4.908) [0.625, 0.625, 0.375]\n",
       "       PeriodicSite: Te (11.45, 11.45, 4.908) [0.875, 0.875, 0.375]\n",
       "       PeriodicSite: Te (1.636, 1.636, 4.908) [0.125, 0.125, 0.375]\n",
       "       PeriodicSite: Te (8.179, 4.908, 8.179) [0.625, 0.375, 0.625]\n",
       "       PeriodicSite: Te (11.45, 8.179, 8.179) [0.875, 0.625, 0.625]\n",
       "       PeriodicSite: Te (1.636, 11.45, 8.179) [0.125, 0.875, 0.625]\n",
       "       PeriodicSite: Te (11.45, 4.908, 11.45) [0.875, 0.375, 0.875]\n",
       "       PeriodicSite: Te (1.636, 8.179, 11.45) [0.125, 0.625, 0.875]\n",
       "       PeriodicSite: Te (1.636, 4.908, 1.636) [0.125, 0.375, 0.125]\n",
       "       PeriodicSite: Te (4.908, 11.45, 4.908) [0.375, 0.875, 0.375]\n",
       "       PeriodicSite: Te (8.179, 1.636, 4.908) [0.625, 0.125, 0.375]\n",
       "       PeriodicSite: Te (4.908, 7.25, 7.25) [0.375, 0.554, 0.554]\n",
       "       PeriodicSite: Te (8.179, 11.45, 8.179) [0.625, 0.875, 0.625]\n",
       "       PeriodicSite: Te (11.45, 1.636, 8.179) [0.875, 0.125, 0.625]\n",
       "       PeriodicSite: Te (4.908, 4.908, 11.45) [0.375, 0.375, 0.875]\n",
       "       PeriodicSite: Te (8.179, 8.179, 11.45) [0.625, 0.625, 0.875]\n",
       "       PeriodicSite: Te (11.45, 11.45, 11.45) [0.875, 0.875, 0.875]\n",
       "       PeriodicSite: Te (1.636, 1.636, 11.45) [0.125, 0.125, 0.875]\n",
       "       PeriodicSite: Te (8.179, 4.908, 1.636) [0.625, 0.375, 0.125]\n",
       "       PeriodicSite: Te (11.45, 8.179, 1.636) [0.875, 0.625, 0.125]\n",
       "       PeriodicSite: Te (1.636, 11.45, 1.636) [0.125, 0.875, 0.125]\n",
       "       PeriodicSite: Te (4.908, 1.636, 8.179) [0.375, 0.125, 0.625]\n",
       "       PeriodicSite: Te (4.908, 11.45, 11.45) [0.375, 0.875, 0.875]\n",
       "       PeriodicSite: Te (8.179, 1.636, 11.45) [0.625, 0.125, 0.875]\n",
       "       PeriodicSite: Te (4.908, 8.179, 1.636) [0.375, 0.625, 0.125]\n",
       "       PeriodicSite: Te (8.179, 11.45, 1.636) [0.625, 0.875, 0.125]\n",
       "       PeriodicSite: Te (11.45, 1.636, 1.636) [0.875, 0.125, 0.125]\n",
       "       PeriodicSite: Te (4.908, 1.636, 1.636) [0.375, 0.125, 0.125]}}},\n",
       "    -2: {'structures': {'Unperturbed': Structure Summary\n",
       "      Lattice\n",
       "          abc : 13.086768 13.086768 13.086768\n",
       "       angles : 90.0 90.0 90.0\n",
       "       volume : 2241.2856479961474\n",
       "            A : 13.086768 0.0 0.0\n",
       "            B : 0.0 13.086768 0.0\n",
       "            C : 0.0 0.0 13.086768\n",
       "          pbc : True True True\n",
       "      PeriodicSite: Cd (6.543, 0.0, 0.0) [0.5, 0.0, 0.0]\n",
       "      PeriodicSite: Cd (9.815, 3.272, 0.0) [0.75, 0.25, 0.0]\n",
       "      PeriodicSite: Cd (9.815, 0.0, 3.272) [0.75, 0.0, 0.25]\n",
       "      PeriodicSite: Cd (0.0, 0.0, 0.0) [0.0, 0.0, 0.0]\n",
       "      PeriodicSite: Cd (3.272, 3.272, 0.0) [0.25, 0.25, 0.0]\n",
       "      PeriodicSite: Cd (6.543, 6.543, 0.0) [0.5, 0.5, 0.0]\n",
       "      PeriodicSite: Cd (9.815, 9.815, 0.0) [0.75, 0.75, 0.0]\n",
       "      PeriodicSite: Cd (3.272, 0.0, 3.272) [0.25, 0.0, 0.25]\n",
       "      PeriodicSite: Cd (6.543, 3.272, 3.272) [0.5, 0.25, 0.25]\n",
       "      PeriodicSite: Cd (9.815, 6.543, 3.272) [0.75, 0.5, 0.25]\n",
       "      PeriodicSite: Cd (6.543, 0.0, 6.543) [0.5, 0.0, 0.5]\n",
       "      PeriodicSite: Cd (9.815, 3.272, 6.543) [0.75, 0.25, 0.5]\n",
       "      PeriodicSite: Cd (9.815, 0.0, 9.815) [0.75, 0.0, 0.75]\n",
       "      PeriodicSite: Cd (0.0, 6.543, 0.0) [0.0, 0.5, 0.0]\n",
       "      PeriodicSite: Cd (3.272, 9.815, 0.0) [0.25, 0.75, 0.0]\n",
       "      PeriodicSite: Cd (0.0, 3.272, 3.272) [0.0, 0.25, 0.25]\n",
       "      PeriodicSite: Cd (3.272, 6.543, 3.272) [0.25, 0.5, 0.25]\n",
       "      PeriodicSite: Cd (6.543, 9.815, 3.272) [0.5, 0.75, 0.25]\n",
       "      PeriodicSite: Cd (0.0, 0.0, 6.543) [0.0, 0.0, 0.5]\n",
       "      PeriodicSite: Cd (3.272, 3.272, 6.543) [0.25, 0.25, 0.5]\n",
       "      PeriodicSite: Cd (9.815, 9.815, 6.543) [0.75, 0.75, 0.5]\n",
       "      PeriodicSite: Cd (3.272, 0.0, 9.815) [0.25, 0.0, 0.75]\n",
       "      PeriodicSite: Cd (6.543, 3.272, 9.815) [0.5, 0.25, 0.75]\n",
       "      PeriodicSite: Cd (9.815, 6.543, 9.815) [0.75, 0.5, 0.75]\n",
       "      PeriodicSite: Cd (0.0, 9.815, 3.272) [0.0, 0.75, 0.25]\n",
       "      PeriodicSite: Cd (0.0, 6.543, 6.543) [0.0, 0.5, 0.5]\n",
       "      PeriodicSite: Cd (3.272, 9.815, 6.543) [0.25, 0.75, 0.5]\n",
       "      PeriodicSite: Cd (0.0, 3.272, 9.815) [0.0, 0.25, 0.75]\n",
       "      PeriodicSite: Cd (3.272, 6.543, 9.815) [0.25, 0.5, 0.75]\n",
       "      PeriodicSite: Cd (6.543, 9.815, 9.815) [0.5, 0.75, 0.75]\n",
       "      PeriodicSite: Cd (0.0, 9.815, 9.815) [0.0, 0.75, 0.75]\n",
       "      PeriodicSite: Te (11.45, 4.908, 4.908) [0.875, 0.375, 0.375]\n",
       "      PeriodicSite: Te (1.636, 8.179, 4.908) [0.125, 0.625, 0.375]\n",
       "      PeriodicSite: Te (1.636, 4.908, 8.179) [0.125, 0.375, 0.625]\n",
       "      PeriodicSite: Te (4.908, 4.908, 4.908) [0.375, 0.375, 0.375]\n",
       "      PeriodicSite: Te (8.179, 8.179, 4.908) [0.625, 0.625, 0.375]\n",
       "      PeriodicSite: Te (11.45, 11.45, 4.908) [0.875, 0.875, 0.375]\n",
       "      PeriodicSite: Te (1.636, 1.636, 4.908) [0.125, 0.125, 0.375]\n",
       "      PeriodicSite: Te (8.179, 4.908, 8.179) [0.625, 0.375, 0.625]\n",
       "      PeriodicSite: Te (11.45, 8.179, 8.179) [0.875, 0.625, 0.625]\n",
       "      PeriodicSite: Te (1.636, 11.45, 8.179) [0.125, 0.875, 0.625]\n",
       "      PeriodicSite: Te (11.45, 4.908, 11.45) [0.875, 0.375, 0.875]\n",
       "      PeriodicSite: Te (1.636, 8.179, 11.45) [0.125, 0.625, 0.875]\n",
       "      PeriodicSite: Te (1.636, 4.908, 1.636) [0.125, 0.375, 0.125]\n",
       "      PeriodicSite: Te (4.908, 11.45, 4.908) [0.375, 0.875, 0.375]\n",
       "      PeriodicSite: Te (8.179, 1.636, 4.908) [0.625, 0.125, 0.375]\n",
       "      PeriodicSite: Te (4.908, 8.179, 8.179) [0.375, 0.625, 0.625]\n",
       "      PeriodicSite: Te (8.179, 11.45, 8.179) [0.625, 0.875, 0.625]\n",
       "      PeriodicSite: Te (11.45, 1.636, 8.179) [0.875, 0.125, 0.625]\n",
       "      PeriodicSite: Te (4.908, 4.908, 11.45) [0.375, 0.375, 0.875]\n",
       "      PeriodicSite: Te (8.179, 8.179, 11.45) [0.625, 0.625, 0.875]\n",
       "      PeriodicSite: Te (11.45, 11.45, 11.45) [0.875, 0.875, 0.875]\n",
       "      PeriodicSite: Te (1.636, 1.636, 11.45) [0.125, 0.125, 0.875]\n",
       "      PeriodicSite: Te (8.179, 4.908, 1.636) [0.625, 0.375, 0.125]\n",
       "      PeriodicSite: Te (11.45, 8.179, 1.636) [0.875, 0.625, 0.125]\n",
       "      PeriodicSite: Te (1.636, 11.45, 1.636) [0.125, 0.875, 0.125]\n",
       "      PeriodicSite: Te (4.908, 1.636, 8.179) [0.375, 0.125, 0.625]\n",
       "      PeriodicSite: Te (4.908, 11.45, 11.45) [0.375, 0.875, 0.875]\n",
       "      PeriodicSite: Te (8.179, 1.636, 11.45) [0.625, 0.125, 0.875]\n",
       "      PeriodicSite: Te (4.908, 8.179, 1.636) [0.375, 0.625, 0.125]\n",
       "      PeriodicSite: Te (8.179, 11.45, 1.636) [0.625, 0.875, 0.125]\n",
       "      PeriodicSite: Te (11.45, 1.636, 1.636) [0.875, 0.125, 0.125]\n",
       "      PeriodicSite: Te (4.908, 1.636, 1.636) [0.375, 0.125, 0.125],\n",
       "      'distortions': {'Rattled': Structure Summary\n",
       "       Lattice\n",
       "           abc : 13.086768 13.086768 13.086768\n",
       "        angles : 90.0 90.0 90.0\n",
       "        volume : 2241.2856479961474\n",
       "             A : 13.086768 0.0 0.0\n",
       "             B : 0.0 13.086768 0.0\n",
       "             C : 0.0 0.0 13.086768\n",
       "           pbc : True True True\n",
       "       PeriodicSite: Cd (6.776, 0.2499, 0.02026) [0.5178, 0.0191, 0.001548]\n",
       "       PeriodicSite: Cd (10.22, 3.208, 0.1487) [0.7808, 0.2452, 0.01136]\n",
       "       PeriodicSite: Cd (9.794, -0.02858, 2.947) [0.7484, -0.002184, 0.2252]\n",
       "       PeriodicSite: Cd (-0.4122, 0.2974, -0.271) [-0.0315, 0.02272, -0.02071]\n",
       "       PeriodicSite: Cd (3.102, 3.192, -0.2704) [0.237, 0.2439, -0.02066]\n",
       "       PeriodicSite: Cd (6.627, 6.82, -0.4001) [0.5064, 0.5211, -0.03057]\n",
       "       PeriodicSite: Cd (9.298, 10.15, -0.1669) [0.7105, 0.7759, -0.01275]\n",
       "       PeriodicSite: Cd (3.115, 0.2455, 2.9) [0.238, 0.01876, 0.2216]\n",
       "       PeriodicSite: Cd (6.431, 2.639, 3.331) [0.4914, 0.2016, 0.2546]\n",
       "       PeriodicSite: Cd (9.74, 6.329, 3.538) [0.7442, 0.4836, 0.2703]\n",
       "       PeriodicSite: Cd (6.552, 0.4754, 6.299) [0.5007, 0.03633, 0.4813]\n",
       "       PeriodicSite: Cd (10.06, 3.335, 6.281) [0.7686, 0.2548, 0.4799]\n",
       "       PeriodicSite: Cd (9.92, 0.03925, 10.4) [0.758, 0.002999, 0.7947]\n",
       "       PeriodicSite: Cd (0.07354, 6.813, 0.1364) [0.00562, 0.5206, 0.01042]\n",
       "       PeriodicSite: Cd (2.996, 9.608, 0.3128) [0.229, 0.7342, 0.0239]\n",
       "       PeriodicSite: Cd (-0.1834, 3.351, 3.096) [-0.01401, 0.2561, 0.2366]\n",
       "       PeriodicSite: Cd (3.596, 6.429, 3.2) [0.2747, 0.4913, 0.2445]\n",
       "       PeriodicSite: Cd (6.726, 10.07, 2.916) [0.5139, 0.7697, 0.2228]\n",
       "       PeriodicSite: Cd (-0.1172, -0.5479, 6.693) [-0.008952, -0.04187, 0.5115]\n",
       "       PeriodicSite: Cd (3.484, 3.394, 6.358) [0.2662, 0.2594, 0.4858]\n",
       "       PeriodicSite: Cd (10.22, 9.907, 6.423) [0.7809, 0.757, 0.4908]\n",
       "       PeriodicSite: Cd (2.698, -0.1605, 9.745) [0.2061, -0.01226, 0.7447]\n",
       "       PeriodicSite: Cd (6.688, 3.501, 9.61) [0.5111, 0.2675, 0.7343]\n",
       "       PeriodicSite: Cd (9.894, 6.283, 9.413) [0.756, 0.4801, 0.7193]\n",
       "       PeriodicSite: Cd (0.5605, 9.386, 3.213) [0.04283, 0.7172, 0.2455]\n",
       "       PeriodicSite: Cd (0.3798, 6.835, 6.403) [0.02902, 0.5223, 0.4893]\n",
       "       PeriodicSite: Cd (3.531, 9.717, 7.051) [0.2698, 0.7425, 0.5388]\n",
       "       PeriodicSite: Cd (0.237, 3.409, 9.94) [0.01811, 0.2605, 0.7596]\n",
       "       PeriodicSite: Cd (3.199, 6.578, 9.722) [0.2445, 0.5026, 0.7429]\n",
       "       PeriodicSite: Cd (6.451, 10.2, 9.833) [0.4929, 0.7792, 0.7514]\n",
       "       PeriodicSite: Cd (0.09249, 9.932, 10.49) [0.007067, 0.7589, 0.8013]\n",
       "       PeriodicSite: Te (11.27, 4.808, 4.497) [0.8613, 0.3674, 0.3436]\n",
       "       PeriodicSite: Te (1.733, 8.144, 4.834) [0.1325, 0.6223, 0.3694]\n",
       "       PeriodicSite: Te (1.686, 4.691, 7.752) [0.1288, 0.3585, 0.5924]\n",
       "       PeriodicSite: Te (4.88, 5.177, 4.987) [0.3729, 0.3956, 0.3811]\n",
       "       PeriodicSite: Te (8.005, 8.466, 5.166) [0.6117, 0.6469, 0.3948]\n",
       "       PeriodicSite: Te (11.48, 11.33, 4.578) [0.8774, 0.8656, 0.3498]\n",
       "       PeriodicSite: Te (1.671, 1.887, 5.189) [0.1277, 0.1442, 0.3965]\n",
       "       PeriodicSite: Te (8.019, 4.856, 7.997) [0.6127, 0.371, 0.6111]\n",
       "       PeriodicSite: Te (11.2, 8.312, 8.001) [0.856, 0.6351, 0.6114]\n",
       "       PeriodicSite: Te (1.64, 11.29, 7.71) [0.1253, 0.8625, 0.5892]\n",
       "       PeriodicSite: Te (11.91, 4.654, 11.25) [0.9102, 0.3556, 0.8596]\n",
       "       PeriodicSite: Te (1.838, 8.228, 11.35) [0.1404, 0.6287, 0.8675]\n",
       "       PeriodicSite: Te (2.336, 4.438, 1.636) [0.1785, 0.3391, 0.125]\n",
       "       PeriodicSite: Te (4.821, 11.3, 5.306) [0.3684, 0.8637, 0.4054]\n",
       "       PeriodicSite: Te (8.258, 1.897, 5.124) [0.631, 0.145, 0.3915]\n",
       "       PeriodicSite: Te (5.353, 8.218, 7.731) [0.409, 0.628, 0.5908]\n",
       "       PeriodicSite: Te (8.514, 11.36, 8.754) [0.6506, 0.8681, 0.6689]\n",
       "       PeriodicSite: Te (11.76, 1.627, 7.887) [0.8986, 0.1243, 0.6026]\n",
       "       PeriodicSite: Te (5.274, 4.923, 11.51) [0.403, 0.3762, 0.8792]\n",
       "       PeriodicSite: Te (8.407, 8.179, 11.37) [0.6424, 0.625, 0.8686]\n",
       "       PeriodicSite: Te (11.59, 11.47, 11.38) [0.8853, 0.8768, 0.8696]\n",
       "       PeriodicSite: Te (1.702, 1.79, 11.34) [0.1301, 0.1368, 0.8665]\n",
       "       PeriodicSite: Te (8.427, 4.601, 1.687) [0.644, 0.3516, 0.1289]\n",
       "       PeriodicSite: Te (11.55, 8.273, 2.054) [0.8827, 0.6322, 0.1569]\n",
       "       PeriodicSite: Te (1.701, 11.74, 1.646) [0.13, 0.8973, 0.1258]\n",
       "       PeriodicSite: Te (5.031, 2.14, 7.997) [0.3844, 0.1635, 0.6111]\n",
       "       PeriodicSite: Te (4.478, 11.68, 11.37) [0.3422, 0.8921, 0.8687]\n",
       "       PeriodicSite: Te (8.217, 1.229, 11.53) [0.6279, 0.09388, 0.8807]\n",
       "       PeriodicSite: Te (4.878, 8.331, 1.851) [0.3728, 0.6366, 0.1415]\n",
       "       PeriodicSite: Te (8.098, 11.73, 1.492) [0.6188, 0.8966, 0.114]\n",
       "       PeriodicSite: Te (11.11, 1.918, 1.833) [0.8487, 0.1465, 0.14]\n",
       "       PeriodicSite: Te (5.421, 1.7, 1.446) [0.4143, 0.1299, 0.1105],\n",
       "       'Dimer': Structure Summary\n",
       "       Lattice\n",
       "           abc : 13.086768 13.086768 13.086768\n",
       "        angles : 90.0 90.0 90.0\n",
       "        volume : 2241.2856479961474\n",
       "             A : 13.086768 0.0 0.0\n",
       "             B : 0.0 13.086768 0.0\n",
       "             C : 0.0 0.0 13.086768\n",
       "           pbc : True True True\n",
       "       PeriodicSite: Cd (6.543, 0.0, 0.0) [0.5, 0.0, 0.0]\n",
       "       PeriodicSite: Cd (9.815, 3.272, 0.0) [0.75, 0.25, 0.0]\n",
       "       PeriodicSite: Cd (9.815, 0.0, 3.272) [0.75, 0.0, 0.25]\n",
       "       PeriodicSite: Cd (0.0, 0.0, 0.0) [0.0, 0.0, 0.0]\n",
       "       PeriodicSite: Cd (3.272, 3.272, 0.0) [0.25, 0.25, 0.0]\n",
       "       PeriodicSite: Cd (6.543, 6.543, 0.0) [0.5, 0.5, 0.0]\n",
       "       PeriodicSite: Cd (9.815, 9.815, 0.0) [0.75, 0.75, 0.0]\n",
       "       PeriodicSite: Cd (3.272, 0.0, 3.272) [0.25, 0.0, 0.25]\n",
       "       PeriodicSite: Cd (6.543, 3.272, 3.272) [0.5, 0.25, 0.25]\n",
       "       PeriodicSite: Cd (9.815, 6.543, 3.272) [0.75, 0.5, 0.25]\n",
       "       PeriodicSite: Cd (6.543, 0.0, 6.543) [0.5, 0.0, 0.5]\n",
       "       PeriodicSite: Cd (9.815, 3.272, 6.543) [0.75, 0.25, 0.5]\n",
       "       PeriodicSite: Cd (9.815, 0.0, 9.815) [0.75, 0.0, 0.75]\n",
       "       PeriodicSite: Cd (0.0, 6.543, 0.0) [0.0, 0.5, 0.0]\n",
       "       PeriodicSite: Cd (3.272, 9.815, 0.0) [0.25, 0.75, 0.0]\n",
       "       PeriodicSite: Cd (0.0, 3.272, 3.272) [0.0, 0.25, 0.25]\n",
       "       PeriodicSite: Cd (3.272, 6.543, 3.272) [0.25, 0.5, 0.25]\n",
       "       PeriodicSite: Cd (6.543, 9.815, 3.272) [0.5, 0.75, 0.25]\n",
       "       PeriodicSite: Cd (0.0, 0.0, 6.543) [0.0, 0.0, 0.5]\n",
       "       PeriodicSite: Cd (3.272, 3.272, 6.543) [0.25, 0.25, 0.5]\n",
       "       PeriodicSite: Cd (9.815, 9.815, 6.543) [0.75, 0.75, 0.5]\n",
       "       PeriodicSite: Cd (3.272, 0.0, 9.815) [0.25, 0.0, 0.75]\n",
       "       PeriodicSite: Cd (6.543, 3.272, 9.815) [0.5, 0.25, 0.75]\n",
       "       PeriodicSite: Cd (9.815, 6.543, 9.815) [0.75, 0.5, 0.75]\n",
       "       PeriodicSite: Cd (0.0, 9.815, 3.272) [0.0, 0.75, 0.25]\n",
       "       PeriodicSite: Cd (0.0, 6.543, 6.543) [0.0, 0.5, 0.5]\n",
       "       PeriodicSite: Cd (3.272, 9.815, 6.543) [0.25, 0.75, 0.5]\n",
       "       PeriodicSite: Cd (0.0, 3.272, 9.815) [0.0, 0.25, 0.75]\n",
       "       PeriodicSite: Cd (3.272, 6.543, 9.815) [0.25, 0.5, 0.75]\n",
       "       PeriodicSite: Cd (6.543, 9.815, 9.815) [0.5, 0.75, 0.75]\n",
       "       PeriodicSite: Cd (0.0, 9.815, 9.815) [0.0, 0.75, 0.75]\n",
       "       PeriodicSite: Te (11.45, 4.908, 4.908) [0.875, 0.375, 0.375]\n",
       "       PeriodicSite: Te (1.636, 8.179, 4.908) [0.125, 0.625, 0.375]\n",
       "       PeriodicSite: Te (1.636, 4.908, 8.179) [0.125, 0.375, 0.625]\n",
       "       PeriodicSite: Te (4.908, 5.836, 5.836) [0.375, 0.446, 0.446]\n",
       "       PeriodicSite: Te (8.179, 8.179, 4.908) [0.625, 0.625, 0.375]\n",
       "       PeriodicSite: Te (11.45, 11.45, 4.908) [0.875, 0.875, 0.375]\n",
       "       PeriodicSite: Te (1.636, 1.636, 4.908) [0.125, 0.125, 0.375]\n",
       "       PeriodicSite: Te (8.179, 4.908, 8.179) [0.625, 0.375, 0.625]\n",
       "       PeriodicSite: Te (11.45, 8.179, 8.179) [0.875, 0.625, 0.625]\n",
       "       PeriodicSite: Te (1.636, 11.45, 8.179) [0.125, 0.875, 0.625]\n",
       "       PeriodicSite: Te (11.45, 4.908, 11.45) [0.875, 0.375, 0.875]\n",
       "       PeriodicSite: Te (1.636, 8.179, 11.45) [0.125, 0.625, 0.875]\n",
       "       PeriodicSite: Te (1.636, 4.908, 1.636) [0.125, 0.375, 0.125]\n",
       "       PeriodicSite: Te (4.908, 11.45, 4.908) [0.375, 0.875, 0.375]\n",
       "       PeriodicSite: Te (8.179, 1.636, 4.908) [0.625, 0.125, 0.375]\n",
       "       PeriodicSite: Te (4.908, 7.25, 7.25) [0.375, 0.554, 0.554]\n",
       "       PeriodicSite: Te (8.179, 11.45, 8.179) [0.625, 0.875, 0.625]\n",
       "       PeriodicSite: Te (11.45, 1.636, 8.179) [0.875, 0.125, 0.625]\n",
       "       PeriodicSite: Te (4.908, 4.908, 11.45) [0.375, 0.375, 0.875]\n",
       "       PeriodicSite: Te (8.179, 8.179, 11.45) [0.625, 0.625, 0.875]\n",
       "       PeriodicSite: Te (11.45, 11.45, 11.45) [0.875, 0.875, 0.875]\n",
       "       PeriodicSite: Te (1.636, 1.636, 11.45) [0.125, 0.125, 0.875]\n",
       "       PeriodicSite: Te (8.179, 4.908, 1.636) [0.625, 0.375, 0.125]\n",
       "       PeriodicSite: Te (11.45, 8.179, 1.636) [0.875, 0.625, 0.125]\n",
       "       PeriodicSite: Te (1.636, 11.45, 1.636) [0.125, 0.875, 0.125]\n",
       "       PeriodicSite: Te (4.908, 1.636, 8.179) [0.375, 0.125, 0.625]\n",
       "       PeriodicSite: Te (4.908, 11.45, 11.45) [0.375, 0.875, 0.875]\n",
       "       PeriodicSite: Te (8.179, 1.636, 11.45) [0.625, 0.125, 0.875]\n",
       "       PeriodicSite: Te (4.908, 8.179, 1.636) [0.375, 0.625, 0.125]\n",
       "       PeriodicSite: Te (8.179, 11.45, 1.636) [0.625, 0.875, 0.125]\n",
       "       PeriodicSite: Te (11.45, 1.636, 1.636) [0.875, 0.125, 0.125]\n",
       "       PeriodicSite: Te (4.908, 1.636, 1.636) [0.375, 0.125, 0.125]}}}}}},\n",
       " {'distortion_parameters': {'distortion_increment': None,\n",
       "   'bond_distortions': ['Dimer'],\n",
       "   'local_rattle': False,\n",
       "   'mc_rattle_parameters': {'stdev': 0.28333683853583175}},\n",
       "  'defects': {'v_Cd': {'unique_site': [0.5, 0.5, 0.5],\n",
       "    'charges': {0: {'num_nearest_neighbours': 2,\n",
       "      'distorted_atoms': None,\n",
       "      'distortion_parameters': {'distortion_increment': None,\n",
       "       'bond_distortions': ['Dimer'],\n",
       "       'local_rattle': False,\n",
       "       'mc_rattle_parameters': {'stdev': 0.28333683853583175}}},\n",
       "     -1: {'num_nearest_neighbours': 1,\n",
       "      'distorted_atoms': None,\n",
       "      'distortion_parameters': {'distortion_increment': None,\n",
       "       'bond_distortions': ['Dimer'],\n",
       "       'local_rattle': False,\n",
       "       'mc_rattle_parameters': {'stdev': 0.28333683853583175}}},\n",
       "     -2: {'num_nearest_neighbours': 0,\n",
       "      'distorted_atoms': None,\n",
       "      'distortion_parameters': {'distortion_increment': None,\n",
       "       'bond_distortions': ['Dimer'],\n",
       "       'local_rattle': False,\n",
       "       'mc_rattle_parameters': {'stdev': 0.28333683853583175}}}}}}})"
      ]
     },
     "execution_count": 10,
     "metadata": {},
     "output_type": "execute_result"
    }
   ],
   "source": [
    "Dist.write_vasp_files()"
   ]
  },
  {
   "cell_type": "markdown",
   "metadata": {},
   "source": [
    "# TODO\n",
    "1. Update plotting module\n",
    "2. Test full workflow "
   ]
  },
  {
   "cell_type": "markdown",
   "metadata": {},
   "source": [
    "# Tests"
   ]
  },
  {
   "cell_type": "code",
   "execution_count": 1,
   "metadata": {},
   "outputs": [
    {
     "name": "stderr",
     "output_type": "stream",
     "text": [
      "local_env.py:4141: UserWarning: No oxidation states specified on sites! For better results, set the site oxidation states in the structure.\n",
      "local_env.py:3934: UserWarning: CrystalNN: cannot locate an appropriate radius, covalent or atomic radii will be used, this can lead to non-optimal results.\n"
     ]
    }
   ],
   "source": [
    "from shakenbreak.distortions import apply_dimer_distortion\n",
    "from pymatgen.core.structure import Structure\n",
    "import os\n",
    "\n",
    "VASP_CDTE_DATA_DIR= \"./tests/data/vasp/CdTe\"\n",
    "struc = Structure.from_file(os.path.join(VASP_CDTE_DATA_DIR, \"CdTe_V_Cd_POSCAR\"))\n",
    "output = apply_dimer_distortion(struc, frac_coords=[0,0,0])"
   ]
  },
  {
   "cell_type": "code",
   "execution_count": 2,
   "metadata": {},
   "outputs": [
    {
     "data": {
      "text/plain": [
       "dict_keys(['distorted_structure', 'num_distorted_neighbours', 'distorted_atoms', 'undistorted_structure', 'defect_frac_coords'])"
      ]
     },
     "execution_count": 2,
     "metadata": {},
     "output_type": "execute_result"
    }
   ],
   "source": [
    "output.keys()"
   ]
  },
  {
   "cell_type": "code",
   "execution_count": 3,
   "metadata": {},
   "outputs": [
    {
     "data": {
      "text/plain": [
       "(2, [(62, 'Te'), (51, 'Te')])"
      ]
     },
     "execution_count": 3,
     "metadata": {},
     "output_type": "execute_result"
    }
   ],
   "source": [
    "output[\"num_distorted_neighbours\"], output[\"distorted_atoms\"]"
   ]
  },
  {
   "cell_type": "code",
   "execution_count": 3,
   "metadata": {},
   "outputs": [
    {
     "data": {
      "text/plain": [
       "Structure Summary\n",
       "Lattice\n",
       "    abc : 13.086768 13.086768 13.086768\n",
       " angles : 90.0 90.0 90.0\n",
       " volume : 2241.2856479961474\n",
       "      A : 13.086768 0.0 0.0\n",
       "      B : 0.0 13.086768 0.0\n",
       "      C : 0.0 0.0 13.086768\n",
       "    pbc : True True True\n",
       "PeriodicSite: Cd (0.0, 0.0, 6.543) [0.0, 0.0, 0.5]\n",
       "PeriodicSite: Cd (0.0, 6.543, 0.0) [0.0, 0.5, 0.0]\n",
       "PeriodicSite: Cd (0.0, 6.543, 6.543) [0.0, 0.5, 0.5]\n",
       "PeriodicSite: Cd (6.543, 0.0, 0.0) [0.5, 0.0, 0.0]\n",
       "PeriodicSite: Cd (6.543, 0.0, 6.543) [0.5, 0.0, 0.5]\n",
       "PeriodicSite: Cd (6.543, 6.543, 0.0) [0.5, 0.5, 0.0]\n",
       "PeriodicSite: Cd (6.543, 6.543, 6.543) [0.5, 0.5, 0.5]\n",
       "PeriodicSite: Cd (0.0, 3.272, 3.272) [0.0, 0.25, 0.25]\n",
       "PeriodicSite: Cd (0.0, 3.272, 9.815) [0.0, 0.25, 0.75]\n",
       "PeriodicSite: Cd (0.0, 9.815, 3.272) [0.0, 0.75, 0.25]\n",
       "PeriodicSite: Cd (0.0, 9.815, 9.815) [0.0, 0.75, 0.75]\n",
       "PeriodicSite: Cd (6.543, 3.272, 3.272) [0.5, 0.25, 0.25]\n",
       "PeriodicSite: Cd (6.543, 3.272, 9.815) [0.5, 0.25, 0.75]\n",
       "PeriodicSite: Cd (6.543, 9.815, 3.272) [0.5, 0.75, 0.25]\n",
       "PeriodicSite: Cd (6.543, 9.815, 9.815) [0.5, 0.75, 0.75]\n",
       "PeriodicSite: Cd (3.272, 0.0, 3.272) [0.25, 0.0, 0.25]\n",
       "PeriodicSite: Cd (3.272, 0.0, 9.815) [0.25, 0.0, 0.75]\n",
       "PeriodicSite: Cd (3.272, 6.543, 3.272) [0.25, 0.5, 0.25]\n",
       "PeriodicSite: Cd (3.272, 6.543, 9.815) [0.25, 0.5, 0.75]\n",
       "PeriodicSite: Cd (9.815, 0.0, 3.272) [0.75, 0.0, 0.25]\n",
       "PeriodicSite: Cd (9.815, 0.0, 9.815) [0.75, 0.0, 0.75]\n",
       "PeriodicSite: Cd (9.815, 6.543, 3.272) [0.75, 0.5, 0.25]\n",
       "PeriodicSite: Cd (9.815, 6.543, 9.815) [0.75, 0.5, 0.75]\n",
       "PeriodicSite: Cd (3.272, 3.272, 0.0) [0.25, 0.25, 0.0]\n",
       "PeriodicSite: Cd (3.272, 3.272, 6.543) [0.25, 0.25, 0.5]\n",
       "PeriodicSite: Cd (3.272, 9.815, 0.0) [0.25, 0.75, 0.0]\n",
       "PeriodicSite: Cd (3.272, 9.815, 6.543) [0.25, 0.75, 0.5]\n",
       "PeriodicSite: Cd (9.815, 3.272, 0.0) [0.75, 0.25, 0.0]\n",
       "PeriodicSite: Cd (9.815, 3.272, 6.543) [0.75, 0.25, 0.5]\n",
       "PeriodicSite: Cd (9.815, 9.815, 0.0) [0.75, 0.75, 0.0]\n",
       "PeriodicSite: Cd (9.815, 9.815, 6.543) [0.75, 0.75, 0.5]\n",
       "PeriodicSite: Te (1.636, 1.636, 4.908) [0.125, 0.125, 0.375]\n",
       "PeriodicSite: Te (1.636, 1.636, 11.45) [0.125, 0.125, 0.875]\n",
       "PeriodicSite: Te (1.636, 8.179, 4.908) [0.125, 0.625, 0.375]\n",
       "PeriodicSite: Te (1.636, 8.179, 11.45) [0.125, 0.625, 0.875]\n",
       "PeriodicSite: Te (8.179, 1.636, 4.908) [0.625, 0.125, 0.375]\n",
       "PeriodicSite: Te (8.179, 1.636, 11.45) [0.625, 0.125, 0.875]\n",
       "PeriodicSite: Te (8.179, 8.179, 4.908) [0.625, 0.625, 0.375]\n",
       "PeriodicSite: Te (8.179, 8.179, 11.45) [0.625, 0.625, 0.875]\n",
       "PeriodicSite: Te (1.636, 4.908, 1.636) [0.125, 0.375, 0.125]\n",
       "PeriodicSite: Te (1.636, 4.908, 8.179) [0.125, 0.375, 0.625]\n",
       "PeriodicSite: Te (1.636, 11.45, 1.636) [0.125, 0.875, 0.125]\n",
       "PeriodicSite: Te (1.636, 11.45, 8.179) [0.125, 0.875, 0.625]\n",
       "PeriodicSite: Te (8.179, 4.908, 1.636) [0.625, 0.375, 0.125]\n",
       "PeriodicSite: Te (8.179, 4.908, 8.179) [0.625, 0.375, 0.625]\n",
       "PeriodicSite: Te (8.179, 11.45, 1.636) [0.625, 0.875, 0.125]\n",
       "PeriodicSite: Te (8.179, 11.45, 8.179) [0.625, 0.875, 0.625]\n",
       "PeriodicSite: Te (4.908, 1.636, 1.636) [0.375, 0.125, 0.125]\n",
       "PeriodicSite: Te (4.908, 1.636, 8.179) [0.375, 0.125, 0.625]\n",
       "PeriodicSite: Te (4.908, 8.179, 1.636) [0.375, 0.625, 0.125]\n",
       "PeriodicSite: Te (4.908, 8.179, 8.179) [0.375, 0.625, 0.625]\n",
       "PeriodicSite: Te (11.45, 1.636, 1.636) [0.875, 0.125, 0.125]\n",
       "PeriodicSite: Te (11.45, 1.636, 8.179) [0.875, 0.125, 0.625]\n",
       "PeriodicSite: Te (11.45, 8.179, 1.636) [0.875, 0.625, 0.125]\n",
       "PeriodicSite: Te (11.45, 8.179, 8.179) [0.875, 0.625, 0.625]\n",
       "PeriodicSite: Te (4.908, 4.908, 4.908) [0.375, 0.375, 0.375]\n",
       "PeriodicSite: Te (4.908, 4.908, 11.45) [0.375, 0.375, 0.875]\n",
       "PeriodicSite: Te (4.908, 11.45, 4.908) [0.375, 0.875, 0.375]\n",
       "PeriodicSite: Te (4.908, 11.45, 11.45) [0.375, 0.875, 0.875]\n",
       "PeriodicSite: Te (11.45, 4.908, 4.908) [0.875, 0.375, 0.375]\n",
       "PeriodicSite: Te (11.45, 4.908, 11.45) [0.875, 0.375, 0.875]\n",
       "PeriodicSite: Te (11.45, 11.45, 4.908) [0.875, 0.875, 0.375]\n",
       "PeriodicSite: Te (11.45, 11.45, 11.45) [0.875, 0.875, 0.875]"
      ]
     },
     "execution_count": 3,
     "metadata": {},
     "output_type": "execute_result"
    }
   ],
   "source": [
    "output['undistorted_structure']"
   ]
  },
  {
   "cell_type": "code",
   "execution_count": 6,
   "metadata": {},
   "outputs": [
    {
     "data": {
      "text/plain": [
       "'Cd31 Te32\\n1.0\\n  13.0867679999999993    0.0000000000000000    0.0000000000000000\\n   0.0000000000000000   13.0867679999999993    0.0000000000000000\\n   0.0000000000000000    0.0000000000000000   13.0867679999999993\\nCd Te\\n31 32\\ndirect\\n   0.0000000000000000    0.0000000000000000    0.5000000000000000 Cd\\n   0.0000000000000000    0.5000000000000000    0.0000000000000000 Cd\\n   0.0000000000000000    0.5000000000000000    0.5000000000000000 Cd\\n   0.5000000000000000    0.0000000000000000    0.0000000000000000 Cd\\n   0.5000000000000000    0.0000000000000000    0.5000000000000000 Cd\\n   0.5000000000000000    0.5000000000000000    0.0000000000000000 Cd\\n   0.5000000000000000    0.5000000000000000    0.5000000000000000 Cd\\n   0.0000000000000000    0.2500000000000000    0.2500000000000000 Cd\\n   0.0000000000000000    0.2500000000000000    0.7500000000000000 Cd\\n   0.0000000000000000    0.7500000000000000    0.2500000000000000 Cd\\n   0.0000000000000000    0.7500000000000000    0.7500000000000000 Cd\\n   0.5000000000000000    0.2500000000000000    0.2500000000000000 Cd\\n   0.5000000000000000    0.2500000000000000    0.7500000000000000 Cd\\n   0.5000000000000000    0.7500000000000000    0.2500000000000000 Cd\\n   0.5000000000000000    0.7500000000000000    0.7500000000000000 Cd\\n   0.2500000000000000    0.0000000000000000    0.2500000000000000 Cd\\n   0.2500000000000000    0.0000000000000000    0.7500000000000000 Cd\\n   0.2500000000000000    0.5000000000000000    0.2500000000000000 Cd\\n   0.2500000000000000    0.5000000000000000    0.7500000000000000 Cd\\n   0.7500000000000000    0.0000000000000000    0.2500000000000000 Cd\\n   0.7500000000000000    0.0000000000000000    0.7500000000000000 Cd\\n   0.7500000000000000    0.5000000000000000    0.2500000000000000 Cd\\n   0.7500000000000000    0.5000000000000000    0.7500000000000000 Cd\\n   0.2500000000000000    0.2500000000000000    0.0000000000000000 Cd\\n   0.2500000000000000    0.2500000000000000    0.5000000000000000 Cd\\n   0.2500000000000000    0.7500000000000000    0.0000000000000000 Cd\\n   0.2500000000000000    0.7500000000000000    0.5000000000000000 Cd\\n   0.7500000000000000    0.2500000000000000    0.0000000000000000 Cd\\n   0.7500000000000000    0.2500000000000000    0.5000000000000000 Cd\\n   0.7500000000000000    0.7500000000000000    0.0000000000000000 Cd\\n   0.7500000000000000    0.7500000000000000    0.5000000000000000 Cd\\n   0.1250000000000000    0.1250000000000000    0.3750000000000000 Te\\n   0.1250000000000000    0.1250000000000000    0.8749999999999999 Te\\n   0.1250000000000000    0.6250000000000000    0.3750000000000000 Te\\n   0.1250000000000000    0.6250000000000000    0.8749999999999999 Te\\n   0.6250000000000000    0.1250000000000000    0.3750000000000000 Te\\n   0.6250000000000000    0.1250000000000000    0.8749999999999999 Te\\n   0.6250000000000000    0.6250000000000000    0.3750000000000000 Te\\n   0.6250000000000000    0.6250000000000000    0.8749999999999999 Te\\n   0.1250000000000000    0.3750000000000000    0.1250000000000000 Te\\n   0.1250000000000000    0.3750000000000000    0.6250000000000000 Te\\n   0.1250000000000000    0.8749999999999999    0.1250000000000000 Te\\n   0.1250000000000000    0.8749999999999999    0.6250000000000000 Te\\n   0.6250000000000000    0.3750000000000000    0.1250000000000000 Te\\n   0.6250000000000000    0.3750000000000000    0.6250000000000000 Te\\n   0.6250000000000000    0.8749999999999999    0.1250000000000000 Te\\n   0.6250000000000000    0.8749999999999999    0.6250000000000000 Te\\n   0.3750000000000000    0.1250000000000000    0.1250000000000000 Te\\n   0.3750000000000000    0.1250000000000000    0.6250000000000000 Te\\n   0.3750000000000000    0.6250000000000000    0.1250000000000000 Te\\n   0.3750000000000000    0.6250000000000000    0.6250000000000000 Te\\n   0.8749999999999999    0.0540321935245239    0.0540321935245239 Te\\n   0.8749999999999999    0.1250000000000000    0.6250000000000000 Te\\n   0.8749999999999999    0.6250000000000000    0.1250000000000000 Te\\n   0.8749999999999999    0.6250000000000000    0.6250000000000000 Te\\n   0.3750000000000000    0.3750000000000000    0.3750000000000000 Te\\n   0.3750000000000000    0.3750000000000000    0.8749999999999999 Te\\n   0.3750000000000000    0.8749999999999999    0.3750000000000000 Te\\n   0.3750000000000000    0.8749999999999999    0.8749999999999999 Te\\n   0.8749999999999999    0.3750000000000000    0.3750000000000000 Te\\n   0.8749999999999999    0.3750000000000000    0.8749999999999999 Te\\n   0.8749999999999999    0.8749999999999999    0.3750000000000000 Te\\n   0.8749999999999999    0.9459678064754760    0.9459678064754760 Te\\n'"
      ]
     },
     "execution_count": 6,
     "metadata": {},
     "output_type": "execute_result"
    }
   ],
   "source": [
    "output['distorted_structure'].to(fmt=\"poscar\", filename=os.path.join(VASP_CDTE_DATA_DIR, \"CdTe_V_Cd_Dimer_Distortion_Unrattled_POSCAR\"))"
   ]
  },
  {
   "cell_type": "code",
   "execution_count": 8,
   "metadata": {},
   "outputs": [
    {
     "data": {
      "text/plain": [
       "63"
      ]
     },
     "execution_count": 8,
     "metadata": {},
     "output_type": "execute_result"
    }
   ],
   "source": [
    "len(output['distorted_structure'])"
   ]
  },
  {
   "cell_type": "code",
   "execution_count": 5,
   "metadata": {},
   "outputs": [
    {
     "name": "stdout",
     "output_type": "stream",
     "text": [
      "Te(51): {'Te(62)': '2.0 A'} \n",
      "\n"
     ]
    },
    {
     "data": {
      "text/plain": [
       "{'Te(51)': {'Te(62)': '2.0 A'}}"
      ]
     },
     "execution_count": 5,
     "metadata": {},
     "output_type": "execute_result"
    }
   ],
   "source": [
    "from shakenbreak.analysis import get_homoionic_bonds\n",
    "\n",
    "get_homoionic_bonds(output['distorted_structure'],elements=[\"Te\",])"
   ]
  },
  {
   "cell_type": "markdown",
   "metadata": {},
   "source": [
    "# Test input"
   ]
  },
  {
   "cell_type": "code",
   "execution_count": 14,
   "metadata": {},
   "outputs": [],
   "source": [
    "from shakenbreak.distortions import apply_dimer_distortion\n",
    "from pymatgen.core.structure import Structure\n",
    "import os\n",
    "\n",
    "VASP_CDTE_DATA_DIR= \"./tests/data/vasp/CdTe\"\n",
    "struc = Structure.from_file(os.path.join(VASP_CDTE_DATA_DIR, \"CdTe_V_Cd_POSCAR\"))"
   ]
  },
  {
   "cell_type": "code",
   "execution_count": 19,
   "metadata": {},
   "outputs": [],
   "source": [
    "from shakenbreak import input\n",
    "from monty.serialization import loadfn\n",
    "\n",
    "CdTe_bulk_struc = Structure.from_file(\n",
    "    os.path.join(VASP_CDTE_DATA_DIR, \"CdTe_Bulk_Supercell_POSCAR\")\n",
    ")\n",
    "\n",
    "cdte_doped_defect_dict = loadfn(\n",
    "    os.path.join(VASP_CDTE_DATA_DIR, \"CdTe_defects_dict.json\")\n",
    ")\n",
    "cdte_doped_reduced_defect_gen = loadfn(\n",
    "    os.path.join(VASP_CDTE_DATA_DIR, \"reduced_CdTe_defect_gen.json\")\n",
    ")\n",
    "cdte_defects = {}\n",
    "# Refactor to dict of DefectEntrys objects, with doped/PyCDT names\n",
    "for defects_type, defect_dict_list in cdte_doped_defect_dict.items():\n",
    "    if \"bulk\" not in defects_type:\n",
    "        for defect_dict in defect_dict_list:\n",
    "            cdte_defects[defect_dict[\"name\"]] = [\n",
    "                input._get_defect_entry_from_defect(\n",
    "                    defect=input.generate_defect_object(\n",
    "                        single_defect_dict=defect_dict,\n",
    "                        bulk_dict=cdte_doped_defect_dict[\"bulk\"],\n",
    "                    ),\n",
    "                    charge_state=charge,\n",
    "                )\n",
    "                for charge in defect_dict[\"charges\"]\n",
    "            ]\n",
    "cdte_defect_list = sum(list(cdte_defects.values()), [])\n",
    "V_Cd_dict = cdte_doped_defect_dict[\"vacancies\"][0]\n",
    "Int_Cd_2_dict = cdte_doped_defect_dict[\"interstitials\"][1]\n",
    "# Refactor to Defect() objects\n",
    "V_Cd = input.generate_defect_object(\n",
    "    V_Cd_dict, cdte_doped_defect_dict[\"bulk\"]\n",
    ")\n",
    "V_Cd_entry = input._get_defect_entry_from_defect(\n",
    "    V_Cd, V_Cd.user_charges[0]\n",
    ")"
   ]
  },
  {
   "cell_type": "code",
   "execution_count": 22,
   "metadata": {},
   "outputs": [],
   "source": [
    "import numpy as np\n",
    "\n",
    "V_Cd_struc = Structure.from_file(\n",
    "    os.path.join(VASP_CDTE_DATA_DIR, \"CdTe_V_Cd_POSCAR\")\n",
    ")\n",
    "sorted_distances = np.sort(V_Cd_struc.distance_matrix.flatten())\n",
    "d_min = 0.8 * sorted_distances[len(V_Cd_struc) + 20]\n",
    "V_Cd_distorted_dict = input._apply_rattle_bond_distortions(\n",
    "    V_Cd_entry,\n",
    "    num_nearest_neighbours=2,\n",
    "    distortion_factor=\"dimer\",\n",
    "    d_min=d_min,\n",
    "    verbose=True,\n",
    "    stdev=0.25,\n",
    ")"
   ]
  },
  {
   "cell_type": "code",
   "execution_count": 23,
   "metadata": {},
   "outputs": [
    {
     "data": {
      "text/plain": [
       "dict_keys(['distorted_structure', 'num_distorted_neighbours', 'distorted_atoms', 'undistorted_structure', 'defect_frac_coords'])"
      ]
     },
     "execution_count": 23,
     "metadata": {},
     "output_type": "execute_result"
    }
   ],
   "source": [
    "V_Cd_distorted_dict.keys()"
   ]
  },
  {
   "cell_type": "code",
   "execution_count": 26,
   "metadata": {},
   "outputs": [
    {
     "data": {
      "text/plain": [
       "'Cd31 Te32\\n1.0\\n  13.0867679999999993    0.0000000000000000    0.0000000000000000\\n   0.0000000000000000   13.0867679999999993    0.0000000000000000\\n   0.0000000000000000    0.0000000000000000   13.0867679999999993\\nCd Te\\n31 32\\ndirect\\n   0.0156871194840353    0.0168499172361065    0.5013659606570436 Cd2+\\n   0.0271500115668686    0.4957262246093266    0.0100224763679073 Cd2+\\n  -0.0014495703722099    0.4980731524352150    0.4781192167960491 Cd2+\\n   0.4722094233480639    0.0200506294364088   -0.0182692230473816 Cd2+\\n   0.4885585281400621   -0.0053878728738825    0.4817673004644190 Cd2+\\n   0.5056282073490231    0.5186277985499153   -0.0269746115858607 Cd2+\\n   0.4801688502186689    0.5257243960661042    0.5248055377787585 Cd2+\\n  -0.0348316368950783    0.2728944316714810    0.2387460475061252 Cd2+\\n  -0.0105745472528089    0.2665553322767636    0.7249704332381200 Cd2+\\n  -0.0075690729980406    0.7073232895687733    0.2540302118175998 Cd2+\\n  -0.0050910397377601    0.7355423155760010    0.7679544090557621 Cd2+\\n   0.5005816366983870    0.2820536382478840    0.2335402909392014 Cd2+\\n   0.5164511376504562    0.2542450219488173    0.7322823716342084 Cd2+\\n   0.5070828585054892    0.7526462759552357    0.2894765820190052 Cd2+\\n   0.5049584993998797    0.7681671971948304    0.7591942235932660 Cd2+\\n   0.2314439007613033   -0.0139691580327037    0.2710898637591607 Cd2+\\n   0.2376369130393935    0.0053687944240744    0.7381653011727750 Cd2+\\n   0.2718374045812695    0.4922892243165773    0.2451784226567301 Cd2+\\n   0.2622947472228113    0.5173549697162710    0.7260213390066484 Cd2+\\n   0.7421013906143455   -0.0369394254180139    0.2601101761807642 Cd2+\\n   0.7643010257290317    0.0082559723869255    0.7375144675771959 Cd2+\\n   0.7772298637541588    0.5061737877891480    0.2418884425731874 Cd2+\\n   0.7112919524310897    0.4891818031292686    0.7452862206392076 Cd2+\\n   0.2597626037064264    0.2654750359385809   -0.0138178746240745 Cd2+\\n   0.2856911389734074    0.2667607419061732    0.4824379442736103 Cd2+\\n   0.2553308492327366    0.7324121579095495   -0.0270836224755171 Cd2+\\n   0.2877874281235570    0.7210962747120893    0.4960596434321737 Cd2+\\n   0.7756092046801939    0.2696741257630375   -0.0094615087069471 Cd2+\\n   0.7674603327148890    0.2433936502088358    0.5342582586445987 Cd2+\\n   0.7659806984052299    0.7592741823626890    0.0084426299687161 Cd2+\\n   0.7451092426178079    0.7523250438453772    0.4937354606915620 Cd2+\\n   0.1187568485774295    0.1507937162676332    0.3762100856753475 Te2-\\n   0.1312359429836720    0.1328551962041555    0.9202598135720425 Te2-\\n   0.1128884079346265    0.6182951658040680    0.3473039496781265 Te2-\\n   0.1315797807618614    0.6225939184343635    0.8700339946167042 Te2-\\n   0.6283847628206453    0.1104322706926303    0.3462095332815449 Te2-\\n   0.6231233285696897    0.1431785472589133    0.8803636878306192 Te2-\\n   0.6132648937495118    0.6443581611601850    0.3924510477913719 Te2-\\n   0.6271436363496584    0.6167078405828447    0.8527871928487835 Te2-\\n   0.1273727892891333    0.3919108640973764    0.1439967743041993 Te2-\\n   0.1141821228674018    0.3715100179204548    0.6127261640254006 Te2-\\n   0.1173411386799441    0.8870697863654669    0.0681915310744819 Te2-\\n   0.1575630076145119    0.8519631496831680    0.5913649039501945 Te2-\\n   0.6082245405973820    0.3839467110079552    0.1129579011512159 Te2-\\n   0.6252520424249853    0.3639435370678827    0.5933896303873651 Te2-\\n   0.6560941606888189    0.8579088993238950    0.1114096916911318 Te2-\\n   0.6386215189674254    0.8782996437744818    0.6183416726189549 Te2-\\n   0.3691659245140350    0.1150467855183059    0.1518612689124705 Te2-\\n   0.3803128561907226    0.1426243580437952    0.6395882828468022 Te2-\\n   0.3947428748509966    0.6398822065520391    0.0971153956045202 Te2-\\n   0.3750000000000000    0.6250000000000000    0.6250000000000000 Te2-\\n   0.8975517329778733    0.0479069033959441    0.0927849932342861 Te2-\\n   0.8958653442608970    0.1243931913490970    0.6052705997044724 Te2-\\n   0.8662709695677386    0.6264704742842300    0.1299247251675607 Te2-\\n   0.8694061068288607    0.6014102855379397    0.6172289000223002 Te2-\\n   0.3903631884266203    0.3750040440301268    0.3693633479218935 Te2-\\n   0.3840986630527822    0.3765797318809899    0.8701975112891386 Te2-\\n   0.3794827130771702    0.8854032160195859    0.3674836864650987 Te2-\\n   0.3917242540183349    0.8543409397301263    0.8784352524394520 Te2-\\n   0.8817775378020919    0.3813543713889261    0.4031743957535139 Te2-\\n   0.8794108581844571    0.3946822747640026    0.8757006722884800 Te2-\\n   0.8749999999999999    0.8749999999999999    0.3750000000000000 Te2-\\n   0.8539818238484530    0.9657359971042676    0.9006515870041598 Te2-\\n'"
      ]
     },
     "execution_count": 26,
     "metadata": {},
     "output_type": "execute_result"
    }
   ],
   "source": [
    "V_Cd_distorted_dict[\"distorted_structure\"].to(\n",
    "    fmt=\"poscar\", filename=os.path.join(VASP_CDTE_DATA_DIR, \"CdTe_V_Cd_Dimer_Rattled_0pt25_POSCAR\")\n",
    ")"
   ]
  },
  {
   "cell_type": "code",
   "execution_count": null,
   "metadata": {},
   "outputs": [],
   "source": []
  }
 ],
 "metadata": {
  "kernelspec": {
   "display_name": "pmg",
   "language": "python",
   "name": "python3"
  },
  "language_info": {
   "codemirror_mode": {
    "name": "ipython",
    "version": 3
   },
   "file_extension": ".py",
   "mimetype": "text/x-python",
   "name": "python",
   "nbconvert_exporter": "python",
   "pygments_lexer": "ipython3",
   "version": "3.9.17"
  }
 },
 "nbformat": 4,
 "nbformat_minor": 2
}
