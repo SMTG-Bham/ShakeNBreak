{
 "cells": [
  {
   "metadata": {},
   "cell_type": "markdown",
   "source": "# `ShakeNBreak` for Polarons",
   "id": "3e24654bd0573f2f"
  },
  {
   "metadata": {},
   "cell_type": "markdown",
   "source": "## `ShakeNBreak` applied to polarons in CuSbSe₂",
   "id": "cedaac0b76148654"
  },
  {
   "metadata": {},
   "cell_type": "markdown",
   "source": [
    "In this tutorial, we use `ShakeNBreak` (`SnB`) to apply bond distortions and rattling to aid location of small polaron geometries in CuSbSe₂ (a [candidate solar cell material](https://www.nature.com/articles/s41467-024-55254-2)). In this example case, we will:\n",
    "\n",
    "- Apply rattling and bond distortions to atoms to break symmetry and favour polaronic localisation.\n",
    "- Add an electron/hole (using `NELECT`) and an unpaired spin (`NUPDOWN=1`) to the system.\n",
    "- Generate a set of `VASP` input files to relax and post-process.\n",
    "\n",
    "Reference:\n",
    "- Fu<sup>‡</sup> & Lohan<sup>‡</sup> et al. [Structural and electronic features enabling delocalized charge-carriers in CuSbSe₂](https://www.nature.com/articles/s41467-024-55254-2)  _Nature Communications_ 2025"
   ],
   "id": "cbb51df2872e82ec"
  },
  {
   "metadata": {},
   "cell_type": "markdown",
   "source": [
    "```{note}\n",
    "Searching for stable distorted polaron geometries in this way is very similar to the original [bond distortion method](https://pubs.acs.org/doi/abs/10.1021/acs.jctc.0c00374) introduced by Deskins et al. (upon which much of the defect structure-searching methodology in `ShakeNBreak` was inspired), with some additional benefits from partially-constrained Monte Carlo atomic rattling to break symmetry and further favour lower-energy localised solutions.\n",
    "\n",
    "Please cite the original [bond distortion method](https://pubs.acs.org/doi/abs/10.1021/acs.jctc.0c00374) if using this approach to search for polaron structures!\n",
    "```"
   ],
   "id": "f5385b5ad838dcb5"
  },
  {
   "metadata": {},
   "cell_type": "markdown",
   "source": "#### Rationale for bond distortion workflow with polarons",
   "id": "13ccb32fe74d852e"
  },
  {
   "metadata": {},
   "cell_type": "markdown",
   "source": [
    "Polarons, much like point defects, often result in atom-centred structural distortions along with a change in the local charge density.\n",
    "As there may be a finite energy barrier between the undistorted free-electron case and distorted polaronic groundstate, it is usually necessary to perturb the\n",
    "system in some way before it will fall into a localised groundstate (if one exists)."
   ],
   "id": "da7fd90a15191b42"
  },
  {
   "metadata": {
    "ExecuteTime": {
     "end_time": "2025-02-06T21:02:37.062444Z",
     "start_time": "2025-02-06T21:02:36.050564Z"
    }
   },
   "cell_type": "code",
   "source": [
    "from pymatgen.core.structure import Structure\n",
    "\n",
    "bulk_supercell = Structure.from_file(\"CuSbSe2_POSCAR\")  # load our bulk supercell structure"
   ],
   "id": "cd4c6f5ffbd0a3d8",
   "outputs": [],
   "execution_count": 1
  },
  {
   "metadata": {},
   "cell_type": "markdown",
   "source": "### Simple Approach: Rattling",
   "id": "169b635fb4ef9c0d"
  },
  {
   "metadata": {},
   "cell_type": "markdown",
   "source": "For the most simple first step, we can apply atomic rattling (random perturbation of all atomic positions using a bond-length-dependent Gaussian distribution with a Monte Carlo algorithm; see [docstring](https://shakenbreak.readthedocs.io/en/latest/shakenbreak.distortions.html#shakenbreak.distortions.rattle)) to break the symmetry of the system and disrupt the long-range lattice potential, which often can be sufficient to identify a localised polaronic groundstate -- particularly in cases of strong trapping.",
   "id": "a853eca01f35be95"
  },
  {
   "metadata": {
    "ExecuteTime": {
     "end_time": "2025-02-06T21:02:38.562404Z",
     "start_time": "2025-02-06T21:02:37.066241Z"
    }
   },
   "cell_type": "code",
   "source": [
    "from shakenbreak.distortions import rattle\n",
    "\n",
    "rattled_supercell = rattle(bulk_supercell)\n",
    "# note there are many options we can use with ``rattle()`` to alter the rattling process\n",
    "# (see https://shakenbreak.readthedocs.io/en/latest/shakenbreak.distortions.html#shakenbreak.distortions.rattle; e.g. ``stdev``)\n",
    "# but the default settings are usually good for the vast majority of cases"
   ],
   "id": "99f408b66da05e2a",
   "outputs": [],
   "execution_count": 2
  },
  {
   "metadata": {},
   "cell_type": "markdown",
   "source": "### Bond Distortions",
   "id": "9110719458898183"
  },
  {
   "metadata": {},
   "cell_type": "markdown",
   "source": "In many cases however, rattling will not be sufficient on its own to locate polaronic geometries, and so we can apply targeted bond distortions to specific lattice sites to encourage localisation, using the distortions code in `ShakeNBreak`.",
   "id": "762a882a68c89cf"
  },
  {
   "metadata": {},
   "cell_type": "markdown",
   "source": "First, let's determine the different symmetry-inequivalent sites in our material. We can do this using the `SpacegroupAnalyzer` class in `pymatgen`:",
   "id": "bfe481a941f5f1fd"
  },
  {
   "metadata": {
    "ExecuteTime": {
     "end_time": "2025-02-06T21:02:38.610886Z",
     "start_time": "2025-02-06T21:02:38.599056Z"
    }
   },
   "cell_type": "code",
   "source": [
    "from pymatgen.symmetry.analyzer import SpacegroupAnalyzer\n",
    "\n",
    "sga = SpacegroupAnalyzer(bulk_supercell)\n",
    "sga.get_symmetrized_structure()  # 1 symmetry-inequivalent Cu site, 1 Sb site, 2 Se sites"
   ],
   "id": "ac3045a334f8208e",
   "outputs": [
    {
     "data": {
      "text/plain": [
       "SymmetrizedStructure\n",
       "Full Formula (Cu16 Sb16 Se32)\n",
       "Reduced Formula: CuSbSe2\n",
       "Spacegroup: Pnma (62)\n",
       "abc   :  10.334277  10.334277  16.265031\n",
       "angles:  75.639685  75.639685 102.667344\n",
       "Sites (64)\n",
       "  #  SP           a         b         c  Wyckoff\n",
       "---  ----  --------  --------  --------  ---------\n",
       "  0  Cu    0.603183  0.978183  0.670123  16c\n",
       "  1  Sb    0.727246  0.102246  0.442623  16c\n",
       "  2  Se    0.287447  0.412448  0.175795  16c\n",
       "  3  Se    0.047292  0.422292  0.403673  16c"
      ]
     },
     "execution_count": 3,
     "metadata": {},
     "output_type": "execute_result"
    }
   ],
   "execution_count": 3
  },
  {
   "metadata": {},
   "cell_type": "markdown",
   "source": "Or we can quickly use `doped` to do this as well, which generates vacancies/antisites at each inequivalent site (and thus shows 1 symmetry-inequivalent Cu site, 1 Sb site and 2 Se sites also):",
   "id": "749b721c4335f532"
  },
  {
   "metadata": {
    "ExecuteTime": {
     "end_time": "2025-02-06T21:03:08.033108Z",
     "start_time": "2025-02-06T21:03:03.438140Z"
    }
   },
   "cell_type": "code",
   "source": [
    "from doped.generation import DefectsGenerator\n",
    "\n",
    "defect_gen = DefectsGenerator(  # no interstitials, don't generate supercell\n",
    "    bulk_supercell, interstitial_gen_kwargs=False, generate_supercell=False\n",
    ")"
   ],
   "id": "8e93fe2ea20169d1",
   "outputs": [
    {
     "name": "stderr",
     "output_type": "stream",
     "text": [
      "Generating DefectEntry objects: 100.0%|██████████| [00:04,  21.82it/s]"
     ]
    },
    {
     "name": "stdout",
     "output_type": "stream",
     "text": [
      "Vacancies       Guessed Charges    Conv. Cell Coords    Wyckoff\n",
      "--------------  -----------------  -------------------  ---------\n",
      "v_Cu            [+1,0,-1]          [0.248,0.250,0.170]  4c\n",
      "v_Sb            [+1,0,-1,-2,-3]    [0.272,0.750,0.443]  4c\n",
      "v_Se_Cs_Cu2.41  [+2,+1,0,-1]       [0.376,0.250,0.324]  4c\n",
      "v_Se_Cs_Cu2.44  [+2,+1,0,-1]       [0.127,0.250,0.596]  4c\n",
      "\n",
      "Substitutions    Guessed Charges              Conv. Cell Coords    Wyckoff\n",
      "---------------  ---------------------------  -------------------  ---------\n",
      "Cu_Sb            [0,-1,-2]                    [0.272,0.750,0.443]  4c\n",
      "Cu_Se_Cs_Cu2.41  [+4,+3,+2,+1,0]              [0.376,0.250,0.324]  4c\n",
      "Cu_Se_Cs_Cu2.44  [+4,+3,+2,+1,0]              [0.127,0.250,0.596]  4c\n",
      "Sb_Cu            [+4,+3,+2,+1,0,-1,-2,-3,-4]  [0.248,0.250,0.170]  4c\n",
      "Sb_Se_Cs_Cu2.41  [+7,+6,+5,+4,+3,+2,+1,0,-1]  [0.376,0.250,0.324]  4c\n",
      "Sb_Se_Cs_Cu2.44  [+7,+6,+5,+4,+3,+2,+1,0,-1]  [0.127,0.250,0.596]  4c\n",
      "Se_Cu            [+3,+2,+1,0,-1,-2,-3]        [0.248,0.250,0.170]  4c\n",
      "Se_Sb            [+1,0,-1,-2,-3,-4,-5]        [0.272,0.750,0.443]  4c\n",
      "\n",
      "The number in the Wyckoff label is the site multiplicity/degeneracy of that defect in the conventional ('conv.') unit cell, which comprises 4 formula unit(s) of CuSbSe2.\n",
      "\n"
     ]
    },
    {
     "name": "stderr",
     "output_type": "stream",
     "text": [
      "\n"
     ]
    }
   ],
   "execution_count": 11
  },
  {
   "metadata": {},
   "cell_type": "markdown",
   "source": [
    "Hole/electron polarons will typically localise in the orbitals which make up the VBM/CBM of the material, as these are (initially) the lowest energy states available for these charge carriers.\n",
    "\n",
    "In CuSbSe₂, the VBM is primarily composed of Se p and Cu d orbitals, so we will target Se-centred and Cu-centred distortions for a hole polaron example here."
   ],
   "id": "5872bea30c37cc04"
  },
  {
   "metadata": {},
   "cell_type": "markdown",
   "source": "First we get the atomic site we're going to distort around:",
   "id": "e3079616ffc7592a"
  },
  {
   "metadata": {
    "ExecuteTime": {
     "end_time": "2025-02-06T21:02:45.894728Z",
     "start_time": "2025-02-06T21:02:45.892182Z"
    }
   },
   "cell_type": "code",
   "source": [
    "from pymatgen.core.sites import PeriodicSite\n",
    "PeriodicSite.position_atol = 1e-3  # update position tol to ensure site-matching works\n",
    "Cu_site_idx = bulk_supercell.sites.index(defect_gen[\"v_Cu_0\"].defect_supercell_site)"
   ],
   "id": "dc83942b5fb41583",
   "outputs": [],
   "execution_count": 5
  },
  {
   "metadata": {},
   "cell_type": "markdown",
   "source": "Then we can generate the distorted structures. Let's try +/-40% bond length distortions (i.e. expansion and contraction) around this lattice site:",
   "id": "ab09dfe09a21b3d6"
  },
  {
   "metadata": {
    "ExecuteTime": {
     "end_time": "2025-02-06T21:02:45.945983Z",
     "start_time": "2025-02-06T21:02:45.903344Z"
    }
   },
   "cell_type": "code",
   "source": [
    "from shakenbreak.distortions import distort_and_rattle\n",
    "\n",
    "trial_hole_polaron_supercells = {f\"Cu_{distortion_factor:+.1%}\": distort_and_rattle(\n",
    "    structure=bulk_supercell,\n",
    "    site_index=Cu_site_idx,\n",
    "    num_nearest_neighbours=4,  # let's distort the 4 nearest neighbours\n",
    "    distortion_factor=distortion_factor,\n",
    ")[\"distorted_structure\"] for distortion_factor in [-0.4, 0.4]}"
   ],
   "id": "e7e5378b189534cc",
   "outputs": [],
   "execution_count": 6
  },
  {
   "metadata": {},
   "cell_type": "markdown",
   "source": "And for Se-centred distortions:",
   "id": "c4d4fea15da9ff8b"
  },
  {
   "metadata": {
    "ExecuteTime": {
     "end_time": "2025-02-06T21:02:45.958219Z",
     "start_time": "2025-02-06T21:02:45.955131Z"
    }
   },
   "cell_type": "code",
   "source": [
    "# Se sites: v_Se_Cs_Cu2.41 & v_Se_Cs_Cu2.44\n",
    "Se_Cs_Cu2pt41_site_idx = bulk_supercell.sites.index(defect_gen[\"v_Se_Cs_Cu2.41_0\"].defect_supercell_site)\n",
    "Se_Cs_Cu2pt44_site_idx = bulk_supercell.sites.index(defect_gen[\"v_Se_Cs_Cu2.44_0\"].defect_supercell_site)"
   ],
   "id": "a661e51b0312266a",
   "outputs": [],
   "execution_count": 7
  },
  {
   "metadata": {
    "ExecuteTime": {
     "end_time": "2025-02-06T21:02:46.046281Z",
     "start_time": "2025-02-06T21:02:45.967618Z"
    }
   },
   "cell_type": "code",
   "source": [
    "trial_hole_polaron_supercells.update({f\"Se_Cs_Cu2.41_{distortion_factor:+.1%}\": distort_and_rattle(\n",
    "    structure=bulk_supercell,\n",
    "    site_index=Se_Cs_Cu2pt41_site_idx,\n",
    "    num_nearest_neighbours=4,  # let's distort the 4 nearest neighbours\n",
    "    distortion_factor=distortion_factor,\n",
    ")[\"distorted_structure\"] for distortion_factor in [-0.4, 0.4]})\n",
    "trial_hole_polaron_supercells.update({f\"Se_Cs_Cu2.44_{distortion_factor:+.1%}\": distort_and_rattle(\n",
    "    structure=bulk_supercell,\n",
    "    site_index=Se_Cs_Cu2pt44_site_idx,\n",
    "    num_nearest_neighbours=4,  # let's distort the 4 nearest neighbours\n",
    "    distortion_factor=distortion_factor,\n",
    ")[\"distorted_structure\"] for distortion_factor in [-0.4, 0.4]})"
   ],
   "id": "b9dcb40d92c97fca",
   "outputs": [],
   "execution_count": 8
  },
  {
   "metadata": {},
   "cell_type": "markdown",
   "source": "We can then write these structures to file to run `VASP` polaron-searching calculations on them:",
   "id": "685b41bbba4107c0"
  },
  {
   "metadata": {
    "ExecuteTime": {
     "end_time": "2025-02-06T21:02:46.076138Z",
     "start_time": "2025-02-06T21:02:46.061984Z"
    }
   },
   "cell_type": "code",
   "source": [
    "for name, structure in trial_hole_polaron_supercells.items():\n",
    "    structure.to(fmt=\"POSCAR\", filename=f\"{name}_POSCAR\")"
   ],
   "id": "9a0b9500f50213d3",
   "outputs": [],
   "execution_count": 9
  },
  {
   "metadata": {
    "ExecuteTime": {
     "end_time": "2025-02-06T21:02:46.238326Z",
     "start_time": "2025-02-06T21:02:46.104470Z"
    }
   },
   "cell_type": "code",
   "source": "!ls *_POSCAR  # check the POSCARs have been written",
   "id": "e6a425583594826e",
   "outputs": [
    {
     "name": "stdout",
     "output_type": "stream",
     "text": [
      "CuSbSe2_POSCAR             Se_Cs_Cu2.41_-40.0%_POSCAR\r\n",
      "Cu_+40.0%_POSCAR           Se_Cs_Cu2.44_+40.0%_POSCAR\r\n",
      "Cu_-40.0%_POSCAR           Se_Cs_Cu2.44_-40.0%_POSCAR\r\n",
      "Se_Cs_Cu2.41_+40.0%_POSCAR\r\n"
     ]
    }
   ],
   "execution_count": 10
  },
  {
   "metadata": {},
   "cell_type": "markdown",
   "source": "## Input Files",
   "id": "212c9dde8197eceb"
  },
  {
   "metadata": {},
   "cell_type": "markdown",
   "source": [
    "With our trial distorted supercells, we can then add an electron/hole to the system by increasing/decreasing `NELECT` in the `INCAR` by 1 (relative to a neutral cell calculation), and setting `NUPDOWN=1` to constrain the unpaired spin.\n",
    "\n",
    "The `DopedDictSet`/`DefectDictSet` classes from `doped.vasp` can be used to do this through python, or of course you can manually generate & edit `INCAR`, `KPOINTS` and `POTCAR` files for this.\n",
    "\n",
    " The `NELECT` value for a neutral cell calculation can be obtained from the `OUTCAR` of a previous neutral cell / bulk calculation (or by momentarily running VASP without specifying `NELECT` and looking for `NELECT` in the `OUTCAR`), or by summing the number of valence electrons of each element in the `POTCAR` times their atom count in the supercell.\n",
    "\n",
    "We would then run `VASP` relaxations for these structures, to see if localised polarons are obtained. For this, we would typically compare the final energies to that of a single-shot calculation (no ionic relaxation) of the same supercell with the same `NELECT` (which should give the energy of a delocalised carrier in this supercell), with this energy difference giving an estimate of the polaron binding energy. Of course, the binding energy calculated this way can be sensitive to the supercell size, and so it is recommended to either perform these calculations over multiple supercell sizes and check their convergence / extrapolate to the value at infinite cell size (e.g. see Figs S14,S15 in https://pubs.acs.org/doi/suppl/10.1021/acs.jpclett.2c02436/suppl_file/jz2c02436_si_001.pdf), or employ a charge correction scheme for the localised polaron case (such as the [FNV scheme](https://doi.org/10.1103/PhysRevLett.102.016402) implemented in [doped](https://doped.readthedocs.io)'s codebase or [sxdefectalign](https://sxrepo.mpie.de/attachments/download/73/sxdefectalign-manual.pdf) or that of [Falletta et al.](https://doi.org/10.1103/PhysRevB.102.041115))."
   ],
   "id": "b1af85cf2244d9ea"
  },
  {
   "metadata": {},
   "cell_type": "markdown",
   "source": "## Further Analysis",
   "id": "2c8d32b48c309323"
  },
  {
   "metadata": {},
   "cell_type": "markdown",
   "source": "After comparing the energies of these relaxed supercells, you may want to plot the energies vs distortion and perform further analysis of the electronic densities (e.g. by plotting orbital densities with [PARCHG](https://www.vasp.at/wiki/index.php/PARCHG) outputs, for which the [Wavecar.get_parchg](https://pymatgen.org/pymatgen.io.vasp.html#pymatgen.io.vasp.outputs.Wavecar.get_parchg) function from `pymatgen` is useful, by plotting magnetisation densities using `CHGCAR` files (e.g. in VESTA or CrystalMaker), by analysing the electronic structure (e.g. using `get_eigenvalue_analysis` in `doped`) etc) -- e.g. see Fig. S10 in [Structural and electronic features enabling delocalized charge-carriers in CuSbSe₂](https://www.nature.com/articles/s41467-024-55254-2).",
   "id": "6abdc234ca846f19"
  },
  {
   "metadata": {},
   "cell_type": "markdown",
   "source": "The `hole-finder.py` script provided in the `ShakeNBreak` `docs` directory can be useful for identifying hole states in VASP calculations, for `PARCHG` analysis.",
   "id": "61a8cec047463ee0"
  },
  {
   "metadata": {},
   "cell_type": "code",
   "outputs": [],
   "execution_count": null,
   "source": "",
   "id": "1471e0d6a4ad9074"
  }
 ],
 "metadata": {
  "kernelspec": {
   "display_name": "Python 3",
   "language": "python",
   "name": "python3"
  },
  "language_info": {
   "codemirror_mode": {
    "name": "ipython",
    "version": 2
   },
   "file_extension": ".py",
   "mimetype": "text/x-python",
   "name": "python",
   "nbconvert_exporter": "python",
   "pygments_lexer": "ipython2",
   "version": "2.7.6"
  }
 },
 "nbformat": 4,
 "nbformat_minor": 5
}
